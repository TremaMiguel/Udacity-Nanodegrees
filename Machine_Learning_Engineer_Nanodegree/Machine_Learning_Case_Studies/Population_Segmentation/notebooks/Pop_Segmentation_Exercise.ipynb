{
 "cells": [
  {
   "cell_type": "markdown",
   "metadata": {
    "nbpresent": {
     "id": "62d4851b-e85e-419e-901a-d5c03db59166"
    }
   },
   "source": [
    "# Population Segmentation with SageMaker\n",
    "\n",
    "In this notebook, you'll employ two, unsupervised learning algorithms to do **population segmentation**. Population segmentation aims to **find natural groupings** in population data that **reveal some feature-level similarities between different regions** in the US.\n",
    "\n",
    "Using **principal component analysis** (PCA) you will reduce the dimensionality of the original census data. Then, you'll use **k-means clustering** to assign each US county to a particular cluster based on where a county lies in component space. How each cluster is arranged in component space can tell you which US counties are most similar and what demographic traits define that similarity; this information is most often used to inform targeted, marketing campaigns that want to appeal to a specific group of people. This cluster information is also useful for learning more about a population by revealing patterns between regions that you otherwise may not have noticed.\n",
    "\n",
    "### US Census Data\n",
    "\n",
    "You'll be using data collected by the [US Census](https://en.wikipedia.org/wiki/United_States_Census), which aims to count the US population, recording demographic traits about labor, age, population, and so on, for each county in the US. The bulk of this notebook was taken from an existing SageMaker example notebook and [blog post](https://aws.amazon.com/blogs/machine-learning/analyze-us-census-data-for-population-segmentation-using-amazon-sagemaker/), and I've broken it down further into demonstrations and exercises for you to complete.\n",
    "\n",
    "### Machine Learning Workflow\n",
    "\n",
    "To implement population segmentation, you'll go through a number of steps:\n",
    "* Data loading and exploration\n",
    "* Data cleaning and pre-processing \n",
    "* Dimensionality reduction with PCA\n",
    "* Feature engineering and data transformation\n",
    "* Clustering transformed data with k-means\n",
    "* Extracting trained model attributes and visualizing k clusters\n",
    "\n",
    "These tasks make up a complete, machine learning workflow from data loading and cleaning to model deployment. Each exercise is designed to give you practice with part of the machine learning workflow, and to demonstrate how to use SageMaker tools, such as built-in data management with S3 and built-in algorithms.\n",
    "\n",
    "---"
   ]
  },
  {
   "cell_type": "markdown",
   "metadata": {},
   "source": [
    "First, import the relevant libraries into this SageMaker notebook. "
   ]
  },
  {
   "cell_type": "code",
   "execution_count": 1,
   "metadata": {
    "nbpresent": {
     "id": "41d6f28b-3c7e-4d68-a8cb-4e063ec6fe27"
    }
   },
   "outputs": [],
   "source": [
    "# data managing and display libs\n",
    "import pandas as pd\n",
    "import numpy as np\n",
    "import os\n",
    "import io\n",
    "\n",
    "import matplotlib.pyplot as plt\n",
    "import matplotlib\n",
    "%matplotlib inline "
   ]
  },
  {
   "cell_type": "code",
   "execution_count": 2,
   "metadata": {},
   "outputs": [],
   "source": [
    "# sagemaker libraries\n",
    "import boto3\n",
    "import sagemaker"
   ]
  },
  {
   "cell_type": "markdown",
   "metadata": {},
   "source": [
    "## Loading the Data from Amazon S3\n",
    "\n",
    "This particular dataset is already in an Amazon S3 bucket; you can load the data by pointing to this bucket and getting a data file by name. \n",
    "\n",
    "> You can interact with S3 using a `boto3` client."
   ]
  },
  {
   "cell_type": "code",
   "execution_count": 3,
   "metadata": {},
   "outputs": [],
   "source": [
    "# boto3 client to get S3 data\n",
    "s3_client = boto3.client('s3')\n",
    "bucket_name='aws-ml-blog-sagemaker-census-segmentation'"
   ]
  },
  {
   "cell_type": "markdown",
   "metadata": {},
   "source": [
    "Take a look at the contents of this bucket; get a list of objects that are contained within the bucket and print out the names of the objects. You should see that there is one file, 'Census_Data_for_SageMaker.csv'."
   ]
  },
  {
   "cell_type": "code",
   "execution_count": 4,
   "metadata": {},
   "outputs": [
    {
     "name": "stdout",
     "output_type": "stream",
     "text": [
      "['Census_Data_for_SageMaker.csv']\n"
     ]
    }
   ],
   "source": [
    "# get a list of objects in the bucket\n",
    "obj_list=s3_client.list_objects(Bucket=bucket_name)\n",
    "\n",
    "# print object(s)in S3 bucket\n",
    "files=[]\n",
    "for contents in obj_list['Contents']:\n",
    "    files.append(contents['Key'])\n",
    "    \n",
    "print(files)"
   ]
  },
  {
   "cell_type": "code",
   "execution_count": 5,
   "metadata": {},
   "outputs": [
    {
     "name": "stdout",
     "output_type": "stream",
     "text": [
      "Census_Data_for_SageMaker.csv\n"
     ]
    }
   ],
   "source": [
    "# there is one file --> one key\n",
    "file_name=files[0]\n",
    "\n",
    "print(file_name)"
   ]
  },
  {
   "cell_type": "markdown",
   "metadata": {},
   "source": [
    "Retrieve the data file from the bucket with a call to `client.get_object()`."
   ]
  },
  {
   "cell_type": "code",
   "execution_count": 6,
   "metadata": {},
   "outputs": [
    {
     "data": {
      "text/plain": [
       "{'ResponseMetadata': {'RequestId': '16E9FA523BC30393',\n",
       "  'HostId': 'fb6oTkNJyzYVZyfCb6Zg55z0cGUXqsQyi3pcvhIa5Y9XcDR7ny11Rhawp2wIqJF+ADSJRJRDKaI=',\n",
       "  'HTTPStatusCode': 200,\n",
       "  'HTTPHeaders': {'x-amz-id-2': 'fb6oTkNJyzYVZyfCb6Zg55z0cGUXqsQyi3pcvhIa5Y9XcDR7ny11Rhawp2wIqJF+ADSJRJRDKaI=',\n",
       "   'x-amz-request-id': '16E9FA523BC30393',\n",
       "   'date': 'Thu, 30 Jul 2020 01:40:17 GMT',\n",
       "   'last-modified': 'Wed, 12 Sep 2018 15:13:37 GMT',\n",
       "   'etag': '\"066d37f43f7762f1eb409b1660fe9763\"',\n",
       "   'accept-ranges': 'bytes',\n",
       "   'content-type': 'text/csv',\n",
       "   'content-length': '613237',\n",
       "   'server': 'AmazonS3'},\n",
       "  'RetryAttempts': 0},\n",
       " 'AcceptRanges': 'bytes',\n",
       " 'LastModified': datetime.datetime(2018, 9, 12, 15, 13, 37, tzinfo=tzutc()),\n",
       " 'ContentLength': 613237,\n",
       " 'ETag': '\"066d37f43f7762f1eb409b1660fe9763\"',\n",
       " 'ContentType': 'text/csv',\n",
       " 'Metadata': {},\n",
       " 'Body': <botocore.response.StreamingBody at 0x7f33861747f0>}"
      ]
     },
     "metadata": {},
     "output_type": "display_data"
    }
   ],
   "source": [
    "# get an S3 object by passing in the bucket and file name\n",
    "data_object = s3_client.get_object(Bucket=bucket_name, Key=file_name)\n",
    "\n",
    "# what info does the object contain?\n",
    "display(data_object)"
   ]
  },
  {
   "cell_type": "code",
   "execution_count": 7,
   "metadata": {},
   "outputs": [
    {
     "name": "stdout",
     "output_type": "stream",
     "text": [
      "Data type:  <class 'bytes'>\n"
     ]
    }
   ],
   "source": [
    "# information is in the \"Body\" of the object\n",
    "data_body = data_object[\"Body\"].read()\n",
    "print('Data type: ', type(data_body))"
   ]
  },
  {
   "cell_type": "markdown",
   "metadata": {},
   "source": [
    "This is a `bytes` datatype, which you can read it in using [io.BytesIO(file)](https://docs.python.org/3/library/io.html#binary-i-o)."
   ]
  },
  {
   "cell_type": "code",
   "execution_count": 8,
   "metadata": {
    "nbpresent": {
     "id": "97a46770-dbe0-40ea-b454-b15bdec20f53"
    }
   },
   "outputs": [
    {
     "data": {
      "text/html": [
       "<div>\n",
       "<style scoped>\n",
       "    .dataframe tbody tr th:only-of-type {\n",
       "        vertical-align: middle;\n",
       "    }\n",
       "\n",
       "    .dataframe tbody tr th {\n",
       "        vertical-align: top;\n",
       "    }\n",
       "\n",
       "    .dataframe thead th {\n",
       "        text-align: right;\n",
       "    }\n",
       "</style>\n",
       "<table border=\"1\" class=\"dataframe\">\n",
       "  <thead>\n",
       "    <tr style=\"text-align: right;\">\n",
       "      <th></th>\n",
       "      <th>CensusId</th>\n",
       "      <th>State</th>\n",
       "      <th>County</th>\n",
       "      <th>TotalPop</th>\n",
       "      <th>Men</th>\n",
       "      <th>Women</th>\n",
       "      <th>Hispanic</th>\n",
       "      <th>White</th>\n",
       "      <th>Black</th>\n",
       "      <th>Native</th>\n",
       "      <th>...</th>\n",
       "      <th>Walk</th>\n",
       "      <th>OtherTransp</th>\n",
       "      <th>WorkAtHome</th>\n",
       "      <th>MeanCommute</th>\n",
       "      <th>Employed</th>\n",
       "      <th>PrivateWork</th>\n",
       "      <th>PublicWork</th>\n",
       "      <th>SelfEmployed</th>\n",
       "      <th>FamilyWork</th>\n",
       "      <th>Unemployment</th>\n",
       "    </tr>\n",
       "  </thead>\n",
       "  <tbody>\n",
       "    <tr>\n",
       "      <th>0</th>\n",
       "      <td>1001</td>\n",
       "      <td>Alabama</td>\n",
       "      <td>Autauga</td>\n",
       "      <td>55221</td>\n",
       "      <td>26745</td>\n",
       "      <td>28476</td>\n",
       "      <td>2.6</td>\n",
       "      <td>75.8</td>\n",
       "      <td>18.5</td>\n",
       "      <td>0.4</td>\n",
       "      <td>...</td>\n",
       "      <td>0.5</td>\n",
       "      <td>1.3</td>\n",
       "      <td>1.8</td>\n",
       "      <td>26.5</td>\n",
       "      <td>23986</td>\n",
       "      <td>73.6</td>\n",
       "      <td>20.9</td>\n",
       "      <td>5.5</td>\n",
       "      <td>0.0</td>\n",
       "      <td>7.6</td>\n",
       "    </tr>\n",
       "    <tr>\n",
       "      <th>1</th>\n",
       "      <td>1003</td>\n",
       "      <td>Alabama</td>\n",
       "      <td>Baldwin</td>\n",
       "      <td>195121</td>\n",
       "      <td>95314</td>\n",
       "      <td>99807</td>\n",
       "      <td>4.5</td>\n",
       "      <td>83.1</td>\n",
       "      <td>9.5</td>\n",
       "      <td>0.6</td>\n",
       "      <td>...</td>\n",
       "      <td>1.0</td>\n",
       "      <td>1.4</td>\n",
       "      <td>3.9</td>\n",
       "      <td>26.4</td>\n",
       "      <td>85953</td>\n",
       "      <td>81.5</td>\n",
       "      <td>12.3</td>\n",
       "      <td>5.8</td>\n",
       "      <td>0.4</td>\n",
       "      <td>7.5</td>\n",
       "    </tr>\n",
       "    <tr>\n",
       "      <th>2</th>\n",
       "      <td>1005</td>\n",
       "      <td>Alabama</td>\n",
       "      <td>Barbour</td>\n",
       "      <td>26932</td>\n",
       "      <td>14497</td>\n",
       "      <td>12435</td>\n",
       "      <td>4.6</td>\n",
       "      <td>46.2</td>\n",
       "      <td>46.7</td>\n",
       "      <td>0.2</td>\n",
       "      <td>...</td>\n",
       "      <td>1.8</td>\n",
       "      <td>1.5</td>\n",
       "      <td>1.6</td>\n",
       "      <td>24.1</td>\n",
       "      <td>8597</td>\n",
       "      <td>71.8</td>\n",
       "      <td>20.8</td>\n",
       "      <td>7.3</td>\n",
       "      <td>0.1</td>\n",
       "      <td>17.6</td>\n",
       "    </tr>\n",
       "    <tr>\n",
       "      <th>3</th>\n",
       "      <td>1007</td>\n",
       "      <td>Alabama</td>\n",
       "      <td>Bibb</td>\n",
       "      <td>22604</td>\n",
       "      <td>12073</td>\n",
       "      <td>10531</td>\n",
       "      <td>2.2</td>\n",
       "      <td>74.5</td>\n",
       "      <td>21.4</td>\n",
       "      <td>0.4</td>\n",
       "      <td>...</td>\n",
       "      <td>0.6</td>\n",
       "      <td>1.5</td>\n",
       "      <td>0.7</td>\n",
       "      <td>28.8</td>\n",
       "      <td>8294</td>\n",
       "      <td>76.8</td>\n",
       "      <td>16.1</td>\n",
       "      <td>6.7</td>\n",
       "      <td>0.4</td>\n",
       "      <td>8.3</td>\n",
       "    </tr>\n",
       "    <tr>\n",
       "      <th>4</th>\n",
       "      <td>1009</td>\n",
       "      <td>Alabama</td>\n",
       "      <td>Blount</td>\n",
       "      <td>57710</td>\n",
       "      <td>28512</td>\n",
       "      <td>29198</td>\n",
       "      <td>8.6</td>\n",
       "      <td>87.9</td>\n",
       "      <td>1.5</td>\n",
       "      <td>0.3</td>\n",
       "      <td>...</td>\n",
       "      <td>0.9</td>\n",
       "      <td>0.4</td>\n",
       "      <td>2.3</td>\n",
       "      <td>34.9</td>\n",
       "      <td>22189</td>\n",
       "      <td>82.0</td>\n",
       "      <td>13.5</td>\n",
       "      <td>4.2</td>\n",
       "      <td>0.4</td>\n",
       "      <td>7.7</td>\n",
       "    </tr>\n",
       "  </tbody>\n",
       "</table>\n",
       "<p>5 rows × 37 columns</p>\n",
       "</div>"
      ],
      "text/plain": [
       "   CensusId    State   County  TotalPop    Men  Women  Hispanic  White  Black  \\\n",
       "0      1001  Alabama  Autauga     55221  26745  28476       2.6   75.8   18.5   \n",
       "1      1003  Alabama  Baldwin    195121  95314  99807       4.5   83.1    9.5   \n",
       "2      1005  Alabama  Barbour     26932  14497  12435       4.6   46.2   46.7   \n",
       "3      1007  Alabama     Bibb     22604  12073  10531       2.2   74.5   21.4   \n",
       "4      1009  Alabama   Blount     57710  28512  29198       8.6   87.9    1.5   \n",
       "\n",
       "   Native  ...  Walk  OtherTransp  WorkAtHome  MeanCommute  Employed  \\\n",
       "0     0.4  ...   0.5          1.3         1.8         26.5     23986   \n",
       "1     0.6  ...   1.0          1.4         3.9         26.4     85953   \n",
       "2     0.2  ...   1.8          1.5         1.6         24.1      8597   \n",
       "3     0.4  ...   0.6          1.5         0.7         28.8      8294   \n",
       "4     0.3  ...   0.9          0.4         2.3         34.9     22189   \n",
       "\n",
       "   PrivateWork  PublicWork  SelfEmployed  FamilyWork  Unemployment  \n",
       "0         73.6        20.9           5.5         0.0           7.6  \n",
       "1         81.5        12.3           5.8         0.4           7.5  \n",
       "2         71.8        20.8           7.3         0.1          17.6  \n",
       "3         76.8        16.1           6.7         0.4           8.3  \n",
       "4         82.0        13.5           4.2         0.4           7.7  \n",
       "\n",
       "[5 rows x 37 columns]"
      ]
     },
     "execution_count": 8,
     "metadata": {},
     "output_type": "execute_result"
    }
   ],
   "source": [
    "# read in bytes data\n",
    "data_stream = io.BytesIO(data_body)\n",
    "\n",
    "# create a dataframe\n",
    "counties_df = pd.read_csv(data_stream, header=0, delimiter=\",\") \n",
    "counties_df.head()"
   ]
  },
  {
   "cell_type": "markdown",
   "metadata": {
    "nbpresent": {
     "id": "c2f7177c-9a56-46a7-8e51-53c1ccdac759"
    }
   },
   "source": [
    "## Exploratory Data Analysis (EDA)\n",
    "\n",
    "Now that you've loaded in the data, it is time to clean it up, explore it, and pre-process it. Data exploration is one of the most important parts of the machine learning workflow because it allows you to notice any initial patterns in data distribution and features that may inform how you proceed with modeling and clustering the data.\n",
    "\n",
    "### EXERCISE: Explore data & drop any incomplete rows of data\n",
    "\n",
    "When you first explore the data, it is good to know what you are working with. How many data points and features are you starting with, and what kind of information can you get at a first glance? In this notebook, you're required to use complete data points to train a model. So, your first exercise will be to investigate the shape of this data and implement a simple, data cleaning step: dropping any incomplete rows of data.\n",
    "\n",
    "You should be able to answer the **question**: How many data points and features are in the original, provided dataset? (And how many points are left after dropping any incomplete rows?)"
   ]
  },
  {
   "cell_type": "code",
   "execution_count": 12,
   "metadata": {},
   "outputs": [
    {
     "name": "stdout",
     "output_type": "stream",
     "text": [
      "<class 'pandas.core.frame.DataFrame'>\n",
      "RangeIndex: 3220 entries, 0 to 3219\n",
      "Data columns (total 37 columns):\n",
      " #   Column           Non-Null Count  Dtype  \n",
      "---  ------           --------------  -----  \n",
      " 0   CensusId         3220 non-null   int64  \n",
      " 1   State            3220 non-null   object \n",
      " 2   County           3220 non-null   object \n",
      " 3   TotalPop         3220 non-null   int64  \n",
      " 4   Men              3220 non-null   int64  \n",
      " 5   Women            3220 non-null   int64  \n",
      " 6   Hispanic         3220 non-null   float64\n",
      " 7   White            3220 non-null   float64\n",
      " 8   Black            3220 non-null   float64\n",
      " 9   Native           3220 non-null   float64\n",
      " 10  Asian            3220 non-null   float64\n",
      " 11  Pacific          3220 non-null   float64\n",
      " 12  Citizen          3220 non-null   int64  \n",
      " 13  Income           3219 non-null   float64\n",
      " 14  IncomeErr        3219 non-null   float64\n",
      " 15  IncomePerCap     3220 non-null   int64  \n",
      " 16  IncomePerCapErr  3220 non-null   int64  \n",
      " 17  Poverty          3220 non-null   float64\n",
      " 18  ChildPoverty     3219 non-null   float64\n",
      " 19  Professional     3220 non-null   float64\n",
      " 20  Service          3220 non-null   float64\n",
      " 21  Office           3220 non-null   float64\n",
      " 22  Construction     3220 non-null   float64\n",
      " 23  Production       3220 non-null   float64\n",
      " 24  Drive            3220 non-null   float64\n",
      " 25  Carpool          3220 non-null   float64\n",
      " 26  Transit          3220 non-null   float64\n",
      " 27  Walk             3220 non-null   float64\n",
      " 28  OtherTransp      3220 non-null   float64\n",
      " 29  WorkAtHome       3220 non-null   float64\n",
      " 30  MeanCommute      3220 non-null   float64\n",
      " 31  Employed         3220 non-null   int64  \n",
      " 32  PrivateWork      3220 non-null   float64\n",
      " 33  PublicWork       3220 non-null   float64\n",
      " 34  SelfEmployed     3220 non-null   float64\n",
      " 35  FamilyWork       3220 non-null   float64\n",
      " 36  Unemployment     3220 non-null   float64\n",
      "dtypes: float64(27), int64(8), object(2)\n",
      "memory usage: 930.9+ KB\n"
     ]
    }
   ],
   "source": [
    "# print out stats about data\n",
    "counties_df.info()"
   ]
  },
  {
   "cell_type": "code",
   "execution_count": 9,
   "metadata": {},
   "outputs": [
    {
     "name": "stdout",
     "output_type": "stream",
     "text": [
      "(3218, 37)\n"
     ]
    }
   ],
   "source": [
    "# drop any incomplete rows of data, and create a new df\n",
    "clean_counties_df = counties_df.dropna()\n",
    "print(clean_counties_df.shape)"
   ]
  },
  {
   "cell_type": "markdown",
   "metadata": {
    "nbpresent": {
     "id": "fdd10c00-53ba-405d-8622-fbfeac17d3bb"
    }
   },
   "source": [
    "### EXERCISE: Create a new DataFrame, indexed by 'State-County'\n",
    "\n",
    "Eventually, you'll want to feed these features into a machine learning model. **Machine learning models need numerical data to learn from** and not categorical data like strings (State, County). So, you'll reformat this data such that it is indexed by region and you'll also drop any features that are not useful for clustering.\n",
    "\n",
    "To complete this task, perform the following steps, using your *clean* DataFrame, generated above:\n",
    "1. Combine the descriptive columns, 'State' and 'County', into one, new categorical column, 'State-County'. \n",
    "2. Index the data by this unique State-County name.\n",
    "3. After doing this, drop the old State and County columns and the CensusId column, which does not give us any meaningful demographic information.\n",
    "\n",
    "After completing this task, you should have a DataFrame with 'State-County' as the index, and 34 columns of numerical data for each county. You should get a resultant DataFrame that looks like the following (truncated for display purposes):\n",
    "```\n",
    "                TotalPop\t Men\t  Women\tHispanic\t...\n",
    "                \n",
    "Alabama-Autauga\t55221\t 26745\t28476\t2.6         ...\n",
    "Alabama-Baldwin\t195121\t95314\t99807\t4.5         ...\n",
    "Alabama-Barbour\t26932\t 14497\t12435\t4.6         ...\n",
    "...\n",
    "\n",
    "```"
   ]
  },
  {
   "cell_type": "code",
   "execution_count": 10,
   "metadata": {},
   "outputs": [
    {
     "name": "stderr",
     "output_type": "stream",
     "text": [
      "/home/ec2-user/anaconda3/envs/mxnet_p36/lib/python3.6/site-packages/ipykernel/__main__.py:1: SettingWithCopyWarning: \n",
      "A value is trying to be set on a copy of a slice from a DataFrame.\n",
      "Try using .loc[row_indexer,col_indexer] = value instead\n",
      "\n",
      "See the caveats in the documentation: https://pandas.pydata.org/pandas-docs/stable/user_guide/indexing.html#returning-a-view-versus-a-copy\n",
      "  if __name__ == '__main__':\n",
      "/home/ec2-user/anaconda3/envs/mxnet_p36/lib/python3.6/site-packages/pandas/core/frame.py:3997: SettingWithCopyWarning: \n",
      "A value is trying to be set on a copy of a slice from a DataFrame\n",
      "\n",
      "See the caveats in the documentation: https://pandas.pydata.org/pandas-docs/stable/user_guide/indexing.html#returning-a-view-versus-a-copy\n",
      "  errors=errors,\n"
     ]
    }
   ],
   "source": [
    "clean_counties_df['State-County'] = clean_counties_df.State + '-' + clean_counties_df.County\n",
    "\n",
    "# index data by 'State-County'\n",
    "clean_counties_df.set_index('State-County', inplace=True)\n",
    "\n",
    "# drop the old State and County columns, and the CensusId column\n",
    "clean_counties_df.drop(columns=['State', 'County', 'CensusId'], inplace=True)"
   ]
  },
  {
   "cell_type": "markdown",
   "metadata": {},
   "source": [
    "Now, what features do you have to work with?"
   ]
  },
  {
   "cell_type": "code",
   "execution_count": 19,
   "metadata": {},
   "outputs": [
    {
     "name": "stdout",
     "output_type": "stream",
     "text": [
      "Features: \n",
      " ['TotalPop' 'Men' 'Women' 'Hispanic' 'White' 'Black' 'Native' 'Asian'\n",
      " 'Pacific' 'Citizen' 'Income' 'IncomeErr' 'IncomePerCap' 'IncomePerCapErr'\n",
      " 'Poverty' 'ChildPoverty' 'Professional' 'Service' 'Office' 'Construction'\n",
      " 'Production' 'Drive' 'Carpool' 'Transit' 'Walk' 'OtherTransp'\n",
      " 'WorkAtHome' 'MeanCommute' 'Employed' 'PrivateWork' 'PublicWork'\n",
      " 'SelfEmployed' 'FamilyWork' 'Unemployment']\n"
     ]
    }
   ],
   "source": [
    "# features\n",
    "features_list = clean_counties_df.columns.values\n",
    "print('Features: \\n', features_list)"
   ]
  },
  {
   "cell_type": "markdown",
   "metadata": {},
   "source": [
    "## Visualizing the Data\n",
    "\n",
    "In general, you can see that features come in a variety of ranges, mostly percentages from 0-100, and counts that are integer values in a large range. Let's visualize the data in some of our feature columns and see what the distribution, over all counties, looks like.\n",
    "\n",
    "The below cell displays **histograms**, which show the distribution of data points over discrete feature ranges. The x-axis represents the different bins; each bin is defined by a specific range of values that a feature can take, say between the values 0-5 and 5-10, and so on. The y-axis is the frequency of occurrence or the number of county data points that fall into each bin. I find it helpful to use the y-axis values for relative comparisons between different features.\n",
    "\n",
    "Below, I'm plotting a histogram comparing methods of commuting to work over all of the counties. I just copied these feature names from the list of column names, printed above. I also know that all of these features are represented as percentages (%) in the original data, so the x-axes of these plots will be comparable."
   ]
  },
  {
   "cell_type": "code",
   "execution_count": 20,
   "metadata": {
    "nbpresent": {
     "id": "7e847244-7b42-490f-8945-46e234a3af75"
    }
   },
   "outputs": [
    {
     "data": {
      "image/png": "[encoded data removed]",
      "text/plain": [
       "<Figure size 432x216 with 1 Axes>"
      ]
     },
     "metadata": {
      "needs_background": "light"
     },
     "output_type": "display_data"
    },
    {
     "data": {
      "image/png": "[encoded data removed]",
      "text/plain": [
       "<Figure size 432x216 with 1 Axes>"
      ]
     },
     "metadata": {
      "needs_background": "light"
     },
     "output_type": "display_data"
    },
    {
     "data": {
      "image/png": "[encoded data removed]",
      "text/plain": [
       "<Figure size 432x216 with 1 Axes>"
      ]
     },
     "metadata": {
      "needs_background": "light"
     },
     "output_type": "display_data"
    },
    {
     "data": {
      "image/png": "[encoded data removed]",
      "text/plain": [
       "<Figure size 432x216 with 1 Axes>"
      ]
     },
     "metadata": {
      "needs_background": "light"
     },
     "output_type": "display_data"
    },
    {
     "data": {
      "image/png": "[encoded data removed]",
      "text/plain": [
       "<Figure size 432x216 with 1 Axes>"
      ]
     },
     "metadata": {
      "needs_background": "light"
     },
     "output_type": "display_data"
    }
   ],
   "source": [
    "# transportation (to work)\n",
    "transport_list = ['Drive', 'Carpool', 'Transit', 'Walk', 'OtherTransp']\n",
    "n_bins = 30 # can decrease to get a wider bin (or vice versa)\n",
    "\n",
    "for column_name in transport_list:\n",
    "    ax=plt.subplots(figsize=(6,3))\n",
    "    # get data by column_name and display a histogram\n",
    "    ax = plt.hist(clean_counties_df[column_name], bins=n_bins)\n",
    "    title=\"Histogram of \" + column_name\n",
    "    plt.title(title, fontsize=12)\n",
    "    plt.show()"
   ]
  },
  {
   "cell_type": "markdown",
   "metadata": {},
   "source": [
    "### EXERCISE: Create histograms of your own\n",
    "\n",
    "Commute transportation method is just one category of features. If you take a look at the 34 features, you can see data on profession, race, income, and more. Display a set of histograms that interest you!\n"
   ]
  },
  {
   "cell_type": "code",
   "execution_count": 21,
   "metadata": {},
   "outputs": [
    {
     "data": {
      "text/plain": [
       "Index(['TotalPop', 'Men', 'Women', 'Hispanic', 'White', 'Black', 'Native',\n",
       "       'Asian', 'Pacific', 'Citizen', 'Income', 'IncomeErr', 'IncomePerCap',\n",
       "       'IncomePerCapErr', 'Poverty', 'ChildPoverty', 'Professional', 'Service',\n",
       "       'Office', 'Construction', 'Production', 'Drive', 'Carpool', 'Transit',\n",
       "       'Walk', 'OtherTransp', 'WorkAtHome', 'MeanCommute', 'Employed',\n",
       "       'PrivateWork', 'PublicWork', 'SelfEmployed', 'FamilyWork',\n",
       "       'Unemployment'],\n",
       "      dtype='object')"
      ]
     },
     "execution_count": 21,
     "metadata": {},
     "output_type": "execute_result"
    }
   ],
   "source": [
    "clean_counties_df.columns"
   ]
  },
  {
   "cell_type": "code",
   "execution_count": 22,
   "metadata": {},
   "outputs": [
    {
     "data": {
      "image/png": "[encoded data removed]",
      "text/plain": [
       "<Figure size 432x216 with 1 Axes>"
      ]
     },
     "metadata": {
      "needs_background": "light"
     },
     "output_type": "display_data"
    },
    {
     "data": {
      "image/png": "[encoded data removed]",
      "text/plain": [
       "<Figure size 432x216 with 1 Axes>"
      ]
     },
     "metadata": {
      "needs_background": "light"
     },
     "output_type": "display_data"
    },
    {
     "data": {
      "image/png": "[encoded data removed]",
      "text/plain": [
       "<Figure size 432x216 with 1 Axes>"
      ]
     },
     "metadata": {
      "needs_background": "light"
     },
     "output_type": "display_data"
    },
    {
     "data": {
      "image/png": "[encoded data removed]",
      "text/plain": [
       "<Figure size 432x216 with 1 Axes>"
      ]
     },
     "metadata": {
      "needs_background": "light"
     },
     "output_type": "display_data"
    },
    {
     "data": {
      "image/png": "[encoded data removed]",
      "text/plain": [
       "<Figure size 432x216 with 1 Axes>"
      ]
     },
     "metadata": {
      "needs_background": "light"
     },
     "output_type": "display_data"
    },
    {
     "data": {
      "image/png": "[encoded data removed]",
      "text/plain": [
       "<Figure size 432x216 with 1 Axes>"
      ]
     },
     "metadata": {
      "needs_background": "light"
     },
     "output_type": "display_data"
    },
    {
     "data": {
      "image/png": "[encoded data removed]",
      "text/plain": [
       "<Figure size 432x216 with 1 Axes>"
      ]
     },
     "metadata": {
      "needs_background": "light"
     },
     "output_type": "display_data"
    },
    {
     "data": {
      "image/png": "[encoded data removed]",
      "text/plain": [
       "<Figure size 432x216 with 1 Axes>"
      ]
     },
     "metadata": {
      "needs_background": "light"
     },
     "output_type": "display_data"
    },
    {
     "data": {
      "image/png": "[encoded data removed]",
      "text/plain": [
       "<Figure size 432x216 with 1 Axes>"
      ]
     },
     "metadata": {
      "needs_background": "light"
     },
     "output_type": "display_data"
    },
    {
     "data": {
      "image/png": "[encoded data removed]",
      "text/plain": [
       "<Figure size 432x216 with 1 Axes>"
      ]
     },
     "metadata": {
      "needs_background": "light"
     },
     "output_type": "display_data"
    }
   ],
   "source": [
    "# create a list of features that you want to compare or examine\n",
    "my_list = ['Income',  'IncomePerCap', 'Poverty', 'ChildPoverty', 'Professional', \n",
    "           'WorkAtHome', 'Employed', 'SelfEmployed', 'FamilyWork', 'Unemployment']\n",
    "n_bins = 25 # define n_bins\n",
    "\n",
    "# histogram creation code is similar to above\n",
    "for column_name in my_list:\n",
    "    ax=plt.subplots(figsize=(6,3))\n",
    "    # get data by column_name and display a histogram\n",
    "    ax = plt.hist(clean_counties_df[column_name], bins=n_bins)\n",
    "    title=\"Histogram of \" + column_name\n",
    "    plt.title(title, fontsize=12)\n",
    "    plt.show()"
   ]
  },
  {
   "cell_type": "markdown",
   "metadata": {},
   "source": [
    "### EXERCISE: Normalize the data\n",
    "\n",
    "You need to standardize the scale of the numerical columns in order to consistently compare the values of different features. You can use a [MinMaxScaler](https://scikit-learn.org/stable/modules/generated/sklearn.preprocessing.MinMaxScaler.html) to transform the numerical values so that they all fall between 0 and 1."
   ]
  },
  {
   "cell_type": "code",
   "execution_count": 11,
   "metadata": {},
   "outputs": [],
   "source": [
    "# scale numerical features into a normalized range, 0-1\n",
    "counties_scaled = (clean_counties_df - clean_counties_df.min(axis=0)) / (clean_counties_df.max(axis=0) - clean_counties_df.min(axis=0))"
   ]
  },
  {
   "cell_type": "code",
   "execution_count": 25,
   "metadata": {},
   "outputs": [
    {
     "data": {
      "text/html": [
       "<div>\n",
       "<style scoped>\n",
       "    .dataframe tbody tr th:only-of-type {\n",
       "        vertical-align: middle;\n",
       "    }\n",
       "\n",
       "    .dataframe tbody tr th {\n",
       "        vertical-align: top;\n",
       "    }\n",
       "\n",
       "    .dataframe thead th {\n",
       "        text-align: right;\n",
       "    }\n",
       "</style>\n",
       "<table border=\"1\" class=\"dataframe\">\n",
       "  <thead>\n",
       "    <tr style=\"text-align: right;\">\n",
       "      <th></th>\n",
       "      <th>TotalPop</th>\n",
       "      <th>Men</th>\n",
       "      <th>Women</th>\n",
       "      <th>Hispanic</th>\n",
       "      <th>White</th>\n",
       "      <th>Black</th>\n",
       "      <th>Native</th>\n",
       "      <th>Asian</th>\n",
       "      <th>Pacific</th>\n",
       "      <th>Citizen</th>\n",
       "      <th>...</th>\n",
       "      <th>Walk</th>\n",
       "      <th>OtherTransp</th>\n",
       "      <th>WorkAtHome</th>\n",
       "      <th>MeanCommute</th>\n",
       "      <th>Employed</th>\n",
       "      <th>PrivateWork</th>\n",
       "      <th>PublicWork</th>\n",
       "      <th>SelfEmployed</th>\n",
       "      <th>FamilyWork</th>\n",
       "      <th>Unemployment</th>\n",
       "    </tr>\n",
       "  </thead>\n",
       "  <tbody>\n",
       "    <tr>\n",
       "      <th>count</th>\n",
       "      <td>3218.000000</td>\n",
       "      <td>3218.000000</td>\n",
       "      <td>3218.000000</td>\n",
       "      <td>3218.000000</td>\n",
       "      <td>3218.000000</td>\n",
       "      <td>3218.000000</td>\n",
       "      <td>3218.000000</td>\n",
       "      <td>3218.000000</td>\n",
       "      <td>3218.000000</td>\n",
       "      <td>3218.000000</td>\n",
       "      <td>...</td>\n",
       "      <td>3218.000000</td>\n",
       "      <td>3218.000000</td>\n",
       "      <td>3218.000000</td>\n",
       "      <td>3218.000000</td>\n",
       "      <td>3218.000000</td>\n",
       "      <td>3218.000000</td>\n",
       "      <td>3218.000000</td>\n",
       "      <td>3218.000000</td>\n",
       "      <td>3218.000000</td>\n",
       "      <td>3218.000000</td>\n",
       "    </tr>\n",
       "    <tr>\n",
       "      <th>mean</th>\n",
       "      <td>0.009883</td>\n",
       "      <td>0.009866</td>\n",
       "      <td>0.009899</td>\n",
       "      <td>0.110170</td>\n",
       "      <td>0.756024</td>\n",
       "      <td>0.100942</td>\n",
       "      <td>0.018682</td>\n",
       "      <td>0.029405</td>\n",
       "      <td>0.006470</td>\n",
       "      <td>0.011540</td>\n",
       "      <td>...</td>\n",
       "      <td>0.046496</td>\n",
       "      <td>0.041154</td>\n",
       "      <td>0.124428</td>\n",
       "      <td>0.470140</td>\n",
       "      <td>0.009806</td>\n",
       "      <td>0.760810</td>\n",
       "      <td>0.194426</td>\n",
       "      <td>0.216744</td>\n",
       "      <td>0.029417</td>\n",
       "      <td>0.221775</td>\n",
       "    </tr>\n",
       "    <tr>\n",
       "      <th>std</th>\n",
       "      <td>0.031818</td>\n",
       "      <td>0.031692</td>\n",
       "      <td>0.031948</td>\n",
       "      <td>0.192617</td>\n",
       "      <td>0.229682</td>\n",
       "      <td>0.166262</td>\n",
       "      <td>0.078748</td>\n",
       "      <td>0.062744</td>\n",
       "      <td>0.035446</td>\n",
       "      <td>0.033933</td>\n",
       "      <td>...</td>\n",
       "      <td>0.051956</td>\n",
       "      <td>0.042321</td>\n",
       "      <td>0.085301</td>\n",
       "      <td>0.143135</td>\n",
       "      <td>0.032305</td>\n",
       "      <td>0.132949</td>\n",
       "      <td>0.106923</td>\n",
       "      <td>0.106947</td>\n",
       "      <td>0.046451</td>\n",
       "      <td>0.112138</td>\n",
       "    </tr>\n",
       "    <tr>\n",
       "      <th>min</th>\n",
       "      <td>0.000000</td>\n",
       "      <td>0.000000</td>\n",
       "      <td>0.000000</td>\n",
       "      <td>0.000000</td>\n",
       "      <td>0.000000</td>\n",
       "      <td>0.000000</td>\n",
       "      <td>0.000000</td>\n",
       "      <td>0.000000</td>\n",
       "      <td>0.000000</td>\n",
       "      <td>0.000000</td>\n",
       "      <td>...</td>\n",
       "      <td>0.000000</td>\n",
       "      <td>0.000000</td>\n",
       "      <td>0.000000</td>\n",
       "      <td>0.000000</td>\n",
       "      <td>0.000000</td>\n",
       "      <td>0.000000</td>\n",
       "      <td>0.000000</td>\n",
       "      <td>0.000000</td>\n",
       "      <td>0.000000</td>\n",
       "      <td>0.000000</td>\n",
       "    </tr>\n",
       "    <tr>\n",
       "      <th>25%</th>\n",
       "      <td>0.001092</td>\n",
       "      <td>0.001117</td>\n",
       "      <td>0.001069</td>\n",
       "      <td>0.019019</td>\n",
       "      <td>0.642285</td>\n",
       "      <td>0.005821</td>\n",
       "      <td>0.001086</td>\n",
       "      <td>0.004808</td>\n",
       "      <td>0.000000</td>\n",
       "      <td>0.001371</td>\n",
       "      <td>...</td>\n",
       "      <td>0.019663</td>\n",
       "      <td>0.023018</td>\n",
       "      <td>0.072581</td>\n",
       "      <td>0.373402</td>\n",
       "      <td>0.000948</td>\n",
       "      <td>0.697279</td>\n",
       "      <td>0.120861</td>\n",
       "      <td>0.147541</td>\n",
       "      <td>0.010204</td>\n",
       "      <td>0.150685</td>\n",
       "    </tr>\n",
       "    <tr>\n",
       "      <th>50%</th>\n",
       "      <td>0.002571</td>\n",
       "      <td>0.002591</td>\n",
       "      <td>0.002539</td>\n",
       "      <td>0.039039</td>\n",
       "      <td>0.842685</td>\n",
       "      <td>0.022119</td>\n",
       "      <td>0.003257</td>\n",
       "      <td>0.012019</td>\n",
       "      <td>0.000000</td>\n",
       "      <td>0.003219</td>\n",
       "      <td>...</td>\n",
       "      <td>0.033708</td>\n",
       "      <td>0.033248</td>\n",
       "      <td>0.104839</td>\n",
       "      <td>0.462916</td>\n",
       "      <td>0.002234</td>\n",
       "      <td>0.785714</td>\n",
       "      <td>0.172185</td>\n",
       "      <td>0.188525</td>\n",
       "      <td>0.020408</td>\n",
       "      <td>0.208219</td>\n",
       "    </tr>\n",
       "    <tr>\n",
       "      <th>75%</th>\n",
       "      <td>0.006594</td>\n",
       "      <td>0.006645</td>\n",
       "      <td>0.006556</td>\n",
       "      <td>0.098098</td>\n",
       "      <td>0.933868</td>\n",
       "      <td>0.111758</td>\n",
       "      <td>0.006515</td>\n",
       "      <td>0.028846</td>\n",
       "      <td>0.000000</td>\n",
       "      <td>0.008237</td>\n",
       "      <td>...</td>\n",
       "      <td>0.056180</td>\n",
       "      <td>0.048593</td>\n",
       "      <td>0.150538</td>\n",
       "      <td>0.560102</td>\n",
       "      <td>0.006144</td>\n",
       "      <td>0.853741</td>\n",
       "      <td>0.243377</td>\n",
       "      <td>0.256831</td>\n",
       "      <td>0.030612</td>\n",
       "      <td>0.271233</td>\n",
       "    </tr>\n",
       "    <tr>\n",
       "      <th>max</th>\n",
       "      <td>1.000000</td>\n",
       "      <td>1.000000</td>\n",
       "      <td>1.000000</td>\n",
       "      <td>1.000000</td>\n",
       "      <td>1.000000</td>\n",
       "      <td>1.000000</td>\n",
       "      <td>1.000000</td>\n",
       "      <td>1.000000</td>\n",
       "      <td>1.000000</td>\n",
       "      <td>1.000000</td>\n",
       "      <td>...</td>\n",
       "      <td>1.000000</td>\n",
       "      <td>1.000000</td>\n",
       "      <td>1.000000</td>\n",
       "      <td>1.000000</td>\n",
       "      <td>1.000000</td>\n",
       "      <td>1.000000</td>\n",
       "      <td>1.000000</td>\n",
       "      <td>1.000000</td>\n",
       "      <td>1.000000</td>\n",
       "      <td>1.000000</td>\n",
       "    </tr>\n",
       "  </tbody>\n",
       "</table>\n",
       "<p>8 rows × 34 columns</p>\n",
       "</div>"
      ],
      "text/plain": [
       "          TotalPop          Men        Women     Hispanic        White  \\\n",
       "count  3218.000000  3218.000000  3218.000000  3218.000000  3218.000000   \n",
       "mean      0.009883     0.009866     0.009899     0.110170     0.756024   \n",
       "std       0.031818     0.031692     0.031948     0.192617     0.229682   \n",
       "min       0.000000     0.000000     0.000000     0.000000     0.000000   \n",
       "25%       0.001092     0.001117     0.001069     0.019019     0.642285   \n",
       "50%       0.002571     0.002591     0.002539     0.039039     0.842685   \n",
       "75%       0.006594     0.006645     0.006556     0.098098     0.933868   \n",
       "max       1.000000     1.000000     1.000000     1.000000     1.000000   \n",
       "\n",
       "             Black       Native        Asian      Pacific      Citizen  ...  \\\n",
       "count  3218.000000  3218.000000  3218.000000  3218.000000  3218.000000  ...   \n",
       "mean      0.100942     0.018682     0.029405     0.006470     0.011540  ...   \n",
       "std       0.166262     0.078748     0.062744     0.035446     0.033933  ...   \n",
       "min       0.000000     0.000000     0.000000     0.000000     0.000000  ...   \n",
       "25%       0.005821     0.001086     0.004808     0.000000     0.001371  ...   \n",
       "50%       0.022119     0.003257     0.012019     0.000000     0.003219  ...   \n",
       "75%       0.111758     0.006515     0.028846     0.000000     0.008237  ...   \n",
       "max       1.000000     1.000000     1.000000     1.000000     1.000000  ...   \n",
       "\n",
       "              Walk  OtherTransp   WorkAtHome  MeanCommute     Employed  \\\n",
       "count  3218.000000  3218.000000  3218.000000  3218.000000  3218.000000   \n",
       "mean      0.046496     0.041154     0.124428     0.470140     0.009806   \n",
       "std       0.051956     0.042321     0.085301     0.143135     0.032305   \n",
       "min       0.000000     0.000000     0.000000     0.000000     0.000000   \n",
       "25%       0.019663     0.023018     0.072581     0.373402     0.000948   \n",
       "50%       0.033708     0.033248     0.104839     0.462916     0.002234   \n",
       "75%       0.056180     0.048593     0.150538     0.560102     0.006144   \n",
       "max       1.000000     1.000000     1.000000     1.000000     1.000000   \n",
       "\n",
       "       PrivateWork   PublicWork  SelfEmployed   FamilyWork  Unemployment  \n",
       "count  3218.000000  3218.000000   3218.000000  3218.000000   3218.000000  \n",
       "mean      0.760810     0.194426      0.216744     0.029417      0.221775  \n",
       "std       0.132949     0.106923      0.106947     0.046451      0.112138  \n",
       "min       0.000000     0.000000      0.000000     0.000000      0.000000  \n",
       "25%       0.697279     0.120861      0.147541     0.010204      0.150685  \n",
       "50%       0.785714     0.172185      0.188525     0.020408      0.208219  \n",
       "75%       0.853741     0.243377      0.256831     0.030612      0.271233  \n",
       "max       1.000000     1.000000      1.000000     1.000000      1.000000  \n",
       "\n",
       "[8 rows x 34 columns]"
      ]
     },
     "execution_count": 25,
     "metadata": {},
     "output_type": "execute_result"
    }
   ],
   "source": [
    "# Verify min = 0 and max=1\n",
    "counties_scaled.describe()"
   ]
  },
  {
   "cell_type": "markdown",
   "metadata": {},
   "source": [
    "---\n",
    "# Data Modeling\n",
    "\n",
    "\n",
    "Now, the data is ready to be fed into a machine learning model!\n",
    "\n",
    "Each data point has 34 features, which means the data is 34-dimensional. Clustering algorithms rely on finding clusters in n-dimensional feature space. For higher dimensions, an algorithm like k-means has a difficult time figuring out which features are most important, and the result is, often, noisier clusters.\n",
    "\n",
    "Some dimensions are not as important as others. For example, if every county in our dataset has the same rate of unemployment, then that particular feature doesn’t give us any distinguishing information; it will not help t separate counties into different groups because its value doesn’t *vary* between counties.\n",
    "\n",
    "> Instead, we really want to find the features that help to separate and group data. We want to find features that cause the **most variance** in the dataset!\n",
    "\n",
    "So, before I cluster this data, I’ll want to take a dimensionality reduction step. My aim will be to form a smaller set of features that will better help to separate our data. The technique I’ll use is called PCA or **principal component analysis**\n",
    "\n",
    "## Dimensionality Reduction\n",
    "\n",
    "**PCA attempts to reduce the number of features within a dataset while retaining the “principal components”,** which are defined as *weighted*, **linear combinations of existing features that are designed to be linearly independent** and **account for the largest possible variability in the data**! You can think of this method as taking many features and combining similar or redundant features together to form a new, smaller feature set.\n",
    "\n",
    "We can reduce dimensionality with the built-in SageMaker model for PCA."
   ]
  },
  {
   "cell_type": "markdown",
   "metadata": {},
   "source": [
    "### Roles and Buckets\n",
    "\n",
    "> To create a model, you'll first need to specify an IAM role, and to save the model attributes, you'll need to store them in an S3 bucket.\n",
    "\n",
    "The `get_execution_role` function retrieves the IAM role you created at the time you created your notebook instance. Roles are essentially used to manage permissions and you can read more about that [in this documentation](https://docs.aws.amazon.com/sagemaker/latest/dg/sagemaker-roles.html). For now, know that we have a FullAccess notebook, which allowed us to access and download the census data stored in S3.\n",
    "\n",
    "You must specify a bucket name for an S3 bucket in your account where you want SageMaker model parameters to be stored. Note that the bucket must be in the same region as this notebook. You can get a default S3 bucket, which automatically creates a bucket for you and in your region, by storing the current SageMaker session and calling `session.default_bucket()`."
   ]
  },
  {
   "cell_type": "code",
   "execution_count": 12,
   "metadata": {},
   "outputs": [
    {
     "name": "stdout",
     "output_type": "stream",
     "text": [
      "arn:aws:iam::216538981855:role/service-role/AmazonSageMaker-ExecutionRole-20200723T172215\n"
     ]
    }
   ],
   "source": [
    "from sagemaker import get_execution_role\n",
    "\n",
    "session = sagemaker.Session() # store the current SageMaker session\n",
    "\n",
    "# get IAM role\n",
    "role = get_execution_role()\n",
    "print(role)"
   ]
  },
  {
   "cell_type": "code",
   "execution_count": 13,
   "metadata": {},
   "outputs": [
    {
     "name": "stdout",
     "output_type": "stream",
     "text": [
      "sagemaker-us-west-2-216538981855\n",
      "\n"
     ]
    }
   ],
   "source": [
    "# get default bucket\n",
    "bucket_name = session.default_bucket()\n",
    "print(bucket_name)\n",
    "print()"
   ]
  },
  {
   "cell_type": "markdown",
   "metadata": {},
   "source": [
    "## Define a PCA Model\n",
    "\n",
    "To create a PCA model, I'll use the built-in SageMaker resource. A SageMaker estimator requires a number of parameters to be specified; these define the type of training instance to use and the model hyperparameters. A PCA model requires the following constructor arguments:\n",
    "\n",
    "* role: The IAM role, which was specified, above.\n",
    "* train_instance_count: The number of training instances (typically, 1).\n",
    "* train_instance_type: The type of SageMaker instance for training.\n",
    "* num_components: An integer that defines the number of PCA components to produce.\n",
    "* sagemaker_session: The session used to train on SageMaker.\n",
    "\n",
    "Documentation on the PCA model can be found [here](http://sagemaker.readthedocs.io/en/latest/pca.html).\n",
    "\n",
    "Below, I first specify where to save the model training data, the `output_path`."
   ]
  },
  {
   "cell_type": "code",
   "execution_count": 15,
   "metadata": {},
   "outputs": [
    {
     "name": "stdout",
     "output_type": "stream",
     "text": [
      "Training artifacts will be uploaded to: s3://sagemaker-us-west-2-216538981855/counties/\n"
     ]
    }
   ],
   "source": [
    "# define location to store model artifacts\n",
    "prefix = 'counties'\n",
    "\n",
    "output_path='s3://{}/{}/'.format(bucket_name, prefix)\n",
    "\n",
    "print('Training artifacts will be uploaded to: {}'.format(output_path))"
   ]
  },
  {
   "cell_type": "code",
   "execution_count": 27,
   "metadata": {},
   "outputs": [],
   "source": [
    "# define a PCA model\n",
    "from sagemaker import PCA\n",
    "\n",
    "# this is current features - 1\n",
    "# you'll select only a portion of these to use, later\n",
    "N_COMPONENTS=33\n",
    "\n",
    "pca_SM = PCA(role=role,\n",
    "             train_instance_count=1,\n",
    "             train_instance_type='ml.c4.xlarge',\n",
    "             output_path=output_path, # specified, above\n",
    "             num_components=N_COMPONENTS, \n",
    "             sagemaker_session=session)"
   ]
  },
  {
   "cell_type": "markdown",
   "metadata": {},
   "source": [
    "### Convert data into a RecordSet format\n",
    "\n",
    "Next, prepare the data for a built-in model by converting the DataFrame to a numpy array of float values.\n",
    "\n",
    "The *record_set* function in the SageMaker PCA model converts a numpy array into a **RecordSet** format that **is the required format for the training input data**. This is a requirement for _all_ of SageMaker's built-in models. The use of this data type is one of the reasons that allows training of models within Amazon SageMaker to perform faster, especially for large datasets."
   ]
  },
  {
   "cell_type": "code",
   "execution_count": 28,
   "metadata": {},
   "outputs": [],
   "source": [
    "# convert df to np array\n",
    "train_data_np = counties_scaled.values.astype('float32')\n",
    "\n",
    "# convert to RecordSet format\n",
    "formatted_train_data = pca_SM.record_set(train_data_np)"
   ]
  },
  {
   "cell_type": "markdown",
   "metadata": {},
   "source": [
    "## Train the model\n",
    "\n",
    "Call the fit function on the PCA model, passing in our formatted, training data. This spins up a training instance to perform the training job.\n",
    "\n",
    "Note that it takes the longest to launch the specified training instance; the fitting itself doesn't take much time."
   ]
  },
  {
   "cell_type": "code",
   "execution_count": 29,
   "metadata": {},
   "outputs": [
    {
     "name": "stderr",
     "output_type": "stream",
     "text": [
      "'get_image_uri' method will be deprecated in favor of 'ImageURIProvider' class in SageMaker Python SDK v2.\n",
      "'s3_input' class will be renamed to 'TrainingInput' in SageMaker Python SDK v2.\n",
      "'get_image_uri' method will be deprecated in favor of 'ImageURIProvider' class in SageMaker Python SDK v2.\n"
     ]
    },
    {
     "name": "stdout",
     "output_type": "stream",
     "text": [
      "2020-07-30 01:48:09 Starting - Starting the training job...\n",
      "2020-07-30 01:48:11 Starting - Launching requested ML instances......\n",
      "2020-07-30 01:49:21 Starting - Preparing the instances for training......\n",
      "2020-07-30 01:50:23 Downloading - Downloading input data...\n",
      "2020-07-30 01:51:06 Training - Training image download completed. Training in progress.\n",
      "2020-07-30 01:51:06 Uploading - Uploading generated training model\n",
      "2020-07-30 01:51:06 Completed - Training job completed\n",
      "\u001b[34mDocker entrypoint called with argument(s): train\u001b[0m\n",
      "\u001b[34mRunning default environment configuration script\u001b[0m\n",
      "\u001b[34m[07/30/2020 01:50:58 INFO 139889346479936] Reading default configuration from /opt/amazon/lib/python2.7/site-packages/algorithm/resources/default-conf.json: {u'_num_gpus': u'auto', u'_log_level': u'info', u'subtract_mean': u'true', u'force_dense': u'true', u'epochs': 1, u'algorithm_mode': u'regular', u'extra_components': u'-1', u'_kvstore': u'dist_sync', u'_num_kv_servers': u'auto'}\u001b[0m\n",
      "\u001b[34m[07/30/2020 01:50:58 INFO 139889346479936] Reading provided configuration from /opt/ml/input/config/hyperparameters.json: {u'feature_dim': u'34', u'mini_batch_size': u'500', u'num_components': u'33'}\u001b[0m\n",
      "\u001b[34m[07/30/2020 01:50:58 INFO 139889346479936] Final configuration: {u'num_components': u'33', u'_num_gpus': u'auto', u'_log_level': u'info', u'subtract_mean': u'true', u'force_dense': u'true', u'epochs': 1, u'algorithm_mode': u'regular', u'feature_dim': u'34', u'extra_components': u'-1', u'_kvstore': u'dist_sync', u'_num_kv_servers': u'auto', u'mini_batch_size': u'500'}\u001b[0m\n",
      "\u001b[34m[07/30/2020 01:50:58 WARNING 139889346479936] Loggers have already been setup.\u001b[0m\n",
      "\u001b[34m[07/30/2020 01:50:58 INFO 139889346479936] Launching parameter server for role scheduler\u001b[0m\n",
      "\u001b[34m[07/30/2020 01:50:58 INFO 139889346479936] {'ECS_CONTAINER_METADATA_URI': 'http://169.254.170.2/v3/7eebe435-c944-4f18-ac37-738e6b66fa81', 'ECS_CONTAINER_METADATA_URI_V4': 'http://169.254.170.2/v4/7eebe435-c944-4f18-ac37-738e6b66fa81', 'PROTOCOL_BUFFERS_PYTHON_IMPLEMENTATION_VERSION': '2', 'PATH': '/opt/amazon/bin:/usr/local/nvidia/bin:/usr/local/sbin:/usr/local/bin:/usr/sbin:/usr/bin:/sbin:/bin:/opt/amazon/bin:/opt/amazon/bin', 'SAGEMAKER_HTTP_PORT': '8080', 'HOME': '/root', 'PYTHONUNBUFFERED': 'TRUE', 'CANONICAL_ENVROOT': '/opt/amazon', 'LD_LIBRARY_PATH': '/opt/amazon/lib/python2.7/site-packages/cv2/../../../../lib:/usr/local/nvidia/lib64:/opt/amazon/lib', 'LANG': 'en_US.utf8', 'DMLC_INTERFACE': 'eth0', 'SHLVL': '1', 'AWS_REGION': 'us-west-2', 'NVIDIA_VISIBLE_DEVICES': 'void', 'TRAINING_JOB_NAME': 'pca-2020-07-30-01-48-09-508', 'PROTOCOL_BUFFERS_PYTHON_IMPLEMENTATION': 'cpp', 'ENVROOT': '/opt/amazon', 'SAGEMAKER_DATA_PATH': '/opt/ml', 'NVIDIA_DRIVER_CAPABILITIES': 'compute,utility', 'NVIDIA_REQUIRE_CUDA': 'cuda>=9.0', 'OMP_NUM_THREADS': '2', 'HOSTNAME': 'ip-10-0-151-160.us-west-2.compute.internal', 'AWS_CONTAINER_CREDENTIALS_RELATIVE_URI': '/v2/credentials/2763eac6-f8cc-4fc5-af1f-861f39b20593', 'PWD': '/', 'TRAINING_JOB_ARN': 'arn:aws:sagemaker:us-west-2:216538981855:training-job/pca-2020-07-30-01-48-09-508', 'AWS_EXECUTION_ENV': 'AWS_ECS_EC2'}\u001b[0m\n",
      "\u001b[34m[07/30/2020 01:50:58 INFO 139889346479936] envs={'ECS_CONTAINER_METADATA_URI': 'http://169.254.170.2/v3/7eebe435-c944-4f18-ac37-738e6b66fa81', 'ECS_CONTAINER_METADATA_URI_V4': 'http://169.254.170.2/v4/7eebe435-c944-4f18-ac37-738e6b66fa81', 'PROTOCOL_BUFFERS_PYTHON_IMPLEMENTATION_VERSION': '2', 'DMLC_NUM_WORKER': '1', 'DMLC_PS_ROOT_PORT': '9000', 'PATH': '/opt/amazon/bin:/usr/local/nvidia/bin:/usr/local/sbin:/usr/local/bin:/usr/sbin:/usr/bin:/sbin:/bin:/opt/amazon/bin:/opt/amazon/bin', 'SAGEMAKER_HTTP_PORT': '8080', 'HOME': '/root', 'PYTHONUNBUFFERED': 'TRUE', 'CANONICAL_ENVROOT': '/opt/amazon', 'LD_LIBRARY_PATH': '/opt/amazon/lib/python2.7/site-packages/cv2/../../../../lib:/usr/local/nvidia/lib64:/opt/amazon/lib', 'LANG': 'en_US.utf8', 'DMLC_INTERFACE': 'eth0', 'SHLVL': '1', 'DMLC_PS_ROOT_URI': '10.0.151.160', 'AWS_REGION': 'us-west-2', 'NVIDIA_VISIBLE_DEVICES': 'void', 'TRAINING_JOB_NAME': 'pca-2020-07-30-01-48-09-508', 'PROTOCOL_BUFFERS_PYTHON_IMPLEMENTATION': 'cpp', 'ENVROOT': '/opt/amazon', 'SAGEMAKER_DATA_PATH': '/opt/ml', 'NVIDIA_DRIVER_CAPABILITIES': 'compute,utility', 'NVIDIA_REQUIRE_CUDA': 'cuda>=9.0', 'OMP_NUM_THREADS': '2', 'HOSTNAME': 'ip-10-0-151-160.us-west-2.compute.internal', 'AWS_CONTAINER_CREDENTIALS_RELATIVE_URI': '/v2/credentials/2763eac6-f8cc-4fc5-af1f-861f39b20593', 'DMLC_ROLE': 'scheduler', 'PWD': '/', 'DMLC_NUM_SERVER': '1', 'TRAINING_JOB_ARN': 'arn:aws:sagemaker:us-west-2:216538981855:training-job/pca-2020-07-30-01-48-09-508', 'AWS_EXECUTION_ENV': 'AWS_ECS_EC2'}\u001b[0m\n",
      "\u001b[34m[07/30/2020 01:50:58 INFO 139889346479936] Launching parameter server for role server\u001b[0m\n",
      "\u001b[34m[07/30/2020 01:50:58 INFO 139889346479936] {'ECS_CONTAINER_METADATA_URI': 'http://169.254.170.2/v3/7eebe435-c944-4f18-ac37-738e6b66fa81', 'ECS_CONTAINER_METADATA_URI_V4': 'http://169.254.170.2/v4/7eebe435-c944-4f18-ac37-738e6b66fa81', 'PROTOCOL_BUFFERS_PYTHON_IMPLEMENTATION_VERSION': '2', 'PATH': '/opt/amazon/bin:/usr/local/nvidia/bin:/usr/local/sbin:/usr/local/bin:/usr/sbin:/usr/bin:/sbin:/bin:/opt/amazon/bin:/opt/amazon/bin', 'SAGEMAKER_HTTP_PORT': '8080', 'HOME': '/root', 'PYTHONUNBUFFERED': 'TRUE', 'CANONICAL_ENVROOT': '/opt/amazon', 'LD_LIBRARY_PATH': '/opt/amazon/lib/python2.7/site-packages/cv2/../../../../lib:/usr/local/nvidia/lib64:/opt/amazon/lib', 'LANG': 'en_US.utf8', 'DMLC_INTERFACE': 'eth0', 'SHLVL': '1', 'AWS_REGION': 'us-west-2', 'NVIDIA_VISIBLE_DEVICES': 'void', 'TRAINING_JOB_NAME': 'pca-2020-07-30-01-48-09-508', 'PROTOCOL_BUFFERS_PYTHON_IMPLEMENTATION': 'cpp', 'ENVROOT': '/opt/amazon', 'SAGEMAKER_DATA_PATH': '/opt/ml', 'NVIDIA_DRIVER_CAPABILITIES': 'compute,utility', 'NVIDIA_REQUIRE_CUDA': 'cuda>=9.0', 'OMP_NUM_THREADS': '2', 'HOSTNAME': 'ip-10-0-151-160.us-west-2.compute.internal', 'AWS_CONTAINER_CREDENTIALS_RELATIVE_URI': '/v2/credentials/2763eac6-f8cc-4fc5-af1f-861f39b20593', 'PWD': '/', 'TRAINING_JOB_ARN': 'arn:aws:sagemaker:us-west-2:216538981855:training-job/pca-2020-07-30-01-48-09-508', 'AWS_EXECUTION_ENV': 'AWS_ECS_EC2'}\u001b[0m\n",
      "\u001b[34m[07/30/2020 01:50:58 INFO 139889346479936] envs={'ECS_CONTAINER_METADATA_URI': 'http://169.254.170.2/v3/7eebe435-c944-4f18-ac37-738e6b66fa81', 'ECS_CONTAINER_METADATA_URI_V4': 'http://169.254.170.2/v4/7eebe435-c944-4f18-ac37-738e6b66fa81', 'PROTOCOL_BUFFERS_PYTHON_IMPLEMENTATION_VERSION': '2', 'DMLC_NUM_WORKER': '1', 'DMLC_PS_ROOT_PORT': '9000', 'PATH': '/opt/amazon/bin:/usr/local/nvidia/bin:/usr/local/sbin:/usr/local/bin:/usr/sbin:/usr/bin:/sbin:/bin:/opt/amazon/bin:/opt/amazon/bin', 'SAGEMAKER_HTTP_PORT': '8080', 'HOME': '/root', 'PYTHONUNBUFFERED': 'TRUE', 'CANONICAL_ENVROOT': '/opt/amazon', 'LD_LIBRARY_PATH': '/opt/amazon/lib/python2.7/site-packages/cv2/../../../../lib:/usr/local/nvidia/lib64:/opt/amazon/lib', 'LANG': 'en_US.utf8', 'DMLC_INTERFACE': 'eth0', 'SHLVL': '1', 'DMLC_PS_ROOT_URI': '10.0.151.160', 'AWS_REGION': 'us-west-2', 'NVIDIA_VISIBLE_DEVICES': 'void', 'TRAINING_JOB_NAME': 'pca-2020-07-30-01-48-09-508', 'PROTOCOL_BUFFERS_PYTHON_IMPLEMENTATION': 'cpp', 'ENVROOT': '/opt/amazon', 'SAGEMAKER_DATA_PATH': '/opt/ml', 'NVIDIA_DRIVER_CAPABILITIES': 'compute,utility', 'NVIDIA_REQUIRE_CUDA': 'cuda>=9.0', 'OMP_NUM_THREADS': '2', 'HOSTNAME': 'ip-10-0-151-160.us-west-2.compute.internal', 'AWS_CONTAINER_CREDENTIALS_RELATIVE_URI': '/v2/credentials/2763eac6-f8cc-4fc5-af1f-861f39b20593', 'DMLC_ROLE': 'server', 'PWD': '/', 'DMLC_NUM_SERVER': '1', 'TRAINING_JOB_ARN': 'arn:aws:sagemaker:us-west-2:216538981855:training-job/pca-2020-07-30-01-48-09-508', 'AWS_EXECUTION_ENV': 'AWS_ECS_EC2'}\u001b[0m\n",
      "\u001b[34m[07/30/2020 01:50:58 INFO 139889346479936] Environment: {'ECS_CONTAINER_METADATA_URI': 'http://169.254.170.2/v3/7eebe435-c944-4f18-ac37-738e6b66fa81', 'ECS_CONTAINER_METADATA_URI_V4': 'http://169.254.170.2/v4/7eebe435-c944-4f18-ac37-738e6b66fa81', 'PROTOCOL_BUFFERS_PYTHON_IMPLEMENTATION_VERSION': '2', 'DMLC_PS_ROOT_PORT': '9000', 'DMLC_NUM_WORKER': '1', 'SAGEMAKER_HTTP_PORT': '8080', 'PATH': '/opt/amazon/bin:/usr/local/nvidia/bin:/usr/local/sbin:/usr/local/bin:/usr/sbin:/usr/bin:/sbin:/bin:/opt/amazon/bin:/opt/amazon/bin', 'PYTHONUNBUFFERED': 'TRUE', 'CANONICAL_ENVROOT': '/opt/amazon', 'LD_LIBRARY_PATH': '/opt/amazon/lib/python2.7/site-packages/cv2/../../../../lib:/usr/local/nvidia/lib64:/opt/amazon/lib', 'LANG': 'en_US.utf8', 'DMLC_INTERFACE': 'eth0', 'SHLVL': '1', 'DMLC_PS_ROOT_URI': '10.0.151.160', 'AWS_REGION': 'us-west-2', 'NVIDIA_VISIBLE_DEVICES': 'void', 'TRAINING_JOB_NAME': 'pca-2020-07-30-01-48-09-508', 'HOME': '/root', 'PROTOCOL_BUFFERS_PYTHON_IMPLEMENTATION': 'cpp', 'ENVROOT': '/opt/amazon', 'SAGEMAKER_DATA_PATH': '/opt/ml', 'NVIDIA_DRIVER_CAPABILITIES': 'compute,utility', 'NVIDIA_REQUIRE_CUDA': 'cuda>=9.0', 'OMP_NUM_THREADS': '2', 'HOSTNAME': 'ip-10-0-151-160.us-west-2.compute.internal', 'AWS_CONTAINER_CREDENTIALS_RELATIVE_URI': '/v2/credentials/2763eac6-f8cc-4fc5-af1f-861f39b20593', 'DMLC_ROLE': 'worker', 'PWD': '/', 'DMLC_NUM_SERVER': '1', 'TRAINING_JOB_ARN': 'arn:aws:sagemaker:us-west-2:216538981855:training-job/pca-2020-07-30-01-48-09-508', 'AWS_EXECUTION_ENV': 'AWS_ECS_EC2'}\u001b[0m\n",
      "\u001b[34mProcess 60 is a shell:scheduler.\u001b[0m\n",
      "\u001b[34mProcess 69 is a shell:server.\u001b[0m\n",
      "\u001b[34mProcess 1 is a worker.\u001b[0m\n",
      "\u001b[34m[07/30/2020 01:50:58 INFO 139889346479936] Using default worker.\u001b[0m\n",
      "\u001b[34m[07/30/2020 01:50:58 INFO 139889346479936] Loaded iterator creator application/x-recordio-protobuf for content type ('application/x-recordio-protobuf', '1.0')\u001b[0m\n",
      "\u001b[34m[07/30/2020 01:50:58 INFO 139889346479936] Loaded iterator creator application/x-labeled-vector-protobuf for content type ('application/x-labeled-vector-protobuf', '1.0')\u001b[0m\n",
      "\u001b[34m[07/30/2020 01:50:58 INFO 139889346479936] Loaded iterator creator protobuf for content type ('protobuf', '1.0')\u001b[0m\n",
      "\u001b[34m[07/30/2020 01:50:58 INFO 139889346479936] Create Store: dist_sync\u001b[0m\n",
      "\u001b[34m[07/30/2020 01:50:58 INFO 139889346479936] nvidia-smi took: 0.0251829624176 secs to identify 0 gpus\u001b[0m\n",
      "\u001b[34m[07/30/2020 01:50:58 INFO 139889346479936] Number of GPUs being used: 0\u001b[0m\n",
      "\u001b[34m[07/30/2020 01:50:58 INFO 139889346479936] The default executor is <PCAExecutor on cpu(0)>.\u001b[0m\n",
      "\u001b[34m[07/30/2020 01:50:58 INFO 139889346479936] 34 feature(s) found in 'data'.\u001b[0m\n",
      "\u001b[34m[07/30/2020 01:50:58 INFO 139889346479936] <PCAExecutor on cpu(0)> is assigned to batch slice from 0 to 499.\u001b[0m\n",
      "\u001b[34m#metrics {\"Metrics\": {\"initialize.time\": {\"count\": 1, \"max\": 744.6229457855225, \"sum\": 744.6229457855225, \"min\": 744.6229457855225}}, \"EndTime\": 1596073858.8921, \"Dimensions\": {\"Host\": \"algo-1\", \"Operation\": \"training\", \"Algorithm\": \"PCA\"}, \"StartTime\": 1596073858.134276}\n",
      "\u001b[0m\n",
      "\u001b[34m#metrics {\"Metrics\": {\"Max Batches Seen Between Resets\": {\"count\": 1, \"max\": 0, \"sum\": 0.0, \"min\": 0}, \"Number of Batches Since Last Reset\": {\"count\": 1, \"max\": 0, \"sum\": 0.0, \"min\": 0}, \"Number of Records Since Last Reset\": {\"count\": 1, \"max\": 0, \"sum\": 0.0, \"min\": 0}, \"Total Batches Seen\": {\"count\": 1, \"max\": 0, \"sum\": 0.0, \"min\": 0}, \"Total Records Seen\": {\"count\": 1, \"max\": 0, \"sum\": 0.0, \"min\": 0}, \"Max Records Seen Between Resets\": {\"count\": 1, \"max\": 0, \"sum\": 0.0, \"min\": 0}, \"Reset Count\": {\"count\": 1, \"max\": 0, \"sum\": 0.0, \"min\": 0}}, \"EndTime\": 1596073858.892322, \"Dimensions\": {\"Host\": \"algo-1\", \"Meta\": \"init_train_data_iter\", \"Operation\": \"training\", \"Algorithm\": \"PCA\"}, \"StartTime\": 1596073858.892286}\n",
      "\u001b[0m\n",
      "\u001b[34m[2020-07-30 01:50:58.892] [tensorio] [info] epoch_stats={\"data_pipeline\": \"/opt/ml/input/data/train\", \"epoch\": 0, \"duration\": 753, \"num_examples\": 1, \"num_bytes\": 82000}\u001b[0m\n",
      "\u001b[34m[2020-07-30 01:50:58.931] [tensorio] [info] epoch_stats={\"data_pipeline\": \"/opt/ml/input/data/train\", \"epoch\": 1, \"duration\": 31, \"num_examples\": 7, \"num_bytes\": 527752}\u001b[0m\n",
      "\u001b[34m#metrics {\"Metrics\": {\"epochs\": {\"count\": 1, \"max\": 1, \"sum\": 1.0, \"min\": 1}, \"update.time\": {\"count\": 1, \"max\": 39.305925369262695, \"sum\": 39.305925369262695, \"min\": 39.305925369262695}}, \"EndTime\": 1596073858.932157, \"Dimensions\": {\"Host\": \"algo-1\", \"Operation\": \"training\", \"Algorithm\": \"PCA\"}, \"StartTime\": 1596073858.892207}\n",
      "\u001b[0m\n",
      "\u001b[34m[07/30/2020 01:50:58 INFO 139889346479936] #progress_metric: host=algo-1, completed 100 % of epochs\u001b[0m\n",
      "\u001b[34m#metrics {\"Metrics\": {\"Max Batches Seen Between Resets\": {\"count\": 1, \"max\": 7, \"sum\": 7.0, \"min\": 7}, \"Number of Batches Since Last Reset\": {\"count\": 1, \"max\": 7, \"sum\": 7.0, \"min\": 7}, \"Number of Records Since Last Reset\": {\"count\": 1, \"max\": 3218, \"sum\": 3218.0, \"min\": 3218}, \"Total Batches Seen\": {\"count\": 1, \"max\": 7, \"sum\": 7.0, \"min\": 7}, \"Total Records Seen\": {\"count\": 1, \"max\": 3218, \"sum\": 3218.0, \"min\": 3218}, \"Max Records Seen Between Resets\": {\"count\": 1, \"max\": 3218, \"sum\": 3218.0, \"min\": 3218}, \"Reset Count\": {\"count\": 1, \"max\": 1, \"sum\": 1.0, \"min\": 1}}, \"EndTime\": 1596073858.932639, \"Dimensions\": {\"Host\": \"algo-1\", \"Meta\": \"training_data_iter\", \"Operation\": \"training\", \"Algorithm\": \"PCA\", \"epoch\": 0}, \"StartTime\": 1596073858.892645}\n",
      "\u001b[0m\n",
      "\u001b[34m[07/30/2020 01:50:58 INFO 139889346479936] #throughput_metric: host=algo-1, train throughput=80183.391386 records/second\u001b[0m\n",
      "\u001b[34m#metrics {\"Metrics\": {\"finalize.time\": {\"count\": 1, \"max\": 16.975879669189453, \"sum\": 16.975879669189453, \"min\": 16.975879669189453}}, \"EndTime\": 1596073858.950194, \"Dimensions\": {\"Host\": \"algo-1\", \"Operation\": \"training\", \"Algorithm\": \"PCA\"}, \"StartTime\": 1596073858.932267}\n",
      "\u001b[0m\n",
      "\u001b[34m[07/30/2020 01:50:58 INFO 139889346479936] Test data is not provided.\u001b[0m\n",
      "\u001b[34m#metrics {\"Metrics\": {\"totaltime\": {\"count\": 1, \"max\": 951.6968727111816, \"sum\": 951.6968727111816, \"min\": 951.6968727111816}, \"setuptime\": {\"count\": 1, \"max\": 38.83695602416992, \"sum\": 38.83695602416992, \"min\": 38.83695602416992}}, \"EndTime\": 1596073858.955657, \"Dimensions\": {\"Host\": \"algo-1\", \"Operation\": \"training\", \"Algorithm\": \"PCA\"}, \"StartTime\": 1596073858.950253}\n",
      "\u001b[0m\n"
     ]
    },
    {
     "name": "stdout",
     "output_type": "stream",
     "text": [
      "Training seconds: 43\n",
      "Billable seconds: 43\n",
      "CPU times: user 413 ms, sys: 21.3 ms, total: 435 ms\n",
      "Wall time: 3min 11s\n"
     ]
    }
   ],
   "source": [
    "%%time\n",
    "\n",
    "# train the PCA mode on the formatted data\n",
    "pca_SM.fit(formatted_train_data)"
   ]
  },
  {
   "cell_type": "markdown",
   "metadata": {},
   "source": [
    "## Accessing the PCA Model Attributes\n",
    "\n",
    "After the model is trained, we can access the underlying model parameters.\n",
    "\n",
    "### Unzip the Model Details\n",
    "\n",
    "Now that the training job is complete, you can find the job under **Jobs** in the **Training**  subsection  in the Amazon SageMaker console. You can find the job name listed in the training jobs. Use that job name in the following code to specify which model to examine.\n",
    "\n",
    "Model artifacts are stored in S3 as a TAR file; a compressed file in the output path we specified + 'output/model.tar.gz'. The artifacts stored here can be used to deploy a trained model."
   ]
  },
  {
   "cell_type": "code",
   "execution_count": 30,
   "metadata": {},
   "outputs": [
    {
     "name": "stdout",
     "output_type": "stream",
     "text": [
      "counties/pca-2020-07-29-02-11-01-520/output/model.tar.gz\n"
     ]
    },
    {
     "data": {
      "text/plain": [
       "2304"
      ]
     },
     "execution_count": 30,
     "metadata": {},
     "output_type": "execute_result"
    }
   ],
   "source": [
    "# Get the name of the training job, it's suggested that you copy-paste\n",
    "# from the notebook or from a specific job in the AWS console\n",
    "\n",
    "training_job_name='pca-2020-07-29-02-11-01-520'\n",
    "\n",
    "# where the model is saved, by default\n",
    "model_key = os.path.join(prefix, training_job_name, 'output/model.tar.gz')\n",
    "print(model_key)\n",
    "\n",
    "# download and unzip model\n",
    "boto3.resource('s3').Bucket(bucket_name).download_file(model_key, 'model.tar.gz')\n",
    "\n",
    "# unzipping as model_algo-1\n",
    "os.system('tar -zxvf model.tar.gz')\n",
    "os.system('unzip model_algo-1')"
   ]
  },
  {
   "cell_type": "markdown",
   "metadata": {},
   "source": [
    "### MXNet Array\n",
    "\n",
    "Many of the Amazon SageMaker algorithms use MXNet for computational speed, including PCA, and so the model artifacts are stored as an array. After the model is unzipped and decompressed, we can load the array using MXNet.\n",
    "\n",
    "You can take a look at the MXNet [documentation, here](https://aws.amazon.com/mxnet/)."
   ]
  },
  {
   "cell_type": "code",
   "execution_count": 31,
   "metadata": {},
   "outputs": [
    {
     "name": "stdout",
     "output_type": "stream",
     "text": [
      "{'s': \n",
      "[1.7896362e-02 3.0864021e-02 3.2130770e-02 3.5486195e-02 9.4831578e-02\n",
      " 1.2699370e-01 4.0288666e-01 1.4084760e+00 1.5100485e+00 1.5957943e+00\n",
      " 1.7783760e+00 2.1662524e+00 2.2966361e+00 2.3856051e+00 2.6954880e+00\n",
      " 2.8067985e+00 3.0175958e+00 3.3952675e+00 3.5731301e+00 3.6966958e+00\n",
      " 4.1890211e+00 4.3457499e+00 4.5410376e+00 5.0189657e+00 5.5786467e+00\n",
      " 5.9809699e+00 6.3925138e+00 7.6952214e+00 7.9913125e+00 1.0180052e+01\n",
      " 1.1718245e+01 1.3035975e+01 1.9592180e+01]\n",
      "<NDArray 33 @cpu(0)>, 'v': \n",
      "[[ 2.46869749e-03  2.56468095e-02  2.50773830e-03 ... -7.63925165e-02\n",
      "   1.59879066e-02  5.04589686e-03]\n",
      " [-2.80601848e-02 -6.86634064e-01 -1.96283013e-02 ... -7.59587288e-02\n",
      "   1.57304872e-02  4.95312130e-03]\n",
      " [ 3.25766727e-02  7.17300594e-01  2.40726061e-02 ... -7.68136829e-02\n",
      "   1.62378680e-02  5.13597298e-03]\n",
      " ...\n",
      " [ 1.12151138e-01 -1.17030945e-02 -2.88011521e-01 ...  1.39890045e-01\n",
      "  -3.09406728e-01 -6.34506866e-02]\n",
      " [ 2.99992133e-02 -3.13433539e-03 -7.63589665e-02 ...  4.17341813e-02\n",
      "  -7.06735924e-02 -1.42857227e-02]\n",
      " [ 7.33537527e-05  3.01008171e-04 -8.00925500e-06 ...  6.97060227e-02\n",
      "   1.20169498e-01  2.33626723e-01]]\n",
      "<NDArray 34x33 @cpu(0)>, 'mean': \n",
      "[[0.00988273 0.00986636 0.00989863 0.11017046 0.7560245  0.10094159\n",
      "  0.0186819  0.02940491 0.0064698  0.01154038 0.31539047 0.1222766\n",
      "  0.3030056  0.08220861 0.256217   0.2964254  0.28914267 0.40191284\n",
      "  0.57868284 0.2854676  0.28294644 0.82774544 0.34378946 0.01576072\n",
      "  0.04649627 0.04115358 0.12442778 0.47014    0.00980645 0.7608103\n",
      "  0.19442631 0.21674445 0.0294168  0.22177474]]\n",
      "<NDArray 1x34 @cpu(0)>}\n"
     ]
    }
   ],
   "source": [
    "import mxnet as mx\n",
    "\n",
    "# loading the unzipped artifacts\n",
    "pca_model_params = mx.ndarray.load('model_algo-1')\n",
    "\n",
    "# what are the params\n",
    "print(pca_model_params)"
   ]
  },
  {
   "cell_type": "markdown",
   "metadata": {},
   "source": [
    "## PCA Model Attributes\n",
    "\n",
    "Three types of model attributes are contained within the PCA model.\n",
    "\n",
    "* **mean**: The mean that was subtracted from a component in order to center it.\n",
    "* **v**: The makeup of the principal components; (same as ‘components_’ in an sklearn PCA model).\n",
    "* **s**: The singular values of the components for the PCA transformation. This does not exactly give the % variance from the original feature space, but can give the % variance from the projected feature space.\n",
    "    \n",
    "We are only interested in v and s. \n",
    "\n",
    "**From s**, we can **get an approximation of the data variance** that is covered in the first `n` principal components. The approximate explained variance is given by the formula: the sum of squared s values for all top n components over the sum pf squared s values for _all_ components:\n",
    "\n",
    "\\begin{equation*}\n",
    "\\frac{\\sum_{n}^{ } s_n^2}{\\sum s^2}\n",
    "\\end{equation*}\n",
    "\n",
    "**From v**, we can learn more **about the combinations of original features** that **make up each principal component**.\n"
   ]
  },
  {
   "cell_type": "code",
   "execution_count": 32,
   "metadata": {},
   "outputs": [],
   "source": [
    "# get selected params\n",
    "s=pd.DataFrame(pca_model_params['s'].asnumpy())\n",
    "v=pd.DataFrame(pca_model_params['v'].asnumpy())"
   ]
  },
  {
   "cell_type": "markdown",
   "metadata": {},
   "source": [
    "## Data Variance\n",
    "\n",
    "Our current PCA model creates 33 principal components, but when we create new dimensionality-reduced training data, we'll only select a few, top n components to use. To decide how many top components to include, it's helpful to look at how much **data variance** the components capture. For our original, high-dimensional data, 34 features captured 100% of our data variance. If we discard some of these higher dimensions, we will lower the amount of variance we can capture.\n",
    "\n",
    "### Tradeoff: dimensionality vs. data variance\n",
    "\n",
    "As an illustrative example, say we have original data in three dimensions. So, three dimensions capture 100% of our data variance; these dimensions cover the entire spread of our data. The below images are taken from the PhD thesis,  [“Approaches to analyse and interpret biological profile data”](https://publishup.uni-potsdam.de/opus4-ubp/frontdoor/index/index/docId/696) by Matthias Scholz, (2006, University of Potsdam, Germany).\n",
    "\n",
    "<img src='notebook_ims/3d_original_data.png' width=35% />\n",
    "\n",
    "Now, you may also note that most of this data seems related; it falls close to a 2D plane, and just by looking at the spread of the data, we  can visualize that the original, three dimensions have some correlation. So, we can instead choose to create two new dimensions, made up of linear combinations of the original, three dimensions. These dimensions are represented by the two axes/lines, centered in the data. \n",
    "\n",
    "<img src='notebook_ims/pca_2d_dim_reduction.png' width=70% />\n",
    "\n",
    "If we project this in a new, 2D space, we can see that we still capture most of the original data variance using *just* two dimensions. ***There is a tradeoff between the amount of variance we can capture and the number of component-dimensions we use to represent our data***.\n",
    "\n",
    "When we select the top n components to use in a new data model, we'll typically want to include enough components to capture about 80-90% of the original data variance. In this project, we are looking at generalizing over a lot of data and we'll aim for about 80% coverage."
   ]
  },
  {
   "cell_type": "markdown",
   "metadata": {},
   "source": [
    "**Note**: The _top_ principal components, with the largest s values, are actually at the end of the s DataFrame. Let's print out the s values for the top n, principal components."
   ]
  },
  {
   "cell_type": "code",
   "execution_count": 33,
   "metadata": {},
   "outputs": [
    {
     "name": "stdout",
     "output_type": "stream",
     "text": [
      "            0\n",
      "28   7.991313\n",
      "29  10.180052\n",
      "30  11.718245\n",
      "31  13.035975\n",
      "32  19.592180\n"
     ]
    }
   ],
   "source": [
    "# looking at top 5 components\n",
    "n_principal_components = 5\n",
    "\n",
    "start_idx = N_COMPONENTS - n_principal_components  # 33-n\n",
    "\n",
    "# print a selection of s\n",
    "print(s.iloc[start_idx:, :])"
   ]
  },
  {
   "cell_type": "markdown",
   "metadata": {},
   "source": [
    "### EXERCISE: Calculate the explained variance\n",
    "\n",
    "In creating new training data, you'll want to choose the top n principal components that account for at least 80% data variance. \n",
    "\n",
    "Complete a function, `explained_variance` that takes in the entire array `s` and a number of top principal components to consider. Then return the approximate, explained variance for those top n components. \n",
    "\n",
    "For example, to calculate the explained variance for the top 5 components, calculate s squared for *each* of the top 5 components, add those up and normalize by the sum of *all* squared s values, according to this formula:\n",
    "\n",
    "\\begin{equation*}\n",
    "\\frac{\\sum_{5}^{ } s_n^2}{\\sum s^2}\n",
    "\\end{equation*}\n",
    "\n",
    "> Using this function, you should be able to answer the **question**: What is the smallest number of principal components that captures at least 80% of the total variance in the dataset?\n",
    "\n",
    "At least 7 components capture 80.17% of the variability."
   ]
  },
  {
   "cell_type": "code",
   "execution_count": 34,
   "metadata": {},
   "outputs": [],
   "source": [
    "# Calculate the explained variance for the top n principal components\n",
    "# you may assume you have access to the global var N_COMPONENTS\n",
    "def explained_variance(s, n_top_components):\n",
    "    '''Calculates the approx. data variance that n_top_components captures.\n",
    "       :param s: A dataframe of singular values for top components; \n",
    "           the top value is in the last row.\n",
    "       :param n_top_components: An integer, the number of top components to use.\n",
    "       :return: The expected data variance covered by the n_top_components.'''\n",
    "    \n",
    "    # Calculate the denominator\n",
    "    denominator = np.sum(s**2)\n",
    "    \n",
    "    # Filter s by n_top_components\n",
    "    s_top_components = s.iloc[len(s) - n_top_components:, :]\n",
    "    \n",
    "    # Calculate the numerator\n",
    "    numerator = np.sum(s_top_components**2)\n",
    "    \n",
    "    return np.round(numerator/denominator,4)"
   ]
  },
  {
   "cell_type": "markdown",
   "metadata": {},
   "source": [
    "### Test Cell\n",
    "\n",
    "Test out your own code by seeing how it responds to different inputs; does it return a reasonable value for the single, top component? What about for the top 5 components?"
   ]
  },
  {
   "cell_type": "code",
   "execution_count": 35,
   "metadata": {},
   "outputs": [
    {
     "name": "stdout",
     "output_type": "stream",
     "text": [
      "Explained variance:  0    0.8017\n",
      "dtype: float32\n"
     ]
    }
   ],
   "source": [
    "# test cell\n",
    "n_top_components = 7 # select a value for the number of top components\n",
    "\n",
    "# calculate the explained variance\n",
    "exp_variance = explained_variance(s, n_top_components)\n",
    "print('Explained variance: ', exp_variance)"
   ]
  },
  {
   "cell_type": "markdown",
   "metadata": {},
   "source": [
    "As an example, you should see that the top principal component accounts for about 32% of our data variance! Next, you may be wondering what makes up this (and other components); what linear combination of features make these components so influential in describing the spread of our data?\n",
    "\n",
    "Below, let's take a look at our original features and use that as a reference."
   ]
  },
  {
   "cell_type": "code",
   "execution_count": 36,
   "metadata": {},
   "outputs": [
    {
     "name": "stdout",
     "output_type": "stream",
     "text": [
      "Features: \n",
      " ['TotalPop' 'Men' 'Women' 'Hispanic' 'White' 'Black' 'Native' 'Asian'\n",
      " 'Pacific' 'Citizen' 'Income' 'IncomeErr' 'IncomePerCap' 'IncomePerCapErr'\n",
      " 'Poverty' 'ChildPoverty' 'Professional' 'Service' 'Office' 'Construction'\n",
      " 'Production' 'Drive' 'Carpool' 'Transit' 'Walk' 'OtherTransp'\n",
      " 'WorkAtHome' 'MeanCommute' 'Employed' 'PrivateWork' 'PublicWork'\n",
      " 'SelfEmployed' 'FamilyWork' 'Unemployment']\n"
     ]
    }
   ],
   "source": [
    "# features\n",
    "features_list = counties_scaled.columns.values\n",
    "print('Features: \\n', features_list)"
   ]
  },
  {
   "cell_type": "markdown",
   "metadata": {},
   "source": [
    "## Component Makeup\n",
    "\n",
    "We can now examine the makeup of each PCA component based on **the weightings of the original features that are included in the component**. The following code shows the feature-level makeup of the first component.\n",
    "\n",
    "Note that the components are again ordered from smallest to largest and so I am getting the correct rows by calling N_COMPONENTS-1 to get the top, 1, component."
   ]
  },
  {
   "cell_type": "code",
   "execution_count": 37,
   "metadata": {},
   "outputs": [],
   "source": [
    "import seaborn as sns\n",
    "\n",
    "def display_component(v, features_list, component_num, n_weights=10):\n",
    "    \n",
    "    # get index of component (last row - component_num)\n",
    "    row_idx = N_COMPONENTS-component_num\n",
    "\n",
    "    # get the list of weights from a row in v, dataframe\n",
    "    v_1_row = v.iloc[:, row_idx]\n",
    "    v_1 = np.squeeze(v_1_row.values)\n",
    "\n",
    "    # match weights to features in counties_scaled dataframe, using list comporehension\n",
    "    comps = pd.DataFrame(list(zip(v_1, features_list)), \n",
    "                         columns=['weights', 'features'])\n",
    "\n",
    "    # we'll want to sort by the largest n_weights\n",
    "    # weights can be neg/pos and we'll sort by magnitude\n",
    "    comps['abs_weights']=comps['weights'].apply(lambda x: np.abs(x))\n",
    "    sorted_weight_data = comps.sort_values('abs_weights', ascending=False).head(n_weights)\n",
    "\n",
    "    # display using seaborn\n",
    "    ax=plt.subplots(figsize=(10,6))\n",
    "    ax=sns.barplot(data=sorted_weight_data, \n",
    "                   x=\"weights\", \n",
    "                   y=\"features\", \n",
    "                   palette=\"Blues_d\")\n",
    "    ax.set_title(\"PCA Component Makeup, Component #\" + str(component_num))\n",
    "    plt.show()"
   ]
  },
  {
   "cell_type": "code",
   "execution_count": 38,
   "metadata": {},
   "outputs": [
    {
     "data": {
      "image/png": "[encoded data removed]",
      "text/plain": [
       "<Figure size 720x432 with 1 Axes>"
      ]
     },
     "metadata": {
      "needs_background": "light"
     },
     "output_type": "display_data"
    }
   ],
   "source": [
    "# display makeup of first component\n",
    "num=1\n",
    "display_component(v, counties_scaled.columns.values, component_num=num, n_weights=10)"
   ]
  },
  {
   "cell_type": "markdown",
   "metadata": {},
   "source": [
    "# Deploying the PCA Model\n",
    "\n",
    "We can now deploy this model and use it to make \"predictions\". Instead of seeing what happens with some test data, we'll actually want to pass our training data into the deployed endpoint to create principal components for each data point. \n",
    "\n",
    "Run the cell below to deploy/host this model on an instance_type that we specify."
   ]
  },
  {
   "cell_type": "code",
   "execution_count": 39,
   "metadata": {},
   "outputs": [
    {
     "name": "stderr",
     "output_type": "stream",
     "text": [
      "Parameter image will be renamed to image_uri in SageMaker Python SDK v2.\n"
     ]
    },
    {
     "name": "stdout",
     "output_type": "stream",
     "text": [
      "---------------!CPU times: user 278 ms, sys: 14.3 ms, total: 293 ms\n",
      "Wall time: 7min 32s\n"
     ]
    }
   ],
   "source": [
    "%%time\n",
    "# this takes a little while, around 7mins\n",
    "pca_predictor = pca_SM.deploy(initial_instance_count=1, \n",
    "                              instance_type='ml.t2.medium')"
   ]
  },
  {
   "cell_type": "markdown",
   "metadata": {},
   "source": [
    "We can pass the original, numpy dataset to the model and transform the data using the model we created. Then we can take the largest n components to reduce the dimensionality of our data."
   ]
  },
  {
   "cell_type": "code",
   "execution_count": 40,
   "metadata": {},
   "outputs": [],
   "source": [
    "# pass np train data to the PCA model\n",
    "train_pca = pca_predictor.predict(train_data_np)"
   ]
  },
  {
   "cell_type": "code",
   "execution_count": 41,
   "metadata": {},
   "outputs": [
    {
     "name": "stdout",
     "output_type": "stream",
     "text": [
      "label {\n",
      "  key: \"projection\"\n",
      "  value {\n",
      "    float32_tensor {\n",
      "      values: 0.0002009272575378418\n",
      "      values: 0.0002455431967973709\n",
      "      values: -0.0005782842636108398\n",
      "      values: -0.0007815659046173096\n",
      "      values: -0.00041911262087523937\n",
      "      values: -0.0005133943632245064\n",
      "      values: -0.0011316537857055664\n",
      "      values: 0.0017268601804971695\n",
      "      values: -0.005361668765544891\n",
      "      values: -0.009066537022590637\n",
      "      values: -0.008141040802001953\n",
      "      values: -0.004735097289085388\n",
      "      values: -0.00716288760304451\n",
      "      values: 0.0003725700080394745\n",
      "      values: -0.01208949089050293\n",
      "      values: 0.02134685218334198\n",
      "      values: 0.0009293854236602783\n",
      "      values: 0.002417147159576416\n",
      "      values: -0.0034637749195098877\n",
      "      values: 0.01794189214706421\n",
      "      values: -0.01639425754547119\n",
      "      values: 0.06260128319263458\n",
      "      values: 0.06637358665466309\n",
      "      values: 0.002479255199432373\n",
      "      values: 0.10011336207389832\n",
      "      values: -0.1136140376329422\n",
      "      values: 0.02589476853609085\n",
      "      values: 0.04045158624649048\n",
      "      values: -0.01082391943782568\n",
      "      values: 0.1204797774553299\n",
      "      values: -0.0883558839559555\n",
      "      values: 0.16052711009979248\n",
      "      values: -0.06027412414550781\n",
      "    }\n",
      "  }\n",
      "}\n",
      "\n"
     ]
    }
   ],
   "source": [
    "# check out the first item in the produced training features\n",
    "data_idx = 0\n",
    "print(train_pca[data_idx])"
   ]
  },
  {
   "cell_type": "code",
   "execution_count": 42,
   "metadata": {},
   "outputs": [
    {
     "data": {
      "text/plain": [
       "['ByteSize',\n",
       " 'Clear',\n",
       " 'ClearExtension',\n",
       " 'ClearField',\n",
       " 'CopyFrom',\n",
       " 'DESCRIPTOR',\n",
       " 'DiscardUnknownFields',\n",
       " 'Extensions',\n",
       " 'FeaturesEntry',\n",
       " 'FindInitializationErrors',\n",
       " 'FromString',\n",
       " 'HasExtension',\n",
       " 'HasField',\n",
       " 'IsInitialized',\n",
       " 'LabelEntry',\n",
       " 'ListFields',\n",
       " 'MergeFrom',\n",
       " 'MergeFromString',\n",
       " 'ParseFromString',\n",
       " 'RegisterExtension',\n",
       " 'SerializePartialToString',\n",
       " 'SerializeToString',\n",
       " 'SetInParent',\n",
       " 'UnknownFields',\n",
       " 'WhichOneof',\n",
       " '_CheckCalledFromGeneratedFile',\n",
       " '_SetListener',\n",
       " '__class__',\n",
       " '__deepcopy__',\n",
       " '__delattr__',\n",
       " '__dir__',\n",
       " '__doc__',\n",
       " '__eq__',\n",
       " '__format__',\n",
       " '__ge__',\n",
       " '__getattribute__',\n",
       " '__getstate__',\n",
       " '__gt__',\n",
       " '__hash__',\n",
       " '__init__',\n",
       " '__init_subclass__',\n",
       " '__le__',\n",
       " '__lt__',\n",
       " '__module__',\n",
       " '__ne__',\n",
       " '__new__',\n",
       " '__reduce__',\n",
       " '__reduce_ex__',\n",
       " '__repr__',\n",
       " '__setattr__',\n",
       " '__setstate__',\n",
       " '__sizeof__',\n",
       " '__slots__',\n",
       " '__str__',\n",
       " '__subclasshook__',\n",
       " '__unicode__',\n",
       " '_extensions_by_name',\n",
       " '_extensions_by_number',\n",
       " 'configuration',\n",
       " 'features',\n",
       " 'label',\n",
       " 'metadata',\n",
       " 'uid']"
      ]
     },
     "execution_count": 42,
     "metadata": {},
     "output_type": "execute_result"
    }
   ],
   "source": [
    "dir(train_pca[data_idx])"
   ]
  },
  {
   "cell_type": "code",
   "execution_count": 43,
   "metadata": {},
   "outputs": [
    {
     "data": {
      "text/plain": [
       "[0.0002009272575378418, 0.0002455431967973709, -0.0005782842636108398, -0.0007815659046173096, -0.00041911262087523937, -0.0005133943632245064, -0.0011316537857055664, 0.0017268601804971695, -0.005361668765544891, -0.009066537022590637, -0.008141040802001953, -0.004735097289085388, -0.00716288760304451, 0.0003725700080394745, -0.01208949089050293, 0.02134685218334198, 0.0009293854236602783, 0.002417147159576416, -0.0034637749195098877, 0.01794189214706421, -0.01639425754547119, 0.06260128319263458, 0.06637358665466309, 0.002479255199432373, 0.10011336207389832, -0.1136140376329422, 0.02589476853609085, 0.04045158624649048, -0.01082391943782568, 0.1204797774553299, -0.0883558839559555, 0.16052711009979248, -0.06027412414550781]"
      ]
     },
     "execution_count": 43,
     "metadata": {},
     "output_type": "execute_result"
    }
   ],
   "source": [
    "train_pca[data_idx].label['projection'].float32_tensor.values"
   ]
  },
  {
   "cell_type": "markdown",
   "metadata": {
    "collapsed": true
   },
   "source": [
    "### EXERCISE: Create a transformed DataFrame\n",
    "\n",
    "For each of our data points, get the top n component values from the list of component data points, returned by our predictor above, and put those into a new DataFrame.\n",
    "\n",
    "You should end up with a DataFrame that looks something like the following:\n",
    "```\n",
    "                     c_1\t     c_2\t       c_3\t       c_4\t      c_5\t   ...\n",
    "Alabama-Autauga\t-0.060274\t0.160527\t-0.088356\t 0.120480\t-0.010824\t...\n",
    "Alabama-Baldwin\t-0.149684\t0.185969\t-0.145743\t-0.023092\t-0.068677\t...\n",
    "Alabama-Barbour\t0.506202\t 0.296662\t 0.146258\t 0.297829\t0.093111\t...\n",
    "...\n",
    "```"
   ]
  },
  {
   "cell_type": "code",
   "execution_count": 47,
   "metadata": {},
   "outputs": [],
   "source": [
    "# create dimensionality-reduced data\n",
    "def create_transformed_df(train_pca, counties_scaled, n_top_components):\n",
    "    ''' Return a dataframe of data points with component features. \n",
    "        The dataframe should be indexed by State-County and contain component values.\n",
    "        :param train_pca: A list of pca training data, returned by a PCA model.\n",
    "        :param counties_scaled: A dataframe of normalized, original features.\n",
    "        :param n_top_components: An integer, the number of top components to use.\n",
    "        :return: A dataframe, indexed by State-County, with n_top_component values as columns.        \n",
    "     '''\n",
    "    # create a dataframe of component features, indexed by State-County\n",
    "    \n",
    "    df_components = pd.DataFrame()\n",
    "\n",
    "    # Iterate over every value and append to df_components\n",
    "    for comp in train_pca:\n",
    "        comp_values = comp.label['projection'].float32_tensor.values\n",
    "        df_components = df_components.append([list(comp_values)])\n",
    "        \n",
    "    # Set index \n",
    "    df_components.index = counties_scaled.index\n",
    "    \n",
    "    # Filter top n components \n",
    "    start_idx = df_components.shape[1] - n_top_components\n",
    "\n",
    "    # print a selection of s\n",
    "    df_components = df_components.iloc[:, start_idx:]\n",
    "    \n",
    "    return df_components.iloc[:, ::-1]"
   ]
  },
  {
   "cell_type": "markdown",
   "metadata": {},
   "source": [
    "Now we can create a dataset where each county is described by the top n principle components that we analyzed earlier. Each of these components is a linear combination of the original feature space. We can interpret each of these components by analyzing the makeup of the component, shown previously.\n",
    "\n",
    "### Define the `top_n` components to use in this transformed data\n",
    "\n",
    "Your code should return data, indexed by 'State-County' and with as many columns as `top_n` components.\n",
    "\n",
    "You can also choose to add descriptive column names for this data; names that correspond to the component number or feature-level makeup."
   ]
  },
  {
   "cell_type": "code",
   "execution_count": 48,
   "metadata": {},
   "outputs": [
    {
     "data": {
      "text/html": [
       "<div>\n",
       "<style scoped>\n",
       "    .dataframe tbody tr th:only-of-type {\n",
       "        vertical-align: middle;\n",
       "    }\n",
       "\n",
       "    .dataframe tbody tr th {\n",
       "        vertical-align: top;\n",
       "    }\n",
       "\n",
       "    .dataframe thead th {\n",
       "        text-align: right;\n",
       "    }\n",
       "</style>\n",
       "<table border=\"1\" class=\"dataframe\">\n",
       "  <thead>\n",
       "    <tr style=\"text-align: right;\">\n",
       "      <th></th>\n",
       "      <th>c_0</th>\n",
       "      <th>c_1</th>\n",
       "      <th>c_2</th>\n",
       "      <th>c_3</th>\n",
       "      <th>c_4</th>\n",
       "      <th>c_5</th>\n",
       "    </tr>\n",
       "    <tr>\n",
       "      <th>State-County</th>\n",
       "      <th></th>\n",
       "      <th></th>\n",
       "      <th></th>\n",
       "      <th></th>\n",
       "      <th></th>\n",
       "      <th></th>\n",
       "    </tr>\n",
       "  </thead>\n",
       "  <tbody>\n",
       "    <tr>\n",
       "      <th>Alabama-Autauga</th>\n",
       "      <td>-0.060274</td>\n",
       "      <td>0.160527</td>\n",
       "      <td>-0.088356</td>\n",
       "      <td>0.120480</td>\n",
       "      <td>-0.010824</td>\n",
       "      <td>0.040452</td>\n",
       "    </tr>\n",
       "    <tr>\n",
       "      <th>Alabama-Baldwin</th>\n",
       "      <td>-0.149684</td>\n",
       "      <td>0.185969</td>\n",
       "      <td>-0.145743</td>\n",
       "      <td>-0.023092</td>\n",
       "      <td>-0.068677</td>\n",
       "      <td>0.051573</td>\n",
       "    </tr>\n",
       "    <tr>\n",
       "      <th>Alabama-Barbour</th>\n",
       "      <td>0.506202</td>\n",
       "      <td>0.296662</td>\n",
       "      <td>0.146258</td>\n",
       "      <td>0.297829</td>\n",
       "      <td>0.093111</td>\n",
       "      <td>-0.065244</td>\n",
       "    </tr>\n",
       "    <tr>\n",
       "      <th>Alabama-Bibb</th>\n",
       "      <td>0.069224</td>\n",
       "      <td>0.190861</td>\n",
       "      <td>0.224402</td>\n",
       "      <td>0.011757</td>\n",
       "      <td>0.283526</td>\n",
       "      <td>0.017874</td>\n",
       "    </tr>\n",
       "    <tr>\n",
       "      <th>Alabama-Blount</th>\n",
       "      <td>-0.091030</td>\n",
       "      <td>0.254403</td>\n",
       "      <td>0.022714</td>\n",
       "      <td>-0.193824</td>\n",
       "      <td>0.100738</td>\n",
       "      <td>0.209945</td>\n",
       "    </tr>\n",
       "  </tbody>\n",
       "</table>\n",
       "</div>"
      ],
      "text/plain": [
       "                      c_0       c_1       c_2       c_3       c_4       c_5\n",
       "State-County                                                               \n",
       "Alabama-Autauga -0.060274  0.160527 -0.088356  0.120480 -0.010824  0.040452\n",
       "Alabama-Baldwin -0.149684  0.185969 -0.145743 -0.023092 -0.068677  0.051573\n",
       "Alabama-Barbour  0.506202  0.296662  0.146258  0.297829  0.093111 -0.065244\n",
       "Alabama-Bibb     0.069224  0.190861  0.224402  0.011757  0.283526  0.017874\n",
       "Alabama-Blount  -0.091030  0.254403  0.022714 -0.193824  0.100738  0.209945"
      ]
     },
     "execution_count": 48,
     "metadata": {},
     "output_type": "execute_result"
    }
   ],
   "source": [
    "## Specify top n\n",
    "top_n = 6\n",
    "\n",
    "# call your function and create a new dataframe\n",
    "counties_transformed = create_transformed_df(train_pca, counties_scaled, n_top_components=top_n)\n",
    "\n",
    "## TODO: Add descriptive column names\n",
    "counties_transformed.columns = [f'c_{i}' for i in range(counties_transformed.shape[1])]\n",
    "    \n",
    "# print result\n",
    "counties_transformed.head()"
   ]
  },
  {
   "cell_type": "markdown",
   "metadata": {
    "collapsed": true
   },
   "source": [
    "### Delete the Endpoint!\n",
    "\n",
    "Now that we've deployed the mode and created our new, transformed training data, we no longer need the PCA endpoint.\n",
    "\n",
    "As a clean up step, you should always delete your endpoints after you are done using them (and if you do not plan to deploy them to a website, for example)."
   ]
  },
  {
   "cell_type": "code",
   "execution_count": 49,
   "metadata": {},
   "outputs": [],
   "source": [
    "# delete predictor endpoint\n",
    "session.delete_endpoint(pca_predictor.endpoint)"
   ]
  },
  {
   "cell_type": "markdown",
   "metadata": {},
   "source": [
    "---\n",
    "# Population Segmentation \n",
    "\n",
    "Now, you’ll use the unsupervised clustering algorithm, k-means, to segment counties using their PCA attributes, which are in the transformed DataFrame we just created. K-means is a clustering algorithm that identifies clusters of similar data points based on their component makeup. Since we have ~3000 counties and 34 attributes in the original dataset, the large feature space may have made it difficult to cluster the counties effectively. Instead, we have reduced the feature space to 7 PCA components, and we’ll cluster on this transformed dataset."
   ]
  },
  {
   "cell_type": "markdown",
   "metadata": {},
   "source": [
    "### EXERCISE: Define a k-means model\n",
    "\n",
    "Your task will be to instantiate a k-means model. A `KMeans` estimator requires a number of parameters to be instantiated, which allow us to specify the type of training instance to use, and the model hyperparameters. \n",
    "\n",
    "You can read about the required parameters, in the [`KMeans` documentation](https://sagemaker.readthedocs.io/en/stable/kmeans.html); note that not all of the possible parameters are required.\n"
   ]
  },
  {
   "cell_type": "markdown",
   "metadata": {},
   "source": [
    "### Choosing a \"Good\" K\n",
    "\n",
    "One method for choosing a \"good\" k, is to choose based on empirical data. A bad k would be one so *high* that only one or two very close data points are near it, and another bad k would be one so *low* that data points are really far away from the centers.\n",
    "\n",
    "You want to select a k such that data points in a single cluster are close together but that there are enough clusters to effectively separate the data. You can approximate this separation by measuring how close your data points are to each cluster center; the average centroid distance between cluster points and a centroid. After trying several values for k, the centroid distance typically reaches some \"elbow\"; it stops decreasing at a sharp rate and this indicates a good value of k. The graph below indicates the average centroid distance for value of k between 5 and 12.\n",
    "\n",
    "<img src='notebook_ims/elbow_graph.png' width=50% />\n",
    "\n",
    "A distance elbow can be seen around 8 when the distance starts to increase and then decrease at a slower rate. This indicates that there is enough separation to distinguish the data points in each cluster, but also that you included enough clusters so that the data points aren’t *extremely* far away from each cluster."
   ]
  },
  {
   "cell_type": "code",
   "execution_count": 51,
   "metadata": {},
   "outputs": [],
   "source": [
    "# define a KMeans estimator\n",
    "from sagemaker import KMeans\n",
    "\n",
    "prefix = 'mdl_params'\n",
    "\n",
    "output_path='s3://{}/{}/'.format(bucket_name, prefix)\n",
    "\n",
    "KMeans_SM = KMeans(role=role,\n",
    "                   train_instance_count=1,\n",
    "                   train_instance_type='ml.c4.xlarge',\n",
    "                   k=8,\n",
    "                   output_path=output_path,\n",
    "                   sagemaker_session=session)"
   ]
  },
  {
   "cell_type": "markdown",
   "metadata": {},
   "source": [
    "### EXERCISE: Create formatted, k-means training data\n",
    "\n",
    "Just as before, you should convert the `counties_transformed` df into a numpy array and then into a RecordSet. This is the required format for passing training data into a `KMeans` model."
   ]
  },
  {
   "cell_type": "code",
   "execution_count": 52,
   "metadata": {},
   "outputs": [],
   "source": [
    "# convert the transformed dataframe into record_set data\n",
    "# convert df to np array\n",
    "train_data_k_means = counties_transformed.values.astype('float32')\n",
    "\n",
    "# convert to RecordSet format\n",
    "formatted_train_data = KMeans_SM.record_set(train_data_k_means)"
   ]
  },
  {
   "cell_type": "markdown",
   "metadata": {},
   "source": [
    "### EXERCISE: Train the k-means model\n",
    "\n",
    "Pass in the formatted training data and train the k-means model."
   ]
  },
  {
   "cell_type": "code",
   "execution_count": 53,
   "metadata": {},
   "outputs": [
    {
     "name": "stderr",
     "output_type": "stream",
     "text": [
      "'get_image_uri' method will be deprecated in favor of 'ImageURIProvider' class in SageMaker Python SDK v2.\n",
      "'s3_input' class will be renamed to 'TrainingInput' in SageMaker Python SDK v2.\n",
      "'get_image_uri' method will be deprecated in favor of 'ImageURIProvider' class in SageMaker Python SDK v2.\n"
     ]
    },
    {
     "name": "stdout",
     "output_type": "stream",
     "text": [
      "2020-07-30 02:01:09 Starting - Starting the training job...\n",
      "2020-07-30 02:01:11 Starting - Launching requested ML instances......\n",
      "2020-07-30 02:02:22 Starting - Preparing the instances for training.........\n",
      "2020-07-30 02:04:02 Downloading - Downloading input data\n",
      "2020-07-30 02:04:02 Training - Downloading the training image...\n",
      "2020-07-30 02:04:21 Training - Training image download completed. Training in progress.\u001b[34mDocker entrypoint called with argument(s): train\u001b[0m\n",
      "\u001b[34mRunning default environment configuration script\u001b[0m\n",
      "\u001b[34m[07/30/2020 02:04:25 INFO 140552910731072] Reading default configuration from /opt/amazon/lib/python2.7/site-packages/algorithm/resources/default-input.json: {u'_enable_profiler': u'false', u'_tuning_objective_metric': u'', u'_num_gpus': u'auto', u'local_lloyd_num_trials': u'auto', u'_log_level': u'info', u'_kvstore': u'auto', u'local_lloyd_init_method': u'kmeans++', u'force_dense': u'true', u'epochs': u'1', u'init_method': u'random', u'local_lloyd_tol': u'0.0001', u'local_lloyd_max_iter': u'300', u'_disable_wait_to_read': u'false', u'extra_center_factor': u'auto', u'eval_metrics': u'[\"msd\"]', u'_num_kv_servers': u'1', u'mini_batch_size': u'5000', u'half_life_time_size': u'0', u'_num_slices': u'1'}\u001b[0m\n",
      "\u001b[34m[07/30/2020 02:04:25 INFO 140552910731072] Reading provided configuration from /opt/ml/input/config/hyperparameters.json: {u'feature_dim': u'6', u'k': u'8', u'force_dense': u'True'}\u001b[0m\n",
      "\u001b[34m[07/30/2020 02:04:25 INFO 140552910731072] Final configuration: {u'_tuning_objective_metric': u'', u'extra_center_factor': u'auto', u'local_lloyd_init_method': u'kmeans++', u'force_dense': u'True', u'epochs': u'1', u'feature_dim': u'6', u'local_lloyd_tol': u'0.0001', u'_disable_wait_to_read': u'false', u'eval_metrics': u'[\"msd\"]', u'_num_kv_servers': u'1', u'mini_batch_size': u'5000', u'_enable_profiler': u'false', u'_num_gpus': u'auto', u'local_lloyd_num_trials': u'auto', u'_log_level': u'info', u'init_method': u'random', u'half_life_time_size': u'0', u'local_lloyd_max_iter': u'300', u'_kvstore': u'auto', u'k': u'8', u'_num_slices': u'1'}\u001b[0m\n",
      "\u001b[34m[07/30/2020 02:04:25 WARNING 140552910731072] Loggers have already been setup.\u001b[0m\n",
      "\u001b[34mProcess 1 is a worker.\u001b[0m\n",
      "\u001b[34m[07/30/2020 02:04:25 INFO 140552910731072] Using default worker.\u001b[0m\n",
      "\u001b[34m[07/30/2020 02:04:25 INFO 140552910731072] Loaded iterator creator application/x-recordio-protobuf for content type ('application/x-recordio-protobuf', '1.0')\u001b[0m\n",
      "\u001b[34m[07/30/2020 02:04:25 INFO 140552910731072] Create Store: local\u001b[0m\n",
      "\u001b[34m[07/30/2020 02:04:25 INFO 140552910731072] nvidia-smi took: 0.0252029895782 secs to identify 0 gpus\u001b[0m\n",
      "\u001b[34m[07/30/2020 02:04:25 INFO 140552910731072] Number of GPUs being used: 0\u001b[0m\n",
      "\u001b[34m[07/30/2020 02:04:25 INFO 140552910731072] Setting up with params: {u'_tuning_objective_metric': u'', u'extra_center_factor': u'auto', u'local_lloyd_init_method': u'kmeans++', u'force_dense': u'True', u'epochs': u'1', u'feature_dim': u'6', u'local_lloyd_tol': u'0.0001', u'_disable_wait_to_read': u'false', u'eval_metrics': u'[\"msd\"]', u'_num_kv_servers': u'1', u'mini_batch_size': u'5000', u'_enable_profiler': u'false', u'_num_gpus': u'auto', u'local_lloyd_num_trials': u'auto', u'_log_level': u'info', u'init_method': u'random', u'half_life_time_size': u'0', u'local_lloyd_max_iter': u'300', u'_kvstore': u'auto', u'k': u'8', u'_num_slices': u'1'}\u001b[0m\n",
      "\u001b[34m[07/30/2020 02:04:25 INFO 140552910731072] 'extra_center_factor' was set to 'auto', evaluated to 10.\u001b[0m\n",
      "\u001b[34m[07/30/2020 02:04:25 INFO 140552910731072] Number of GPUs being used: 0\u001b[0m\n",
      "\u001b[34m[07/30/2020 02:04:25 INFO 140552910731072] number of center slices 1\u001b[0m\n",
      "\u001b[34m[07/30/2020 02:04:25 WARNING 140552910731072] Batch size 5000 is bigger than the first batch data. Effective batch size used to initialize is 3218\u001b[0m\n",
      "\u001b[34m#metrics {\"Metrics\": {\"Max Batches Seen Between Resets\": {\"count\": 1, \"max\": 1, \"sum\": 1.0, \"min\": 1}, \"Number of Batches Since Last Reset\": {\"count\": 1, \"max\": 1, \"sum\": 1.0, \"min\": 1}, \"Number of Records Since Last Reset\": {\"count\": 1, \"max\": 3218, \"sum\": 3218.0, \"min\": 3218}, \"Total Batches Seen\": {\"count\": 1, \"max\": 1, \"sum\": 1.0, \"min\": 1}, \"Total Records Seen\": {\"count\": 1, \"max\": 3218, \"sum\": 3218.0, \"min\": 3218}, \"Max Records Seen Between Resets\": {\"count\": 1, \"max\": 3218, \"sum\": 3218.0, \"min\": 3218}, \"Reset Count\": {\"count\": 1, \"max\": 0, \"sum\": 0.0, \"min\": 0}}, \"EndTime\": 1596074665.56538, \"Dimensions\": {\"Host\": \"algo-1\", \"Meta\": \"init_train_data_iter\", \"Operation\": \"training\", \"Algorithm\": \"AWS/KMeansWebscale\"}, \"StartTime\": 1596074665.565346}\n",
      "\u001b[0m\n",
      "\u001b[34m[2020-07-30 02:04:25.565] [tensorio] [info] epoch_stats={\"data_pipeline\": \"/opt/ml/input/data/train\", \"epoch\": 0, \"duration\": 43, \"num_examples\": 1, \"num_bytes\": 154464}\u001b[0m\n",
      "\u001b[34m[2020-07-30 02:04:25.629] [tensorio] [info] epoch_stats={\"data_pipeline\": \"/opt/ml/input/data/train\", \"epoch\": 1, \"duration\": 63, \"num_examples\": 1, \"num_bytes\": 154464}\u001b[0m\n",
      "\u001b[34m[07/30/2020 02:04:25 INFO 140552910731072] processed a total of 3218 examples\u001b[0m\n",
      "\u001b[34m[07/30/2020 02:04:25 INFO 140552910731072] #progress_metric: host=algo-1, completed 100 % of epochs\u001b[0m\n",
      "\u001b[34m#metrics {\"Metrics\": {\"Max Batches Seen Between Resets\": {\"count\": 1, \"max\": 1, \"sum\": 1.0, \"min\": 1}, \"Number of Batches Since Last Reset\": {\"count\": 1, \"max\": 1, \"sum\": 1.0, \"min\": 1}, \"Number of Records Since Last Reset\": {\"count\": 1, \"max\": 3218, \"sum\": 3218.0, \"min\": 3218}, \"Total Batches Seen\": {\"count\": 1, \"max\": 2, \"sum\": 2.0, \"min\": 2}, \"Total Records Seen\": {\"count\": 1, \"max\": 6436, \"sum\": 6436.0, \"min\": 6436}, \"Max Records Seen Between Resets\": {\"count\": 1, \"max\": 3218, \"sum\": 3218.0, \"min\": 3218}, \"Reset Count\": {\"count\": 1, \"max\": 1, \"sum\": 1.0, \"min\": 1}}, \"EndTime\": 1596074665.630146, \"Dimensions\": {\"Host\": \"algo-1\", \"Meta\": \"training_data_iter\", \"Operation\": \"training\", \"Algorithm\": \"AWS/KMeansWebscale\", \"epoch\": 0}, \"StartTime\": 1596074665.565629}\n",
      "\u001b[0m\n",
      "\u001b[34m[07/30/2020 02:04:25 INFO 140552910731072] #throughput_metric: host=algo-1, train throughput=49774.9359138 records/second\u001b[0m\n",
      "\u001b[34m[07/30/2020 02:04:25 WARNING 140552910731072] wait_for_all_workers will not sync workers since the kv store is not running distributed\u001b[0m\n",
      "\u001b[34m[07/30/2020 02:04:25 INFO 140552910731072] shrinking 80 centers into 8\u001b[0m\n",
      "\u001b[34m[07/30/2020 02:04:25 INFO 140552910731072] local kmeans attempt #0. Current mean square distance 0.061105\u001b[0m\n",
      "\u001b[34m[07/30/2020 02:04:25 INFO 140552910731072] local kmeans attempt #1. Current mean square distance 0.065781\u001b[0m\n",
      "\u001b[34m[07/30/2020 02:04:25 INFO 140552910731072] local kmeans attempt #2. Current mean square distance 0.066250\u001b[0m\n",
      "\u001b[34m[07/30/2020 02:04:25 INFO 140552910731072] local kmeans attempt #3. Current mean square distance 0.063024\u001b[0m\n",
      "\u001b[34m[07/30/2020 02:04:25 INFO 140552910731072] local kmeans attempt #4. Current mean square distance 0.059763\u001b[0m\n",
      "\u001b[34m[07/30/2020 02:04:25 INFO 140552910731072] local kmeans attempt #5. Current mean square distance 0.063470\u001b[0m\n",
      "\u001b[34m[07/30/2020 02:04:25 INFO 140552910731072] local kmeans attempt #6. Current mean square distance 0.068096\u001b[0m\n",
      "\u001b[34m[07/30/2020 02:04:25 INFO 140552910731072] local kmeans attempt #7. Current mean square distance 0.063959\u001b[0m\n",
      "\u001b[34m[07/30/2020 02:04:25 INFO 140552910731072] local kmeans attempt #8. Current mean square distance 0.064701\u001b[0m\n",
      "\u001b[34m[07/30/2020 02:04:25 INFO 140552910731072] local kmeans attempt #9. Current mean square distance 0.062275\u001b[0m\n",
      "\u001b[34m[07/30/2020 02:04:25 INFO 140552910731072] finished shrinking process. Mean Square Distance = 0\u001b[0m\n",
      "\u001b[34m[07/30/2020 02:04:25 INFO 140552910731072] #quality_metric: host=algo-1, train msd <loss>=0.059762917459\u001b[0m\n",
      "\u001b[34m[07/30/2020 02:04:25 INFO 140552910731072] compute all data-center distances: inner product took: 41.5891%, (0.029320 secs)\u001b[0m\n",
      "\u001b[34m[07/30/2020 02:04:25 INFO 140552910731072] gradient: one_hot took: 11.1392%, (0.007853 secs)\u001b[0m\n",
      "\u001b[34m[07/30/2020 02:04:25 INFO 140552910731072] compute all data-center distances: point norm took: 9.9190%, (0.006993 secs)\u001b[0m\n",
      "\u001b[34m[07/30/2020 02:04:25 INFO 140552910731072] collect from kv store took: 9.7834%, (0.006897 secs)\u001b[0m\n",
      "\u001b[34m[07/30/2020 02:04:25 INFO 140552910731072] splitting centers key-value pair took: 9.6738%, (0.006820 secs)\u001b[0m\n",
      "\u001b[34m[07/30/2020 02:04:25 INFO 140552910731072] predict compute msd took: 6.7661%, (0.004770 secs)\u001b[0m\n",
      "\u001b[34m[07/30/2020 02:04:25 INFO 140552910731072] batch data loading with context took: 6.3674%, (0.004489 secs)\u001b[0m\n",
      "\u001b[34m[07/30/2020 02:04:25 INFO 140552910731072] gradient: cluster size  took: 2.1265%, (0.001499 secs)\u001b[0m\n",
      "\u001b[34m[07/30/2020 02:04:25 INFO 140552910731072] gradient: cluster center took: 1.2963%, (0.000914 secs)\u001b[0m\n",
      "\u001b[34m[07/30/2020 02:04:25 INFO 140552910731072] update state and report convergance took: 0.7504%, (0.000529 secs)\u001b[0m\n",
      "\u001b[34m[07/30/2020 02:04:25 INFO 140552910731072] update set-up time took: 0.3490%, (0.000246 secs)\u001b[0m\n",
      "\u001b[34m[07/30/2020 02:04:25 INFO 140552910731072] compute all data-center distances: center norm took: 0.2127%, (0.000150 secs)\u001b[0m\n",
      "\u001b[34m[07/30/2020 02:04:25 INFO 140552910731072] predict minus dist took: 0.0271%, (0.000019 secs)\u001b[0m\n",
      "\u001b[34m[07/30/2020 02:04:25 INFO 140552910731072] TOTAL took: 0.0704991817474\u001b[0m\n",
      "\u001b[34m[07/30/2020 02:04:25 INFO 140552910731072] Number of GPUs being used: 0\u001b[0m\n",
      "\u001b[34m#metrics {\"Metrics\": {\"finalize.time\": {\"count\": 1, \"max\": 288.20204734802246, \"sum\": 288.20204734802246, \"min\": 288.20204734802246}, \"initialize.time\": {\"count\": 1, \"max\": 37.0640754699707, \"sum\": 37.0640754699707, \"min\": 37.0640754699707}, \"model.serialize.time\": {\"count\": 1, \"max\": 0.12993812561035156, \"sum\": 0.12993812561035156, \"min\": 0.12993812561035156}, \"update.time\": {\"count\": 1, \"max\": 64.32986259460449, \"sum\": 64.32986259460449, \"min\": 64.32986259460449}, \"epochs\": {\"count\": 1, \"max\": 1, \"sum\": 1.0, \"min\": 1}, \"state.serialize.time\": {\"count\": 1, \"max\": 2.0961761474609375, \"sum\": 2.0961761474609375, \"min\": 2.0961761474609375}, \"_shrink.time\": {\"count\": 1, \"max\": 286.3490581512451, \"sum\": 286.3490581512451, \"min\": 286.3490581512451}}, \"EndTime\": 1596074665.921035, \"Dimensions\": {\"Host\": \"algo-1\", \"Operation\": \"training\", \"Algorithm\": \"AWS/KMeansWebscale\"}, \"StartTime\": 1596074665.521122}\n",
      "\u001b[0m\n",
      "\u001b[34m[07/30/2020 02:04:25 INFO 140552910731072] Test data is not provided.\u001b[0m\n",
      "\u001b[34m#metrics {\"Metrics\": {\"totaltime\": {\"count\": 1, \"max\": 485.78405380249023, \"sum\": 485.78405380249023, \"min\": 485.78405380249023}, \"setuptime\": {\"count\": 1, \"max\": 24.929046630859375, \"sum\": 24.929046630859375, \"min\": 24.929046630859375}}, \"EndTime\": 1596074665.921407, \"Dimensions\": {\"Host\": \"algo-1\", \"Operation\": \"training\", \"Algorithm\": \"AWS/KMeansWebscale\"}, \"StartTime\": 1596074665.921125}\n",
      "\u001b[0m\n"
     ]
    },
    {
     "name": "stdout",
     "output_type": "stream",
     "text": [
      "\n",
      "2020-07-30 02:04:59 Uploading - Uploading generated training model\n",
      "2020-07-30 02:04:59 Completed - Training job completed\n",
      "Training seconds: 70\n",
      "Billable seconds: 70\n",
      "CPU times: user 536 ms, sys: 24.2 ms, total: 560 ms\n",
      "Wall time: 4min 12s\n"
     ]
    }
   ],
   "source": [
    "%%time\n",
    "# train kmeans\n",
    "KMeans_SM.fit(formatted_train_data)"
   ]
  },
  {
   "cell_type": "markdown",
   "metadata": {},
   "source": [
    "### EXERCISE: Deploy the k-means model\n",
    "\n",
    "Deploy the trained model to create a `kmeans_predictor`.\n"
   ]
  },
  {
   "cell_type": "code",
   "execution_count": 54,
   "metadata": {},
   "outputs": [
    {
     "name": "stderr",
     "output_type": "stream",
     "text": [
      "Parameter image will be renamed to image_uri in SageMaker Python SDK v2.\n"
     ]
    },
    {
     "name": "stdout",
     "output_type": "stream",
     "text": [
      "-----------------!CPU times: user 397 ms, sys: 16.4 ms, total: 413 ms\n",
      "Wall time: 8min 32s\n"
     ]
    }
   ],
   "source": [
    "%%time\n",
    "# deploy the model to create a predictor\n",
    "kmeans_predictor = KMeans_SM.deploy(initial_instance_count=1, \n",
    "                                    instance_type='ml.t2.medium')"
   ]
  },
  {
   "cell_type": "markdown",
   "metadata": {},
   "source": [
    "### EXERCISE: Pass in the training data and assign predicted cluster labels\n",
    "\n",
    "After deploying the model, you can pass in the k-means training data, as a numpy array, and get resultant, predicted cluster labels for each data point."
   ]
  },
  {
   "cell_type": "code",
   "execution_count": 56,
   "metadata": {},
   "outputs": [],
   "source": [
    "# get the predicted clusters for all the kmeans training data\n",
    "cluster_info = kmeans_predictor.predict(train_data_k_means) "
   ]
  },
  {
   "cell_type": "markdown",
   "metadata": {},
   "source": [
    "## Exploring the resultant clusters\n",
    "\n",
    "The resulting predictions should give you information about the cluster that each data point belongs to.\n",
    "\n",
    "You should be able to answer the **question**: which cluster does a given data point belong to?"
   ]
  },
  {
   "cell_type": "code",
   "execution_count": 57,
   "metadata": {},
   "outputs": [
    {
     "name": "stdout",
     "output_type": "stream",
     "text": [
      "County is:  Alabama-Autauga\n",
      "\n",
      "label {\n",
      "  key: \"closest_cluster\"\n",
      "  value {\n",
      "    float32_tensor {\n",
      "      values: 2.0\n",
      "    }\n",
      "  }\n",
      "}\n",
      "label {\n",
      "  key: \"distance_to_cluster\"\n",
      "  value {\n",
      "    float32_tensor {\n",
      "      values: 0.2772333025932312\n",
      "    }\n",
      "  }\n",
      "}\n",
      "\n"
     ]
    }
   ],
   "source": [
    "# print cluster info for first data point\n",
    "data_idx = 0\n",
    "\n",
    "print('County is: ', counties_transformed.index[data_idx])\n",
    "print()\n",
    "print(cluster_info[data_idx])"
   ]
  },
  {
   "cell_type": "markdown",
   "metadata": {},
   "source": [
    "### Visualize the distribution of data over clusters\n",
    "\n",
    "Get the cluster labels for each of our data points (counties) and visualize the distribution of points over each cluster."
   ]
  },
  {
   "cell_type": "code",
   "execution_count": 58,
   "metadata": {},
   "outputs": [],
   "source": [
    "# get all cluster labels\n",
    "cluster_labels = [c.label['closest_cluster'].float32_tensor.values[0] for c in cluster_info]"
   ]
  },
  {
   "cell_type": "code",
   "execution_count": 59,
   "metadata": {},
   "outputs": [
    {
     "name": "stdout",
     "output_type": "stream",
     "text": [
      "2.0    864\n",
      "1.0    798\n",
      "6.0    389\n",
      "4.0    365\n",
      "7.0    345\n",
      "5.0    203\n",
      "0.0    160\n",
      "3.0     94\n",
      "Name: 0, dtype: int64\n"
     ]
    }
   ],
   "source": [
    "# count up the points in each cluster\n",
    "cluster_df = pd.DataFrame(cluster_labels)[0].value_counts()\n",
    "\n",
    "print(cluster_df)"
   ]
  },
  {
   "cell_type": "markdown",
   "metadata": {},
   "source": [
    "Now, you may be wondering, what do each of these clusters tell us about these data points? To improve explainability, we need to access the underlying model to get the cluster centers. These centers will help describe which features characterize each cluster."
   ]
  },
  {
   "cell_type": "markdown",
   "metadata": {},
   "source": [
    "### Delete the Endpoint!\n",
    "\n",
    "Now that you've deployed the k-means model and extracted the cluster labels for each data point, you no longer need the k-means endpoint."
   ]
  },
  {
   "cell_type": "code",
   "execution_count": 60,
   "metadata": {},
   "outputs": [],
   "source": [
    "# delete kmeans endpoint\n",
    "session.delete_endpoint(kmeans_predictor.endpoint)"
   ]
  },
  {
   "cell_type": "markdown",
   "metadata": {},
   "source": [
    "---\n",
    "# Model Attributes & Explainability\n",
    "\n",
    "Explaining the result of the modeling is an important step in making use of our analysis. By combining PCA and k-means, and the information contained in the model attributes within a SageMaker trained model, you can learn about a population and remark on some patterns you've found, based on the data."
   ]
  },
  {
   "cell_type": "markdown",
   "metadata": {},
   "source": [
    "### EXERCISE: Access the k-means model attributes\n",
    "\n",
    "Extract the k-means model attributes from where they are saved as a TAR file in an S3 bucket.\n",
    "\n",
    "You'll need to access the model by the k-means training job name, and then unzip the file into `model_algo-1`. Then you can load that file using MXNet, as before."
   ]
  },
  {
   "cell_type": "code",
   "execution_count": 61,
   "metadata": {},
   "outputs": [
    {
     "name": "stdout",
     "output_type": "stream",
     "text": [
      "mdl_params/kmeans-2020-07-30-02-01-08-943/output/model.tar.gz\n"
     ]
    },
    {
     "data": {
      "text/plain": [
       "2304"
      ]
     },
     "execution_count": 61,
     "metadata": {},
     "output_type": "execute_result"
    }
   ],
   "source": [
    "# download and unzip the kmeans model file\n",
    "# use the name model_algo-1\n",
    "training_job_name= 'kmeans-2020-07-30-02-01-08-943'\n",
    "\n",
    "# where the model is saved, by default\n",
    "model_key = os.path.join(prefix, training_job_name, 'output/model.tar.gz')\n",
    "print(model_key)\n",
    "\n",
    "# download and unzip model\n",
    "boto3.resource('s3').Bucket(bucket_name).download_file(model_key, 'model.tar.gz')\n",
    "\n",
    "# unzipping as model_algo-1\n",
    "os.system('tar -zxvf model.tar.gz')\n",
    "os.system('unzip model_algo-1')"
   ]
  },
  {
   "cell_type": "code",
   "execution_count": 62,
   "metadata": {},
   "outputs": [
    {
     "name": "stdout",
     "output_type": "stream",
     "text": [
      "[\n",
      "[[ 0.26820275 -0.25946283  0.08265419  0.21513012 -0.14907281  0.00774088]\n",
      " [-0.04902597  0.09623495  0.15656212 -0.06789616 -0.00580148  0.04998308]\n",
      " [-0.20846152  0.05133345 -0.02161214 -0.05498687 -0.05459895 -0.03581124]\n",
      " [ 1.2947955  -0.23877266 -0.17162225 -0.42201784 -0.1153792   0.10319826]\n",
      " [ 0.3831265   0.25871378  0.05424635  0.28383812  0.10049468 -0.06036197]\n",
      " [ 0.30780149 -0.2096076  -0.09873153 -0.19374347  0.17017148 -0.13080122]\n",
      " [-0.13090783  0.04243454 -0.3430782   0.06951939 -0.0075748   0.08360156]\n",
      " [-0.26512662 -0.38063803  0.07030644  0.08858064  0.0469005  -0.02888292]]\n",
      "<NDArray 8x6 @cpu(0)>]\n"
     ]
    }
   ],
   "source": [
    "# get the trained kmeans params using mxnet\n",
    "kmeans_model_params = mx.ndarray.load('model_algo-1')\n",
    "\n",
    "print(kmeans_model_params)"
   ]
  },
  {
   "cell_type": "markdown",
   "metadata": {},
   "source": [
    "There is only 1 set of model parameters contained within the k-means model: the cluster centroid locations in PCA-transformed, component space.\n",
    "\n",
    "* **centroids**: The location of the centers of each cluster in component space, identified by the k-means algorithm. \n"
   ]
  },
  {
   "cell_type": "code",
   "execution_count": 63,
   "metadata": {},
   "outputs": [
    {
     "data": {
      "text/html": [
       "<div>\n",
       "<style scoped>\n",
       "    .dataframe tbody tr th:only-of-type {\n",
       "        vertical-align: middle;\n",
       "    }\n",
       "\n",
       "    .dataframe tbody tr th {\n",
       "        vertical-align: top;\n",
       "    }\n",
       "\n",
       "    .dataframe thead th {\n",
       "        text-align: right;\n",
       "    }\n",
       "</style>\n",
       "<table border=\"1\" class=\"dataframe\">\n",
       "  <thead>\n",
       "    <tr style=\"text-align: right;\">\n",
       "      <th></th>\n",
       "      <th>c_0</th>\n",
       "      <th>c_1</th>\n",
       "      <th>c_2</th>\n",
       "      <th>c_3</th>\n",
       "      <th>c_4</th>\n",
       "      <th>c_5</th>\n",
       "    </tr>\n",
       "  </thead>\n",
       "  <tbody>\n",
       "    <tr>\n",
       "      <th>0</th>\n",
       "      <td>0.268203</td>\n",
       "      <td>-0.259463</td>\n",
       "      <td>0.082654</td>\n",
       "      <td>0.215130</td>\n",
       "      <td>-0.149073</td>\n",
       "      <td>0.007741</td>\n",
       "    </tr>\n",
       "    <tr>\n",
       "      <th>1</th>\n",
       "      <td>-0.049026</td>\n",
       "      <td>0.096235</td>\n",
       "      <td>0.156562</td>\n",
       "      <td>-0.067896</td>\n",
       "      <td>-0.005801</td>\n",
       "      <td>0.049983</td>\n",
       "    </tr>\n",
       "    <tr>\n",
       "      <th>2</th>\n",
       "      <td>-0.208462</td>\n",
       "      <td>0.051333</td>\n",
       "      <td>-0.021612</td>\n",
       "      <td>-0.054987</td>\n",
       "      <td>-0.054599</td>\n",
       "      <td>-0.035811</td>\n",
       "    </tr>\n",
       "    <tr>\n",
       "      <th>3</th>\n",
       "      <td>1.294796</td>\n",
       "      <td>-0.238773</td>\n",
       "      <td>-0.171622</td>\n",
       "      <td>-0.422018</td>\n",
       "      <td>-0.115379</td>\n",
       "      <td>0.103198</td>\n",
       "    </tr>\n",
       "    <tr>\n",
       "      <th>4</th>\n",
       "      <td>0.383126</td>\n",
       "      <td>0.258714</td>\n",
       "      <td>0.054246</td>\n",
       "      <td>0.283838</td>\n",
       "      <td>0.100495</td>\n",
       "      <td>-0.060362</td>\n",
       "    </tr>\n",
       "    <tr>\n",
       "      <th>5</th>\n",
       "      <td>0.307801</td>\n",
       "      <td>-0.209608</td>\n",
       "      <td>-0.098732</td>\n",
       "      <td>-0.193743</td>\n",
       "      <td>0.170171</td>\n",
       "      <td>-0.130801</td>\n",
       "    </tr>\n",
       "    <tr>\n",
       "      <th>6</th>\n",
       "      <td>-0.130908</td>\n",
       "      <td>0.042435</td>\n",
       "      <td>-0.343078</td>\n",
       "      <td>0.069519</td>\n",
       "      <td>-0.007575</td>\n",
       "      <td>0.083602</td>\n",
       "    </tr>\n",
       "    <tr>\n",
       "      <th>7</th>\n",
       "      <td>-0.265127</td>\n",
       "      <td>-0.380638</td>\n",
       "      <td>0.070306</td>\n",
       "      <td>0.088581</td>\n",
       "      <td>0.046901</td>\n",
       "      <td>-0.028883</td>\n",
       "    </tr>\n",
       "  </tbody>\n",
       "</table>\n",
       "</div>"
      ],
      "text/plain": [
       "        c_0       c_1       c_2       c_3       c_4       c_5\n",
       "0  0.268203 -0.259463  0.082654  0.215130 -0.149073  0.007741\n",
       "1 -0.049026  0.096235  0.156562 -0.067896 -0.005801  0.049983\n",
       "2 -0.208462  0.051333 -0.021612 -0.054987 -0.054599 -0.035811\n",
       "3  1.294796 -0.238773 -0.171622 -0.422018 -0.115379  0.103198\n",
       "4  0.383126  0.258714  0.054246  0.283838  0.100495 -0.060362\n",
       "5  0.307801 -0.209608 -0.098732 -0.193743  0.170171 -0.130801\n",
       "6 -0.130908  0.042435 -0.343078  0.069519 -0.007575  0.083602\n",
       "7 -0.265127 -0.380638  0.070306  0.088581  0.046901 -0.028883"
      ]
     },
     "metadata": {},
     "output_type": "display_data"
    }
   ],
   "source": [
    "# get all the centroids\n",
    "cluster_centroids=pd.DataFrame(kmeans_model_params[0].asnumpy())\n",
    "cluster_centroids.columns=counties_transformed.columns\n",
    "\n",
    "display(cluster_centroids)"
   ]
  },
  {
   "cell_type": "markdown",
   "metadata": {},
   "source": [
    "### Visualizing Centroids in Component Space\n",
    "\n",
    "You can't visualize 7-dimensional centroids in space, but you can plot a heatmap of the centroids and their location in the transformed feature space. \n",
    "\n",
    "This gives you insight into what characteristics define each cluster. Often with unsupervised learning, results are hard to interpret. This is one way to make use of the results of PCA + clustering techniques, together. Since you were able to examine the makeup of each PCA component, you can understand what each centroid represents in terms of the PCA components."
   ]
  },
  {
   "cell_type": "code",
   "execution_count": 64,
   "metadata": {},
   "outputs": [
    {
     "data": {
      "image/png": "[encoded data removed]",
      "text/plain": [
       "<Figure size 864x648 with 2 Axes>"
      ]
     },
     "metadata": {
      "needs_background": "light"
     },
     "output_type": "display_data"
    }
   ],
   "source": [
    "# generate a heatmap in component space, using the seaborn library\n",
    "plt.figure(figsize = (12,9))\n",
    "ax = sns.heatmap(cluster_centroids.T, cmap = 'YlGnBu')\n",
    "ax.set_xlabel(\"Cluster\")\n",
    "plt.yticks(fontsize = 16)\n",
    "plt.xticks(fontsize = 16)\n",
    "ax.set_title(\"Attribute Value by Centroid\")\n",
    "plt.show()"
   ]
  },
  {
   "cell_type": "markdown",
   "metadata": {},
   "source": [
    "If you've forgotten what each component corresponds to at an original-feature-level, that's okay! You can use the previously defined `display_component` function to see the feature-level makeup."
   ]
  },
  {
   "cell_type": "code",
   "execution_count": 65,
   "metadata": {},
   "outputs": [
    {
     "data": {
      "image/png": "[encoded data removed]",
      "text/plain": [
       "<Figure size 720x432 with 1 Axes>"
      ]
     },
     "metadata": {
      "needs_background": "light"
     },
     "output_type": "display_data"
    }
   ],
   "source": [
    "# what do each of these components mean again?\n",
    "# let's use the display function, from above\n",
    "component_num=7\n",
    "display_component(v, counties_scaled.columns.values, component_num=component_num)"
   ]
  },
  {
   "cell_type": "markdown",
   "metadata": {},
   "source": [
    "### Natural Groupings\n",
    "\n",
    "You can also map the cluster labels back to each individual county and examine which counties are naturally grouped together."
   ]
  },
  {
   "cell_type": "code",
   "execution_count": 66,
   "metadata": {},
   "outputs": [
    {
     "data": {
      "text/html": [
       "<div>\n",
       "<style scoped>\n",
       "    .dataframe tbody tr th:only-of-type {\n",
       "        vertical-align: middle;\n",
       "    }\n",
       "\n",
       "    .dataframe tbody tr th {\n",
       "        vertical-align: top;\n",
       "    }\n",
       "\n",
       "    .dataframe thead th {\n",
       "        text-align: right;\n",
       "    }\n",
       "</style>\n",
       "<table border=\"1\" class=\"dataframe\">\n",
       "  <thead>\n",
       "    <tr style=\"text-align: right;\">\n",
       "      <th></th>\n",
       "      <th>c_0</th>\n",
       "      <th>c_1</th>\n",
       "      <th>c_2</th>\n",
       "      <th>c_3</th>\n",
       "      <th>c_4</th>\n",
       "      <th>c_5</th>\n",
       "      <th>labels</th>\n",
       "    </tr>\n",
       "    <tr>\n",
       "      <th>State-County</th>\n",
       "      <th></th>\n",
       "      <th></th>\n",
       "      <th></th>\n",
       "      <th></th>\n",
       "      <th></th>\n",
       "      <th></th>\n",
       "      <th></th>\n",
       "    </tr>\n",
       "  </thead>\n",
       "  <tbody>\n",
       "    <tr>\n",
       "      <th>Texas-Madison</th>\n",
       "      <td>0.302838</td>\n",
       "      <td>-0.189592</td>\n",
       "      <td>0.131822</td>\n",
       "      <td>0.067299</td>\n",
       "      <td>0.133038</td>\n",
       "      <td>-0.029086</td>\n",
       "      <td>0</td>\n",
       "    </tr>\n",
       "    <tr>\n",
       "      <th>New Mexico-Lincoln</th>\n",
       "      <td>0.154916</td>\n",
       "      <td>-0.301063</td>\n",
       "      <td>-0.077356</td>\n",
       "      <td>-0.032503</td>\n",
       "      <td>-0.075268</td>\n",
       "      <td>0.039937</td>\n",
       "      <td>0</td>\n",
       "    </tr>\n",
       "    <tr>\n",
       "      <th>California-Butte</th>\n",
       "      <td>0.072500</td>\n",
       "      <td>-0.099601</td>\n",
       "      <td>-0.058343</td>\n",
       "      <td>-0.003215</td>\n",
       "      <td>-0.234418</td>\n",
       "      <td>0.019646</td>\n",
       "      <td>0</td>\n",
       "    </tr>\n",
       "    <tr>\n",
       "      <th>Wyoming-Albany</th>\n",
       "      <td>-0.014142</td>\n",
       "      <td>-0.381188</td>\n",
       "      <td>0.052265</td>\n",
       "      <td>0.197573</td>\n",
       "      <td>-0.306736</td>\n",
       "      <td>-0.042116</td>\n",
       "      <td>0</td>\n",
       "    </tr>\n",
       "    <tr>\n",
       "      <th>California-Del Norte</th>\n",
       "      <td>0.276944</td>\n",
       "      <td>-0.397890</td>\n",
       "      <td>0.110375</td>\n",
       "      <td>0.166833</td>\n",
       "      <td>-0.283651</td>\n",
       "      <td>-0.011941</td>\n",
       "      <td>0</td>\n",
       "    </tr>\n",
       "    <tr>\n",
       "      <th>New Mexico-Harding</th>\n",
       "      <td>0.109290</td>\n",
       "      <td>-0.767601</td>\n",
       "      <td>-0.101617</td>\n",
       "      <td>0.196336</td>\n",
       "      <td>-0.089289</td>\n",
       "      <td>0.150507</td>\n",
       "      <td>0</td>\n",
       "    </tr>\n",
       "    <tr>\n",
       "      <th>California-Humboldt</th>\n",
       "      <td>0.044781</td>\n",
       "      <td>-0.245905</td>\n",
       "      <td>0.039311</td>\n",
       "      <td>0.075634</td>\n",
       "      <td>-0.237724</td>\n",
       "      <td>0.031277</td>\n",
       "      <td>0</td>\n",
       "    </tr>\n",
       "    <tr>\n",
       "      <th>Georgia-Houston</th>\n",
       "      <td>0.188830</td>\n",
       "      <td>0.006692</td>\n",
       "      <td>-0.085017</td>\n",
       "      <td>0.308680</td>\n",
       "      <td>-0.019209</td>\n",
       "      <td>-0.012795</td>\n",
       "      <td>0</td>\n",
       "    </tr>\n",
       "    <tr>\n",
       "      <th>California-Inyo</th>\n",
       "      <td>0.040366</td>\n",
       "      <td>-0.338395</td>\n",
       "      <td>-0.115814</td>\n",
       "      <td>0.091307</td>\n",
       "      <td>-0.197146</td>\n",
       "      <td>-0.111249</td>\n",
       "      <td>0</td>\n",
       "    </tr>\n",
       "    <tr>\n",
       "      <th>California-Lake</th>\n",
       "      <td>0.228921</td>\n",
       "      <td>-0.146745</td>\n",
       "      <td>0.115464</td>\n",
       "      <td>-0.020760</td>\n",
       "      <td>-0.121492</td>\n",
       "      <td>0.269757</td>\n",
       "      <td>0</td>\n",
       "    </tr>\n",
       "    <tr>\n",
       "      <th>California-Lassen</th>\n",
       "      <td>0.280207</td>\n",
       "      <td>-0.421207</td>\n",
       "      <td>0.118704</td>\n",
       "      <td>0.289020</td>\n",
       "      <td>-0.224650</td>\n",
       "      <td>0.178605</td>\n",
       "      <td>0</td>\n",
       "    </tr>\n",
       "    <tr>\n",
       "      <th>North Dakota-Rolette</th>\n",
       "      <td>0.629793</td>\n",
       "      <td>-0.544585</td>\n",
       "      <td>0.165337</td>\n",
       "      <td>0.455951</td>\n",
       "      <td>-0.360879</td>\n",
       "      <td>0.090763</td>\n",
       "      <td>0</td>\n",
       "    </tr>\n",
       "    <tr>\n",
       "      <th>North Dakota-Sioux</th>\n",
       "      <td>0.808657</td>\n",
       "      <td>-0.747921</td>\n",
       "      <td>0.195292</td>\n",
       "      <td>0.637698</td>\n",
       "      <td>-0.480554</td>\n",
       "      <td>0.232234</td>\n",
       "      <td>0</td>\n",
       "    </tr>\n",
       "    <tr>\n",
       "      <th>California-Mariposa</th>\n",
       "      <td>0.006794</td>\n",
       "      <td>-0.236261</td>\n",
       "      <td>0.014648</td>\n",
       "      <td>0.140926</td>\n",
       "      <td>-0.129242</td>\n",
       "      <td>0.392205</td>\n",
       "      <td>0</td>\n",
       "    </tr>\n",
       "    <tr>\n",
       "      <th>California-Mendocino</th>\n",
       "      <td>0.163576</td>\n",
       "      <td>-0.272364</td>\n",
       "      <td>0.007934</td>\n",
       "      <td>-0.029321</td>\n",
       "      <td>-0.128258</td>\n",
       "      <td>0.026381</td>\n",
       "      <td>0</td>\n",
       "    </tr>\n",
       "    <tr>\n",
       "      <th>New Mexico-Cibola</th>\n",
       "      <td>0.762540</td>\n",
       "      <td>-0.305616</td>\n",
       "      <td>0.005692</td>\n",
       "      <td>0.018933</td>\n",
       "      <td>-0.139248</td>\n",
       "      <td>0.029294</td>\n",
       "      <td>0</td>\n",
       "    </tr>\n",
       "    <tr>\n",
       "      <th>Virginia-Montgomery</th>\n",
       "      <td>-0.090854</td>\n",
       "      <td>-0.153677</td>\n",
       "      <td>-0.094487</td>\n",
       "      <td>0.206594</td>\n",
       "      <td>-0.327495</td>\n",
       "      <td>0.036923</td>\n",
       "      <td>0</td>\n",
       "    </tr>\n",
       "    <tr>\n",
       "      <th>Virginia-Prince Edward</th>\n",
       "      <td>0.190267</td>\n",
       "      <td>-0.007421</td>\n",
       "      <td>0.048970</td>\n",
       "      <td>0.337516</td>\n",
       "      <td>-0.056646</td>\n",
       "      <td>-0.053212</td>\n",
       "      <td>0</td>\n",
       "    </tr>\n",
       "    <tr>\n",
       "      <th>Ohio-Athens</th>\n",
       "      <td>0.106915</td>\n",
       "      <td>-0.112365</td>\n",
       "      <td>0.188592</td>\n",
       "      <td>0.138363</td>\n",
       "      <td>-0.431125</td>\n",
       "      <td>0.136543</td>\n",
       "      <td>0</td>\n",
       "    </tr>\n",
       "    <tr>\n",
       "      <th>Wisconsin-Menominee</th>\n",
       "      <td>0.917492</td>\n",
       "      <td>-0.562917</td>\n",
       "      <td>0.286533</td>\n",
       "      <td>0.508004</td>\n",
       "      <td>-0.422238</td>\n",
       "      <td>0.126634</td>\n",
       "      <td>0</td>\n",
       "    </tr>\n",
       "  </tbody>\n",
       "</table>\n",
       "</div>"
      ],
      "text/plain": [
       "                             c_0       c_1       c_2       c_3       c_4  \\\n",
       "State-County                                                               \n",
       "Texas-Madison           0.302838 -0.189592  0.131822  0.067299  0.133038   \n",
       "New Mexico-Lincoln      0.154916 -0.301063 -0.077356 -0.032503 -0.075268   \n",
       "California-Butte        0.072500 -0.099601 -0.058343 -0.003215 -0.234418   \n",
       "Wyoming-Albany         -0.014142 -0.381188  0.052265  0.197573 -0.306736   \n",
       "California-Del Norte    0.276944 -0.397890  0.110375  0.166833 -0.283651   \n",
       "New Mexico-Harding      0.109290 -0.767601 -0.101617  0.196336 -0.089289   \n",
       "California-Humboldt     0.044781 -0.245905  0.039311  0.075634 -0.237724   \n",
       "Georgia-Houston         0.188830  0.006692 -0.085017  0.308680 -0.019209   \n",
       "California-Inyo         0.040366 -0.338395 -0.115814  0.091307 -0.197146   \n",
       "California-Lake         0.228921 -0.146745  0.115464 -0.020760 -0.121492   \n",
       "California-Lassen       0.280207 -0.421207  0.118704  0.289020 -0.224650   \n",
       "North Dakota-Rolette    0.629793 -0.544585  0.165337  0.455951 -0.360879   \n",
       "North Dakota-Sioux      0.808657 -0.747921  0.195292  0.637698 -0.480554   \n",
       "California-Mariposa     0.006794 -0.236261  0.014648  0.140926 -0.129242   \n",
       "California-Mendocino    0.163576 -0.272364  0.007934 -0.029321 -0.128258   \n",
       "New Mexico-Cibola       0.762540 -0.305616  0.005692  0.018933 -0.139248   \n",
       "Virginia-Montgomery    -0.090854 -0.153677 -0.094487  0.206594 -0.327495   \n",
       "Virginia-Prince Edward  0.190267 -0.007421  0.048970  0.337516 -0.056646   \n",
       "Ohio-Athens             0.106915 -0.112365  0.188592  0.138363 -0.431125   \n",
       "Wisconsin-Menominee     0.917492 -0.562917  0.286533  0.508004 -0.422238   \n",
       "\n",
       "                             c_5  labels  \n",
       "State-County                              \n",
       "Texas-Madison          -0.029086       0  \n",
       "New Mexico-Lincoln      0.039937       0  \n",
       "California-Butte        0.019646       0  \n",
       "Wyoming-Albany         -0.042116       0  \n",
       "California-Del Norte   -0.011941       0  \n",
       "New Mexico-Harding      0.150507       0  \n",
       "California-Humboldt     0.031277       0  \n",
       "Georgia-Houston        -0.012795       0  \n",
       "California-Inyo        -0.111249       0  \n",
       "California-Lake         0.269757       0  \n",
       "California-Lassen       0.178605       0  \n",
       "North Dakota-Rolette    0.090763       0  \n",
       "North Dakota-Sioux      0.232234       0  \n",
       "California-Mariposa     0.392205       0  \n",
       "California-Mendocino    0.026381       0  \n",
       "New Mexico-Cibola       0.029294       0  \n",
       "Virginia-Montgomery     0.036923       0  \n",
       "Virginia-Prince Edward -0.053212       0  \n",
       "Ohio-Athens             0.136543       0  \n",
       "Wisconsin-Menominee     0.126634       0  "
      ]
     },
     "execution_count": 66,
     "metadata": {},
     "output_type": "execute_result"
    }
   ],
   "source": [
    "# add a 'labels' column to the dataframe\n",
    "counties_transformed['labels']=list(map(int, cluster_labels))\n",
    "\n",
    "# sort by cluster label 0-6\n",
    "sorted_counties = counties_transformed.sort_values('labels', ascending=True)\n",
    "# view some pts in cluster 0\n",
    "sorted_counties.head(20)"
   ]
  },
  {
   "cell_type": "markdown",
   "metadata": {},
   "source": [
    "You can also examine one of the clusters in more detail, like cluster 1, for example. A quick glance at the location of the centroid in component space (the heatmap) tells us that it has the highest value for the `comp_6` attribute. You can now see which counties fit that description."
   ]
  },
  {
   "cell_type": "code",
   "execution_count": 67,
   "metadata": {},
   "outputs": [
    {
     "data": {
      "text/html": [
       "<div>\n",
       "<style scoped>\n",
       "    .dataframe tbody tr th:only-of-type {\n",
       "        vertical-align: middle;\n",
       "    }\n",
       "\n",
       "    .dataframe tbody tr th {\n",
       "        vertical-align: top;\n",
       "    }\n",
       "\n",
       "    .dataframe thead th {\n",
       "        text-align: right;\n",
       "    }\n",
       "</style>\n",
       "<table border=\"1\" class=\"dataframe\">\n",
       "  <thead>\n",
       "    <tr style=\"text-align: right;\">\n",
       "      <th></th>\n",
       "      <th>c_0</th>\n",
       "      <th>c_1</th>\n",
       "      <th>c_2</th>\n",
       "      <th>c_3</th>\n",
       "      <th>c_4</th>\n",
       "      <th>c_5</th>\n",
       "      <th>labels</th>\n",
       "    </tr>\n",
       "    <tr>\n",
       "      <th>State-County</th>\n",
       "      <th></th>\n",
       "      <th></th>\n",
       "      <th></th>\n",
       "      <th></th>\n",
       "      <th></th>\n",
       "      <th></th>\n",
       "      <th></th>\n",
       "    </tr>\n",
       "  </thead>\n",
       "  <tbody>\n",
       "    <tr>\n",
       "      <th>Alabama-Bibb</th>\n",
       "      <td>0.069224</td>\n",
       "      <td>0.190861</td>\n",
       "      <td>0.224402</td>\n",
       "      <td>0.011757</td>\n",
       "      <td>0.283526</td>\n",
       "      <td>0.017874</td>\n",
       "      <td>1</td>\n",
       "    </tr>\n",
       "    <tr>\n",
       "      <th>Alabama-Blount</th>\n",
       "      <td>-0.091030</td>\n",
       "      <td>0.254403</td>\n",
       "      <td>0.022714</td>\n",
       "      <td>-0.193824</td>\n",
       "      <td>0.100738</td>\n",
       "      <td>0.209945</td>\n",
       "      <td>1</td>\n",
       "    </tr>\n",
       "    <tr>\n",
       "      <th>Alabama-Calhoun</th>\n",
       "      <td>0.128913</td>\n",
       "      <td>0.223409</td>\n",
       "      <td>0.070180</td>\n",
       "      <td>0.081091</td>\n",
       "      <td>-0.069090</td>\n",
       "      <td>0.002235</td>\n",
       "      <td>1</td>\n",
       "    </tr>\n",
       "    <tr>\n",
       "      <th>Alabama-Cherokee</th>\n",
       "      <td>-0.080311</td>\n",
       "      <td>0.104444</td>\n",
       "      <td>0.210828</td>\n",
       "      <td>-0.061823</td>\n",
       "      <td>0.027139</td>\n",
       "      <td>0.107847</td>\n",
       "      <td>1</td>\n",
       "    </tr>\n",
       "    <tr>\n",
       "      <th>Alabama-Chilton</th>\n",
       "      <td>0.022630</td>\n",
       "      <td>0.240691</td>\n",
       "      <td>0.068429</td>\n",
       "      <td>-0.103816</td>\n",
       "      <td>0.138959</td>\n",
       "      <td>0.141059</td>\n",
       "      <td>1</td>\n",
       "    </tr>\n",
       "  </tbody>\n",
       "</table>\n",
       "</div>"
      ],
      "text/plain": [
       "                       c_0       c_1       c_2       c_3       c_4       c_5  \\\n",
       "State-County                                                                   \n",
       "Alabama-Bibb      0.069224  0.190861  0.224402  0.011757  0.283526  0.017874   \n",
       "Alabama-Blount   -0.091030  0.254403  0.022714 -0.193824  0.100738  0.209945   \n",
       "Alabama-Calhoun   0.128913  0.223409  0.070180  0.081091 -0.069090  0.002235   \n",
       "Alabama-Cherokee -0.080311  0.104444  0.210828 -0.061823  0.027139  0.107847   \n",
       "Alabama-Chilton   0.022630  0.240691  0.068429 -0.103816  0.138959  0.141059   \n",
       "\n",
       "                  labels  \n",
       "State-County              \n",
       "Alabama-Bibb           1  \n",
       "Alabama-Blount         1  \n",
       "Alabama-Calhoun        1  \n",
       "Alabama-Cherokee       1  \n",
       "Alabama-Chilton        1  "
      ]
     },
     "execution_count": 67,
     "metadata": {},
     "output_type": "execute_result"
    }
   ],
   "source": [
    "# get all counties with label == 1\n",
    "cluster=counties_transformed[counties_transformed['labels']==1]\n",
    "cluster.head()"
   ]
  },
  {
   "cell_type": "markdown",
   "metadata": {
    "collapsed": true
   },
   "source": [
    "## Final Cleanup!\n",
    "\n",
    "* Double check that you have deleted all your endpoints.\n",
    "* I'd also suggest manually deleting your S3 bucket, models, and endpoint configurations directly from your AWS console.\n",
    "\n",
    "You can find thorough cleanup instructions, [in the documentation](https://docs.aws.amazon.com/sagemaker/latest/dg/ex1-cleanup.html)."
   ]
  },
  {
   "cell_type": "markdown",
   "metadata": {},
   "source": [
    "---\n",
    "# Conclusion\n",
    "\n",
    "You have just walked through a machine learning workflow for unsupervised learning, specifically, for clustering a dataset using k-means after reducing the dimensionality using PCA. By accessing the underlying models created within  SageMaker, you were able to improve the explainability of your model and draw insights from the resultant clusters. \n",
    "\n",
    "Using these techniques, you have been able to better understand the essential characteristics of different counties in the US and segment them into similar groups, accordingly."
   ]
  }
 ],
 "metadata": {
  "kernelspec": {
   "display_name": "conda_mxnet_p36",
   "language": "python",
   "name": "conda_mxnet_p36"
  },
  "language_info": {
   "codemirror_mode": {
    "name": "ipython",
    "version": 3
   },
   "file_extension": ".py",
   "mimetype": "text/x-python",
   "name": "python",
   "nbconvert_exporter": "python",
   "pygments_lexer": "ipython3",
   "version": "3.6.10"
  },
  "nbpresent": {
   "slides": {
    "00185e5a-e023-4efa-9b74-1d4003fed039": {
     "id": "00185e5a-e023-4efa-9b74-1d4003fed039",
     "prev": "245581e9-468f-4d78-a748-0c3bdc5cb82a",
     "regions": {
      "691d980e-e884-402b-bedf-94142409e67a": {
       "attrs": {
        "height": 0.8,
        "width": 0.8,
        "x": 0.1,
        "y": 0.1
       },
       "content": {
        "cell": "479ad6be-6ef5-4a23-83fa-5a3438bed78c",
        "part": "whole"
       },
       "id": "691d980e-e884-402b-bedf-94142409e67a"
      }
     }
    },
    "04c02612-b7a3-4a6b-b46e-f0b64285f34f": {
     "id": "04c02612-b7a3-4a6b-b46e-f0b64285f34f",
     "prev": "cb224ddf-91c8-4058-a92c-589888536dce",
     "regions": {
      "15ef2157-6262-4d93-9646-01c5229cdc2e": {
       "attrs": {
        "height": 0.8,
        "width": 0.8,
        "x": 0.1,
        "y": 0.1
       },
       "content": {
        "cell": "479ad6be-6ef5-4a23-83fa-5a3438bed78c",
        "part": "whole"
       },
       "id": "15ef2157-6262-4d93-9646-01c5229cdc2e"
      }
     }
    },
    "0c825f9e-60ad-44b9-a3a9-32977b6dc07b": {
     "id": "0c825f9e-60ad-44b9-a3a9-32977b6dc07b",
     "prev": "3031125b-46a7-453f-8405-d51270217fed",
     "regions": {
      "5800e24d-5f1b-47f5-8cb8-5841666497ec": {
       "attrs": {
        "height": 0.8,
        "width": 0.8,
        "x": 0.1,
        "y": 0.1
       },
       "content": {
        "cell": "c2f7177c-9a56-46a7-8e51-53c1ccdac759",
        "part": "whole"
       },
       "id": "5800e24d-5f1b-47f5-8cb8-5841666497ec"
      }
     }
    },
    "0d1a4ca3-9779-41bc-a0b3-d212cb7d4a8c": {
     "id": "0d1a4ca3-9779-41bc-a0b3-d212cb7d4a8c",
     "prev": "e96ea25d-f12d-4df2-9229-29bbb6f89e57",
     "regions": {
      "73ea6e42-198b-45f7-90c0-76be78ca9873": {
       "attrs": {
        "height": 0.8,
        "width": 0.8,
        "x": 0.1,
        "y": 0.1
       },
       "content": {
        "cell": "05579e7a-be31-4942-a9a9-9f087cc284ff",
        "part": "whole"
       },
       "id": "73ea6e42-198b-45f7-90c0-76be78ca9873"
      }
     }
    },
    "0d8fa08d-7d0f-4378-8065-26382e5a86e2": {
     "id": "0d8fa08d-7d0f-4378-8065-26382e5a86e2",
     "prev": "2102ebf0-1bc1-493a-a8d2-e134b767f101",
     "regions": {
      "559c72a7-aebd-454e-aace-1ac4a1b01922": {
       "attrs": {
        "height": 0.8,
        "width": 0.8,
        "x": 0.1,
        "y": 0.1
       },
       "content": {
        "cell": "a3c4d54d-1c66-4511-9276-0a976adc27a3",
        "part": "whole"
       },
       "id": "559c72a7-aebd-454e-aace-1ac4a1b01922"
      }
     }
    },
    "0d98a2ee-ba72-4111-83eb-8ca87082100e": {
     "id": "0d98a2ee-ba72-4111-83eb-8ca87082100e",
     "prev": "a52fcace-21c6-4d27-9ee8-f87e06b1bf4b",
     "regions": {
      "f25816e9-e51b-4625-b61c-bea7755373a2": {
       "attrs": {
        "height": 0.8,
        "width": 0.8,
        "x": 0.1,
        "y": 0.1
       },
       "content": {
        "cell": "eb6724ef-65dc-4f74-b92c-3f9e540a7b35",
        "part": "whole"
       },
       "id": "f25816e9-e51b-4625-b61c-bea7755373a2"
      }
     }
    },
    "0eab16c6-3c1a-4f9c-a6d9-a1cf6220a9a2": {
     "id": "0eab16c6-3c1a-4f9c-a6d9-a1cf6220a9a2",
     "prev": "5caa41a3-a416-4b62-ad94-9efc601a0761",
     "regions": {
      "752c114b-e55a-40c2-b1d5-a646253c012a": {
       "attrs": {
        "height": 0.8,
        "width": 0.8,
        "x": 0.1,
        "y": 0.1
       },
       "content": {
        "cell": "a3c4d54d-1c66-4511-9276-0a976adc27a3",
        "part": "whole"
       },
       "id": "752c114b-e55a-40c2-b1d5-a646253c012a"
      }
     }
    },
    "0f0856fc-b72e-4a9e-9279-f0b70282084a": {
     "id": "0f0856fc-b72e-4a9e-9279-f0b70282084a",
     "prev": "4c3af69f-0dbf-4538-a217-4674c220e1ce",
     "regions": {
      "07c3f079-7bf9-4e7c-b073-93c94568b5f8": {
       "attrs": {
        "height": 0.8,
        "width": 0.8,
        "x": 0.1,
        "y": 0.1
       },
       "content": {
        "cell": "a3c4d54d-1c66-4511-9276-0a976adc27a3",
        "part": "whole"
       },
       "id": "07c3f079-7bf9-4e7c-b073-93c94568b5f8"
      }
     }
    },
    "127a45d8-ef23-4438-9cb9-c721e712e2ad": {
     "id": "127a45d8-ef23-4438-9cb9-c721e712e2ad",
     "prev": null,
     "regions": {
      "1014f9bc-a908-4bb1-b5f4-6d5fafbcacad": {
       "attrs": {
        "height": 0.8,
        "width": 0.8,
        "x": 0.1,
        "y": 0.1
       },
       "content": {
        "cell": "62d4851b-e85e-419e-901a-d5c03db59166",
        "part": "whole"
       },
       "id": "1014f9bc-a908-4bb1-b5f4-6d5fafbcacad"
      }
     }
    },
    "137bd8ba-62fa-4977-aa92-299716a1b575": {
     "id": "137bd8ba-62fa-4977-aa92-299716a1b575",
     "prev": "f89c8884-cb84-4930-a1c4-451008b047e0",
     "regions": {
      "c3c3c631-e394-4d86-8efd-f7e297da7c54": {
       "attrs": {
        "height": 0.8,
        "width": 0.8,
        "x": 0.1,
        "y": 0.1
       },
       "content": {
        "cell": "af0acd3e-f4a3-4da9-9772-6a6f896da772",
        "part": "whole"
       },
       "id": "c3c3c631-e394-4d86-8efd-f7e297da7c54"
      }
     }
    },
    "1b7fa3bc-7a7d-426c-ba1d-4fe4d2c63787": {
     "id": "1b7fa3bc-7a7d-426c-ba1d-4fe4d2c63787",
     "prev": "32b3f4bb-8a93-4047-871d-64dc33e51dc9",
     "regions": {
      "3c58bd34-7325-4848-ab56-a27006aa72eb": {
       "attrs": {
        "height": 0.8,
        "width": 0.8,
        "x": 0.1,
        "y": 0.1
       },
       "content": {
        "cell": "af0acd3e-f4a3-4da9-9772-6a6f896da772",
        "part": "whole"
       },
       "id": "3c58bd34-7325-4848-ab56-a27006aa72eb"
      }
     }
    },
    "1e649c44-6543-47ab-a724-d8c91a1eba0c": {
     "id": "1e649c44-6543-47ab-a724-d8c91a1eba0c",
     "prev": "2479aa16-61a7-448b-87fc-123ed194b826",
     "regions": {
      "5ff777a3-74e6-4424-8b17-f9c9bc680bbf": {
       "attrs": {
        "height": 0.8,
        "width": 0.8,
        "x": 0.1,
        "y": 0.1
       },
       "content": {
        "cell": "479ad6be-6ef5-4a23-83fa-5a3438bed78c",
        "part": "whole"
       },
       "id": "5ff777a3-74e6-4424-8b17-f9c9bc680bbf"
      }
     }
    },
    "206a856d-3055-461c-8169-ffee8f39c28e": {
     "id": "206a856d-3055-461c-8169-ffee8f39c28e",
     "prev": "8bbf13ba-d21a-4e20-b6fb-8248fbcb7d14",
     "regions": {
      "ebb2b7a1-4e2a-4a3a-a3c2-a7fcc8c01ab2": {
       "attrs": {
        "height": 0.8,
        "width": 0.8,
        "x": 0.1,
        "y": 0.1
       },
       "content": {
        "cell": "823d3663-8326-493a-a3fc-19b7114ef367",
        "part": "whole"
       },
       "id": "ebb2b7a1-4e2a-4a3a-a3c2-a7fcc8c01ab2"
      }
     }
    },
    "2102ebf0-1bc1-493a-a8d2-e134b767f101": {
     "id": "2102ebf0-1bc1-493a-a8d2-e134b767f101",
     "prev": "f2d04c15-4d2b-4c7e-992a-72c2b870c759",
     "regions": {
      "e75754ca-229a-4f43-8365-3ded5c65beb2": {
       "attrs": {
        "height": 0.8,
        "width": 0.8,
        "x": 0.1,
        "y": 0.1
       },
       "content": {
        "cell": "db543249-4452-45e1-a0fa-324296059f19",
        "part": "whole"
       },
       "id": "e75754ca-229a-4f43-8365-3ded5c65beb2"
      }
     }
    },
    "218a5d27-8c88-4475-9c19-04b6af5781ed": {
     "id": "218a5d27-8c88-4475-9c19-04b6af5781ed",
     "prev": "b6a3e0da-299e-4ed2-b91b-2acffd354cdf",
     "regions": {
      "3adede6c-7a8d-4918-8f7a-12114603f37a": {
       "attrs": {
        "height": 0.8,
        "width": 0.8,
        "x": 0.1,
        "y": 0.1
       },
       "content": {
        "cell": "c2f7177c-9a56-46a7-8e51-53c1ccdac759",
        "part": "whole"
       },
       "id": "3adede6c-7a8d-4918-8f7a-12114603f37a"
      }
     }
    },
    "2199474d-0f28-43f0-b05c-38e712655efe": {
     "id": "2199474d-0f28-43f0-b05c-38e712655efe",
     "prev": "bf0895a0-bc5b-466d-a091-07382c006dd6",
     "regions": {
      "d55f819b-e696-47f8-ae49-51e4fde22a3e": {
       "attrs": {
        "height": 0.8,
        "width": 0.8,
        "x": 0.1,
        "y": 0.1
       },
       "content": {
        "cell": "a3c4d54d-1c66-4511-9276-0a976adc27a3",
        "part": "whole"
       },
       "id": "d55f819b-e696-47f8-ae49-51e4fde22a3e"
      }
     }
    },
    "22126885-b04a-4cd1-b348-0dc9a5b353d1": {
     "id": "22126885-b04a-4cd1-b348-0dc9a5b353d1",
     "prev": "137bd8ba-62fa-4977-aa92-299716a1b575",
     "regions": {
      "401e60a1-ff77-4870-93f7-aa377a66983e": {
       "attrs": {
        "height": 0.8,
        "width": 0.8,
        "x": 0.1,
        "y": 0.1
       },
       "content": {
        "cell": "db543249-4452-45e1-a0fa-324296059f19",
        "part": "whole"
       },
       "id": "401e60a1-ff77-4870-93f7-aa377a66983e"
      }
     }
    },
    "22ac0a05-fa20-4071-9eeb-0cd7e8bc1495": {
     "id": "22ac0a05-fa20-4071-9eeb-0cd7e8bc1495",
     "prev": "54e37292-6b6a-42a2-b2d9-2526c00a35b6",
     "regions": {
      "f0328d95-4730-47f5-b7d7-332ab52f31df": {
       "attrs": {
        "height": 0.8,
        "width": 0.8,
        "x": 0.1,
        "y": 0.1
       },
       "content": {
        "cell": "d266ff00-54d6-47f7-a26c-eea6cd1e468f",
        "part": "whole"
       },
       "id": "f0328d95-4730-47f5-b7d7-332ab52f31df"
      }
     }
    },
    "245581e9-468f-4d78-a748-0c3bdc5cb82a": {
     "id": "245581e9-468f-4d78-a748-0c3bdc5cb82a",
     "prev": "963feba9-0d2a-4c66-85cc-96d2fc723e8e",
     "regions": {
      "e61eaae3-5014-424c-bd4e-df22507d29af": {
       "attrs": {
        "height": 0.8,
        "width": 0.8,
        "x": 0.1,
        "y": 0.1
       },
       "content": {
        "cell": "e1d4e5a9-715b-412f-b881-5306080566d0",
        "part": "whole"
       },
       "id": "e61eaae3-5014-424c-bd4e-df22507d29af"
      }
     }
    },
    "2479aa16-61a7-448b-87fc-123ed194b826": {
     "id": "2479aa16-61a7-448b-87fc-123ed194b826",
     "prev": "0d98a2ee-ba72-4111-83eb-8ca87082100e",
     "regions": {
      "06a7635a-7143-4bd9-888a-636071ed94b2": {
       "attrs": {
        "height": 0.8,
        "width": 0.8,
        "x": 0.1,
        "y": 0.1
       },
       "content": {
        "cell": "e1d4e5a9-715b-412f-b881-5306080566d0",
        "part": "whole"
       },
       "id": "06a7635a-7143-4bd9-888a-636071ed94b2"
      }
     }
    },
    "24ebeb55-bda2-46aa-b01d-2eb1e08ec4b9": {
     "id": "24ebeb55-bda2-46aa-b01d-2eb1e08ec4b9",
     "prev": "3836b696-9da4-4822-a1a4-1c8a7f016e93",
     "regions": {
      "1c9d0303-cc0c-4556-9456-55413d4b1a37": {
       "attrs": {
        "height": 0.8,
        "width": 0.8,
        "x": 0.1,
        "y": 0.1
       },
       "content": {
        "cell": "6e941245-3e15-4018-a947-9e66bc58c86e",
        "part": "whole"
       },
       "id": "1c9d0303-cc0c-4556-9456-55413d4b1a37"
      }
     }
    },
    "29c82185-c087-4da1-820d-e67d6f607544": {
     "id": "29c82185-c087-4da1-820d-e67d6f607544",
     "prev": "e1f94e70-f7b9-4d99-94c3-01f0f0a8251d",
     "regions": {
      "75915c00-90cb-4965-8dca-f1e7fc5c150d": {
       "attrs": {
        "height": 0.8,
        "width": 0.8,
        "x": 0.1,
        "y": 0.1
       },
       "content": {
        "cell": "d266ff00-54d6-47f7-a26c-eea6cd1e468f",
        "part": "whole"
       },
       "id": "75915c00-90cb-4965-8dca-f1e7fc5c150d"
      }
     }
    },
    "2d6a9841-621c-4219-9bd2-c010aac01f3a": {
     "id": "2d6a9841-621c-4219-9bd2-c010aac01f3a",
     "prev": "354d2e1c-833c-43c1-8518-84deefa9dd83",
     "regions": {
      "3366de71-d77a-4bf3-bc86-9da3afe09d58": {
       "attrs": {
        "height": 0.8,
        "width": 0.8,
        "x": 0.1,
        "y": 0.1
       },
       "content": {
        "cell": "af0acd3e-f4a3-4da9-9772-6a6f896da772",
        "part": "whole"
       },
       "id": "3366de71-d77a-4bf3-bc86-9da3afe09d58"
      }
     }
    },
    "2eb5b91d-2f89-4478-a871-9ebabfe8c755": {
     "id": "2eb5b91d-2f89-4478-a871-9ebabfe8c755",
     "prev": "3c39b8cb-b3ee-42a8-b58a-23f42dd1afb7",
     "regions": {
      "dbd82ff9-f97d-4b4e-9181-2757bd864899": {
       "attrs": {
        "height": 0.8,
        "width": 0.8,
        "x": 0.1,
        "y": 0.1
       },
       "content": {
        "cell": "fdd10c00-53ba-405d-8622-fbfeac17d3bb",
        "part": "whole"
       },
       "id": "dbd82ff9-f97d-4b4e-9181-2757bd864899"
      }
     }
    },
    "2f879b6f-c9ea-44d7-91e7-9baa9101dcde": {
     "id": "2f879b6f-c9ea-44d7-91e7-9baa9101dcde",
     "prev": "43ecdc28-ce1b-4c27-a143-3b0f6dfaa54f",
     "regions": {
      "7e27878d-50e3-4a78-ab08-81e37b035c95": {
       "attrs": {
        "height": 0.8,
        "width": 0.8,
        "x": 0.1,
        "y": 0.1
       },
       "content": {
        "cell": "ecdacfd7-456b-4b29-9c7d-aba29749c18f",
        "part": "whole"
       },
       "id": "7e27878d-50e3-4a78-ab08-81e37b035c95"
      }
     }
    },
    "3031125b-46a7-453f-8405-d51270217fed": {
     "id": "3031125b-46a7-453f-8405-d51270217fed",
     "prev": "41f1ac43-20aa-4be5-98e4-359d8294fa5a",
     "regions": {
      "487fc265-9057-4a2f-a5ae-5910bb803e6d": {
       "attrs": {
        "height": 0.8,
        "width": 0.8,
        "x": 0.1,
        "y": 0.1
       },
       "content": {
        "cell": "97a46770-dbe0-40ea-b454-b15bdec20f53",
        "part": "whole"
       },
       "id": "487fc265-9057-4a2f-a5ae-5910bb803e6d"
      }
     }
    },
    "32b3f4bb-8a93-4047-871d-64dc33e51dc9": {
     "id": "32b3f4bb-8a93-4047-871d-64dc33e51dc9",
     "prev": "cced8bf0-fff7-4aa8-a171-61b61bb5f70b",
     "regions": {
      "57d063fd-764a-4f6d-bfd7-1d91702b8e3a": {
       "attrs": {
        "height": 0.8,
        "width": 0.8,
        "x": 0.1,
        "y": 0.1
       },
       "content": {
        "cell": "ecdacfd7-456b-4b29-9c7d-aba29749c18f",
        "part": "whole"
       },
       "id": "57d063fd-764a-4f6d-bfd7-1d91702b8e3a"
      }
     }
    },
    "33eed3c0-aa11-4eeb-a2d8-e38080594622": {
     "id": "33eed3c0-aa11-4eeb-a2d8-e38080594622",
     "prev": "39b995da-8164-4191-97fa-126bbe9a9c13",
     "regions": {
      "fd63566a-8284-4ba0-ac22-e6e987ad37c4": {
       "attrs": {
        "height": 0.8,
        "width": 0.8,
        "x": 0.1,
        "y": 0.1
       },
       "content": {
        "cell": "479ad6be-6ef5-4a23-83fa-5a3438bed78c",
        "part": "whole"
       },
       "id": "fd63566a-8284-4ba0-ac22-e6e987ad37c4"
      }
     }
    },
    "351921d3-3e52-4de7-ac14-e2d065745a4c": {
     "id": "351921d3-3e52-4de7-ac14-e2d065745a4c",
     "prev": "73b93342-b297-40d2-83fa-0a5c3569b07b",
     "regions": {
      "6f34315e-6c22-4c7e-abb7-4090206c8fc7": {
       "attrs": {
        "height": 0.8,
        "width": 0.8,
        "x": 0.1,
        "y": 0.1
       },
       "content": {
        "cell": "05579e7a-be31-4942-a9a9-9f087cc284ff",
        "part": "whole"
       },
       "id": "6f34315e-6c22-4c7e-abb7-4090206c8fc7"
      }
     }
    },
    "354d2e1c-833c-43c1-8518-84deefa9dd83": {
     "id": "354d2e1c-833c-43c1-8518-84deefa9dd83",
     "prev": "644939af-71cf-4118-b725-186deee66293",
     "regions": {
      "b3d5c164-fdec-4ff4-a7bb-ed51d0b5a7b1": {
       "attrs": {
        "height": 0.8,
        "width": 0.8,
        "x": 0.1,
        "y": 0.1
       },
       "content": {
        "cell": "ecdacfd7-456b-4b29-9c7d-aba29749c18f",
        "part": "whole"
       },
       "id": "b3d5c164-fdec-4ff4-a7bb-ed51d0b5a7b1"
      }
     }
    },
    "37d0d82e-1379-4317-93cf-784cec2d5a7e": {
     "id": "37d0d82e-1379-4317-93cf-784cec2d5a7e",
     "prev": null,
     "regions": {
      "3a9f28d5-edac-42fb-a77d-ea8bf091c5f2": {
       "attrs": {
        "height": 0.8,
        "width": 0.8,
        "x": 0.1,
        "y": 0.1
       },
       "content": {
        "cell": "62d4851b-e85e-419e-901a-d5c03db59166",
        "part": "whole"
       },
       "id": "3a9f28d5-edac-42fb-a77d-ea8bf091c5f2"
      }
     }
    },
    "3836b696-9da4-4822-a1a4-1c8a7f016e93": {
     "id": "3836b696-9da4-4822-a1a4-1c8a7f016e93",
     "prev": "1e649c44-6543-47ab-a724-d8c91a1eba0c",
     "regions": {
      "5fbd00ec-19d3-492e-968b-da323b10e954": {
       "attrs": {
        "height": 0.8,
        "width": 0.8,
        "x": 0.1,
        "y": 0.1
       },
       "content": {
        "cell": "ba9ad1d9-659e-4fad-a0fd-0a23e7b56fc0",
        "part": "whole"
       },
       "id": "5fbd00ec-19d3-492e-968b-da323b10e954"
      }
     }
    },
    "39b995da-8164-4191-97fa-126bbe9a9c13": {
     "id": "39b995da-8164-4191-97fa-126bbe9a9c13",
     "prev": "efb38a77-d38d-4004-a8d2-e16791ef4448",
     "regions": {
      "abfb13e5-f301-4013-a152-3f165c0e1299": {
       "attrs": {
        "height": 0.8,
        "width": 0.8,
        "x": 0.1,
        "y": 0.1
       },
       "content": {
        "cell": "e1d4e5a9-715b-412f-b881-5306080566d0",
        "part": "whole"
       },
       "id": "abfb13e5-f301-4013-a152-3f165c0e1299"
      }
     }
    },
    "3c39b8cb-b3ee-42a8-b58a-23f42dd1afb7": {
     "id": "3c39b8cb-b3ee-42a8-b58a-23f42dd1afb7",
     "prev": "0d1a4ca3-9779-41bc-a0b3-d212cb7d4a8c",
     "regions": {
      "c5719391-2268-411a-a785-1ee02e70ca98": {
       "attrs": {
        "height": 0.8,
        "width": 0.8,
        "x": 0.1,
        "y": 0.1
       },
       "content": {
        "cell": "d266ff00-54d6-47f7-a26c-eea6cd1e468f",
        "part": "whole"
       },
       "id": "c5719391-2268-411a-a785-1ee02e70ca98"
      }
     }
    },
    "3d0dbf54-52e5-4743-a89f-c150039d1e1d": {
     "id": "3d0dbf54-52e5-4743-a89f-c150039d1e1d",
     "prev": "47f1d1e8-c00c-4cc6-b6db-b3b5dec491a7",
     "regions": {
      "49d32907-2026-4c47-949f-0c89f19c68eb": {
       "attrs": {
        "height": 0.8,
        "width": 0.8,
        "x": 0.1,
        "y": 0.1
       },
       "content": {
        "cell": "e1d4e5a9-715b-412f-b881-5306080566d0",
        "part": "whole"
       },
       "id": "49d32907-2026-4c47-949f-0c89f19c68eb"
      }
     }
    },
    "3f9d811f-b09e-4b43-92cd-cde475b9c555": {
     "id": "3f9d811f-b09e-4b43-92cd-cde475b9c555",
     "prev": "3d0dbf54-52e5-4743-a89f-c150039d1e1d",
     "regions": {
      "ec6e19e1-b3e7-4030-9522-b92032417481": {
       "attrs": {
        "height": 0.8,
        "width": 0.8,
        "x": 0.1,
        "y": 0.1
       },
       "content": {
        "cell": "479ad6be-6ef5-4a23-83fa-5a3438bed78c",
        "part": "whole"
       },
       "id": "ec6e19e1-b3e7-4030-9522-b92032417481"
      }
     }
    },
    "41f1ac43-20aa-4be5-98e4-359d8294fa5a": {
     "id": "41f1ac43-20aa-4be5-98e4-359d8294fa5a",
     "prev": "85cdb4b9-8c14-490e-861b-988132f067bb",
     "regions": {
      "b3aaf14c-3e4f-477d-8e7f-065d04e1be0a": {
       "attrs": {
        "height": 0.8,
        "width": 0.8,
        "x": 0.1,
        "y": 0.1
       },
       "content": {
        "cell": "6e941245-3e15-4018-a947-9e66bc58c86e",
        "part": "whole"
       },
       "id": "b3aaf14c-3e4f-477d-8e7f-065d04e1be0a"
      }
     }
    },
    "43ecdc28-ce1b-4c27-a143-3b0f6dfaa54f": {
     "id": "43ecdc28-ce1b-4c27-a143-3b0f6dfaa54f",
     "prev": "ad0964ff-fae9-4b44-a978-12dad9d949b5",
     "regions": {
      "95c45e90-6ed9-4882-985e-3fa7e31968f7": {
       "attrs": {
        "height": 0.8,
        "width": 0.8,
        "x": 0.1,
        "y": 0.1
       },
       "content": {
        "cell": "fdd10c00-53ba-405d-8622-fbfeac17d3bb",
        "part": "whole"
       },
       "id": "95c45e90-6ed9-4882-985e-3fa7e31968f7"
      }
     }
    },
    "47f1d1e8-c00c-4cc6-b6db-b3b5dec491a7": {
     "id": "47f1d1e8-c00c-4cc6-b6db-b3b5dec491a7",
     "prev": "70ea2b93-7bef-4144-b2ae-7d93079f890f",
     "regions": {
      "353852e7-a881-4c8b-a077-0e8f263f9cd1": {
       "attrs": {
        "height": 0.8,
        "width": 0.8,
        "x": 0.1,
        "y": 0.1
       },
       "content": {
        "cell": "eb6724ef-65dc-4f74-b92c-3f9e540a7b35",
        "part": "whole"
       },
       "id": "353852e7-a881-4c8b-a077-0e8f263f9cd1"
      }
     }
    },
    "4990bcde-5278-4c18-b9e3-d40b08618221": {
     "id": "4990bcde-5278-4c18-b9e3-d40b08618221",
     "prev": "d6815d16-3361-4aec-bdda-c20916e2958c",
     "regions": {
      "b6fc53ab-f89a-49d1-b0fd-44efbcaebdd8": {
       "attrs": {
        "height": 0.8,
        "width": 0.8,
        "x": 0.1,
        "y": 0.1
       },
       "content": {
        "cell": "2f809521-0a9c-4000-ba29-f6fcbb027dc9",
        "part": "whole"
       },
       "id": "b6fc53ab-f89a-49d1-b0fd-44efbcaebdd8"
      }
     }
    },
    "4c3af69f-0dbf-4538-a217-4674c220e1ce": {
     "id": "4c3af69f-0dbf-4538-a217-4674c220e1ce",
     "prev": "1b7fa3bc-7a7d-426c-ba1d-4fe4d2c63787",
     "regions": {
      "ed6a99e6-abe3-402c-9d1e-895c79ebfb51": {
       "attrs": {
        "height": 0.8,
        "width": 0.8,
        "x": 0.1,
        "y": 0.1
       },
       "content": {
        "cell": "db543249-4452-45e1-a0fa-324296059f19",
        "part": "whole"
       },
       "id": "ed6a99e6-abe3-402c-9d1e-895c79ebfb51"
      }
     }
    },
    "4e734229-1e33-429a-ab1e-9f25538f7799": {
     "id": "4e734229-1e33-429a-ab1e-9f25538f7799",
     "prev": "dac34957-e22e-418c-b575-a1ae52ebee9a",
     "regions": {
      "fedd46f4-a0e9-4859-8b03-23150d19893a": {
       "attrs": {
        "height": 0.8,
        "width": 0.8,
        "x": 0.1,
        "y": 0.1
       },
       "content": {
        "cell": "c2f7177c-9a56-46a7-8e51-53c1ccdac759",
        "part": "whole"
       },
       "id": "fedd46f4-a0e9-4859-8b03-23150d19893a"
      }
     }
    },
    "54e37292-6b6a-42a2-b2d9-2526c00a35b6": {
     "id": "54e37292-6b6a-42a2-b2d9-2526c00a35b6",
     "prev": "ccb21490-40cb-425d-9738-9a08f56265f6",
     "regions": {
      "6bff46e7-b141-437c-a413-524951f4e72f": {
       "attrs": {
        "height": 0.8,
        "width": 0.8,
        "x": 0.1,
        "y": 0.1
       },
       "content": {
        "cell": "05579e7a-be31-4942-a9a9-9f087cc284ff",
        "part": "whole"
       },
       "id": "6bff46e7-b141-437c-a413-524951f4e72f"
      }
     }
    },
    "5caa41a3-a416-4b62-ad94-9efc601a0761": {
     "id": "5caa41a3-a416-4b62-ad94-9efc601a0761",
     "prev": "f3fd7c80-e6c3-4fe1-8da4-d8c46dec60f5",
     "regions": {
      "8aff2690-5aab-4ef2-a038-15de457228e8": {
       "attrs": {
        "height": 0.8,
        "width": 0.8,
        "x": 0.1,
        "y": 0.1
       },
       "content": {
        "cell": "db543249-4452-45e1-a0fa-324296059f19",
        "part": "whole"
       },
       "id": "8aff2690-5aab-4ef2-a038-15de457228e8"
      }
     }
    },
    "644939af-71cf-4118-b725-186deee66293": {
     "id": "644939af-71cf-4118-b725-186deee66293",
     "prev": "22ac0a05-fa20-4071-9eeb-0cd7e8bc1495",
     "regions": {
      "2534f9df-66e9-4f28-ac38-2353f352a4b4": {
       "attrs": {
        "height": 0.8,
        "width": 0.8,
        "x": 0.1,
        "y": 0.1
       },
       "content": {
        "cell": "fdd10c00-53ba-405d-8622-fbfeac17d3bb",
        "part": "whole"
       },
       "id": "2534f9df-66e9-4f28-ac38-2353f352a4b4"
      }
     }
    },
    "6b00f37c-e15e-4979-b7b1-fb36dadd0d3e": {
     "id": "6b00f37c-e15e-4979-b7b1-fb36dadd0d3e",
     "prev": "0eab16c6-3c1a-4f9c-a6d9-a1cf6220a9a2",
     "regions": {
      "9065871c-7a40-4a6f-be71-04c61fb3d4ed": {
       "attrs": {
        "height": 0.8,
        "width": 0.8,
        "x": 0.1,
        "y": 0.1
       },
       "content": {
        "cell": "823d3663-8326-493a-a3fc-19b7114ef367",
        "part": "whole"
       },
       "id": "9065871c-7a40-4a6f-be71-04c61fb3d4ed"
      }
     }
    },
    "6c3de2fd-22fe-4b21-bd8f-c97a98e470a4": {
     "id": "6c3de2fd-22fe-4b21-bd8f-c97a98e470a4",
     "prev": "d7f8c565-3a5f-4d4f-b909-2d81839e6896",
     "regions": {
      "c9366dfe-5d4c-4496-a0f0-03a107250f99": {
       "attrs": {
        "height": 0.8,
        "width": 0.8,
        "x": 0.1,
        "y": 0.1
       },
       "content": {
        "cell": "d266ff00-54d6-47f7-a26c-eea6cd1e468f",
        "part": "whole"
       },
       "id": "c9366dfe-5d4c-4496-a0f0-03a107250f99"
      }
     }
    },
    "70ea2b93-7bef-4144-b2ae-7d93079f890f": {
     "id": "70ea2b93-7bef-4144-b2ae-7d93079f890f",
     "prev": "127a45d8-ef23-4438-9cb9-c721e712e2ad",
     "regions": {
      "3ea4c7c2-650f-41b5-80af-81d976f323e4": {
       "attrs": {
        "height": 0.8,
        "width": 0.8,
        "x": 0.1,
        "y": 0.1
       },
       "content": {
        "cell": "41d6f28b-3c7e-4d68-a8cb-4e063ec6fe27",
        "part": "whole"
       },
       "id": "3ea4c7c2-650f-41b5-80af-81d976f323e4"
      }
     }
    },
    "73b93342-b297-40d2-83fa-0a5c3569b07b": {
     "id": "73b93342-b297-40d2-83fa-0a5c3569b07b",
     "prev": "218a5d27-8c88-4475-9c19-04b6af5781ed",
     "regions": {
      "137602b1-d910-48a6-8214-eeb299661772": {
       "attrs": {
        "height": 0.8,
        "width": 0.8,
        "x": 0.1,
        "y": 0.1
       },
       "content": {
        "cell": "2f809521-0a9c-4000-ba29-f6fcbb027dc9",
        "part": "whole"
       },
       "id": "137602b1-d910-48a6-8214-eeb299661772"
      }
     }
    },
    "744b667b-61a0-4bb2-b78e-9de2788bc7e8": {
     "id": "744b667b-61a0-4bb2-b78e-9de2788bc7e8",
     "prev": "3f9d811f-b09e-4b43-92cd-cde475b9c555",
     "regions": {
      "a14c6f68-caf3-4f49-aee2-90d1761f0d0d": {
       "attrs": {
        "height": 0.8,
        "width": 0.8,
        "x": 0.1,
        "y": 0.1
       },
       "content": {
        "cell": "ba9ad1d9-659e-4fad-a0fd-0a23e7b56fc0",
        "part": "whole"
       },
       "id": "a14c6f68-caf3-4f49-aee2-90d1761f0d0d"
      }
     }
    },
    "834f16ec-1755-40aa-9405-fa356485e8be": {
     "id": "834f16ec-1755-40aa-9405-fa356485e8be",
     "prev": "33eed3c0-aa11-4eeb-a2d8-e38080594622",
     "regions": {
      "3051de16-0381-431c-86e4-d29c57fb325d": {
       "attrs": {
        "height": 0.8,
        "width": 0.8,
        "x": 0.1,
        "y": 0.1
       },
       "content": {
        "cell": "ba9ad1d9-659e-4fad-a0fd-0a23e7b56fc0",
        "part": "whole"
       },
       "id": "3051de16-0381-431c-86e4-d29c57fb325d"
      }
     }
    },
    "84e5d013-5ab1-4159-aa5f-fc7f55caab96": {
     "id": "84e5d013-5ab1-4159-aa5f-fc7f55caab96",
     "prev": "29c82185-c087-4da1-820d-e67d6f607544",
     "regions": {
      "3f22d886-6e54-4fe9-8daf-18796f426768": {
       "attrs": {
        "height": 0.8,
        "width": 0.8,
        "x": 0.1,
        "y": 0.1
       },
       "content": {
        "cell": "fdd10c00-53ba-405d-8622-fbfeac17d3bb",
        "part": "whole"
       },
       "id": "3f22d886-6e54-4fe9-8daf-18796f426768"
      }
     }
    },
    "85cdb4b9-8c14-490e-861b-988132f067bb": {
     "id": "85cdb4b9-8c14-490e-861b-988132f067bb",
     "prev": "04c02612-b7a3-4a6b-b46e-f0b64285f34f",
     "regions": {
      "27457dde-4bf2-44d0-ba73-9162622e3bdc": {
       "attrs": {
        "height": 0.8,
        "width": 0.8,
        "x": 0.1,
        "y": 0.1
       },
       "content": {
        "cell": "ba9ad1d9-659e-4fad-a0fd-0a23e7b56fc0",
        "part": "whole"
       },
       "id": "27457dde-4bf2-44d0-ba73-9162622e3bdc"
      }
     }
    },
    "888db3f7-5824-4459-a8d6-36927be78fce": {
     "id": "888db3f7-5824-4459-a8d6-36927be78fce",
     "prev": "aa64bc2c-0a71-4a60-894d-9fe54691404b",
     "regions": {
      "d59a5b99-359c-4ab6-9557-641371d38620": {
       "attrs": {
        "height": 0.8,
        "width": 0.8,
        "x": 0.1,
        "y": 0.1
       },
       "content": {
        "cell": "97a46770-dbe0-40ea-b454-b15bdec20f53",
        "part": "whole"
       },
       "id": "d59a5b99-359c-4ab6-9557-641371d38620"
      }
     }
    },
    "8affd1e6-70b8-4959-8bcc-9fa3d98ac946": {
     "id": "8affd1e6-70b8-4959-8bcc-9fa3d98ac946",
     "prev": "da2956f8-18a5-4bfa-9591-5cf3e39e7248",
     "regions": {
      "84eb25c1-1e33-4e39-9b2d-8f8c9e13ec7c": {
       "attrs": {
        "height": 0.8,
        "width": 0.8,
        "x": 0.1,
        "y": 0.1
       },
       "content": {
        "cell": "6e941245-3e15-4018-a947-9e66bc58c86e",
        "part": "whole"
       },
       "id": "84eb25c1-1e33-4e39-9b2d-8f8c9e13ec7c"
      }
     }
    },
    "8bbf13ba-d21a-4e20-b6fb-8248fbcb7d14": {
     "id": "8bbf13ba-d21a-4e20-b6fb-8248fbcb7d14",
     "prev": "22126885-b04a-4cd1-b348-0dc9a5b353d1",
     "regions": {
      "2efe0c9d-7786-4107-8ff4-1bf1246eb94f": {
       "attrs": {
        "height": 0.8,
        "width": 0.8,
        "x": 0.1,
        "y": 0.1
       },
       "content": {
        "cell": "a3c4d54d-1c66-4511-9276-0a976adc27a3",
        "part": "whole"
       },
       "id": "2efe0c9d-7786-4107-8ff4-1bf1246eb94f"
      }
     }
    },
    "963feba9-0d2a-4c66-85cc-96d2fc723e8e": {
     "id": "963feba9-0d2a-4c66-85cc-96d2fc723e8e",
     "prev": null,
     "regions": {
      "03648aaa-3268-4c18-806d-e999756ac4cf": {
       "attrs": {
        "height": 0.8,
        "width": 0.8,
        "x": 0.1,
        "y": 0.1
       },
       "content": {
        "cell": "eb6724ef-65dc-4f74-b92c-3f9e540a7b35",
        "part": "whole"
       },
       "id": "03648aaa-3268-4c18-806d-e999756ac4cf"
      }
     }
    },
    "a52fcace-21c6-4d27-9ee8-f87e06b1bf4b": {
     "id": "a52fcace-21c6-4d27-9ee8-f87e06b1bf4b",
     "prev": "f282fd14-a561-4ad9-958b-ceeb296e93d6",
     "regions": {
      "2c8df343-f44b-4b1f-9bed-f9374dab1541": {
       "attrs": {
        "height": 0.8,
        "width": 0.8,
        "x": 0.1,
        "y": 0.1
       },
       "content": {
        "cell": "41d6f28b-3c7e-4d68-a8cb-4e063ec6fe27",
        "part": "whole"
       },
       "id": "2c8df343-f44b-4b1f-9bed-f9374dab1541"
      }
     }
    },
    "aa64bc2c-0a71-4a60-894d-9fe54691404b": {
     "id": "aa64bc2c-0a71-4a60-894d-9fe54691404b",
     "prev": "744b667b-61a0-4bb2-b78e-9de2788bc7e8",
     "regions": {
      "58be5b97-dc19-4de8-add9-c05fcca8a613": {
       "attrs": {
        "height": 0.8,
        "width": 0.8,
        "x": 0.1,
        "y": 0.1
       },
       "content": {
        "cell": "6e941245-3e15-4018-a947-9e66bc58c86e",
        "part": "whole"
       },
       "id": "58be5b97-dc19-4de8-add9-c05fcca8a613"
      }
     }
    },
    "ad0964ff-fae9-4b44-a978-12dad9d949b5": {
     "id": "ad0964ff-fae9-4b44-a978-12dad9d949b5",
     "prev": "351921d3-3e52-4de7-ac14-e2d065745a4c",
     "regions": {
      "2852b579-93ae-4565-8add-20bc3ff9dcef": {
       "attrs": {
        "height": 0.8,
        "width": 0.8,
        "x": 0.1,
        "y": 0.1
       },
       "content": {
        "cell": "d266ff00-54d6-47f7-a26c-eea6cd1e468f",
        "part": "whole"
       },
       "id": "2852b579-93ae-4565-8add-20bc3ff9dcef"
      }
     }
    },
    "b6a3e0da-299e-4ed2-b91b-2acffd354cdf": {
     "id": "b6a3e0da-299e-4ed2-b91b-2acffd354cdf",
     "prev": "24ebeb55-bda2-46aa-b01d-2eb1e08ec4b9",
     "regions": {
      "cec135fa-0989-4cae-9d41-1af9445b29a8": {
       "attrs": {
        "height": 0.8,
        "width": 0.8,
        "x": 0.1,
        "y": 0.1
       },
       "content": {
        "cell": "97a46770-dbe0-40ea-b454-b15bdec20f53",
        "part": "whole"
       },
       "id": "cec135fa-0989-4cae-9d41-1af9445b29a8"
      }
     }
    },
    "be687a44-3db4-4be7-9f39-71fb43cc9fbc": {
     "id": "be687a44-3db4-4be7-9f39-71fb43cc9fbc",
     "prev": "8affd1e6-70b8-4959-8bcc-9fa3d98ac946",
     "regions": {
      "87ea0664-8af3-4c54-aa8f-0b9f0c2bd4e8": {
       "attrs": {
        "height": 0.8,
        "width": 0.8,
        "x": 0.1,
        "y": 0.1
       },
       "content": {
        "cell": "97a46770-dbe0-40ea-b454-b15bdec20f53",
        "part": "whole"
       },
       "id": "87ea0664-8af3-4c54-aa8f-0b9f0c2bd4e8"
      }
     }
    },
    "bf0895a0-bc5b-466d-a091-07382c006dd6": {
     "id": "bf0895a0-bc5b-466d-a091-07382c006dd6",
     "prev": "2d6a9841-621c-4219-9bd2-c010aac01f3a",
     "regions": {
      "7ebcb078-8ca9-4728-93a6-c7178465168f": {
       "attrs": {
        "height": 0.8,
        "width": 0.8,
        "x": 0.1,
        "y": 0.1
       },
       "content": {
        "cell": "db543249-4452-45e1-a0fa-324296059f19",
        "part": "whole"
       },
       "id": "7ebcb078-8ca9-4728-93a6-c7178465168f"
      }
     }
    },
    "c0cc38e5-c3b6-4f92-a3b0-e31ec2159b50": {
     "id": "c0cc38e5-c3b6-4f92-a3b0-e31ec2159b50",
     "prev": "834f16ec-1755-40aa-9405-fa356485e8be",
     "regions": {
      "0a944982-056c-4c22-b01c-3378924f27bc": {
       "attrs": {
        "height": 0.8,
        "width": 0.8,
        "x": 0.1,
        "y": 0.1
       },
       "content": {
        "cell": "6e941245-3e15-4018-a947-9e66bc58c86e",
        "part": "whole"
       },
       "id": "0a944982-056c-4c22-b01c-3378924f27bc"
      }
     }
    },
    "cb224ddf-91c8-4058-a92c-589888536dce": {
     "id": "cb224ddf-91c8-4058-a92c-589888536dce",
     "prev": "f8f60d11-8c40-4a82-ad2d-4ddbc346064a",
     "regions": {
      "5db7b356-55ac-4638-92ee-9aee8eb79745": {
       "attrs": {
        "height": 0.8,
        "width": 0.8,
        "x": 0.1,
        "y": 0.1
       },
       "content": {
        "cell": "e1d4e5a9-715b-412f-b881-5306080566d0",
        "part": "whole"
       },
       "id": "5db7b356-55ac-4638-92ee-9aee8eb79745"
      }
     }
    },
    "cc146373-3ece-4360-9e15-95a78c2a6228": {
     "id": "cc146373-3ece-4360-9e15-95a78c2a6228",
     "prev": "206a856d-3055-461c-8169-ffee8f39c28e",
     "regions": {
      "18bd17df-8f7c-40a0-b547-d396bb43f9d8": {
       "attrs": {
        "height": 0.8,
        "width": 0.8,
        "x": 0.1,
        "y": 0.1
       },
       "content": {
        "cell": "7e847244-7b42-490f-8945-46e234a3af75",
        "part": "whole"
       },
       "id": "18bd17df-8f7c-40a0-b547-d396bb43f9d8"
      }
     }
    },
    "ccb21490-40cb-425d-9738-9a08f56265f6": {
     "id": "ccb21490-40cb-425d-9738-9a08f56265f6",
     "prev": "4e734229-1e33-429a-ab1e-9f25538f7799",
     "regions": {
      "9c0b0fc7-6e91-47b9-aafd-3b68186f9b1c": {
       "attrs": {
        "height": 0.8,
        "width": 0.8,
        "x": 0.1,
        "y": 0.1
       },
       "content": {
        "cell": "2f809521-0a9c-4000-ba29-f6fcbb027dc9",
        "part": "whole"
       },
       "id": "9c0b0fc7-6e91-47b9-aafd-3b68186f9b1c"
      }
     }
    },
    "cced8bf0-fff7-4aa8-a171-61b61bb5f70b": {
     "id": "cced8bf0-fff7-4aa8-a171-61b61bb5f70b",
     "prev": "6c3de2fd-22fe-4b21-bd8f-c97a98e470a4",
     "regions": {
      "aa9d94b0-aa3d-4b28-b9af-cd6566af8ce6": {
       "attrs": {
        "height": 0.8,
        "width": 0.8,
        "x": 0.1,
        "y": 0.1
       },
       "content": {
        "cell": "fdd10c00-53ba-405d-8622-fbfeac17d3bb",
        "part": "whole"
       },
       "id": "aa9d94b0-aa3d-4b28-b9af-cd6566af8ce6"
      }
     }
    },
    "d4a64d2e-3fa3-4742-b817-999ee662f9a2": {
     "id": "d4a64d2e-3fa3-4742-b817-999ee662f9a2",
     "prev": "0d8fa08d-7d0f-4378-8065-26382e5a86e2",
     "regions": {
      "6f4633db-bd8c-4ede-890e-d8c82fef3a22": {
       "attrs": {
        "height": 0.8,
        "width": 0.8,
        "x": 0.1,
        "y": 0.1
       },
       "content": {
        "cell": "823d3663-8326-493a-a3fc-19b7114ef367",
        "part": "whole"
       },
       "id": "6f4633db-bd8c-4ede-890e-d8c82fef3a22"
      }
     }
    },
    "d55e9216-ec74-4b8a-8c86-626de0a99a3f": {
     "id": "d55e9216-ec74-4b8a-8c86-626de0a99a3f",
     "prev": "0f0856fc-b72e-4a9e-9279-f0b70282084a",
     "regions": {
      "1f11ff0a-2933-4966-b23b-4471b9ba3fe1": {
       "attrs": {
        "height": 0.8,
        "width": 0.8,
        "x": 0.1,
        "y": 0.1
       },
       "content": {
        "cell": "823d3663-8326-493a-a3fc-19b7114ef367",
        "part": "whole"
       },
       "id": "1f11ff0a-2933-4966-b23b-4471b9ba3fe1"
      }
     }
    },
    "d6815d16-3361-4aec-bdda-c20916e2958c": {
     "id": "d6815d16-3361-4aec-bdda-c20916e2958c",
     "prev": "888db3f7-5824-4459-a8d6-36927be78fce",
     "regions": {
      "0276812b-043d-4477-8e3b-c8ab28a48dfe": {
       "attrs": {
        "height": 0.8,
        "width": 0.8,
        "x": 0.1,
        "y": 0.1
       },
       "content": {
        "cell": "c2f7177c-9a56-46a7-8e51-53c1ccdac759",
        "part": "whole"
       },
       "id": "0276812b-043d-4477-8e3b-c8ab28a48dfe"
      }
     }
    },
    "d7f8c565-3a5f-4d4f-b909-2d81839e6896": {
     "id": "d7f8c565-3a5f-4d4f-b909-2d81839e6896",
     "prev": "f06bb312-3e06-4eab-9a4a-a1f10cb67455",
     "regions": {
      "b9a2cb44-4072-49c9-9f76-ae04a82aaeb3": {
       "attrs": {
        "height": 0.8,
        "width": 0.8,
        "x": 0.1,
        "y": 0.1
       },
       "content": {
        "cell": "05579e7a-be31-4942-a9a9-9f087cc284ff",
        "part": "whole"
       },
       "id": "b9a2cb44-4072-49c9-9f76-ae04a82aaeb3"
      }
     }
    },
    "d8a1cce1-10b5-4725-86a4-045d061273ee": {
     "id": "d8a1cce1-10b5-4725-86a4-045d061273ee",
     "prev": "6b00f37c-e15e-4979-b7b1-fb36dadd0d3e",
     "regions": {
      "c24a5fc8-2a90-4c13-91d7-223ad92cd794": {
       "attrs": {
        "height": 0.8,
        "width": 0.8,
        "x": 0.1,
        "y": 0.1
       },
       "content": {
        "cell": "7e847244-7b42-490f-8945-46e234a3af75",
        "part": "whole"
       },
       "id": "c24a5fc8-2a90-4c13-91d7-223ad92cd794"
      }
     }
    },
    "da2956f8-18a5-4bfa-9591-5cf3e39e7248": {
     "id": "da2956f8-18a5-4bfa-9591-5cf3e39e7248",
     "prev": "00185e5a-e023-4efa-9b74-1d4003fed039",
     "regions": {
      "f7d068d1-64bb-47e5-a163-ba870a8a8e68": {
       "attrs": {
        "height": 0.8,
        "width": 0.8,
        "x": 0.1,
        "y": 0.1
       },
       "content": {
        "cell": "ba9ad1d9-659e-4fad-a0fd-0a23e7b56fc0",
        "part": "whole"
       },
       "id": "f7d068d1-64bb-47e5-a163-ba870a8a8e68"
      }
     }
    },
    "da615caf-6de2-4243-81c2-6b6ee2b24524": {
     "id": "da615caf-6de2-4243-81c2-6b6ee2b24524",
     "prev": "d4a64d2e-3fa3-4742-b817-999ee662f9a2",
     "regions": {
      "caac7351-001b-4708-90db-2a152c2fd4f5": {
       "attrs": {
        "height": 0.8,
        "width": 0.8,
        "x": 0.1,
        "y": 0.1
       },
       "content": {
        "cell": "7e847244-7b42-490f-8945-46e234a3af75",
        "part": "whole"
       },
       "id": "caac7351-001b-4708-90db-2a152c2fd4f5"
      }
     }
    },
    "dac34957-e22e-418c-b575-a1ae52ebee9a": {
     "id": "dac34957-e22e-418c-b575-a1ae52ebee9a",
     "prev": "c0cc38e5-c3b6-4f92-a3b0-e31ec2159b50",
     "regions": {
      "cb1a886d-2883-420c-b013-d8e150fb56b7": {
       "attrs": {
        "height": 0.8,
        "width": 0.8,
        "x": 0.1,
        "y": 0.1
       },
       "content": {
        "cell": "97a46770-dbe0-40ea-b454-b15bdec20f53",
        "part": "whole"
       },
       "id": "cb1a886d-2883-420c-b013-d8e150fb56b7"
      }
     }
    },
    "e1f94e70-f7b9-4d99-94c3-01f0f0a8251d": {
     "id": "e1f94e70-f7b9-4d99-94c3-01f0f0a8251d",
     "prev": "4990bcde-5278-4c18-b9e3-d40b08618221",
     "regions": {
      "7f0152f1-c574-4a02-8d63-4018e2bb6524": {
       "attrs": {
        "height": 0.8,
        "width": 0.8,
        "x": 0.1,
        "y": 0.1
       },
       "content": {
        "cell": "05579e7a-be31-4942-a9a9-9f087cc284ff",
        "part": "whole"
       },
       "id": "7f0152f1-c574-4a02-8d63-4018e2bb6524"
      }
     }
    },
    "e40b3af6-c94f-4511-a3e4-14eafa9346b2": {
     "id": "e40b3af6-c94f-4511-a3e4-14eafa9346b2",
     "prev": "ec782cf2-d511-49a3-97ab-70a945e504fc",
     "regions": {
      "3c64fe83-8170-4bf8-9e53-e7ab514a6b9e": {
       "attrs": {
        "height": 0.8,
        "width": 0.8,
        "x": 0.1,
        "y": 0.1
       },
       "content": {
        "cell": "41d6f28b-3c7e-4d68-a8cb-4e063ec6fe27",
        "part": "whole"
       },
       "id": "3c64fe83-8170-4bf8-9e53-e7ab514a6b9e"
      }
     }
    },
    "e69d870b-7f80-4eb6-92f4-f349f582b63d": {
     "id": "e69d870b-7f80-4eb6-92f4-f349f582b63d",
     "prev": "37d0d82e-1379-4317-93cf-784cec2d5a7e",
     "regions": {
      "9dd87015-cc5f-4576-a2a9-983133aa77a8": {
       "attrs": {
        "height": 0.8,
        "width": 0.8,
        "x": 0.1,
        "y": 0.1
       },
       "content": {
        "cell": "41d6f28b-3c7e-4d68-a8cb-4e063ec6fe27",
        "part": "whole"
       },
       "id": "9dd87015-cc5f-4576-a2a9-983133aa77a8"
      }
     }
    },
    "e9111b59-1bbf-4818-9be0-ed5ef8fa6fc6": {
     "id": "e9111b59-1bbf-4818-9be0-ed5ef8fa6fc6",
     "prev": "2eb5b91d-2f89-4478-a871-9ebabfe8c755",
     "regions": {
      "542e088b-2244-4d49-855d-677f84e3557e": {
       "attrs": {
        "height": 0.8,
        "width": 0.8,
        "x": 0.1,
        "y": 0.1
       },
       "content": {
        "cell": "ecdacfd7-456b-4b29-9c7d-aba29749c18f",
        "part": "whole"
       },
       "id": "542e088b-2244-4d49-855d-677f84e3557e"
      }
     }
    },
    "e96ea25d-f12d-4df2-9229-29bbb6f89e57": {
     "id": "e96ea25d-f12d-4df2-9229-29bbb6f89e57",
     "prev": "f502cb85-a418-4e67-bc76-61d1d24781e6",
     "regions": {
      "299a1007-3dd4-4210-8be7-09571a22ef91": {
       "attrs": {
        "height": 0.8,
        "width": 0.8,
        "x": 0.1,
        "y": 0.1
       },
       "content": {
        "cell": "2f809521-0a9c-4000-ba29-f6fcbb027dc9",
        "part": "whole"
       },
       "id": "299a1007-3dd4-4210-8be7-09571a22ef91"
      }
     }
    },
    "ec782cf2-d511-49a3-97ab-70a945e504fc": {
     "id": "ec782cf2-d511-49a3-97ab-70a945e504fc",
     "prev": null,
     "regions": {
      "09f08875-f31a-4f2d-b572-3e27a524e506": {
       "attrs": {
        "height": 0.8,
        "width": 0.8,
        "x": 0.1,
        "y": 0.1
       },
       "content": {
        "cell": "62d4851b-e85e-419e-901a-d5c03db59166",
        "part": "whole"
       },
       "id": "09f08875-f31a-4f2d-b572-3e27a524e506"
      }
     }
    },
    "efb38a77-d38d-4004-a8d2-e16791ef4448": {
     "id": "efb38a77-d38d-4004-a8d2-e16791ef4448",
     "prev": "e69d870b-7f80-4eb6-92f4-f349f582b63d",
     "regions": {
      "13305e20-9e90-4cde-bc61-7012b221d6df": {
       "attrs": {
        "height": 0.8,
        "width": 0.8,
        "x": 0.1,
        "y": 0.1
       },
       "content": {
        "cell": "eb6724ef-65dc-4f74-b92c-3f9e540a7b35",
        "part": "whole"
       },
       "id": "13305e20-9e90-4cde-bc61-7012b221d6df"
      }
     }
    },
    "f06bb312-3e06-4eab-9a4a-a1f10cb67455": {
     "id": "f06bb312-3e06-4eab-9a4a-a1f10cb67455",
     "prev": "0c825f9e-60ad-44b9-a3a9-32977b6dc07b",
     "regions": {
      "5d920271-fc5c-43d3-a65d-57428ad528d7": {
       "attrs": {
        "height": 0.8,
        "width": 0.8,
        "x": 0.1,
        "y": 0.1
       },
       "content": {
        "cell": "2f809521-0a9c-4000-ba29-f6fcbb027dc9",
        "part": "whole"
       },
       "id": "5d920271-fc5c-43d3-a65d-57428ad528d7"
      }
     }
    },
    "f282fd14-a561-4ad9-958b-ceeb296e93d6": {
     "id": "f282fd14-a561-4ad9-958b-ceeb296e93d6",
     "prev": null,
     "regions": {
      "11c6f549-2ac4-4211-a352-a4c9013a5723": {
       "attrs": {
        "height": 0.8,
        "width": 0.8,
        "x": 0.1,
        "y": 0.1
       },
       "content": {
        "cell": "62d4851b-e85e-419e-901a-d5c03db59166",
        "part": "whole"
       },
       "id": "11c6f549-2ac4-4211-a352-a4c9013a5723"
      }
     }
    },
    "f2d04c15-4d2b-4c7e-992a-72c2b870c759": {
     "id": "f2d04c15-4d2b-4c7e-992a-72c2b870c759",
     "prev": "2f879b6f-c9ea-44d7-91e7-9baa9101dcde",
     "regions": {
      "93c73624-fd8e-434c-a0b5-a191e22a1a28": {
       "attrs": {
        "height": 0.8,
        "width": 0.8,
        "x": 0.1,
        "y": 0.1
       },
       "content": {
        "cell": "af0acd3e-f4a3-4da9-9772-6a6f896da772",
        "part": "whole"
       },
       "id": "93c73624-fd8e-434c-a0b5-a191e22a1a28"
      }
     }
    },
    "f37968a2-f924-46ba-b214-57fef6c8e053": {
     "id": "f37968a2-f924-46ba-b214-57fef6c8e053",
     "prev": "2199474d-0f28-43f0-b05c-38e712655efe",
     "regions": {
      "eb7c9691-162f-4bc9-b740-a880290d5480": {
       "attrs": {
        "height": 0.8,
        "width": 0.8,
        "x": 0.1,
        "y": 0.1
       },
       "content": {
        "cell": "823d3663-8326-493a-a3fc-19b7114ef367",
        "part": "whole"
       },
       "id": "eb7c9691-162f-4bc9-b740-a880290d5480"
      }
     }
    },
    "f3fd7c80-e6c3-4fe1-8da4-d8c46dec60f5": {
     "id": "f3fd7c80-e6c3-4fe1-8da4-d8c46dec60f5",
     "prev": "e9111b59-1bbf-4818-9be0-ed5ef8fa6fc6",
     "regions": {
      "c8f21071-20c8-4180-9de4-b94971c0e22a": {
       "attrs": {
        "height": 0.8,
        "width": 0.8,
        "x": 0.1,
        "y": 0.1
       },
       "content": {
        "cell": "af0acd3e-f4a3-4da9-9772-6a6f896da772",
        "part": "whole"
       },
       "id": "c8f21071-20c8-4180-9de4-b94971c0e22a"
      }
     }
    },
    "f502cb85-a418-4e67-bc76-61d1d24781e6": {
     "id": "f502cb85-a418-4e67-bc76-61d1d24781e6",
     "prev": "be687a44-3db4-4be7-9f39-71fb43cc9fbc",
     "regions": {
      "f28295e1-c68c-4ef1-ba49-1e9122a40b0f": {
       "attrs": {
        "height": 0.8,
        "width": 0.8,
        "x": 0.1,
        "y": 0.1
       },
       "content": {
        "cell": "c2f7177c-9a56-46a7-8e51-53c1ccdac759",
        "part": "whole"
       },
       "id": "f28295e1-c68c-4ef1-ba49-1e9122a40b0f"
      }
     }
    },
    "f5ddb0c0-353d-4e34-8d82-6b2ff74cfd78": {
     "id": "f5ddb0c0-353d-4e34-8d82-6b2ff74cfd78",
     "prev": "d55e9216-ec74-4b8a-8c86-626de0a99a3f",
     "regions": {
      "52f07325-c621-4157-88c3-1bafbb6656b5": {
       "attrs": {
        "height": 0.8,
        "width": 0.8,
        "x": 0.1,
        "y": 0.1
       },
       "content": {
        "cell": "7e847244-7b42-490f-8945-46e234a3af75",
        "part": "whole"
       },
       "id": "52f07325-c621-4157-88c3-1bafbb6656b5"
      }
     }
    },
    "f89c8884-cb84-4930-a1c4-451008b047e0": {
     "id": "f89c8884-cb84-4930-a1c4-451008b047e0",
     "prev": "84e5d013-5ab1-4159-aa5f-fc7f55caab96",
     "regions": {
      "30c3ca41-d7a7-40e8-951e-b12cbfabeb30": {
       "attrs": {
        "height": 0.8,
        "width": 0.8,
        "x": 0.1,
        "y": 0.1
       },
       "content": {
        "cell": "ecdacfd7-456b-4b29-9c7d-aba29749c18f",
        "part": "whole"
       },
       "id": "30c3ca41-d7a7-40e8-951e-b12cbfabeb30"
      }
     }
    },
    "f8f60d11-8c40-4a82-ad2d-4ddbc346064a": {
     "id": "f8f60d11-8c40-4a82-ad2d-4ddbc346064a",
     "prev": "e40b3af6-c94f-4511-a3e4-14eafa9346b2",
     "regions": {
      "53542f5f-3074-44d6-b544-3925b24bbc3a": {
       "attrs": {
        "height": 0.8,
        "width": 0.8,
        "x": 0.1,
        "y": 0.1
       },
       "content": {
        "cell": "eb6724ef-65dc-4f74-b92c-3f9e540a7b35",
        "part": "whole"
       },
       "id": "53542f5f-3074-44d6-b544-3925b24bbc3a"
      }
     }
    }
   },
   "themes": {}
  },
  "notice": "None."
 },
 "nbformat": 4,
 "nbformat_minor": 2
}

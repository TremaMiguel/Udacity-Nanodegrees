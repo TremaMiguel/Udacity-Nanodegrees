{
 "cells": [
  {
   "cell_type": "markdown",
   "metadata": {},
   "source": [
    "# Sentiment Analysis\n",
    "\n",
    "## Updating a Model in SageMaker\n",
    "\n",
    "_Deep Learning Nanodegree Program | Deployment_\n",
    "\n",
    "---\n",
    "\n",
    "In this notebook we will consider a situation in which a model that we constructed is no longer working as we intended. In particular, we will look at the XGBoost sentiment analysis model that we constructed earlier. In this case, however, **we have some new data that our model doesn't seem to perform very well on**. As a result, **we will re-train our model and update an existing endpoint so that it uses our new model**.\n",
    "\n",
    "This notebook starts by re-creating the XGBoost sentiment analysis model that was created in earlier notebooks. This means that you will have already seen the cells up to the end of Step 4. The new content in this notebook begins at Step 5.\n",
    "\n",
    "## Instructions\n",
    "\n",
    "Some template code has already been provided for you, and you will need to implement additional functionality to successfully complete this notebook. You will not need to modify the included code beyond what is requested. Sections that begin with '**TODO**' in the header indicate that you need to complete or implement some portion within them. Instructions will be provided for each section and the specifics of the implementation are marked in the code block with a `# TODO: ...` comment. Please be sure to read the instructions carefully!\n",
    "\n",
    "In addition to implementing code, there will be questions for you to answer which relate to the task and your implementation. Each section where you will answer a question is preceded by a '**Question:**' header. Carefully read each question and provide your answer below the '**Answer:**' header by editing the Markdown cell.\n",
    "\n",
    "> **Note**: Code and Markdown cells can be executed using the **Shift+Enter** keyboard shortcut. In addition, a cell can be edited by typically clicking it (double-click for Markdown cells) or by pressing **Enter** while it is highlighted."
   ]
  },
  {
   "cell_type": "markdown",
   "metadata": {},
   "source": [
    "## Step 1: Downloading the data\n",
    "\n",
    "The dataset we are going to use is very popular among researchers in Natural Language Processing, usually referred to as the [IMDb dataset](http://ai.stanford.edu/~amaas/data/sentiment/). It consists of movie reviews from the website [imdb.com](http://www.imdb.com/), each labeled as either '**pos**itive', if the reviewer enjoyed the film, or '**neg**ative' otherwise.\n",
    "\n",
    "> Maas, Andrew L., et al. [Learning Word Vectors for Sentiment Analysis](http://ai.stanford.edu/~amaas/data/sentiment/). In _Proceedings of the 49th Annual Meeting of the Association for Computational Linguistics: Human Language Technologies_. Association for Computational Linguistics, 2011.\n",
    "\n",
    "We begin by using some Jupyter Notebook magic to download and extract the dataset."
   ]
  },
  {
   "cell_type": "code",
   "execution_count": 1,
   "metadata": {},
   "outputs": [
    {
     "name": "stdout",
     "output_type": "stream",
     "text": [
      "mkdir: cannot create directory ‘../data’: File exists\n",
      "--2020-07-25 22:36:43--  http://ai.stanford.edu/~amaas/data/sentiment/aclImdb_v1.tar.gz\n",
      "Resolving ai.stanford.edu (ai.stanford.edu)... 171.64.68.10\n",
      "Connecting to ai.stanford.edu (ai.stanford.edu)|171.64.68.10|:80... connected.\n",
      "HTTP request sent, awaiting response... 200 OK\n",
      "Length: 84125825 (80M) [application/x-gzip]\n",
      "Saving to: ‘../data/aclImdb_v1.tar.gz’\n",
      "\n",
      "../data/aclImdb_v1. 100%[===================>]  80.23M  38.7MB/s    in 2.1s    \n",
      "\n",
      "2020-07-25 22:36:46 (38.7 MB/s) - ‘../data/aclImdb_v1.tar.gz’ saved [84125825/84125825]\n",
      "\n"
     ]
    }
   ],
   "source": [
    "%mkdir ../data\n",
    "!wget -O ../data/aclImdb_v1.tar.gz http://ai.stanford.edu/~amaas/data/sentiment/aclImdb_v1.tar.gz\n",
    "!tar -zxf ../data/aclImdb_v1.tar.gz -C ../data"
   ]
  },
  {
   "cell_type": "markdown",
   "metadata": {},
   "source": [
    "## Step 2: Preparing the data\n",
    "\n",
    "The data we have downloaded is split into various files, each of which contains a single review. It will be much easier going forward if we combine these individual files into two large files, one for training and one for testing."
   ]
  },
  {
   "cell_type": "code",
   "execution_count": 1,
   "metadata": {},
   "outputs": [],
   "source": [
    "import os\n",
    "import glob\n",
    "\n",
    "def read_imdb_data(data_dir='../data/aclImdb'):\n",
    "    data = {}\n",
    "    labels = {}\n",
    "    \n",
    "    for data_type in ['train', 'test']:\n",
    "        data[data_type] = {}\n",
    "        labels[data_type] = {}\n",
    "        \n",
    "        for sentiment in ['pos', 'neg']:\n",
    "            data[data_type][sentiment] = []\n",
    "            labels[data_type][sentiment] = []\n",
    "            \n",
    "            path = os.path.join(data_dir, data_type, sentiment, '*.txt')\n",
    "            files = glob.glob(path)\n",
    "            \n",
    "            for f in files:\n",
    "                with open(f) as review:\n",
    "                    data[data_type][sentiment].append(review.read())\n",
    "                    # Here we represent a positive review by '1' and a negative review by '0'\n",
    "                    labels[data_type][sentiment].append(1 if sentiment == 'pos' else 0)\n",
    "                    \n",
    "            assert len(data[data_type][sentiment]) == len(labels[data_type][sentiment]), \\\n",
    "                    \"{}/{} data size does not match labels size\".format(data_type, sentiment)\n",
    "                \n",
    "    return data, labels"
   ]
  },
  {
   "cell_type": "code",
   "execution_count": 2,
   "metadata": {},
   "outputs": [
    {
     "name": "stdout",
     "output_type": "stream",
     "text": [
      "IMDB reviews: train = 12500 pos / 12500 neg, test = 12500 pos / 12500 neg\n"
     ]
    }
   ],
   "source": [
    "data, labels = read_imdb_data()\n",
    "print(\"IMDB reviews: train = {} pos / {} neg, test = {} pos / {} neg\".format(\n",
    "            len(data['train']['pos']), len(data['train']['neg']),\n",
    "            len(data['test']['pos']), len(data['test']['neg'])))"
   ]
  },
  {
   "cell_type": "code",
   "execution_count": 3,
   "metadata": {},
   "outputs": [],
   "source": [
    "from sklearn.utils import shuffle\n",
    "\n",
    "def prepare_imdb_data(data, labels):\n",
    "    \"\"\"Prepare training and test sets from IMDb movie reviews.\"\"\"\n",
    "    \n",
    "    #Combine positive and negative reviews and labels\n",
    "    data_train = data['train']['pos'] + data['train']['neg']\n",
    "    data_test = data['test']['pos'] + data['test']['neg']\n",
    "    labels_train = labels['train']['pos'] + labels['train']['neg']\n",
    "    labels_test = labels['test']['pos'] + labels['test']['neg']\n",
    "    \n",
    "    #Shuffle reviews and corresponding labels within training and test sets\n",
    "    data_train, labels_train = shuffle(data_train, labels_train)\n",
    "    data_test, labels_test = shuffle(data_test, labels_test)\n",
    "    \n",
    "    # Return a unified training data, test data, training labels, test labets\n",
    "    return data_train, data_test, labels_train, labels_test"
   ]
  },
  {
   "cell_type": "code",
   "execution_count": 4,
   "metadata": {},
   "outputs": [
    {
     "name": "stdout",
     "output_type": "stream",
     "text": [
      "IMDb reviews (combined): train = 25000, test = 25000\n",
      "CPU times: user 28.6 ms, sys: 121 µs, total: 28.7 ms\n",
      "Wall time: 27.9 ms\n"
     ]
    }
   ],
   "source": [
    "%%time\n",
    "train_X, test_X, train_y, test_y = prepare_imdb_data(data, labels)\n",
    "print(\"IMDb reviews (combined): train = {}, test = {}\".format(len(train_X), len(test_X)))"
   ]
  },
  {
   "cell_type": "code",
   "execution_count": 5,
   "metadata": {},
   "outputs": [
    {
     "data": {
      "text/plain": [
       "\"I find this movie very enjoyable. The plot is simple and easily digestible, the humour is light and clean, and because the storyline involving mistaken identity is quite common, I find myself looking forward to how this movie flesh this story out. Turns out to be very nice. The performance of the female lead is admirable; her portrayal of an innocent, naive girl trying to fabricate some white lies to David's sophisticated role was very charming. I also find Vera's dancing very, very well done. I find myself drawn to her toes as she pranced about the stage effortlessly and flawlessly.<br /><br />For those who have had enough of profanity-filled movies of today, you will enjoy this movie thoroughly.\""
      ]
     },
     "execution_count": 5,
     "metadata": {},
     "output_type": "execute_result"
    }
   ],
   "source": [
    "train_X[100]"
   ]
  },
  {
   "cell_type": "markdown",
   "metadata": {},
   "source": [
    "## Step 3: Processing the data\n",
    "\n",
    "Now that we have our training and testing datasets merged and ready to use, we need to start processing the raw data into something that will be useable by our machine learning algorithm. To begin with, we remove any html formatting that may appear in the reviews and perform some standard natural language processing in order to homogenize the data."
   ]
  },
  {
   "cell_type": "code",
   "execution_count": 6,
   "metadata": {},
   "outputs": [
    {
     "name": "stderr",
     "output_type": "stream",
     "text": [
      "[nltk_data] Downloading package stopwords to\n",
      "[nltk_data]     /home/ec2-user/nltk_data...\n",
      "[nltk_data]   Package stopwords is already up-to-date!\n"
     ]
    }
   ],
   "source": [
    "import nltk\n",
    "nltk.download(\"stopwords\")\n",
    "from nltk.corpus import stopwords\n",
    "from nltk.stem.porter import *\n",
    "stemmer = PorterStemmer()"
   ]
  },
  {
   "cell_type": "code",
   "execution_count": 7,
   "metadata": {},
   "outputs": [],
   "source": [
    "import re\n",
    "from bs4 import BeautifulSoup\n",
    "\n",
    "def review_to_words(review):\n",
    "    text = BeautifulSoup(review, \"html.parser\").get_text() # Remove HTML tags\n",
    "    text = re.sub(r\"[^a-zA-Z0-9]\", \" \", text.lower()) # Convert to lower case\n",
    "    words = text.split() # Split string into words\n",
    "    words = [w for w in words if w not in stopwords.words(\"english\")] # Remove stopwords\n",
    "    words = [PorterStemmer().stem(w) for w in words] # stem\n",
    "    \n",
    "    return words"
   ]
  },
  {
   "cell_type": "code",
   "execution_count": 8,
   "metadata": {},
   "outputs": [],
   "source": [
    "import pickle\n",
    "\n",
    "cache_dir = os.path.join(\"../cache\", \"sentiment_analysis\")  # where to store cache files\n",
    "os.makedirs(cache_dir, exist_ok=True)  # ensure cache directory exists\n",
    "\n",
    "def preprocess_data(data_train, data_test, labels_train, labels_test,\n",
    "                    cache_dir=cache_dir, cache_file=\"preprocessed_data.pkl\"):\n",
    "    \"\"\"Convert each review to words; read from cache if available.\"\"\"\n",
    "\n",
    "    # If cache_file is not None, try to read from it first\n",
    "    cache_data = None\n",
    "    if cache_file is not None:\n",
    "        try:\n",
    "            with open(os.path.join(cache_dir, cache_file), \"rb\") as f:\n",
    "                cache_data = pickle.load(f)\n",
    "            print(\"Read preprocessed data from cache file:\", cache_file)\n",
    "        except:\n",
    "            pass  # unable to read from cache, but that's okay\n",
    "    \n",
    "    # If cache is missing, then do the heavy lifting\n",
    "    if cache_data is None:\n",
    "        # Preprocess training and test data to obtain words for each review\n",
    "        #words_train = list(map(review_to_words, data_train))\n",
    "        #words_test = list(map(review_to_words, data_test))\n",
    "        words_train = [review_to_words(review) for review in data_train]\n",
    "        words_test = [review_to_words(review) for review in data_test]\n",
    "        \n",
    "        # Write to cache file for future runs\n",
    "        if cache_file is not None:\n",
    "            cache_data = dict(words_train=words_train, words_test=words_test,\n",
    "                              labels_train=labels_train, labels_test=labels_test)\n",
    "            with open(os.path.join(cache_dir, cache_file), \"wb\") as f:\n",
    "                pickle.dump(cache_data, f)\n",
    "            print(\"Wrote preprocessed data to cache file:\", cache_file)\n",
    "    else:\n",
    "        # Unpack data loaded from cache file\n",
    "        words_train, words_test, labels_train, labels_test = (cache_data['words_train'],\n",
    "                cache_data['words_test'], cache_data['labels_train'], cache_data['labels_test'])\n",
    "    \n",
    "    return words_train, words_test, labels_train, labels_test"
   ]
  },
  {
   "cell_type": "code",
   "execution_count": 9,
   "metadata": {},
   "outputs": [
    {
     "name": "stdout",
     "output_type": "stream",
     "text": [
      "Read preprocessed data from cache file: preprocessed_data.pkl\n",
      "CPU times: user 37.7 ms, sys: 4.37 ms, total: 42.1 ms\n",
      "Wall time: 38.4 ms\n"
     ]
    }
   ],
   "source": [
    "%%time\n",
    "# Preprocess data\n",
    "train_X, test_X, train_y, test_y = preprocess_data(train_X, test_X, train_y, test_y)"
   ]
  },
  {
   "cell_type": "markdown",
   "metadata": {},
   "source": [
    "### Extract Bag-of-Words features\n",
    "\n",
    "For the model we will be implementing, rather than using the reviews directly, we are going to transform each review into a Bag-of-Words feature representation. Keep in mind that 'in the wild' we will only have access to the training set so our transformer can only use the training set to construct a representation."
   ]
  },
  {
   "cell_type": "code",
   "execution_count": 10,
   "metadata": {},
   "outputs": [
    {
     "name": "stderr",
     "output_type": "stream",
     "text": [
      "/home/ec2-user/anaconda3/envs/pytorch_p36/lib/python3.6/site-packages/sklearn/externals/joblib/__init__.py:15: FutureWarning: sklearn.externals.joblib is deprecated in 0.21 and will be removed in 0.23. Please import this functionality directly from joblib, which can be installed with: pip install joblib. If this warning is raised when loading pickled models, you may need to re-serialize those models with scikit-learn 0.21+.\n",
      "  warnings.warn(msg, category=FutureWarning)\n"
     ]
    }
   ],
   "source": [
    "import numpy as np\n",
    "from sklearn.feature_extraction.text import CountVectorizer\n",
    "from sklearn.externals import joblib\n",
    "# joblib is an enhanced version of pickle that is more efficient for storing NumPy arrays\n",
    "\n",
    "def extract_BoW_features(words_train, words_test, vocabulary_size=5000,\n",
    "                         cache_dir=cache_dir, cache_file=\"bow_features.pkl\"):\n",
    "    \"\"\"Extract Bag-of-Words for a given set of documents, already preprocessed into words.\"\"\"\n",
    "    \n",
    "    # If cache_file is not None, try to read from it first\n",
    "    cache_data = None\n",
    "    if cache_file is not None:\n",
    "        try:\n",
    "            with open(os.path.join(cache_dir, cache_file), \"rb\") as f:\n",
    "                cache_data = joblib.load(f)\n",
    "            print(\"Read features from cache file:\", cache_file)\n",
    "        except:\n",
    "            pass  # unable to read from cache, but that's okay\n",
    "    \n",
    "    # If cache is missing, then do the heavy lifting\n",
    "    if cache_data is None:\n",
    "        # Fit a vectorizer to training documents and use it to transform them\n",
    "        # NOTE: Training documents have already been preprocessed and tokenized into words;\n",
    "        #       pass in dummy functions to skip those steps, e.g. preprocessor=lambda x: x\n",
    "        vectorizer = CountVectorizer(max_features=vocabulary_size,\n",
    "                preprocessor=lambda x: x, tokenizer=lambda x: x)  # already preprocessed\n",
    "        features_train = vectorizer.fit_transform(words_train).toarray()\n",
    "\n",
    "        # Apply the same vectorizer to transform the test documents (ignore unknown words)\n",
    "        features_test = vectorizer.transform(words_test).toarray()\n",
    "        \n",
    "        # NOTE: Remember to convert the features using .toarray() for a compact representation\n",
    "        \n",
    "        # Write to cache file for future runs (store vocabulary as well)\n",
    "        if cache_file is not None:\n",
    "            vocabulary = vectorizer.vocabulary_\n",
    "            cache_data = dict(features_train=features_train, features_test=features_test,\n",
    "                             vocabulary=vocabulary)\n",
    "            with open(os.path.join(cache_dir, cache_file), \"wb\") as f:\n",
    "                joblib.dump(cache_data, f)\n",
    "            print(\"Wrote features to cache file:\", cache_file)\n",
    "    else:\n",
    "        # Unpack data loaded from cache file\n",
    "        features_train, features_test, vocabulary = (cache_data['features_train'],\n",
    "                cache_data['features_test'], cache_data['vocabulary'])\n",
    "    \n",
    "    # Return both the extracted features as well as the vocabulary\n",
    "    return features_train, features_test, vocabulary"
   ]
  },
  {
   "cell_type": "code",
   "execution_count": 11,
   "metadata": {},
   "outputs": [
    {
     "name": "stdout",
     "output_type": "stream",
     "text": [
      "Read features from cache file: bow_features.pkl\n",
      "CPU times: user 25.4 ms, sys: 23.4 ms, total: 48.8 ms\n",
      "Wall time: 48 ms\n"
     ]
    }
   ],
   "source": [
    "%%time\n",
    "# Extract Bag of Words features for both training and test datasets\n",
    "train_X, test_X, vocabulary = extract_BoW_features(train_X, test_X)"
   ]
  },
  {
   "cell_type": "code",
   "execution_count": 12,
   "metadata": {},
   "outputs": [
    {
     "data": {
      "text/plain": [
       "178"
      ]
     },
     "execution_count": 12,
     "metadata": {},
     "output_type": "execute_result"
    }
   ],
   "source": [
    "len(train_X[100])"
   ]
  },
  {
   "cell_type": "markdown",
   "metadata": {},
   "source": [
    "## Step 4: Classification using XGBoost\n",
    "\n",
    "Now that we have created the feature representation of our training (and testing) data, it is time to start setting up and using the XGBoost classifier provided by SageMaker.\n",
    "\n",
    "### Writing the dataset\n",
    "\n",
    "The XGBoost classifier that we will be using requires the dataset to be written to a file and stored using Amazon S3. To do this, we will start by splitting the training dataset into two parts, the data we will train the model with and a validation set. Then, we will write those datasets to a file and upload the files to S3. In addition, we will write the test set input to a file and upload the file to S3. This is so that we can use SageMakers Batch Transform functionality to test our model once we've fit it."
   ]
  },
  {
   "cell_type": "code",
   "execution_count": 20,
   "metadata": {},
   "outputs": [],
   "source": [
    "import pandas as pd\n",
    "\n",
    "# Earlier we shuffled the training dataset so to make things simple we can just assign\n",
    "# the first 10 000 reviews to the validation set and use the remaining reviews for training.\n",
    "val_X = pd.DataFrame(train_X[:500])\n",
    "train_X = pd.DataFrame(train_X[500:])\n",
    "\n",
    "val_y = pd.DataFrame(train_y[:500])\n",
    "train_y = pd.DataFrame(train_y[500:])"
   ]
  },
  {
   "cell_type": "markdown",
   "metadata": {},
   "source": [
    "The documentation for the XGBoost algorithm in SageMaker requires that the saved datasets should contain no headers or index and that for the training and validation data, the label should occur first for each sample.\n",
    "\n",
    "For more information about this and other algorithms, the SageMaker developer documentation can be found on __[Amazon's website.](https://docs.aws.amazon.com/sagemaker/latest/dg/)__"
   ]
  },
  {
   "cell_type": "code",
   "execution_count": 21,
   "metadata": {},
   "outputs": [],
   "source": [
    "# First we make sure that the local directory in which we'd like to store the training and validation csv files exists.\n",
    "data_dir = '../data/sentiment_update'\n",
    "if not os.path.exists(data_dir):\n",
    "    os.makedirs(data_dir)"
   ]
  },
  {
   "cell_type": "code",
   "execution_count": 22,
   "metadata": {},
   "outputs": [],
   "source": [
    "pd.DataFrame(test_X).to_csv(os.path.join(data_dir, 'test.csv'), header=False, index=False)\n",
    "\n",
    "pd.concat([val_y, val_X], axis=1).to_csv(os.path.join(data_dir, 'validation.csv'), header=False, index=False)\n",
    "pd.concat([train_y, train_X], axis=1).to_csv(os.path.join(data_dir, 'train.csv'), header=False, index=False)"
   ]
  },
  {
   "cell_type": "code",
   "execution_count": 20,
   "metadata": {},
   "outputs": [],
   "source": [
    "# To save a bit of memory we can set text_X, train_X, val_X, train_y and val_y to None.\n",
    "\n",
    "test_X = train_X = val_X = train_y = val_y = None"
   ]
  },
  {
   "cell_type": "markdown",
   "metadata": {},
   "source": [
    "### Uploading Training / Validation files to S3\n",
    "\n",
    "Amazon's S3 service allows us to store files that can be access by both the built-in training models such as the XGBoost model we will be using as well as custom models such as the one we will see a little later.\n",
    "\n",
    "For this, and most other tasks we will be doing using SageMaker, there are two methods we could use. The first is to use the low level functionality of SageMaker which requires knowing each of the objects involved in the SageMaker environment. The second is to use the high level functionality in which certain choices have been made on the user's behalf. The low level approach benefits from allowing the user a great deal of flexibility while the high level approach makes development much quicker. For our purposes we will opt to use the high level approach although using the low-level approach is certainly an option.\n",
    "\n",
    "Recall the method `upload_data()` which is a member of object representing our current SageMaker session. What this method does is upload the data to the default bucket (which is created if it does not exist) into the path described by the key_prefix variable. To see this for yourself, once you have uploaded the data files, go to the S3 console and look to see where the files have been uploaded.\n",
    "\n",
    "For additional resources, see the __[SageMaker API documentation](http://sagemaker.readthedocs.io/en/latest/)__ and in addition the __[SageMaker Developer Guide.](https://docs.aws.amazon.com/sagemaker/latest/dg/)__"
   ]
  },
  {
   "cell_type": "code",
   "execution_count": 23,
   "metadata": {},
   "outputs": [],
   "source": [
    "import sagemaker\n",
    "\n",
    "session = sagemaker.Session() # Store the current SageMaker session\n",
    "\n",
    "# S3 prefix (which folder will we use)\n",
    "prefix = 'sentiment-update'\n",
    "\n",
    "test_location = session.upload_data(os.path.join(data_dir, 'test.csv'), key_prefix=prefix)\n",
    "val_location = session.upload_data(os.path.join(data_dir, 'validation.csv'), key_prefix=prefix)\n",
    "train_location = session.upload_data(os.path.join(data_dir, 'train.csv'), key_prefix=prefix)"
   ]
  },
  {
   "cell_type": "markdown",
   "metadata": {},
   "source": [
    "### Creating the XGBoost model\n",
    "\n",
    "Now that the data has been uploaded it is time to create the XGBoost model. To begin with, we need to do some setup. At this point it is worth discussing what a model is in SageMaker. It is easiest to think of a model of comprising three different objects in the SageMaker ecosystem, which interact with one another.\n",
    "\n",
    "- Model Artifacts\n",
    "- Training Code (Container)\n",
    "- Inference Code (Container)\n",
    "\n",
    "The Model Artifacts are what you might think of as the actual model itself. For example, if you were building a neural network, the model artifacts would be the weights of the various layers. In our case, for an XGBoost model, the artifacts are the actual trees that are created during training.\n",
    "\n",
    "The other two objects, the training code and the inference code are then used the manipulate the training artifacts. More precisely, the training code uses the training data that is provided and creates the model artifacts, while the inference code uses the model artifacts to make predictions on new data.\n",
    "\n",
    "The way that SageMaker runs the training and inference code is by making use of Docker containers. For now, think of a container as being a way of packaging code up so that dependencies aren't an issue."
   ]
  },
  {
   "cell_type": "code",
   "execution_count": 24,
   "metadata": {},
   "outputs": [],
   "source": [
    "from sagemaker import get_execution_role\n",
    "\n",
    "# Our current execution role is require when creating the model as the training\n",
    "# and inference code will need to access the model artifacts.\n",
    "role = get_execution_role()"
   ]
  },
  {
   "cell_type": "code",
   "execution_count": 25,
   "metadata": {},
   "outputs": [
    {
     "name": "stderr",
     "output_type": "stream",
     "text": [
      "'get_image_uri' method will be deprecated in favor of 'ImageURIProvider' class in SageMaker Python SDK v2.\n",
      "WARNING:root:There is a more up to date SageMaker XGBoost image. To use the newer image, please set 'repo_version'='1.0-1'. For example:\n",
      "\tget_image_uri(region, 'xgboost', '1.0-1').\n"
     ]
    }
   ],
   "source": [
    "# We need to retrieve the location of the container which is provided by Amazon for using XGBoost.\n",
    "# As a matter of convenience, the training and inference code both use the same container.\n",
    "from sagemaker.amazon.amazon_estimator import get_image_uri\n",
    "\n",
    "container = get_image_uri(session.boto_region_name, 'xgboost')"
   ]
  },
  {
   "cell_type": "code",
   "execution_count": 26,
   "metadata": {},
   "outputs": [
    {
     "name": "stderr",
     "output_type": "stream",
     "text": [
      "WARNING:root:Parameter image_name will be renamed to image_uri in SageMaker Python SDK v2.\n"
     ]
    }
   ],
   "source": [
    "# First we create a SageMaker estimator object for our model.\n",
    "xgb = sagemaker.estimator.Estimator(container, # The location of the container we wish to use\n",
    "                                    role,                                    # What is our current IAM Role\n",
    "                                    train_instance_count=1,                  # How many compute instances\n",
    "                                    train_instance_type='ml.m4.xlarge',      # What kind of compute instances\n",
    "                                    output_path='s3://{}/{}/output'.format(session.default_bucket(), prefix),\n",
    "                                    sagemaker_session=session)\n",
    "\n",
    "# And then set the algorithm specific parameters.\n",
    "xgb.set_hyperparameters(max_depth=5,\n",
    "                        eta=0.2,\n",
    "                        gamma=4,\n",
    "                        min_child_weight=6,\n",
    "                        subsample=0.8,\n",
    "                        silent=0,\n",
    "                        objective='binary:logistic',\n",
    "                        early_stopping_rounds=10,\n",
    "                        num_round=500)"
   ]
  },
  {
   "cell_type": "markdown",
   "metadata": {},
   "source": [
    "### Fit the XGBoost model\n",
    "\n",
    "Now that our model has been set up we simply need to attach the training and validation datasets and then ask SageMaker to set up the computation."
   ]
  },
  {
   "cell_type": "code",
   "execution_count": 27,
   "metadata": {},
   "outputs": [
    {
     "name": "stderr",
     "output_type": "stream",
     "text": [
      "WARNING:sagemaker:'s3_input' class will be renamed to 'TrainingInput' in SageMaker Python SDK v2.\n",
      "WARNING:sagemaker:'s3_input' class will be renamed to 'TrainingInput' in SageMaker Python SDK v2.\n"
     ]
    }
   ],
   "source": [
    "s3_input_train = sagemaker.s3_input(s3_data=train_location, content_type='csv')\n",
    "s3_input_validation = sagemaker.s3_input(s3_data=val_location, content_type='csv')"
   ]
  },
  {
   "cell_type": "code",
   "execution_count": 28,
   "metadata": {},
   "outputs": [
    {
     "name": "stdout",
     "output_type": "stream",
     "text": [
      "2020-07-25 22:43:16 Starting - Starting the training job...\n",
      "2020-07-25 22:43:18 Starting - Launching requested ML instances.........\n",
      "2020-07-25 22:44:54 Starting - Preparing the instances for training...\n",
      "2020-07-25 22:45:44 Downloading - Downloading input data...\n",
      "2020-07-25 22:46:04 Training - Downloading the training image..\u001b[34mArguments: train\u001b[0m\n",
      "\u001b[34m[2020-07-25:22:46:24:INFO] Running standalone xgboost training.\u001b[0m\n",
      "\u001b[34m[2020-07-25:22:46:24:INFO] File size need to be processed in the node: 9.11mb. Available memory size in the node: 8495.3mb\u001b[0m\n",
      "\u001b[34m[2020-07-25:22:46:24:INFO] Determined delimiter of CSV input is ','\u001b[0m\n",
      "\u001b[34m[22:46:24] S3DistributionType set as FullyReplicated\u001b[0m\n",
      "\u001b[34m[22:46:24] 24500x178 matrix with 4361000 entries loaded from /opt/ml/input/data/train?format=csv&label_column=0&delimiter=,\u001b[0m\n",
      "\u001b[34m[2020-07-25:22:46:24:INFO] Determined delimiter of CSV input is ','\u001b[0m\n",
      "\u001b[34m[22:46:24] S3DistributionType set as FullyReplicated\u001b[0m\n",
      "\u001b[34m[22:46:24] 500x178 matrix with 89000 entries loaded from /opt/ml/input/data/validation?format=csv&label_column=0&delimiter=,\u001b[0m\n",
      "\u001b[34m[22:46:25] src/tree/updater_prune.cc:74: tree pruning end, 1 roots, 0 extra nodes, 0 pruned nodes, max_depth=0\u001b[0m\n",
      "\u001b[34m[0]#011train-error:0.010041#011validation-error:0.506\u001b[0m\n",
      "\u001b[34mMultiple eval metrics have been passed: 'validation-error' will be used for early stopping.\n",
      "\u001b[0m\n",
      "\u001b[34mWill train until validation-error hasn't improved in 10 rounds.\u001b[0m\n",
      "\u001b[34m[22:46:25] src/tree/updater_prune.cc:74: tree pruning end, 1 roots, 0 extra nodes, 0 pruned nodes, max_depth=0\u001b[0m\n",
      "\u001b[34m[1]#011train-error:0.010041#011validation-error:0.506\u001b[0m\n",
      "\u001b[34m[22:46:25] src/tree/updater_prune.cc:74: tree pruning end, 1 roots, 0 extra nodes, 0 pruned nodes, max_depth=0\u001b[0m\n",
      "\u001b[34m[2]#011train-error:0.010041#011validation-error:0.506\u001b[0m\n",
      "\u001b[34m[22:46:25] src/tree/updater_prune.cc:74: tree pruning end, 1 roots, 0 extra nodes, 0 pruned nodes, max_depth=0\u001b[0m\n",
      "\u001b[34m[3]#011train-error:0.010041#011validation-error:0.506\u001b[0m\n",
      "\u001b[34m[22:46:25] src/tree/updater_prune.cc:74: tree pruning end, 1 roots, 0 extra nodes, 0 pruned nodes, max_depth=0\u001b[0m\n",
      "\u001b[34m[4]#011train-error:0.010041#011validation-error:0.506\u001b[0m\n",
      "\u001b[34m[22:46:25] src/tree/updater_prune.cc:74: tree pruning end, 1 roots, 0 extra nodes, 0 pruned nodes, max_depth=0\u001b[0m\n",
      "\u001b[34m[5]#011train-error:0.010041#011validation-error:0.506\u001b[0m\n",
      "\u001b[34m[22:46:25] src/tree/updater_prune.cc:74: tree pruning end, 1 roots, 0 extra nodes, 4 pruned nodes, max_depth=0\u001b[0m\n",
      "\u001b[34m[6]#011train-error:0.010041#011validation-error:0.506\u001b[0m\n",
      "\u001b[34m[22:46:25] src/tree/updater_prune.cc:74: tree pruning end, 1 roots, 0 extra nodes, 0 pruned nodes, max_depth=0\u001b[0m\n",
      "\u001b[34m[7]#011train-error:0.010041#011validation-error:0.506\u001b[0m\n",
      "\u001b[34m[22:46:25] src/tree/updater_prune.cc:74: tree pruning end, 1 roots, 0 extra nodes, 14 pruned nodes, max_depth=0\u001b[0m\n",
      "\u001b[34m[8]#011train-error:0.010041#011validation-error:0.506\u001b[0m\n",
      "\u001b[34m[22:46:25] src/tree/updater_prune.cc:74: tree pruning end, 1 roots, 0 extra nodes, 20 pruned nodes, max_depth=0\u001b[0m\n",
      "\u001b[34m[9]#011train-error:0.010041#011validation-error:0.506\u001b[0m\n",
      "\u001b[34m[22:46:25] src/tree/updater_prune.cc:74: tree pruning end, 1 roots, 0 extra nodes, 14 pruned nodes, max_depth=0\u001b[0m\n",
      "\u001b[34m[10]#011train-error:0.010041#011validation-error:0.506\u001b[0m\n",
      "\u001b[34mStopping. Best iteration:\u001b[0m\n",
      "\u001b[34m[0]#011train-error:0.010041#011validation-error:0.506\n",
      "\u001b[0m\n",
      "\n",
      "2020-07-25 22:46:36 Uploading - Uploading generated training model\n",
      "2020-07-25 22:46:36 Completed - Training job completed\n",
      "Training seconds: 52\n",
      "Billable seconds: 52\n"
     ]
    }
   ],
   "source": [
    "xgb.fit({'train': s3_input_train, 'validation': s3_input_validation})"
   ]
  },
  {
   "cell_type": "markdown",
   "metadata": {},
   "source": [
    "### Testing the model\n",
    "\n",
    "Now that we've fit our XGBoost model, it's time to see how well it performs. To do this we will use SageMakers Batch Transform functionality. Batch Transform is a convenient way to perform inference on a large dataset in a way that is not realtime. That is, we don't necessarily need to use our model's results immediately and instead we can peform inference on a large number of samples. An example of this in industry might be peforming an end of month report. This method of inference can also be useful to us as it means to can perform inference on our entire test set. \n",
    "\n",
    "To perform a Batch Transformation we need to first create a transformer objects from our trained estimator object."
   ]
  },
  {
   "cell_type": "code",
   "execution_count": 29,
   "metadata": {},
   "outputs": [
    {
     "name": "stderr",
     "output_type": "stream",
     "text": [
      "WARNING:sagemaker:Parameter image will be renamed to image_uri in SageMaker Python SDK v2.\n"
     ]
    }
   ],
   "source": [
    "xgb_transformer = xgb.transformer(instance_count = 1, instance_type = 'ml.m4.xlarge')"
   ]
  },
  {
   "cell_type": "markdown",
   "metadata": {},
   "source": [
    "Next we actually perform the transform job. When doing so we need to make sure to specify the type of data we are sending so that it is serialized correctly in the background. In our case we are providing our model with csv data so we specify `text/csv`. Also, if the test data that we have provided is too large to process all at once then we need to specify how the data file should be split up. Since each line is a single entry in our data set we tell SageMaker that it can split the input on each line."
   ]
  },
  {
   "cell_type": "code",
   "execution_count": 30,
   "metadata": {},
   "outputs": [],
   "source": [
    "xgb_transformer.transform(test_location, content_type='text/csv', split_type='Line')"
   ]
  },
  {
   "cell_type": "markdown",
   "metadata": {},
   "source": [
    "Currently the transform job is running but it is doing so in the background. Since we wish to wait until the transform job is done and we would like a bit of feedback we can run the `wait()` method."
   ]
  },
  {
   "cell_type": "code",
   "execution_count": 31,
   "metadata": {},
   "outputs": [
    {
     "name": "stdout",
     "output_type": "stream",
     "text": [
      "....................\u001b[34mArguments: serve\u001b[0m\n",
      "\u001b[34m[2020-07-25 22:50:33 +0000] [1] [INFO] Starting gunicorn 19.7.1\u001b[0m\n",
      "\u001b[34m[2020-07-25 22:50:33 +0000] [1] [INFO] Listening at: http://0.0.0.0:8080 (1)\u001b[0m\n",
      "\u001b[34m[2020-07-25 22:50:33 +0000] [1] [INFO] Using worker: gevent\u001b[0m\n",
      "\u001b[34m[2020-07-25 22:50:33 +0000] [38] [INFO] Booting worker with pid: 38\u001b[0m\n",
      "\u001b[34m[2020-07-25 22:50:33 +0000] [39] [INFO] Booting worker with pid: 39\u001b[0m\n",
      "\u001b[34m[2020-07-25:22:50:33:INFO] Model loaded successfully for worker : 38\u001b[0m\n",
      "\u001b[34m[2020-07-25:22:50:33:INFO] Model loaded successfully for worker : 39\u001b[0m\n",
      "\u001b[34m[2020-07-25 22:50:33 +0000] [40] [INFO] Booting worker with pid: 40\u001b[0m\n",
      "\u001b[34m[2020-07-25:22:50:33:INFO] Model loaded successfully for worker : 40\u001b[0m\n",
      "\u001b[34m[2020-07-25 22:50:33 +0000] [41] [INFO] Booting worker with pid: 41\u001b[0m\n",
      "\u001b[34m[2020-07-25:22:50:33:INFO] Model loaded successfully for worker : 41\u001b[0m\n",
      "\u001b[34m[2020-07-25:22:51:04:INFO] Sniff delimiter as ','\u001b[0m\n",
      "\u001b[34m[2020-07-25:22:51:04:INFO] Determined delimiter of CSV input is ','\u001b[0m\n",
      "\u001b[34m[2020-07-25:22:51:04:INFO] Sniff delimiter as ','\u001b[0m\n",
      "\u001b[34m[2020-07-25:22:51:04:INFO] Determined delimiter of CSV input is ','\u001b[0m\n",
      "\u001b[35m[2020-07-25:22:51:04:INFO] Sniff delimiter as ','\u001b[0m\n",
      "\u001b[35m[2020-07-25:22:51:04:INFO] Determined delimiter of CSV input is ','\u001b[0m\n",
      "\u001b[35m[2020-07-25:22:51:04:INFO] Sniff delimiter as ','\u001b[0m\n",
      "\u001b[35m[2020-07-25:22:51:04:INFO] Determined delimiter of CSV input is ','\u001b[0m\n",
      "\n",
      "\u001b[32m2020-07-25T22:51:04.294:[sagemaker logs]: MaxConcurrentTransforms=4, MaxPayloadInMB=6, BatchStrategy=MULTI_RECORD\u001b[0m\n"
     ]
    }
   ],
   "source": [
    "xgb_transformer.wait()"
   ]
  },
  {
   "cell_type": "markdown",
   "metadata": {},
   "source": [
    "Now the transform job has executed and the result, the estimated sentiment of each review, has been saved on S3. Since we would rather work on this file locally we can perform a bit of notebook magic to copy the file to the `data_dir`."
   ]
  },
  {
   "cell_type": "code",
   "execution_count": 32,
   "metadata": {},
   "outputs": [
    {
     "name": "stdout",
     "output_type": "stream",
     "text": [
      "Completed 256.0 KiB/366.2 KiB (3.7 MiB/s) with 1 file(s) remaining\r",
      "Completed 366.2 KiB/366.2 KiB (5.1 MiB/s) with 1 file(s) remaining\r",
      "download: s3://sagemaker-us-west-2-216538981855/xgboost-2020-07-25-22-47-20-908/test.csv.out to ../data/sentiment_update/test.csv.out\r\n"
     ]
    }
   ],
   "source": [
    "!aws s3 cp --recursive $xgb_transformer.output_path $data_dir"
   ]
  },
  {
   "cell_type": "markdown",
   "metadata": {},
   "source": [
    "The last step is now to read in the output from our model, convert the output to something a little more usable, in this case we want the sentiment to be either `1` (positive) or `0` (negative), and then compare to the ground truth labels."
   ]
  },
  {
   "cell_type": "code",
   "execution_count": 33,
   "metadata": {},
   "outputs": [],
   "source": [
    "predictions = pd.read_csv(os.path.join(data_dir, 'test.csv.out'), header=None)\n",
    "predictions = [round(num) for num in predictions.squeeze().values]"
   ]
  },
  {
   "cell_type": "code",
   "execution_count": 36,
   "metadata": {},
   "outputs": [
    {
     "data": {
      "text/plain": [
       "0.492"
      ]
     },
     "execution_count": 36,
     "metadata": {},
     "output_type": "execute_result"
    }
   ],
   "source": [
    "from sklearn.metrics import accuracy_score\n",
    "accuracy_score(test_y, predictions[:1000])"
   ]
  },
  {
   "cell_type": "markdown",
   "metadata": {},
   "source": [
    "## Step 5: Looking at New Data\n",
    "\n",
    "So now we have an XGBoost sentiment analysis model that we believe is working pretty well. As a result, we deployed it and we are using it in some sort of app.\n",
    "\n",
    "However, as we allow users to use our app we periodically record submitted movie reviews so that we can perform some quality control on our deployed model. Once we've accumulated enough reviews we go through them by hand and evaluate whether they are positive or negative (there are many ways you might do this in practice aside from by hand). The reason for doing this is so that we can check to see how well our model is doing."
   ]
  },
  {
   "cell_type": "code",
   "execution_count": 37,
   "metadata": {},
   "outputs": [],
   "source": [
    "import new_data\n",
    "\n",
    "new_X, new_Y = new_data.get_new_data()"
   ]
  },
  {
   "cell_type": "markdown",
   "metadata": {},
   "source": [
    "**NOTE:** Part of the fun in this notebook is trying to figure out what exactly is happening with the new data, so try not to cheat by looking in the `new_data` module. Also, the `new_data` module assumes that the cache created earlier in Step 3 is still stored in `../cache/sentiment_analysis`."
   ]
  },
  {
   "cell_type": "markdown",
   "metadata": {},
   "source": [
    "### (TODO) Testing the current model\n",
    "\n",
    "Now that we've loaded the new data, let's check to see how our current XGBoost model performs on it.\n",
    "\n",
    "First, note that the data that has been loaded has already been pre-processed so that each entry in `new_X` is a list of words that have been processed using `nltk`. However, we have not yet constructed the bag of words encoding, which we will do now.\n",
    "\n",
    "First, we use the vocabulary that we constructed earlier using the original training data to construct a `CountVectorizer` which we will use to transform our new data into its bag of words encoding.\n",
    "\n",
    "**TODO:** Create the CountVectorizer object using the vocabulary created earlier and use it to transform the new data."
   ]
  },
  {
   "cell_type": "code",
   "execution_count": 38,
   "metadata": {},
   "outputs": [],
   "source": [
    "# TODO: Create the CountVectorizer using the previously constructed vocabulary\n",
    "vectorizer = CountVectorizer(vocabulary=vocabulary, preprocessor=lambda x: x, tokenizer=lambda x: x)\n",
    "\n",
    "# TODO: Transform our new data set and store the transformed data in the variable new_XV\n",
    "new_XV = vectorizer.transform(new_X).toarray()"
   ]
  },
  {
   "cell_type": "markdown",
   "metadata": {},
   "source": [
    "As a quick sanity check, we make sure that the length of each of our bag of words encoded reviews is correct. In particular, it must be the same size as the vocabulary which in our case is `5000`."
   ]
  },
  {
   "cell_type": "code",
   "execution_count": 39,
   "metadata": {},
   "outputs": [
    {
     "data": {
      "text/plain": [
       "178"
      ]
     },
     "execution_count": 39,
     "metadata": {},
     "output_type": "execute_result"
    }
   ],
   "source": [
    "len(new_XV[100])"
   ]
  },
  {
   "cell_type": "markdown",
   "metadata": {},
   "source": [
    "Now that we've performed the data processing that is required by our model we can save it locally and then upload it to S3 so that we can construct a batch transform job in order to see how well our model is working.\n",
    "\n",
    "First, we save the data locally.\n",
    "\n",
    "**TODO:** Save the new data (after it has been transformed using the original vocabulary) to the local notebook instance."
   ]
  },
  {
   "cell_type": "code",
   "execution_count": 40,
   "metadata": {},
   "outputs": [],
   "source": [
    "# TODO: Save the data contained in new_XV locally in the data_dir with the file name new_data.csv\n",
    "pd.DataFrame(new_XV).to_csv(os.path.join(data_dir, 'new_data.csv'), header=False, index=False)"
   ]
  },
  {
   "cell_type": "markdown",
   "metadata": {},
   "source": [
    "Next, we upload the data to S3.\n",
    "\n",
    "**TODO:** Upload the csv file created above to S3."
   ]
  },
  {
   "cell_type": "code",
   "execution_count": 41,
   "metadata": {},
   "outputs": [],
   "source": [
    "# TODO: Upload the new_data.csv file contained in the data_dir folder to S3 and save the resulting\n",
    "#       URI as new_data_location\n",
    "\n",
    "new_data_location = session.upload_data(os.path.join(data_dir, 'new_data.csv'), key_prefix=prefix)"
   ]
  },
  {
   "cell_type": "markdown",
   "metadata": {},
   "source": [
    "Then, once the new data has been uploaded to S3, we create and run the batch transform job to get our model's predictions about the sentiment of the new movie reviews.\n",
    "\n",
    "**TODO:** Using the `xgb_transformer` object that was created earlier (at the end of Step 4 to test the XGBoost model), transform the data located at `new_data_location`."
   ]
  },
  {
   "cell_type": "code",
   "execution_count": 43,
   "metadata": {},
   "outputs": [],
   "source": [
    "# TODO: Using xgb_transformer, transform the new_data_location data. You may wish to **wait** until\n",
    "#       the batch transform job has finished.\n",
    "xgb_transformer.transform(new_data_location, content_type='text/csv', split_type='Line')"
   ]
  },
  {
   "cell_type": "code",
   "execution_count": 44,
   "metadata": {},
   "outputs": [
    {
     "name": "stdout",
     "output_type": "stream",
     "text": [
      ".......................\u001b[34mArguments: serve\u001b[0m\n",
      "\u001b[34m[2020-07-25 22:56:38 +0000] [1] [INFO] Starting gunicorn 19.7.1\u001b[0m\n",
      "\u001b[34m[2020-07-25 22:56:38 +0000] [1] [INFO] Listening at: http://0.0.0.0:8080 (1)\u001b[0m\n",
      "\u001b[34m[2020-07-25 22:56:38 +0000] [1] [INFO] Using worker: gevent\u001b[0m\n",
      "\u001b[34m[2020-07-25 22:56:38 +0000] [38] [INFO] Booting worker with pid: 38\u001b[0m\n",
      "\u001b[34m[2020-07-25 22:56:38 +0000] [39] [INFO] Booting worker with pid: 39\u001b[0m\n",
      "\u001b[34m[2020-07-25 22:56:38 +0000] [40] [INFO] Booting worker with pid: 40\u001b[0m\n",
      "\u001b[34m[2020-07-25 22:56:38 +0000] [41] [INFO] Booting worker with pid: 41\u001b[0m\n",
      "\u001b[34m[2020-07-25:22:56:38:INFO] Model loaded successfully for worker : 40\u001b[0m\n",
      "\u001b[34m[2020-07-25:22:56:38:INFO] Model loaded successfully for worker : 38\u001b[0m\n",
      "\u001b[34m[2020-07-25:22:56:38:INFO] Model loaded successfully for worker : 39\u001b[0m\n",
      "\u001b[34m[2020-07-25:22:56:38:INFO] Model loaded successfully for worker : 41\u001b[0m\n",
      "\n",
      "\u001b[34m[2020-07-25:22:56:59:INFO] Sniff delimiter as ','\u001b[0m\n",
      "\u001b[34m[2020-07-25:22:56:59:INFO] Determined delimiter of CSV input is ','\u001b[0m\n",
      "\u001b[35m[2020-07-25:22:56:59:INFO] Sniff delimiter as ','\u001b[0m\n",
      "\u001b[35m[2020-07-25:22:56:59:INFO] Determined delimiter of CSV input is ','\u001b[0m\n",
      "\u001b[32m2020-07-25T22:56:59.076:[sagemaker logs]: MaxConcurrentTransforms=4, MaxPayloadInMB=6, BatchStrategy=MULTI_RECORD\u001b[0m\n"
     ]
    }
   ],
   "source": [
    "xgb_transformer.wait()"
   ]
  },
  {
   "cell_type": "markdown",
   "metadata": {},
   "source": [
    "As usual, we copy the results of the batch transform job to our local instance."
   ]
  },
  {
   "cell_type": "code",
   "execution_count": 45,
   "metadata": {},
   "outputs": [
    {
     "name": "stdout",
     "output_type": "stream",
     "text": [
      "Completed 14.6 KiB/14.6 KiB (234.0 KiB/s) with 1 file(s) remaining\r",
      "download: s3://sagemaker-us-west-2-216538981855/xgboost-2020-07-25-22-53-07-390/new_data.csv.out to ../data/sentiment_update/new_data.csv.out\r\n"
     ]
    }
   ],
   "source": [
    "!aws s3 cp --recursive $xgb_transformer.output_path $data_dir"
   ]
  },
  {
   "cell_type": "markdown",
   "metadata": {},
   "source": [
    "Read in the results of the batch transform job."
   ]
  },
  {
   "cell_type": "code",
   "execution_count": 46,
   "metadata": {},
   "outputs": [],
   "source": [
    "predictions = pd.read_csv(os.path.join(data_dir, 'new_data.csv.out'), header=None)\n",
    "predictions = [round(num) for num in predictions.squeeze().values]"
   ]
  },
  {
   "cell_type": "markdown",
   "metadata": {},
   "source": [
    "And check the accuracy of our current model."
   ]
  },
  {
   "cell_type": "code",
   "execution_count": 47,
   "metadata": {},
   "outputs": [
    {
     "data": {
      "text/plain": [
       "0.491"
      ]
     },
     "execution_count": 47,
     "metadata": {},
     "output_type": "execute_result"
    }
   ],
   "source": [
    "accuracy_score(new_Y, predictions)"
   ]
  },
  {
   "cell_type": "markdown",
   "metadata": {},
   "source": [
    "So it would appear that *something* has changed since our model is no longer (as) effective at determining the sentiment of a user provided review.\n",
    "\n",
    "In a real life scenario you would check a number of different things to see what exactly is going on. In our case, we are only going to check one and that is whether some aspect of the underlying distribution has changed. In other words, we want to see if the words that appear in our new collection of reviews matches the words that appear in the original training set. Of course, we want to narrow our scope a little bit so we will only look at the `5000` most frequently appearing words in each data set, or in other words, the vocabulary generated by each data set.\n",
    "\n",
    "Before doing that, however, let's take a look at some of the incorrectly classified reviews in the new data set.\n",
    "\n",
    "To start, we will deploy the original XGBoost model. We will then use the deployed model to infer the sentiment of some of the new reviews. This will also serve as a nice excuse to deploy our model so that we can mimic a real life scenario where we have a model that has been deployed and is being used in production.\n",
    "\n",
    "**TODO:** Deploy the XGBoost model."
   ]
  },
  {
   "cell_type": "code",
   "execution_count": null,
   "metadata": {},
   "outputs": [],
   "source": [
    "# TODO: Deploy the model that was created earlier. Recall that the object name is 'xgb'.\n",
    "xgb_predictor = xgb.deploy(initial_instance_count = 1, instance_type = 'ml.m4.xlarge')"
   ]
  },
  {
   "cell_type": "markdown",
   "metadata": {},
   "source": [
    "### Diagnose the problem\n",
    "\n",
    "Now that we have our deployed \"production\" model, we can send some of our new data to it and filter out some of the incorrectly classified reviews."
   ]
  },
  {
   "cell_type": "code",
   "execution_count": null,
   "metadata": {},
   "outputs": [],
   "source": [
    "from sagemaker.predictor import csv_serializer\n",
    "\n",
    "# We need to tell the endpoint what format the data we are sending is in so that SageMaker can perform the serialization.\n",
    "xgb_predictor.content_type = 'text/csv'\n",
    "xgb_predictor.serializer = csv_serializer"
   ]
  },
  {
   "cell_type": "markdown",
   "metadata": {},
   "source": [
    "It will be useful to look at a few different examples of incorrectly classified reviews so we will start by creating a *generator* which we will use to iterate through some of the new reviews and find ones that are incorrect.\n",
    "\n",
    "**NOTE:** Understanding what Python generators are isn't really required for this module. The reason we use them here is so that we don't have to iterate through all of the new reviews, searching for incorrectly classified samples."
   ]
  },
  {
   "cell_type": "code",
   "execution_count": 52,
   "metadata": {},
   "outputs": [],
   "source": [
    "def get_sample(in_X, in_XV, in_Y):\n",
    "    for idx, smp in enumerate(in_X):\n",
    "        res = round(float(xgb_predictor.predict(in_XV[idx])))\n",
    "        if res != in_Y[idx]:\n",
    "            yield smp, in_Y[idx]"
   ]
  },
  {
   "cell_type": "code",
   "execution_count": 53,
   "metadata": {},
   "outputs": [],
   "source": [
    "gn = get_sample(new_X, new_XV, new_Y)"
   ]
  },
  {
   "cell_type": "markdown",
   "metadata": {},
   "source": [
    "At this point, `gn` is the *generator* which generates samples from the new data set which are not classified correctly. To get the *next* sample we simply call the `next` method on our generator."
   ]
  },
  {
   "cell_type": "code",
   "execution_count": null,
   "metadata": {},
   "outputs": [],
   "source": [
    "print(next(gn))"
   ]
  },
  {
   "cell_type": "markdown",
   "metadata": {},
   "source": [
    "After looking at a few examples, maybe we decide to look at the most frequently appearing `5000` words in each data set, the original training data set and the new data set. The reason for looking at this might be that we expect the frequency of use of different words to have changed, maybe there is some new slang that has been introduced or some other artifact of popular culture that has changed the way that people write movie reviews.\n",
    "\n",
    "To do this, we start by fitting a `CountVectorizer` to the new data."
   ]
  },
  {
   "cell_type": "code",
   "execution_count": 55,
   "metadata": {},
   "outputs": [
    {
     "name": "stderr",
     "output_type": "stream",
     "text": [
      "/home/ec2-user/anaconda3/envs/pytorch_p36/lib/python3.6/site-packages/sklearn/feature_extraction/text.py:507: UserWarning: The parameter 'token_pattern' will not be used since 'tokenizer' is not None'\n",
      "  warnings.warn(\"The parameter 'token_pattern' will not be used\"\n"
     ]
    },
    {
     "data": {
      "text/plain": [
       "CountVectorizer(analyzer='word', binary=False, decode_error='strict',\n",
       "                dtype=<class 'numpy.int64'>, encoding='utf-8', input='content',\n",
       "                lowercase=True, max_df=1.0, max_features=5000, min_df=1,\n",
       "                ngram_range=(1, 1),\n",
       "                preprocessor=<function <lambda> at 0x7fe216507598>,\n",
       "                stop_words=None, strip_accents=None,\n",
       "                token_pattern='(?u)\\\\b\\\\w\\\\w+\\\\b',\n",
       "                tokenizer=<function <lambda> at 0x7fe216507730>,\n",
       "                vocabulary=None)"
      ]
     },
     "execution_count": 55,
     "metadata": {},
     "output_type": "execute_result"
    }
   ],
   "source": [
    "new_vectorizer = CountVectorizer(max_features=5000,\n",
    "                preprocessor=lambda x: x, tokenizer=lambda x: x)\n",
    "new_vectorizer.fit(new_X)"
   ]
  },
  {
   "cell_type": "markdown",
   "metadata": {},
   "source": [
    "Now that we have this new `CountVectorizor` object, we can check to see if the corresponding vocabulary has changed between the two data sets."
   ]
  },
  {
   "cell_type": "code",
   "execution_count": 56,
   "metadata": {},
   "outputs": [],
   "source": [
    "original_vocabulary = set(vocabulary.keys())\n",
    "new_vocabulary = set(new_vectorizer.vocabulary_.keys())"
   ]
  },
  {
   "cell_type": "markdown",
   "metadata": {},
   "source": [
    "We can look at the words that were in the original vocabulary but not in the new vocabulary."
   ]
  },
  {
   "cell_type": "code",
   "execution_count": 57,
   "metadata": {},
   "outputs": [
    {
     "name": "stdout",
     "output_type": "stream",
     "text": [
      "{'*', '\\x80', 'Ü', '\"', '’', '‘', '…', '\\x8e', 'É', 'È', 'O', 'ú', 'á', '(', 'J', '~', \"'\", 'Õ', '§', '\\uf0b7', 'ó', 'K', '/', '£', '\\x84', '$', '\\x95', 'ö', 'E', 'H', 'F', 'q', 'C', '!', '–', '^', '+', '”', 'Y', 'N', '°', '³', 'X', 'Z', 'ä', 'ê', 'î', '{', '\\x9e', '[', '₤', 'º', 'A', '\\x96', 'ü', '¿', 'Ã', '¨', '\\\\', '¢', '®', '-', 'G', 'ù', 'i', '½', 'í', '?', '¡', '\\x97', '\\x08', 'B', '&', '\\x91', ',', 'I', 'D', '_', '»', 'à', 'M', '\\xad', 'ï', '\\x8d', '}', '@', '<', ']', 'm', '`', 'ç', 'ë', 'a', 'ô', 'd', 's', 'R', 'é', 'L', '=', '\\x9a', '\\x10', 'ý', '%', 'Á', '´', 'W', 'À', 'ø', '\\x85', 'V', '\\t', 'ò', 'o', 'y', 'Ê', '“', 'T', 'ã', ')', ' ', '«', 'ō', 'U', 'Ä', '\\xa0', 'æ', 'ð', 'ì', 'Q', '¦', '>', 'S', 'û', 'ñ', ';', 't', 'è', ':', '.', '#', '¾', '·', 'ß', '¤', '|', 'å', 'Ø', 'â', 'P', 'Å'}\n"
     ]
    }
   ],
   "source": [
    "print(original_vocabulary - new_vocabulary)"
   ]
  },
  {
   "cell_type": "markdown",
   "metadata": {},
   "source": [
    "And similarly, we can look at the words that are in the new vocabulary but which were not in the original vocabulary."
   ]
  },
  {
   "cell_type": "code",
   "execution_count": 58,
   "metadata": {},
   "outputs": [
    {
     "name": "stdout",
     "output_type": "stream",
     "text": [
      "{'court', 'cannib', 'felt', 'enabl', 'underli', 'stereotyp', 'rome', 'shortli', 'quiet', 'silent', 'substanti', 'tcm', 'anybodi', 'primarili', 'bennett', 'ledger', 'cameroonian', 'antagonist', 'inadvert', 'dream', 'dagger', 'endear', 'premier', 'gari', 'preposter', 'eat', 'militari', 'instal', 'spike', 'sonia', 'afterthought', 'concern', 'serious', 'blame', 'outfit', 'teach', 'eyr', 'red', 'lord', 'fest', 'megan', 'sondra', 'rank', 'sucker', 'sick', 'cuba', 'hector', 'bitten', 'grew', 'oil', 'insight', 'samantha', 'lean', 'aiello', 'forbidden', 'mozart', 'la', 'broadcast', 'bear', 'duet', 'dialog', 'bride', 'vision', 'inject', 'jim', 'blais', 'shield', 'smile', 'paraguay', 'road', 'regardless', 'main', 'kingsley', 'rack', 'civil', 'roosevelt', 'deep', 'ha', 'steel', 'aranoa', 'africa', 'yell', 'cinema', 'tramel', 'shade', 'might', 'compass', 'coaster', 'overact', 'brave', 'desir', 'bush', 'sleepwalk', 'profound', 'rais', 'driver', 'phone', 'guilti', 'gunga', 'wors', 'insid', 'cross', 'light', 'rate', 'disguis', 'dismal', 'zelah', 'wind', 'em', 'homag', 'stalk', 'sentinel', 'thief', 'pg', 'linger', 'disco', 'rain', 'local', 'transport', 'ask', 'angela', 'sergeant', 'translat', '22', 'autobiographi', 'crater', 'practic', 'foot', 'chess', 'furi', 'cover', 'friday', 'hear', 'interest', 'inform', 'satir', 'zombi', 'awesom', 'russel', 'told', 'submarin', 'kept', 'transpir', '1983', 'pirat', 'love', 'card', 'gentleman', 'reportedli', 'accomplish', 'lampoon', 'imposs', 'fianc', '00', 'pacif', 'group', 'vanilla', 'declar', 'curti', 'miser', 'scoop', 'satan', 'accuraci', 'chile', 'transmit', 'sympathi', 'count', 'josh', 'capt', 'door', 'lanchest', 'bye', 'amateurish', 'greedi', 'nazi', 'adolesc', 'cat', 'extrem', 'nice', 'ayer', 'bad', 'vulner', 'disrupt', 'innat', 'sing', 'duh', 'abil', 'dislik', 'hot', 'christi', 'contain', 'oz', 'town', 'thoma', 'ethan', 'snappi', '1999', 'venom', 'gritti', 'cypher', 'gain', 'betray', 'actor', 'sweep', 'hay', 'cracker', 'divorc', 'loath', 'fantast', 'pan', 'orient', 'program', 'modern', 'terror', 'triangl', 'iowa', 'hop', 'serb', 'cosbi', 'harri', 'calvin', 'fonda', 'pin', 'li', 'brigadoon', 'posh', 'greek', 'thurman', 'british', 'glamor', 'lap', 'statur', 'screenwrit', 'mail', 'etc', 'accus', 'sequel', 'tune', 'harm', 'knock', 'eleven', 'crush', 'goldberg', 'foul', 'photo', 'anyway', 'austen', 'exist', 'spiritu', 'heard', 'fault', 'fatal', 'alot', 'lindsey', 'goer', 'moreov', 'familiar', 'period', 'capabl', 'particip', '1973', 'level', 'counter', 'creator', 'einstein', 'outlook', 'daisi', 'thriller', 'role', 'embarrass', 'hold', 'forev', 'astonish', 'play', 'cindi', 'consum', 'wast', 'stephani', 'pleasantli', 'halfway', 'amo', 'reassur', 'produc', 'center', 'tube', 'abound', 'pulp', 'unravel', 'financi', 'atmospher', 'havoc', 'research', 'flash', 'bigger', 'boult', 'trait', 'ten', 'jami', 'typic', 'live', 'particularli', 'intend', 'ed', 'mediocr', 'catch', 'complex', 'ear', 'smaller', 'templ', 'hip', 'good', 'stardust', 'desert', 'grim', 'awhil', 'steven', 'immens', 'drivel', 'randolph', 'anderson', 'command', 'averag', 'substanc', 'hapless', 'principl', 'rule', 'ambiti', 'older', 'trash', 'spare', 'censorship', 'soprano', 'sat', 'haunt', 'jaw', 'tiger', 'sensibl', 'barbara', 'highsmith', 'crazi', 'molli', 'york', 'orca', 'summari', 'brett', 'fiction', 'kite', 'kneel', 'brick', 'mistaken', 'mexico', 'mate', '2007', 'accept', 'paus', 'dimension', '1971', 'supposedli', 'pretti', 'alcohol', 'jedi', 'blind', 'basebal', 'web', 'mask', 'explod', 'shower', 'sake', 'realiz', 'barrymor', 'hang', 'pamela', 'debut', 'improvis', 'finish', 'heap', 'brook', 'buff', 'flynn', 'ah', 'iranian', 'quarrel', 'banal', 'enorm', 'beard', 'travesti', 'wig', 'corni', 'take', 'shed', 'stellar', 'costum', 'undoubtedli', 'matt', 'togeth', 'doubt', 'invent', 'sooner', 'tissu', 'everyon', 'griffith', 'appropri', 'spread', 'colleg', 'matern', 'fate', 'inexplic', 'amazingli', 'comput', 'tim', 'text', 'nick', 'dive', 'flow', 'statu', 'afternoon', 'fagin', 'petiot', 'pepper', 'aim', 'tommi', 'lauri', 'reluct', 'horrif', 'anonym', 'surreal', 'worth', 'disbelief', 'mystic', 'utter', 'villa', 'day', 'tire', 'casual', 'stupid', 'lordi', 'chair', 'restraint', 'surpris', 'ewok', 'barrel', 'credit', 'clash', 'casablanca', 'oppress', 'wrong', 'pictur', 'mang', 'util', 'stock', 'action', 'fresh', 'dancer', 'vietnam', 'kudo', 'alter', 'babe', 'persuad', 'immers', 'dildo', 'relief', 'fraud', 'import', 'cute', 'scenario', 'attract', 'way', 'younger', 'sicken', 'nerv', 'graduat', 'sour', 'savag', 'engin', 'cook', 'end', 'gave', 'grant', 'laila', 'parad', 'pun', 'lazi', 'throwaway', 'baker', 'jone', 'seduct', '1977', 'someth', 'flimsi', 'delus', 'whale', 'bbc', 'hark', 'melissa', 'episod', 'ken', 'jason', 'shoe', 'marilyn', 'add', 'halperin', 'dodger', 'catalogu', 'sidney', 'manson', 'hoover', 'strongest', 'challeng', 'kinski', 'rhythm', 'virtual', 'seventi', 'realis', 'offens', 'keaton', 'tiresom', 'head', 'lohman', 'profan', 'mostel', 'wore', 'prey', 'circl', 'unscath', 'argu', 'crime', 'werewolf', 'compet', 'creativ', 'lust', 'landlord', 'thank', 'karloff', 'lake', 'sister', 'triumph', 'degre', 'closer', 'order', 'rememb', 'alba', 'passion', 'kung', 'gather', 'watch', 'domest', 'next', 'planet', 'mari', 'redeem', 'project', 'soap', 'albeit', 'basi', 'outrag', 'none', 'makeup', 'per', 'nine', 'demil', 'paolo', 'arc', 'forth', 'fulli', 'numer', 'transplant', 'law', 'knew', 'read', 'real', 'sir', 'lie', 'sound', 'revolut', 'assault', 'raft', 'contrast', 'ruthless', 'addict', 'addit', 'dilapid', 'ki', 'loach', 'gene', 'romero', 'provid', '1935', 'batman', 'layer', 'baffl', '1972', 'bag', 'blake', 'fifti', 'pyewacket', 'widmark', 'laughter', 'qualiti', 'abc', 'initi', 'skywalk', 'clever', 'kay', 'anakin', 'uncanni', 'femm', 'newbern', 'celluloid', 'california', 'mention', 'ensu', 'england', 'melt', 'suav', 'camp', 'stage', 'distant', 'angelo', 'mouth', 'niec', 'balanc', 'island', 'situat', 'worthi', 'increas', 'romant', 'largest', 'corner', 'loop', 'librari', 'lui', 'direct', 'sander', 'top', 'crow', 'grammar', 'brazilian', 'purchas', 'astair', 'dare', 'gratuit', 'farrah', 'arthur', 'overlong', 'unnecessarili', 'frighten', 'fog', 'car', 'sudden', 'elvira', 'campi', 'sixti', 'listless', 'rochest', 'palestinian', 'centuri', 'reincarn', 'dunaway', 'geniu', 'sloppi', 'almighti', 'seem', 'handl', 'incid', 'suggest', 'beverli', 'tempt', 'ritual', 'duval', 'sheer', 'hooper', 'mansion', 'bubbl', 'discoveri', 'insert', 'sh', 'hidden', 'respons', 'stanwyck', '13', 'random', 'spectacular', 'summer', 'juhi', 'conan', 'bombast', 'whoopi', 'attend', 'spite', 'biggest', 'arrang', 'sid', 'releas', 'laugh', 'cream', 'muddl', 'melodramat', 'download', 'london', 'yarn', 'krajina', 'howl', 'greed', 'miniseri', 'either', 'heckerl', 'cher', 'sympathis', 'trauma', 'seller', 'seventeen', 'sincer', 'tap', 'parti', 'tender', 'signal', 'doll', 'put', 'battlefield', 'premis', 'dimaggio', 'rio', 'prefer', 'axel', 'anim', 'broadway', 'cocktail', 'guitar', 'somewher', 'biographi', 'pro', 'intoler', 'thug', 'immort', 'chang', 'craig', 'sarandon', 'callahan', 'exchang', 'emperor', 'rat', 'doodlebop', 'guess', 'pointless', 'tongu', 'potter', 'stardom', 'excel', 'newspap', 'hawn', 'trek', 'staff', 'stair', 'benjamin', 'homosexu', 'hollywood', 'classic', 'anti', 'lad', 'zoom', 'chees', 'freddi', 'bird', 'priest', 'sum', 'gore', 'pullman', 'rig', 'yard', 'imdb', 'pretend', 'satisfact', 'coloni', 'upon', 'battlestar', 'coupl', 'puroo', 'promot', 'forgiv', 'howard', 'certainli', 'commit', 's2rd', 'landmark', 'fragil', 'sweat', 'tens', 'onlin', 'affair', 'locat', 'sinist', 'make', 'ritter', 'charg', 'lester', 'fame', 'pain', 'reput', 'pen', 'luck', 'rehash', 'eddi', 'wayn', 'gonna', 'prais', 'alik', 'toy', 'unusu', 'kitti', 'imagin', 'review', 'sue', 'snake', 'magnific', 'croc', 'construct', 'less', 'tape', 'paranoid', 'focus', 'charact', 'jackson', 'warner', 'imageri', 'area', 'torn', 'apprentic', 'behavior', 'burt', 'respond', 'ignor', 'rice', 'troop', 'jordan', 'edmond', 'laurel', 'secomb', 'tendenc', 'wender', 'context', 'tantal', 'pitch', 'mighti', 'maker', 'otto', 'policeman', 'piano', 'budget', 'butt', 'abraham', 'wife', 'wow', 'tomei', 'cave', 'hat', 'narrat', 'liber', 'sneak', 'sheriff', 'height', 'holi', 'deadli', 'serial', 'cop', 'synopsi', 'wreck', 'size', 'roll', 'traumat', 'disagre', 'nomine', 'dictat', 'liter', 'demonicu', 'stare', 'tradit', 'spi', 'burst', 'come', 'opt', 'threw', 'near', 'alreadi', 'hope', 'keira', 'delud', 'band', 'jungl', 'prior', 'blade', 'meant', 'polish', 'wiz', 'homeless', 'enhanc', 'restroom', 'lambert', 'dad', 'trade', 'impot', 'morri', 'bug', 'cerebr', 'iron', 'emphas', 'window', 'current', 'ralph', 'croatia', 'vote', 'cusak', 'defens', 'cameron', 'silli', 'settl', 'dwarf', 'angi', 'grass', 'glover', 'likeabl', 'year', 'cartoon', 'repli', 'gate', 'romi', 'collabor', 'issu', 'disc', 'bought', 'mitchel', 'subplot', 'ass', 'coincid', 'wwf', 'clue', 'roy', 'anticip', 'decent', 'former', 'raid', 'deliveri', 'fabl', 'easi', 'dealt', 'jude', 'diari', 'explicit', 'villag', 'websit', 'simplist', 'chip', 'sensat', 'texa', 'believ', 'format', 'iran', 'torment', 'stunt', 'lou', 'charm', 'jeopardi', 'reviv', 'total', 'al', 'step', 'splatter', 'genuin', 'crappi', 'mechan', 'packag', 'master', 'wit', 'slapstick', 'timothi', 'life', 'exposit', 'resum', 'advantag', 'vamp', 'sailor', 'press', 'franci', 'woe', 'bunch', 'differ', 'dull', 'save', 'revolv', 'obvious', '1959', 'jack', 'slowli', 'phillip', '1960', 'field', 'shi', 'sibl', 'twilight', 'redund', 'coffe', 'suspens', 'bother', 'confid', 'horn', 'enthusiasm', 'aristocrat', 'eugen', 'flashi', 'reach', 'entir', 'remak', 'factor', 'literatur', 'engag', 'chao', 'hickcock', 'demon', 'borrow', 'globe', 'electr', 'lift', 'measur', 'rubbish', 'mankind', 'introduct', 'quot', 'glad', 'earli', 'snob', 'forc', 'pad', 'elderli', 'disrespect', 'restor', 'housew', 'loss', 'dynamit', 'captain', 'cohen', 'hoyo', 'harron', 'slimi', 'sadli', 'jew', 'path', 'menac', 'partit', 'mostli', 'monster', 'definit', 'boat', 'barri', 'eeri', 'snatch', 'drag', 'psychot', 'badli', 'gothic', 'milli', 'stale', 'instead', 'cliff', 'lifestyl', 'move', 'paxton', 'fair', 'met', 'prone', 'loser', 'stab', 'wendigo', 'tie', 'anger', 'never', 'mol', 'english', 'child', 'wizard', 'highest', 'raymond', 'lowest', 'intact', 'favour', 'boyl', 'german', 'cantillana', 'conclud', 'gamera', 'prove', 'eric', 'bull', 'outing', 'item', 'mish', 'restrict', 'paint', 'whoever', 'pacino', 'singer', 'unfortun', 'rare', 'gross', 'movement', 'amaz', 'parallel', 'fridg', 'eighti', 'kitschi', 'failur', 'scene', 'earlier', 'collora', 'calm', 'lar', 'facial', 'uninhibit', 'flick', 'health', 'c3po', 'deliv', 'psychopath', 'fade', 'egg', 'allianc', 'pari', 'razor', 'rail', 'flesh', 'esteem', '80', 'weather', 'versu', 'hash', 'scienc', 'birth', 'filth', 'male', 'stark', 'snobbish', 'invit', 'realist', 'jet', 'individu', 'wayan', 'loud', 'bollywood', 'swamp', 'forti', 'pratfal', 'jake', 'deliber', 'giant', 'ethnic', 'absurd', 'done', 'method', 'nake', 'lure', 'math', 'riff', 'juvenil', 'tatooin', 'long', 'reconcil', 'screenplay', 'part', 'ridden', 'check', 'jacqu', 'pal', 'bit', 'consider', 'drown', 'tini', 'sweet', 'came', 'actress', 'lunat', 'deni', 'describ', 'mgm', 'unapp', 'carrera', 'poignant', 'visibl', 'marisa', 'unsettl', 'pueril', 'board', 'tom', 'tilt', 'clockwork', 'earth', 'bullet', 'psychologist', 'march', 'ago', 'decameron', 'discern', 'reminisc', 'modesti', 'rest', 'grasp', 'ape', 'tad', 'deprav', 'capac', 'jackass', 'outcom', 'laura', 'crap', 'stirba', 'ship', 'demonstr', 'straightforward', 'spot', 'bob', 'automat', 'kane', 'achiev', 'person', 'gage', 'vulgar', 'shameless', 'cynic', 'paig', 'materi', '1939', 'racist', 'solo', 'proof', 'trial', 'drift', 'tame', 'irish', 'jesu', 'better', 'hawk', 'excess', 'helmet', 'magick', 'thelma', 'gouald', 'cri', 'guest', 'block', 'tone', 'social', 'shoot', 'assembl', 'offbeat', 'davi', 'lot', 'richard', 'nativ', 'taylor', 'hain', 'credibl', 'trier', 'proceed', 'galactica', 'singl', 'cheap', 'santa', 'half', 'masterson', 'clich', 'hospit', 'droid', 'hamlet', 'kenni', 'sleep', 'finest', 'briefli', 'ann', 'remaind', 'laputa', 'holiday', 'dire', 'skew', 'honestli', 'speed', 'puro', 'storytel', 'milhalovitch', 'henderson', 'seven', 'tick', 'neck', 'suffic', 'rooney', 'relationship', 'obnoxi', 'free', 'bruce', 'kent', 'studio', 'far', 'winter', 'starter', 'despair', 'castro', 'extens', 'yet', 'whose', 'truth', 'jung', 'arm', 'lemmon', 'song', 'expect', 'bar', 'claustrophob', 'clarenc', 'festiv', 'lloyd', 'greater', 'geek', 'garbo', 'oti', 'announc', 'epic', 'coonskin', 'presid', 'mere', 'intercontinent', 'bonu', 'hate', 'passag', 'persona', 'portrait', '14', 'choi', 'fellow', 'trivia', 'sharp', 'steam', 'raven', 'want', 'sunset', 'tulsa', 'mason', 'lethal', 'dozen', 'plate', 'manag', 'major', 'kaminski', 'laboratori', 'jolt', 'open', '35', 'weigh', 'faint', 'titl', 'cow', 'cult', 'slot', 'vignett', 'unsatisfi', 'score', 'leap', 'question', 'sentiment', 'athlet', 'perfect', 'verdict', 'speak', 'terribl', 'number', 'miracul', 'exercis', 'smear', 'result', 'flop', 'anxiou', 'protect', 'unwatch', 'par', 'bond', 'holocaust', 'convolut', 'otherwis', 'observ', 'mourn', 'stanley', 'roof', 'emraan', 'writer', 'doyl', 'countri', 'kansa', 'spent', 'laughabl', 'exploit', 'slaughter', 'sourc', 'hatch', 'undeni', 'grab', 'off', 'channel', 'french', 'scarecrow', 'erupt', 'say', 'imo', 'narr', 'ham', 'allur', 'chanc', 'kenobi', 'flawless', 'blatant', 'tower', 'memor', 'jud', 'amput', 'advertis', 'franc', 'kazan', 'biker', 'travel', 'trip', 'propaganda', 'steadili', 'rush', 'wherea', 'taken', 'absent', 'clive', 'ghost', 'whack', 'deplor', 'shock', 'huh', 'conspiraci', 'feel', 'propos', 'string', 'itch', 'led', 'horrifi', 'special', 'promo', 'posit', 'seri', 'departur', 'late', 'radiat', 'entertain', 'spend', 'kid', 'divers', 'decid', 'marriag', 'blow', 'bucktown', 'ii', 'surprisingli', 'louis', 'mean', 'littl', 'sunshin', 'constant', 'dracula', 'alan', 'allow', 'remind', 'miscast', '11', 'enjoy', 'ginger', 'violent', 'asian', 'choreographi', 'risqu', 'short', '1940', 'handicap', 'aimless', 'buzz', 'moron', 'sixteen', 'blank', 'adam', 'bottl', 'slow', 'away', 'gag', 'gun', 'candl', 'painter', 'adapt', 'diaz', 'twelv', 'activ', 'four', 'ton', 'dentist', 'lewi', '1958', 'tremend', 'audio', '1932', 'orwel', 'gentl', 'unsuspect', 'protest', 'straw', 'fx', 'lend', 'lesser', 'seemingli', 'junior', 'congratul', 'prevent', 'danza', 'minist', 'behold', 'ray', 'gangster', 'spider', 'talent', 'upset', 'counterpart', 'com', 'gear', 'dollar', 'tight', 'centr', 'gray', 'capit', 'dragonfli', 'depalma', 'solar', 'cup', 'point', 'perpetu', 'dom', 'bombardi', 'comic', 'nose', 'bare', 'first', 'except', 'touch', 'friend', 'el', 'dreami', 'raw', 'belong', 'god', 'alarm', 'show', '20th', 'repuls', 'catchi', 'ambit', 'forward', 'see', 'constantli', 'merril', 'manoj', 'look', 'previous', 'impress', 'heather', 'widescreen', 'third', 'amid', 'percept', 'domino', 'saw', 'alison', 'stepmoth', 'predecessor', 'merit', 'swath', 'rabbit', 'respect', 'austrian', 'precis', 'energet', 'youtub', '1987', 'jessi', 'prison', 'essenc', 'unintent', 'page', 'cool', 'vh', 'matthau', 's2t', 'whenev', 'shine', 'clearli', 'astut', 'compar', 'messag', 'subtleti', 'shape', 'edward', '16', 'bland', 'plausibl', 'porno', 'ninja', 'similarli', 'caricatur', 'variou', 'fat', 'recreat', 'nurs', 'loomi', 'sentenc', '20', 'tina', '007', 'around', 'cinderella', 'illog', 'pursuit', 'henri', 'us', 'lindi', 'whole', 'scott', 'slick', 'label', 'oh', 'tent', 'explain', 'loretta', 'loi', 'doctor', 'recaptur', 'ian', 'australian', 'hauser', 'recov', 'rumor', 'cell', 'irrit', 'nomin', 'spoil', 'univers', '30', 'wed', 'palac', 'tsui', 'watson', 'creation', 'sort', 'grip', 'viru', 'pristin', 'drew', 'flew', 'twice', 'seriou', 'rita', 'cusack', 'horribl', 'affect', 'knightley', 'wang', 'heal', 'complain', 'babi', 'goal', 'hatton', 'realli', 'companion', 'mine', 'power', 'miyazaki', 'judg', 'busey', 'black', 'brand', 'racket', 'compos', 'appeal', 'waitress', 'brotherhood', 'tail', '1953', 'rapist', 'silver', 'onto', 'mild', 'grate', 'polar', 'cardin', 'moodi', 'harsh', 'comedi', 'separ', 'nolt', 'border', 'looni', 'pam', 'interv', 'delv', 'immin', 'esther', 'varieti', 'pleasur', 'sinc', 'coat', 'leon', 'sky', 'allot', 'depart', 'chewbacca', 'crook', 'actual', 'terrorist', 'cheadl', 'thing', 'armi', 'alic', 'scale', 'capot', 'bin', 'devic', 'gift', 'morn', 'lynch', 'weav', 'jewel', 'explos', 'ride', 'chose', 'sold', 'poet', 'chilean', 'ellen', 'experienc', 'dim', 'akin', 'ok', 'slash', 'rebellion', 'monkey', 'keel', 'meanwhil', 'hearst', 'recognit', 'chapter', 'attribut', 'lindsay', 'across', 'account', 'phrase', 'deliver', 'cant', 'incomprehens', 'min', 'class', 'hare', 'hike', 'mountain', 'daughter', 'aspir', 'gracia', 'moor', 'intrigu', 'luckili', 'injuri', 'kristofferson', 'femal', 'stand', 'duel', 'innov', 'dalton', 'crude', 'thumb', 'style', 'cruz', 'breast', 'perpetr', 'hunter', 'brillianc', 'magic', 'cd', 'cradl', 'glimps', 'great', 'fake', 'cloak', 'begin', 'danni', 'liotta', 'terri', 'rough', 'coach', 'work', 'exampl', 'wtf', 'hilari', 'kegg', 'kind', 'springer', 'idiot', 'hackney', 'intens', 'knight', 'burden', 'yearn', 'novak', 'trejo', 'consid', 'besid', 'lace', 'logan', 'limit', 'clip', 'similar', 'matur', 'sargent', 'eve', 'vinni', 'cut', 'lurk', 'break', 'killer', 'hanson', 'argument', 'rage', 'beast', 'fighter', 'valu', 'cabl', 'inevit', 'pack', 'trademark', 'reaction', 'sorrow', 'delici', 'cancel', 'playwright', 'bound', 'vain', 'win', 'dramat', 'shea', 'flashback', 'solv', 'dirti', 'outer', 'dynam', 'wood', 'sutherland', 'faith', 'tediou', 'beowulf', 'onstag', 'unscrupul', 'wallac', 'built', 'dicken', 'reev', 'sole', 'psycholog', 'gardner', 'serbian', 'estat', 'invest', 'zacharia', 'shortcom', 'stumbl', 'unless', 'stargat', 'mother', 'unawar', 'goth', 'farmer', 'heart', 'welcom', 'minimalist', 'experi', 'yelnat', 'underr', 'kinda', 'atroc', 'cheat', 'opposit', 'sam', 'market', 'startl', 'motif', 'midst', 'upper', 'din', 'interlud', 'arrest', 'fear', 'proper', 'bend', 'standard', 'hous', 'nuditi', 'insomnia', 'charlott', 'hardcor', 'duti', 'roar', 'icon', 'extend', 'histor', 'seduc', 'stone', 'trite', 'clear', 'polanski', 'survivor', 'throughout', 'discov', 'testament', 'boy', 'hideou', 'steve', 'choos', 'runner', 'appoint', 'confess', 'instinct', 'owner', 'oddli', 'japan', 'soft', 'superbl', 'tend', 'licens', 'wet', 'amus', 'luca', 'contempl', 'funer', 'uninspir', 'hill', 'money', 'bett', 'repetit', 'interpret', 'sitcom', 'sci', 'gush', 'dread', 'ooz', 'plan', '150', 'farm', 'omen', 'thrown', 'multipl', 'mcdonald', 'asano', 'lead', 'frankli', 'firstli', 'havana', 'stake', 'theater', 'enter', 'shocker', 'version', 'alli', 'thick', 'st', 'mud', 'proport', 'boot', 'histori', 'foreign', 'treatment', 'halloween', 'equat', 'leav', 'filmmak', 'vanessa', 'jacki', 'doom', 'jealou', 'powel', 'disappear', 'rose', 'johnson', 'whatsoev', 'mini', 'needless', 'boogeyman', 'poison', 'cost', 'slight', 'help', 'usa', 'rudd', 'will', 'tortur', 'paid', 'rub', 'racism', 'shook', 'administr', '24', 'father', 'mainli', 'beyond', 'brush', 'macarthur', 'govern', 'empir', 'unconvinc', 'kurt', 'fact', 'vehicl', 'glow', 'torranc', 'breach', 'southern', 'pierc', 'britain', 'andrew', 'refer', 'instanc', 'repres', 'notch', 'clint', 'publish', 'grown', 'lack', 'exquisit', 'anoth', 'smoke', 'blaxploit', 'rap', 'dirt', 'nation', 'loui', 'own', 'slut', '1980', 'underworld', 'bodi', 'motorcycl', 'convers', 'daylight', 'busi', 'burgess', 'buy', 'comment', 'stori', 'woefulli', 'pathet', 'lang', 'impuls', 'assum', 'shot', 'anil', 'leagu', 'laid', 'rudolf', 'anyth', 'soccer', 'coe', 'honest', 'intellectu', 'childish', 'america', 'sidekick', 'represent', 'cardboard', '700', 'highli', 'influenc', 'evil', 'leia', 'journalist', 'adrenalin', 'fri', 'doppelgang', 'swedish', 'conrad', 'traci', 'solid', 'bu', 'threaten', 'toe', 'matthew', 'stomach', 'risk', 'jewish', 'princ', 'uncov', 'smoothli', 'reveng', 'aunt', 'directli', 'mclaglen', 'mob', 'requir', 'citizen', 'reflect', 'conclus', 'beg', 'relentless', 'grandeur', 'rescu', 'necessari', 'grow', 'parent', 'tour', 'men', 'carnal', 'mishap', 'patent', 'nude', 'pale', 'altogeth', 'knack', 'branagh', 'occasion', 'accid', 'realiti', 'disgruntl', 'whatev', 'urban', 'mesh', 'worn', 'form', 'denis', 'dumbest', 'seek', 'candi', 'middl', 'digit', 'magnu', 'cate', 'fisher', 'student', 'hole', 'sail', 'hepburn', 'trench', 'scriptwrit', 'gang', 'smooth', 'strength', 'approv', 'tighter', 'showcas', 'often', 'soul', 'cheer', 'appl', 'horror', 'heist', 'horrend', 'section', 'subsequ', 'freez', 'answer', 'tolkien', 'nearli', 'homemad', 'prologu', 'acclaim', 'deer', 'soldier', 'acknowledg', 'assassin', 'kirsten', 'irrelev', '99', 'player', 'weight', 'mistak', 'girl', 'fontain', 'cring', 'inner', 'net', 'weaker', 'wash', 'user', 'reward', 'liberti', 'angel', 'sunday', 'call', 'treasur', 'incorpor', 'jame', 'hack', 'offer', 'occupi', 'season', 'pressur', 'declin', 'lip', 'metal', 'vari', 'suspect', 'dan', 'previou', 'detract', 'wealthi', 'pleas', 'task', 'start', 'statement', 'plain', 'boredom', 'pazu', 'truck', 'goofi', 'weekend', 'simon', 'join', 'dinosaur', 'resort', 'reduc', 'script', 'castl', 'unbeliev', 'rag', 'alright', 'julia', 'goddess', 'drone', 'chewi', 'tristan', 'countless', 'rachel', 'superhero', 'hank', 'chemistri', 'like', 'divid', 'youngest', 'exec', 'braveheart', 'christensen', 'cruel', 'teen', 'decidedli', 'von', 'drunk', 'bandit', 'jeffrey', 'cheesi', 'carn', 'eva', 'wong', 'secret', 'headlin', 'weapon', 'poor', 'repress', 'jeff', 'sacrif', 'succe', 'memori', 'brood', 'carr', 'made', 'footbal', 'govinda', 'categori', 'spain', 'pair', 'jazz', 'catherin', 'naiv', 'dean', 'forget', 'choru', 'lansburi', 'whistl', 'trump', 'dine', 'andi', 'cast', 'synchron', 'honour', 'realism', 'sore', 'pant', 'hype', 'dime', 'uncomfort', 'inferior', 'rifl', 'screwbal', 'herg', 'forrest', 'happi', 'blood', 'carfac', 'rebecca', 'ford', 'patricia', 'blockbust', 'organ', 'pattern', 'sensual', 'reliv', 'necess', '70', 'jerri', 'origin', 'fi', 'chuck', 'aw', 'regret', 'syndrom', 'report', 'romp', 'orphan', 'drama', 'suddenli', 'highlight', 'keith', 'colin', 'sherlock', 'spirit', 'repeatedli', 'boss', 'associ', 'alisha', 'fanci', 'partner', 'descent', 'buddi', 'meaningless', 'joseph', 'kali', '3000', 'prosecut', 'moan', 'mission', 'repeat', 'korean', 'spin', 'emma', 'intent', 'ice', 'someon', 'fall', 'restaur', 'squar', 'spade', 'prime', 'nut', 'bruno', 'bean', 'clyde', 'dismiss', 'oscar', 'attempt', 'rapidli', 'miranda', 'hint', 'creepi', 'lay', 'author', 'colour', 'elizabeth', 'uncl', 'del', 'noriko', 'gilbert', 'saga', 'surfac', 'citi', 'tomato', 'duff', 'medium', 'may', 'stuck', 'crowd', 'eye', 'robbin', 'redneck', 'float', 'carpent', 'miracl', 'enthral', 'content', 'backdrop', 'rival', 'uma', 'ludicr', 'uptight', 'joan', 'midget', 'fight', 'insecur', 'attach', 'past', 'harold', 'swim', 'portray', 'man', 'jj', 'throw', 'ron', 'superman', 'levant', 'comed', 'profess', 'soon', 'deputi', 'began', 'choppi', 'reel', 'tyrann', 'gabl', 'wan', 'closeup', 'boyfriend', '2005', 'blown', 'captur', 'recogn', 'jess', 'asham', 'paranoia', 'site', 'print', 'wick', 'darn', 'misunderstand', 'multi', 'maiden', 'asia', 'butch', 'candid', 'scoobi', 'belli', 'hello', 'heighten', 'box', 'convey', 'set', 'champion', 'flip', 'thiev', 'blend', 'croatian', 'servic', 'receiv', 'beatti', 'roughli', 'dear', 'prejudic', 'learn', 'lol', 'superior', 'hook', 'princip', 'rick', 'resembl', 'charisma', 'rogu', 'fetish', 'rerun', 'gorgeou', 'meal', 'kirk', 'deepli', 'skill', 'instantli', 'jenna', 'worker', 'belov', 'space', 'star', 'loyalti', 'dougla', 'featur', 'ireland', 'retreat', 'display', 'offsid', 'winslet', 'panic', 'ill', 'pinjar', 'decapit', 'decis', 'public', 'baptist', 'kolchak', 'shake', 'track', 'kingdom', 'rob', 'pull', 'cruis', 'bridget', 'fifteen', 'overlook', 'minnelli', 'fit', 'till', 'interior', 'drain', 'stranger', 'disturb', 'up', 'drab', 'slap', 'uniqu', 'last', 'remain', 'note', 'joe', 'bore', 'patriot', 'eas', 'walter', 'robin', 'duchovni', 'meat', 'characterist', 'wine', 'core', 'austria', 'grandfath', 'creat', 'perform', 'diner', 'bro', 'think', 'sea', 'fals', 'kimmel', 'bang', 'neighbor', 'soviet', 'replac', 'especi', 'sundanc', 'evelyn', 'judd', 'green', 'applaud', 'cage', 'hammer', 'psychic', 'rider', 'purpl', 'relish', 'rendit', 'excit', 'obi', 'benefit', 'tall', 'access', 'irrespons', 'ben', 'seat', 'interview', 'dolemit', 'sean', 'mainstream', 'sens', 'justic', 'arrog', 'indic', 'pay', 'revolt', 'pray', 'attent', 'asleep', 'ward', 'perfectli', 'hit', '1930', 'chicago', 'award', 'oppon', 'changel', 'preciou', 'morbid', 'philippin', 'vanish', 'unit', 'tribe', 'jam', 'glass', 'choreograph', 'incident', 'expert', 'matter', 'xp', 'critiqu', 'heroin', 'pascow', 'tabl', 'gone', 'liven', 'shop', 'impact', 'futurist', 'proverbi', 'ever', 'croat', 'bow', 'sematari', 'ballet', 'corn', 'financ', 'zone', 'sleuth', 'foster', 'modifi', 'cultur', 'galaxi', 'piti', 'therapi', 'marion', 'thunderbird', 'milit', 'expos', 'princess', 'peppoir', 'recent', 'claudiu', 'frost', 'lovabl', 'controversi', 'spooki', 'weakest', 'radioact', 'serbia', 'zucker', 'befriend', 'drive', 'factori', 'simpl', 'advanc', 'fairli', 'jon', 'mayer', 'etern', 'greatest', 'warn', 'orang', 'william', 'dress', 'clau', 'milk', 'arkin', 'downey', 'swift', 'unexpect', 'peak', 'kubrick', 'irresist', 'crown', 'we', 'neil', 'nowaday', 'stay', 'sacrific', 'anywher', 'brown', 'match', '18', 'walk', 'carnag', 'host', 'cannibalist', 'godzilla', 'king', 'peter', 'puzzl', 'search', 'excus', 'danc', 'low', 'syrup', 'goat', 'seen', 'renaiss', 'involv', 'chew', 'justifi', 'regard', 'bike', 'relev', 'barbarian', 'humor', 'christma', 'disjoint', 'russian', 'dr', 'jan', 'wholli', 'decor', 'admittedli', 'bless', 'farrel', '1974', 'lundgren', 'drago', 'uneven', 'arbor', 'absorb', 'delta', 'awaken', 'leonora', 'fassbind', 'written', 'address', 'crisp', 'purpos', 'children', 'get', 'embarrassingli', 'midway', 'secretari', 'husband', 'ring', '90', 'churn', 'evok', 'hbo', 'knuckl', 'contriv', 'meander', 'bacon', 'girlfriend', 'bump', 'grin', 'guilt', 'fleet', 'distract', 'mend', 'emmi', 'hair', 'tragedi', 'depend', 'un', 'school', 'ling', 'frantic', 'reader', 'pile', 'pot', 'radic', 'stylish', 'trilog', 'mass', 'smuggl', 'dash', 'crisi', 'expand', 'scottish', 'michel', 'rivet', 'behav', 'exot', 'parker', 'polici', 'screen', 'knowledg', 'breath', 'levin', 'jare', 'frequent', 'dane', 'increasingli', 'provoc', 'weird', 'remark', 'guarante', 'approach', 'vast', 'ted', 'gradual', 'unlik', 'diana', 'traver', 'stylis', 'million', 'disney', 'keep', 'relax', 'spiderman', 'polit', 'horrid', 'grayson', 'woeful', 'care', 'list', 'protocol', 'lesson', 'afflict', 'spark', 'retro', 'chick', 'nasti', 'annoy', 'sell', 'goodby', 'gladiat', 'extent', 'meaning', 'mickey', 'lock', 'shallow', 'jay', 'discuss', 'could', 'camerawork', 'mind', 'drink', 'eight', 'push', 'dunst', 'hunt', 'charl', 'dragon', 'cold', 'titan', 'chronic', 'ariel', 'john', 'caribbean', 'comatos', 'primari', 'amount', 'riah', 'rochon', 'duke', 'legal', 'zach', 'suppli', 'funni', 'olivi', 'color', 'garbag', 'wise', 'psycho', 'manhattan', 'easili', 'prospect', 'plant', 'code', 'media', 'paper', 'dick', 'messi', 'murphi', 'komomo', 'old', 'stripper', 'worm', 'gruesom', 'shakespear', 'without', 'career', 'wacki', 'lifeless', 'academi', 'pat', 'circumst', 'pride', 'common', 'lesli', 'offic', 'line', 'gardin', 'pleasant', 'overr', 'despis', 'straighten', 'heat', 'shanghai', 'bone', 'product', 'perman', 'simmon', 'pretenti', 'deneuv', 'antic', 'switch', 'lise', 'pickup', 'unfold', 'hand', 'store', 'griswold', 'albert', 'behind', 'sent', 'blah', 'unrealist', 'spencer', 'eater', 'genet', 'teller', 'gold', 'sullivan', 'recruit', 'left', 'sheen', 'nod', 'bunni', 'punchlin', 'recap', 'lightli', 'need', 'event', 'profession', 'well', 'kurdish', 'kick', 'courag', 'spell', 'bath', 'uninterest', 'fool', 'witti', 'porn', 'mayb', 'elabor', 'connect', 'aliv', 'netflix', 'mice', 'mani', 'satisfi', 'criticis', 'robber', 'chou', 'breakfast', 'incoher', 'dvd', 'quick', 'outsid', 'held', 'servant', 'antarctica', 'along', 'grandmoth', 'strongli', 'hitler', 'erwin', 'rambo', 'nt', 'pitt', 'minut', 'thorn', 'hatr', 'buck', 'time', 'tourist', 'artist', 'reunit', 'effici', 'wrath', 'american', 'claud', 'harlem', 'affleck', 'lawyer', 'home', 'peopl', 'agent', 'edit', 'submit', 'water', 'lower', 'egon', 'secur', 'recycl', 'scarfac', 'anymor', 'herzog', 'lerner', 'profoundli', 'celebr', 'conserv', 'brad', 'today', 'network', 'boxer', 'leader', 'debbi', 'nathan', 'visit', 'keen', 'delic', 'gordon', 'safe', 'sorri', 'logic', 'wisdom', 'brought', 'via', 'lyric', 'sophist', 'ittenbach', 'graphic', 'competit', 'chemic', 'tear', 'heavi', 'transcend', 'thirti', 'western', 'porki', 'art', 'wanna', 'halt', 'psychiatrist', 'professor', 'easier', 'confirm', 'keanu', 'station', 'verg', 'opera', 'film', 'drill', 'simplic', 'manhood', 'casino', 'trainer', 'latin', 'carradin', 'forgotten', 'crave', 'chief', 'debt', 'shadow', 'lightheart', 'presenc', 'turn', 'iv', 'boast', 'express', 'monarch', 'desper', 'abandon', 'six', 'matrix', 'accur', 'inde', 'process', 'basic', 'mad', 'vadar', 'transform', 'comedienn', 'place', 'kidnap', 'vaniti', 'wildli', 'monologu', 'ya', 'troubl', 'polic', 'send', '1970', 'gibson', 'townspeopl', 'quest', 'sympath', 'ugli', 'navi', 'isabel', 'lama', 'sith', 'homer', 'fan', 'appear', 'prepar', 'back', 'rent', 'accent', 'classmat', 'jafar', 'comparison', 'train', 'brilliantli', 'high', 'widow', 'transit', 'mute', 'gori', 'handsom', 'hardi', 'mccormick', 'stadium', 'assign', 'act', 'hug', 'throat', 'idol', 'prostitut', 'feet', 'invis', 'curs', 'driven', 'streisand', 'domin', 'intertwin', 'imit', 'rooki', 'immigr', 'technic', 'scroog', 'proud', 'promis', 'attorney', 'regist', 'der', 'creatur', 'preced', 'uwe', 'chri', 'els', 'theme', 'refresh', 'sexi', 'audienc', 'commerci', 'error', 'intric', 'tobi', 'goe', 'thousand', 'famou', 'rip', 'fine', 'leg', 'toronto', 'toni', 'unpleas', 'non', 'vincent', 'tarantino', 'central', 'allen', 'age', 'propheci', 'becam', 'clueless', 'pose', 'collaps', 'carey', 'et', 'tattoo', 'snippet', 'suffer', 'lovingli', 'evolut', 'burtynski', 'chill', 'genr', 'visual', 'meet', 'laden', 'mill', 'idea', 'childhood', 'ball', 'offici', 'woman', 'reason', 'societi', 'lando', 'suprem', 'convinc', 'corps', 'gaiman', 'formula', 'neg', 'game', 'spinal', 'kiss', 'knox', 'everyth', 'rel', 'term', 'amateur', 'massiv', 'crash', 'pornographi', 'physic', 'parodi', 'bite', 'franchis', 'milo', 'manipul', 'gem', 'friendship', 'racial', 'cannot', 'fast', 'watchabl', 'descend', 'goodman', 'coke', 'root', 'sack', 'wall', 'unforgett', 'robinson', 'martha', 'treat', 'teeth', 'occult', 'jonni', 'georg', 'eleph', 'plu', 'ripe', 'promin', 'maintain', 'yeah', 'bait', 'suppos', 'commun', 'awkwardli', 'hardli', 'subvers', 'correct', 'hamil', 'mutual', 'allison', 'thought', 'twin', 'cole', 'judgment', 'exactli', 'che', 'cameo', 'collect', 'metropoli', 'celi', 'contemporari', 'finger', '15', 'attack', 'sceneri', 'recognis', 'inher', 'misunderstood', 'italian', 'depress', 'pokemon', 'spice', 'fashion', 'slip', 'emerg', 'focu', 'industri', 'neighbour', 'anand', 'christian', 'babysit', 'merchandis', 'hotel', 'tornado', 'least', 'priyanka', 'dilemma', 'trivial', 'structur', 'appli', 'hundr', 'truli', 'gretchen', 'artifici', 'includ', 'unnecessari', 'belief', 'garden', 'close', 'twenti', 'regim', 'retrospect', 'shove', 'editor', 'pseudo', 'sweden', 'motion', 'speech', 'pool', 'mile', 'dawn', 'brando', 'run', 'asset', 'enthusiast', 'lane', 'dip', 'bulk', 'muslim', 'replic', 'hour', 'landscap', 'bell', 'georgia', 'habit', 'co', 'awak', 'buster', 'ardent', 'alongsid', 'convert', 'rhyme', 'miller', 'caus', 'river', 'howe', 'prowess', 'anthoni', 'sofia', 'impli', 'merg', 'other', 'mom', 'nostalg', 'extra', 'lo', 'angri', 'virgin', 'trend', 'glori', 'empti', 'ira', 'heavenli', 'hugh', 'weekli', 'jade', 'marshal', 'friendli', 'avail', 'length', 'vivid', '50', 'roth', 'abomin', 'simpson', 'mick', 'food', 'probabl', 'illustr', 'abl', 'suit', 'snow', 'endur', 'vibrant', 'sustain', 'succumb', 'forgot', 'kosovo', 'donna', 'air', 'bring', 'lopez', 'requisit', 'frontier', 'rear', 'cathol', 'soylent', 'codenam', 'park', 'tarentino', 'obscur', 'feminist', 'lanza', 'becom', 'carrey', 'awar', 'aspect', 'render', 'drop', 'deserv', 'equal', 'alexand', 'big', 'heaven', 'instant', 'neither', 'parasit', 'birthday', 'pervert', 'stretch', 'delet', 'ingrid', 'fun', 'izzard', 'surround', 'marin', 'longer', 'notic', 'voic', 'beach', 'hopkin', 'wipe', 'son', 'spoke', 'grace', 'share', 'tool', 'heav', 'faster', 'urmila', 'billi', 'punk', 'lose', 'horizon', 'gloria', 'isra', 'somebodi', 'went', 'fox', 'record', 'stuff', 'deviat', 'jessica', 'advic', 'mormon', 'lee', 'mid', 'background', 'archer', 'decept', 'bet', 'studi', 'bash', 'give', 'infam', 'nolan', 'ace', 'disappoint', 'know', 'scheme', 'turkey', 'motiv', 'dog', 'deal', 'margaret', 'prequel', 'everywher', 'yuppi', 'stop', 'unknown', 'chest', 'bender', 'heavili', 'moon', 'backward', 'ado', 'outstand', 'intern', 'maya', 'rave', 'chock', 'christoph', 'pet', 'johnni', 'fallen', 'hound', 'worri', 'anyon', 'bust', 'inspir', 'rocket', 'midnight', 'somehow', 'copi', 'washington', 'condit', 'pronounc', 'mist', 'funnier', 'terrif', 'occup', 'amok', 'ironi', 'commiss', 'sometim', 'richardson', 'liam', 'piec', 'auteur', 'kramer', '40', 'model', 'sanguisuga', 'still', 'cgi', 'full', 'fantasi', 'club', '12', 'potenti', 'yeung', 'grave', '2002', 'fuel', 'swear', 'cohes', 'subtli', 'larger', 'ensur', 'return', 'importantli', 'monro', 'adventur', 'burton', 'vital', 'tripe', 'design', 'music', 'clark', 'zombif', 'dispatch', 'poetri', 'unfamiliar', 'burr', 'wolf', 'shut', 'martin', 'found', 'porter', 'be', 'oppos', 'unorigin', 'deed', 'han', 'sinatra', 'adult', 'african', 'mock', 'assur', 'utterli', 'subscrib', 'blink', 'trace', 'masterpiec', 'kelli', 'audit', 'jr', 'ident', 'ye', 'guardian', 'moriarti', 'miss', 'base', 'howev', 'warrior', 'debat', 'stick', 'invas', 'wimpi', 'mullet', 'frank', 'semi', 'exit', 'hungri', 'pretens', 'takashi', 'pickford', 'rout', 'detroit', 'peruvian', 'overal', 'dude', 'woodi', 'shown', 'acquir', 'sandler', 'marci', 'schizophren', 'post', 'whilst', 'conceiv', 'system', 'ballroom', 'album', 'miseri', 'clair', 'sun', 'predict', 'inappropri', 'confront', 'awkward', 'signific', 'european', 'concert', 'two', 'favourit', 'insult', 'goodi', 'eastern', 'beatl', 'effect', 'boob', 'surte', 'neighborhood', 'equival', 'essenti', 'gym', 'owe', 'sure', 'strip', 'brief', 'honor', 'valuabl', 'blue', 'depth', 'figur', 'word', 'stinker', 'load', 'carlton', 'fill', 'freak', 'reign', 'ador', 'skull', 'mel', 'imperson', 'advis', 'myer', 'boil', 'montag', 'bumbl', 'draw', 'shall', 'night', 'defend', 'stroke', 'pier', 'pound', 'modin', 'among', 'household', 'victor', 'homicid', 'price', 'cloth', 'nanci', 'rosco', 'brooklyn', 'musician', 'juic', 'mike', 'liner', '2009', 'sex', 'telegraph', 'teenag', 'seren', 'scari', 'cinemat', 'bold', 'reunion', 'vanc', 'bo', 'endless', 'lesbian', 'retir', 'popcorn', 'south', 'lucil', 'annoyingli', 'reveal', 'secondli', 'given', 'fish', 'unabl', 'poker', 'reject', 'aid', 'larri', 'anna', 'trick', 'joint', 'pace', 'malika', 'pop', 'kill', 'blond', 'select', 'small', 'schneider', 'final', 'daili', 'franz', 'encourag', 'darth', 'broke', 'jenni', 'yep', 'kitchen', 'admir', 'strain', 'suspend', 'heck', 'gina', 'glenda', 'omar', 'qualifi', 'crippl', 'chop', 'wild', 'machin', 'jameson', 'implement', 'retard', 'properti', 'land', 'notori', 'employe', 'legend', 'legendari', 'scope', 'race', 'dinner', 'forgett', 'ala', 'funniest', 'revolutionari', 'banana', 'critic', 'earl', 'sadist', 'side', 'spoken', 'employ', 'defin', 'would', 'war', 'stink', 'corbett', 'battl', 'exclus', 'morph', 'ishii', 'threat', 'maci', 'white', 'topic', 'peac', 'storm', 'soloist', 'latino', 'intellig', 'subtitl', 'creep', 'smith', 'meredith', 'follow', 'ground', 'pfeiffer', 'chan', 'shame', 'indulg', 'seuss', 'cowboy', 'nichola', 'jump', 'archiv', 'stephen', '100', 'month', 'notion', 'graham', 'architectur', 'stun', 'slightli', 'authent', 'chiller', 'fulfil', 'ranger', 'zu', 'readi', 'cecil', 'pegg', 'gimmick', 'toss', 'integr', 'beauti', 'hard', 'commentari', 'mood', 'lame', 'directori', 'floor', '2006', 'transfer', 'bauer', 'tadanobu', 'koji', 'bizarr', 'philip', 'francisco', 'mediev', 'tarzan', 'holm', 'overli', 'exorcist', 'thoroughli', 'yawn', 'favorit', 'resourc', 'tast', 'wilder', 'adopt', 'dialogu', 'mix', 'realm', 'greatli', 'pasolini', 'perhap', 'combin', 'sever', 'underus', 'crack', 'hoffman', 'warp', 'amusingli', 'okay', 'obtain', 'mtv', 'shark', 'moss', 'cemeteri', 'snowman', 'must', 'moovi', 'starr', 'movi', 'die', 'concept', 'hell', 'mindless', 'fortun', 'alway', 'span', 'nonetheless', 'puppet', 'theori', 'rashid', 'darker', 'ms', 'cattl', 'human', 'write', 'wave', 'butler', 'element', 'hypnot', 'sad', 'echo', 'disord', 'juli', 'convent', 'sympathet', 'uplift', 'sale', 'link', 'luke', 'terrifi', 'distanc', 'innoc', 'altman', 'beaten', 'caught', 'spectat', 'inherit', 'emot', 'rivalri', 'evid', 'sg', 'grief', 'primit', 'energi', 'flee', 'randomli', 'super', 'ramon', 'brutal', 'mundan', 'devil', 'superstar', 'nephew', 'beat', 'caron', 'nonsens', 'nobl', 'exhibit', 'strike', 'gypo', 'tell', 'usual', 'west', 'five', 'got', 'fanat', '19th', 'tsing', 'poorli', 'roeg', 'somewhat', 'strang', 'alien', 'novel', 'comb', 'lugosi', 'ration', 'thailand', 'purport', 'skip', 'oliv', 'colonel', 'mar', 'use', 'wider', 'van', 'screw', 'spiral', 'penelop', 'flight', 'tough', 'linear', 'standout', 'curiou', 'understood', 'arab', 'new', 'khan', 'seldom', 'annett', 'popular', 'lex', 'morgan', 'spoiler', 'mirror', 'wrote', 'explan', 'crimin', 'wound', 'delight', 'flaw', 'spielberg', 'ruin', 'versatil', 'de', 'katey', 'sword', 'patrick', 'ned', 'intrud', 'swallow', 'christ', 'ordinari', 'jane', 'depict', 'difficult', 'calib', 'therefor', 'jimmi', 'punch', 'luka', 'recommend', 'crystal', 'diamond', 'alon', 'craven', 'rural', 'canadian', 'eleg', 'resid', 'recal', 'vastli', 'fli', 'helpless', 'confus', 'member', 'zest', 'toler', 'farc', 'fetch', 'clooney', 'rental', 'cloud', 'complet', 'grade', 'lover', 'clean', 'derek', 'phoni', 'revers', 'sarah', 'duck', 'wander', 'oper', 'steal', 'comedian', 'hopeless', 'yugoslavia', 'entri', 'towelhead', 'ga', 'wake', 'feed', 'phenomenon', 'swanson', 'travi', 'bank', 'suspicion', 'dragonlord', 'rant', 'imag', 'anni', 'map', 'burn', 'second', 'mexican', 'accord', 'shelf', 'hilliard', 'portion', 'susannah', 'ingeni', 'veteran', 'compel', 'known', 'row', 'develop', 'godfath', '1965', 'heath', 'hall', 'reliabl', 'serv', 'refus', 'suspici', 'avoid', 'nightclub', 'consist', 'chronicl', 'odd', 'colleagu', 'corrupt', 'decad', 'audrey', 'tree', 'sketch', 'vomit', 'ahead', 'disgrac', 'opinion', 'go', 'vader', 'kevin', 'although', 'larg', 'danish', 'dazzl', 'en', 'flat', 'destroy', 'tierney', 'luxuri', 'bigfoot', 'begat', 'wrap', 'escap', 'bay', 'almost', 'cock', 'bert', 'chase', 'bolo', 'bela', 'demand', 'imperi', 'driveway', 'build', 'stewart', 'educ', 'dead', 'ethic', 'hey', 'florida', 'magazin', 'wealth', 'haley', 'blair', 'econom', 'silverman', 'hire', 'target', 'dysfunct', 'beneath', 'fascin', 'penn', 'listen', 'bloodi', 'offend', 'unexpectedli', 'mayn', 'incred', 'rodriguez', 'alicia', 'carol', 'split', 'encount', 'noth', 'reluctantli', 'vega', 'honesti', 'riot', 'success', 'opportun', 'traffic', 'guid', 'damn', 'hyster', 'medic', 'explor', 'todd', 'famili', 'provok', 'dump', 'despit', 'heartfelt', 'character', 'wardrob', 'wrench', 'heroic', 'dub', 'clock', 'monitor', 'minimum', 'sappi', 'rather', 'charli', 'vacat', 'reserv', 'jail', 'likabl', 'appal', 'fond', 'kong', 'wheel', 'setup', 'hart', 'mr', 'turner', 'david', 'sight', 'popul', 'footag', 'iri', 'ultim', 'convict', 'germani', 'ideal', 'hippi', 'stole', 'best', 'mraovich', 'bright', 'taxi', 'coast', 'wait', 'lyman', 'rang', 'enchant', 'ocean', 'spontan', 'test', 'paul', 'enemi', 'perspect', 'victim', 'illumin', 'necessarili', 'joy', 'sunk', 'pornograph', 'yorker', '000', 'hong', 'shoulder', 'longest', 'twist', 'norman', 'afford', 'afterward', 'buri', 'bori', 'climact', 'bargain', 'aforement', 'rich', 'understand', 'what', 'due', 'women', 'ingredi', 'nobodi', 'deriv', 'prodigi', 'jabba', 'later', 'theatric', 'mixtur', 'damag', 'kovac', 'overwhelm', 'embrac', '60', 'disciplin', 'chines', 'roger', 'dark', 'insultingli', 'insignific', 'trophi', 'updat', 'let', 'jodi', 'wonder', 'fu', 'summon', 'resolut', 'view', 'ex', 'bomb', 'brother', 'cope', 'amongst', 'amphibulo', 'airport', 'patron', 'certain', 'nightmar', 'python', 'document', 'aka', 'lionel', 'effort', 'max', 'thereaft', '1947', 'grand', 'boll', 'worthwhil', 'quit', 'gay', 'possess', 'holli', 'subject', 'jonathan', 'flair', 'sandra', 'martial', 'comfort', 'everyday', 'slasher', 'theodor', 'reson', 'cash', 'cassi', 'vein', 'concentr', 'regular', 'disgust', 'mark', 'ambigu', 'murder', 'poster', 'underwhelm', 'right', 'termin', 'walken', 'butcher', 'unleash', 'happen', 'possibl', 'roller', 'kapoor', 'lowel', 'jean', 'relat', 'chain', 'state', 'india', 'wickedli', 'sterl', 'ideolog', 'guard', 'chuckl', 'dame', 'specif', 'tribut', 'ampl', 'obviou', 'duk', 'said', 'wright', 'seed', 'overcom', 'owen', 'documentari', 'eyebrow', 'occurr', 'apart', 'sexual', 'misfit', 'true', 'cours', 'gainax', 'spanish', 'noir', 'abus', 'nuanc', 'daniel', 'date', 'merchant', 'humour', 'carter', 'jeremi', 'cyborg', 'televis', 'profit', 'vagu', 'chawla', 'manga', 'palett', 'storylin', 'stiff', 'andr', 'routin', 'jar', 'delay', 'cycl', 'altern', '10', 'closest', 'camera', 'peripheri', 'alert', 'christina', 'cousin', 'attitud', 'distinct', 'kim', 'atlant', 'particular', 'contest', 'hyde', 'eg', 'bed', 'subtl', 'improv', 'destin', 'gunbust', 'rebel', 'diseas', 'week', 'cain', 'techniqu', 'extraordinari', 'armstrong', 'trio', 'ridicul', 'uniform', 'overdon', 'vile', 'hide', 'con', 'jennif', 'brain', 'bakshi', 'talk', 'bill', 'ava', '1990', 'resign', 'occur', 'disast', 'freedom', 'earn', 'entitl', 'fulci', 'numb', 'evolv', 'ensembl', 'cheapli', 'era', 'worst', 'im', 'chen', 'knife', '25', 'pure', 'viewer', 'segment', 'stow', 'wannab', 'flag', 'purs', 'belgium', '1920', 'everybodi', 'bedroom', 'partial', 'plenti', 'pick', 'edg', 'advert', 'maniac', 'bogu', 'grinch', 'asid', 'director', 'revel', 'donald', 'rock', 'coher', 'queen', 'wish', 'minim', 'strangest', 'ryan', 'infatu', 'frustrat', 'helen', 'fail', 'coffin', 'zack', 'support', 'remov', 'truman', 'maureen', 'lumet', 'problem', 'upstair', 'injur', 'conflict', 'chronolog', 'climax', 'dimens', 'face', 'glu', 'trust', 'suck', 'absolut', 'video', 'trap', 'nelson', 'detect', 'dethman', 'belt', 'accompani', 'normal', 'kaufman', 'reed', 'hero', 'useless', 'nail', 'wilson', 'biograph', 'letter', 'r2', 'interact', 'type', 'pursu', 'resist', 'infect', 'contribut', 'damon', 'superb', 'maclean', 'radio', 'monti', 'present', 'perri', 'nowher', 'enlighten', 'descript', 'slave', 'tale', 'gaillardia', 'bishop', 'boost', 'dealer', 'religion', 'plane', 'joey', 'technolog', 'gener', 'trail', 'comet', 'fire', 'mole', 'ai', 'andrea', 'wive', 'natur', 'privat', 'one', 'goldi', 'job', 'thereof', 'tide', 'gloriou', 'induc', 'plot', 'danger', 'street', 'adequ', 'scratch', 'moral', 'much', 'smell', 'destini', 'thin', 'forest', 'notabl', 'fare', 'robot', 'eccentr', 'contract', 'pm', 'fabul', 'difficulti', 'sub', 'properli', 'bout', 'svenson', '1969', 'sin', 'michael', 'walker', 'underground', 'dutch', 'lucki', 'bimbo', 'paradis', 'three', 'gambl', 'weak', 'broken', 'guy', 'darryl', 'australia', 'edgi', 'imprint', 'smash', 'alex', 'basement', 'folk', 'photograph', 'control', 'remot', 'sensit', 'sit', 'toddler', 'choic', 'scream', 'file', 'antholog', 'contrari', 'wodehous', 'hobgoblin', 'ami', '1985', 'photographi', 'artemisia', 'craft', 'toilet', 'appar', 'gillian', 'accident', 'pre', 'downright', 'dedic', 'marvel', 'golden', 'melodrama', 'pig', 'click', 'breathtak', 'captiv', 'didact', '2000', 'graci', 'kate', 'swing', 'bathroom', 'skinni', 'took', 'cetnik', '1950', 'worship', 'san', 'execut', 'wartim', 'consent', 'brilliant', 'steckert', 'hors', 'bridg', 'redford', 'yea', 'ticket', 'preserv', 'menu', 'tv', 'drawn', 'jerk', 'sleazi', 'react', 'illeg', 'desol', 'emphasi', 'corpor', 'mess', 'teacher', 'dish', 'stylist', 'disregard', 'canada', 'mortal', 'tenant', 'that', 'thu', 'punish', 'afraid', 'witch', 'spring', 'mentor', 'investig', 'ancient', 'blew', 'felix', 'dorothi', 'europ', 'dumb', 'enough', 'ad', 'agre', 'mi', 'johansson', 'martian', 'closet', 'mental', 'round', 'fix', 'symbol', 'suicid', 'introduc', 'environ', 'orson', 'immedi', 'hearn', 'prop', 'wwii', 'admiss', 'sfx', 'futur', 'gotten', 'pregnant', 'lone', 'tank', 'poke', 'miik', 'ultra', 'kerri', 'sink', 'shout', 'gerri', 'blaze', 'continu', 'nevertheless', 'villain', 'world', 'claim', 'strong', 'readili', 'diminish', 'monk', 'fourth', 'panahi', 'dreari', 'joke', 'stood', 'occas', 'grudg', 'newman', 'merri', 'cab', 'dispos', 'lick', 'iii', 'puls', 'appreci', 'toward', 'presum', 'outlin', 'wear', 'royal', 'struggl', 'cannon', 'angl', 'rex', 'insist', 'steril', 'gilliam', 'church', 'tension', 'deanna', 'mysteri', 'elli', 'strictli', 'independ', 'aggress', 'tri', 'dens', 'hick', 'arriv', 'louqu', 'nois', 'find', 'mpaa', 'consequ', 'mst3k', 'spoof', 'senat', 'yellow', 'huge', 'rise', 'uk', 'moe', 'establish', 'predat', 'cinematographi', 'puriti', 'higher', 'news', 'yoda', 'roman', 'fairi', 'hing', 'global', 'room', 'languag', 'inhabit', 'protagonist', 'reli', 'within', 'metaphor', 'chandon', 'lincoln', 'dana', 'function', 'ego', 'betti', 'also', 'strand', 'fbi', 'carrier', 'youth', 'gender', 'fought', 'loos', 'speci', 'tragic', 'whether', 'highway', 'book', 'born', 'expens', 'preview', 'compani', 'manner', 'scorses', 'winner', 'key', 'willi', 'romanc', 'doze', 'glanc', 'waugh', 'await', 'lifetim', 'patient', 'stapleton', 'object', 'wide', 'crew', 'ran', 'sydney', 'divert', 'angst', 'vet', 'simultan', 'theatr', 'communist', 'jackman', 'lion', 'jagger', 'religi', 'elev', 'superfici', 'mumbai', 'disfigur', 'exagger', 'even', 'self', 'absenc', 'scare', 'quirki', 'soundtrack', 'clone', 'mous', 'progress', 'case', 'blackmail', 'devast', 'marri', 'dig', 'inept', 'simpli', 'young', 'moment', 'eventu', 'gut', 'itali', 'plagu', 'stolen', 'defeat', 'cube', 'dri', 'zero', 'crumbl', 'marlon', 'frame', 'luci', 'barbra', 'insan', 'hacker', 'favor', 'smart', 'surviv', 'duo', 'latter', 'resolv', 'animatrix', 'resurrect', 'sport', 'irwin', 'complic', 'ladi', 'conduc', 'remad', 'minor', 'straight', 'redempt', 'unbear', 'japanes', 'sharon', 'determin', 'cabin', 'obsess', 'bitter', 'warm', 'someday', 'trailer', 'slew', 'atroci', 'hitchcock', 'wing', 'thrill', 'robert', 'violenc', 'campaign', 'montana', 'sohail', 'solomon', 'wooden', 'front', 'vs', 'admit', 'palma', 'columbo', 'bobbi', 'vampir', 'sequenc', 'skin', 'carri', 'shirt', 'brian', 'devot', 'highland', 'chosen', 'cherish', 'jacket', 'death', 'china', 'erot', 'indian', 'detail', 'kenneth', 'scientist', 'gingold', 'quickli', 'exact', 'brazil', 'everi', 'journey', 'wield', '13th', 'nuclear', 'pass', 'kern', 'assist', 'santiago', 'grendel', 'arnold', 'drug', 'sign', 'unfunni', 'warren', 'junk', 'heel', 'di', 'fell', 'bottom', 'hurt', 'lost', 'though', 'pilot', 'whore', 'holt', 'doubl', 'sway', 'team', 'name', 'lousi', '19', 'succeed', 'strummer', 'timeless', 'rape', '17', 'tasteless', 'cent', 'perdit', 'destruct', 'limp', 'clariti'}\n"
     ]
    }
   ],
   "source": [
    "print(new_vocabulary - original_vocabulary)"
   ]
  },
  {
   "cell_type": "markdown",
   "metadata": {},
   "source": [
    "These words themselves don't tell us much, however if one of these words occured with a large frequency, that might tell us something. In particular, we wouldn't really expect any of the words above to appear with too much frequency.\n",
    "\n",
    "**Question** What exactly is going on here. Not only what (if any) words appear with a larger than expected frequency but also, what does this mean? What has changed about the world that our original model no longer takes into account?\n",
    "\n",
    "**NOTE:** This is meant to be a very open ended question. To investigate you may need more cells than the one provided below. Also, there isn't really a *correct* answer, this is meant to be an opportunity to explore the data."
   ]
  },
  {
   "cell_type": "markdown",
   "metadata": {},
   "source": [
    "### (TODO) Build a new model\n",
    "\n",
    "Supposing that we believe something has changed about the underlying distribution of the words that our reviews are made up of, we need to create a new model. This way our new model will take into account whatever it is that has changed.\n",
    "\n",
    "To begin with, we will use the new vocabulary to create a bag of words encoding of the new data. We will then use this data to train a new XGBoost model.\n",
    "\n",
    "**NOTE:** Because we believe that **the underlying distribution of words has changed** it should follow that **the original vocabulary that we used to construct a bag of words encoding of the reviews is no longer valid**. This means that we need to be careful with our data. If we send an bag of words encoded review using the *original* vocabulary we should not expect any sort of meaningful results.\n",
    "\n",
    "In particular, this means that if we had deployed our XGBoost model like we did in the Web App notebook then we would need to implement this vocabulary change in the Lambda function as well."
   ]
  },
  {
   "cell_type": "code",
   "execution_count": 59,
   "metadata": {},
   "outputs": [],
   "source": [
    "new_XV = new_vectorizer.transform(new_X).toarray()"
   ]
  },
  {
   "cell_type": "markdown",
   "metadata": {},
   "source": [
    "And a quick check to make sure that the newly encoded reviews have the correct length, which should be the size of the new vocabulary which we created."
   ]
  },
  {
   "cell_type": "markdown",
   "metadata": {},
   "source": [
    "Now that we have our newly encoded, newly collected data, we can split it up into a training and validation set so that we can train a new XGBoost model. As usual, we first split up the data, then save it locally and then upload it to S3."
   ]
  },
  {
   "cell_type": "code",
   "execution_count": 62,
   "metadata": {},
   "outputs": [],
   "source": [
    "import pandas as pd\n",
    "\n",
    "# Earlier we shuffled the training dataset so to make things simple we can just assign\n",
    "# the first 10 000 reviews to the validation set and use the remaining reviews for training.\n",
    "new_val_X = pd.DataFrame(new_XV[:500])\n",
    "new_train_X = pd.DataFrame(new_XV[500:])\n",
    "\n",
    "new_val_y = pd.DataFrame(new_Y[:500])\n",
    "new_train_y = pd.DataFrame(new_Y[500:])"
   ]
  },
  {
   "cell_type": "markdown",
   "metadata": {},
   "source": [
    "In order to save some memory we will effectively delete the `new_X` variable. Remember that this contained a list of reviews and each review was a list of words. Note that once this cell has been executed you will need to read the new data in again if you want to work with it."
   ]
  },
  {
   "cell_type": "code",
   "execution_count": 63,
   "metadata": {},
   "outputs": [],
   "source": [
    "new_X = None"
   ]
  },
  {
   "cell_type": "markdown",
   "metadata": {},
   "source": [
    "Next we save the new training and validation sets locally. Note that we overwrite the training and validation sets used earlier. This is mostly because the amount of space that we have available on our notebook instance is limited. Of course, you can increase this if you'd like but to do so may increase the cost of running the notebook instance."
   ]
  },
  {
   "cell_type": "code",
   "execution_count": 64,
   "metadata": {},
   "outputs": [],
   "source": [
    "pd.DataFrame(new_XV).to_csv(os.path.join(data_dir, 'new_data.csv'), header=False, index=False)\n",
    "\n",
    "pd.concat([new_val_y, new_val_X], axis=1).to_csv(os.path.join(data_dir, 'new_validation.csv'), header=False, index=False)\n",
    "pd.concat([new_train_y, new_train_X], axis=1).to_csv(os.path.join(data_dir, 'new_train.csv'), header=False, index=False)"
   ]
  },
  {
   "cell_type": "markdown",
   "metadata": {},
   "source": [
    "Now that we've saved our data to the local instance, we can safely delete the variables to save on memory."
   ]
  },
  {
   "cell_type": "code",
   "execution_count": 65,
   "metadata": {},
   "outputs": [],
   "source": [
    "new_val_y = new_val_X = new_train_y = new_train_X = new_XV = None"
   ]
  },
  {
   "cell_type": "markdown",
   "metadata": {},
   "source": [
    "Lastly, we make sure to upload the new training and validation sets to S3.\n",
    "\n",
    "**TODO:** Upload the new data as well as the new training and validation data sets to S3."
   ]
  },
  {
   "cell_type": "code",
   "execution_count": 66,
   "metadata": {},
   "outputs": [],
   "source": [
    "# TODO: Upload the new data and the new validation.csv and train.csv files in the data_dir directory to S3.\n",
    "\n",
    "new_data_location = session.upload_data(os.path.join(data_dir, 'new_data.csv'), key_prefix=prefix)\n",
    "new_val_location = session.upload_data(os.path.join(data_dir, 'new_validation.csv'), key_prefix=prefix)\n",
    "new_train_location = session.upload_data(os.path.join(data_dir, 'new_train.csv'), key_prefix=prefix)"
   ]
  },
  {
   "cell_type": "markdown",
   "metadata": {},
   "source": [
    "Once our new training data has been uploaded to S3, we can create a new XGBoost model that will take into account the changes that have occured in our data set.\n",
    "\n",
    "**TODO:** Create a new XGBoost estimator object."
   ]
  },
  {
   "cell_type": "code",
   "execution_count": 67,
   "metadata": {},
   "outputs": [
    {
     "name": "stderr",
     "output_type": "stream",
     "text": [
      "WARNING:root:Parameter image_name will be renamed to image_uri in SageMaker Python SDK v2.\n"
     ]
    }
   ],
   "source": [
    "# TODO: First, create a SageMaker estimator object for our model.\n",
    "new_xgb = sagemaker.estimator.Estimator(container,\n",
    "                                        role,                                   \n",
    "                                        train_instance_count=1,                  \n",
    "                                        train_instance_type='ml.m4.xlarge',      \n",
    "                                        output_path='s3://{}/{}/output'.format(session.default_bucket(), prefix),\n",
    "                                        sagemaker_session=session)\n",
    "\n",
    "# TODO: Then set the algorithm specific parameters. You may wish to use the same parameters that were\n",
    "#       used when training the original model.\n",
    "new_xgb.set_hyperparameters(max_depth=5,\n",
    "                            eta=0.2,\n",
    "                            gamma=4,\n",
    "                            min_child_weight=6,\n",
    "                            subsample=0.8,\n",
    "                            silent=0,\n",
    "                            objective='binary:logistic',\n",
    "                            early_stopping_rounds=10,\n",
    "                            num_round=500)"
   ]
  },
  {
   "cell_type": "markdown",
   "metadata": {},
   "source": [
    "Once the model has been created, we can train it with our new data.\n",
    "\n",
    "**TODO:** Train the new XGBoost model."
   ]
  },
  {
   "cell_type": "code",
   "execution_count": 68,
   "metadata": {},
   "outputs": [
    {
     "name": "stderr",
     "output_type": "stream",
     "text": [
      "WARNING:sagemaker:'s3_input' class will be renamed to 'TrainingInput' in SageMaker Python SDK v2.\n",
      "WARNING:sagemaker:'s3_input' class will be renamed to 'TrainingInput' in SageMaker Python SDK v2.\n"
     ]
    }
   ],
   "source": [
    "# TODO: First, make sure that you create s3 input objects so that SageMaker knows where to\n",
    "#       find the training and validation data.\n",
    "s3_new_input_train = sagemaker.s3_input(s3_data=new_train_location, content_type='text/csv')\n",
    "s3_new_input_validation = sagemaker.s3_input(s3_data=new_val_location, content_type='text/csv')"
   ]
  },
  {
   "cell_type": "code",
   "execution_count": 69,
   "metadata": {},
   "outputs": [
    {
     "name": "stdout",
     "output_type": "stream",
     "text": [
      "2020-07-25 23:06:35 Starting - Starting the training job...\n",
      "2020-07-25 23:06:37 Starting - Launching requested ML instances......\n",
      "2020-07-25 23:07:44 Starting - Preparing the instances for training......\n",
      "2020-07-25 23:08:54 Downloading - Downloading input data\n",
      "2020-07-25 23:08:54 Training - Downloading the training image..\u001b[34mArguments: train\u001b[0m\n",
      "\u001b[34m[2020-07-25:23:09:13:INFO] Running standalone xgboost training.\u001b[0m\n",
      "\u001b[34m[2020-07-25:23:09:13:INFO] File size need to be processed in the node: 9.54mb. Available memory size in the node: 8502.25mb\u001b[0m\n",
      "\u001b[34m[2020-07-25:23:09:13:INFO] Determined delimiter of CSV input is ','\u001b[0m\n",
      "\u001b[34m[23:09:13] S3DistributionType set as FullyReplicated\u001b[0m\n",
      "\u001b[34m[23:09:14] 500x5000 matrix with 2500000 entries loaded from /opt/ml/input/data/train?format=csv&label_column=0&delimiter=,\u001b[0m\n",
      "\u001b[34m[2020-07-25:23:09:14:INFO] Determined delimiter of CSV input is ','\u001b[0m\n",
      "\u001b[34m[23:09:14] S3DistributionType set as FullyReplicated\u001b[0m\n",
      "\u001b[34m[23:09:14] 500x5000 matrix with 2500000 entries loaded from /opt/ml/input/data/validation?format=csv&label_column=0&delimiter=,\u001b[0m\n",
      "\u001b[34m[23:09:14] src/tree/updater_prune.cc:74: tree pruning end, 1 roots, 10 extra nodes, 8 pruned nodes, max_depth=4\u001b[0m\n",
      "\u001b[34m[0]#011train-error:0.38#011validation-error:0.474\u001b[0m\n",
      "\u001b[34mMultiple eval metrics have been passed: 'validation-error' will be used for early stopping.\n",
      "\u001b[0m\n",
      "\u001b[34mWill train until validation-error hasn't improved in 10 rounds.\u001b[0m\n",
      "\u001b[34m[23:09:14] src/tree/updater_prune.cc:74: tree pruning end, 1 roots, 10 extra nodes, 0 pruned nodes, max_depth=5\u001b[0m\n",
      "\u001b[34m[1]#011train-error:0.356#011validation-error:0.456\u001b[0m\n",
      "\u001b[34m[23:09:14] src/tree/updater_prune.cc:74: tree pruning end, 1 roots, 12 extra nodes, 2 pruned nodes, max_depth=5\u001b[0m\n",
      "\u001b[34m[2]#011train-error:0.306#011validation-error:0.43\u001b[0m\n",
      "\u001b[34m[23:09:14] src/tree/updater_prune.cc:74: tree pruning end, 1 roots, 12 extra nodes, 4 pruned nodes, max_depth=5\u001b[0m\n",
      "\u001b[34m[3]#011train-error:0.282#011validation-error:0.436\u001b[0m\n",
      "\u001b[34m[23:09:14] src/tree/updater_prune.cc:74: tree pruning end, 1 roots, 10 extra nodes, 2 pruned nodes, max_depth=5\u001b[0m\n",
      "\u001b[34m[4]#011train-error:0.27#011validation-error:0.422\u001b[0m\n",
      "\u001b[34m[23:09:14] src/tree/updater_prune.cc:74: tree pruning end, 1 roots, 10 extra nodes, 2 pruned nodes, max_depth=5\u001b[0m\n",
      "\u001b[34m[5]#011train-error:0.248#011validation-error:0.424\u001b[0m\n",
      "\u001b[34m[23:09:14] src/tree/updater_prune.cc:74: tree pruning end, 1 roots, 8 extra nodes, 10 pruned nodes, max_depth=3\u001b[0m\n",
      "\u001b[34m[6]#011train-error:0.252#011validation-error:0.418\u001b[0m\n",
      "\u001b[34m[23:09:14] src/tree/updater_prune.cc:74: tree pruning end, 1 roots, 10 extra nodes, 2 pruned nodes, max_depth=5\u001b[0m\n",
      "\u001b[34m[7]#011train-error:0.25#011validation-error:0.428\u001b[0m\n",
      "\u001b[34m[23:09:14] src/tree/updater_prune.cc:74: tree pruning end, 1 roots, 10 extra nodes, 4 pruned nodes, max_depth=4\u001b[0m\n",
      "\u001b[34m[8]#011train-error:0.232#011validation-error:0.42\u001b[0m\n",
      "\u001b[34m[23:09:14] src/tree/updater_prune.cc:74: tree pruning end, 1 roots, 10 extra nodes, 2 pruned nodes, max_depth=5\u001b[0m\n",
      "\u001b[34m[9]#011train-error:0.226#011validation-error:0.42\u001b[0m\n",
      "\u001b[34m[23:09:14] src/tree/updater_prune.cc:74: tree pruning end, 1 roots, 14 extra nodes, 4 pruned nodes, max_depth=5\u001b[0m\n",
      "\u001b[34m[10]#011train-error:0.2#011validation-error:0.428\u001b[0m\n",
      "\u001b[34m[23:09:14] src/tree/updater_prune.cc:74: tree pruning end, 1 roots, 10 extra nodes, 2 pruned nodes, max_depth=5\u001b[0m\n",
      "\u001b[34m[11]#011train-error:0.188#011validation-error:0.42\u001b[0m\n",
      "\u001b[34m[23:09:14] src/tree/updater_prune.cc:74: tree pruning end, 1 roots, 10 extra nodes, 2 pruned nodes, max_depth=5\u001b[0m\n",
      "\u001b[34m[12]#011train-error:0.2#011validation-error:0.396\u001b[0m\n",
      "\u001b[34m[23:09:14] src/tree/updater_prune.cc:74: tree pruning end, 1 roots, 12 extra nodes, 2 pruned nodes, max_depth=4\u001b[0m\n",
      "\u001b[34m[13]#011train-error:0.186#011validation-error:0.406\u001b[0m\n",
      "\u001b[34m[23:09:14] src/tree/updater_prune.cc:74: tree pruning end, 1 roots, 12 extra nodes, 0 pruned nodes, max_depth=5\u001b[0m\n",
      "\u001b[34m[14]#011train-error:0.174#011validation-error:0.408\u001b[0m\n",
      "\u001b[34m[23:09:15] src/tree/updater_prune.cc:74: tree pruning end, 1 roots, 10 extra nodes, 8 pruned nodes, max_depth=5\u001b[0m\n",
      "\u001b[34m[15]#011train-error:0.174#011validation-error:0.408\u001b[0m\n",
      "\u001b[34m[23:09:15] src/tree/updater_prune.cc:74: tree pruning end, 1 roots, 10 extra nodes, 2 pruned nodes, max_depth=5\u001b[0m\n",
      "\u001b[34m[16]#011train-error:0.17#011validation-error:0.41\u001b[0m\n",
      "\u001b[34m[23:09:15] src/tree/updater_prune.cc:74: tree pruning end, 1 roots, 6 extra nodes, 6 pruned nodes, max_depth=3\u001b[0m\n",
      "\u001b[34m[17]#011train-error:0.16#011validation-error:0.408\u001b[0m\n",
      "\u001b[34m[23:09:15] src/tree/updater_prune.cc:74: tree pruning end, 1 roots, 0 extra nodes, 12 pruned nodes, max_depth=0\u001b[0m\n",
      "\u001b[34m[18]#011train-error:0.162#011validation-error:0.41\u001b[0m\n",
      "\u001b[34m[23:09:15] src/tree/updater_prune.cc:74: tree pruning end, 1 roots, 0 extra nodes, 12 pruned nodes, max_depth=0\u001b[0m\n",
      "\u001b[34m[19]#011train-error:0.16#011validation-error:0.406\u001b[0m\n",
      "\u001b[34m[23:09:15] src/tree/updater_prune.cc:74: tree pruning end, 1 roots, 10 extra nodes, 2 pruned nodes, max_depth=5\u001b[0m\n",
      "\u001b[34m[20]#011train-error:0.156#011validation-error:0.396\u001b[0m\n",
      "\u001b[34m[23:09:15] src/tree/updater_prune.cc:74: tree pruning end, 1 roots, 10 extra nodes, 2 pruned nodes, max_depth=5\u001b[0m\n",
      "\u001b[34m[21]#011train-error:0.16#011validation-error:0.404\u001b[0m\n",
      "\u001b[34m[23:09:15] src/tree/updater_prune.cc:74: tree pruning end, 1 roots, 2 extra nodes, 10 pruned nodes, max_depth=1\u001b[0m\n",
      "\u001b[34m[22]#011train-error:0.16#011validation-error:0.396\u001b[0m\n",
      "\u001b[34mStopping. Best iteration:\u001b[0m\n",
      "\u001b[34m[12]#011train-error:0.2#011validation-error:0.396\n",
      "\u001b[0m\n",
      "\n",
      "2020-07-25 23:09:25 Uploading - Uploading generated training model\n",
      "2020-07-25 23:09:25 Completed - Training job completed\n",
      "Training seconds: 45\n",
      "Billable seconds: 45\n"
     ]
    }
   ],
   "source": [
    "# TODO: Using the new validation and training data, 'fit' your new model.\n",
    "new_xgb.fit({'train': s3_new_input_train, 'validation': s3_new_input_validation})"
   ]
  },
  {
   "cell_type": "markdown",
   "metadata": {},
   "source": [
    "### (TODO) Check the new model\n",
    "\n",
    "So now we have a new XGBoost model that we believe more accurately represents the state of the world at this time, at least in how it relates to the sentiment analysis problem that we are working on. The next step is to **double check that our model is performing reasonably**.\n",
    "\n",
    "To do this, we will first test our model on the new data.\n",
    "\n",
    "**Note:** In practice this is a pretty bad idea. We already trained our model on the new data, so testing it shouldn't really tell us much. In fact, this is sort of a textbook example of leakage. We are only doing it here so that we have a numerical baseline.\n",
    "\n",
    "**Question:** How might you address the leakage problem?"
   ]
  },
  {
   "cell_type": "markdown",
   "metadata": {},
   "source": [
    "First, we create a new transformer based on our new XGBoost model.\n",
    "\n",
    "**TODO:** Create a transformer object from the newly created XGBoost model."
   ]
  },
  {
   "cell_type": "code",
   "execution_count": 70,
   "metadata": {},
   "outputs": [
    {
     "name": "stderr",
     "output_type": "stream",
     "text": [
      "WARNING:sagemaker:Parameter image will be renamed to image_uri in SageMaker Python SDK v2.\n"
     ]
    }
   ],
   "source": [
    "# TODO: Create a transformer object from the new_xgb model\n",
    "new_xgb_transformer = new_xgb.transformer(instance_count = 1, instance_type = 'ml.m4.xlarge')"
   ]
  },
  {
   "cell_type": "markdown",
   "metadata": {},
   "source": [
    "Next we test our model on the new data.\n",
    "\n",
    "**TODO:** Use the transformer object to transform the new data (stored in the `new_data_location` variable)"
   ]
  },
  {
   "cell_type": "code",
   "execution_count": 71,
   "metadata": {},
   "outputs": [],
   "source": [
    "# TODO: Using new_xgb_transformer, transform the new_data_location data. You may wish to\n",
    "#       'wait' for the transform job to finish.\n",
    "xgb_transformer.transform(new_data_location, content_type='text/csv', split_type='Line')"
   ]
  },
  {
   "cell_type": "markdown",
   "metadata": {},
   "source": [
    "Copy the results to our local instance."
   ]
  },
  {
   "cell_type": "code",
   "execution_count": 72,
   "metadata": {},
   "outputs": [
    {
     "name": "stdout",
     "output_type": "stream",
     "text": [
      "\r\n",
      "usage: aws s3 cp <LocalPath> <S3Uri> or <S3Uri> <LocalPath> or <S3Uri> <S3Uri>\r\n",
      "Error: Invalid argument type\r\n"
     ]
    }
   ],
   "source": [
    "!aws s3 cp --recursive $new_xgb_transformer.output_path $data_dir"
   ]
  },
  {
   "cell_type": "markdown",
   "metadata": {},
   "source": [
    "And see how well the model did."
   ]
  },
  {
   "cell_type": "code",
   "execution_count": 73,
   "metadata": {},
   "outputs": [],
   "source": [
    "predictions = pd.read_csv(os.path.join(data_dir, 'new_data.csv.out'), header=None)\n",
    "predictions = [round(num) for num in predictions.squeeze().values]"
   ]
  },
  {
   "cell_type": "code",
   "execution_count": 74,
   "metadata": {},
   "outputs": [
    {
     "data": {
      "text/plain": [
       "0.491"
      ]
     },
     "execution_count": 74,
     "metadata": {},
     "output_type": "execute_result"
    }
   ],
   "source": [
    "accuracy_score(new_Y, predictions[:1000])"
   ]
  },
  {
   "cell_type": "markdown",
   "metadata": {},
   "source": [
    "As expected, **since we trained the model on this data, our model performs pretty well**. So, we have reason to believe that our new XGBoost model is a \"better\" model.\n",
    "\n",
    "However, **before we start changing our deployed model**, we should first **make sure that our new model isn't too different**. In other words, if our new model performed really poorly on the original test data then this might be an indication that something else has gone wrong.\n",
    "\n",
    "To start with, since we got rid of the variable that stored the original test reviews, we will read them in again from the cache that we created in Step 3. Note that we need to make sure that we read in the original test data after it has been pre-processed with `nltk` but before it has been bag of words encoded. This is because we need to use the new vocabulary instead of the original one."
   ]
  },
  {
   "cell_type": "code",
   "execution_count": 75,
   "metadata": {},
   "outputs": [
    {
     "name": "stdout",
     "output_type": "stream",
     "text": [
      "Read preprocessed data from cache file: preprocessed_data.pkl\n"
     ]
    }
   ],
   "source": [
    "cache_data = None\n",
    "with open(os.path.join(cache_dir, \"preprocessed_data.pkl\"), \"rb\") as f:\n",
    "            cache_data = pickle.load(f)\n",
    "            print(\"Read preprocessed data from cache file:\", \"preprocessed_data.pkl\")\n",
    "            \n",
    "test_X = cache_data['words_test']\n",
    "test_Y = cache_data['labels_test']\n",
    "\n",
    "# Here we set cache_data to None so that it doesn't occupy memory\n",
    "cache_data = None"
   ]
  },
  {
   "cell_type": "markdown",
   "metadata": {},
   "source": [
    "Once we've loaded the original test reviews, we need to create a bag of words encoding of them using the new vocabulary that we created, based on the new data.\n",
    "\n",
    "**TODO:** Transform the original test data using the new vocabulary."
   ]
  },
  {
   "cell_type": "code",
   "execution_count": 76,
   "metadata": {},
   "outputs": [],
   "source": [
    "# TODO: Use the new_vectorizer object that you created earlier to transform the test_X data.\n",
    "test_X = new_vectorizer.transform(test_X).toarray()"
   ]
  },
  {
   "cell_type": "markdown",
   "metadata": {},
   "source": [
    "Now that we have correctly encoded the original test data, we can write it to the local instance, upload it to S3 and test it."
   ]
  },
  {
   "cell_type": "code",
   "execution_count": 77,
   "metadata": {},
   "outputs": [],
   "source": [
    "pd.DataFrame(test_X).to_csv(os.path.join(data_dir, 'test.csv'), header=False, index=False)"
   ]
  },
  {
   "cell_type": "code",
   "execution_count": 78,
   "metadata": {},
   "outputs": [],
   "source": [
    "test_location = session.upload_data(os.path.join(data_dir, 'test.csv'), key_prefix=prefix)"
   ]
  },
  {
   "cell_type": "code",
   "execution_count": 79,
   "metadata": {},
   "outputs": [
    {
     "name": "stdout",
     "output_type": "stream",
     "text": [
      "....................\u001b[34mArguments: serve\u001b[0m\n",
      "\u001b[34m[2020-07-25 23:13:05 +0000] [1] [INFO] Starting gunicorn 19.7.1\u001b[0m\n",
      "\u001b[34m[2020-07-25 23:13:05 +0000] [1] [INFO] Listening at: http://0.0.0.0:8080 (1)\u001b[0m\n",
      "\u001b[34m[2020-07-25 23:13:05 +0000] [1] [INFO] Using worker: gevent\u001b[0m\n",
      "\u001b[34m[2020-07-25 23:13:05 +0000] [38] [INFO] Booting worker with pid: 38\u001b[0m\n",
      "\u001b[34m[2020-07-25 23:13:05 +0000] [39] [INFO] Booting worker with pid: 39\u001b[0m\n",
      "\u001b[34m[2020-07-25:23:13:05:INFO] Model loaded successfully for worker : 38\u001b[0m\n",
      "\u001b[34m[2020-07-25 23:13:05 +0000] [40] [INFO] Booting worker with pid: 40\u001b[0m\n",
      "\u001b[34m[2020-07-25:23:13:05:INFO] Model loaded successfully for worker : 39\u001b[0m\n",
      "\u001b[34m[2020-07-25 23:13:05 +0000] [41] [INFO] Booting worker with pid: 41\u001b[0m\n",
      "\u001b[34m[2020-07-25:23:13:05:INFO] Model loaded successfully for worker : 40\u001b[0m\n",
      "\u001b[34m[2020-07-25:23:13:05:INFO] Model loaded successfully for worker : 41\u001b[0m\n",
      "\n",
      "\u001b[34m[2020-07-25:23:13:41:INFO] Sniff delimiter as ','\u001b[0m\n",
      "\u001b[34m[2020-07-25:23:13:41:INFO] Determined delimiter of CSV input is ','\u001b[0m\n",
      "\u001b[35m[2020-07-25:23:13:41:INFO] Sniff delimiter as ','\u001b[0m\n",
      "\u001b[35m[2020-07-25:23:13:41:INFO] Determined delimiter of CSV input is ','\u001b[0m\n",
      "\u001b[34m[2020-07-25:23:13:41:INFO] Sniff delimiter as ','\u001b[0m\n",
      "\u001b[34m[2020-07-25:23:13:41:INFO] Determined delimiter of CSV input is ','\u001b[0m\n",
      "\u001b[35m[2020-07-25:23:13:41:INFO] Sniff delimiter as ','\u001b[0m\n",
      "\u001b[35m[2020-07-25:23:13:41:INFO] Determined delimiter of CSV input is ','\u001b[0m\n",
      "\u001b[32m2020-07-25T23:13:40.816:[sagemaker logs]: MaxConcurrentTransforms=4, MaxPayloadInMB=6, BatchStrategy=MULTI_RECORD\u001b[0m\n"
     ]
    }
   ],
   "source": [
    "new_xgb_transformer.transform(test_location, content_type='text/csv', split_type='Line')\n",
    "new_xgb_transformer.wait()"
   ]
  },
  {
   "cell_type": "code",
   "execution_count": 80,
   "metadata": {},
   "outputs": [
    {
     "name": "stdout",
     "output_type": "stream",
     "text": [
      "Completed 14.5 KiB/14.5 KiB (201.0 KiB/s) with 1 file(s) remaining\r",
      "download: s3://sagemaker-us-west-2-216538981855/xgboost-2020-07-25-23-09-50-148/test.csv.out to ../data/sentiment_update/test.csv.out\r\n"
     ]
    }
   ],
   "source": [
    "!aws s3 cp --recursive $new_xgb_transformer.output_path $data_dir"
   ]
  },
  {
   "cell_type": "code",
   "execution_count": 81,
   "metadata": {},
   "outputs": [],
   "source": [
    "predictions = pd.read_csv(os.path.join(data_dir, 'test.csv.out'), header=None)\n",
    "predictions = [round(num) for num in predictions.squeeze().values]"
   ]
  },
  {
   "cell_type": "code",
   "execution_count": 82,
   "metadata": {},
   "outputs": [
    {
     "data": {
      "text/plain": [
       "0.65"
      ]
     },
     "execution_count": 82,
     "metadata": {},
     "output_type": "execute_result"
    }
   ],
   "source": [
    "accuracy_score(test_Y, predictions[:1000])"
   ]
  },
  {
   "cell_type": "markdown",
   "metadata": {},
   "source": [
    "It would appear that our new XGBoost model is performing quite well on the old test data. This gives us some indication that our new model should be put into production and replace our original model."
   ]
  },
  {
   "cell_type": "markdown",
   "metadata": {},
   "source": [
    "## Step 6: (TODO) Updating the Model\n",
    "\n",
    "So we have a new model that we'd like to use instead of one that is already deployed. Furthermore, we are assuming that the model that is already deployed is being used in some sort of application. As a result, what we want to do is update the existing endpoint so that it uses our new model.\n",
    "\n",
    "Of course, to do this we need to create an endpoint configuration for our newly created model.\n",
    "\n",
    "First, note that we can access the name of the model that we created above using the `model_name` property of the transformer. The reason for this is that in order for the transformer to create a batch transform job it needs to first create the model object inside of SageMaker. Since we've sort of already done this we should take advantage of it."
   ]
  },
  {
   "cell_type": "code",
   "execution_count": 83,
   "metadata": {},
   "outputs": [
    {
     "data": {
      "text/plain": [
       "'xgboost-2020-07-25-23-06-35-561'"
      ]
     },
     "execution_count": 83,
     "metadata": {},
     "output_type": "execute_result"
    }
   ],
   "source": [
    "new_xgb_transformer.model_name"
   ]
  },
  {
   "cell_type": "markdown",
   "metadata": {},
   "source": [
    "Next, we create an endpoint configuration using the low level approach of creating the dictionary object which describes the endpoint configuration we want.\n",
    "\n",
    "**TODO:** Using the low level approach, create a new endpoint configuration. Don't forget that it needs a name and that the name needs to be unique. If you get stuck, try looking at the Boston Housing Low Level Deployment tutorial notebook."
   ]
  },
  {
   "cell_type": "code",
   "execution_count": 85,
   "metadata": {},
   "outputs": [],
   "source": [
    "from time import gmtime, strftime\n",
    "\n",
    "\n",
    "# TODO: Give our endpoint configuration a name. Remember, it needs to be unique.\n",
    "new_xgb_endpoint_config_name = \"IMDB-sentiment-endpoint-config-update\" + strftime(\"%Y-%m-%d-%H-%M-%S\", gmtime())\n",
    "\n",
    "\n",
    "# TODO: Using the SageMaker Client, construct the endpoint configuration.\n",
    "new_xgb_endpoint_config_info = session.sagemaker_client.create_endpoint_config(\n",
    "                            EndpointConfigName = new_xgb_endpoint_config_name,\n",
    "                            ProductionVariants = [{\n",
    "                                \"InstanceType\": \"ml.m4.xlarge\",\n",
    "                                \"InitialVariantWeight\": 1,\n",
    "                                \"InitialInstanceCount\": 1,\n",
    "                                \"ModelName\": new_xgb_transformer.model_name,\n",
    "                                \"VariantName\": \"AllTraffic\"\n",
    "                            }])"
   ]
  },
  {
   "cell_type": "markdown",
   "metadata": {},
   "source": [
    "Once the endpoint configuration has been constructed, it is a straightforward matter to ask SageMaker to update the existing endpoint so that it uses the new endpoint configuration.\n",
    "\n",
    "Of note here is that SageMaker does this in such a way that there is no downtime. Essentially, SageMaker deploys the new model and then updates the original endpoint so that it points to the newly deployed model. After that, the original model is shut down. This way, whatever app is using our endpoint won't notice that we've changed the model that is being used.\n",
    "\n",
    "**TODO:** Use the SageMaker Client to update the endpoint that you deployed earlier."
   ]
  },
  {
   "cell_type": "code",
   "execution_count": null,
   "metadata": {},
   "outputs": [],
   "source": [
    "# TODO: Update the xgb_predictor.endpoint so that it uses new_xgb_endpoint_config_name.\n",
    "session.sagemaker_client.update_endpoint(EndpointName=xgb_predictor.endpoint, EndpointConfigName=new_xgb_endpoint_config_name)"
   ]
  },
  {
   "cell_type": "markdown",
   "metadata": {},
   "source": [
    "And, as is generally the case with SageMaker requests, this is being done in the background so if we want to wait for it to complete we need to call the appropriate method."
   ]
  },
  {
   "cell_type": "code",
   "execution_count": null,
   "metadata": {},
   "outputs": [],
   "source": [
    "session.wait_for_endpoint(xgb_predictor.endpoint)"
   ]
  },
  {
   "cell_type": "markdown",
   "metadata": {},
   "source": [
    "## Step 7: Delete the Endpoint\n",
    "\n",
    "Of course, since we are done with the deployed endpoint we need to make sure to shut it down, otherwise we will continue to be charged for it."
   ]
  },
  {
   "cell_type": "code",
   "execution_count": null,
   "metadata": {},
   "outputs": [],
   "source": [
    "xgb_predictor.delete_endpoint()"
   ]
  },
  {
   "cell_type": "markdown",
   "metadata": {},
   "source": [
    "## Some Additional Questions\n",
    "\n",
    "This notebook is a little different from the other notebooks in this module. In part, this is because it is meant to be a little bit closer to the type of problem you may face in a real world scenario. Of course, this problem is a very easy one with a prescribed solution, but there are many other interesting questions that we did not consider here and that you may wish to consider yourself.\n",
    "\n",
    "For example,\n",
    "- What other ways could the underlying distribution change?\n",
    "- Is it a good idea to re-train the model using only the new data?\n",
    "- What would change if the quantity of new data wasn't large. Say you only received 500 samples?\n"
   ]
  },
  {
   "cell_type": "markdown",
   "metadata": {},
   "source": [
    "## Optional: Clean up\n",
    "\n",
    "The default notebook instance on SageMaker doesn't have a lot of excess disk space available. As you continue to complete and execute notebooks you will eventually fill up this disk space, leading to errors which can be difficult to diagnose. Once you are completely finished using a notebook it is a good idea to remove the files that you created along the way. Of course, you can do this from the terminal or from the notebook hub if you would like. The cell below contains some commands to clean up the created files from within the notebook."
   ]
  },
  {
   "cell_type": "code",
   "execution_count": 88,
   "metadata": {},
   "outputs": [],
   "source": [
    "# First we will remove all of the files contained in the data_dir directory\n",
    "!rm $data_dir/*\n",
    "\n",
    "# And then we delete the directory itself\n",
    "!rmdir $data_dir\n",
    "\n",
    "# Similarly we will remove the files in the cache_dir directory and the directory itself\n",
    "!rm $cache_dir/*\n",
    "!rmdir $cache_dir"
   ]
  },
  {
   "cell_type": "code",
   "execution_count": null,
   "metadata": {},
   "outputs": [],
   "source": []
  }
 ],
 "metadata": {
  "kernelspec": {
   "display_name": "conda_pytorch_p36",
   "language": "python",
   "name": "conda_pytorch_p36"
  },
  "language_info": {
   "codemirror_mode": {
    "name": "ipython",
    "version": 3
   },
   "file_extension": ".py",
   "mimetype": "text/x-python",
   "name": "python",
   "nbconvert_exporter": "python",
   "pygments_lexer": "ipython3",
   "version": "3.6.10"
  }
 },
 "nbformat": 4,
 "nbformat_minor": 2
}

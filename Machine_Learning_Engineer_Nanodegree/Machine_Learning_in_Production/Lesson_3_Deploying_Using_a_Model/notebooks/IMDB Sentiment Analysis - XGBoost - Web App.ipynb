{
 "cells": [
  {
   "cell_type": "markdown",
   "metadata": {},
   "source": [
    "# Sentiment Analysis Web App\n",
    "\n",
    "_Deep Learning Nanodegree Program | Deployment_\n",
    "\n",
    "---\n",
    "\n",
    "In this notebook we will use Amazon's SageMaker service to construct a random tree model to predict the sentiment of a movie review. In addition, we will deploy this model to an endpoint and construct a very simple web app which will interact with our model's deployed endpoint.\n",
    "\n",
    "## General Outline\n",
    "\n",
    "Typically, when using a notebook instance with SageMaker, you will proceed through the following steps. Of course, not every step will need to be done with each project. Also, there is quite a lot of room for variation in many of the steps, as you will see throughout these lessons.\n",
    "\n",
    "1. Download or otherwise retrieve the data.\n",
    "2. Process / Prepare the data.\n",
    "3. Upload the processed data to S3.\n",
    "4. Train a chosen model.\n",
    "5. Test the trained model (typically using a batch transform job).\n",
    "6. Deploy the trained model.\n",
    "7. Use the deployed model.\n",
    "\n",
    "In this notebook we will progress through each of the steps above. We will also see that the final step, using the deployed model, can be quite challenging."
   ]
  },
  {
   "cell_type": "markdown",
   "metadata": {},
   "source": [
    "## Step 1: Downloading the data\n",
    "\n",
    "The dataset we are going to use is very popular among researchers in Natural Language Processing, usually referred to as the [IMDb dataset](http://ai.stanford.edu/~amaas/data/sentiment/). It consists of movie reviews from the website [imdb.com](http://www.imdb.com/), each labeled as either '**pos**itive', if the reviewer enjoyed the film, or '**neg**ative' otherwise.\n",
    "\n",
    "> Maas, Andrew L., et al. [Learning Word Vectors for Sentiment Analysis](http://ai.stanford.edu/~amaas/data/sentiment/). In _Proceedings of the 49th Annual Meeting of the Association for Computational Linguistics: Human Language Technologies_. Association for Computational Linguistics, 2011.\n",
    "\n",
    "We begin by using some Jupyter Notebook magic to download and extract the dataset."
   ]
  },
  {
   "cell_type": "code",
   "execution_count": 1,
   "metadata": {},
   "outputs": [
    {
     "name": "stdout",
     "output_type": "stream",
     "text": [
      "mkdir: cannot create directory ‘../data’: File exists\n",
      "--2020-07-23 23:31:07--  http://ai.stanford.edu/~amaas/data/sentiment/aclImdb_v1.tar.gz\n",
      "Resolving ai.stanford.edu (ai.stanford.edu)... 171.64.68.10\n",
      "Connecting to ai.stanford.edu (ai.stanford.edu)|171.64.68.10|:80... connected.\n",
      "HTTP request sent, awaiting response... 200 OK\n",
      "Length: 84125825 (80M) [application/x-gzip]\n",
      "Saving to: ‘../data/aclImdb_v1.tar.gz’\n",
      "\n",
      "../data/aclImdb_v1. 100%[===================>]  80.23M  42.0MB/s    in 1.9s    \n",
      "\n",
      "2020-07-23 23:31:09 (42.0 MB/s) - ‘../data/aclImdb_v1.tar.gz’ saved [84125825/84125825]\n",
      "\n"
     ]
    }
   ],
   "source": [
    "%mkdir ../data\n",
    "!wget -O ../data/aclImdb_v1.tar.gz http://ai.stanford.edu/~amaas/data/sentiment/aclImdb_v1.tar.gz\n",
    "!tar -zxf ../data/aclImdb_v1.tar.gz -C ../data"
   ]
  },
  {
   "cell_type": "markdown",
   "metadata": {},
   "source": [
    "## Step 2: Preparing and Processing the data\n",
    "\n",
    "The data we have downloaded is split into various files, each of which contains a single review. It will be much easier going forward if we combine these individual files into two large files, one for training and one for testing."
   ]
  },
  {
   "cell_type": "code",
   "execution_count": 2,
   "metadata": {},
   "outputs": [],
   "source": [
    "import os\n",
    "import glob\n",
    "\n",
    "def read_imdb_data(data_dir='../data/aclImdb'):\n",
    "    data = {}\n",
    "    labels = {}\n",
    "    \n",
    "    for data_type in ['train', 'test']:\n",
    "        data[data_type] = {}\n",
    "        labels[data_type] = {}\n",
    "        \n",
    "        for sentiment in ['pos', 'neg']:\n",
    "            data[data_type][sentiment] = []\n",
    "            labels[data_type][sentiment] = []\n",
    "            \n",
    "            path = os.path.join(data_dir, data_type, sentiment, '*.txt')\n",
    "            files = glob.glob(path)\n",
    "            \n",
    "            for f in files:\n",
    "                with open(f) as review:\n",
    "                    data[data_type][sentiment].append(review.read())\n",
    "                    # Here we represent a positive review by '1' and a negative review by '0'\n",
    "                    labels[data_type][sentiment].append(1 if sentiment == 'pos' else 0)\n",
    "                    \n",
    "            assert len(data[data_type][sentiment]) == len(labels[data_type][sentiment]), \\\n",
    "                    \"{}/{} data size does not match labels size\".format(data_type, sentiment)\n",
    "                \n",
    "    return data, labels"
   ]
  },
  {
   "cell_type": "code",
   "execution_count": 3,
   "metadata": {},
   "outputs": [
    {
     "name": "stdout",
     "output_type": "stream",
     "text": [
      "IMDB reviews: train = 12500 pos / 12500 neg, test = 12500 pos / 12500 neg\n"
     ]
    }
   ],
   "source": [
    "data, labels = read_imdb_data()\n",
    "print(\"IMDB reviews: train = {} pos / {} neg, test = {} pos / {} neg\".format(\n",
    "            len(data['train']['pos']), len(data['train']['neg']),\n",
    "            len(data['test']['pos']), len(data['test']['neg'])))"
   ]
  },
  {
   "cell_type": "code",
   "execution_count": 4,
   "metadata": {},
   "outputs": [],
   "source": [
    "from sklearn.utils import shuffle\n",
    "\n",
    "def prepare_imdb_data(data, labels):\n",
    "    \"\"\"Prepare training and test sets from IMDb movie reviews.\"\"\"\n",
    "    \n",
    "    #Combine positive and negative reviews and labels\n",
    "    data_train = data['train']['pos'] + data['train']['neg']\n",
    "    data_test = data['test']['pos'] + data['test']['neg']\n",
    "    labels_train = labels['train']['pos'] + labels['train']['neg']\n",
    "    labels_test = labels['test']['pos'] + labels['test']['neg']\n",
    "    \n",
    "    #Shuffle reviews and corresponding labels within training and test sets\n",
    "    data_train, labels_train = shuffle(data_train, labels_train)\n",
    "    data_test, labels_test = shuffle(data_test, labels_test)\n",
    "    \n",
    "    # Return a unified training data, test data, training labels, test labets\n",
    "    return data_train, data_test, labels_train, labels_test"
   ]
  },
  {
   "cell_type": "code",
   "execution_count": 5,
   "metadata": {},
   "outputs": [
    {
     "name": "stdout",
     "output_type": "stream",
     "text": [
      "IMDb reviews (combined): train = 25000, test = 25000\n"
     ]
    }
   ],
   "source": [
    "train_X, test_X, train_y, test_y = prepare_imdb_data(data, labels)\n",
    "print(\"IMDb reviews (combined): train = {}, test = {}\".format(len(train_X), len(test_X)))"
   ]
  },
  {
   "cell_type": "code",
   "execution_count": 6,
   "metadata": {},
   "outputs": [
    {
     "data": {
      "text/plain": [
       "\"Last November, I had a chance to see this film at the Reno Film Festival. I have to say that it was a lot of fun. A few tech errors aside, it was a great experience. I loved the writing and acting, especially from the guy that played the lead role. There is a lot of heart in this movie, a lot of wit to. I got a chance to speak with a few of the filmmakers after it was done, and they seemed real nice. All in all the whole movie was just a positive experience, and one I'd definitely recommend. The story was entertaining and cool, as a woman I've been through a lot of the same problems as the lead guy, and I could really understand his problems because of it. The movie does a great job of giving us people we can sympathize with. The friends in the movie are really well written to, they are realistic. I know people like these, I only wish Imy friends and I could sound as cool as these people when we talk. The whole movie is just real cool, I wish there were more films out there like it.<br /><br />- Jayden\""
      ]
     },
     "execution_count": 6,
     "metadata": {},
     "output_type": "execute_result"
    }
   ],
   "source": [
    "train_X[100]"
   ]
  },
  {
   "cell_type": "markdown",
   "metadata": {},
   "source": [
    "## Processing the data\n",
    "\n",
    "Now that we have our training and testing datasets merged and ready to use, we need to start processing the raw data into something that will be useable by our machine learning algorithm. To begin with, we remove any html formatting and any non-alpha numeric characters that may appear in the reviews. We will do this in a very simplistic way using Python's regular expression module. We will discuss the reason for this rather simplistic pre-processing later on."
   ]
  },
  {
   "cell_type": "code",
   "execution_count": 7,
   "metadata": {},
   "outputs": [],
   "source": [
    "import re\n",
    "\n",
    "# Remove any punctuation\n",
    "REPLACE_NO_SPACE = re.compile(\"(\\.)|(\\;)|(\\:)|(\\!)|(\\')|(\\?)|(\\,)|(\\\")|(\\()|(\\))|(\\[)|(\\])\")\n",
    "\n",
    "# Remove any HTML formatting \n",
    "REPLACE_WITH_SPACE = re.compile(\"(<br\\s*/><br\\s*/>)|(\\-)|(\\/)\")\n",
    "\n",
    "def review_to_words(review):\n",
    "    words = REPLACE_NO_SPACE.sub(\"\", review.lower())\n",
    "    words = REPLACE_WITH_SPACE.sub(\" \", words)\n",
    "    return words"
   ]
  },
  {
   "cell_type": "code",
   "execution_count": 8,
   "metadata": {},
   "outputs": [
    {
     "data": {
      "text/plain": [
       "'last november i had a chance to see this film at the reno film festival i have to say that it was a lot of fun a few tech errors aside it was a great experience i loved the writing and acting especially from the guy that played the lead role there is a lot of heart in this movie a lot of wit to i got a chance to speak with a few of the filmmakers after it was done and they seemed real nice all in all the whole movie was just a positive experience and one id definitely recommend the story was entertaining and cool as a woman ive been through a lot of the same problems as the lead guy and i could really understand his problems because of it the movie does a great job of giving us people we can sympathize with the friends in the movie are really well written to they are realistic i know people like these i only wish imy friends and i could sound as cool as these people when we talk the whole movie is just real cool i wish there were more films out there like it   jayden'"
      ]
     },
     "execution_count": 8,
     "metadata": {},
     "output_type": "execute_result"
    }
   ],
   "source": [
    "review_to_words(train_X[100])"
   ]
  },
  {
   "cell_type": "code",
   "execution_count": 9,
   "metadata": {},
   "outputs": [],
   "source": [
    "import pickle\n",
    "\n",
    "cache_dir = os.path.join(\"../cache\", \"sentiment_web_app\")  # where to store cache files\n",
    "os.makedirs(cache_dir, exist_ok=True)  # ensure cache directory exists\n",
    "\n",
    "def preprocess_data(data_train, data_test, labels_train, labels_test,\n",
    "                    cache_dir=cache_dir, cache_file=\"preprocessed_data.pkl\"):\n",
    "    \"\"\"Convert each review to words; read from cache if available.\"\"\"\n",
    "\n",
    "    # If cache_file is not None, try to read from it first\n",
    "    cache_data = None\n",
    "    if cache_file is not None:\n",
    "        try:\n",
    "            with open(os.path.join(cache_dir, cache_file), \"rb\") as f:\n",
    "                cache_data = pickle.load(f)\n",
    "            print(\"Read preprocessed data from cache file:\", cache_file)\n",
    "        except:\n",
    "            pass  # unable to read from cache, but that's okay\n",
    "    \n",
    "    # If cache is missing, then do the heavy lifting\n",
    "    if cache_data is None:\n",
    "        # Preprocess training and test data to obtain words for each review\n",
    "        #words_train = list(map(review_to_words, data_train))\n",
    "        #words_test = list(map(review_to_words, data_test))\n",
    "        words_train = [review_to_words(review) for review in data_train]\n",
    "        words_test = [review_to_words(review) for review in data_test]\n",
    "        \n",
    "        # Write to cache file for future runs\n",
    "        if cache_file is not None:\n",
    "            cache_data = dict(words_train=words_train, words_test=words_test,\n",
    "                              labels_train=labels_train, labels_test=labels_test)\n",
    "            with open(os.path.join(cache_dir, cache_file), \"wb\") as f:\n",
    "                pickle.dump(cache_data, f)\n",
    "            print(\"Wrote preprocessed data to cache file:\", cache_file)\n",
    "    else:\n",
    "        # Unpack data loaded from cache file\n",
    "        words_train, words_test, labels_train, labels_test = (cache_data['words_train'],\n",
    "                cache_data['words_test'], cache_data['labels_train'], cache_data['labels_test'])\n",
    "    \n",
    "    return words_train, words_test, labels_train, labels_test"
   ]
  },
  {
   "cell_type": "code",
   "execution_count": 10,
   "metadata": {},
   "outputs": [
    {
     "name": "stdout",
     "output_type": "stream",
     "text": [
      "Wrote preprocessed data to cache file: preprocessed_data.pkl\n"
     ]
    }
   ],
   "source": [
    "# Preprocess data\n",
    "train_X, test_X, train_y, test_y = preprocess_data(train_X, test_X, train_y, test_y)"
   ]
  },
  {
   "cell_type": "markdown",
   "metadata": {},
   "source": [
    "### Extract Bag-of-Words features\n",
    "\n",
    "For the model we will be implementing, rather than using the reviews directly, we are going to transform each review into a Bag-of-Words feature representation. Keep in mind that 'in the wild' we will only have access to the training set so our transformer can only use the training set to construct a representation."
   ]
  },
  {
   "cell_type": "code",
   "execution_count": 11,
   "metadata": {},
   "outputs": [
    {
     "name": "stderr",
     "output_type": "stream",
     "text": [
      "/home/ec2-user/anaconda3/envs/python3/lib/python3.6/site-packages/sklearn/externals/joblib/__init__.py:15: FutureWarning: sklearn.externals.joblib is deprecated in 0.21 and will be removed in 0.23. Please import this functionality directly from joblib, which can be installed with: pip install joblib. If this warning is raised when loading pickled models, you may need to re-serialize those models with scikit-learn 0.21+.\n",
      "  warnings.warn(msg, category=FutureWarning)\n"
     ]
    }
   ],
   "source": [
    "import numpy as np\n",
    "from sklearn.feature_extraction.text import CountVectorizer\n",
    "from sklearn.externals import joblib\n",
    "# joblib is an enhanced version of pickle that is more efficient for storing NumPy arrays\n",
    "\n",
    "def extract_BoW_features(words_train, words_test, vocabulary_size=5000,\n",
    "                         cache_dir=cache_dir, cache_file=\"bow_features.pkl\"):\n",
    "    \"\"\"Extract Bag-of-Words for a given set of documents, already preprocessed into words.\"\"\"\n",
    "    \n",
    "    # If cache_file is not None, try to read from it first\n",
    "    cache_data = None\n",
    "    if cache_file is not None:\n",
    "        try:\n",
    "            with open(os.path.join(cache_dir, cache_file), \"rb\") as f:\n",
    "                cache_data = joblib.load(f)\n",
    "            print(\"Read features from cache file:\", cache_file)\n",
    "        except:\n",
    "            pass  # unable to read from cache, but that's okay\n",
    "    \n",
    "    # If cache is missing, then do the heavy lifting\n",
    "    if cache_data is None:\n",
    "        # Fit a vectorizer to training documents and use it to transform them\n",
    "        # NOTE: Training documents have already been preprocessed and tokenized into words;\n",
    "        #       pass in dummy functions to skip those steps, e.g. preprocessor=lambda x: x\n",
    "        vectorizer = CountVectorizer(max_features=vocabulary_size)\n",
    "        features_train = vectorizer.fit_transform(words_train).toarray()\n",
    "\n",
    "        # Apply the same vectorizer to transform the test documents (ignore unknown words)\n",
    "        features_test = vectorizer.transform(words_test).toarray()\n",
    "        \n",
    "        # NOTE: Remember to convert the features using .toarray() for a compact representation\n",
    "        \n",
    "        # Write to cache file for future runs (store vocabulary as well)\n",
    "        if cache_file is not None:\n",
    "            vocabulary = vectorizer.vocabulary_\n",
    "            cache_data = dict(features_train=features_train, features_test=features_test,\n",
    "                             vocabulary=vocabulary)\n",
    "            with open(os.path.join(cache_dir, cache_file), \"wb\") as f:\n",
    "                joblib.dump(cache_data, f)\n",
    "            print(\"Wrote features to cache file:\", cache_file)\n",
    "    else:\n",
    "        # Unpack data loaded from cache file\n",
    "        features_train, features_test, vocabulary = (cache_data['features_train'],\n",
    "                cache_data['features_test'], cache_data['vocabulary'])\n",
    "    \n",
    "    # Return both the extracted features as well as the vocabulary\n",
    "    return features_train, features_test, vocabulary"
   ]
  },
  {
   "cell_type": "code",
   "execution_count": 12,
   "metadata": {},
   "outputs": [
    {
     "name": "stdout",
     "output_type": "stream",
     "text": [
      "Wrote features to cache file: bow_features.pkl\n"
     ]
    }
   ],
   "source": [
    "# Extract Bag of Words features for both training and test datasets\n",
    "train_X, test_X, vocabulary = extract_BoW_features(train_X, test_X)"
   ]
  },
  {
   "cell_type": "code",
   "execution_count": 13,
   "metadata": {},
   "outputs": [
    {
     "data": {
      "text/plain": [
       "5000"
      ]
     },
     "execution_count": 13,
     "metadata": {},
     "output_type": "execute_result"
    }
   ],
   "source": [
    "len(train_X[100])"
   ]
  },
  {
   "cell_type": "markdown",
   "metadata": {},
   "source": [
    "## Step 3: Upload data to S3\n",
    "\n",
    "Now that we have created the feature representation of our training (and testing) data, it is time to start setting up and using the XGBoost classifier provided by SageMaker.\n",
    "\n",
    "### Writing the datasets\n",
    "\n",
    "The XGBoost classifier that we will be using requires the dataset to be written to a file and stored using Amazon S3. To do this, we will start by splitting the training dataset into two parts, the data we will train the model with and a validation set. Then, we will write those datasets to a file locally and then upload the files to S3. In addition, we will write the test set to a file and upload that file to S3. This is so that we can use SageMakers Batch Transform functionality to test our model once we've fit it."
   ]
  },
  {
   "cell_type": "code",
   "execution_count": 14,
   "metadata": {},
   "outputs": [],
   "source": [
    "import pandas as pd\n",
    "\n",
    "# Earlier we shuffled the training dataset so to make things simple we can just assign\n",
    "# the first 10 000 reviews to the validation set and use the remaining reviews for training.\n",
    "val_X = pd.DataFrame(train_X[:10000])\n",
    "train_X = pd.DataFrame(train_X[10000:])\n",
    "\n",
    "val_y = pd.DataFrame(train_y[:10000])\n",
    "train_y = pd.DataFrame(train_y[10000:])"
   ]
  },
  {
   "cell_type": "markdown",
   "metadata": {},
   "source": [
    "The documentation for the XGBoost algorithm in SageMaker requires that the training and validation datasets should contain no headers or index and that the label should occur first for each sample.\n",
    "\n",
    "For more information about this and other algorithms, the SageMaker developer documentation can be found on __[Amazon's website.](https://docs.aws.amazon.com/sagemaker/latest/dg/)__"
   ]
  },
  {
   "cell_type": "code",
   "execution_count": 15,
   "metadata": {},
   "outputs": [],
   "source": [
    "# First we make sure that the local directory in which we'd like to store the training and validation csv files exists.\n",
    "data_dir = '../data/sentiment_web_app'\n",
    "if not os.path.exists(data_dir):\n",
    "    os.makedirs(data_dir)"
   ]
  },
  {
   "cell_type": "code",
   "execution_count": 16,
   "metadata": {},
   "outputs": [],
   "source": [
    "pd.DataFrame(test_X).to_csv(os.path.join(data_dir, 'test.csv'), header=False, index=False)\n",
    "\n",
    "pd.concat([val_y, val_X], axis=1).to_csv(os.path.join(data_dir, 'validation.csv'), header=False, index=False)\n",
    "pd.concat([train_y, train_X], axis=1).to_csv(os.path.join(data_dir, 'train.csv'), header=False, index=False)"
   ]
  },
  {
   "cell_type": "code",
   "execution_count": 17,
   "metadata": {},
   "outputs": [],
   "source": [
    "# To save a bit of memory we can set text_X, train_X, val_X, train_y and val_y to None.\n",
    "\n",
    "test_X = train_X = val_X = train_y = val_y = None"
   ]
  },
  {
   "cell_type": "markdown",
   "metadata": {},
   "source": [
    "### Uploading Training / Validation files to S3\n",
    "\n",
    "Amazon's S3 service allows us to store files that can be accessed by both the built-in training models such as the XGBoost model we will be using as well as custom models such as the one we will see a little later.\n",
    "\n",
    "For this and most other tasks we will be doing using SageMaker, there are **two methods we could use**. The first is to use the **low level functionality** of SageMaker which requires **knowing each of the objects involved in the SageMaker environment**. The second is to use the **high level functionality** in which **certain choices have been made on the user's behalf**. The low level approach benefits from allowing the user a great deal of flexibility while the high level approach makes development much quicker. For our purposes we will opt to use the high level approach although using the low-level approach is certainly an option.\n",
    "\n",
    "Recall the method `upload_data()` which is a member of the object representing our current SageMaker session. What this method does is upload the data to the default bucket (which is created if it does not exist) into the path described by the key_prefix variable. To see this for yourself, once you have uploaded the data files, go to the S3 console and look to see where the files have been uploaded.\n",
    "\n",
    "For additional resources, see the __[SageMaker API documentation](http://sagemaker.readthedocs.io/en/latest/)__ and in addition the __[SageMaker Developer Guide.](https://docs.aws.amazon.com/sagemaker/latest/dg/)__"
   ]
  },
  {
   "cell_type": "code",
   "execution_count": 18,
   "metadata": {},
   "outputs": [],
   "source": [
    "import sagemaker\n",
    "\n",
    "session = sagemaker.Session() # Store the current SageMaker session\n",
    "\n",
    "# S3 prefix (which folder will we use)\n",
    "prefix = 'sentiment-web-app'\n",
    "\n",
    "test_location = session.upload_data(os.path.join(data_dir, 'test.csv'), key_prefix=prefix)\n",
    "val_location = session.upload_data(os.path.join(data_dir, 'validation.csv'), key_prefix=prefix)\n",
    "train_location = session.upload_data(os.path.join(data_dir, 'train.csv'), key_prefix=prefix)"
   ]
  },
  {
   "cell_type": "markdown",
   "metadata": {},
   "source": [
    "## Step 4: Creating the XGBoost model\n",
    "\n",
    "Now that the data has been uploaded it is time to create the XGBoost model. To begin with, we need to do some setup. At this point it is worth discussing **what a model is in SageMaker**. It is easiest to think of a model of **comprising three different objects** in the SageMaker ecosystem, which interact with one another.\n",
    "\n",
    "- Model Artifacts\n",
    "- Training Code (Container)\n",
    "- Inference Code (Container)\n",
    "\n",
    "The **Model Artifacts are** what you might think of as **the actual model itself**. For example, if you were building a neural network, the model artifacts would be the weights of the various layers. In our case, for an XGBoost model, the artifacts are the actual trees that are created during training.\n",
    "\n",
    "The other two objects, the training code and the inference code are then used to manipulate the training artifacts. More precisely, the **training code** uses the training data that is provided and **creates the model artifacts**, while the **inference code** uses the model artifacts to **make predictions on new data**.\n",
    "\n",
    "The way that SageMaker runs the training and inference code is by making use of Docker containers. For now, think of a container as being a way of packaging code up so that dependencies aren't an issue."
   ]
  },
  {
   "cell_type": "code",
   "execution_count": 19,
   "metadata": {},
   "outputs": [],
   "source": [
    "from sagemaker import get_execution_role\n",
    "\n",
    "# Our current execution role is required when creating the model as the training\n",
    "# and inference code will need to access the model artifacts.\n",
    "role = get_execution_role()"
   ]
  },
  {
   "cell_type": "code",
   "execution_count": 20,
   "metadata": {},
   "outputs": [
    {
     "name": "stderr",
     "output_type": "stream",
     "text": [
      "'get_image_uri' method will be deprecated in favor of 'ImageURIProvider' class in SageMaker Python SDK v2.\n",
      "WARNING:root:There is a more up to date SageMaker XGBoost image. To use the newer image, please set 'repo_version'='1.0-1'. For example:\n",
      "\tget_image_uri(region, 'xgboost', '1.0-1').\n"
     ]
    }
   ],
   "source": [
    "# We need to retrieve the location of the container which is provided by Amazon for using XGBoost.\n",
    "# As a matter of convenience, the training and inference code both use the same container.\n",
    "from sagemaker.amazon.amazon_estimator import get_image_uri\n",
    "\n",
    "container = get_image_uri(session.boto_region_name, 'xgboost')"
   ]
  },
  {
   "cell_type": "code",
   "execution_count": 21,
   "metadata": {},
   "outputs": [
    {
     "name": "stderr",
     "output_type": "stream",
     "text": [
      "WARNING:root:Parameter image_name will be renamed to image_uri in SageMaker Python SDK v2.\n"
     ]
    }
   ],
   "source": [
    "# First we create a SageMaker estimator object for our model.\n",
    "xgb = sagemaker.estimator.Estimator(container, # The location of the container we wish to use\n",
    "                                    role,                                    # What is our current IAM Role\n",
    "                                    train_instance_count=1,                  # How many compute instances\n",
    "                                    train_instance_type='ml.m4.xlarge',      # What kind of compute instances\n",
    "                                    output_path='s3://{}/{}/output'.format(session.default_bucket(), prefix),\n",
    "                                    sagemaker_session=session)\n",
    "\n",
    "# And then set the algorithm specific parameters.\n",
    "xgb.set_hyperparameters(max_depth=5,\n",
    "                        eta=0.2,\n",
    "                        gamma=4,\n",
    "                        min_child_weight=6,\n",
    "                        subsample=0.8,\n",
    "                        silent=0,\n",
    "                        objective='binary:logistic',\n",
    "                        early_stopping_rounds=10,\n",
    "                        num_round=500)"
   ]
  },
  {
   "cell_type": "markdown",
   "metadata": {},
   "source": [
    "### Fit the XGBoost model\n",
    "\n",
    "Now that our model has been set up we simply need to attach the training and validation datasets and then ask SageMaker to set up the computation."
   ]
  },
  {
   "cell_type": "code",
   "execution_count": 22,
   "metadata": {},
   "outputs": [
    {
     "name": "stderr",
     "output_type": "stream",
     "text": [
      "WARNING:sagemaker:'s3_input' class will be renamed to 'TrainingInput' in SageMaker Python SDK v2.\n",
      "WARNING:sagemaker:'s3_input' class will be renamed to 'TrainingInput' in SageMaker Python SDK v2.\n"
     ]
    }
   ],
   "source": [
    "s3_input_train = sagemaker.s3_input(s3_data=train_location, content_type='csv')\n",
    "s3_input_validation = sagemaker.s3_input(s3_data=val_location, content_type='csv')"
   ]
  },
  {
   "cell_type": "code",
   "execution_count": 23,
   "metadata": {},
   "outputs": [
    {
     "name": "stdout",
     "output_type": "stream",
     "text": [
      "2020-07-23 23:41:20 Starting - Starting the training job...\n",
      "2020-07-23 23:41:22 Starting - Launching requested ML instances......\n",
      "2020-07-23 23:42:41 Starting - Preparing the instances for training......\n",
      "2020-07-23 23:43:49 Downloading - Downloading input data...\n",
      "2020-07-23 23:44:11 Training - Downloading the training image..\n",
      "2020-07-23 23:44:31 Training - Training image download completed. Training in progress.\u001b[34mArguments: train\u001b[0m\n",
      "\u001b[34m[2020-07-23:23:44:31:INFO] Running standalone xgboost training.\u001b[0m\n",
      "\u001b[34m[2020-07-23:23:44:31:INFO] File size need to be processed in the node: 238.5mb. Available memory size in the node: 8485.17mb\u001b[0m\n",
      "\u001b[34m[2020-07-23:23:44:31:INFO] Determined delimiter of CSV input is ','\u001b[0m\n",
      "\u001b[34m[23:44:31] S3DistributionType set as FullyReplicated\u001b[0m\n",
      "\u001b[34m[23:44:33] 15000x5000 matrix with 75000000 entries loaded from /opt/ml/input/data/train?format=csv&label_column=0&delimiter=,\u001b[0m\n",
      "\u001b[34m[2020-07-23:23:44:33:INFO] Determined delimiter of CSV input is ','\u001b[0m\n",
      "\u001b[34m[23:44:33] S3DistributionType set as FullyReplicated\u001b[0m\n",
      "\u001b[34m[23:44:34] 10000x5000 matrix with 50000000 entries loaded from /opt/ml/input/data/validation?format=csv&label_column=0&delimiter=,\u001b[0m\n",
      "\u001b[34m[23:44:38] src/tree/updater_prune.cc:74: tree pruning end, 1 roots, 48 extra nodes, 2 pruned nodes, max_depth=5\u001b[0m\n",
      "\u001b[34m[0]#011train-error:0.295067#011validation-error:0.297\u001b[0m\n",
      "\u001b[34mMultiple eval metrics have been passed: 'validation-error' will be used for early stopping.\n",
      "\u001b[0m\n",
      "\u001b[34mWill train until validation-error hasn't improved in 10 rounds.\u001b[0m\n",
      "\u001b[34m[23:44:39] src/tree/updater_prune.cc:74: tree pruning end, 1 roots, 40 extra nodes, 4 pruned nodes, max_depth=5\u001b[0m\n",
      "\u001b[34m[1]#011train-error:0.290067#011validation-error:0.2942\u001b[0m\n",
      "\u001b[34m[23:44:41] src/tree/updater_prune.cc:74: tree pruning end, 1 roots, 40 extra nodes, 8 pruned nodes, max_depth=5\u001b[0m\n",
      "\u001b[34m[2]#011train-error:0.2892#011validation-error:0.2926\u001b[0m\n",
      "\u001b[34m[23:44:43] src/tree/updater_prune.cc:74: tree pruning end, 1 roots, 48 extra nodes, 2 pruned nodes, max_depth=5\u001b[0m\n",
      "\u001b[34m[3]#011train-error:0.2672#011validation-error:0.2724\u001b[0m\n",
      "\u001b[34m[23:44:44] src/tree/updater_prune.cc:74: tree pruning end, 1 roots, 30 extra nodes, 2 pruned nodes, max_depth=5\u001b[0m\n",
      "\u001b[34m[4]#011train-error:0.2724#011validation-error:0.2773\u001b[0m\n",
      "\u001b[34m[23:44:45] src/tree/updater_prune.cc:74: tree pruning end, 1 roots, 32 extra nodes, 2 pruned nodes, max_depth=5\u001b[0m\n",
      "\u001b[34m[5]#011train-error:0.2592#011validation-error:0.2627\u001b[0m\n",
      "\u001b[34m[23:44:46] src/tree/updater_prune.cc:74: tree pruning end, 1 roots, 42 extra nodes, 4 pruned nodes, max_depth=5\u001b[0m\n",
      "\u001b[34m[6]#011train-error:0.251733#011validation-error:0.2613\u001b[0m\n",
      "\u001b[34m[23:44:48] src/tree/updater_prune.cc:74: tree pruning end, 1 roots, 34 extra nodes, 6 pruned nodes, max_depth=5\u001b[0m\n",
      "\u001b[34m[7]#011train-error:0.241867#011validation-error:0.2518\u001b[0m\n",
      "\u001b[34m[23:44:49] src/tree/updater_prune.cc:74: tree pruning end, 1 roots, 36 extra nodes, 4 pruned nodes, max_depth=5\u001b[0m\n",
      "\u001b[34m[8]#011train-error:0.232533#011validation-error:0.244\u001b[0m\n",
      "\u001b[34m[23:44:50] src/tree/updater_prune.cc:74: tree pruning end, 1 roots, 32 extra nodes, 2 pruned nodes, max_depth=5\u001b[0m\n",
      "\u001b[34m[9]#011train-error:0.226933#011validation-error:0.2392\u001b[0m\n",
      "\u001b[34m[23:44:52] src/tree/updater_prune.cc:74: tree pruning end, 1 roots, 34 extra nodes, 6 pruned nodes, max_depth=5\u001b[0m\n",
      "\u001b[34m[10]#011train-error:0.2192#011validation-error:0.2367\u001b[0m\n",
      "\u001b[34m[23:44:53] src/tree/updater_prune.cc:74: tree pruning end, 1 roots, 28 extra nodes, 6 pruned nodes, max_depth=5\u001b[0m\n",
      "\u001b[34m[11]#011train-error:0.217667#011validation-error:0.2341\u001b[0m\n",
      "\u001b[34m[23:44:54] src/tree/updater_prune.cc:74: tree pruning end, 1 roots, 24 extra nodes, 10 pruned nodes, max_depth=5\u001b[0m\n",
      "\u001b[34m[12]#011train-error:0.211267#011validation-error:0.2282\u001b[0m\n",
      "\u001b[34m[23:44:56] src/tree/updater_prune.cc:74: tree pruning end, 1 roots, 34 extra nodes, 6 pruned nodes, max_depth=5\u001b[0m\n",
      "\u001b[34m[13]#011train-error:0.2082#011validation-error:0.226\u001b[0m\n",
      "\u001b[34m[23:44:57] src/tree/updater_prune.cc:74: tree pruning end, 1 roots, 28 extra nodes, 6 pruned nodes, max_depth=5\u001b[0m\n",
      "\u001b[34m[14]#011train-error:0.205467#011validation-error:0.2228\u001b[0m\n",
      "\u001b[34m[23:44:58] src/tree/updater_prune.cc:74: tree pruning end, 1 roots, 26 extra nodes, 8 pruned nodes, max_depth=5\u001b[0m\n",
      "\u001b[34m[15]#011train-error:0.2022#011validation-error:0.2196\u001b[0m\n",
      "\u001b[34m[23:44:59] src/tree/updater_prune.cc:74: tree pruning end, 1 roots, 28 extra nodes, 10 pruned nodes, max_depth=5\u001b[0m\n",
      "\u001b[34m[16]#011train-error:0.201467#011validation-error:0.2179\u001b[0m\n",
      "\u001b[34m[23:45:01] src/tree/updater_prune.cc:74: tree pruning end, 1 roots, 38 extra nodes, 6 pruned nodes, max_depth=5\u001b[0m\n",
      "\u001b[34m[17]#011train-error:0.196267#011validation-error:0.2161\u001b[0m\n",
      "\u001b[34m[23:45:02] src/tree/updater_prune.cc:74: tree pruning end, 1 roots, 28 extra nodes, 6 pruned nodes, max_depth=5\u001b[0m\n",
      "\u001b[34m[18]#011train-error:0.192133#011validation-error:0.2154\u001b[0m\n",
      "\u001b[34m[23:45:03] src/tree/updater_prune.cc:74: tree pruning end, 1 roots, 28 extra nodes, 6 pruned nodes, max_depth=5\u001b[0m\n",
      "\u001b[34m[19]#011train-error:0.1896#011validation-error:0.213\u001b[0m\n",
      "\u001b[34m[23:45:05] src/tree/updater_prune.cc:74: tree pruning end, 1 roots, 34 extra nodes, 4 pruned nodes, max_depth=5\u001b[0m\n",
      "\u001b[34m[20]#011train-error:0.187067#011validation-error:0.2112\u001b[0m\n",
      "\u001b[34m[23:45:06] src/tree/updater_prune.cc:74: tree pruning end, 1 roots, 28 extra nodes, 6 pruned nodes, max_depth=5\u001b[0m\n",
      "\u001b[34m[21]#011train-error:0.187133#011validation-error:0.2093\u001b[0m\n",
      "\u001b[34m[23:45:07] src/tree/updater_prune.cc:74: tree pruning end, 1 roots, 26 extra nodes, 8 pruned nodes, max_depth=5\u001b[0m\n",
      "\u001b[34m[22]#011train-error:0.184733#011validation-error:0.2071\u001b[0m\n",
      "\u001b[34m[23:45:09] src/tree/updater_prune.cc:74: tree pruning end, 1 roots, 24 extra nodes, 4 pruned nodes, max_depth=5\u001b[0m\n",
      "\u001b[34m[23]#011train-error:0.182667#011validation-error:0.2057\u001b[0m\n",
      "\u001b[34m[23:45:10] src/tree/updater_prune.cc:74: tree pruning end, 1 roots, 26 extra nodes, 8 pruned nodes, max_depth=5\u001b[0m\n",
      "\u001b[34m[24]#011train-error:0.180733#011validation-error:0.2036\u001b[0m\n",
      "\u001b[34m[23:45:11] src/tree/updater_prune.cc:74: tree pruning end, 1 roots, 16 extra nodes, 10 pruned nodes, max_depth=5\u001b[0m\n",
      "\u001b[34m[25]#011train-error:0.179#011validation-error:0.2006\u001b[0m\n",
      "\u001b[34m[23:45:13] src/tree/updater_prune.cc:74: tree pruning end, 1 roots, 20 extra nodes, 10 pruned nodes, max_depth=5\u001b[0m\n",
      "\u001b[34m[26]#011train-error:0.176267#011validation-error:0.1999\u001b[0m\n",
      "\u001b[34m[23:45:14] src/tree/updater_prune.cc:74: tree pruning end, 1 roots, 24 extra nodes, 8 pruned nodes, max_depth=5\u001b[0m\n",
      "\u001b[34m[27]#011train-error:0.174#011validation-error:0.1987\u001b[0m\n",
      "\u001b[34m[23:45:15] src/tree/updater_prune.cc:74: tree pruning end, 1 roots, 44 extra nodes, 4 pruned nodes, max_depth=5\u001b[0m\n",
      "\u001b[34m[28]#011train-error:0.172867#011validation-error:0.1979\u001b[0m\n",
      "\u001b[34m[23:45:17] src/tree/updater_prune.cc:74: tree pruning end, 1 roots, 34 extra nodes, 2 pruned nodes, max_depth=5\u001b[0m\n",
      "\u001b[34m[29]#011train-error:0.170067#011validation-error:0.1961\u001b[0m\n",
      "\u001b[34m[23:45:18] src/tree/updater_prune.cc:74: tree pruning end, 1 roots, 30 extra nodes, 8 pruned nodes, max_depth=5\u001b[0m\n",
      "\u001b[34m[30]#011train-error:0.167733#011validation-error:0.1939\u001b[0m\n",
      "\u001b[34m[23:45:19] src/tree/updater_prune.cc:74: tree pruning end, 1 roots, 44 extra nodes, 2 pruned nodes, max_depth=5\u001b[0m\n",
      "\u001b[34m[31]#011train-error:0.166133#011validation-error:0.1921\u001b[0m\n",
      "\u001b[34m[23:45:21] src/tree/updater_prune.cc:74: tree pruning end, 1 roots, 28 extra nodes, 6 pruned nodes, max_depth=5\u001b[0m\n",
      "\u001b[34m[32]#011train-error:0.163867#011validation-error:0.1911\u001b[0m\n",
      "\u001b[34m[23:45:22] src/tree/updater_prune.cc:74: tree pruning end, 1 roots, 22 extra nodes, 6 pruned nodes, max_depth=5\u001b[0m\n",
      "\u001b[34m[33]#011train-error:0.162667#011validation-error:0.19\u001b[0m\n",
      "\u001b[34m[23:45:23] src/tree/updater_prune.cc:74: tree pruning end, 1 roots, 18 extra nodes, 12 pruned nodes, max_depth=5\u001b[0m\n",
      "\u001b[34m[34]#011train-error:0.160467#011validation-error:0.1888\u001b[0m\n",
      "\u001b[34m[23:45:24] src/tree/updater_prune.cc:74: tree pruning end, 1 roots, 24 extra nodes, 2 pruned nodes, max_depth=5\u001b[0m\n",
      "\u001b[34m[35]#011train-error:0.159333#011validation-error:0.1879\u001b[0m\n",
      "\u001b[34m[23:45:26] src/tree/updater_prune.cc:74: tree pruning end, 1 roots, 26 extra nodes, 10 pruned nodes, max_depth=5\u001b[0m\n",
      "\u001b[34m[36]#011train-error:0.1578#011validation-error:0.1864\u001b[0m\n",
      "\u001b[34m[23:45:27] src/tree/updater_prune.cc:74: tree pruning end, 1 roots, 18 extra nodes, 12 pruned nodes, max_depth=5\u001b[0m\n",
      "\u001b[34m[37]#011train-error:0.156533#011validation-error:0.1858\u001b[0m\n",
      "\u001b[34m[23:45:28] src/tree/updater_prune.cc:74: tree pruning end, 1 roots, 16 extra nodes, 6 pruned nodes, max_depth=5\u001b[0m\n",
      "\u001b[34m[38]#011train-error:0.156533#011validation-error:0.1845\u001b[0m\n"
     ]
    },
    {
     "name": "stdout",
     "output_type": "stream",
     "text": [
      "\u001b[34m[23:45:30] src/tree/updater_prune.cc:74: tree pruning end, 1 roots, 22 extra nodes, 12 pruned nodes, max_depth=5\u001b[0m\n",
      "\u001b[34m[39]#011train-error:0.156267#011validation-error:0.1824\u001b[0m\n",
      "\u001b[34m[23:45:31] src/tree/updater_prune.cc:74: tree pruning end, 1 roots, 26 extra nodes, 10 pruned nodes, max_depth=5\u001b[0m\n",
      "\u001b[34m[40]#011train-error:0.153867#011validation-error:0.1832\u001b[0m\n",
      "\u001b[34m[23:45:32] src/tree/updater_prune.cc:74: tree pruning end, 1 roots, 34 extra nodes, 4 pruned nodes, max_depth=5\u001b[0m\n",
      "\u001b[34m[41]#011train-error:0.1514#011validation-error:0.1814\u001b[0m\n",
      "\u001b[34m[23:45:34] src/tree/updater_prune.cc:74: tree pruning end, 1 roots, 32 extra nodes, 10 pruned nodes, max_depth=5\u001b[0m\n",
      "\u001b[34m[42]#011train-error:0.149933#011validation-error:0.1808\u001b[0m\n",
      "\u001b[34m[23:45:35] src/tree/updater_prune.cc:74: tree pruning end, 1 roots, 32 extra nodes, 4 pruned nodes, max_depth=5\u001b[0m\n",
      "\u001b[34m[43]#011train-error:0.148533#011validation-error:0.1799\u001b[0m\n",
      "\u001b[34m[23:45:36] src/tree/updater_prune.cc:74: tree pruning end, 1 roots, 30 extra nodes, 12 pruned nodes, max_depth=5\u001b[0m\n",
      "\u001b[34m[44]#011train-error:0.146933#011validation-error:0.1793\u001b[0m\n",
      "\u001b[34m[23:45:37] src/tree/updater_prune.cc:74: tree pruning end, 1 roots, 10 extra nodes, 12 pruned nodes, max_depth=5\u001b[0m\n",
      "\u001b[34m[45]#011train-error:0.145333#011validation-error:0.1783\u001b[0m\n",
      "\u001b[34m[23:45:39] src/tree/updater_prune.cc:74: tree pruning end, 1 roots, 26 extra nodes, 6 pruned nodes, max_depth=5\u001b[0m\n",
      "\u001b[34m[46]#011train-error:0.144933#011validation-error:0.1782\u001b[0m\n",
      "\u001b[34m[23:45:40] src/tree/updater_prune.cc:74: tree pruning end, 1 roots, 26 extra nodes, 8 pruned nodes, max_depth=5\u001b[0m\n",
      "\u001b[34m[47]#011train-error:0.1426#011validation-error:0.1787\u001b[0m\n",
      "\u001b[34m[23:45:41] src/tree/updater_prune.cc:74: tree pruning end, 1 roots, 36 extra nodes, 8 pruned nodes, max_depth=5\u001b[0m\n",
      "\u001b[34m[48]#011train-error:0.1418#011validation-error:0.1761\u001b[0m\n",
      "\u001b[34m[23:45:43] src/tree/updater_prune.cc:74: tree pruning end, 1 roots, 40 extra nodes, 8 pruned nodes, max_depth=5\u001b[0m\n",
      "\u001b[34m[49]#011train-error:0.141133#011validation-error:0.1751\u001b[0m\n",
      "\u001b[34m[23:45:44] src/tree/updater_prune.cc:74: tree pruning end, 1 roots, 18 extra nodes, 12 pruned nodes, max_depth=5\u001b[0m\n",
      "\u001b[34m[50]#011train-error:0.140733#011validation-error:0.1748\u001b[0m\n",
      "\u001b[34m[23:45:45] src/tree/updater_prune.cc:74: tree pruning end, 1 roots, 20 extra nodes, 4 pruned nodes, max_depth=5\u001b[0m\n",
      "\u001b[34m[51]#011train-error:0.138533#011validation-error:0.1747\u001b[0m\n",
      "\u001b[34m[23:45:47] src/tree/updater_prune.cc:74: tree pruning end, 1 roots, 26 extra nodes, 8 pruned nodes, max_depth=5\u001b[0m\n",
      "\u001b[34m[52]#011train-error:0.1366#011validation-error:0.1735\u001b[0m\n",
      "\u001b[34m[23:45:48] src/tree/updater_prune.cc:74: tree pruning end, 1 roots, 18 extra nodes, 12 pruned nodes, max_depth=5\u001b[0m\n",
      "\u001b[34m[53]#011train-error:0.136533#011validation-error:0.1735\u001b[0m\n",
      "\u001b[34m[23:45:49] src/tree/updater_prune.cc:74: tree pruning end, 1 roots, 18 extra nodes, 12 pruned nodes, max_depth=5\u001b[0m\n",
      "\u001b[34m[54]#011train-error:0.136467#011validation-error:0.1726\u001b[0m\n",
      "\u001b[34m[23:45:50] src/tree/updater_prune.cc:74: tree pruning end, 1 roots, 14 extra nodes, 8 pruned nodes, max_depth=5\u001b[0m\n",
      "\u001b[34m[55]#011train-error:0.135667#011validation-error:0.1724\u001b[0m\n",
      "\u001b[34m[23:45:52] src/tree/updater_prune.cc:74: tree pruning end, 1 roots, 50 extra nodes, 4 pruned nodes, max_depth=5\u001b[0m\n",
      "\u001b[34m[56]#011train-error:0.1324#011validation-error:0.1718\u001b[0m\n",
      "\u001b[34m[23:45:53] src/tree/updater_prune.cc:74: tree pruning end, 1 roots, 20 extra nodes, 8 pruned nodes, max_depth=5\u001b[0m\n",
      "\u001b[34m[57]#011train-error:0.131533#011validation-error:0.1704\u001b[0m\n",
      "\u001b[34m[23:45:54] src/tree/updater_prune.cc:74: tree pruning end, 1 roots, 32 extra nodes, 6 pruned nodes, max_depth=5\u001b[0m\n",
      "\u001b[34m[58]#011train-error:0.131733#011validation-error:0.1705\u001b[0m\n",
      "\u001b[34m[23:45:56] src/tree/updater_prune.cc:74: tree pruning end, 1 roots, 24 extra nodes, 14 pruned nodes, max_depth=5\u001b[0m\n",
      "\u001b[34m[59]#011train-error:0.130067#011validation-error:0.1704\u001b[0m\n",
      "\u001b[34m[23:45:57] src/tree/updater_prune.cc:74: tree pruning end, 1 roots, 16 extra nodes, 6 pruned nodes, max_depth=5\u001b[0m\n",
      "\u001b[34m[60]#011train-error:0.129133#011validation-error:0.1695\u001b[0m\n",
      "\u001b[34m[23:45:58] src/tree/updater_prune.cc:74: tree pruning end, 1 roots, 12 extra nodes, 8 pruned nodes, max_depth=5\u001b[0m\n",
      "\u001b[34m[61]#011train-error:0.128133#011validation-error:0.1688\u001b[0m\n",
      "\u001b[34m[23:46:00] src/tree/updater_prune.cc:74: tree pruning end, 1 roots, 20 extra nodes, 10 pruned nodes, max_depth=5\u001b[0m\n",
      "\u001b[34m[62]#011train-error:0.126333#011validation-error:0.1676\u001b[0m\n",
      "\u001b[34m[23:46:01] src/tree/updater_prune.cc:74: tree pruning end, 1 roots, 20 extra nodes, 12 pruned nodes, max_depth=5\u001b[0m\n",
      "\u001b[34m[63]#011train-error:0.126533#011validation-error:0.1675\u001b[0m\n",
      "\u001b[34m[23:46:02] src/tree/updater_prune.cc:74: tree pruning end, 1 roots, 20 extra nodes, 10 pruned nodes, max_depth=5\u001b[0m\n",
      "\u001b[34m[64]#011train-error:0.1252#011validation-error:0.1673\u001b[0m\n",
      "\u001b[34m[23:46:03] src/tree/updater_prune.cc:74: tree pruning end, 1 roots, 26 extra nodes, 2 pruned nodes, max_depth=5\u001b[0m\n",
      "\u001b[34m[65]#011train-error:0.124133#011validation-error:0.1669\u001b[0m\n",
      "\u001b[34m[23:46:05] src/tree/updater_prune.cc:74: tree pruning end, 1 roots, 12 extra nodes, 6 pruned nodes, max_depth=5\u001b[0m\n",
      "\u001b[34m[66]#011train-error:0.123667#011validation-error:0.1652\u001b[0m\n",
      "\u001b[34m[23:46:06] src/tree/updater_prune.cc:74: tree pruning end, 1 roots, 18 extra nodes, 12 pruned nodes, max_depth=5\u001b[0m\n",
      "\u001b[34m[67]#011train-error:0.123467#011validation-error:0.1652\u001b[0m\n",
      "\u001b[34m[23:46:07] src/tree/updater_prune.cc:74: tree pruning end, 1 roots, 18 extra nodes, 14 pruned nodes, max_depth=5\u001b[0m\n",
      "\u001b[34m[68]#011train-error:0.123467#011validation-error:0.1655\u001b[0m\n",
      "\u001b[34m[23:46:09] src/tree/updater_prune.cc:74: tree pruning end, 1 roots, 12 extra nodes, 8 pruned nodes, max_depth=5\u001b[0m\n",
      "\u001b[34m[69]#011train-error:0.123267#011validation-error:0.1647\u001b[0m\n",
      "\u001b[34m[23:46:10] src/tree/updater_prune.cc:74: tree pruning end, 1 roots, 12 extra nodes, 12 pruned nodes, max_depth=5\u001b[0m\n",
      "\u001b[34m[70]#011train-error:0.121733#011validation-error:0.1638\u001b[0m\n",
      "\u001b[34m[23:46:11] src/tree/updater_prune.cc:74: tree pruning end, 1 roots, 18 extra nodes, 6 pruned nodes, max_depth=5\u001b[0m\n",
      "\u001b[34m[71]#011train-error:0.121133#011validation-error:0.163\u001b[0m\n",
      "\u001b[34m[23:46:13] src/tree/updater_prune.cc:74: tree pruning end, 1 roots, 12 extra nodes, 6 pruned nodes, max_depth=5\u001b[0m\n",
      "\u001b[34m[72]#011train-error:0.121#011validation-error:0.1628\u001b[0m\n",
      "\u001b[34m[23:46:14] src/tree/updater_prune.cc:74: tree pruning end, 1 roots, 12 extra nodes, 10 pruned nodes, max_depth=5\u001b[0m\n",
      "\u001b[34m[73]#011train-error:0.12#011validation-error:0.163\u001b[0m\n",
      "\u001b[34m[23:46:15] src/tree/updater_prune.cc:74: tree pruning end, 1 roots, 22 extra nodes, 10 pruned nodes, max_depth=5\u001b[0m\n",
      "\u001b[34m[74]#011train-error:0.118667#011validation-error:0.163\u001b[0m\n",
      "\u001b[34m[23:46:16] src/tree/updater_prune.cc:74: tree pruning end, 1 roots, 30 extra nodes, 10 pruned nodes, max_depth=5\u001b[0m\n",
      "\u001b[34m[75]#011train-error:0.117267#011validation-error:0.1609\u001b[0m\n",
      "\u001b[34m[23:46:18] src/tree/updater_prune.cc:74: tree pruning end, 1 roots, 16 extra nodes, 4 pruned nodes, max_depth=5\u001b[0m\n",
      "\u001b[34m[76]#011train-error:0.117#011validation-error:0.1614\u001b[0m\n",
      "\u001b[34m[23:46:19] src/tree/updater_prune.cc:74: tree pruning end, 1 roots, 32 extra nodes, 6 pruned nodes, max_depth=5\u001b[0m\n",
      "\u001b[34m[77]#011train-error:0.115067#011validation-error:0.1607\u001b[0m\n",
      "\u001b[34m[23:46:20] src/tree/updater_prune.cc:74: tree pruning end, 1 roots, 10 extra nodes, 10 pruned nodes, max_depth=5\u001b[0m\n",
      "\u001b[34m[78]#011train-error:0.114533#011validation-error:0.1601\u001b[0m\n",
      "\u001b[34m[23:46:22] src/tree/updater_prune.cc:74: tree pruning end, 1 roots, 20 extra nodes, 18 pruned nodes, max_depth=5\u001b[0m\n",
      "\u001b[34m[79]#011train-error:0.1146#011validation-error:0.1596\u001b[0m\n",
      "\u001b[34m[23:46:23] src/tree/updater_prune.cc:74: tree pruning end, 1 roots, 24 extra nodes, 10 pruned nodes, max_depth=5\u001b[0m\n",
      "\u001b[34m[80]#011train-error:0.113467#011validation-error:0.1605\u001b[0m\n",
      "\u001b[34m[23:46:24] src/tree/updater_prune.cc:74: tree pruning end, 1 roots, 20 extra nodes, 10 pruned nodes, max_depth=5\u001b[0m\n",
      "\u001b[34m[81]#011train-error:0.113533#011validation-error:0.1609\u001b[0m\n",
      "\u001b[34m[23:46:26] src/tree/updater_prune.cc:74: tree pruning end, 1 roots, 32 extra nodes, 6 pruned nodes, max_depth=5\u001b[0m\n",
      "\u001b[34m[82]#011train-error:0.113#011validation-error:0.1603\u001b[0m\n",
      "\u001b[34m[23:46:27] src/tree/updater_prune.cc:74: tree pruning end, 1 roots, 10 extra nodes, 10 pruned nodes, max_depth=5\u001b[0m\n",
      "\u001b[34m[83]#011train-error:0.112867#011validation-error:0.1604\u001b[0m\n",
      "\u001b[34m[23:46:28] src/tree/updater_prune.cc:74: tree pruning end, 1 roots, 20 extra nodes, 4 pruned nodes, max_depth=5\u001b[0m\n",
      "\u001b[34m[84]#011train-error:0.112267#011validation-error:0.1607\u001b[0m\n",
      "\u001b[34m[23:46:30] src/tree/updater_prune.cc:74: tree pruning end, 1 roots, 24 extra nodes, 12 pruned nodes, max_depth=5\u001b[0m\n",
      "\u001b[34m[85]#011train-error:0.1114#011validation-error:0.1602\u001b[0m\n",
      "\u001b[34m[23:46:31] src/tree/updater_prune.cc:74: tree pruning end, 1 roots, 16 extra nodes, 10 pruned nodes, max_depth=5\u001b[0m\n",
      "\u001b[34m[86]#011train-error:0.110733#011validation-error:0.1592\u001b[0m\n",
      "\u001b[34m[23:46:32] src/tree/updater_prune.cc:74: tree pruning end, 1 roots, 28 extra nodes, 4 pruned nodes, max_depth=5\u001b[0m\n",
      "\u001b[34m[87]#011train-error:0.1102#011validation-error:0.1577\u001b[0m\n",
      "\u001b[34m[23:46:33] src/tree/updater_prune.cc:74: tree pruning end, 1 roots, 18 extra nodes, 8 pruned nodes, max_depth=5\u001b[0m\n",
      "\u001b[34m[88]#011train-error:0.1102#011validation-error:0.1565\u001b[0m\n",
      "\u001b[34m[23:46:35] src/tree/updater_prune.cc:74: tree pruning end, 1 roots, 24 extra nodes, 8 pruned nodes, max_depth=5\u001b[0m\n",
      "\u001b[34m[89]#011train-error:0.109333#011validation-error:0.156\u001b[0m\n",
      "\u001b[34m[23:46:36] src/tree/updater_prune.cc:74: tree pruning end, 1 roots, 30 extra nodes, 14 pruned nodes, max_depth=5\u001b[0m\n",
      "\u001b[34m[90]#011train-error:0.108467#011validation-error:0.1564\u001b[0m\n"
     ]
    },
    {
     "name": "stdout",
     "output_type": "stream",
     "text": [
      "\u001b[34m[23:46:37] src/tree/updater_prune.cc:74: tree pruning end, 1 roots, 18 extra nodes, 12 pruned nodes, max_depth=5\u001b[0m\n",
      "\u001b[34m[91]#011train-error:0.108#011validation-error:0.1568\u001b[0m\n",
      "\u001b[34m[23:46:39] src/tree/updater_prune.cc:74: tree pruning end, 1 roots, 12 extra nodes, 8 pruned nodes, max_depth=5\u001b[0m\n",
      "\u001b[34m[92]#011train-error:0.108133#011validation-error:0.1565\u001b[0m\n",
      "\u001b[34m[23:46:40] src/tree/updater_prune.cc:74: tree pruning end, 1 roots, 24 extra nodes, 0 pruned nodes, max_depth=5\u001b[0m\n",
      "\u001b[34m[93]#011train-error:0.107133#011validation-error:0.1554\u001b[0m\n",
      "\u001b[34m[23:46:41] src/tree/updater_prune.cc:74: tree pruning end, 1 roots, 32 extra nodes, 4 pruned nodes, max_depth=5\u001b[0m\n",
      "\u001b[34m[94]#011train-error:0.1062#011validation-error:0.1573\u001b[0m\n",
      "\u001b[34m[23:46:43] src/tree/updater_prune.cc:74: tree pruning end, 1 roots, 16 extra nodes, 10 pruned nodes, max_depth=5\u001b[0m\n",
      "\u001b[34m[95]#011train-error:0.1056#011validation-error:0.1557\u001b[0m\n",
      "\u001b[34m[23:46:44] src/tree/updater_prune.cc:74: tree pruning end, 1 roots, 30 extra nodes, 8 pruned nodes, max_depth=5\u001b[0m\n",
      "\u001b[34m[96]#011train-error:0.1048#011validation-error:0.1552\u001b[0m\n",
      "\u001b[34m[23:46:45] src/tree/updater_prune.cc:74: tree pruning end, 1 roots, 10 extra nodes, 10 pruned nodes, max_depth=5\u001b[0m\n",
      "\u001b[34m[97]#011train-error:0.104333#011validation-error:0.1554\u001b[0m\n",
      "\u001b[34m[23:46:47] src/tree/updater_prune.cc:74: tree pruning end, 1 roots, 26 extra nodes, 8 pruned nodes, max_depth=5\u001b[0m\n",
      "\u001b[34m[98]#011train-error:0.103667#011validation-error:0.1538\u001b[0m\n",
      "\u001b[34m[23:46:48] src/tree/updater_prune.cc:74: tree pruning end, 1 roots, 22 extra nodes, 10 pruned nodes, max_depth=5\u001b[0m\n",
      "\u001b[34m[99]#011train-error:0.103333#011validation-error:0.154\u001b[0m\n",
      "\u001b[34m[23:46:49] src/tree/updater_prune.cc:74: tree pruning end, 1 roots, 20 extra nodes, 6 pruned nodes, max_depth=5\u001b[0m\n",
      "\u001b[34m[100]#011train-error:0.1028#011validation-error:0.1534\u001b[0m\n",
      "\u001b[34m[23:46:50] src/tree/updater_prune.cc:74: tree pruning end, 1 roots, 10 extra nodes, 16 pruned nodes, max_depth=5\u001b[0m\n",
      "\u001b[34m[101]#011train-error:0.102333#011validation-error:0.1532\u001b[0m\n",
      "\u001b[34m[23:46:52] src/tree/updater_prune.cc:74: tree pruning end, 1 roots, 32 extra nodes, 4 pruned nodes, max_depth=5\u001b[0m\n",
      "\u001b[34m[102]#011train-error:0.1016#011validation-error:0.1529\u001b[0m\n",
      "\u001b[34m[23:46:53] src/tree/updater_prune.cc:74: tree pruning end, 1 roots, 12 extra nodes, 4 pruned nodes, max_depth=5\u001b[0m\n",
      "\u001b[34m[103]#011train-error:0.101067#011validation-error:0.1529\u001b[0m\n",
      "\u001b[34m[23:46:54] src/tree/updater_prune.cc:74: tree pruning end, 1 roots, 12 extra nodes, 8 pruned nodes, max_depth=5\u001b[0m\n",
      "\u001b[34m[104]#011train-error:0.101#011validation-error:0.1527\u001b[0m\n",
      "\u001b[34m[23:46:56] src/tree/updater_prune.cc:74: tree pruning end, 1 roots, 22 extra nodes, 6 pruned nodes, max_depth=5\u001b[0m\n",
      "\u001b[34m[105]#011train-error:0.0996#011validation-error:0.1525\u001b[0m\n",
      "\u001b[34m[23:46:57] src/tree/updater_prune.cc:74: tree pruning end, 1 roots, 18 extra nodes, 18 pruned nodes, max_depth=5\u001b[0m\n",
      "\u001b[34m[106]#011train-error:0.099867#011validation-error:0.1524\u001b[0m\n",
      "\u001b[34m[23:46:58] src/tree/updater_prune.cc:74: tree pruning end, 1 roots, 14 extra nodes, 8 pruned nodes, max_depth=5\u001b[0m\n",
      "\u001b[34m[107]#011train-error:0.099067#011validation-error:0.1528\u001b[0m\n",
      "\u001b[34m[23:47:00] src/tree/updater_prune.cc:74: tree pruning end, 1 roots, 18 extra nodes, 2 pruned nodes, max_depth=5\u001b[0m\n",
      "\u001b[34m[108]#011train-error:0.098667#011validation-error:0.1523\u001b[0m\n",
      "\u001b[34m[23:47:01] src/tree/updater_prune.cc:74: tree pruning end, 1 roots, 22 extra nodes, 14 pruned nodes, max_depth=5\u001b[0m\n",
      "\u001b[34m[109]#011train-error:0.097933#011validation-error:0.1515\u001b[0m\n",
      "\u001b[34m[23:47:02] src/tree/updater_prune.cc:74: tree pruning end, 1 roots, 34 extra nodes, 6 pruned nodes, max_depth=5\u001b[0m\n",
      "\u001b[34m[110]#011train-error:0.096667#011validation-error:0.1522\u001b[0m\n",
      "\u001b[34m[23:47:04] src/tree/updater_prune.cc:74: tree pruning end, 1 roots, 28 extra nodes, 14 pruned nodes, max_depth=5\u001b[0m\n",
      "\u001b[34m[111]#011train-error:0.096133#011validation-error:0.1502\u001b[0m\n",
      "\u001b[34m[23:47:05] src/tree/updater_prune.cc:74: tree pruning end, 1 roots, 22 extra nodes, 4 pruned nodes, max_depth=5\u001b[0m\n",
      "\u001b[34m[112]#011train-error:0.095333#011validation-error:0.1501\u001b[0m\n",
      "\u001b[34m[23:47:06] src/tree/updater_prune.cc:74: tree pruning end, 1 roots, 18 extra nodes, 14 pruned nodes, max_depth=5\u001b[0m\n",
      "\u001b[34m[113]#011train-error:0.094533#011validation-error:0.1491\u001b[0m\n",
      "\u001b[34m[23:47:07] src/tree/updater_prune.cc:74: tree pruning end, 1 roots, 10 extra nodes, 6 pruned nodes, max_depth=5\u001b[0m\n",
      "\u001b[34m[114]#011train-error:0.094333#011validation-error:0.1492\u001b[0m\n",
      "\u001b[34m[23:47:09] src/tree/updater_prune.cc:74: tree pruning end, 1 roots, 24 extra nodes, 10 pruned nodes, max_depth=5\u001b[0m\n",
      "\u001b[34m[115]#011train-error:0.0942#011validation-error:0.1488\u001b[0m\n",
      "\u001b[34m[23:47:10] src/tree/updater_prune.cc:74: tree pruning end, 1 roots, 22 extra nodes, 10 pruned nodes, max_depth=5\u001b[0m\n",
      "\u001b[34m[116]#011train-error:0.094533#011validation-error:0.1483\u001b[0m\n",
      "\u001b[34m[23:47:11] src/tree/updater_prune.cc:74: tree pruning end, 1 roots, 12 extra nodes, 8 pruned nodes, max_depth=5\u001b[0m\n",
      "\u001b[34m[117]#011train-error:0.094467#011validation-error:0.1486\u001b[0m\n",
      "\u001b[34m[23:47:13] src/tree/updater_prune.cc:74: tree pruning end, 1 roots, 24 extra nodes, 8 pruned nodes, max_depth=5\u001b[0m\n",
      "\u001b[34m[118]#011train-error:0.0938#011validation-error:0.1487\u001b[0m\n",
      "\u001b[34m[23:47:14] src/tree/updater_prune.cc:74: tree pruning end, 1 roots, 10 extra nodes, 4 pruned nodes, max_depth=5\u001b[0m\n",
      "\u001b[34m[119]#011train-error:0.093#011validation-error:0.1483\u001b[0m\n",
      "\u001b[34m[23:47:15] src/tree/updater_prune.cc:74: tree pruning end, 1 roots, 10 extra nodes, 10 pruned nodes, max_depth=5\u001b[0m\n",
      "\u001b[34m[120]#011train-error:0.0928#011validation-error:0.1482\u001b[0m\n",
      "\u001b[34m[23:47:17] src/tree/updater_prune.cc:74: tree pruning end, 1 roots, 10 extra nodes, 6 pruned nodes, max_depth=5\u001b[0m\n",
      "\u001b[34m[121]#011train-error:0.092667#011validation-error:0.1482\u001b[0m\n",
      "\u001b[34m[23:47:18] src/tree/updater_prune.cc:74: tree pruning end, 1 roots, 12 extra nodes, 14 pruned nodes, max_depth=5\u001b[0m\n",
      "\u001b[34m[122]#011train-error:0.0924#011validation-error:0.1488\u001b[0m\n",
      "\u001b[34m[23:47:19] src/tree/updater_prune.cc:74: tree pruning end, 1 roots, 10 extra nodes, 8 pruned nodes, max_depth=5\u001b[0m\n",
      "\u001b[34m[123]#011train-error:0.092333#011validation-error:0.148\u001b[0m\n",
      "\u001b[34m[23:47:21] src/tree/updater_prune.cc:74: tree pruning end, 1 roots, 12 extra nodes, 6 pruned nodes, max_depth=5\u001b[0m\n",
      "\u001b[34m[124]#011train-error:0.091933#011validation-error:0.1482\u001b[0m\n",
      "\u001b[34m[23:47:22] src/tree/updater_prune.cc:74: tree pruning end, 1 roots, 16 extra nodes, 10 pruned nodes, max_depth=5\u001b[0m\n",
      "\u001b[34m[125]#011train-error:0.091867#011validation-error:0.1477\u001b[0m\n",
      "\u001b[34m[23:47:23] src/tree/updater_prune.cc:74: tree pruning end, 1 roots, 14 extra nodes, 2 pruned nodes, max_depth=5\u001b[0m\n",
      "\u001b[34m[126]#011train-error:0.0912#011validation-error:0.1471\u001b[0m\n",
      "\u001b[34m[23:47:25] src/tree/updater_prune.cc:74: tree pruning end, 1 roots, 12 extra nodes, 4 pruned nodes, max_depth=5\u001b[0m\n",
      "\u001b[34m[127]#011train-error:0.090667#011validation-error:0.1467\u001b[0m\n",
      "\u001b[34m[23:47:26] src/tree/updater_prune.cc:74: tree pruning end, 1 roots, 24 extra nodes, 6 pruned nodes, max_depth=5\u001b[0m\n",
      "\u001b[34m[128]#011train-error:0.0892#011validation-error:0.147\u001b[0m\n",
      "\u001b[34m[23:47:27] src/tree/updater_prune.cc:74: tree pruning end, 1 roots, 38 extra nodes, 8 pruned nodes, max_depth=5\u001b[0m\n",
      "\u001b[34m[129]#011train-error:0.0876#011validation-error:0.1468\u001b[0m\n",
      "\u001b[34m[23:47:28] src/tree/updater_prune.cc:74: tree pruning end, 1 roots, 12 extra nodes, 2 pruned nodes, max_depth=5\u001b[0m\n",
      "\u001b[34m[130]#011train-error:0.087467#011validation-error:0.1466\u001b[0m\n",
      "\u001b[34m[23:47:30] src/tree/updater_prune.cc:74: tree pruning end, 1 roots, 14 extra nodes, 8 pruned nodes, max_depth=5\u001b[0m\n",
      "\u001b[34m[131]#011train-error:0.0874#011validation-error:0.1462\u001b[0m\n",
      "\u001b[34m[23:47:31] src/tree/updater_prune.cc:74: tree pruning end, 1 roots, 30 extra nodes, 10 pruned nodes, max_depth=5\u001b[0m\n",
      "\u001b[34m[132]#011train-error:0.087067#011validation-error:0.1464\u001b[0m\n",
      "\u001b[34m[23:47:32] src/tree/updater_prune.cc:74: tree pruning end, 1 roots, 18 extra nodes, 8 pruned nodes, max_depth=5\u001b[0m\n",
      "\u001b[34m[133]#011train-error:0.086733#011validation-error:0.1462\u001b[0m\n",
      "\u001b[34m[23:47:34] src/tree/updater_prune.cc:74: tree pruning end, 1 roots, 12 extra nodes, 10 pruned nodes, max_depth=5\u001b[0m\n",
      "\u001b[34m[134]#011train-error:0.086733#011validation-error:0.1467\u001b[0m\n",
      "\u001b[34m[23:47:35] src/tree/updater_prune.cc:74: tree pruning end, 1 roots, 24 extra nodes, 8 pruned nodes, max_depth=5\u001b[0m\n",
      "\u001b[34m[135]#011train-error:0.086267#011validation-error:0.1464\u001b[0m\n",
      "\u001b[34m[23:47:36] src/tree/updater_prune.cc:74: tree pruning end, 1 roots, 12 extra nodes, 4 pruned nodes, max_depth=5\u001b[0m\n",
      "\u001b[34m[136]#011train-error:0.085533#011validation-error:0.1463\u001b[0m\n",
      "\u001b[34m[23:47:37] src/tree/updater_prune.cc:74: tree pruning end, 1 roots, 12 extra nodes, 2 pruned nodes, max_depth=5\u001b[0m\n",
      "\u001b[34m[137]#011train-error:0.0856#011validation-error:0.1463\u001b[0m\n"
     ]
    },
    {
     "name": "stdout",
     "output_type": "stream",
     "text": [
      "\u001b[34m[23:47:39] src/tree/updater_prune.cc:74: tree pruning end, 1 roots, 16 extra nodes, 2 pruned nodes, max_depth=5\u001b[0m\n",
      "\u001b[34m[138]#011train-error:0.084933#011validation-error:0.1459\u001b[0m\n",
      "\u001b[34m[23:47:40] src/tree/updater_prune.cc:74: tree pruning end, 1 roots, 18 extra nodes, 10 pruned nodes, max_depth=5\u001b[0m\n",
      "\u001b[34m[139]#011train-error:0.084933#011validation-error:0.1456\u001b[0m\n",
      "\u001b[34m[23:47:41] src/tree/updater_prune.cc:74: tree pruning end, 1 roots, 20 extra nodes, 6 pruned nodes, max_depth=5\u001b[0m\n",
      "\u001b[34m[140]#011train-error:0.084067#011validation-error:0.1451\u001b[0m\n",
      "\u001b[34m[23:47:43] src/tree/updater_prune.cc:74: tree pruning end, 1 roots, 14 extra nodes, 8 pruned nodes, max_depth=5\u001b[0m\n",
      "\u001b[34m[141]#011train-error:0.083667#011validation-error:0.145\u001b[0m\n",
      "\u001b[34m[23:47:44] src/tree/updater_prune.cc:74: tree pruning end, 1 roots, 12 extra nodes, 2 pruned nodes, max_depth=5\u001b[0m\n",
      "\u001b[34m[142]#011train-error:0.0834#011validation-error:0.145\u001b[0m\n",
      "\u001b[34m[23:47:45] src/tree/updater_prune.cc:74: tree pruning end, 1 roots, 10 extra nodes, 24 pruned nodes, max_depth=5\u001b[0m\n",
      "\u001b[34m[143]#011train-error:0.083467#011validation-error:0.1449\u001b[0m\n",
      "\u001b[34m[23:47:47] src/tree/updater_prune.cc:74: tree pruning end, 1 roots, 10 extra nodes, 10 pruned nodes, max_depth=5\u001b[0m\n",
      "\u001b[34m[144]#011train-error:0.083133#011validation-error:0.1445\u001b[0m\n",
      "\u001b[34m[23:47:48] src/tree/updater_prune.cc:74: tree pruning end, 1 roots, 14 extra nodes, 18 pruned nodes, max_depth=5\u001b[0m\n",
      "\u001b[34m[145]#011train-error:0.083067#011validation-error:0.1447\u001b[0m\n",
      "\u001b[34m[23:47:49] src/tree/updater_prune.cc:74: tree pruning end, 1 roots, 20 extra nodes, 12 pruned nodes, max_depth=5\u001b[0m\n",
      "\u001b[34m[146]#011train-error:0.083133#011validation-error:0.1445\u001b[0m\n",
      "\u001b[34m[23:47:51] src/tree/updater_prune.cc:74: tree pruning end, 1 roots, 12 extra nodes, 4 pruned nodes, max_depth=5\u001b[0m\n",
      "\u001b[34m[147]#011train-error:0.083#011validation-error:0.1446\u001b[0m\n",
      "\u001b[34m[23:47:52] src/tree/updater_prune.cc:74: tree pruning end, 1 roots, 36 extra nodes, 6 pruned nodes, max_depth=5\u001b[0m\n",
      "\u001b[34m[148]#011train-error:0.0818#011validation-error:0.1443\u001b[0m\n",
      "\u001b[34m[23:47:53] src/tree/updater_prune.cc:74: tree pruning end, 1 roots, 16 extra nodes, 12 pruned nodes, max_depth=5\u001b[0m\n",
      "\u001b[34m[149]#011train-error:0.0816#011validation-error:0.145\u001b[0m\n",
      "\u001b[34m[23:47:55] src/tree/updater_prune.cc:74: tree pruning end, 1 roots, 10 extra nodes, 6 pruned nodes, max_depth=5\u001b[0m\n",
      "\u001b[34m[150]#011train-error:0.081733#011validation-error:0.1456\u001b[0m\n",
      "\u001b[34m[23:47:56] src/tree/updater_prune.cc:74: tree pruning end, 1 roots, 16 extra nodes, 8 pruned nodes, max_depth=5\u001b[0m\n",
      "\u001b[34m[151]#011train-error:0.081933#011validation-error:0.1448\u001b[0m\n",
      "\u001b[34m[23:47:57] src/tree/updater_prune.cc:74: tree pruning end, 1 roots, 12 extra nodes, 6 pruned nodes, max_depth=5\u001b[0m\n",
      "\u001b[34m[152]#011train-error:0.081067#011validation-error:0.1432\u001b[0m\n",
      "\u001b[34m[23:47:58] src/tree/updater_prune.cc:74: tree pruning end, 1 roots, 18 extra nodes, 8 pruned nodes, max_depth=5\u001b[0m\n",
      "\u001b[34m[153]#011train-error:0.0802#011validation-error:0.1426\u001b[0m\n",
      "\u001b[34m[23:48:00] src/tree/updater_prune.cc:74: tree pruning end, 1 roots, 30 extra nodes, 8 pruned nodes, max_depth=5\u001b[0m\n",
      "\u001b[34m[154]#011train-error:0.080333#011validation-error:0.1432\u001b[0m\n",
      "\u001b[34m[23:48:01] src/tree/updater_prune.cc:74: tree pruning end, 1 roots, 16 extra nodes, 6 pruned nodes, max_depth=5\u001b[0m\n",
      "\u001b[34m[155]#011train-error:0.079733#011validation-error:0.1429\u001b[0m\n",
      "\u001b[34m[23:48:02] src/tree/updater_prune.cc:74: tree pruning end, 1 roots, 20 extra nodes, 8 pruned nodes, max_depth=5\u001b[0m\n",
      "\u001b[34m[156]#011train-error:0.0794#011validation-error:0.1426\u001b[0m\n",
      "\u001b[34m[23:48:04] src/tree/updater_prune.cc:74: tree pruning end, 1 roots, 12 extra nodes, 4 pruned nodes, max_depth=5\u001b[0m\n",
      "\u001b[34m[157]#011train-error:0.0792#011validation-error:0.1424\u001b[0m\n",
      "\u001b[34m[23:48:05] src/tree/updater_prune.cc:74: tree pruning end, 1 roots, 14 extra nodes, 4 pruned nodes, max_depth=5\u001b[0m\n",
      "\u001b[34m[158]#011train-error:0.079067#011validation-error:0.1423\u001b[0m\n",
      "\u001b[34m[23:48:06] src/tree/updater_prune.cc:74: tree pruning end, 1 roots, 14 extra nodes, 12 pruned nodes, max_depth=5\u001b[0m\n",
      "\u001b[34m[159]#011train-error:0.079067#011validation-error:0.142\u001b[0m\n",
      "\u001b[34m[23:48:08] src/tree/updater_prune.cc:74: tree pruning end, 1 roots, 14 extra nodes, 6 pruned nodes, max_depth=5\u001b[0m\n",
      "\u001b[34m[160]#011train-error:0.078667#011validation-error:0.1419\u001b[0m\n",
      "\u001b[34m[23:48:09] src/tree/updater_prune.cc:74: tree pruning end, 1 roots, 10 extra nodes, 4 pruned nodes, max_depth=5\u001b[0m\n",
      "\u001b[34m[161]#011train-error:0.078067#011validation-error:0.1414\u001b[0m\n",
      "\u001b[34m[23:48:10] src/tree/updater_prune.cc:74: tree pruning end, 1 roots, 18 extra nodes, 2 pruned nodes, max_depth=5\u001b[0m\n",
      "\u001b[34m[162]#011train-error:0.0784#011validation-error:0.1411\u001b[0m\n",
      "\u001b[34m[23:48:11] src/tree/updater_prune.cc:74: tree pruning end, 1 roots, 18 extra nodes, 4 pruned nodes, max_depth=5\u001b[0m\n",
      "\u001b[34m[163]#011train-error:0.078#011validation-error:0.1417\u001b[0m\n",
      "\u001b[34m[23:48:13] src/tree/updater_prune.cc:74: tree pruning end, 1 roots, 12 extra nodes, 0 pruned nodes, max_depth=5\u001b[0m\n",
      "\u001b[34m[164]#011train-error:0.077333#011validation-error:0.1421\u001b[0m\n",
      "\u001b[34m[23:48:14] src/tree/updater_prune.cc:74: tree pruning end, 1 roots, 10 extra nodes, 4 pruned nodes, max_depth=5\u001b[0m\n",
      "\u001b[34m[165]#011train-error:0.077067#011validation-error:0.142\u001b[0m\n",
      "\u001b[34m[23:48:15] src/tree/updater_prune.cc:74: tree pruning end, 1 roots, 14 extra nodes, 6 pruned nodes, max_depth=5\u001b[0m\n",
      "\u001b[34m[166]#011train-error:0.077133#011validation-error:0.1412\u001b[0m\n",
      "\u001b[34m[23:48:17] src/tree/updater_prune.cc:74: tree pruning end, 1 roots, 12 extra nodes, 2 pruned nodes, max_depth=5\u001b[0m\n",
      "\u001b[34m[167]#011train-error:0.077133#011validation-error:0.1414\u001b[0m\n",
      "\u001b[34m[23:48:18] src/tree/updater_prune.cc:74: tree pruning end, 1 roots, 12 extra nodes, 4 pruned nodes, max_depth=5\u001b[0m\n",
      "\u001b[34m[168]#011train-error:0.0772#011validation-error:0.141\u001b[0m\n",
      "\u001b[34m[23:48:19] src/tree/updater_prune.cc:74: tree pruning end, 1 roots, 10 extra nodes, 4 pruned nodes, max_depth=5\u001b[0m\n",
      "\u001b[34m[169]#011train-error:0.077267#011validation-error:0.1411\u001b[0m\n",
      "\u001b[34m[23:48:21] src/tree/updater_prune.cc:74: tree pruning end, 1 roots, 34 extra nodes, 12 pruned nodes, max_depth=5\u001b[0m\n",
      "\u001b[34m[170]#011train-error:0.076333#011validation-error:0.1412\u001b[0m\n",
      "\u001b[34m[23:48:22] src/tree/updater_prune.cc:74: tree pruning end, 1 roots, 26 extra nodes, 14 pruned nodes, max_depth=5\u001b[0m\n",
      "\u001b[34m[171]#011train-error:0.075933#011validation-error:0.1418\u001b[0m\n",
      "\u001b[34m[23:48:23] src/tree/updater_prune.cc:74: tree pruning end, 1 roots, 16 extra nodes, 6 pruned nodes, max_depth=5\u001b[0m\n",
      "\u001b[34m[172]#011train-error:0.075933#011validation-error:0.1418\u001b[0m\n",
      "\u001b[34m[23:48:25] src/tree/updater_prune.cc:74: tree pruning end, 1 roots, 14 extra nodes, 10 pruned nodes, max_depth=5\u001b[0m\n",
      "\u001b[34m[173]#011train-error:0.075867#011validation-error:0.1419\u001b[0m\n",
      "\u001b[34m[23:48:26] src/tree/updater_prune.cc:74: tree pruning end, 1 roots, 16 extra nodes, 10 pruned nodes, max_depth=5\u001b[0m\n",
      "\u001b[34m[174]#011train-error:0.075733#011validation-error:0.1412\u001b[0m\n",
      "\u001b[34m[23:48:27] src/tree/updater_prune.cc:74: tree pruning end, 1 roots, 14 extra nodes, 12 pruned nodes, max_depth=5\u001b[0m\n",
      "\u001b[34m[175]#011train-error:0.075533#011validation-error:0.1415\u001b[0m\n",
      "\u001b[34m[23:48:28] src/tree/updater_prune.cc:74: tree pruning end, 1 roots, 16 extra nodes, 4 pruned nodes, max_depth=5\u001b[0m\n",
      "\u001b[34m[176]#011train-error:0.075533#011validation-error:0.142\u001b[0m\n",
      "\u001b[34m[23:48:30] src/tree/updater_prune.cc:74: tree pruning end, 1 roots, 16 extra nodes, 0 pruned nodes, max_depth=5\u001b[0m\n",
      "\u001b[34m[177]#011train-error:0.075267#011validation-error:0.1413\u001b[0m\n",
      "\u001b[34m[23:48:31] src/tree/updater_prune.cc:74: tree pruning end, 1 roots, 18 extra nodes, 8 pruned nodes, max_depth=5\u001b[0m\n",
      "\u001b[34m[178]#011train-error:0.075267#011validation-error:0.1411\u001b[0m\n",
      "\u001b[34mStopping. Best iteration:\u001b[0m\n",
      "\u001b[34m[168]#011train-error:0.0772#011validation-error:0.141\n",
      "\u001b[0m\n",
      "\n",
      "2020-07-23 23:49:42 Uploading - Uploading generated training model\n",
      "2020-07-23 23:49:42 Completed - Training job completed\n",
      "Training seconds: 353\n",
      "Billable seconds: 353\n"
     ]
    }
   ],
   "source": [
    "xgb.fit({'train': s3_input_train, 'validation': s3_input_validation})"
   ]
  },
  {
   "cell_type": "markdown",
   "metadata": {},
   "source": [
    "## Step 5: Testing the model\n",
    "\n",
    "Now that we've fit our XGBoost model, it's time to see how well it performs. To do this we will use SageMakers Batch Transform functionality. **Batch Transform** is a convenient way to **perform inference on a large dataset in a way that is not realtime**. That is, we don't necessarily need to use our model's results immediately and instead we can perform inference on a large number of samples. An example of this in industry might be performing an end of month report. This method of inference can also be useful to us as it means that we can perform inference on our entire test set. \n",
    "\n",
    "To perform a Batch Transformation we need to first create a transformer objects from our trained estimator object."
   ]
  },
  {
   "cell_type": "code",
   "execution_count": 24,
   "metadata": {},
   "outputs": [
    {
     "name": "stderr",
     "output_type": "stream",
     "text": [
      "WARNING:sagemaker:Parameter image will be renamed to image_uri in SageMaker Python SDK v2.\n"
     ]
    }
   ],
   "source": [
    "xgb_transformer = xgb.transformer(instance_count = 1, instance_type = 'ml.m4.xlarge')"
   ]
  },
  {
   "cell_type": "markdown",
   "metadata": {},
   "source": [
    "Next we actually perform the transform job. When doing so we need to make sure to specify the type of data we are sending so that it is serialized correctly in the background. In our case we are providing our model with csv data so we specify `text/csv`. Also, if the test data that we have provided is too large to process all at once then we need to specify how the data file should be split up. Since each line is a single entry in our data set we tell SageMaker that it can split the input on each line."
   ]
  },
  {
   "cell_type": "code",
   "execution_count": 25,
   "metadata": {},
   "outputs": [],
   "source": [
    "xgb_transformer.transform(test_location, content_type='text/csv', split_type='Line')"
   ]
  },
  {
   "cell_type": "markdown",
   "metadata": {},
   "source": [
    "Currently the transform job is running but it is doing so in the background. Since we wish to wait until the transform job is done and we would like a bit of feedback we can run the `wait()` method."
   ]
  },
  {
   "cell_type": "code",
   "execution_count": 26,
   "metadata": {},
   "outputs": [
    {
     "name": "stdout",
     "output_type": "stream",
     "text": [
      ".....................\u001b[34mArguments: serve\u001b[0m\n",
      "\u001b[34m[2020-07-23 23:53:26 +0000] [1] [INFO] Starting gunicorn 19.7.1\u001b[0m\n",
      "\u001b[34m[2020-07-23 23:53:26 +0000] [1] [INFO] Listening at: http://0.0.0.0:8080 (1)\u001b[0m\n",
      "\u001b[34m[2020-07-23 23:53:26 +0000] [1] [INFO] Using worker: gevent\u001b[0m\n",
      "\u001b[34m[2020-07-23 23:53:26 +0000] [38] [INFO] Booting worker with pid: 38\u001b[0m\n",
      "\u001b[34m[2020-07-23 23:53:26 +0000] [39] [INFO] Booting worker with pid: 39\u001b[0m\n",
      "\u001b[34m[2020-07-23 23:53:26 +0000] [40] [INFO] Booting worker with pid: 40\u001b[0m\n",
      "\u001b[34m[2020-07-23 23:53:26 +0000] [41] [INFO] Booting worker with pid: 41\u001b[0m\n",
      "\u001b[34m[2020-07-23:23:53:26:INFO] Model loaded successfully for worker : 38\u001b[0m\n",
      "\u001b[34m[2020-07-23:23:53:26:INFO] Model loaded successfully for worker : 40\u001b[0m\n",
      "\u001b[34m[2020-07-23:23:53:26:INFO] Model loaded successfully for worker : 39\u001b[0m\n",
      "\u001b[34m[2020-07-23:23:53:26:INFO] Model loaded successfully for worker : 41\u001b[0m\n",
      "\u001b[32m2020-07-23T23:53:53.120:[sagemaker logs]: MaxConcurrentTransforms=4, MaxPayloadInMB=6, BatchStrategy=MULTI_RECORD\u001b[0m\n",
      "\u001b[34m[2020-07-23:23:53:56:INFO] Sniff delimiter as ','\u001b[0m\n",
      "\u001b[35m[2020-07-23:23:53:56:INFO] Sniff delimiter as ','\u001b[0m\n",
      "\u001b[34m[2020-07-23:23:53:56:INFO] Determined delimiter of CSV input is ','\u001b[0m\n",
      "\u001b[34m[2020-07-23:23:53:56:INFO] Sniff delimiter as ','\u001b[0m\n",
      "\u001b[34m[2020-07-23:23:53:56:INFO] Determined delimiter of CSV input is ','\u001b[0m\n",
      "\u001b[35m[2020-07-23:23:53:56:INFO] Determined delimiter of CSV input is ','\u001b[0m\n",
      "\u001b[35m[2020-07-23:23:53:56:INFO] Sniff delimiter as ','\u001b[0m\n",
      "\u001b[35m[2020-07-23:23:53:56:INFO] Determined delimiter of CSV input is ','\u001b[0m\n",
      "\u001b[34m[2020-07-23:23:53:56:INFO] Sniff delimiter as ','\u001b[0m\n",
      "\u001b[34m[2020-07-23:23:53:56:INFO] Determined delimiter of CSV input is ','\u001b[0m\n",
      "\u001b[34m[2020-07-23:23:53:56:INFO] Sniff delimiter as ','\u001b[0m\n",
      "\u001b[34m[2020-07-23:23:53:56:INFO] Determined delimiter of CSV input is ','\u001b[0m\n",
      "\u001b[35m[2020-07-23:23:53:56:INFO] Sniff delimiter as ','\u001b[0m\n",
      "\u001b[35m[2020-07-23:23:53:56:INFO] Determined delimiter of CSV input is ','\u001b[0m\n",
      "\u001b[35m[2020-07-23:23:53:56:INFO] Sniff delimiter as ','\u001b[0m\n",
      "\u001b[35m[2020-07-23:23:53:56:INFO] Determined delimiter of CSV input is ','\u001b[0m\n",
      "\u001b[34m[2020-07-23:23:53:59:INFO] Sniff delimiter as ','\u001b[0m\n",
      "\u001b[34m[2020-07-23:23:53:59:INFO] Determined delimiter of CSV input is ','\u001b[0m\n",
      "\u001b[34m[2020-07-23:23:53:59:INFO] Sniff delimiter as ','\u001b[0m\n",
      "\u001b[34m[2020-07-23:23:53:59:INFO] Determined delimiter of CSV input is ','\u001b[0m\n",
      "\u001b[34m[2020-07-23:23:53:59:INFO] Sniff delimiter as ','\u001b[0m\n",
      "\u001b[34m[2020-07-23:23:53:59:INFO] Determined delimiter of CSV input is ','\u001b[0m\n",
      "\u001b[34m[2020-07-23:23:53:59:INFO] Sniff delimiter as ','\u001b[0m\n",
      "\u001b[34m[2020-07-23:23:53:59:INFO] Determined delimiter of CSV input is ','\u001b[0m\n",
      "\u001b[35m[2020-07-23:23:53:59:INFO] Sniff delimiter as ','\u001b[0m\n",
      "\u001b[35m[2020-07-23:23:53:59:INFO] Determined delimiter of CSV input is ','\u001b[0m\n",
      "\u001b[35m[2020-07-23:23:53:59:INFO] Sniff delimiter as ','\u001b[0m\n",
      "\u001b[35m[2020-07-23:23:53:59:INFO] Determined delimiter of CSV input is ','\u001b[0m\n",
      "\u001b[35m[2020-07-23:23:53:59:INFO] Sniff delimiter as ','\u001b[0m\n",
      "\u001b[35m[2020-07-23:23:53:59:INFO] Determined delimiter of CSV input is ','\u001b[0m\n",
      "\u001b[35m[2020-07-23:23:53:59:INFO] Sniff delimiter as ','\u001b[0m\n",
      "\u001b[35m[2020-07-23:23:53:59:INFO] Determined delimiter of CSV input is ','\u001b[0m\n",
      "\u001b[35m[2020-07-23:23:54:01:INFO] Sniff delimiter as ','\u001b[0m\n",
      "\u001b[35m[2020-07-23:23:54:01:INFO] Determined delimiter of CSV input is ','\u001b[0m\n",
      "\u001b[35m[2020-07-23:23:54:01:INFO] Sniff delimiter as ','\u001b[0m\n",
      "\u001b[35m[2020-07-23:23:54:01:INFO] Determined delimiter of CSV input is ','\u001b[0m\n",
      "\u001b[35m[2020-07-23:23:54:01:INFO] Sniff delimiter as ','\u001b[0m\n",
      "\u001b[35m[2020-07-23:23:54:01:INFO] Determined delimiter of CSV input is ','\u001b[0m\n",
      "\u001b[35m[2020-07-23:23:54:01:INFO] Sniff delimiter as ','\u001b[0m\n",
      "\u001b[35m[2020-07-23:23:54:01:INFO] Determined delimiter of CSV input is ','\u001b[0m\n",
      "\u001b[35m[2020-07-23:23:54:03:INFO] Sniff delimiter as ','\u001b[0m\n",
      "\u001b[35m[2020-07-23:23:54:03:INFO] Determined delimiter of CSV input is ','\u001b[0m\n",
      "\u001b[35m[2020-07-23:23:54:04:INFO] Sniff delimiter as ','\u001b[0m\n",
      "\u001b[35m[2020-07-23:23:54:04:INFO] Determined delimiter of CSV input is ','\u001b[0m\n",
      "\u001b[35m[2020-07-23:23:54:04:INFO] Sniff delimiter as ','\u001b[0m\n",
      "\u001b[35m[2020-07-23:23:54:04:INFO] Determined delimiter of CSV input is ','\u001b[0m\n",
      "\u001b[35m[2020-07-23:23:54:04:INFO] Sniff delimiter as ','\u001b[0m\n",
      "\u001b[35m[2020-07-23:23:54:04:INFO] Determined delimiter of CSV input is ','\u001b[0m\n",
      "\u001b[34m[2020-07-23:23:54:06:INFO] Sniff delimiter as ','\u001b[0m\n",
      "\u001b[34m[2020-07-23:23:54:06:INFO] Determined delimiter of CSV input is ','\u001b[0m\n",
      "\u001b[34m[2020-07-23:23:54:06:INFO] Sniff delimiter as ','\u001b[0m\n",
      "\u001b[34m[2020-07-23:23:54:06:INFO] Determined delimiter of CSV input is ','\u001b[0m\n",
      "\u001b[34m[2020-07-23:23:54:06:INFO] Sniff delimiter as ','\u001b[0m\n",
      "\u001b[34m[2020-07-23:23:54:06:INFO] Determined delimiter of CSV input is ','\u001b[0m\n",
      "\u001b[35m[2020-07-23:23:54:06:INFO] Sniff delimiter as ','\u001b[0m\n",
      "\u001b[35m[2020-07-23:23:54:06:INFO] Determined delimiter of CSV input is ','\u001b[0m\n",
      "\u001b[35m[2020-07-23:23:54:06:INFO] Sniff delimiter as ','\u001b[0m\n",
      "\u001b[35m[2020-07-23:23:54:06:INFO] Determined delimiter of CSV input is ','\u001b[0m\n",
      "\u001b[35m[2020-07-23:23:54:06:INFO] Sniff delimiter as ','\u001b[0m\n",
      "\u001b[35m[2020-07-23:23:54:06:INFO] Determined delimiter of CSV input is ','\u001b[0m\n",
      "\u001b[34m[2020-07-23:23:54:06:INFO] Sniff delimiter as ','\u001b[0m\n",
      "\u001b[35m[2020-07-23:23:54:06:INFO] Sniff delimiter as ','\u001b[0m\n",
      "\u001b[34m[2020-07-23:23:54:06:INFO] Determined delimiter of CSV input is ','\u001b[0m\n",
      "\u001b[35m[2020-07-23:23:54:06:INFO] Determined delimiter of CSV input is ','\u001b[0m\n",
      "\u001b[34m[2020-07-23:23:54:08:INFO] Sniff delimiter as ','\u001b[0m\n",
      "\u001b[34m[2020-07-23:23:54:08:INFO] Determined delimiter of CSV input is ','\u001b[0m\n",
      "\u001b[34m[2020-07-23:23:54:09:INFO] Sniff delimiter as ','\u001b[0m\n",
      "\u001b[34m[2020-07-23:23:54:09:INFO] Determined delimiter of CSV input is ','\u001b[0m\n",
      "\u001b[34m[2020-07-23:23:54:09:INFO] Sniff delimiter as ','\u001b[0m\n",
      "\u001b[34m[2020-07-23:23:54:09:INFO] Determined delimiter of CSV input is ','\u001b[0m\n",
      "\u001b[34m[2020-07-23:23:54:09:INFO] Sniff delimiter as ','\u001b[0m\n",
      "\u001b[34m[2020-07-23:23:54:09:INFO] Determined delimiter of CSV input is ','\u001b[0m\n",
      "\u001b[35m[2020-07-23:23:54:08:INFO] Sniff delimiter as ','\u001b[0m\n",
      "\u001b[35m[2020-07-23:23:54:08:INFO] Determined delimiter of CSV input is ','\u001b[0m\n",
      "\u001b[35m[2020-07-23:23:54:09:INFO] Sniff delimiter as ','\u001b[0m\n",
      "\u001b[35m[2020-07-23:23:54:09:INFO] Determined delimiter of CSV input is ','\u001b[0m\n",
      "\u001b[35m[2020-07-23:23:54:09:INFO] Sniff delimiter as ','\u001b[0m\n",
      "\u001b[35m[2020-07-23:23:54:09:INFO] Determined delimiter of CSV input is ','\u001b[0m\n",
      "\u001b[35m[2020-07-23:23:54:09:INFO] Sniff delimiter as ','\u001b[0m\n",
      "\u001b[35m[2020-07-23:23:54:09:INFO] Determined delimiter of CSV input is ','\u001b[0m\n",
      "\u001b[34m[2020-07-23:23:54:11:INFO] Sniff delimiter as ','\u001b[0m\n",
      "\u001b[34m[2020-07-23:23:54:11:INFO] Determined delimiter of CSV input is ','\u001b[0m\n",
      "\u001b[34m[2020-07-23:23:54:11:INFO] Sniff delimiter as ','\u001b[0m\n",
      "\u001b[34m[2020-07-23:23:54:11:INFO] Determined delimiter of CSV input is ','\u001b[0m\n",
      "\u001b[34m[2020-07-23:23:54:11:INFO] Sniff delimiter as ','\u001b[0m\n",
      "\u001b[34m[2020-07-23:23:54:11:INFO] Determined delimiter of CSV input is ','\u001b[0m\n",
      "\u001b[35m[2020-07-23:23:54:11:INFO] Sniff delimiter as ','\u001b[0m\n",
      "\u001b[35m[2020-07-23:23:54:11:INFO] Determined delimiter of CSV input is ','\u001b[0m\n",
      "\u001b[35m[2020-07-23:23:54:11:INFO] Sniff delimiter as ','\u001b[0m\n",
      "\u001b[35m[2020-07-23:23:54:11:INFO] Determined delimiter of CSV input is ','\u001b[0m\n",
      "\u001b[35m[2020-07-23:23:54:11:INFO] Sniff delimiter as ','\u001b[0m\n",
      "\u001b[35m[2020-07-23:23:54:11:INFO] Determined delimiter of CSV input is ','\u001b[0m\n",
      "\u001b[34m[2020-07-23:23:54:11:INFO] Sniff delimiter as ','\u001b[0m\n",
      "\u001b[34m[2020-07-23:23:54:11:INFO] Determined delimiter of CSV input is ','\u001b[0m\n",
      "\u001b[35m[2020-07-23:23:54:11:INFO] Sniff delimiter as ','\u001b[0m\n",
      "\u001b[35m[2020-07-23:23:54:11:INFO] Determined delimiter of CSV input is ','\u001b[0m\n",
      "\u001b[34m[2020-07-23:23:54:13:INFO] Sniff delimiter as ','\u001b[0m\n",
      "\u001b[34m[2020-07-23:23:54:13:INFO] Determined delimiter of CSV input is ','\u001b[0m\n",
      "\u001b[34m[2020-07-23:23:54:13:INFO] Sniff delimiter as ','\u001b[0m\n",
      "\u001b[34m[2020-07-23:23:54:13:INFO] Determined delimiter of CSV input is ','\u001b[0m\n",
      "\u001b[34m[2020-07-23:23:54:14:INFO] Sniff delimiter as ','\u001b[0m\n",
      "\u001b[34m[2020-07-23:23:54:14:INFO] Determined delimiter of CSV input is ','\u001b[0m\n",
      "\u001b[34m[2020-07-23:23:54:14:INFO] Sniff delimiter as ','\u001b[0m\n",
      "\u001b[35m[2020-07-23:23:54:13:INFO] Sniff delimiter as ','\u001b[0m\n",
      "\u001b[35m[2020-07-23:23:54:13:INFO] Determined delimiter of CSV input is ','\u001b[0m\n",
      "\u001b[35m[2020-07-23:23:54:13:INFO] Sniff delimiter as ','\u001b[0m\n",
      "\u001b[35m[2020-07-23:23:54:13:INFO] Determined delimiter of CSV input is ','\u001b[0m\n",
      "\u001b[35m[2020-07-23:23:54:14:INFO] Sniff delimiter as ','\u001b[0m\n",
      "\u001b[35m[2020-07-23:23:54:14:INFO] Determined delimiter of CSV input is ','\u001b[0m\n",
      "\u001b[35m[2020-07-23:23:54:14:INFO] Sniff delimiter as ','\u001b[0m\n",
      "\u001b[34m[2020-07-23:23:54:14:INFO] Determined delimiter of CSV input is ','\u001b[0m\n",
      "\u001b[35m[2020-07-23:23:54:14:INFO] Determined delimiter of CSV input is ','\u001b[0m\n"
     ]
    },
    {
     "name": "stdout",
     "output_type": "stream",
     "text": [
      "\u001b[34m[2020-07-23:23:54:16:INFO] Determined delimiter of CSV input is ','\u001b[0m\n",
      "\u001b[34m[2020-07-23:23:54:16:INFO] Sniff delimiter as ','\u001b[0m\n",
      "\u001b[34m[2020-07-23:23:54:16:INFO] Determined delimiter of CSV input is ','\u001b[0m\n",
      "\u001b[34m[2020-07-23:23:54:16:INFO] Sniff delimiter as ','\u001b[0m\n",
      "\u001b[35m[2020-07-23:23:54:16:INFO] Determined delimiter of CSV input is ','\u001b[0m\n",
      "\u001b[35m[2020-07-23:23:54:16:INFO] Sniff delimiter as ','\u001b[0m\n",
      "\u001b[35m[2020-07-23:23:54:16:INFO] Determined delimiter of CSV input is ','\u001b[0m\n",
      "\u001b[35m[2020-07-23:23:54:16:INFO] Sniff delimiter as ','\u001b[0m\n",
      "\u001b[34m[2020-07-23:23:54:16:INFO] Determined delimiter of CSV input is ','\u001b[0m\n",
      "\u001b[34m[2020-07-23:23:54:16:INFO] Sniff delimiter as ','\u001b[0m\n",
      "\u001b[34m[2020-07-23:23:54:16:INFO] Determined delimiter of CSV input is ','\u001b[0m\n",
      "\u001b[35m[2020-07-23:23:54:16:INFO] Determined delimiter of CSV input is ','\u001b[0m\n",
      "\u001b[35m[2020-07-23:23:54:16:INFO] Sniff delimiter as ','\u001b[0m\n",
      "\u001b[35m[2020-07-23:23:54:16:INFO] Determined delimiter of CSV input is ','\u001b[0m\n",
      "\u001b[34m[2020-07-23:23:54:18:INFO] Sniff delimiter as ','\u001b[0m\n",
      "\u001b[34m[2020-07-23:23:54:18:INFO] Determined delimiter of CSV input is ','\u001b[0m\n",
      "\u001b[35m[2020-07-23:23:54:18:INFO] Sniff delimiter as ','\u001b[0m\n",
      "\u001b[35m[2020-07-23:23:54:18:INFO] Determined delimiter of CSV input is ','\u001b[0m\n",
      "\u001b[34m[2020-07-23:23:54:18:INFO] Sniff delimiter as ','\u001b[0m\n",
      "\u001b[34m[2020-07-23:23:54:18:INFO] Determined delimiter of CSV input is ','\u001b[0m\n",
      "\u001b[34m[2020-07-23:23:54:18:INFO] Sniff delimiter as ','\u001b[0m\n",
      "\u001b[34m[2020-07-23:23:54:18:INFO] Determined delimiter of CSV input is ','\u001b[0m\n",
      "\u001b[34m[2020-07-23:23:54:19:INFO] Sniff delimiter as ','\u001b[0m\n",
      "\u001b[34m[2020-07-23:23:54:19:INFO] Determined delimiter of CSV input is ','\u001b[0m\n",
      "\u001b[35m[2020-07-23:23:54:18:INFO] Sniff delimiter as ','\u001b[0m\n",
      "\u001b[35m[2020-07-23:23:54:18:INFO] Determined delimiter of CSV input is ','\u001b[0m\n",
      "\u001b[35m[2020-07-23:23:54:18:INFO] Sniff delimiter as ','\u001b[0m\n",
      "\u001b[35m[2020-07-23:23:54:18:INFO] Determined delimiter of CSV input is ','\u001b[0m\n",
      "\u001b[35m[2020-07-23:23:54:19:INFO] Sniff delimiter as ','\u001b[0m\n",
      "\u001b[35m[2020-07-23:23:54:19:INFO] Determined delimiter of CSV input is ','\u001b[0m\n",
      "\n"
     ]
    }
   ],
   "source": [
    "xgb_transformer.wait()"
   ]
  },
  {
   "cell_type": "markdown",
   "metadata": {},
   "source": [
    "Now the transform job has executed and the result, the estimated sentiment of each review, has been saved on S3. Since we would rather work on this file locally we can perform a bit of notebook magic to copy the file to the `data_dir`."
   ]
  },
  {
   "cell_type": "code",
   "execution_count": 27,
   "metadata": {},
   "outputs": [
    {
     "name": "stdout",
     "output_type": "stream",
     "text": [
      "Completed 256.0 KiB/370.1 KiB (3.9 MiB/s) with 1 file(s) remaining\r",
      "Completed 370.1 KiB/370.1 KiB (5.6 MiB/s) with 1 file(s) remaining\r",
      "download: s3://sagemaker-us-west-2-216538981855/xgboost-2020-07-23-23-50-05-812/test.csv.out to ../data/sentiment_web_app/test.csv.out\r\n"
     ]
    }
   ],
   "source": [
    "!aws s3 cp --recursive $xgb_transformer.output_path $data_dir"
   ]
  },
  {
   "cell_type": "markdown",
   "metadata": {},
   "source": [
    "The last step is now to read in the output from our model, convert the output to something a little more usable, in this case we want the sentiment to be either `1` (positive) or `0` (negative), and then compare to the ground truth labels."
   ]
  },
  {
   "cell_type": "code",
   "execution_count": 28,
   "metadata": {},
   "outputs": [],
   "source": [
    "predictions = pd.read_csv(os.path.join(data_dir, 'test.csv.out'), header=None)\n",
    "predictions = [round(num) for num in predictions.squeeze().values]"
   ]
  },
  {
   "cell_type": "code",
   "execution_count": 29,
   "metadata": {},
   "outputs": [
    {
     "data": {
      "text/plain": [
       "0.86004"
      ]
     },
     "execution_count": 29,
     "metadata": {},
     "output_type": "execute_result"
    }
   ],
   "source": [
    "from sklearn.metrics import accuracy_score\n",
    "accuracy_score(test_y, predictions)"
   ]
  },
  {
   "cell_type": "markdown",
   "metadata": {},
   "source": [
    "## Step 6: Deploying the model\n",
    "\n",
    "Once we construct and fit our model, SageMaker stores the resulting model artifacts and we can use those to deploy an endpoint (inference code). To see this, look in the SageMaker console and you should see that a model has been created along with a link to the S3 location where the model artifacts have been stored.\n",
    "\n",
    "Deploying an endpoint is a lot like training the model with a few important differences. The first is that a deployed model doesn't change the model artifacts, so as you send it various testing instances the model won't change. Another difference is that since we aren't performing a fixed computation, as we were in the training step or while performing a batch transform, the compute instance that gets started stays running until we tell it to stop. This is important to note as if we forget and leave it running we will be charged the entire time.\n",
    "\n",
    "In other words **If you are no longer using a deployed endpoint, shut it down!**"
   ]
  },
  {
   "cell_type": "code",
   "execution_count": 30,
   "metadata": {},
   "outputs": [
    {
     "name": "stderr",
     "output_type": "stream",
     "text": [
      "WARNING:sagemaker:Parameter image will be renamed to image_uri in SageMaker Python SDK v2.\n",
      "WARNING:sagemaker:Using already existing model: xgboost-2020-07-23-23-41-19-907\n"
     ]
    },
    {
     "name": "stdout",
     "output_type": "stream",
     "text": [
      "-------------!"
     ]
    }
   ],
   "source": [
    "xgb_predictor = xgb.deploy(initial_instance_count = 1, instance_type = 'ml.m4.xlarge')"
   ]
  },
  {
   "cell_type": "markdown",
   "metadata": {},
   "source": [
    "### Testing the model (again)\n",
    "\n",
    "Now that we have deployed our endpoint, we can send the testing data to it and get back the inference results. We already did this earlier using the batch transform functionality of SageMaker, however, we will test our model again using the newly deployed endpoint so that we can make sure that it works properly and to get a bit of a feel for how the endpoint works.\n",
    "\n",
    "When using the created endpoint it is important to know that we are limited in the amount of information we can send in each call so we need to break the testing data up into chunks and then send each chunk. Also, we need to serialize our data before we send it to the endpoint to ensure that our data is transmitted properly. Fortunately, SageMaker can do the serialization part for us provided we tell it the format of our data."
   ]
  },
  {
   "cell_type": "code",
   "execution_count": 31,
   "metadata": {},
   "outputs": [],
   "source": [
    "from sagemaker.predictor import csv_serializer\n",
    "\n",
    "# We need to tell the endpoint what format the data we are sending is in so that SageMaker can perform the serialization.\n",
    "xgb_predictor.content_type = 'text/csv'\n",
    "xgb_predictor.serializer = csv_serializer"
   ]
  },
  {
   "cell_type": "code",
   "execution_count": 32,
   "metadata": {},
   "outputs": [],
   "source": [
    "# We split the data into chunks and send each chunk seperately, accumulating the results.\n",
    "\n",
    "def predict(data, rows=512):\n",
    "    split_array = np.array_split(data, int(data.shape[0] / float(rows) + 1))\n",
    "    predictions = ''\n",
    "    for array in split_array:\n",
    "        predictions = ','.join([predictions, xgb_predictor.predict(array).decode('utf-8')])\n",
    "    \n",
    "    return np.fromstring(predictions[1:], sep=',')"
   ]
  },
  {
   "cell_type": "code",
   "execution_count": 33,
   "metadata": {},
   "outputs": [],
   "source": [
    "test_X = pd.read_csv(os.path.join(data_dir, 'test.csv'), header=None).values\n",
    "\n",
    "predictions = predict(test_X)\n",
    "predictions = [round(num) for num in predictions]"
   ]
  },
  {
   "cell_type": "markdown",
   "metadata": {},
   "source": [
    "Lastly, we check to see what the accuracy of our model is."
   ]
  },
  {
   "cell_type": "code",
   "execution_count": 34,
   "metadata": {},
   "outputs": [
    {
     "data": {
      "text/plain": [
       "0.86004"
      ]
     },
     "execution_count": 34,
     "metadata": {},
     "output_type": "execute_result"
    }
   ],
   "source": [
    "from sklearn.metrics import accuracy_score\n",
    "accuracy_score(test_y, predictions)"
   ]
  },
  {
   "cell_type": "markdown",
   "metadata": {},
   "source": [
    "And the results here should agree with the model testing that we did earlier using the batch transform job.\n",
    "\n",
    "### Cleaning up\n",
    "\n",
    "Now that we've determined that deploying our model works as expected, we are going to shut it down. Remember that the longer the endpoint is left running, the greater the cost and since we have a bit more work to do before we are able to use our endpoint with our simple web app, we should shut everything down."
   ]
  },
  {
   "cell_type": "code",
   "execution_count": 35,
   "metadata": {},
   "outputs": [],
   "source": [
    "xgb_predictor.delete_endpoint()"
   ]
  },
  {
   "cell_type": "markdown",
   "metadata": {},
   "source": [
    "## Step 7: Putting our model to work\n",
    "\n",
    "As we've mentioned a few times now, our goal is to have our model deployed and then access it using a very simple web app. The intent is for this web app to take some user submitted data (a review), send it off to our endpoint (the model) and then display the result.\n",
    "\n",
    "However, there is a small catch. Currently the only way we can access the endpoint to send it data is **using the SageMaker API**. We can, if we wish, expose the actual URL that our model's endpoint is receiving data from, however, if we just send it data ourselves we will not get anything in return. This is because **the endpoint created by SageMaker requires the entity accessing it have the correct permissions**. So, we would need to somehow authenticate our web app with AWS.\n",
    "\n",
    "Having a website that authenticates to AWS seems a bit beyond the scope of this lesson so **we will opt for an alternative approach**. Namely, we will **create a new endpoint which does not require authentication and which acts as a proxy for the SageMaker endpoint**.\n",
    "\n",
    "As an additional constraint, we will try to avoid doing any data processing in the web app itself. Remember that when we constructed and tested our model we started with a movie review, then we simplified it by removing any html formatting and punctuation, then we constructed a bag of words embedding and the resulting vector is what we sent to our model. All of this needs to be done to our user input as well.\n",
    "\n",
    "Fortunately we can do all of this data processing in the backend, using Amazon's Lambda service.\n",
    "\n",
    "<img src=\"Web App Diagram.svg\">\n",
    "\n",
    "The diagram above gives an overview of how the various services will work together. On the far right is the model which we trained above and which will be deployed using SageMaker. On the far left is our web app that collects a user's movie review, sends it off and expects a positive or negative sentiment in return.\n",
    "\n",
    "In the middle is where some of the magic happens. We will construct a **Lambda function**, which you can think of as a straightforward **Python function that can be executed whenever a specified event occurs**. This Python function will do the data processing we need to perform on a user submitted review. In addition, we will give this function permission to send and recieve data from a SageMaker endpoint.\n",
    "\n",
    "Lastly, **the method** we will use **to execute the Lambda function** is a **new endpoint that we will create using API Gateway**. This endpoint will be a url that listens for data to be sent to it. Once it gets some data it will pass that data on to the Lambda function and then return whatever the Lambda function returns. Essentially it will **act as an interface that lets our web app communicate with the Lambda function**.\n",
    "\n",
    "### Processing a single review\n",
    "\n",
    "For now, suppose we are given a movie review by our user in the form of a string, like so:"
   ]
  },
  {
   "cell_type": "code",
   "execution_count": 36,
   "metadata": {},
   "outputs": [],
   "source": [
    "test_review = \"Nothing but a disgusting materialistic pageant of glistening abed remote control greed zombies, totally devoid of any heart or heat. A romantic comedy that has zero romantic chemestry and zero laughs!\""
   ]
  },
  {
   "cell_type": "markdown",
   "metadata": {},
   "source": [
    "How do we go from this string to the bag of words feature vector that is expected by our model?\n",
    "\n",
    "If we recall at the beginning of this notebook, the first step is to remove any unnecessary characters using the `review_to_words` method. Remember that we intentionally did this in a very simplistic way. This is because we are going to have to copy this method to our (eventual) Lambda function (we will go into more detail later) and this means it needs to be rather simplistic."
   ]
  },
  {
   "cell_type": "code",
   "execution_count": 37,
   "metadata": {},
   "outputs": [
    {
     "name": "stdout",
     "output_type": "stream",
     "text": [
      "nothing but a disgusting materialistic pageant of glistening abed remote control greed zombies totally devoid of any heart or heat a romantic comedy that has zero romantic chemestry and zero laughs\n"
     ]
    }
   ],
   "source": [
    "test_words = review_to_words(test_review)\n",
    "print(test_words)"
   ]
  },
  {
   "cell_type": "markdown",
   "metadata": {},
   "source": [
    "Next, we need to **construct a bag of words** embedding of the `test_words` string. To do this, remember that a bag of words embedding uses a `vocabulary` consisting of the **most frequently appearing words** in a set of documents. Then, **for each word in the vocabulary we record the number of times that word appears** in `test_words`. We constructed the `vocabulary` earlier using the training set for our problem so encoding `test_words` is relatively straightforward."
   ]
  },
  {
   "cell_type": "code",
   "execution_count": 38,
   "metadata": {},
   "outputs": [],
   "source": [
    "def bow_encoding(words, vocabulary):\n",
    "    bow = [0] * len(vocabulary) # Start by setting the count for each word in the vocabulary to zero.\n",
    "    for word in words.split():  # For each word in the string\n",
    "        if word in vocabulary:  # If the word is one that occurs in the vocabulary, increase its count.\n",
    "            bow[vocabulary[word]] += 1\n",
    "    return bow"
   ]
  },
  {
   "cell_type": "code",
   "execution_count": 39,
   "metadata": {},
   "outputs": [
    {
     "name": "stdout",
     "output_type": "stream",
     "text": [
      "[0, 0, 0, 0, 0, 0, 0, 0, 0, 0, 0, 0, 0, 0, 0, 0, 0, 0, 0, 0, 0, 0, 0, 0, 0, 0, 0, 0, 0, 0, 0, 0, 0, 0, 0, 0, 0, 0, 0, 0, 0, 0, 0, 0, 0, 0, 0, 0, 0, 0, 0, 0, 0, 0, 0, 0, 0, 0, 0, 0, 0, 0, 0, 0, 0, 0, 0, 0, 0, 0, 0, 0, 0, 0, 0, 0, 0, 0, 0, 0, 0, 0, 0, 0, 0, 0, 0, 0, 0, 0, 0, 0, 0, 0, 0, 0, 0, 0, 0, 0, 0, 0, 0, 0, 0, 0, 0, 0, 0, 0, 0, 0, 0, 0, 0, 0, 0, 0, 0, 0, 0, 0, 0, 0, 0, 0, 0, 0, 0, 0, 0, 0, 0, 0, 0, 0, 0, 0, 0, 0, 0, 0, 0, 0, 0, 0, 0, 0, 0, 0, 0, 0, 0, 0, 0, 0, 0, 0, 0, 0, 0, 0, 0, 0, 0, 0, 0, 0, 0, 0, 0, 0, 0, 0, 0, 0, 0, 0, 0, 0, 0, 0, 0, 0, 0, 0, 0, 0, 0, 0, 0, 0, 0, 0, 0, 0, 0, 0, 0, 0, 0, 0, 0, 0, 0, 0, 0, 0, 0, 0, 0, 0, 0, 0, 0, 0, 0, 0, 0, 0, 0, 0, 0, 0, 0, 0, 1, 0, 0, 0, 0, 0, 0, 0, 0, 0, 0, 0, 0, 0, 0, 0, 0, 0, 0, 0, 0, 0, 0, 0, 0, 0, 0, 0, 0, 0, 1, 0, 0, 0, 0, 0, 0, 0, 0, 0, 0, 0, 0, 0, 0, 0, 0, 0, 0, 0, 0, 0, 0, 0, 0, 0, 0, 0, 0, 0, 0, 0, 0, 0, 0, 0, 0, 0, 0, 0, 0, 0, 0, 0, 0, 0, 0, 0, 0, 0, 0, 0, 0, 0, 0, 0, 0, 0, 0, 0, 0, 0, 0, 0, 0, 0, 0, 0, 0, 0, 0, 0, 0, 0, 0, 0, 0, 0, 0, 0, 0, 0, 0, 0, 0, 0, 0, 0, 0, 0, 0, 0, 0, 0, 0, 0, 0, 0, 0, 0, 0, 0, 0, 0, 0, 0, 0, 0, 0, 0, 0, 0, 0, 0, 0, 0, 0, 0, 0, 0, 0, 0, 0, 0, 0, 0, 0, 0, 0, 0, 0, 0, 0, 0, 0, 0, 0, 0, 0, 0, 0, 0, 0, 0, 0, 0, 0, 0, 0, 0, 0, 0, 0, 0, 0, 0, 0, 0, 0, 0, 0, 0, 0, 0, 0, 0, 0, 0, 0, 0, 0, 0, 0, 0, 0, 0, 0, 0, 0, 0, 0, 0, 0, 0, 0, 0, 0, 0, 0, 0, 0, 0, 0, 0, 0, 0, 0, 0, 0, 0, 0, 0, 0, 0, 0, 0, 0, 0, 0, 0, 0, 0, 0, 0, 0, 0, 0, 0, 0, 0, 0, 0, 0, 0, 0, 0, 0, 0, 0, 0, 0, 0, 0, 0, 0, 0, 0, 0, 0, 0, 0, 0, 0, 0, 0, 0, 0, 0, 0, 0, 0, 0, 0, 0, 0, 0, 0, 0, 0, 0, 0, 0, 0, 0, 0, 0, 0, 0, 0, 0, 0, 0, 0, 0, 0, 0, 0, 0, 0, 0, 0, 0, 0, 0, 0, 0, 0, 0, 0, 0, 0, 0, 0, 0, 0, 0, 0, 0, 0, 0, 0, 0, 0, 0, 0, 0, 0, 0, 0, 0, 0, 0, 0, 0, 0, 0, 0, 0, 0, 0, 0, 0, 0, 0, 0, 0, 0, 0, 0, 0, 0, 0, 0, 0, 0, 0, 0, 0, 0, 0, 0, 0, 0, 0, 0, 0, 0, 0, 0, 0, 0, 0, 0, 0, 0, 0, 0, 0, 0, 0, 0, 0, 0, 0, 0, 0, 0, 0, 0, 0, 0, 0, 0, 0, 0, 0, 0, 0, 0, 0, 1, 0, 0, 0, 0, 0, 0, 0, 0, 0, 0, 0, 0, 0, 0, 0, 0, 0, 0, 0, 0, 0, 0, 0, 0, 0, 0, 0, 0, 0, 0, 0, 0, 0, 0, 0, 0, 0, 0, 0, 0, 0, 0, 0, 0, 0, 0, 0, 0, 0, 0, 0, 0, 0, 0, 0, 0, 0, 0, 0, 0, 0, 0, 0, 0, 0, 0, 0, 0, 0, 0, 0, 0, 0, 0, 0, 0, 0, 0, 0, 0, 0, 0, 0, 0, 0, 0, 0, 0, 0, 0, 0, 0, 0, 0, 0, 0, 0, 0, 0, 0, 0, 0, 0, 0, 0, 0, 0, 0, 0, 0, 0, 0, 0, 0, 0, 0, 0, 0, 0, 0, 0, 0, 0, 0, 0, 0, 0, 0, 0, 0, 0, 0, 0, 0, 0, 0, 0, 0, 0, 0, 0, 0, 0, 0, 0, 0, 0, 0, 0, 0, 0, 0, 0, 0, 0, 0, 0, 0, 0, 0, 0, 0, 0, 0, 0, 0, 0, 0, 0, 0, 0, 0, 0, 0, 0, 0, 0, 0, 0, 0, 0, 0, 0, 0, 0, 0, 0, 0, 0, 0, 0, 0, 0, 0, 0, 0, 0, 0, 0, 0, 0, 0, 0, 0, 0, 0, 0, 0, 0, 0, 0, 0, 0, 0, 0, 0, 0, 0, 0, 0, 0, 0, 0, 0, 0, 0, 0, 0, 0, 0, 0, 0, 0, 0, 0, 0, 0, 0, 0, 0, 0, 0, 0, 0, 0, 0, 0, 0, 0, 0, 0, 0, 0, 1, 0, 0, 0, 0, 0, 0, 0, 0, 0, 0, 0, 0, 0, 0, 0, 0, 0, 0, 0, 0, 0, 0, 0, 0, 0, 0, 0, 0, 0, 0, 0, 0, 0, 0, 0, 0, 0, 0, 0, 0, 0, 0, 0, 0, 0, 0, 0, 0, 0, 0, 0, 0, 0, 0, 0, 0, 0, 0, 0, 0, 0, 0, 0, 0, 0, 0, 0, 0, 0, 0, 0, 0, 0, 0, 0, 0, 0, 0, 0, 0, 0, 0, 0, 0, 0, 0, 1, 0, 0, 0, 0, 0, 0, 0, 0, 0, 0, 0, 0, 0, 0, 0, 0, 0, 0, 0, 0, 0, 0, 0, 0, 0, 0, 0, 0, 0, 0, 0, 0, 0, 0, 0, 0, 0, 0, 0, 0, 0, 0, 0, 0, 0, 0, 0, 0, 0, 0, 0, 0, 0, 0, 0, 0, 0, 0, 0, 0, 0, 0, 0, 0, 0, 0, 0, 0, 0, 0, 0, 0, 0, 0, 0, 0, 0, 0, 0, 0, 0, 0, 0, 0, 0, 0, 0, 0, 0, 0, 0, 0, 0, 0, 0, 0, 0, 0, 0, 0, 0, 0, 0, 0, 0, 0, 0, 0, 0, 0, 0, 0, 0, 0, 0, 0, 0, 0, 0, 0, 0, 0, 0, 0, 0, 0, 0, 0, 0, 0, 0, 0, 0, 0, 0, 0, 0, 0, 0, 0, 0, 0, 0, 0, 0, 0, 0, 0, 0, 0, 0, 0, 0, 0, 0, 0, 0, 0, 0, 0, 0, 0, 0, 0, 0, 0, 0, 0, 0, 0, 0, 0, 0, 0, 0, 0, 0, 0, 0, 0, 0, 0, 0, 0, 0, 0, 0, 0, 0, 0, 0, 0, 0, 0, 0, 0, 0, 0, 0, 0, 0, 0, 0, 0, 0, 0, 0, 0, 0, 0, 0, 0, 0, 0, 0, 0, 0, 0, 0, 0, 0, 0, 0, 0, 0, 0, 0, 0, 0, 0, 0, 0, 0, 0, 0, 0, 0, 0, 0, 0, 0, 0, 0, 0, 0, 0, 0, 0, 0, 0, 0, 0, 1, 0, 0, 0, 0, 0, 0, 0, 0, 0, 0, 0, 0, 0, 0, 0, 0, 0, 0, 0, 0, 0, 0, 0, 0, 0, 0, 0, 0, 0, 0, 0, 0, 0, 0, 0, 0, 0, 0, 0, 0, 0, 0, 0, 0, 0, 0, 0, 0, 0, 0, 0, 0, 0, 0, 0, 1, 0, 0, 0, 0, 0, 0, 0, 0, 0, 0, 0, 0, 0, 0, 0, 0, 0, 0, 0, 0, 0, 0, 0, 0, 0, 0, 0, 0, 0, 0, 0, 0, 0, 0, 0, 0, 0, 0, 0, 0, 0, 0, 0, 0, 0, 0, 0, 0, 0, 0, 0, 0, 0, 0, 0, 0, 0, 0, 0, 0, 0, 0, 0, 0, 0, 0, 0, 0, 0, 0, 0, 0, 0, 0, 0, 0, 0, 0, 0, 0, 0, 0, 0, 0, 0, 0, 0, 0, 0, 0, 0, 0, 0, 0, 0, 0, 0, 0, 0, 0, 0, 0, 0, 0, 0, 0, 0, 0, 0, 0, 0, 0, 0, 0, 0, 0, 0, 0, 0, 0, 0, 0, 0, 0, 0, 0, 0, 0, 0, 0, 0, 0, 0, 0, 0, 0, 0, 0, 0, 0, 0, 0, 0, 0, 0, 0, 0, 0, 0, 0, 0, 0, 0, 0, 0, 0, 0, 0, 0, 0, 0, 0, 0, 0, 0, 0, 0, 0, 0, 0, 0, 0, 0, 0, 0, 0, 0, 0, 0, 0, 0, 0, 0, 0, 0, 0, 0, 0, 0, 0, 0, 0, 0, 0, 0, 0, 0, 0, 0, 0, 0, 0, 0, 0, 0, 0, 0, 0, 0, 0, 0, 0, 0, 0, 0, 0, 0, 0, 0, 0, 0, 0, 0, 0, 0, 0, 0, 0, 0, 0, 0, 0, 0, 0, 0, 0, 0, 0, 0, 0, 0, 0, 0, 0, 0, 0, 0, 0, 0, 0, 0, 0, 0, 0, 0, 0, 0, 0, 0, 0, 0, 0, 0, 0, 0, 0, 0, 0, 0, 0, 0, 0, 0, 0, 0, 0, 0, 0, 0, 0, 0, 0, 0, 0, 0, 0, 0, 0, 0, 0, 0, 0, 0, 0, 0, 0, 0, 0, 0, 0, 0, 0, 0, 0, 0, 0, 0, 0, 0, 0, 0, 0, 0, 0, 0, 0, 0, 0, 0, 0, 0, 0, 0, 0, 0, 0, 0, 0, 0, 0, 0, 0, 0, 0, 0, 0, 0, 0, 0, 0, 0, 0, 0, 0, 0, 0, 0, 0, 0, 0, 0, 0, 0, 0, 0, 0, 0, 0, 0, 0, 0, 0, 0, 0, 0, 0, 0, 0, 0, 0, 0, 0, 0, 0, 0, 0, 0, 0, 0, 0, 0, 0, 0, 0, 0, 0, 0, 0, 0, 0, 0, 0, 0, 0, 0, 0, 0, 0, 0, 0, 0, 0, 0, 0, 0, 0, 0, 0, 0, 0, 0, 0, 0, 0, 0, 0, 0, 0, 0, 0, 0, 0, 0, 0, 0, 0, 0, 0, 0, 0, 0, 0, 0, 0, 0, 0, 0, 0, 0, 0, 0, 0, 0, 0, 0, 0, 0, 0, 0, 0, 0, 0, 0, 0, 0, 0, 0, 0, 0, 0, 0, 0, 0, 0, 0, 0, 0, 0, 0, 0, 0, 0, 0, 0, 0, 0, 0, 0, 0, 0, 0, 0, 0, 0, 0, 0, 0, 0, 0, 0, 0, 0, 0, 0, 0, 0, 0, 0, 0, 0, 0, 0, 0, 0, 0, 0, 0, 0, 0, 0, 0, 0, 0, 0, 0, 0, 0, 0, 0, 0, 0, 0, 0, 0, 0, 0, 0, 0, 0, 0, 0, 0, 0, 0, 0, 0, 0, 0, 0, 0, 0, 0, 0, 0, 0, 0, 0, 0, 0, 0, 0, 0, 0, 0, 0, 0, 0, 0, 0, 0, 0, 0, 0, 0, 0, 0, 0, 0, 0, 0, 0, 0, 0, 0, 0, 0, 0, 0, 0, 0, 0, 0, 0, 0, 0, 0, 0, 0, 0, 0, 0, 0, 0, 0, 0, 0, 0, 0, 0, 0, 0, 0, 0, 0, 0, 0, 0, 0, 0, 0, 0, 0, 0, 0, 0, 0, 0, 0, 0, 0, 0, 0, 0, 0, 0, 0, 0, 0, 0, 0, 0, 0, 0, 0, 0, 0, 0, 0, 0, 0, 0, 0, 0, 0, 0, 0, 0, 0, 0, 0, 0, 0, 0, 0, 0, 0, 0, 0, 0, 0, 0, 0, 0, 0, 0, 0, 0, 0, 0, 0, 0, 0, 0, 0, 0, 0, 0, 0, 0, 0, 0, 1, 0, 0, 0, 0, 0, 0, 0, 0, 0, 0, 0, 0, 0, 0, 0, 0, 0, 0, 0, 0, 0, 0, 0, 0, 0, 0, 0, 0, 0, 0, 0, 0, 0, 0, 0, 0, 0, 0, 0, 0, 0, 0, 0, 0, 0, 0, 0, 0, 0, 0, 0, 0, 0, 0, 0, 0, 0, 0, 0, 0, 0, 0, 0, 0, 0, 0, 0, 0, 0, 0, 0, 0, 0, 0, 1, 0, 0, 0, 0, 0, 0, 0, 0, 0, 0, 0, 0, 0, 0, 0, 0, 0, 0, 0, 0, 1, 0, 0, 1, 0, 0, 0, 0, 0, 0, 0, 0, 0, 0, 0, 0, 0, 0, 0, 0, 0, 0, 0, 0, 0, 0, 0, 0, 0, 0, 0, 0, 0, 0, 0, 0, 0, 0, 0, 0, 0, 0, 0, 0, 0, 0, 0, 0, 0, 0, 0, 0, 0, 0, 0, 0, 0, 0, 0, 0, 0, 0, 0, 0, 0, 0, 0, 0, 0, 0, 0, 0, 0, 0, 0, 0, 0, 0, 0, 0, 0, 0, 0, 0, 0, 0, 0, 0, 0, 0, 0, 0, 0, 0, 0, 0, 0, 0, 0, 0, 0, 0, 0, 0, 0, 0, 0, 0, 0, 0, 0, 0, 0, 0, 0, 0, 0, 0, 0, 0, 0, 0, 0, 0, 0, 0, 0, 0, 0, 0, 0, 0, 0, 0, 0, 0, 0, 0, 0, 0, 0, 0, 0, 0, 0, 0, 0, 0, 0, 0, 0, 0, 0, 0, 0, 0, 0, 0, 0, 0, 0, 0, 0, 0, 0, 0, 0, 0, 0, 0, 0, 0, 0, 0, 0, 0, 0, 0, 0, 0, 0, 0, 0, 0, 0, 0, 0, 0, 0, 0, 0, 0, 0, 0, 0, 0, 0, 0, 0, 0, 0, 0, 0, 0, 0, 0, 0, 0, 0, 0, 0, 0, 0, 0, 0, 0, 0, 0, 0, 0, 0, 0, 0, 0, 0, 0, 0, 0, 0, 0, 0, 0, 0, 0, 0, 0, 0, 0, 0, 0, 0, 0, 0, 0, 0, 0, 0, 0, 0, 0, 0, 0, 0, 0, 0, 0, 0, 0, 0, 0, 0, 0, 0, 0, 0, 0, 0, 0, 0, 0, 0, 0, 0, 0, 0, 0, 0, 0, 0, 0, 0, 0, 0, 0, 0, 0, 0, 0, 0, 0, 0, 0, 0, 0, 0, 0, 0, 0, 0, 0, 0, 0, 0, 0, 0, 0, 0, 0, 0, 0, 0, 0, 0, 0, 0, 0, 0, 0, 0, 0, 0, 0, 0, 0, 0, 0, 0, 0, 0, 0, 0, 0, 0, 0, 0, 0, 0, 0, 0, 0, 0, 0, 0, 0, 0, 0, 0, 0, 0, 0, 0, 0, 0, 0, 0, 0, 0, 0, 0, 0, 0, 0, 0, 0, 0, 0, 0, 0, 0, 0, 0, 0, 0, 0, 0, 0, 0, 0, 0, 0, 0, 0, 0, 0, 0, 0, 0, 0, 0, 0, 0, 0, 0, 0, 0, 0, 0, 0, 0, 0, 0, 0, 0, 0, 0, 0, 0, 0, 0, 0, 0, 0, 0, 0, 0, 0, 0, 0, 0, 0, 0, 0, 0, 0, 0, 0, 0, 0, 0, 0, 0, 0, 0, 0, 0, 0, 0, 0, 0, 0, 0, 0, 0, 0, 0, 0, 0, 0, 0, 0, 0, 0, 0, 0, 0, 0, 0, 0, 0, 0, 0, 0, 0, 0, 0, 0, 0, 0, 0, 0, 1, 0, 0, 0, 0, 0, 0, 0, 0, 0, 0, 0, 0, 0, 0, 0, 0, 0, 0, 0, 0, 0, 0, 0, 0, 0, 0, 0, 0, 0, 0, 0, 0, 0, 0, 0, 0, 0, 0, 0, 0, 0, 0, 0, 0, 0, 0, 0, 0, 0, 0, 0, 0, 0, 0, 0, 0, 0, 0, 0, 0, 0, 0, 0, 0, 0, 0, 0, 0, 0, 0, 0, 0, 0, 0, 0, 0, 0, 0, 0, 0, 0, 0, 0, 0, 0, 0, 0, 0, 0, 0, 0, 0, 0, 0, 0, 0, 0, 0, 0, 0, 0, 0, 0, 0, 0, 0, 0, 0, 0, 0, 0, 0, 0, 0, 0, 0, 0, 0, 0, 0, 0, 0, 0, 0, 0, 0, 0, 0, 0, 0, 0, 0, 0, 0, 0, 0, 0, 0, 0, 0, 0, 0, 0, 0, 0, 0, 0, 0, 0, 0, 0, 0, 0, 0, 0, 0, 0, 0, 0, 0, 0, 0, 0, 0, 0, 0, 0, 0, 0, 0, 0, 0, 0, 0, 0, 0, 0, 0, 0, 0, 0, 0, 0, 0, 0, 0, 0, 0, 0, 0, 0, 0, 0, 0, 0, 0, 0, 0, 0, 0, 0, 0, 0, 0, 0, 0, 0, 0, 0, 0, 0, 0, 0, 0, 0, 0, 0, 0, 0, 0, 0, 0, 0, 0, 0, 0, 0, 0, 0, 0, 0, 0, 0, 0, 0, 0, 0, 0, 0, 0, 0, 0, 0, 0, 0, 0, 0, 0, 0, 0, 0, 0, 0, 0, 0, 0, 0, 0, 0, 0, 0, 0, 0, 0, 0, 0, 0, 0, 0, 0, 0, 0, 0, 0, 0, 0, 0, 0, 0, 0, 0, 0, 0, 0, 0, 0, 0, 0, 0, 0, 0, 0, 0, 0, 0, 0, 0, 0, 0, 0, 0, 0, 0, 0, 0, 0, 0, 0, 0, 0, 0, 0, 0, 0, 0, 0, 0, 0, 0, 0, 0, 0, 0, 0, 0, 0, 0, 0, 0, 0, 0, 0, 0, 0, 0, 0, 0, 0, 0, 0, 0, 0, 0, 0, 0, 0, 0, 0, 0, 0, 0, 0, 0, 0, 0, 0, 0, 0, 0, 0, 0, 0, 0, 0, 0, 0, 0, 0, 0, 0, 0, 0, 0, 0, 0, 0, 0, 0, 0, 0, 0, 0, 0, 0, 0, 0, 0, 0, 0, 0, 0, 0, 0, 0, 0, 0, 0, 0, 0, 0, 0, 0, 0, 0, 0, 0, 0, 0, 0, 0, 0, 0, 0, 0, 0, 0, 0, 0, 0, 0, 0, 0, 0, 0, 0, 0, 0, 0, 0, 0, 0, 0, 0, 0, 0, 0, 0, 0, 0, 0, 0, 0, 0, 0, 0, 0, 0, 0, 0, 0, 0, 0, 0, 0, 0, 0, 0, 0, 0, 0, 0, 0, 0, 0, 0, 0, 0, 0, 0, 0, 0, 0, 0, 0, 0, 0, 0, 0, 0, 0, 0, 0, 0, 0, 0, 0, 0, 0, 0, 0, 0, 0, 0, 0, 0, 0, 0, 0, 0, 0, 0, 0, 0, 0, 0, 0, 0, 0, 0, 0, 0, 0, 1, 0, 0, 0, 0, 0, 0, 0, 0, 0, 0, 0, 0, 0, 0, 0, 0, 0, 0, 0, 0, 0, 0, 0, 0, 0, 0, 0, 0, 0, 0, 0, 0, 0, 0, 0, 2, 0, 0, 0, 0, 0, 0, 0, 0, 0, 0, 0, 0, 0, 0, 0, 0, 0, 0, 0, 0, 0, 0, 0, 0, 0, 0, 0, 0, 0, 0, 0, 0, 0, 0, 0, 0, 0, 0, 0, 0, 1, 0, 0, 0, 0, 0, 0, 0, 0, 0, 0, 0, 0, 0, 0, 0, 0, 0, 0, 0, 0, 0, 0, 0, 0, 0, 0, 0, 0, 0, 0, 0, 0, 0, 0, 0, 0, 0, 0, 0, 0, 0, 0, 0, 0, 0, 0, 0, 0, 0, 0, 0, 0, 0, 0, 0, 0, 0, 0, 0, 0, 0, 0, 0, 0, 0, 0, 0, 0, 0, 0, 0, 0, 0, 0, 0, 0, 0, 0, 0, 0, 0, 0, 0, 0, 0, 0, 0, 0, 0, 0, 0, 0, 0, 0, 0, 0, 0, 0, 0, 0, 0, 0, 0, 0, 0, 0, 0, 0, 0, 0, 0, 0, 0, 0, 0, 0, 0, 0, 0, 0, 0, 0, 0, 0, 0, 0, 0, 0, 0, 0, 0, 0, 0, 0, 0, 0, 0, 0, 0, 0, 0, 0, 0, 0, 0, 0, 0, 0, 0, 0, 0, 0, 0, 0, 0, 0, 0, 0, 0, 0, 0, 0, 0, 0, 0, 0, 0, 0, 0, 0, 0, 0, 0, 0, 0, 0, 0, 0, 0, 0, 0, 0, 0, 0, 0, 0, 0, 0, 0, 0, 0, 0, 0, 0, 0, 0, 0, 0, 0, 0, 0, 0, 0, 0, 0, 0, 0, 0, 0, 0, 0, 0, 0, 0, 0, 0, 0, 0, 0, 0, 0, 0, 0, 0, 0, 0, 0, 0, 0, 0, 0, 0, 0, 0, 0, 0, 0, 0, 0, 0, 0, 0, 0, 0, 0, 0, 0, 0, 0, 0, 0, 0, 0, 0, 0, 0, 0, 0, 0, 0, 0, 0, 0, 0, 0, 0, 0, 0, 0, 0, 0, 0, 0, 0, 0, 0, 0, 0, 0, 0, 0, 0, 0, 0, 0, 0, 0, 0, 0, 0, 0, 0, 0, 0, 0, 0, 0, 0, 0, 0, 0, 0, 0, 0, 0, 0, 0, 0, 0, 0, 0, 0, 0, 0, 0, 0, 0, 0, 0, 0, 0, 0, 0, 0, 0, 0, 0, 0, 0, 0, 0, 0, 0, 0, 0, 0, 0, 0, 0, 0, 0, 0, 0, 0, 0, 0, 0, 0, 0, 0, 0, 0, 0, 0, 0, 0, 0, 0, 0, 0, 0, 0, 0, 0, 0, 0, 0, 0, 0, 0, 0, 0, 0, 0, 0, 0, 0, 0, 0, 0, 0, 0, 0, 0, 0, 0, 0, 0, 0, 0, 0, 0, 0, 0, 0, 0, 0, 0, 0, 0, 0, 0, 0, 0, 0, 0, 0, 0, 0, 0, 0, 0, 0, 0, 0, 0, 0, 0, 0, 0, 0, 0, 0, 0, 0, 0, 0, 0, 0, 0, 0, 0, 0, 0, 0, 0, 0, 0, 0, 0, 0, 0, 0, 0, 0, 0, 0, 0, 0, 0, 0, 0, 0, 0, 0, 0, 0, 0, 0, 0, 0, 0, 0, 0, 0, 0, 0, 0, 0, 0, 0, 0, 0, 0, 0, 0, 0, 0, 0, 0, 0, 0, 0, 0, 0, 0, 0, 0, 0, 0, 0, 0, 0, 0, 0, 0, 0, 1, 0, 0, 0, 0, 0, 0, 0, 0, 0, 0, 0, 0, 0, 0, 0, 0, 0, 0, 0, 0, 0, 0, 0, 0, 0, 0, 0, 0, 0, 0, 0, 0, 0, 0, 0, 0, 0, 0, 0, 0, 0, 0, 0, 0, 0, 0, 0, 0, 0, 0, 0, 0, 0, 0, 0, 0, 0, 0, 0, 0, 0, 0, 0, 0, 0, 0, 0, 0, 0, 0, 0, 0, 0, 0, 0, 0, 0, 0, 0, 0, 0, 0, 0, 0, 0, 0, 0, 0, 0, 0, 0, 0, 0, 0, 0, 0, 0, 0, 0, 0, 0, 0, 0, 0, 0, 0, 0, 0, 0, 0, 2, 0, 0, 0, 0, 0, 0, 0, 0, 0, 0, 0, 0, 0, 0, 0, 0, 0, 0, 0, 0, 0, 0, 0, 0, 0, 0, 0, 0, 0, 0, 0, 0, 0, 0, 0, 0, 0, 0, 0, 0, 0, 0, 0, 0, 0, 0, 0, 0, 0, 0, 0, 0, 0, 0, 0, 0, 0, 0, 0, 0, 0, 0, 0, 0, 0, 0, 0, 0, 0, 0, 0, 0, 0, 0, 0, 0, 0, 0, 0, 0, 0, 0, 0, 0, 0, 0, 0, 0, 0, 0, 0, 0, 0, 0, 0, 0, 0, 0, 0, 0, 0, 0, 0, 0, 0, 0, 0, 0, 0, 0, 0, 0, 0, 0, 0, 0, 0, 0, 0, 0, 0, 0, 0, 0, 0, 0, 0, 0, 0, 0, 0, 0, 0, 0, 0, 0, 0, 0, 0, 0, 0, 0, 0, 0, 0, 0, 0, 0, 0, 0, 0, 0, 0, 0, 0, 0, 0, 0, 0, 0, 0, 0, 0, 0, 0, 0, 0, 0, 0, 0, 0, 0, 0, 0, 0, 0, 0, 0, 0, 0, 0, 0, 0, 0, 0, 0, 0, 0, 0, 0, 0, 0, 0, 0, 0, 0, 0, 0, 0, 0, 0, 0, 0, 0, 0, 0, 0, 0, 0, 0, 0, 0, 0, 0, 0, 0, 0, 0, 0, 0, 0, 0, 0, 0, 0, 0, 0, 0, 0, 0, 0, 0, 0, 0, 0, 0, 0, 0, 0, 0, 0, 0, 0, 0, 0, 0, 0, 0, 0, 0, 0, 0, 0, 0, 0, 0, 0, 0, 0, 0, 0, 0, 0, 0, 0, 0, 0, 0, 0, 0, 0, 0, 0, 0, 0, 0, 0, 0, 0, 0, 0, 0, 0, 0, 0, 0, 0, 0, 0, 0, 0, 0, 0, 0, 0, 0, 0, 0, 0, 0, 0, 0, 0, 0, 0, 0, 0, 0, 0, 0, 0, 0, 0, 0, 0, 0, 0, 0, 0, 0, 0, 0, 0, 0, 0, 0, 0, 0, 0, 0, 0, 0, 0, 0, 0, 0, 0, 0, 0, 0, 0, 0, 0, 0, 0, 0, 0, 0, 0, 0, 0, 0, 0, 0, 0, 0, 0, 0, 0, 0, 0, 0, 0, 0, 0, 0, 0, 0, 0, 0, 0, 0, 0, 0, 0, 0, 0, 0, 0, 0, 0, 0, 0, 0, 0, 0, 0, 0, 0, 0, 0, 0, 0, 0, 0, 0, 0, 0, 0, 0, 0, 0, 0, 0, 0, 0, 0, 0, 0, 0, 0, 0, 0, 0, 0, 0, 0, 0, 0, 0, 0, 0, 0, 0, 0, 0, 0, 0, 0, 0, 0, 0, 0, 0, 0, 0, 0, 0, 0, 0, 0, 0, 0, 0, 0, 0, 0, 0, 0, 0, 0, 0, 0, 0, 0, 0, 0, 0, 0, 0, 0, 0, 0, 0, 0, 0, 0, 0, 0, 0, 0, 0, 0, 0, 0, 0, 0, 0, 0, 0, 0, 0, 0, 0, 0, 0, 0, 0, 0, 0, 0, 0, 0, 0, 0, 0, 0, 0, 0, 0, 0, 0, 0, 0, 0, 0, 0, 0, 0, 0, 0, 0, 0, 0, 0, 0, 0, 0, 0, 0, 0, 0, 0, 0, 0, 0, 0, 0, 0, 0, 0, 0, 0, 0, 0, 0, 0, 0, 0, 0, 0, 0, 0, 0, 0, 0, 0, 0, 0, 0, 0, 0, 0, 0, 0, 0, 0, 0, 0, 0, 0, 0, 0, 0, 0, 0, 0, 0, 0, 0, 0, 0, 0, 0, 0, 0, 0, 0, 0, 0, 0, 0, 0, 0, 0, 0, 0, 0, 0, 0, 0, 0, 0, 0, 0, 0, 0, 0, 0, 0, 0, 0, 0, 0, 0, 0, 0, 0, 0, 0, 0, 0, 0, 0, 0, 0, 0, 0, 0, 0, 0, 0, 0, 0, 0, 0, 0, 0, 0, 0, 0, 0, 0, 0, 0, 0, 0, 0, 0, 0, 0, 0, 0, 0, 0, 0, 0, 0, 0, 0, 0, 0, 0, 0, 0, 0, 0, 0, 0, 0, 0, 0, 0, 0, 0, 0, 0, 0, 0, 0, 0, 0, 0, 0, 0, 0, 0, 0, 0, 0, 0, 0, 0, 0, 0, 0, 0, 0, 0, 0, 1, 0, 0, 0, 0, 0, 0, 0, 0, 0, 0, 0, 0, 0, 0, 0, 0, 0, 0, 0, 0, 0, 0, 0, 0, 0, 0, 0, 0, 0, 0, 0, 0, 0, 0, 0, 0, 0, 0, 0, 0, 0, 0, 0, 0, 0, 0, 0, 0, 0, 0, 0, 0, 0, 0, 0, 0, 0, 0, 0, 0, 0, 0, 0, 0, 0, 0, 0, 0, 0, 0, 0, 0, 0, 0, 0, 0, 0, 0, 0, 0, 0, 0, 0, 0, 0, 0, 0, 0, 0, 0, 0, 0, 0, 0, 0, 0, 0, 0, 0, 0, 0, 0, 0, 0, 0, 0, 0, 1, 0, 0, 0, 0, 0, 0, 0, 0, 0, 0, 0, 0, 0, 0, 0, 0, 0, 0, 0, 0, 0, 0, 0, 0, 0, 0, 0, 0, 0, 0, 0, 0, 0, 0, 0, 0, 0, 0, 0, 0, 0, 0, 0, 0, 0, 0, 0, 0, 0, 0, 0, 0, 0, 0, 0, 0, 0, 0, 0, 0, 0, 0, 0, 0, 0, 0, 0, 0, 0, 0, 0, 0, 0, 0, 0, 0, 0, 0, 0, 0, 0, 0, 0, 0, 0, 0, 0, 0, 0, 0, 0, 0, 0, 0, 0, 0, 0, 0, 0, 0, 0, 0, 0, 0, 0, 0, 0, 0, 0, 0, 0, 0, 0, 0, 0, 0, 0, 0, 0, 0, 0, 0, 0, 0, 0, 0, 0, 0, 0, 0, 0, 0, 0, 0, 0, 0, 0, 0, 0, 0, 0, 0, 0, 0, 0, 0, 0, 0, 0, 0, 0, 0, 0, 0, 0, 0, 0, 0, 0, 0, 0, 0, 0, 0, 0, 0, 0, 0, 0, 0, 0, 0, 0, 0, 0, 0, 0, 0, 0, 0, 0, 0, 0, 0, 0, 0, 0, 0, 0, 0, 0, 0, 0, 0, 0, 0, 0, 0, 0, 0, 0, 0, 0, 0, 0, 0, 0, 0, 0, 0, 0, 0, 0, 0, 0, 0, 0, 0, 0, 0, 0, 0, 0, 0, 0, 0, 0, 0, 0, 0, 0, 0, 0, 0, 0, 0, 0, 0, 0, 0, 0, 0, 0, 0, 0, 0, 0, 0, 0, 0, 0, 0, 0, 0, 0, 0, 0, 0, 0, 0, 0, 0, 0, 0, 0, 0, 0, 0, 0, 0, 0, 0, 0, 0, 0, 0, 0, 0, 0, 0, 0, 0, 0, 0, 0, 0, 0, 0, 0, 0, 0, 0, 0, 0, 0, 0, 0, 0, 0, 0, 0, 0, 0, 0, 0, 0, 0, 0, 0, 0, 0, 0, 0, 0, 0, 0, 0, 0, 0, 0, 0, 0, 0, 0, 0, 0, 0, 0, 0, 0, 0, 0, 0, 0, 0, 0, 0, 0, 0, 0, 0, 0, 0, 0, 0, 0, 0, 0, 0, 0, 0, 0, 0, 0, 0, 0, 0, 0, 0, 0, 0, 0, 0, 0, 0, 0, 0, 0, 0, 0, 0, 0, 0, 0, 0, 0, 0, 0, 0, 0, 0, 0, 0, 0, 0, 0, 0, 0, 0, 0, 0, 0, 0, 0, 0, 0, 0, 0, 0, 0, 0, 0, 0, 0, 0, 0, 0, 0, 0, 0, 0, 0, 0, 0, 0, 0, 0, 0, 0, 0, 0, 0, 0, 0, 0, 0, 0, 0, 0, 0, 0, 0, 0, 0, 0, 0, 0, 0, 0, 0, 0, 0, 0, 0, 0, 0, 0, 0, 0, 0, 0, 0, 0, 0, 0, 0, 0, 0, 0, 0, 0, 0, 0, 2, 0, 1, 0]\n"
     ]
    }
   ],
   "source": [
    "test_bow = bow_encoding(test_words, vocabulary)\n",
    "print(test_bow)"
   ]
  },
  {
   "cell_type": "code",
   "execution_count": 40,
   "metadata": {},
   "outputs": [
    {
     "data": {
      "text/plain": [
       "5000"
      ]
     },
     "execution_count": 40,
     "metadata": {},
     "output_type": "execute_result"
    }
   ],
   "source": [
    "len(test_bow)"
   ]
  },
  {
   "cell_type": "markdown",
   "metadata": {},
   "source": [
    "So now we know how to construct a bag of words encoding of a user provided review, how to we send it to our endpoint? **First**, we need to **start the endpoint back up**."
   ]
  },
  {
   "cell_type": "code",
   "execution_count": 49,
   "metadata": {},
   "outputs": [
    {
     "name": "stderr",
     "output_type": "stream",
     "text": [
      "WARNING:sagemaker:Parameter image will be renamed to image_uri in SageMaker Python SDK v2.\n",
      "WARNING:sagemaker:Using already existing model: xgboost-2020-07-23-23-41-19-907\n"
     ]
    },
    {
     "name": "stdout",
     "output_type": "stream",
     "text": [
      "---------------!"
     ]
    }
   ],
   "source": [
    "xgb_predictor = xgb.deploy(initial_instance_count = 1, instance_type = 'ml.m4.xlarge')"
   ]
  },
  {
   "cell_type": "markdown",
   "metadata": {},
   "source": [
    "At this point we could just do the same thing that we did earlier when we tested our deployed model and send `test_bow` to our endpoint using the `xgb_predictor` object. However, when we eventually construct our Lambda function we won't have access to this object, so how do we call a SageMaker endpoint?\n",
    "\n",
    "It turns out that Python functions that are used in Lambda have access to another Amazon library called `boto3`. This library provides an API for working with Amazon services, including SageMaker. To start with, we need to get a handle to the SageMaker runtime."
   ]
  },
  {
   "cell_type": "code",
   "execution_count": 50,
   "metadata": {},
   "outputs": [],
   "source": [
    "import boto3\n",
    "\n",
    "runtime = boto3.Session().client('sagemaker-runtime')"
   ]
  },
  {
   "cell_type": "markdown",
   "metadata": {},
   "source": [
    "And now that we have access to the SageMaker runtime, we can ask it to make use of (invoke) an endpoint that has already been created. However, we need to provide SageMaker with the name of the deployed endpoint. To find this out we can print it out using the `xgb_predictor` object."
   ]
  },
  {
   "cell_type": "code",
   "execution_count": 51,
   "metadata": {},
   "outputs": [
    {
     "data": {
      "text/plain": [
       "'xgboost-2020-07-23-23-41-19-907'"
      ]
     },
     "execution_count": 51,
     "metadata": {},
     "output_type": "execute_result"
    }
   ],
   "source": [
    "xgb_predictor.endpoint"
   ]
  },
  {
   "cell_type": "markdown",
   "metadata": {},
   "source": [
    "Using the SageMaker runtime and the name of our endpoint, we can invoke the endpoint and send it the `test_bow` data."
   ]
  },
  {
   "cell_type": "code",
   "execution_count": 44,
   "metadata": {},
   "outputs": [
    {
     "ename": "ParamValidationError",
     "evalue": "Parameter validation failed:\nInvalid type for parameter Body, value: [0, 0, 0, 0, 0, 0, 0, 0, 0, 0, 0, 0, 0, 0, 0, 0, 0, 0, 0, 0, 0, 0, 0, 0, 0, 0, 0, 0, 0, 0, 0, 0, 0, 0, 0, 0, 0, 0, 0, 0, 0, 0, 0, 0, 0, 0, 0, 0, 0, 0, 0, 0, 0, 0, 0, 0, 0, 0, 0, 0, 0, 0, 0, 0, 0, 0, 0, 0, 0, 0, 0, 0, 0, 0, 0, 0, 0, 0, 0, 0, 0, 0, 0, 0, 0, 0, 0, 0, 0, 0, 0, 0, 0, 0, 0, 0, 0, 0, 0, 0, 0, 0, 0, 0, 0, 0, 0, 0, 0, 0, 0, 0, 0, 0, 0, 0, 0, 0, 0, 0, 0, 0, 0, 0, 0, 0, 0, 0, 0, 0, 0, 0, 0, 0, 0, 0, 0, 0, 0, 0, 0, 0, 0, 0, 0, 0, 0, 0, 0, 0, 0, 0, 0, 0, 0, 0, 0, 0, 0, 0, 0, 0, 0, 0, 0, 0, 0, 0, 0, 0, 0, 0, 0, 0, 0, 0, 0, 0, 0, 0, 0, 0, 0, 0, 0, 0, 0, 0, 0, 0, 0, 0, 0, 0, 0, 0, 0, 0, 0, 0, 0, 0, 0, 0, 0, 0, 0, 0, 0, 0, 0, 0, 0, 0, 0, 0, 0, 0, 0, 0, 0, 0, 0, 0, 0, 0, 1, 0, 0, 0, 0, 0, 0, 0, 0, 0, 0, 0, 0, 0, 0, 0, 0, 0, 0, 0, 0, 0, 0, 0, 0, 0, 0, 0, 0, 0, 1, 0, 0, 0, 0, 0, 0, 0, 0, 0, 0, 0, 0, 0, 0, 0, 0, 0, 0, 0, 0, 0, 0, 0, 0, 0, 0, 0, 0, 0, 0, 0, 0, 0, 0, 0, 0, 0, 0, 0, 0, 0, 0, 0, 0, 0, 0, 0, 0, 0, 0, 0, 0, 0, 0, 0, 0, 0, 0, 0, 0, 0, 0, 0, 0, 0, 0, 0, 0, 0, 0, 0, 0, 0, 0, 0, 0, 0, 0, 0, 0, 0, 0, 0, 0, 0, 0, 0, 0, 0, 0, 0, 0, 0, 0, 0, 0, 0, 0, 0, 0, 0, 0, 0, 0, 0, 0, 0, 0, 0, 0, 0, 0, 0, 0, 0, 0, 0, 0, 0, 0, 0, 0, 0, 0, 0, 0, 0, 0, 0, 0, 0, 0, 0, 0, 0, 0, 0, 0, 0, 0, 0, 0, 0, 0, 0, 0, 0, 0, 0, 0, 0, 0, 0, 0, 0, 0, 0, 0, 0, 0, 0, 0, 0, 0, 0, 0, 0, 0, 0, 0, 0, 0, 0, 0, 0, 0, 0, 0, 0, 0, 0, 0, 0, 0, 0, 0, 0, 0, 0, 0, 0, 0, 0, 0, 0, 0, 0, 0, 0, 0, 0, 0, 0, 0, 0, 0, 0, 0, 0, 0, 0, 0, 0, 0, 0, 0, 0, 0, 0, 0, 0, 0, 0, 0, 0, 0, 0, 0, 0, 0, 0, 0, 0, 0, 0, 0, 0, 0, 0, 0, 0, 0, 0, 0, 0, 0, 0, 0, 0, 0, 0, 0, 0, 0, 0, 0, 0, 0, 0, 0, 0, 0, 0, 0, 0, 0, 0, 0, 0, 0, 0, 0, 0, 0, 0, 0, 0, 0, 0, 0, 0, 0, 0, 0, 0, 0, 0, 0, 0, 0, 0, 0, 0, 0, 0, 0, 0, 0, 0, 0, 0, 0, 0, 0, 0, 0, 0, 0, 0, 0, 0, 0, 0, 0, 0, 0, 0, 0, 0, 0, 0, 0, 0, 0, 0, 0, 0, 0, 0, 0, 0, 0, 0, 0, 0, 0, 0, 0, 0, 0, 0, 0, 0, 0, 0, 0, 0, 0, 0, 0, 0, 0, 0, 0, 0, 0, 0, 0, 0, 0, 0, 0, 0, 0, 0, 0, 0, 0, 0, 0, 0, 0, 0, 0, 0, 0, 0, 0, 0, 1, 0, 0, 0, 0, 0, 0, 0, 0, 0, 0, 0, 0, 0, 0, 0, 0, 0, 0, 0, 0, 0, 0, 0, 0, 0, 0, 0, 0, 0, 0, 0, 0, 0, 0, 0, 0, 0, 0, 0, 0, 0, 0, 0, 0, 0, 0, 0, 0, 0, 0, 0, 0, 0, 0, 0, 0, 0, 0, 0, 0, 0, 0, 0, 0, 0, 0, 0, 0, 0, 0, 0, 0, 0, 0, 0, 0, 0, 0, 0, 0, 0, 0, 0, 0, 0, 0, 0, 0, 0, 0, 0, 0, 0, 0, 0, 0, 0, 0, 0, 0, 0, 0, 0, 0, 0, 0, 0, 0, 0, 0, 0, 0, 0, 0, 0, 0, 0, 0, 0, 0, 0, 0, 0, 0, 0, 0, 0, 0, 0, 0, 0, 0, 0, 0, 0, 0, 0, 0, 0, 0, 0, 0, 0, 0, 0, 0, 0, 0, 0, 0, 0, 0, 0, 0, 0, 0, 0, 0, 0, 0, 0, 0, 0, 0, 0, 0, 0, 0, 0, 0, 0, 0, 0, 0, 0, 0, 0, 0, 0, 0, 0, 0, 0, 0, 0, 0, 0, 0, 0, 0, 0, 0, 0, 0, 0, 0, 0, 0, 0, 0, 0, 0, 0, 0, 0, 0, 0, 0, 0, 0, 0, 0, 0, 0, 0, 0, 0, 0, 0, 0, 0, 0, 0, 0, 0, 0, 0, 0, 0, 0, 0, 0, 0, 0, 0, 0, 0, 0, 0, 0, 0, 0, 0, 0, 0, 0, 0, 0, 0, 0, 0, 0, 0, 1, 0, 0, 0, 0, 0, 0, 0, 0, 0, 0, 0, 0, 0, 0, 0, 0, 0, 0, 0, 0, 0, 0, 0, 0, 0, 0, 0, 0, 0, 0, 0, 0, 0, 0, 0, 0, 0, 0, 0, 0, 0, 0, 0, 0, 0, 0, 0, 0, 0, 0, 0, 0, 0, 0, 0, 0, 0, 0, 0, 0, 0, 0, 0, 0, 0, 0, 0, 0, 0, 0, 0, 0, 0, 0, 0, 0, 0, 0, 0, 0, 0, 0, 0, 0, 0, 0, 1, 0, 0, 0, 0, 0, 0, 0, 0, 0, 0, 0, 0, 0, 0, 0, 0, 0, 0, 0, 0, 0, 0, 0, 0, 0, 0, 0, 0, 0, 0, 0, 0, 0, 0, 0, 0, 0, 0, 0, 0, 0, 0, 0, 0, 0, 0, 0, 0, 0, 0, 0, 0, 0, 0, 0, 0, 0, 0, 0, 0, 0, 0, 0, 0, 0, 0, 0, 0, 0, 0, 0, 0, 0, 0, 0, 0, 0, 0, 0, 0, 0, 0, 0, 0, 0, 0, 0, 0, 0, 0, 0, 0, 0, 0, 0, 0, 0, 0, 0, 0, 0, 0, 0, 0, 0, 0, 0, 0, 0, 0, 0, 0, 0, 0, 0, 0, 0, 0, 0, 0, 0, 0, 0, 0, 0, 0, 0, 0, 0, 0, 0, 0, 0, 0, 0, 0, 0, 0, 0, 0, 0, 0, 0, 0, 0, 0, 0, 0, 0, 0, 0, 0, 0, 0, 0, 0, 0, 0, 0, 0, 0, 0, 0, 0, 0, 0, 0, 0, 0, 0, 0, 0, 0, 0, 0, 0, 0, 0, 0, 0, 0, 0, 0, 0, 0, 0, 0, 0, 0, 0, 0, 0, 0, 0, 0, 0, 0, 0, 0, 0, 0, 0, 0, 0, 0, 0, 0, 0, 0, 0, 0, 0, 0, 0, 0, 0, 0, 0, 0, 0, 0, 0, 0, 0, 0, 0, 0, 0, 0, 0, 0, 0, 0, 0, 0, 0, 0, 0, 0, 0, 0, 0, 0, 0, 0, 0, 0, 0, 0, 0, 0, 0, 1, 0, 0, 0, 0, 0, 0, 0, 0, 0, 0, 0, 0, 0, 0, 0, 0, 0, 0, 0, 0, 0, 0, 0, 0, 0, 0, 0, 0, 0, 0, 0, 0, 0, 0, 0, 0, 0, 0, 0, 0, 0, 0, 0, 0, 0, 0, 0, 0, 0, 0, 0, 0, 0, 0, 0, 1, 0, 0, 0, 0, 0, 0, 0, 0, 0, 0, 0, 0, 0, 0, 0, 0, 0, 0, 0, 0, 0, 0, 0, 0, 0, 0, 0, 0, 0, 0, 0, 0, 0, 0, 0, 0, 0, 0, 0, 0, 0, 0, 0, 0, 0, 0, 0, 0, 0, 0, 0, 0, 0, 0, 0, 0, 0, 0, 0, 0, 0, 0, 0, 0, 0, 0, 0, 0, 0, 0, 0, 0, 0, 0, 0, 0, 0, 0, 0, 0, 0, 0, 0, 0, 0, 0, 0, 0, 0, 0, 0, 0, 0, 0, 0, 0, 0, 0, 0, 0, 0, 0, 0, 0, 0, 0, 0, 0, 0, 0, 0, 0, 0, 0, 0, 0, 0, 0, 0, 0, 0, 0, 0, 0, 0, 0, 0, 0, 0, 0, 0, 0, 0, 0, 0, 0, 0, 0, 0, 0, 0, 0, 0, 0, 0, 0, 0, 0, 0, 0, 0, 0, 0, 0, 0, 0, 0, 0, 0, 0, 0, 0, 0, 0, 0, 0, 0, 0, 0, 0, 0, 0, 0, 0, 0, 0, 0, 0, 0, 0, 0, 0, 0, 0, 0, 0, 0, 0, 0, 0, 0, 0, 0, 0, 0, 0, 0, 0, 0, 0, 0, 0, 0, 0, 0, 0, 0, 0, 0, 0, 0, 0, 0, 0, 0, 0, 0, 0, 0, 0, 0, 0, 0, 0, 0, 0, 0, 0, 0, 0, 0, 0, 0, 0, 0, 0, 0, 0, 0, 0, 0, 0, 0, 0, 0, 0, 0, 0, 0, 0, 0, 0, 0, 0, 0, 0, 0, 0, 0, 0, 0, 0, 0, 0, 0, 0, 0, 0, 0, 0, 0, 0, 0, 0, 0, 0, 0, 0, 0, 0, 0, 0, 0, 0, 0, 0, 0, 0, 0, 0, 0, 0, 0, 0, 0, 0, 0, 0, 0, 0, 0, 0, 0, 0, 0, 0, 0, 0, 0, 0, 0, 0, 0, 0, 0, 0, 0, 0, 0, 0, 0, 0, 0, 0, 0, 0, 0, 0, 0, 0, 0, 0, 0, 0, 0, 0, 0, 0, 0, 0, 0, 0, 0, 0, 0, 0, 0, 0, 0, 0, 0, 0, 0, 0, 0, 0, 0, 0, 0, 0, 0, 0, 0, 0, 0, 0, 0, 0, 0, 0, 0, 0, 0, 0, 0, 0, 0, 0, 0, 0, 0, 0, 0, 0, 0, 0, 0, 0, 0, 0, 0, 0, 0, 0, 0, 0, 0, 0, 0, 0, 0, 0, 0, 0, 0, 0, 0, 0, 0, 0, 0, 0, 0, 0, 0, 0, 0, 0, 0, 0, 0, 0, 0, 0, 0, 0, 0, 0, 0, 0, 0, 0, 0, 0, 0, 0, 0, 0, 0, 0, 0, 0, 0, 0, 0, 0, 0, 0, 0, 0, 0, 0, 0, 0, 0, 0, 0, 0, 0, 0, 0, 0, 0, 0, 0, 0, 0, 0, 0, 0, 0, 0, 0, 0, 0, 0, 0, 0, 0, 0, 0, 0, 0, 0, 0, 0, 0, 0, 0, 0, 0, 0, 0, 0, 0, 0, 0, 0, 0, 0, 0, 0, 0, 0, 0, 0, 0, 0, 0, 0, 0, 0, 0, 0, 0, 0, 0, 0, 0, 0, 0, 0, 0, 0, 0, 0, 0, 0, 0, 0, 0, 0, 0, 0, 0, 0, 0, 0, 0, 0, 0, 0, 0, 0, 0, 0, 0, 0, 0, 0, 0, 0, 0, 0, 0, 0, 0, 0, 0, 0, 0, 0, 0, 0, 0, 0, 0, 0, 0, 0, 0, 0, 0, 0, 0, 0, 0, 0, 0, 0, 0, 0, 0, 0, 0, 0, 0, 0, 0, 0, 0, 0, 0, 0, 0, 0, 0, 0, 0, 0, 0, 0, 0, 0, 0, 0, 0, 0, 0, 0, 0, 0, 0, 0, 0, 0, 0, 0, 0, 0, 0, 0, 0, 0, 0, 0, 0, 0, 0, 0, 0, 0, 0, 0, 0, 0, 0, 0, 0, 0, 0, 0, 0, 0, 0, 0, 0, 0, 0, 0, 0, 0, 0, 0, 0, 0, 0, 0, 0, 0, 0, 0, 0, 0, 0, 0, 0, 0, 0, 0, 0, 0, 0, 0, 0, 0, 0, 0, 0, 0, 0, 1, 0, 0, 0, 0, 0, 0, 0, 0, 0, 0, 0, 0, 0, 0, 0, 0, 0, 0, 0, 0, 0, 0, 0, 0, 0, 0, 0, 0, 0, 0, 0, 0, 0, 0, 0, 0, 0, 0, 0, 0, 0, 0, 0, 0, 0, 0, 0, 0, 0, 0, 0, 0, 0, 0, 0, 0, 0, 0, 0, 0, 0, 0, 0, 0, 0, 0, 0, 0, 0, 0, 0, 0, 0, 0, 1, 0, 0, 0, 0, 0, 0, 0, 0, 0, 0, 0, 0, 0, 0, 0, 0, 0, 0, 0, 0, 1, 0, 0, 1, 0, 0, 0, 0, 0, 0, 0, 0, 0, 0, 0, 0, 0, 0, 0, 0, 0, 0, 0, 0, 0, 0, 0, 0, 0, 0, 0, 0, 0, 0, 0, 0, 0, 0, 0, 0, 0, 0, 0, 0, 0, 0, 0, 0, 0, 0, 0, 0, 0, 0, 0, 0, 0, 0, 0, 0, 0, 0, 0, 0, 0, 0, 0, 0, 0, 0, 0, 0, 0, 0, 0, 0, 0, 0, 0, 0, 0, 0, 0, 0, 0, 0, 0, 0, 0, 0, 0, 0, 0, 0, 0, 0, 0, 0, 0, 0, 0, 0, 0, 0, 0, 0, 0, 0, 0, 0, 0, 0, 0, 0, 0, 0, 0, 0, 0, 0, 0, 0, 0, 0, 0, 0, 0, 0, 0, 0, 0, 0, 0, 0, 0, 0, 0, 0, 0, 0, 0, 0, 0, 0, 0, 0, 0, 0, 0, 0, 0, 0, 0, 0, 0, 0, 0, 0, 0, 0, 0, 0, 0, 0, 0, 0, 0, 0, 0, 0, 0, 0, 0, 0, 0, 0, 0, 0, 0, 0, 0, 0, 0, 0, 0, 0, 0, 0, 0, 0, 0, 0, 0, 0, 0, 0, 0, 0, 0, 0, 0, 0, 0, 0, 0, 0, 0, 0, 0, 0, 0, 0, 0, 0, 0, 0, 0, 0, 0, 0, 0, 0, 0, 0, 0, 0, 0, 0, 0, 0, 0, 0, 0, 0, 0, 0, 0, 0, 0, 0, 0, 0, 0, 0, 0, 0, 0, 0, 0, 0, 0, 0, 0, 0, 0, 0, 0, 0, 0, 0, 0, 0, 0, 0, 0, 0, 0, 0, 0, 0, 0, 0, 0, 0, 0, 0, 0, 0, 0, 0, 0, 0, 0, 0, 0, 0, 0, 0, 0, 0, 0, 0, 0, 0, 0, 0, 0, 0, 0, 0, 0, 0, 0, 0, 0, 0, 0, 0, 0, 0, 0, 0, 0, 0, 0, 0, 0, 0, 0, 0, 0, 0, 0, 0, 0, 0, 0, 0, 0, 0, 0, 0, 0, 0, 0, 0, 0, 0, 0, 0, 0, 0, 0, 0, 0, 0, 0, 0, 0, 0, 0, 0, 0, 0, 0, 0, 0, 0, 0, 0, 0, 0, 0, 0, 0, 0, 0, 0, 0, 0, 0, 0, 0, 0, 0, 0, 0, 0, 0, 0, 0, 0, 0, 0, 0, 0, 0, 0, 0, 0, 0, 0, 0, 0, 0, 0, 0, 0, 0, 0, 0, 0, 0, 0, 0, 0, 0, 0, 0, 0, 0, 0, 0, 0, 0, 0, 0, 0, 0, 0, 0, 0, 0, 0, 0, 0, 0, 0, 0, 0, 0, 0, 0, 0, 0, 0, 0, 0, 0, 0, 0, 0, 0, 0, 0, 0, 0, 0, 0, 0, 0, 0, 0, 0, 0, 0, 0, 0, 0, 0, 0, 0, 0, 0, 0, 0, 0, 0, 0, 0, 1, 0, 0, 0, 0, 0, 0, 0, 0, 0, 0, 0, 0, 0, 0, 0, 0, 0, 0, 0, 0, 0, 0, 0, 0, 0, 0, 0, 0, 0, 0, 0, 0, 0, 0, 0, 0, 0, 0, 0, 0, 0, 0, 0, 0, 0, 0, 0, 0, 0, 0, 0, 0, 0, 0, 0, 0, 0, 0, 0, 0, 0, 0, 0, 0, 0, 0, 0, 0, 0, 0, 0, 0, 0, 0, 0, 0, 0, 0, 0, 0, 0, 0, 0, 0, 0, 0, 0, 0, 0, 0, 0, 0, 0, 0, 0, 0, 0, 0, 0, 0, 0, 0, 0, 0, 0, 0, 0, 0, 0, 0, 0, 0, 0, 0, 0, 0, 0, 0, 0, 0, 0, 0, 0, 0, 0, 0, 0, 0, 0, 0, 0, 0, 0, 0, 0, 0, 0, 0, 0, 0, 0, 0, 0, 0, 0, 0, 0, 0, 0, 0, 0, 0, 0, 0, 0, 0, 0, 0, 0, 0, 0, 0, 0, 0, 0, 0, 0, 0, 0, 0, 0, 0, 0, 0, 0, 0, 0, 0, 0, 0, 0, 0, 0, 0, 0, 0, 0, 0, 0, 0, 0, 0, 0, 0, 0, 0, 0, 0, 0, 0, 0, 0, 0, 0, 0, 0, 0, 0, 0, 0, 0, 0, 0, 0, 0, 0, 0, 0, 0, 0, 0, 0, 0, 0, 0, 0, 0, 0, 0, 0, 0, 0, 0, 0, 0, 0, 0, 0, 0, 0, 0, 0, 0, 0, 0, 0, 0, 0, 0, 0, 0, 0, 0, 0, 0, 0, 0, 0, 0, 0, 0, 0, 0, 0, 0, 0, 0, 0, 0, 0, 0, 0, 0, 0, 0, 0, 0, 0, 0, 0, 0, 0, 0, 0, 0, 0, 0, 0, 0, 0, 0, 0, 0, 0, 0, 0, 0, 0, 0, 0, 0, 0, 0, 0, 0, 0, 0, 0, 0, 0, 0, 0, 0, 0, 0, 0, 0, 0, 0, 0, 0, 0, 0, 0, 0, 0, 0, 0, 0, 0, 0, 0, 0, 0, 0, 0, 0, 0, 0, 0, 0, 0, 0, 0, 0, 0, 0, 0, 0, 0, 0, 0, 0, 0, 0, 0, 0, 0, 0, 0, 0, 0, 0, 0, 0, 0, 0, 0, 0, 0, 0, 0, 0, 0, 0, 0, 0, 0, 0, 0, 0, 0, 0, 0, 0, 0, 0, 0, 0, 0, 0, 0, 0, 0, 0, 0, 0, 0, 0, 0, 0, 0, 0, 0, 0, 0, 0, 0, 0, 0, 0, 0, 0, 0, 0, 0, 0, 0, 0, 0, 0, 0, 0, 0, 0, 0, 0, 0, 0, 0, 0, 0, 0, 0, 0, 0, 0, 0, 0, 0, 0, 0, 0, 0, 0, 0, 0, 0, 0, 0, 0, 0, 0, 0, 0, 0, 0, 0, 0, 0, 0, 0, 0, 0, 0, 0, 0, 0, 0, 0, 0, 0, 0, 0, 0, 0, 0, 0, 0, 0, 0, 0, 0, 0, 0, 0, 0, 0, 0, 0, 0, 0, 0, 0, 0, 0, 0, 0, 0, 0, 0, 0, 0, 0, 0, 0, 0, 0, 0, 0, 0, 0, 1, 0, 0, 0, 0, 0, 0, 0, 0, 0, 0, 0, 0, 0, 0, 0, 0, 0, 0, 0, 0, 0, 0, 0, 0, 0, 0, 0, 0, 0, 0, 0, 0, 0, 0, 0, 2, 0, 0, 0, 0, 0, 0, 0, 0, 0, 0, 0, 0, 0, 0, 0, 0, 0, 0, 0, 0, 0, 0, 0, 0, 0, 0, 0, 0, 0, 0, 0, 0, 0, 0, 0, 0, 0, 0, 0, 0, 1, 0, 0, 0, 0, 0, 0, 0, 0, 0, 0, 0, 0, 0, 0, 0, 0, 0, 0, 0, 0, 0, 0, 0, 0, 0, 0, 0, 0, 0, 0, 0, 0, 0, 0, 0, 0, 0, 0, 0, 0, 0, 0, 0, 0, 0, 0, 0, 0, 0, 0, 0, 0, 0, 0, 0, 0, 0, 0, 0, 0, 0, 0, 0, 0, 0, 0, 0, 0, 0, 0, 0, 0, 0, 0, 0, 0, 0, 0, 0, 0, 0, 0, 0, 0, 0, 0, 0, 0, 0, 0, 0, 0, 0, 0, 0, 0, 0, 0, 0, 0, 0, 0, 0, 0, 0, 0, 0, 0, 0, 0, 0, 0, 0, 0, 0, 0, 0, 0, 0, 0, 0, 0, 0, 0, 0, 0, 0, 0, 0, 0, 0, 0, 0, 0, 0, 0, 0, 0, 0, 0, 0, 0, 0, 0, 0, 0, 0, 0, 0, 0, 0, 0, 0, 0, 0, 0, 0, 0, 0, 0, 0, 0, 0, 0, 0, 0, 0, 0, 0, 0, 0, 0, 0, 0, 0, 0, 0, 0, 0, 0, 0, 0, 0, 0, 0, 0, 0, 0, 0, 0, 0, 0, 0, 0, 0, 0, 0, 0, 0, 0, 0, 0, 0, 0, 0, 0, 0, 0, 0, 0, 0, 0, 0, 0, 0, 0, 0, 0, 0, 0, 0, 0, 0, 0, 0, 0, 0, 0, 0, 0, 0, 0, 0, 0, 0, 0, 0, 0, 0, 0, 0, 0, 0, 0, 0, 0, 0, 0, 0, 0, 0, 0, 0, 0, 0, 0, 0, 0, 0, 0, 0, 0, 0, 0, 0, 0, 0, 0, 0, 0, 0, 0, 0, 0, 0, 0, 0, 0, 0, 0, 0, 0, 0, 0, 0, 0, 0, 0, 0, 0, 0, 0, 0, 0, 0, 0, 0, 0, 0, 0, 0, 0, 0, 0, 0, 0, 0, 0, 0, 0, 0, 0, 0, 0, 0, 0, 0, 0, 0, 0, 0, 0, 0, 0, 0, 0, 0, 0, 0, 0, 0, 0, 0, 0, 0, 0, 0, 0, 0, 0, 0, 0, 0, 0, 0, 0, 0, 0, 0, 0, 0, 0, 0, 0, 0, 0, 0, 0, 0, 0, 0, 0, 0, 0, 0, 0, 0, 0, 0, 0, 0, 0, 0, 0, 0, 0, 0, 0, 0, 0, 0, 0, 0, 0, 0, 0, 0, 0, 0, 0, 0, 0, 0, 0, 0, 0, 0, 0, 0, 0, 0, 0, 0, 0, 0, 0, 0, 0, 0, 0, 0, 0, 0, 0, 0, 0, 0, 0, 0, 0, 0, 0, 0, 0, 0, 0, 0, 0, 0, 0, 0, 0, 0, 0, 0, 0, 0, 0, 0, 0, 0, 0, 0, 0, 0, 0, 0, 0, 0, 0, 0, 0, 0, 0, 0, 0, 0, 0, 0, 0, 0, 0, 0, 0, 0, 0, 0, 0, 0, 0, 0, 0, 0, 0, 0, 0, 0, 0, 0, 0, 0, 0, 0, 0, 0, 0, 0, 0, 0, 0, 0, 0, 0, 0, 0, 0, 0, 1, 0, 0, 0, 0, 0, 0, 0, 0, 0, 0, 0, 0, 0, 0, 0, 0, 0, 0, 0, 0, 0, 0, 0, 0, 0, 0, 0, 0, 0, 0, 0, 0, 0, 0, 0, 0, 0, 0, 0, 0, 0, 0, 0, 0, 0, 0, 0, 0, 0, 0, 0, 0, 0, 0, 0, 0, 0, 0, 0, 0, 0, 0, 0, 0, 0, 0, 0, 0, 0, 0, 0, 0, 0, 0, 0, 0, 0, 0, 0, 0, 0, 0, 0, 0, 0, 0, 0, 0, 0, 0, 0, 0, 0, 0, 0, 0, 0, 0, 0, 0, 0, 0, 0, 0, 0, 0, 0, 0, 0, 0, 2, 0, 0, 0, 0, 0, 0, 0, 0, 0, 0, 0, 0, 0, 0, 0, 0, 0, 0, 0, 0, 0, 0, 0, 0, 0, 0, 0, 0, 0, 0, 0, 0, 0, 0, 0, 0, 0, 0, 0, 0, 0, 0, 0, 0, 0, 0, 0, 0, 0, 0, 0, 0, 0, 0, 0, 0, 0, 0, 0, 0, 0, 0, 0, 0, 0, 0, 0, 0, 0, 0, 0, 0, 0, 0, 0, 0, 0, 0, 0, 0, 0, 0, 0, 0, 0, 0, 0, 0, 0, 0, 0, 0, 0, 0, 0, 0, 0, 0, 0, 0, 0, 0, 0, 0, 0, 0, 0, 0, 0, 0, 0, 0, 0, 0, 0, 0, 0, 0, 0, 0, 0, 0, 0, 0, 0, 0, 0, 0, 0, 0, 0, 0, 0, 0, 0, 0, 0, 0, 0, 0, 0, 0, 0, 0, 0, 0, 0, 0, 0, 0, 0, 0, 0, 0, 0, 0, 0, 0, 0, 0, 0, 0, 0, 0, 0, 0, 0, 0, 0, 0, 0, 0, 0, 0, 0, 0, 0, 0, 0, 0, 0, 0, 0, 0, 0, 0, 0, 0, 0, 0, 0, 0, 0, 0, 0, 0, 0, 0, 0, 0, 0, 0, 0, 0, 0, 0, 0, 0, 0, 0, 0, 0, 0, 0, 0, 0, 0, 0, 0, 0, 0, 0, 0, 0, 0, 0, 0, 0, 0, 0, 0, 0, 0, 0, 0, 0, 0, 0, 0, 0, 0, 0, 0, 0, 0, 0, 0, 0, 0, 0, 0, 0, 0, 0, 0, 0, 0, 0, 0, 0, 0, 0, 0, 0, 0, 0, 0, 0, 0, 0, 0, 0, 0, 0, 0, 0, 0, 0, 0, 0, 0, 0, 0, 0, 0, 0, 0, 0, 0, 0, 0, 0, 0, 0, 0, 0, 0, 0, 0, 0, 0, 0, 0, 0, 0, 0, 0, 0, 0, 0, 0, 0, 0, 0, 0, 0, 0, 0, 0, 0, 0, 0, 0, 0, 0, 0, 0, 0, 0, 0, 0, 0, 0, 0, 0, 0, 0, 0, 0, 0, 0, 0, 0, 0, 0, 0, 0, 0, 0, 0, 0, 0, 0, 0, 0, 0, 0, 0, 0, 0, 0, 0, 0, 0, 0, 0, 0, 0, 0, 0, 0, 0, 0, 0, 0, 0, 0, 0, 0, 0, 0, 0, 0, 0, 0, 0, 0, 0, 0, 0, 0, 0, 0, 0, 0, 0, 0, 0, 0, 0, 0, 0, 0, 0, 0, 0, 0, 0, 0, 0, 0, 0, 0, 0, 0, 0, 0, 0, 0, 0, 0, 0, 0, 0, 0, 0, 0, 0, 0, 0, 0, 0, 0, 0, 0, 0, 0, 0, 0, 0, 0, 0, 0, 0, 0, 0, 0, 0, 0, 0, 0, 0, 0, 0, 0, 0, 0, 0, 0, 0, 0, 0, 0, 0, 0, 0, 0, 0, 0, 0, 0, 0, 0, 0, 0, 0, 0, 0, 0, 0, 0, 0, 0, 0, 0, 0, 0, 0, 0, 0, 0, 0, 0, 0, 0, 0, 0, 0, 0, 0, 0, 0, 0, 0, 0, 0, 0, 0, 0, 0, 0, 0, 0, 0, 0, 0, 0, 0, 0, 0, 0, 0, 0, 0, 0, 0, 0, 0, 0, 0, 0, 0, 0, 0, 0, 0, 0, 0, 0, 0, 0, 0, 0, 0, 0, 0, 0, 0, 0, 0, 0, 0, 0, 0, 0, 0, 0, 0, 0, 0, 0, 0, 0, 0, 0, 0, 0, 0, 0, 0, 0, 0, 0, 0, 0, 0, 0, 0, 0, 0, 0, 0, 0, 0, 0, 0, 0, 0, 0, 0, 0, 0, 0, 0, 0, 0, 0, 0, 0, 0, 0, 0, 0, 0, 0, 0, 0, 0, 0, 0, 0, 0, 0, 0, 0, 0, 0, 0, 0, 0, 0, 0, 0, 0, 0, 0, 0, 0, 0, 0, 0, 0, 0, 0, 0, 0, 0, 0, 0, 0, 0, 0, 0, 0, 0, 0, 0, 0, 0, 0, 0, 0, 0, 0, 0, 0, 0, 0, 0, 0, 0, 0, 0, 0, 0, 0, 0, 0, 0, 0, 0, 0, 0, 0, 0, 0, 0, 0, 0, 0, 0, 0, 0, 0, 0, 0, 0, 0, 0, 0, 1, 0, 0, 0, 0, 0, 0, 0, 0, 0, 0, 0, 0, 0, 0, 0, 0, 0, 0, 0, 0, 0, 0, 0, 0, 0, 0, 0, 0, 0, 0, 0, 0, 0, 0, 0, 0, 0, 0, 0, 0, 0, 0, 0, 0, 0, 0, 0, 0, 0, 0, 0, 0, 0, 0, 0, 0, 0, 0, 0, 0, 0, 0, 0, 0, 0, 0, 0, 0, 0, 0, 0, 0, 0, 0, 0, 0, 0, 0, 0, 0, 0, 0, 0, 0, 0, 0, 0, 0, 0, 0, 0, 0, 0, 0, 0, 0, 0, 0, 0, 0, 0, 0, 0, 0, 0, 0, 0, 1, 0, 0, 0, 0, 0, 0, 0, 0, 0, 0, 0, 0, 0, 0, 0, 0, 0, 0, 0, 0, 0, 0, 0, 0, 0, 0, 0, 0, 0, 0, 0, 0, 0, 0, 0, 0, 0, 0, 0, 0, 0, 0, 0, 0, 0, 0, 0, 0, 0, 0, 0, 0, 0, 0, 0, 0, 0, 0, 0, 0, 0, 0, 0, 0, 0, 0, 0, 0, 0, 0, 0, 0, 0, 0, 0, 0, 0, 0, 0, 0, 0, 0, 0, 0, 0, 0, 0, 0, 0, 0, 0, 0, 0, 0, 0, 0, 0, 0, 0, 0, 0, 0, 0, 0, 0, 0, 0, 0, 0, 0, 0, 0, 0, 0, 0, 0, 0, 0, 0, 0, 0, 0, 0, 0, 0, 0, 0, 0, 0, 0, 0, 0, 0, 0, 0, 0, 0, 0, 0, 0, 0, 0, 0, 0, 0, 0, 0, 0, 0, 0, 0, 0, 0, 0, 0, 0, 0, 0, 0, 0, 0, 0, 0, 0, 0, 0, 0, 0, 0, 0, 0, 0, 0, 0, 0, 0, 0, 0, 0, 0, 0, 0, 0, 0, 0, 0, 0, 0, 0, 0, 0, 0, 0, 0, 0, 0, 0, 0, 0, 0, 0, 0, 0, 0, 0, 0, 0, 0, 0, 0, 0, 0, 0, 0, 0, 0, 0, 0, 0, 0, 0, 0, 0, 0, 0, 0, 0, 0, 0, 0, 0, 0, 0, 0, 0, 0, 0, 0, 0, 0, 0, 0, 0, 0, 0, 0, 0, 0, 0, 0, 0, 0, 0, 0, 0, 0, 0, 0, 0, 0, 0, 0, 0, 0, 0, 0, 0, 0, 0, 0, 0, 0, 0, 0, 0, 0, 0, 0, 0, 0, 0, 0, 0, 0, 0, 0, 0, 0, 0, 0, 0, 0, 0, 0, 0, 0, 0, 0, 0, 0, 0, 0, 0, 0, 0, 0, 0, 0, 0, 0, 0, 0, 0, 0, 0, 0, 0, 0, 0, 0, 0, 0, 0, 0, 0, 0, 0, 0, 0, 0, 0, 0, 0, 0, 0, 0, 0, 0, 0, 0, 0, 0, 0, 0, 0, 0, 0, 0, 0, 0, 0, 0, 0, 0, 0, 0, 0, 0, 0, 0, 0, 0, 0, 0, 0, 0, 0, 0, 0, 0, 0, 0, 0, 0, 0, 0, 0, 0, 0, 0, 0, 0, 0, 0, 0, 0, 0, 0, 0, 0, 0, 0, 0, 0, 0, 0, 0, 0, 0, 0, 0, 0, 0, 0, 0, 0, 0, 0, 0, 0, 0, 0, 0, 0, 0, 0, 0, 0, 0, 0, 0, 0, 0, 0, 0, 0, 0, 0, 0, 0, 0, 0, 0, 0, 0, 0, 0, 0, 0, 0, 0, 0, 0, 0, 0, 0, 0, 0, 0, 0, 0, 0, 0, 0, 0, 0, 0, 0, 0, 0, 0, 0, 0, 2, 0, 1, 0], type: <class 'list'>, valid types: <class 'bytes'>, <class 'bytearray'>, file-like object",
     "output_type": "error",
     "traceback": [
      "\u001b[0;31m---------------------------------------------------------------------------\u001b[0m",
      "\u001b[0;31mParamValidationError\u001b[0m                      Traceback (most recent call last)",
      "\u001b[0;32m<ipython-input-44-c9ab54ae3a48>\u001b[0m in \u001b[0;36m<module>\u001b[0;34m\u001b[0m\n\u001b[1;32m      1\u001b[0m response = runtime.invoke_endpoint(EndpointName = xgb_predictor.endpoint, # The name of the endpoint we created\n\u001b[1;32m      2\u001b[0m                                        \u001b[0mContentType\u001b[0m \u001b[0;34m=\u001b[0m \u001b[0;34m'text/csv'\u001b[0m\u001b[0;34m,\u001b[0m                     \u001b[0;31m# The data format that is expected\u001b[0m\u001b[0;34m\u001b[0m\u001b[0;34m\u001b[0m\u001b[0m\n\u001b[0;32m----> 3\u001b[0;31m                                        Body = test_bow)\n\u001b[0m",
      "\u001b[0;32m~/anaconda3/envs/python3/lib/python3.6/site-packages/botocore/client.py\u001b[0m in \u001b[0;36m_api_call\u001b[0;34m(self, *args, **kwargs)\u001b[0m\n\u001b[1;32m    314\u001b[0m                     \"%s() only accepts keyword arguments.\" % py_operation_name)\n\u001b[1;32m    315\u001b[0m             \u001b[0;31m# The \"self\" in this scope is referring to the BaseClient.\u001b[0m\u001b[0;34m\u001b[0m\u001b[0;34m\u001b[0m\u001b[0;34m\u001b[0m\u001b[0m\n\u001b[0;32m--> 316\u001b[0;31m             \u001b[0;32mreturn\u001b[0m \u001b[0mself\u001b[0m\u001b[0;34m.\u001b[0m\u001b[0m_make_api_call\u001b[0m\u001b[0;34m(\u001b[0m\u001b[0moperation_name\u001b[0m\u001b[0;34m,\u001b[0m \u001b[0mkwargs\u001b[0m\u001b[0;34m)\u001b[0m\u001b[0;34m\u001b[0m\u001b[0;34m\u001b[0m\u001b[0m\n\u001b[0m\u001b[1;32m    317\u001b[0m \u001b[0;34m\u001b[0m\u001b[0m\n\u001b[1;32m    318\u001b[0m         \u001b[0m_api_call\u001b[0m\u001b[0;34m.\u001b[0m\u001b[0m__name__\u001b[0m \u001b[0;34m=\u001b[0m \u001b[0mstr\u001b[0m\u001b[0;34m(\u001b[0m\u001b[0mpy_operation_name\u001b[0m\u001b[0;34m)\u001b[0m\u001b[0;34m\u001b[0m\u001b[0;34m\u001b[0m\u001b[0m\n",
      "\u001b[0;32m~/anaconda3/envs/python3/lib/python3.6/site-packages/botocore/client.py\u001b[0m in \u001b[0;36m_make_api_call\u001b[0;34m(self, operation_name, api_params)\u001b[0m\n\u001b[1;32m    606\u001b[0m         }\n\u001b[1;32m    607\u001b[0m         request_dict = self._convert_to_request_dict(\n\u001b[0;32m--> 608\u001b[0;31m             api_params, operation_model, context=request_context)\n\u001b[0m\u001b[1;32m    609\u001b[0m \u001b[0;34m\u001b[0m\u001b[0m\n\u001b[1;32m    610\u001b[0m         \u001b[0mservice_id\u001b[0m \u001b[0;34m=\u001b[0m \u001b[0mself\u001b[0m\u001b[0;34m.\u001b[0m\u001b[0m_service_model\u001b[0m\u001b[0;34m.\u001b[0m\u001b[0mservice_id\u001b[0m\u001b[0;34m.\u001b[0m\u001b[0mhyphenize\u001b[0m\u001b[0;34m(\u001b[0m\u001b[0;34m)\u001b[0m\u001b[0;34m\u001b[0m\u001b[0;34m\u001b[0m\u001b[0m\n",
      "\u001b[0;32m~/anaconda3/envs/python3/lib/python3.6/site-packages/botocore/client.py\u001b[0m in \u001b[0;36m_convert_to_request_dict\u001b[0;34m(self, api_params, operation_model, context)\u001b[0m\n\u001b[1;32m    654\u001b[0m             api_params, operation_model, context)\n\u001b[1;32m    655\u001b[0m         request_dict = self._serializer.serialize_to_request(\n\u001b[0;32m--> 656\u001b[0;31m             api_params, operation_model)\n\u001b[0m\u001b[1;32m    657\u001b[0m         \u001b[0;32mif\u001b[0m \u001b[0;32mnot\u001b[0m \u001b[0mself\u001b[0m\u001b[0;34m.\u001b[0m\u001b[0m_client_config\u001b[0m\u001b[0;34m.\u001b[0m\u001b[0minject_host_prefix\u001b[0m\u001b[0;34m:\u001b[0m\u001b[0;34m\u001b[0m\u001b[0;34m\u001b[0m\u001b[0m\n\u001b[1;32m    658\u001b[0m             \u001b[0mrequest_dict\u001b[0m\u001b[0;34m.\u001b[0m\u001b[0mpop\u001b[0m\u001b[0;34m(\u001b[0m\u001b[0;34m'host_prefix'\u001b[0m\u001b[0;34m,\u001b[0m \u001b[0;32mNone\u001b[0m\u001b[0;34m)\u001b[0m\u001b[0;34m\u001b[0m\u001b[0;34m\u001b[0m\u001b[0m\n",
      "\u001b[0;32m~/anaconda3/envs/python3/lib/python3.6/site-packages/botocore/validate.py\u001b[0m in \u001b[0;36mserialize_to_request\u001b[0;34m(self, parameters, operation_model)\u001b[0m\n\u001b[1;32m    295\u001b[0m                                                     operation_model.input_shape)\n\u001b[1;32m    296\u001b[0m             \u001b[0;32mif\u001b[0m \u001b[0mreport\u001b[0m\u001b[0;34m.\u001b[0m\u001b[0mhas_errors\u001b[0m\u001b[0;34m(\u001b[0m\u001b[0;34m)\u001b[0m\u001b[0;34m:\u001b[0m\u001b[0;34m\u001b[0m\u001b[0;34m\u001b[0m\u001b[0m\n\u001b[0;32m--> 297\u001b[0;31m                 \u001b[0;32mraise\u001b[0m \u001b[0mParamValidationError\u001b[0m\u001b[0;34m(\u001b[0m\u001b[0mreport\u001b[0m\u001b[0;34m=\u001b[0m\u001b[0mreport\u001b[0m\u001b[0;34m.\u001b[0m\u001b[0mgenerate_report\u001b[0m\u001b[0;34m(\u001b[0m\u001b[0;34m)\u001b[0m\u001b[0;34m)\u001b[0m\u001b[0;34m\u001b[0m\u001b[0;34m\u001b[0m\u001b[0m\n\u001b[0m\u001b[1;32m    298\u001b[0m         return self._serializer.serialize_to_request(parameters,\n\u001b[1;32m    299\u001b[0m                                                      operation_model)\n",
      "\u001b[0;31mParamValidationError\u001b[0m: Parameter validation failed:\nInvalid type for parameter Body, value: [0, 0, 0, 0, 0, 0, 0, 0, 0, 0, 0, 0, 0, 0, 0, 0, 0, 0, 0, 0, 0, 0, 0, 0, 0, 0, 0, 0, 0, 0, 0, 0, 0, 0, 0, 0, 0, 0, 0, 0, 0, 0, 0, 0, 0, 0, 0, 0, 0, 0, 0, 0, 0, 0, 0, 0, 0, 0, 0, 0, 0, 0, 0, 0, 0, 0, 0, 0, 0, 0, 0, 0, 0, 0, 0, 0, 0, 0, 0, 0, 0, 0, 0, 0, 0, 0, 0, 0, 0, 0, 0, 0, 0, 0, 0, 0, 0, 0, 0, 0, 0, 0, 0, 0, 0, 0, 0, 0, 0, 0, 0, 0, 0, 0, 0, 0, 0, 0, 0, 0, 0, 0, 0, 0, 0, 0, 0, 0, 0, 0, 0, 0, 0, 0, 0, 0, 0, 0, 0, 0, 0, 0, 0, 0, 0, 0, 0, 0, 0, 0, 0, 0, 0, 0, 0, 0, 0, 0, 0, 0, 0, 0, 0, 0, 0, 0, 0, 0, 0, 0, 0, 0, 0, 0, 0, 0, 0, 0, 0, 0, 0, 0, 0, 0, 0, 0, 0, 0, 0, 0, 0, 0, 0, 0, 0, 0, 0, 0, 0, 0, 0, 0, 0, 0, 0, 0, 0, 0, 0, 0, 0, 0, 0, 0, 0, 0, 0, 0, 0, 0, 0, 0, 0, 0, 0, 0, 1, 0, 0, 0, 0, 0, 0, 0, 0, 0, 0, 0, 0, 0, 0, 0, 0, 0, 0, 0, 0, 0, 0, 0, 0, 0, 0, 0, 0, 0, 1, 0, 0, 0, 0, 0, 0, 0, 0, 0, 0, 0, 0, 0, 0, 0, 0, 0, 0, 0, 0, 0, 0, 0, 0, 0, 0, 0, 0, 0, 0, 0, 0, 0, 0, 0, 0, 0, 0, 0, 0, 0, 0, 0, 0, 0, 0, 0, 0, 0, 0, 0, 0, 0, 0, 0, 0, 0, 0, 0, 0, 0, 0, 0, 0, 0, 0, 0, 0, 0, 0, 0, 0, 0, 0, 0, 0, 0, 0, 0, 0, 0, 0, 0, 0, 0, 0, 0, 0, 0, 0, 0, 0, 0, 0, 0, 0, 0, 0, 0, 0, 0, 0, 0, 0, 0, 0, 0, 0, 0, 0, 0, 0, 0, 0, 0, 0, 0, 0, 0, 0, 0, 0, 0, 0, 0, 0, 0, 0, 0, 0, 0, 0, 0, 0, 0, 0, 0, 0, 0, 0, 0, 0, 0, 0, 0, 0, 0, 0, 0, 0, 0, 0, 0, 0, 0, 0, 0, 0, 0, 0, 0, 0, 0, 0, 0, 0, 0, 0, 0, 0, 0, 0, 0, 0, 0, 0, 0, 0, 0, 0, 0, 0, 0, 0, 0, 0, 0, 0, 0, 0, 0, 0, 0, 0, 0, 0, 0, 0, 0, 0, 0, 0, 0, 0, 0, 0, 0, 0, 0, 0, 0, 0, 0, 0, 0, 0, 0, 0, 0, 0, 0, 0, 0, 0, 0, 0, 0, 0, 0, 0, 0, 0, 0, 0, 0, 0, 0, 0, 0, 0, 0, 0, 0, 0, 0, 0, 0, 0, 0, 0, 0, 0, 0, 0, 0, 0, 0, 0, 0, 0, 0, 0, 0, 0, 0, 0, 0, 0, 0, 0, 0, 0, 0, 0, 0, 0, 0, 0, 0, 0, 0, 0, 0, 0, 0, 0, 0, 0, 0, 0, 0, 0, 0, 0, 0, 0, 0, 0, 0, 0, 0, 0, 0, 0, 0, 0, 0, 0, 0, 0, 0, 0, 0, 0, 0, 0, 0, 0, 0, 0, 0, 0, 0, 0, 0, 0, 0, 0, 0, 0, 0, 0, 0, 0, 0, 0, 0, 0, 0, 0, 0, 0, 0, 0, 0, 0, 0, 0, 0, 0, 0, 0, 0, 0, 0, 0, 0, 0, 0, 0, 0, 0, 0, 0, 0, 0, 0, 0, 0, 0, 0, 0, 0, 0, 0, 0, 0, 0, 0, 1, 0, 0, 0, 0, 0, 0, 0, 0, 0, 0, 0, 0, 0, 0, 0, 0, 0, 0, 0, 0, 0, 0, 0, 0, 0, 0, 0, 0, 0, 0, 0, 0, 0, 0, 0, 0, 0, 0, 0, 0, 0, 0, 0, 0, 0, 0, 0, 0, 0, 0, 0, 0, 0, 0, 0, 0, 0, 0, 0, 0, 0, 0, 0, 0, 0, 0, 0, 0, 0, 0, 0, 0, 0, 0, 0, 0, 0, 0, 0, 0, 0, 0, 0, 0, 0, 0, 0, 0, 0, 0, 0, 0, 0, 0, 0, 0, 0, 0, 0, 0, 0, 0, 0, 0, 0, 0, 0, 0, 0, 0, 0, 0, 0, 0, 0, 0, 0, 0, 0, 0, 0, 0, 0, 0, 0, 0, 0, 0, 0, 0, 0, 0, 0, 0, 0, 0, 0, 0, 0, 0, 0, 0, 0, 0, 0, 0, 0, 0, 0, 0, 0, 0, 0, 0, 0, 0, 0, 0, 0, 0, 0, 0, 0, 0, 0, 0, 0, 0, 0, 0, 0, 0, 0, 0, 0, 0, 0, 0, 0, 0, 0, 0, 0, 0, 0, 0, 0, 0, 0, 0, 0, 0, 0, 0, 0, 0, 0, 0, 0, 0, 0, 0, 0, 0, 0, 0, 0, 0, 0, 0, 0, 0, 0, 0, 0, 0, 0, 0, 0, 0, 0, 0, 0, 0, 0, 0, 0, 0, 0, 0, 0, 0, 0, 0, 0, 0, 0, 0, 0, 0, 0, 0, 0, 0, 0, 0, 0, 0, 0, 0, 0, 0, 0, 1, 0, 0, 0, 0, 0, 0, 0, 0, 0, 0, 0, 0, 0, 0, 0, 0, 0, 0, 0, 0, 0, 0, 0, 0, 0, 0, 0, 0, 0, 0, 0, 0, 0, 0, 0, 0, 0, 0, 0, 0, 0, 0, 0, 0, 0, 0, 0, 0, 0, 0, 0, 0, 0, 0, 0, 0, 0, 0, 0, 0, 0, 0, 0, 0, 0, 0, 0, 0, 0, 0, 0, 0, 0, 0, 0, 0, 0, 0, 0, 0, 0, 0, 0, 0, 0, 0, 1, 0, 0, 0, 0, 0, 0, 0, 0, 0, 0, 0, 0, 0, 0, 0, 0, 0, 0, 0, 0, 0, 0, 0, 0, 0, 0, 0, 0, 0, 0, 0, 0, 0, 0, 0, 0, 0, 0, 0, 0, 0, 0, 0, 0, 0, 0, 0, 0, 0, 0, 0, 0, 0, 0, 0, 0, 0, 0, 0, 0, 0, 0, 0, 0, 0, 0, 0, 0, 0, 0, 0, 0, 0, 0, 0, 0, 0, 0, 0, 0, 0, 0, 0, 0, 0, 0, 0, 0, 0, 0, 0, 0, 0, 0, 0, 0, 0, 0, 0, 0, 0, 0, 0, 0, 0, 0, 0, 0, 0, 0, 0, 0, 0, 0, 0, 0, 0, 0, 0, 0, 0, 0, 0, 0, 0, 0, 0, 0, 0, 0, 0, 0, 0, 0, 0, 0, 0, 0, 0, 0, 0, 0, 0, 0, 0, 0, 0, 0, 0, 0, 0, 0, 0, 0, 0, 0, 0, 0, 0, 0, 0, 0, 0, 0, 0, 0, 0, 0, 0, 0, 0, 0, 0, 0, 0, 0, 0, 0, 0, 0, 0, 0, 0, 0, 0, 0, 0, 0, 0, 0, 0, 0, 0, 0, 0, 0, 0, 0, 0, 0, 0, 0, 0, 0, 0, 0, 0, 0, 0, 0, 0, 0, 0, 0, 0, 0, 0, 0, 0, 0, 0, 0, 0, 0, 0, 0, 0, 0, 0, 0, 0, 0, 0, 0, 0, 0, 0, 0, 0, 0, 0, 0, 0, 0, 0, 0, 0, 0, 0, 0, 0, 0, 1, 0, 0, 0, 0, 0, 0, 0, 0, 0, 0, 0, 0, 0, 0, 0, 0, 0, 0, 0, 0, 0, 0, 0, 0, 0, 0, 0, 0, 0, 0, 0, 0, 0, 0, 0, 0, 0, 0, 0, 0, 0, 0, 0, 0, 0, 0, 0, 0, 0, 0, 0, 0, 0, 0, 0, 1, 0, 0, 0, 0, 0, 0, 0, 0, 0, 0, 0, 0, 0, 0, 0, 0, 0, 0, 0, 0, 0, 0, 0, 0, 0, 0, 0, 0, 0, 0, 0, 0, 0, 0, 0, 0, 0, 0, 0, 0, 0, 0, 0, 0, 0, 0, 0, 0, 0, 0, 0, 0, 0, 0, 0, 0, 0, 0, 0, 0, 0, 0, 0, 0, 0, 0, 0, 0, 0, 0, 0, 0, 0, 0, 0, 0, 0, 0, 0, 0, 0, 0, 0, 0, 0, 0, 0, 0, 0, 0, 0, 0, 0, 0, 0, 0, 0, 0, 0, 0, 0, 0, 0, 0, 0, 0, 0, 0, 0, 0, 0, 0, 0, 0, 0, 0, 0, 0, 0, 0, 0, 0, 0, 0, 0, 0, 0, 0, 0, 0, 0, 0, 0, 0, 0, 0, 0, 0, 0, 0, 0, 0, 0, 0, 0, 0, 0, 0, 0, 0, 0, 0, 0, 0, 0, 0, 0, 0, 0, 0, 0, 0, 0, 0, 0, 0, 0, 0, 0, 0, 0, 0, 0, 0, 0, 0, 0, 0, 0, 0, 0, 0, 0, 0, 0, 0, 0, 0, 0, 0, 0, 0, 0, 0, 0, 0, 0, 0, 0, 0, 0, 0, 0, 0, 0, 0, 0, 0, 0, 0, 0, 0, 0, 0, 0, 0, 0, 0, 0, 0, 0, 0, 0, 0, 0, 0, 0, 0, 0, 0, 0, 0, 0, 0, 0, 0, 0, 0, 0, 0, 0, 0, 0, 0, 0, 0, 0, 0, 0, 0, 0, 0, 0, 0, 0, 0, 0, 0, 0, 0, 0, 0, 0, 0, 0, 0, 0, 0, 0, 0, 0, 0, 0, 0, 0, 0, 0, 0, 0, 0, 0, 0, 0, 0, 0, 0, 0, 0, 0, 0, 0, 0, 0, 0, 0, 0, 0, 0, 0, 0, 0, 0, 0, 0, 0, 0, 0, 0, 0, 0, 0, 0, 0, 0, 0, 0, 0, 0, 0, 0, 0, 0, 0, 0, 0, 0, 0, 0, 0, 0, 0, 0, 0, 0, 0, 0, 0, 0, 0, 0, 0, 0, 0, 0, 0, 0, 0, 0, 0, 0, 0, 0, 0, 0, 0, 0, 0, 0, 0, 0, 0, 0, 0, 0, 0, 0, 0, 0, 0, 0, 0, 0, 0, 0, 0, 0, 0, 0, 0, 0, 0, 0, 0, 0, 0, 0, 0, 0, 0, 0, 0, 0, 0, 0, 0, 0, 0, 0, 0, 0, 0, 0, 0, 0, 0, 0, 0, 0, 0, 0, 0, 0, 0, 0, 0, 0, 0, 0, 0, 0, 0, 0, 0, 0, 0, 0, 0, 0, 0, 0, 0, 0, 0, 0, 0, 0, 0, 0, 0, 0, 0, 0, 0, 0, 0, 0, 0, 0, 0, 0, 0, 0, 0, 0, 0, 0, 0, 0, 0, 0, 0, 0, 0, 0, 0, 0, 0, 0, 0, 0, 0, 0, 0, 0, 0, 0, 0, 0, 0, 0, 0, 0, 0, 0, 0, 0, 0, 0, 0, 0, 0, 0, 0, 0, 0, 0, 0, 0, 0, 0, 0, 0, 0, 0, 0, 0, 0, 0, 0, 0, 0, 0, 0, 0, 0, 0, 0, 0, 0, 0, 0, 0, 0, 0, 0, 0, 0, 0, 0, 0, 0, 0, 0, 0, 0, 0, 0, 0, 0, 0, 0, 0, 0, 0, 0, 0, 0, 0, 0, 0, 0, 0, 0, 0, 0, 0, 0, 0, 0, 0, 0, 0, 0, 0, 0, 0, 0, 0, 0, 0, 0, 0, 0, 0, 0, 0, 0, 0, 0, 0, 0, 0, 0, 0, 0, 0, 0, 0, 0, 0, 0, 0, 0, 0, 0, 0, 0, 0, 0, 0, 0, 0, 0, 0, 0, 0, 0, 0, 0, 0, 0, 0, 0, 0, 0, 0, 0, 0, 0, 0, 0, 0, 0, 0, 0, 0, 0, 0, 0, 0, 0, 0, 0, 0, 0, 0, 0, 0, 0, 0, 0, 0, 0, 0, 0, 0, 0, 0, 0, 0, 0, 0, 0, 0, 0, 0, 0, 0, 0, 0, 0, 0, 0, 0, 0, 0, 0, 0, 0, 0, 0, 0, 0, 0, 0, 0, 0, 0, 0, 0, 0, 1, 0, 0, 0, 0, 0, 0, 0, 0, 0, 0, 0, 0, 0, 0, 0, 0, 0, 0, 0, 0, 0, 0, 0, 0, 0, 0, 0, 0, 0, 0, 0, 0, 0, 0, 0, 0, 0, 0, 0, 0, 0, 0, 0, 0, 0, 0, 0, 0, 0, 0, 0, 0, 0, 0, 0, 0, 0, 0, 0, 0, 0, 0, 0, 0, 0, 0, 0, 0, 0, 0, 0, 0, 0, 0, 1, 0, 0, 0, 0, 0, 0, 0, 0, 0, 0, 0, 0, 0, 0, 0, 0, 0, 0, 0, 0, 1, 0, 0, 1, 0, 0, 0, 0, 0, 0, 0, 0, 0, 0, 0, 0, 0, 0, 0, 0, 0, 0, 0, 0, 0, 0, 0, 0, 0, 0, 0, 0, 0, 0, 0, 0, 0, 0, 0, 0, 0, 0, 0, 0, 0, 0, 0, 0, 0, 0, 0, 0, 0, 0, 0, 0, 0, 0, 0, 0, 0, 0, 0, 0, 0, 0, 0, 0, 0, 0, 0, 0, 0, 0, 0, 0, 0, 0, 0, 0, 0, 0, 0, 0, 0, 0, 0, 0, 0, 0, 0, 0, 0, 0, 0, 0, 0, 0, 0, 0, 0, 0, 0, 0, 0, 0, 0, 0, 0, 0, 0, 0, 0, 0, 0, 0, 0, 0, 0, 0, 0, 0, 0, 0, 0, 0, 0, 0, 0, 0, 0, 0, 0, 0, 0, 0, 0, 0, 0, 0, 0, 0, 0, 0, 0, 0, 0, 0, 0, 0, 0, 0, 0, 0, 0, 0, 0, 0, 0, 0, 0, 0, 0, 0, 0, 0, 0, 0, 0, 0, 0, 0, 0, 0, 0, 0, 0, 0, 0, 0, 0, 0, 0, 0, 0, 0, 0, 0, 0, 0, 0, 0, 0, 0, 0, 0, 0, 0, 0, 0, 0, 0, 0, 0, 0, 0, 0, 0, 0, 0, 0, 0, 0, 0, 0, 0, 0, 0, 0, 0, 0, 0, 0, 0, 0, 0, 0, 0, 0, 0, 0, 0, 0, 0, 0, 0, 0, 0, 0, 0, 0, 0, 0, 0, 0, 0, 0, 0, 0, 0, 0, 0, 0, 0, 0, 0, 0, 0, 0, 0, 0, 0, 0, 0, 0, 0, 0, 0, 0, 0, 0, 0, 0, 0, 0, 0, 0, 0, 0, 0, 0, 0, 0, 0, 0, 0, 0, 0, 0, 0, 0, 0, 0, 0, 0, 0, 0, 0, 0, 0, 0, 0, 0, 0, 0, 0, 0, 0, 0, 0, 0, 0, 0, 0, 0, 0, 0, 0, 0, 0, 0, 0, 0, 0, 0, 0, 0, 0, 0, 0, 0, 0, 0, 0, 0, 0, 0, 0, 0, 0, 0, 0, 0, 0, 0, 0, 0, 0, 0, 0, 0, 0, 0, 0, 0, 0, 0, 0, 0, 0, 0, 0, 0, 0, 0, 0, 0, 0, 0, 0, 0, 0, 0, 0, 0, 0, 0, 0, 0, 0, 0, 0, 0, 0, 0, 0, 0, 0, 0, 0, 0, 0, 0, 0, 0, 0, 0, 0, 0, 0, 0, 0, 0, 0, 0, 0, 0, 0, 0, 0, 0, 0, 0, 0, 0, 0, 0, 0, 0, 0, 0, 0, 0, 0, 0, 0, 0, 0, 0, 0, 0, 0, 0, 0, 0, 0, 0, 0, 0, 0, 0, 0, 0, 0, 0, 0, 0, 0, 0, 0, 0, 0, 0, 0, 0, 0, 0, 0, 0, 0, 0, 0, 0, 0, 0, 0, 0, 0, 0, 0, 1, 0, 0, 0, 0, 0, 0, 0, 0, 0, 0, 0, 0, 0, 0, 0, 0, 0, 0, 0, 0, 0, 0, 0, 0, 0, 0, 0, 0, 0, 0, 0, 0, 0, 0, 0, 0, 0, 0, 0, 0, 0, 0, 0, 0, 0, 0, 0, 0, 0, 0, 0, 0, 0, 0, 0, 0, 0, 0, 0, 0, 0, 0, 0, 0, 0, 0, 0, 0, 0, 0, 0, 0, 0, 0, 0, 0, 0, 0, 0, 0, 0, 0, 0, 0, 0, 0, 0, 0, 0, 0, 0, 0, 0, 0, 0, 0, 0, 0, 0, 0, 0, 0, 0, 0, 0, 0, 0, 0, 0, 0, 0, 0, 0, 0, 0, 0, 0, 0, 0, 0, 0, 0, 0, 0, 0, 0, 0, 0, 0, 0, 0, 0, 0, 0, 0, 0, 0, 0, 0, 0, 0, 0, 0, 0, 0, 0, 0, 0, 0, 0, 0, 0, 0, 0, 0, 0, 0, 0, 0, 0, 0, 0, 0, 0, 0, 0, 0, 0, 0, 0, 0, 0, 0, 0, 0, 0, 0, 0, 0, 0, 0, 0, 0, 0, 0, 0, 0, 0, 0, 0, 0, 0, 0, 0, 0, 0, 0, 0, 0, 0, 0, 0, 0, 0, 0, 0, 0, 0, 0, 0, 0, 0, 0, 0, 0, 0, 0, 0, 0, 0, 0, 0, 0, 0, 0, 0, 0, 0, 0, 0, 0, 0, 0, 0, 0, 0, 0, 0, 0, 0, 0, 0, 0, 0, 0, 0, 0, 0, 0, 0, 0, 0, 0, 0, 0, 0, 0, 0, 0, 0, 0, 0, 0, 0, 0, 0, 0, 0, 0, 0, 0, 0, 0, 0, 0, 0, 0, 0, 0, 0, 0, 0, 0, 0, 0, 0, 0, 0, 0, 0, 0, 0, 0, 0, 0, 0, 0, 0, 0, 0, 0, 0, 0, 0, 0, 0, 0, 0, 0, 0, 0, 0, 0, 0, 0, 0, 0, 0, 0, 0, 0, 0, 0, 0, 0, 0, 0, 0, 0, 0, 0, 0, 0, 0, 0, 0, 0, 0, 0, 0, 0, 0, 0, 0, 0, 0, 0, 0, 0, 0, 0, 0, 0, 0, 0, 0, 0, 0, 0, 0, 0, 0, 0, 0, 0, 0, 0, 0, 0, 0, 0, 0, 0, 0, 0, 0, 0, 0, 0, 0, 0, 0, 0, 0, 0, 0, 0, 0, 0, 0, 0, 0, 0, 0, 0, 0, 0, 0, 0, 0, 0, 0, 0, 0, 0, 0, 0, 0, 0, 0, 0, 0, 0, 0, 0, 0, 0, 0, 0, 0, 0, 0, 0, 0, 0, 0, 0, 0, 0, 0, 0, 0, 0, 0, 0, 0, 0, 0, 0, 0, 0, 0, 0, 0, 0, 0, 0, 0, 0, 0, 0, 0, 0, 0, 0, 0, 0, 0, 0, 0, 0, 0, 0, 0, 0, 0, 0, 0, 0, 0, 0, 0, 0, 0, 0, 0, 0, 0, 0, 0, 0, 0, 0, 0, 0, 0, 0, 0, 0, 0, 0, 0, 0, 0, 0, 0, 0, 0, 0, 0, 0, 0, 0, 0, 0, 0, 0, 0, 0, 0, 0, 0, 1, 0, 0, 0, 0, 0, 0, 0, 0, 0, 0, 0, 0, 0, 0, 0, 0, 0, 0, 0, 0, 0, 0, 0, 0, 0, 0, 0, 0, 0, 0, 0, 0, 0, 0, 0, 2, 0, 0, 0, 0, 0, 0, 0, 0, 0, 0, 0, 0, 0, 0, 0, 0, 0, 0, 0, 0, 0, 0, 0, 0, 0, 0, 0, 0, 0, 0, 0, 0, 0, 0, 0, 0, 0, 0, 0, 0, 1, 0, 0, 0, 0, 0, 0, 0, 0, 0, 0, 0, 0, 0, 0, 0, 0, 0, 0, 0, 0, 0, 0, 0, 0, 0, 0, 0, 0, 0, 0, 0, 0, 0, 0, 0, 0, 0, 0, 0, 0, 0, 0, 0, 0, 0, 0, 0, 0, 0, 0, 0, 0, 0, 0, 0, 0, 0, 0, 0, 0, 0, 0, 0, 0, 0, 0, 0, 0, 0, 0, 0, 0, 0, 0, 0, 0, 0, 0, 0, 0, 0, 0, 0, 0, 0, 0, 0, 0, 0, 0, 0, 0, 0, 0, 0, 0, 0, 0, 0, 0, 0, 0, 0, 0, 0, 0, 0, 0, 0, 0, 0, 0, 0, 0, 0, 0, 0, 0, 0, 0, 0, 0, 0, 0, 0, 0, 0, 0, 0, 0, 0, 0, 0, 0, 0, 0, 0, 0, 0, 0, 0, 0, 0, 0, 0, 0, 0, 0, 0, 0, 0, 0, 0, 0, 0, 0, 0, 0, 0, 0, 0, 0, 0, 0, 0, 0, 0, 0, 0, 0, 0, 0, 0, 0, 0, 0, 0, 0, 0, 0, 0, 0, 0, 0, 0, 0, 0, 0, 0, 0, 0, 0, 0, 0, 0, 0, 0, 0, 0, 0, 0, 0, 0, 0, 0, 0, 0, 0, 0, 0, 0, 0, 0, 0, 0, 0, 0, 0, 0, 0, 0, 0, 0, 0, 0, 0, 0, 0, 0, 0, 0, 0, 0, 0, 0, 0, 0, 0, 0, 0, 0, 0, 0, 0, 0, 0, 0, 0, 0, 0, 0, 0, 0, 0, 0, 0, 0, 0, 0, 0, 0, 0, 0, 0, 0, 0, 0, 0, 0, 0, 0, 0, 0, 0, 0, 0, 0, 0, 0, 0, 0, 0, 0, 0, 0, 0, 0, 0, 0, 0, 0, 0, 0, 0, 0, 0, 0, 0, 0, 0, 0, 0, 0, 0, 0, 0, 0, 0, 0, 0, 0, 0, 0, 0, 0, 0, 0, 0, 0, 0, 0, 0, 0, 0, 0, 0, 0, 0, 0, 0, 0, 0, 0, 0, 0, 0, 0, 0, 0, 0, 0, 0, 0, 0, 0, 0, 0, 0, 0, 0, 0, 0, 0, 0, 0, 0, 0, 0, 0, 0, 0, 0, 0, 0, 0, 0, 0, 0, 0, 0, 0, 0, 0, 0, 0, 0, 0, 0, 0, 0, 0, 0, 0, 0, 0, 0, 0, 0, 0, 0, 0, 0, 0, 0, 0, 0, 0, 0, 0, 0, 0, 0, 0, 0, 0, 0, 0, 0, 0, 0, 0, 0, 0, 0, 0, 0, 0, 0, 0, 0, 0, 0, 0, 0, 0, 0, 0, 0, 0, 0, 0, 0, 0, 0, 0, 0, 0, 0, 0, 0, 0, 0, 0, 0, 0, 0, 0, 0, 0, 0, 0, 0, 0, 0, 0, 0, 0, 0, 0, 0, 0, 0, 0, 0, 0, 0, 0, 0, 0, 0, 0, 0, 0, 0, 0, 0, 0, 0, 0, 0, 0, 0, 0, 0, 0, 0, 0, 0, 0, 0, 0, 0, 0, 0, 0, 0, 0, 1, 0, 0, 0, 0, 0, 0, 0, 0, 0, 0, 0, 0, 0, 0, 0, 0, 0, 0, 0, 0, 0, 0, 0, 0, 0, 0, 0, 0, 0, 0, 0, 0, 0, 0, 0, 0, 0, 0, 0, 0, 0, 0, 0, 0, 0, 0, 0, 0, 0, 0, 0, 0, 0, 0, 0, 0, 0, 0, 0, 0, 0, 0, 0, 0, 0, 0, 0, 0, 0, 0, 0, 0, 0, 0, 0, 0, 0, 0, 0, 0, 0, 0, 0, 0, 0, 0, 0, 0, 0, 0, 0, 0, 0, 0, 0, 0, 0, 0, 0, 0, 0, 0, 0, 0, 0, 0, 0, 0, 0, 0, 2, 0, 0, 0, 0, 0, 0, 0, 0, 0, 0, 0, 0, 0, 0, 0, 0, 0, 0, 0, 0, 0, 0, 0, 0, 0, 0, 0, 0, 0, 0, 0, 0, 0, 0, 0, 0, 0, 0, 0, 0, 0, 0, 0, 0, 0, 0, 0, 0, 0, 0, 0, 0, 0, 0, 0, 0, 0, 0, 0, 0, 0, 0, 0, 0, 0, 0, 0, 0, 0, 0, 0, 0, 0, 0, 0, 0, 0, 0, 0, 0, 0, 0, 0, 0, 0, 0, 0, 0, 0, 0, 0, 0, 0, 0, 0, 0, 0, 0, 0, 0, 0, 0, 0, 0, 0, 0, 0, 0, 0, 0, 0, 0, 0, 0, 0, 0, 0, 0, 0, 0, 0, 0, 0, 0, 0, 0, 0, 0, 0, 0, 0, 0, 0, 0, 0, 0, 0, 0, 0, 0, 0, 0, 0, 0, 0, 0, 0, 0, 0, 0, 0, 0, 0, 0, 0, 0, 0, 0, 0, 0, 0, 0, 0, 0, 0, 0, 0, 0, 0, 0, 0, 0, 0, 0, 0, 0, 0, 0, 0, 0, 0, 0, 0, 0, 0, 0, 0, 0, 0, 0, 0, 0, 0, 0, 0, 0, 0, 0, 0, 0, 0, 0, 0, 0, 0, 0, 0, 0, 0, 0, 0, 0, 0, 0, 0, 0, 0, 0, 0, 0, 0, 0, 0, 0, 0, 0, 0, 0, 0, 0, 0, 0, 0, 0, 0, 0, 0, 0, 0, 0, 0, 0, 0, 0, 0, 0, 0, 0, 0, 0, 0, 0, 0, 0, 0, 0, 0, 0, 0, 0, 0, 0, 0, 0, 0, 0, 0, 0, 0, 0, 0, 0, 0, 0, 0, 0, 0, 0, 0, 0, 0, 0, 0, 0, 0, 0, 0, 0, 0, 0, 0, 0, 0, 0, 0, 0, 0, 0, 0, 0, 0, 0, 0, 0, 0, 0, 0, 0, 0, 0, 0, 0, 0, 0, 0, 0, 0, 0, 0, 0, 0, 0, 0, 0, 0, 0, 0, 0, 0, 0, 0, 0, 0, 0, 0, 0, 0, 0, 0, 0, 0, 0, 0, 0, 0, 0, 0, 0, 0, 0, 0, 0, 0, 0, 0, 0, 0, 0, 0, 0, 0, 0, 0, 0, 0, 0, 0, 0, 0, 0, 0, 0, 0, 0, 0, 0, 0, 0, 0, 0, 0, 0, 0, 0, 0, 0, 0, 0, 0, 0, 0, 0, 0, 0, 0, 0, 0, 0, 0, 0, 0, 0, 0, 0, 0, 0, 0, 0, 0, 0, 0, 0, 0, 0, 0, 0, 0, 0, 0, 0, 0, 0, 0, 0, 0, 0, 0, 0, 0, 0, 0, 0, 0, 0, 0, 0, 0, 0, 0, 0, 0, 0, 0, 0, 0, 0, 0, 0, 0, 0, 0, 0, 0, 0, 0, 0, 0, 0, 0, 0, 0, 0, 0, 0, 0, 0, 0, 0, 0, 0, 0, 0, 0, 0, 0, 0, 0, 0, 0, 0, 0, 0, 0, 0, 0, 0, 0, 0, 0, 0, 0, 0, 0, 0, 0, 0, 0, 0, 0, 0, 0, 0, 0, 0, 0, 0, 0, 0, 0, 0, 0, 0, 0, 0, 0, 0, 0, 0, 0, 0, 0, 0, 0, 0, 0, 0, 0, 0, 0, 0, 0, 0, 0, 0, 0, 0, 0, 0, 0, 0, 0, 0, 0, 0, 0, 0, 0, 0, 0, 0, 0, 0, 0, 0, 0, 0, 0, 0, 0, 0, 0, 0, 0, 0, 0, 0, 0, 0, 0, 0, 0, 0, 0, 0, 0, 0, 0, 0, 0, 0, 0, 0, 0, 0, 0, 0, 0, 0, 0, 0, 0, 0, 0, 0, 0, 0, 0, 0, 0, 0, 0, 0, 0, 0, 0, 0, 0, 0, 0, 0, 0, 0, 0, 0, 0, 0, 0, 0, 0, 0, 0, 0, 0, 0, 0, 0, 0, 0, 0, 0, 0, 0, 0, 0, 0, 0, 0, 0, 0, 0, 0, 0, 0, 0, 0, 0, 0, 0, 0, 0, 0, 0, 0, 0, 0, 0, 0, 0, 0, 0, 0, 0, 0, 0, 0, 0, 0, 0, 0, 0, 0, 0, 0, 0, 0, 0, 0, 0, 0, 0, 0, 0, 0, 0, 0, 0, 0, 0, 0, 0, 1, 0, 0, 0, 0, 0, 0, 0, 0, 0, 0, 0, 0, 0, 0, 0, 0, 0, 0, 0, 0, 0, 0, 0, 0, 0, 0, 0, 0, 0, 0, 0, 0, 0, 0, 0, 0, 0, 0, 0, 0, 0, 0, 0, 0, 0, 0, 0, 0, 0, 0, 0, 0, 0, 0, 0, 0, 0, 0, 0, 0, 0, 0, 0, 0, 0, 0, 0, 0, 0, 0, 0, 0, 0, 0, 0, 0, 0, 0, 0, 0, 0, 0, 0, 0, 0, 0, 0, 0, 0, 0, 0, 0, 0, 0, 0, 0, 0, 0, 0, 0, 0, 0, 0, 0, 0, 0, 0, 1, 0, 0, 0, 0, 0, 0, 0, 0, 0, 0, 0, 0, 0, 0, 0, 0, 0, 0, 0, 0, 0, 0, 0, 0, 0, 0, 0, 0, 0, 0, 0, 0, 0, 0, 0, 0, 0, 0, 0, 0, 0, 0, 0, 0, 0, 0, 0, 0, 0, 0, 0, 0, 0, 0, 0, 0, 0, 0, 0, 0, 0, 0, 0, 0, 0, 0, 0, 0, 0, 0, 0, 0, 0, 0, 0, 0, 0, 0, 0, 0, 0, 0, 0, 0, 0, 0, 0, 0, 0, 0, 0, 0, 0, 0, 0, 0, 0, 0, 0, 0, 0, 0, 0, 0, 0, 0, 0, 0, 0, 0, 0, 0, 0, 0, 0, 0, 0, 0, 0, 0, 0, 0, 0, 0, 0, 0, 0, 0, 0, 0, 0, 0, 0, 0, 0, 0, 0, 0, 0, 0, 0, 0, 0, 0, 0, 0, 0, 0, 0, 0, 0, 0, 0, 0, 0, 0, 0, 0, 0, 0, 0, 0, 0, 0, 0, 0, 0, 0, 0, 0, 0, 0, 0, 0, 0, 0, 0, 0, 0, 0, 0, 0, 0, 0, 0, 0, 0, 0, 0, 0, 0, 0, 0, 0, 0, 0, 0, 0, 0, 0, 0, 0, 0, 0, 0, 0, 0, 0, 0, 0, 0, 0, 0, 0, 0, 0, 0, 0, 0, 0, 0, 0, 0, 0, 0, 0, 0, 0, 0, 0, 0, 0, 0, 0, 0, 0, 0, 0, 0, 0, 0, 0, 0, 0, 0, 0, 0, 0, 0, 0, 0, 0, 0, 0, 0, 0, 0, 0, 0, 0, 0, 0, 0, 0, 0, 0, 0, 0, 0, 0, 0, 0, 0, 0, 0, 0, 0, 0, 0, 0, 0, 0, 0, 0, 0, 0, 0, 0, 0, 0, 0, 0, 0, 0, 0, 0, 0, 0, 0, 0, 0, 0, 0, 0, 0, 0, 0, 0, 0, 0, 0, 0, 0, 0, 0, 0, 0, 0, 0, 0, 0, 0, 0, 0, 0, 0, 0, 0, 0, 0, 0, 0, 0, 0, 0, 0, 0, 0, 0, 0, 0, 0, 0, 0, 0, 0, 0, 0, 0, 0, 0, 0, 0, 0, 0, 0, 0, 0, 0, 0, 0, 0, 0, 0, 0, 0, 0, 0, 0, 0, 0, 0, 0, 0, 0, 0, 0, 0, 0, 0, 0, 0, 0, 0, 0, 0, 0, 0, 0, 0, 0, 0, 0, 0, 0, 0, 0, 0, 0, 0, 0, 0, 0, 0, 0, 0, 0, 0, 0, 0, 0, 0, 0, 0, 0, 0, 0, 0, 0, 0, 0, 0, 0, 0, 0, 0, 0, 0, 0, 0, 0, 0, 0, 0, 0, 0, 0, 0, 0, 0, 0, 0, 0, 0, 0, 0, 0, 0, 0, 0, 0, 0, 0, 0, 0, 0, 0, 0, 0, 0, 0, 0, 0, 2, 0, 1, 0], type: <class 'list'>, valid types: <class 'bytes'>, <class 'bytearray'>, file-like object"
     ]
    }
   ],
   "source": [
    "response = runtime.invoke_endpoint(EndpointName = xgb_predictor.endpoint, # The name of the endpoint we created\n",
    "                                       ContentType = 'text/csv',                     # The data format that is expected\n",
    "                                       Body = test_bow)"
   ]
  },
  {
   "cell_type": "markdown",
   "metadata": {},
   "source": [
    "So why did we get an error?\n",
    "\n",
    "Because we tried to send the endpoint a list of integers but it expected us to send data of type `text/csv`. So, we need to convert it."
   ]
  },
  {
   "cell_type": "code",
   "execution_count": 45,
   "metadata": {},
   "outputs": [],
   "source": [
    "response = runtime.invoke_endpoint(EndpointName = xgb_predictor.endpoint, # The name of the endpoint we created\n",
    "                                       ContentType = 'text/csv',                     # The data format that is expected\n",
    "                                       Body = ','.join([str(val) for val in test_bow]).encode('utf-8'))"
   ]
  },
  {
   "cell_type": "code",
   "execution_count": 46,
   "metadata": {},
   "outputs": [
    {
     "name": "stdout",
     "output_type": "stream",
     "text": [
      "{'ResponseMetadata': {'RequestId': '4b4ac042-4013-4ca9-8413-ee6dc0d0a3ba', 'HTTPStatusCode': 200, 'HTTPHeaders': {'x-amzn-requestid': '4b4ac042-4013-4ca9-8413-ee6dc0d0a3ba', 'x-amzn-invoked-production-variant': 'AllTraffic', 'date': 'Fri, 24 Jul 2020 01:43:31 GMT', 'content-type': 'text/csv; charset=utf-8', 'content-length': '14'}, 'RetryAttempts': 0}, 'ContentType': 'text/csv; charset=utf-8', 'InvokedProductionVariant': 'AllTraffic', 'Body': <botocore.response.StreamingBody object at 0x7f70586d15f8>}\n"
     ]
    }
   ],
   "source": [
    "print(response)"
   ]
  },
  {
   "cell_type": "markdown",
   "metadata": {},
   "source": [
    "As we can see, the response from our model is a somewhat complicated looking dict that contains a bunch of information. The bit that we are most interested in is `'Body'` object which is a streaming object that we need to `read` in order to make use of."
   ]
  },
  {
   "cell_type": "code",
   "execution_count": 47,
   "metadata": {},
   "outputs": [
    {
     "name": "stdout",
     "output_type": "stream",
     "text": [
      "0.492360562086\n"
     ]
    }
   ],
   "source": [
    "response = response['Body'].read().decode('utf-8')\n",
    "print(response)"
   ]
  },
  {
   "cell_type": "markdown",
   "metadata": {},
   "source": [
    "Now that we know how to process the incoming user data we can start setting up the infrastructure to make our simple web app work. To do this we will make use of two different services. Amazon's Lambda and API Gateway services.\n",
    "\n",
    "Lambda is a service which allows someone to write some relatively simple code and have it executed whenever a chosen trigger occurs. For example, you may want to update a database whenever new data is uploaded to a folder stored on S3.\n",
    "\n",
    "API Gateway is a service that allows you to create HTTP endpoints (url addresses) which are connected to other AWS services. One of the benefits to this is that you get to decide what credentials, if any, are required to access these endpoints.\n",
    "\n",
    "In our case we are going to set up an HTTP endpoint through API Gateway which is open to the public. Then, whenever anyone sends data to our public endpoint we will trigger a Lambda function which will send the input (in our case a review) to our model's endpoint and then return the result."
   ]
  },
  {
   "cell_type": "markdown",
   "metadata": {},
   "source": [
    "### Setting up a Lambda function\n",
    "\n",
    "The first thing we are going to do is **set up a Lambda function**. This Lambda function **will be executed whenever our public API has data sent to it**. When it is executed it will **receive the data**, perform any sort of processing that is required, **send the data** (the review) **to the SageMaker endpoint** we've created and then **return the result**.\n",
    "\n",
    "#### Part A: Create an IAM Role for the Lambda function\n",
    "\n",
    "Since we want the Lambda function to call a SageMaker endpoint, we need to make sure that it has permission to do so. To do this, we will construct a role that we can later give the Lambda function.\n",
    "\n",
    "Using the AWS Console, navigate to the **IAM** page and click on **Roles**. Then, click on **Create role**. Make sure that the **AWS service** is the type of trusted entity selected and choose **Lambda** as the service that will use this role, then click **Next: Permissions**.\n",
    "\n",
    "In the search box type `sagemaker` and select the check box next to the **AmazonSageMakerFullAccess** policy. Then, click on **Next: Review**.\n",
    "\n",
    "Lastly, give this role a name. Make sure you use a name that you will remember later on, for example `LambdaSageMakerRole`. Then, click on **Create role**."
   ]
  },
  {
   "cell_type": "markdown",
   "metadata": {},
   "source": [
    "#### Part B: Create a Lambda function\n",
    "\n",
    "Now it is time to actually create the Lambda function. Remember from earlier that in order to process the user provided input and send it to our endpoint we need to gather two pieces of information:\n",
    "\n",
    " - The name of the endpoint, and\n",
    " - the vocabulary object.\n",
    "\n",
    "We will copy these pieces of information to our Lambda function after we create it.\n",
    "\n",
    "To start, using the AWS Console, navigate to the AWS Lambda page and click on **Create a function**. When you get to the next page, make sure that **Author from scratch** is selected. Now, name your Lambda function, using a name that you will remember later on, for example `sentiment_analysis_xgboost_func`. Make sure that the **Python 3.6** runtime is selected and then choose the role that you created in the previous part. Then, click on **Create Function**.\n",
    "\n",
    "On the next page you will see some information about the Lambda function you've just created. If you scroll down you should see an editor in which you can write the code that will be executed when your Lambda function is triggered. Collecting the code we wrote above to process a single review and adding it to the provided example `lambda_handler` we arrive at the following.\n",
    "\n",
    "```python\n",
    "# We need to use the low-level library to interact with SageMaker since the SageMaker API\n",
    "# is not available natively through Lambda.\n",
    "import boto3\n",
    "\n",
    "# And we need the regular expression library to do some of the data processing\n",
    "import re\n",
    "\n",
    "REPLACE_NO_SPACE = re.compile(\"(\\.)|(\\;)|(\\:)|(\\!)|(\\')|(\\?)|(\\,)|(\\\")|(\\()|(\\))|(\\[)|(\\])\")\n",
    "REPLACE_WITH_SPACE = re.compile(\"(<br\\s*/><br\\s*/>)|(\\-)|(\\/)\")\n",
    "\n",
    "def review_to_words(review):\n",
    "    words = REPLACE_NO_SPACE.sub(\"\", review.lower())\n",
    "    words = REPLACE_WITH_SPACE.sub(\" \", words)\n",
    "    return words\n",
    "    \n",
    "def bow_encoding(words, vocabulary):\n",
    "    bow = [0] * len(vocabulary) # Start by setting the count for each word in the vocabulary to zero.\n",
    "    for word in words.split():  # For each word in the string\n",
    "        if word in vocabulary:  # If the word is one that occurs in the vocabulary, increase its count.\n",
    "            bow[vocabulary[word]] += 1\n",
    "    return bow\n",
    "\n",
    "\n",
    "def lambda_handler(event, context):\n",
    "    \n",
    "    vocab = \"*** ACTUAL VOCABULARY GOES HERE ***\"\n",
    "    \n",
    "    words = review_to_words(event['body'])\n",
    "    bow = bow_encoding(words, vocab)\n",
    "\n",
    "    # The SageMaker runtime is what allows us to invoke the endpoint that we've created.\n",
    "    runtime = boto3.Session().client('sagemaker-runtime')\n",
    "\n",
    "    # Now we use the SageMaker runtime to invoke our endpoint, sending the review we were given\n",
    "    response = runtime.invoke_endpoint(EndpointName = '***ENDPOINT NAME HERE***',# The name of the endpoint we created\n",
    "                                       ContentType = 'text/csv',                 # The data format that is expected\n",
    "                                       Body = ','.join([str(val) for val in bow]).encode('utf-8')) # The actual review\n",
    "\n",
    "    # The response is an HTTP response whose body contains the result of our inference\n",
    "    result = response['Body'].read().decode('utf-8')\n",
    "    \n",
    "    # Round the result so that our web app only gets '1' or '0' as a response.\n",
    "    result = round(float(result))\n",
    "\n",
    "    return {\n",
    "        'statusCode' : 200,\n",
    "        'headers' : { 'Content-Type' : 'text/plain', 'Access-Control-Allow-Origin' : '*' },\n",
    "        'body' : str(result)\n",
    "    }\n",
    "```"
   ]
  },
  {
   "cell_type": "markdown",
   "metadata": {},
   "source": [
    "Once you have copy and pasted the code above into the Lambda code editor, replace the `**ENDPOINT NAME HERE**` portion with the name of the endpoint that we deployed earlier. You can determine the name of the endpoint using the code cell below."
   ]
  },
  {
   "cell_type": "code",
   "execution_count": 52,
   "metadata": {},
   "outputs": [
    {
     "data": {
      "text/plain": [
       "'xgboost-2020-07-23-23-41-19-907'"
      ]
     },
     "execution_count": 52,
     "metadata": {},
     "output_type": "execute_result"
    }
   ],
   "source": [
    "xgb_predictor.endpoint"
   ]
  },
  {
   "cell_type": "markdown",
   "metadata": {},
   "source": [
    "In addition, you will need to copy the vocabulary dict to the appropriate place in the code at the beginning of the `lambda_handler` method. The cell below prints out the vocabulary dict in a way that is easy to copy and paste."
   ]
  },
  {
   "cell_type": "code",
   "execution_count": 53,
   "metadata": {},
   "outputs": [
    {
     "name": "stdout",
     "output_type": "stream",
     "text": [
      "{'the': 4426, 'viewer': 4738, 'leaves': 2556, 'wondering': 4930, 'why': 4878, 'he': 2056, 'bothered': 549, 'to': 4507, 'watch': 4811, 'this': 4457, 'one': 3107, 'or': 3124, 'for': 1784, 'that': 4424, 'matter': 2769, 'anyone': 259, 'make': 2713, 'it': 2366, 'there': 4438, 'is': 2360, 'no': 3020, 'plot': 3309, 'just': 2437, 'random': 3514, 'scenes': 3811, 'of': 3083, 'ridiculous': 3693, 'action': 100, 'shower': 3957, 'scene': 3809, 'male': 2719, 'but': 636, 'thats': 4425, 'not': 3040, 'much': 2934, 'reason': 3557, 'movie': 2926, 'in': 2257, 'installment': 2303, 'mini': 2854, 'series': 3890, 'narrator': 2967, 'describes': 1196, 'as': 311, 'like': 2599, 'saying': 3800, 'george': 1893, 'washington': 4806, 'lived': 2626, 'many': 2732, 'before': 440, 'alexander': 180, 'great': 1964, 'light': 2595, 'was': 4805, 'and': 226, 'need': 2987, 'say': 3799, 'more': 2904, 'writers': 4969, 'greatest': 1966, 'heroes': 2089, 'bible': 477, 'should': 3951, 'have': 2052, 'at': 331, 'least': 2554, 'paid': 3169, 'closer': 856, 'attention': 345, 'people': 3221, 'events': 1536, 'overall': 3150, 'enjoyed': 1486, 'film': 1716, 'would': 4957, 'recommend': 3571, 'indie': 2276, 'lovers': 2673, 'however': 2183, 'really': 3556, 'want': 4788, 'note': 3044, 'similarities': 3979, 'between': 475, 'parts': 3199, 'especially': 1520, 'where': 4864, 'character': 758, 'about': 67, 'her': 2085, 'sex': 3907, 'life': 2592, 'while': 4868, 'away': 369, 'remarkably': 3614, 'similar': 3978, 'julia': 2427, 'roberts': 3714, 'although': 201, 'acted': 98, 'with': 4911, 'less': 2575, 'intensity': 2317, 'love': 2669, 'also': 199, 'anna': 245, 'name': 2960, 'both': 547, 'cant': 671, 'be': 418, 'now': 3054, 'based': 404, 'on': 3105, 'patrick': 3213, 'play': 3296, 'supposedly': 4307, 'loosely': 2651, 'arthur': 305, 'so': 4046, 'im': 2232, 'sure': 4308, 'how': 2181, 'connection': 946, 'an': 223, 'idea': 2213, 'are': 285, 'title': 4504, 'bad': 382, 'dont': 1324, 'know': 2489, 'begin': 442, 'will': 4886, 'though': 4461, 'here': 2086, 'makes': 2716, 'me': 2778, 'long': 2644, 'complexity': 924, 'cards': 683, 'we': 4823, 'used': 4693, 'give': 1912, 'out': 3141, 'school': 3813, 'you': 4986, 'ones': 3108, 'batman': 413, 'youre': 4992, 'super': 4295, 'crime': 1055, 'fighting': 1709, 'slasher': 4020, 'without': 4913, 'slightest': 4028, 'hint': 2112, 'irony': 2357, 'few': 1700, 'horror': 2168, 'movies': 2927, 'recent': 3566, 'years': 4979, 'influence': 2286, 'scream': 3826, 'villain': 4744, 'easily': 1406, 'scared': 3805, 'when': 4862, 'run': 3755, 'around': 297, 'grab': 1949, 'them': 4432, 'by': 642, 'screaming': 3827, 'score': 3822, 'than': 4420, 'norman': 3035, 'mother': 2911, 'follows': 1775, 'several': 3905, 'childhood': 790, 'friends': 1837, 'grown': 1984, 'up': 4683, 'extremely': 1610, 'since': 3990, 'gives': 1914, 'nothing': 3047, 'else': 1448, 'do': 1302, 'they': 4442, 'stand': 4143, 'wait': 4770, 'until': 4680, 'kills': 2474, 'appears': 278, 'former': 1800, 'jeremy': 2394, 'who': 4871, 'constantly': 958, 'women': 4923, 'beaten': 424, 'men': 2805, 'high': 2100, 'day': 1129, 'scary': 3807, 'their': 4431, 'doom': 1326, 'seems': 3864, 'obvious': 3071, 'suspect': 4327, 'only': 3110, 'problem': 3408, 'numerous': 3062, 'characters': 760, 'could': 1007, 'changed': 750, 'his': 2118, 'appearance': 274, 'look': 2646, 'buff': 611, 'handsome': 2021, 'everyone': 1542, 'heres': 2087, 'order': 3126, 'any': 256, 'sense': 3877, 'suspense': 4330, 'watching': 4815, 'accept': 80, 'reality': 3551, 'which': 4867, 'capable': 672, 'becoming': 435, 'david': 1124, 'turn': 4605, 'into': 2332, 'angel': 231, 'older': 3101, 'hes': 2093, 'terrible': 4407, 'actor': 103, 'script': 3834, 'four': 1812, 'him': 2110, 'rest': 3657, 'cast': 710, 'richards': 3687, 'actress': 105, 'hollywood': 2137, 'never': 3001, 'star': 4150, 'most': 2909, 'blatant': 502, 'excuse': 1564, 'get': 1899, 'suit': 4284, 'crucial': 1068, 'self': 3869, 'always': 203, 'bring': 585, 'party': 3200, 'because': 432, 'its': 2370, 'doesnt': 1309, 'mean': 2779, 'might': 2835, 'feel': 1684, 'taking': 4352, 'little': 2624, 'head': 2057, 'black': 493, 'mask': 2752, 'number': 3060, 'two': 4620, 'filmmakers': 1720, 'clearly': 840, 'thought': 4462, 'disturbing': 1300, 'image': 2233, 'someone': 4064, 'whos': 4876, 'face': 1616, 'hot': 2174, 'plain': 3286, 'simple': 3983, 'instead': 2307, 'made': 2697, 'wonder': 4926, 'guy': 2000, 'covers': 1024, 'entire': 1502, 'including': 2264, 'eyes': 1613, 'ears': 1402, 'can': 665, 'move': 2921, 'then': 4436, 'again': 146, 'given': 1913, 'things': 4451, 'killer': 2470, 'does': 1308, 'maybe': 2776, 'hands': 2020, 'isnt': 2362, 'even': 1533, 'final': 1722, 'twist': 4617, 'huh': 2187, 'your': 4991, 'searching': 3842, 'if': 2222, 'alone': 194, 'find': 1726, 'something': 4066, 'anything': 260, 'youll': 4988, 'glad': 1916, 'did': 1241, 'aka': 168, 'alien': 183, 'what': 4858, 'expected': 1577, 'budget': 610, 'australian': 357, 'special': 4097, 'effects': 1431, 'other': 3135, 'quick': 3490, 'cuts': 1091, 'female': 1693, 'comes': 891, 'over': 3148, 'immediately': 2242, 'able': 66, 'speak': 4094, 'perfectly': 3226, 'from': 1840, 'place': 3282, 'time': 4495, 'flow': 1762, 'match': 2762, 'faster': 1662, 'humans': 2190, 'elderly': 1440, 'grandmother': 1955, 'tells': 4397, 'story': 4207, 'wandering': 4785, 'man': 2721, 'told': 4513, '40': 48, 'she': 3923, 'came': 656, 'planet': 3289, 'naked': 2959, 'completely': 922, 'unable': 4631, 'recognize': 3569, 'sky': 4017, 'meets': 2795, 'apparently': 270, 'mistake': 2871, 'gets': 1900, 'angry': 238, 'earth': 1403, 'known': 2492, 'environment': 1505, 'insulting': 2310, 'thing': 4450, 'universe': 4666, 'those': 4460, 'foul': 1810, 'air': 164, 'heads': 2059, 'under': 4639, 'another': 250, 'amusing': 221, 'entirely': 1503, 'dialogue': 1234, 'tries': 4585, 'understand': 4643, 'shes': 3930, 'calls': 654, 'begins': 444, 'realize': 3552, 'thinking': 4453, 'straight': 4210, 'yet': 4984, 'waiting': 4772, 'back': 378, 'home': 2142, 'sees': 3866, 'human': 2188, 'falls': 1640, 'spots': 4132, 'interesting': 2325, 'all': 187, 'heavy': 2070, 'handed': 2016, 'message': 2819, 'low': 2676, 'main': 2707, 'actors': 104, 'various': 4715, 'evil': 1548, 'seen': 3865, 'offers': 3090, 'dire': 1257, 'happen': 2026, 'nature': 2975, 'done': 1322, 'logic': 2638, 'hang': 2022, 'together': 4511, 'has': 2043, 'space': 4090, 'woman': 4921, 'caught': 722, 'manages': 2725, 'effect': 1428, 'some': 4061, 'positive': 3346, 'change': 749, 'conclusion': 936, 'aliens': 184, 'deliberately': 1166, 'sent': 3880, 'manage': 2722, 'achieve': 92, 'against': 147, 'waste': 4808, 'godfather': 1927, 'pulp': 3465, 'fiction': 1702, 'good': 1937, 'films': 1721, 'lives': 2628, 'christmas': 810, 'santa': 3783, 'messages': 2820, 'cried': 1054, 'seriously': 3892, '10': 0, 'times': 4497, 'see': 3855, 'pitch': 3279, 'eat': 1411, 'ice': 2210, 'sadness': 3770, 'deep': 1154, 'us': 4690, 'think': 4452, 'best': 469, 'rendition': 3625, 'ever': 1538, 'unlike': 4670, 'normal': 3033, 'person': 3238, 'children': 792, 'kids': 2467, 'dreams': 1355, 'believe': 454, 'actually': 109, 'mentions': 2813, 'christ': 807, 'whole': 4873, 'meaning': 2780, 'behind': 447, 'yourself': 4993, 'cinematic': 818, 'masterpiece': 2759, 'stop': 4201, 'making': 2718, 'epic': 1506, '24': 39, 'whether': 4866, 'whoever': 4872, 'says': 3801, 'ignorant': 2223, 'fool': 1779, 'definitely': 1162, 'worst': 4952, 'somebody': 4062, 'tell': 4395, 'laughed': 2532, 'theres': 4440, 'single': 3996, 'shadow': 3912, 'three': 4469, 'leading': 2547, 'accent': 78, 'dream': 1354, 'dracula': 1341, 'drawn': 1351, 'tradition': 4549, 'last': 2521, 'longer': 2645, 'called': 652, 'too': 4522, 'hard': 2033, 'rescue': 3643, 'lowest': 2678, 'mark': 2739, 'had': 2003, 'way': 4820, 'entertainment': 1500, 'side': 3965, 'half': 2007, 'dozen': 1338, 'stories': 4205, 'kind': 2476, 'greed': 1968, 'violence': 4747, 'played': 3297, 'very': 4723, 'days': 1130, 'during': 1387, 'heat': 2067, 'responsible': 3656, 'anger': 235, 'hate': 2046, 'treatment': 4574, 'retarded': 3663, 'girl': 1909, 'security': 3854, 'equipment': 1511, 'episode': 1507, 'closely': 855, 'followed': 1773, 'flat': 1748, 'hope': 2155, 'hated': 2047, 'felt': 1692, 'compelled': 915, 'through': 4477, 'fun': 1848, 'sometimes': 4067, 'saw': 3798, 'yesterday': 4983, 'starts': 4159, 'after': 143, 'jump': 2429, 'hospital': 2172, 'meet': 2793, 'religion': 3607, 'sexuality': 3909, 'rage': 3505, 'throughout': 4478, 'creating': 1039, 'intense': 2316, 'tension': 4404, 'filled': 1715, 'being': 448, 'gory': 1943, 'missed': 2867, 'point': 3316, 'violent': 4748, 'sad': 3767, 'suffer': 4275, 'cry': 1073, 'hurt': 2202, 'shows': 3960, 'pure': 3471, 'shock': 3938, 'value': 4709, 'presented': 3376, 'clean': 838, 'needs': 2990, 'work': 4940, 'fault': 1668, 'found': 1811, 'were': 4848, 'moments': 2887, 'details': 1219, 'werent': 4849, '100': 1, 'clear': 839, 'end': 1468, 'wasnt': 4807, 'importance': 2246, 'still': 4188, 'cinderella': 815, 'my': 2951, 'favorites': 1672, 'charles': 764, 'sleeping': 4025, 'beauty': 430, 'disney': 1289, 'sweet': 4336, 'soundtrack': 4085, 'songs': 4072, 'favorite': 1671, 'song': 4071, 'romantic': 3733, 'cute': 1090, 'narration': 2965, 'birds': 485, 'tried': 4584, 'wake': 4774, 'morning': 2906, 'animal': 239, 'fix': 1744, 'birth': 486, 'mothers': 2912, 'dress': 1357, 'go': 1924, 'bits': 490, 'compare': 911, 'dark': 1115, '18': 10, 'old': 3100, 'comics': 895, 'adapted': 114, 'rated': 3527, 'call': 651, 'crazy': 1035, 'catch': 714, 'everyday': 1541, 'seem': 3861, 'search': 3841, 'explore': 1594, 'artistic': 308, 'values': 4710, 'dick': 1239, 'tracy': 4546, 'terms': 4406, 'technology': 4385, 'negative': 2991, 'reviews': 3679, 'mainly': 2708, 'messed': 2821, 'storyline': 4208, 'quite': 3495, 'following': 1774, 'didnt': 1242, 'comic': 893, 'books': 536, 'am': 204, 'huge': 2185, 'fan': 1648, 'appreciate': 279, 'top': 4525, 'notch': 3043, 'performances': 3229, 'expectations': 1576, 'casting': 711, 'madonna': 2699, 'warren': 4801, 'beatty': 427, 'expect': 1575, 'help': 2079, 'same': 3778, 'role': 3726, 'competent': 917, 'sounds': 4084, 'pull': 3461, 'charm': 767, 'audiences': 353, 'express': 1600, 'added': 116, 'lot': 2661, 'al': 170, 'pacino': 3164, 'funny': 1852, 'himself': 2111, 'bold': 528, 'enough': 1491, 'previously': 3388, 'successful': 4266, 'roles': 3727, 'michael': 2829, 'hitler': 2124, 'robert': 3713, 'de': 1131, 'niro': 3019, 'our': 3139, 'laugh': 2529, 'thanks': 4423, 'ups': 4686, 'surreal': 4317, 'feeling': 1685, 'got': 1944, 'becomes': 434, 'rich': 3685, 'white': 4870, 'hip': 2114, 'hop': 2154, 'culture': 1079, 'off': 3084, 'almost': 193, 'works': 4945, 'ok': 3098, 'body': 527, 'suddenly': 4273, 'start': 4156, 'acting': 99, 'ask': 316, 'ill': 2228, 'grant': 1956, 'goes': 1930, 'far': 1653, 'direction': 1261, 'supposed': 4306, 'imagine': 2238, 'singing': 3995, 'rap': 3520, 'playing': 3300, 'care': 684, 'money': 2888, 'power': 3359, 'unbelievable': 4634, 'couldnt': 1008, 'suspend': 4329, 'disbelief': 1277, 'finish': 1732, 'extra': 1606, 'couple': 1016, 'past': 3207, 'doing': 1312, 'been': 438, 'well': 4843, 'ive': 2372, 'exception': 1557, 'festival': 1697, 'program': 3424, 'notes': 3046, 'said': 3774, 'perfect': 3224, 'delight': 1167, 'touching': 4536, 'dramatic': 1348, 'meaningful': 2781, 'agree': 155, 'come': 886, 'standard': 4144, 'forward': 1808, 'seeing': 3857, 'chinese': 796, 'planned': 3290, 'shown': 3959, 'coming': 896, 'months': 2897, 'amazing': 209, 'reasons': 3560, 'harris': 2038, 'takes': 4351, 'awkward': 374, 'documentary': 1307, 'turns': 4609, 'relevant': 3604, 'social': 4049, 'commentary': 899, 'gary': 1873, 'small': 4033, 'town': 4541, 'kid': 2464, 'assumed': 329, 'liked': 2600, 'decides': 1150, 'john': 2409, 'local': 2634, 'talent': 4354, 'show': 3953, 'whom': 4875, 'passionate': 3206, 'actions': 101, 'odds': 3082, 'conservative': 948, 'results': 3662, 'fact': 1621, 'such': 4268, 'second': 3846, 'struggle': 4234, 'attempt': 340, 'narrative': 2966, 'original': 3129, 'third': 4455, 'trilogy': 4586, 'truly': 4597, 'extreme': 1609, 'subject': 4253, 'troubled': 4593, 'struggles': 4235, 'gain': 1863, 'within': 4912, 'own': 3158, 'community': 908, 'secret': 3849, 'passion': 3205, 'dressing': 1359, 'further': 1853, 'already': 197, 'consider': 949, 'depicted': 1183, 'itself': 2371, 'reactions': 3542, 'surely': 4309, 'ridiculously': 3694, 'pathetic': 3210, 'may': 2775, 'identify': 2216, 'absolutely': 72, 'brilliant': 583, 'every': 1539, 'performance': 3228, 'excellent': 1555, 'jake': 2377, 'chris': 806, 'cooper': 990, 'looks': 2649, 'mr': 2929, 'career': 686, 'joe': 2407, 'odd': 3080, 'choice': 797, 'director': 1264, 'usually': 4700, 'associated': 327, 'big': 478, 'pulls': 3464, 'sheer': 3925, 'class': 833, 'favourite': 1673, 'homer': 2144, 'going': 1931, 'down': 1335, 'looking': 2648, 'beautiful': 428, 'direct': 1258, 'these': 4441, 'driven': 1365, 'blockbuster': 509, 'kudos': 2497, 'involved': 2346, 'boxing': 556, 'ring': 3698, 'differences': 1247, 'wedding': 4836, 'feels': 1687, 'trapped': 4564, 'jack': 2373, 'troubles': 4594, 'cause': 723, 'trouble': 4592, 'bill': 481, 'professional': 3421, 'carl': 692, 'alfred': 181, 'hitchcock': 2123, 'young': 4989, 'ian': 2209, 'hunter': 2199, 'went': 4847, 'plays': 3301, 'bob': 524, 'catches': 715, 'eye': 1611, 'pretty': 3384, 'hall': 2009, 'davis': 1126, 'fair': 1630, 'happens': 2029, 'engaged': 1480, 'round': 3742, 'wins': 4899, 'manager': 2724, 'fighter': 1708, 'heard': 2062, 'take': 4349, 'along': 195, 'gordon': 1940, 'fortune': 1806, 'plans': 3292, 'marry': 2745, 'fight': 1707, 'next': 3007, 'attraction': 350, 'each': 1395, 'suspicious': 4332, 'puts': 3481, 'everything': 1544, 'training': 4558, 'wife': 4884, 'hero': 2088, 'left': 2561, 'mighty': 2836, 'realistic': 3550, '20': 29, 'minutes': 2859, 'raw': 3532, 'courage': 1018, 'triumph': 4590, 'question': 3487, 'starting': 4158, 'affair': 135, 'wouldnt': 4958, 'loaded': 2632, 'symbolism': 4341, 'changes': 751, 'finger': 1731, 'arm': 292, 'reflection': 3585, 'water': 4816, 'confidence': 938, 'disappoint': 1272, 'highly': 2105, 'recommended': 3572, 'edward': 1426, 'unique': 4662, 'charisma': 762, 'featured': 1679, 'typical': 4623, 'features': 1680, 'rare': 3523, 'situation': 4008, 'important': 2247, 'average': 362, 'boy': 557, 'camera': 659, 'exotic': 1574, 'artist': 307, 'pays': 3218, 'fame': 1642, 'inspiration': 2300, 'sexy': 3911, 'girlfriend': 1910, 'mad': 2696, 'adequate': 120, 'edge': 1418, 'boring': 543, 'pretentious': 3383, 'different': 1248, 'hollywoods': 2138, 'standards': 4145, 'describe': 1194, 'words': 4938, 'waters': 4817, 'oh': 3096, 'forgot': 1796, 'mention': 2810, 'full': 1846, 'grace': 1950, 'lines': 2612, 'annoying': 249, 'virgin': 4749, 'bizarre': 492, 'incomprehensible': 2267, 'allows': 192, 'whatever': 4859, 'wishes': 4906, 'brilliance': 582, 'course': 1019, 'getting': 1901, 'summary': 4290, 'lets': 2580, 'walking': 4779, 'tour': 4538, 'cabin': 643, 'progress': 3425, 'includes': 2263, 'topless': 4527, 'wrestling': 4966, 'monster': 2892, 'ninja': 3018, 'except': 1556, 'count': 1010, 'receives': 3565, 'seed': 3856, 'desire': 1205, 'someones': 4065, 'hand': 2015, 'finally': 1724, 'guts': 1999, 'pulled': 3462, 'pregnant': 3369, 'baby': 376, 'rent': 3626, 'japanese': 2382, 'subtitles': 4259, 'season': 3843, 'flicks': 1755, 'putting': 3482, 'equivalent': 1512, 'certainly': 738, 'warn': 4797, 'others': 3136, 'purpose': 3474, 'become': 433, 'ignore': 2224, 'beginning': 443, 'soon': 4074, 'introduced': 2337, 'wasted': 4809, 'earned': 1401, 'better': 472, 'unless': 4669, 'noise': 3024, 'return': 3665, 'having': 2054, 'world': 4946, 'remotely': 3623, 'poor': 3328, 'merely': 2815, 'disaster': 1276, 'senseless': 3878, 'assume': 328, 'written': 4972, 'word': 4937, 'eccentric': 1414, 'writer': 4968, 'probably': 3407, 'test': 4416, 'fellow': 1691, 'turned': 4606, '45': 50, 'realise': 3548, 'thin': 4449, 'cup': 1080, 'tea': 4373, 'bag': 384, 'missing': 2869, 'unfortunately': 4654, 'audience': 352, 'rather': 3528, 'suggest': 4280, 'let': 2579, 'dumb': 1385, 'blonde': 511, 'surprise': 4312, 'victims': 4730, 'stretched': 4222, 'hours': 2177, 'weeks': 4839, 'credits': 1050, 'silver': 3977, 'bit': 488, 'ripped': 3701, 'boys': 559, 'try': 4600, 'iran': 2350, 'theyre': 4445, 'area': 286, 'remains': 3611, 'sight': 3969, 'prisoners': 3403, 'rules': 3754, 'discover': 1279, 'comedy': 890, 'frequently': 1832, 'hilarious': 2106, 'mirror': 2861, 'presents': 3377, 'versions': 4721, 'real': 3547, 'circle': 821, 'step': 4175, 'outside': 3146, 'system': 4345, 'tragic': 4552, 'obviously': 3072, 'demand': 1174, 'soccer': 4048, 'answer': 251, 'possible': 3350, 'outcome': 3142, 'portrayed': 3342, 'simply': 3986, 'fans': 1650, 'despite': 1211, 'treated': 4573, 'lose': 2654, 'focus': 1766, 'nations': 2971, 'grasp': 1960, 'cardboard': 682, 'lover': 2672, 'dated': 1119, 'pair': 3176, 'husband': 2204, 'ex': 1549, 'threat': 4467, 'marriage': 2743, 'divorce': 1301, 'means': 2783, 'classics': 837, 'friday': 1834, 'strong': 4229, 'screen': 3829, 'presence': 3373, 'independent': 2272, 'feminist': 1695, 'witty': 4917, 'first': 1736, 'husbands': 2205, 'set': 3898, 'exact': 1550, 'opposite': 3123, 're': 3535, 'gender': 1878, 'cary': 706, 'ward': 4793, 'boyfriend': 558, 'taylor': 4372, 'suited': 4286, 'mid': 2832, 'late': 2523, 'piece': 3272, 'strange': 4211, 'bathroom': 412, 'knock': 2488, 'lights': 2597, 'part': 3193, 'trying': 4601, 'channel': 753, 'speech': 4102, 'essence': 1521, 'herself': 2092, 'gave': 1875, 'intellectual': 2312, 'put': 3480, 'complete': 921, 'style': 4249, 'appropriate': 283, 'ten': 4399, 'earlier': 1399, 'performer': 3231, 'joke': 2414, 'fairly': 1631, 'dry': 1377, 'theory': 4437, 'maker': 2714, 'passed': 3202, 'charlotte': 766, 'mrs': 2930, 'hits': 2125, 'mystery': 2956, 'state': 4160, 'shed': 3924, 'lost': 2660, 'interest': 2323, 'altogether': 202, 'experienced': 1581, 'sort': 4077, 'essentially': 1523, 'contract': 973, 'near': 2979, 'leave': 2555, 'case': 707, 'tired': 4501, 'ease': 1404, 'living': 2629, '40s': 49, '60s': 54, 'wonderful': 4928, 'imagination': 2236, 'shape': 3919, 'build': 614, 'perhaps': 3235, 'overcome': 3151, 'fears': 1677, 'wisdom': 4902, 'benefit': 465, 'true': 4596, 'happiness': 2031, 'language': 2516, 'fantasy': 1652, 'english': 1483, 'village': 4743, 'wall': 4781, 'break': 569, 'prove': 3445, 'victoria': 4732, 'miller': 2846, 'falling': 1639, 'discovers': 1281, 'fallen': 1638, 'taken': 4350, 'form': 1798, 'claire': 831, 'danes': 1108, 'matters': 2770, 'witches': 4910, 'hold': 2129, 'heart': 2064, 'youth': 4994, 'michelle': 2830, 'fabulous': 1615, 'manner': 2729, 'captain': 674, 'shakespeare': 3915, 'closet': 858, 'queen': 3485, 'meanwhile': 2785, 'battle': 414, 'kingdom': 2480, 'extras': 1608, 'throwing': 4480, 'type': 4621, 'gags': 1862, 'spirit': 4113, 'nice': 3008, 'till': 4493, 'large': 2517, 'scale': 3802, 'credit': 1049, 'stars': 4155, 'wholly': 4874, 'worthy': 4956, 'harry': 2039, 'production': 3419, 'rival': 3706, 'free': 1827, 'racial': 3501, 'religious': 3608, 'faults': 1669, 'predictable': 3367, 'elements': 1443, 'quality': 3484, 'fly': 1763, 'provide': 3448, 'remember': 3616, 'listening': 2620, 'moody': 2899, 'blues': 519, 'house': 2178, 'names': 2963, 'wrote': 4974, 'lyrics': 2692, 'travel': 4567, 'fill': 1714, 'magic': 2703, 'timothy': 4499, 'learning': 2552, 'nowadays': 3055, 'talk': 4358, 'adults': 126, 'force': 1786, 'vision': 4754, 'enjoy': 1484, 'dvd': 1391, 'biggest': 480, 'cinema': 816, 'digital': 1251, 'sound': 4081, 'ball': 388, 'disappointment': 1275, 'needed': 2988, 'sadly': 3769, 'embarrassed': 1453, 'cheesy': 781, 'moral': 2902, 'plots': 3310, 'mind': 2849, 'fictional': 1703, 'today': 4508, 'directing': 1260, 'cgi': 740, 'magnificent': 2705, 'talents': 4356, 'art': 304, 'whats': 4860, 'rating': 3529, 'tons': 4520, 'flick': 1754, 'alas': 172, 'nudity': 3059, 'strike': 4224, 'hell': 2077, 'driving': 1368, 'hello': 2078, 'continuity': 972, 'released': 3603, '3d': 46, 'hideous': 2098, 'job': 2405, 'double': 1331, 'hunting': 2201, 'camp': 662, 'blood': 512, 'sucked': 4270, 'daughter': 1121, 'ear': 1397, 'eating': 1413, 'id': 2212, 'age': 148, 'fest': 1696, 'video': 4733, 'store': 4204, 'shelf': 3926, 'figured': 1712, 'gem': 1877, 'finest': 1730, 'dialog': 1232, 'contains': 964, 'cameo': 657, 'donald': 1321, 'anthony': 253, 'christopher': 811, 'walken': 4777, 'seemed': 3862, 'later': 2525, 'country': 1014, 'bears': 421, 'shut': 3961, 'priceless': 3390, 'tough': 4537, 'bo': 521, 'across': 96, 'table': 4346, 'kung': 2498, 'fu': 1844, 'kick': 2460, 'roll': 3728, 'thrills': 4475, 'suicide': 4283, 'ghost': 1902, 'asks': 319, 'killed': 2469, 'deal': 1135, 'illness': 2230, 'yeah': 4977, 'smart': 4035, 'right': 3696, 'arguably': 289, 'sequel': 3885, 'live': 2625, 'dogs': 1311, 'jokes': 2415, 'slapstick': 4019, 'devil': 1228, 'major': 2711, 'simon': 3982, 'owner': 3159, 'once': 3106, 'kill': 2468, 'kevin': 2457, '2nd': 41, 'chance': 747, 'dog': 1310, 'mate': 2765, 'domino': 1319, 'starring': 4154, 'eric': 1514, 'glenn': 1918, 'close': 853, 'gerard': 1895, 'le': 2544, 'clue': 864, 'family': 1645, 'excitement': 1562, 'lots': 2662, 'painful': 3171, 'excessive': 1560, 'funnier': 1850, 'steve': 4181, 'admire': 121, 'willing': 4889, 'throw': 4479, 'river': 3707, 'aforementioned': 139, 'daily': 1097, 'enthusiasm': 1501, 'managed': 2723, 'fall': 1637, 'parallel': 3185, 'category': 718, 'teeth': 4393, 'experience': 1580, 'therefore': 4439, 'quiet': 3492, 'currently': 1085, 'happy': 2032, 'cut': 1089, 'teenager': 4390, 'hear': 2061, 'stupid': 4247, 'catching': 716, 'room': 3735, 'hasnt': 2044, 'happened': 2027, 'agreed': 156, 'pet': 3246, 'indeed': 2271, 'guys': 2001, 'minute': 2858, 'animals': 240, 'watched': 4813, 'truck': 4595, 'stayed': 4167, 'hoping': 2160, 'worked': 4941, 'skills': 4014, 'wont': 4932, 'anymore': 258, 'continue': 969, 'australia': 356, 'discovery': 1282, 'crocodile': 1065, 'member': 2800, 'telling': 4396, 'surfing': 4311, 'saturday': 3792, 'afternoon': 144, 'slow': 4031, 'moving': 2928, 'focusing': 1769, 'relationships': 3598, 'members': 2801, 'legendary': 2565, 'police': 3322, 'cold': 872, 'challenging': 744, 'portray': 3340, 'subtlety': 4261, 'brought': 600, 'above': 68, 'effort': 1432, 'considering': 952, 'tv': 4610, 'moore': 2901, 'fantastic': 1651, 'unknown': 4668, 'classic': 835, 'relies': 3606, 'shot': 3949, 'corny': 997, 'music': 2946, 'mood': 2898, 'psycho': 3457, 'drunken': 1376, 'comments': 901, 'develops': 1226, 'mature': 2773, 'learns': 2553, 'improved': 2255, 'worth': 4953, 'demented': 1176, 'scientist': 3818, 'brings': 587, 'honest': 2146, 'ugly': 4625, 'laughable': 2530, 'act': 97, 'tie': 4488, 'weak': 4824, 'ending': 1471, 'badly': 383, 'science': 3816, 'theater': 4427, '3000': 43, 'version': 4720, 'folks': 1771, 'none': 3028, 'technically': 4382, 'romance': 3732, 'intelligent': 2314, 'leads': 2548, 'reading': 3544, 'engaging': 1481, 'hardly': 2036, 'jesse': 2397, 'coffee': 870, 'shop': 3945, 'pretend': 3381, 'phone': 3255, 'pretending': 3382, 'friend': 1835, 'moment': 2886, 'fell': 1690, 'must': 2950, 'shake': 3914, 'pity': 3281, 'locations': 2636, 'eight': 1436, 'academy': 77, 'beyond': 476, 'belief': 451, 'year': 4978, 'nicholson': 3011, 'turner': 4607, 'anyway': 261, 'oscar': 3133, 'sold': 4052, 'cheated': 775, 'result': 3660, 'humour': 2194, 'honor': 2150, 'shooting': 3943, 'intended': 2315, 'farce': 1654, 'mafia': 2700, 'mexican': 2826, 'americans': 214, 'forbidden': 1785, 'buying': 641, '50': 51, 'failed': 1626, 'spot': 4131, 'cliché': 844, 'book': 535, 'sorts': 4078, 'incredible': 2269, 'shallow': 3917, 'par': 3184, 'ben': 463, 'jennifer': 2392, 'cleverly': 842, 'parody': 3192, 'million': 2847, 'absurd': 73, 'cheap': 774, 'homage': 2141, 'dimensional': 1253, 'accents': 79, 'pulling': 3463, 'faces': 1618, 'master': 2757, 'facial': 1619, 'expression': 1602, 'meant': 2784, 'cares': 690, 'drags': 1345, 'clichéd': 845, 'bigger': 479, 'track': 4544, 'reaching': 3539, 'fast': 1661, 'button': 639, 'directors': 1266, 'hudson': 2184, 'traveling': 4568, 'brazil': 568, 'difficult': 1249, 'society': 4050, 'revelation': 3674, 'comment': 898, 'murders': 2943, 'subtle': 4260, 'effective': 1429, 'complex': 923, 'american': 213, 'actresses': 106, 'convincing': 985, 'international': 2326, 'night': 3013, '2000': 30, 'walked': 4776, 'eerie': 1427, 'silence': 3974, 'nonsense': 3030, 'jason': 2383, 'ray': 3533, 'wearing': 4831, 'embarrassing': 1454, 'animation': 242, 'butt': 638, 'wanna': 4786, 'laughs': 2534, 'reaction': 3541, 'thinks': 4454, 'bear': 420, 'nowhere': 3056, 'worse': 4951, 'losers': 2656, 'fired': 1735, 'points': 3319, 'supporting': 4304, 'cat': 713, 'perspective': 3245, 'centered': 733, 'vampires': 4712, 'gay': 1876, 'vampire': 4711, 'drinking': 1362, 'front': 1841, 'non': 3027, 'became': 431, 'etc': 1527, 'bother': 548, 'tooth': 4524, 'either': 1438, 'sucks': 4271, 'figure': 1711, 'implausible': 2245, 'interested': 2324, 'flying': 1764, 'handle': 2018, 'control': 977, 'feelings': 1686, '25': 40, '14': 6, 'dying': 1393, 'smile': 4036, 'card': 681, 'dude': 1381, 'read': 3543, 'wouldve': 4959, 'hoped': 2156, 'understandable': 4644, 'keep': 2449, 'secretly': 3851, 'minds': 2852, 'wasting': 4810, 'june': 2433, 'la': 2500, 'spain': 4091, 'occurs': 3078, 'totally': 4532, 'usual': 4699, 'access': 83, 'tale': 4353, 'advice': 133, 'please': 3304, 'forgotten': 1797, 'ingredients': 2289, 'short': 3946, 'page': 3167, 'truth': 4599, 'attached': 336, 'journalist': 2420, 'enjoys': 1489, 'caring': 691, 'pearl': 3220, 'celebrity': 729, 'nation': 2969, 'editor': 1423, 'new': 3003, 'shocked': 3939, 'excited': 1561, 'losing': 2658, 'knows': 2493, 'actual': 108, 'hidden': 2096, 'crude': 1069, 'color': 877, 'theme': 4433, 'screenplay': 3831, 'thoughts': 4464, 'club': 863, 'dialogs': 1233, 'delivering': 1171, 'speaks': 4096, 'impact': 2244, 'anywhere': 263, 'background': 380, 'flaws': 1752, 'visible': 4753, 'explaining': 1588, 'honesty': 2148, 'intelligence': 2313, 'meeting': 2794, 'incident': 2260, 'spoil': 4121, 'knew': 2486, 'guess': 1989, 'dinner': 1254, 'rip': 3700, 'theaters': 4428, 'sidney': 3968, 'cultural': 1078, 'statement': 4162, 'stanley': 4148, 'present': 3374, 'overly': 3155, 'italian': 2367, 'island': 2361, 'african': 142, 'grand': 1953, 'fathers': 1667, 'funeral': 1849, 'painfully': 3172, 'started': 4157, 'fake': 1635, 'wanted': 4789, 'favor': 1670, 'pass': 3201, 'pictures': 3270, 'africa': 141, 'war': 4792, 'worlds': 4947, 'lasted': 2522, 'walk': 4775, 'deliver': 1169, 'steven': 4182, 'artificial': 306, 'sun': 4292, 'hair': 2005, 'clothes': 860, 'century': 736, 'bar': 396, 'seek': 3858, 'famous': 1647, 'central': 735, 'impression': 2252, 'soft': 4051, 'inside': 2297, 'increasingly': 2268, 'buy': 640, 'loved': 2670, 'scenery': 3810, 'breathtaking': 574, 'twists': 4619, 'rob': 3710, 'roy': 3745, 'rarely': 3524, 'popular': 3333, 'brilliantly': 584, 'choreographed': 801, 'examples': 1554, 'understood': 4647, 'drama': 1346, 'succeed': 4262, 'believable': 453, 'joy': 2422, 'earl': 1398, 'villains': 4745, 'fully': 1847, 'nasty': 2968, 'clever': 841, 'sequels': 3886, 'wrong': 4973, 'bored': 541, 'death': 1141, 'sorry': 4076, 'miss': 2866, 'crappy': 1032, 'breath': 573, 'fresh': 1833, 'ethan': 1528, 'funniest': 1851, 'gonna': 1936, 'crap': 1031, 'skip': 4016, 'stomach': 4196, 'awful': 372, 'bought': 552, 'birthday': 487, 'cover': 1022, 'sexual': 3908, 'decided': 1149, 'purposes': 3475, 'history': 2121, 'began': 441, 'alright': 198, 'mistaken': 2872, 'mysterious': 2955, 'paint': 3173, 'abysmal': 76, 'win': 4892, 'won': 4925, 'team': 4378, 'critical': 1062, 'damage': 1099, 'picked': 3266, 'awesome': 371, 'anti': 254, 'ago': 154, 'cable': 644, 'wrapped': 4964, 'copy': 994, 'travesty': 4570, 'looked': 2647, 'oscars': 3134, 'industry': 2280, 'sean': 3840, 'colour': 880, 'stellar': 4174, 'roger': 3724, 'early': 1400, 'richard': 3686, 'surprised': 4313, 'tony': 4521, 'scott': 3824, 'yes': 4982, 'entertaining': 1499, 'agrees': 157, 'humor': 2192, 'cool': 989, 'fire': 1734, 'enemy': 1477, 'ride': 3692, 'visual': 4757, 'styles': 4250, 'afraid': 140, 'showing': 3958, 'explicit': 1591, 'check': 777, 'sat': 3786, 'canadian': 667, 'section': 3853, 'support': 4303, 'andrew': 228, 'working': 4944, 'consistently': 954, 'comedic': 888, 'interaction': 2322, 'dead': 1132, 'hour': 2176, 'tales': 4357, 'terror': 4412, 'provides': 3450, 'decent': 1147, 'genre': 1888, 'wrap': 4963, 'detective': 1220, 'took': 4523, 'running': 3756, 'method': 2824, 'murder': 2939, 'author': 359, 'delightful': 1168, 'haunted': 2050, 'latest': 2526, 'creation': 1040, 'seemingly': 3863, 'sequence': 3887, 'suspenseful': 4331, 'reasonably': 3559, 'icon': 2211, 'peter': 3247, 'retired': 3664, 'philip': 3252, 'rogers': 3725, 'obsessed': 3069, 'museum': 2945, 'images': 2235, 'shocking': 3940, 'lee': 2559, 'treat': 4572, 'adorable': 124, 'child': 789, 'jane': 2380, 'companion': 909, 'ann': 244, 'dawn': 1127, 'particular': 3194, 'handled': 2019, 'makers': 2715, 'genuine': 1891, 'unhappy': 4656, 'particularly': 3195, 'horrific': 2166, 'jon': 2416, 'dr': 1340, 'highlight': 2103, 'lack': 2502, 'powers': 3361, 'dare': 1113, 'reveal': 3670, 'pitt': 3280, 'welcome': 4842, 'example': 1553, 'knowing': 2490, 'inspector': 2299, 'unusual': 4681, 'striking': 4226, 'mix': 2876, 'directed': 1259, 'moves': 2925, 'slowly': 4032, 'towards': 4540, 'chilling': 794, 'beautifully': 429, 'petty': 3249, '70s': 56, 'disturbed': 1299, 'instance': 2304, 'aging': 153, 'jealous': 2388, 'son': 4070, 'reminded': 3619, 'disappeared': 1271, 'market': 2740, 'italy': 2368, 'seasons': 3844, 'release': 3602, 'pilot': 3276, 'instantly': 2306, 'hooked': 2153, 'opening': 3114, 'closing': 859, 'themes': 4434, 'stephen': 4176, 'relationship': 3597, 'judge': 2424, 'crack': 1027, 'purchased': 3470, 'equally': 1510, 'disc': 1278, 'purchase': 3469, 'collection': 874, 'filmmaker': 1719, 'warrior': 4802, 'monk': 2889, 'clumsy': 866, 'produced': 3414, 'spiritual': 4116, 'teacher': 4375, 'destiny': 1212, 'lies': 2591, 'bridge': 578, 'decision': 1151, 'conflict': 939, 'nearly': 2981, 'element': 1442, 'absence': 70, 'depiction': 1185, 'holy': 2140, 'photography': 3260, 'editing': 1421, 'loose': 2650, 'debut': 1143, 'sitcom': 4004, 'teenage': 4389, 'outrageous': 3145, 'donna': 1323, 'hyde': 2206, 'conspiracy': 956, 'punk': 3468, 'student': 4238, 'jackie': 2374, 'spoiled': 4122, 'adult': 125, 'mom': 2885, 'dad': 1095, 'ass': 323, 'goofy': 1939, 'everybody': 1540, 'smith': 4038, 'finds': 1728, 'balance': 387, 'red': 3576, 'sympathetic': 4342, 'unexpected': 4650, 'allow': 189, 'wild': 4885, 'overacting': 3149, 'harder': 2035, 'voice': 4761, 'fits': 1741, 'problems': 3409, 'guest': 1992, 'dan': 1102, 'leo': 2571, 'thomas': 4458, 'witch': 4909, 'catholic': 720, 'fox': 1814, 'prison': 3401, 'often': 3095, 'sleazy': 4023, 'spanish': 4092, 'productions': 3420, 'franco': 1820, 'youve': 4995, 'admit': 122, 'types': 4622, 'generally': 1881, 'arent': 288, 'directorial': 1265, 'winning': 4898, 'jonathan': 2417, 'plenty': 3307, 'naturally': 2974, 'womens': 4924, 'host': 2173, 'stuff': 4243, 'bound': 553, 'girls': 1911, 'escape': 1517, 'ambitious': 211, 'basically': 407, 'structure': 4233, 'field': 1704, 'bank': 394, 'robbery': 3711, 'helped': 2080, 'barbara': 397, 'con': 928, 'reviewer': 3677, 'press': 3379, 'ready': 3546, 'writing': 4971, 'solid': 4057, 'atmosphere': 333, 'characterization': 759, 'intriguing': 2335, 'development': 1225, 'poetic': 3313, 'alcohol': 176, 'critics': 1064, 'promises': 3432, 'qualities': 3483, 'unrealistic': 4677, 'choreography': 802, 'mindless': 2851, 'angles': 237, 'location': 2635, 'shots': 3950, 'downhill': 1336, 'spending': 4106, 'building': 615, 'lead': 2545, 'desperate': 1208, 'pay': 3216, 'masters': 2761, 'utterly': 4702, 'unconvincing': 4638, 'kept': 2456, 'period': 3236, 'flawed': 1750, 'damn': 1100, 'gritty': 1977, 'realism': 3549, 'destroyed': 1214, 'weird': 4841, 'pointless': 3318, 'agents': 151, 'turkey': 4604, '15': 7, 'resembles': 3646, 'ways': 4822, 'gene': 1879, 'innocent': 2294, 'government': 1948, 'modern': 2882, 'jamie': 2379, 'irritating': 2359, 'sympathy': 4343, 'kinda': 2477, 'grows': 1985, 'rented': 3628, 'absolute': 71, 'garbage': 1870, 'formula': 1802, 'solve': 4060, 'neither': 2996, 'routine': 3743, 'tedious': 4387, 'potential': 3355, 'relative': 3599, 'apparent': 269, 'personal': 3240, 'involvement': 2347, 'signs': 3973, 'stranger': 4213, 'genius': 1887, 'constant': 957, 'conversation': 980, 'gradually': 1952, 'involving': 2349, 'tape': 4365, 'surprises': 4314, 'bride': 577, 'clues': 865, 'freddy': 1826, 'elm': 1447, 'street': 4216, 'nightmare': 3014, 'cameos': 658, 'loves': 2674, 'lisa': 2616, 'sister': 4001, 'amanda': 205, 'wave': 4818, 'born': 544, 'stands': 4147, '80s': 59, 'sit': 4003, 'somewhat': 4068, 'endearing': 1469, 'generous': 1886, 'quickly': 3491, 'princess': 3397, 'nor': 3032, 'appearing': 277, 'explain': 1586, 'rural': 3758, 'setting': 3900, 'previous': 3387, 'keeps': 2451, 'intrigued': 2334, 'america': 212, 'mostly': 2910, 'witness': 4914, 'physical': 3262, 'required': 3641, 'survive': 4321, 'concerns': 934, 'difference': 1246, 'success': 4265, 'failure': 1629, 'reunion': 3669, 'growing': 1983, 'reed': 3580, 'luke': 2687, 'walter': 4784, 'died': 1244, 'computer': 927, 'site': 4005, 'luck': 2681, 'lesson': 2577, 'finding': 1727, 'impossible': 2249, 'thank': 4421, 'football': 1783, 'players': 3299, 'sell': 3871, 'foreign': 1790, 'business': 633, 'exists': 1573, 'north': 3036, 'south': 4087, 'quote': 3496, 'halfway': 2008, 'revolutionary': 3681, 'army': 295, 'mob': 2879, 'shoot': 3942, 'among': 217, 'unit': 4663, 'kitchen': 2485, 'slave': 4022, 'whose': 4877, 'portrayal': 3341, 'paul': 3214, 'motion': 2913, 'mans': 2730, 'financial': 1725, 'dealing': 1136, 'false': 1641, 'invasion': 2340, 'mental': 2808, 'civil': 826, 'mass': 2753, 'beating': 425, 'surprisingly': 4316, 'warming': 4795, 'precious': 3366, 'bone': 533, 'stealing': 4171, 'pot': 3354, 'floor': 1759, 'meat': 2787, 'noir': 3023, 'extraordinary': 1607, 'detail': 1217, 'length': 2569, 'rate': 3526, 'prefer': 3368, 'approach': 282, 'practically': 3362, 'fashion': 1659, 'plague': 3285, 'streets': 4217, 'military': 2844, 'doctor': 1304, 'widmark': 4882, 'city': 825, 'douglas': 1334, 'use': 4692, 'forget': 1793, 'disease': 1285, 'chase': 769, 'easy': 1410, 'post': 3352, 'wwii': 4975, '1950s': 14, 'unlikely': 4671, 'tight': 4492, 'frankly': 1823, 'filmed': 1717, 'finale': 1723, '90': 60, 'overwhelming': 3157, 'response': 3654, 'insight': 2298, 'continues': 971, 'analysis': 224, 'knowledge': 2491, 'emotional': 1459, 'drawing': 1350, 'chaos': 755, 'law': 2538, 'aside': 315, 'questions': 3489, 'asked': 317, 'doubt': 1332, 'hundred': 2195, 'individuals': 2278, 'received': 3564, 'vice': 4727, 'president': 3378, 'producer': 3415, 'opinion': 3118, 'hearing': 2063, 'glimpse': 1919, 'ground': 1979, 'wanting': 4790, 'ought': 3138, 'ideas': 2215, 'creates': 1038, 'media': 2789, 'silly': 3976, 'younger': 4990, 'attitudes': 347, 'chasing': 772, 'definite': 1161, 'cult': 1077, 'wish': 4904, 'fonda': 1777, 'appealing': 272, 'assistant': 326, 'mayor': 2777, 'bottom': 551, 'boss': 546, 'nobody': 3022, 'abandoned': 62, 'cop': 991, 'latter': 2528, 'corrupt': 1001, 'facts': 1624, 'national': 2970, 'madness': 2698, 'finished': 1733, 'conceived': 929, 'calling': 653, 'lame': 2510, 'satire': 3788, 'causes': 725, 'poorly': 3329, 'developed': 1223, 'rough': 3741, 'amateurish': 207, 'sign': 3970, 'noticed': 3049, 'typically': 4624, 'separate': 3883, 'titles': 4506, 'hey': 2095, 'mgm': 2828, 'occasionally': 3075, 'pops': 3332, 'television': 4394, 'per': 3223, 'decade': 1144, 'split': 4120, 'videos': 4734, 'corporate': 998, 'buddy': 609, 'segment': 3867, 'frustrated': 1842, 'ii': 2226, 'dancer': 1104, 'raped': 3522, 'stick': 4185, 'line': 2610, 'iii': 2227, 'chases': 771, 'serial': 3889, 'lloyd': 2630, 'contain': 962, 'strangely': 4212, 'victim': 4729, 'shame': 3918, 'semi': 3874, 'resort': 3650, 'ironic': 2355, 'stereotypes': 4179, 'inspired': 2301, 'material': 2766, 'contact': 961, 'compared': 912, 'comedies': 889, 'regular': 3592, 'tracks': 4545, 'vacation': 4704, 'tom': 4514, 'arnold': 296, 'magazine': 2701, 'print': 3399, 'gold': 1932, 'advertising': 132, 'teach': 4374, 'bunch': 623, 'criminals': 1058, 'month': 2896, 'illogical': 2231, 'merits': 2817, 'mere': 2814, 'friendly': 1836, 'challenge': 743, 'loud': 2664, 'lovable': 2668, 'aunt': 355, 'murderous': 2942, 'father': 1666, 'sir': 4000, 'aint': 163, 'drugs': 1374, 'lie': 2590, 'theatre': 4429, 'sid': 3964, 'mountain': 2917, 'lion': 2614, 'outstanding': 3147, 'teens': 4392, 'tad': 4347, 'toy': 4542, 'higher': 2101, 'joan': 2404, 'superb': 4296, 'mike': 2838, 'coach': 868, 'superbly': 4297, 'williams': 4888, 'universal': 4665, 'hong': 2149, 'kong': 2494, 'upon': 4684, 'five': 1743, 'matrix': 2767, 'fifteen': 1706, 'believed': 455, 'shining': 3933, 'station': 4164, 'guide': 1993, 'chan': 746, 'rush': 3759, 'wow': 4962, 'drug': 1373, 'lord': 2652, 'secretary': 3850, 'held': 2074, 'assigned': 325, 'protect': 3443, 'wants': 4791, 'ends': 1474, 'sequences': 3888, 'efforts': 1433, 'news': 3005, 'okay': 3099, 'promise': 3430, 'repeatedly': 3632, 'appreciated': 280, 'land': 2511, 'runs': 3757, 'displays': 1293, 'rocky': 3723, 'mountains': 2918, 'montana': 2895, 'landscape': 2513, 'albert': 174, 'text': 4419, 'stunning': 4244, 'kiss': 2483, 'methods': 2825, 'education': 1424, 'include': 2261, 'brenda': 575, 'sons': 4073, 'craig': 1030, 'brad': 560, 'create': 1036, 'reflect': 3584, 'encounter': 1466, 'brothers': 599, 'forever': 1792, 'storytelling': 4209, 'spoken': 4126, 'unforgettable': 4652, 'equal': 1509, 'device': 1227, 'center': 732, 'map': 2733, 'fit': 1740, 'screams': 3828, 'spare': 4093, 'listen': 2619, 'tone': 4517, 'giving': 1915, 'rock': 3720, 'forgive': 1795, 'bodies': 526, 'intent': 2318, 'humorous': 2193, 'stage': 4139, 'paranoia': 3186, 'fear': 1676, 'isolated': 2363, 'usa': 4691, 'experiments': 1584, 'nazis': 2978, 'midnight': 2834, '1st': 28, '2001': 31, 'carrying': 701, 'sadistic': 3768, 'acts': 107, 'enjoying': 1487, 'loses': 2657, 'leaving': 2557, 'minimal': 2855, 'disgusting': 1286, 'hopefully': 2157, 'gore': 1941, 'code': 869, 'group': 1980, 'christians': 809, 'christian': 808, 'lousy': 2667, 'placed': 3283, 'cheese': 780, 'cinematography': 820, 'save': 3794, 'werewolf': 4850, '1996': 26, 'avoid': 363, 'future': 1856, 'experiment': 1583, 'sitting': 4007, 'thru': 4483, 'touches': 4535, 'issues': 2365, 'spend': 4105, 'staring': 4152, 'window': 4894, 'tree': 4576, 'propaganda': 3435, 'episodes': 1508, 'account': 89, 'extended': 1604, '1990s': 25, 'wealth': 4826, 'footage': 1782, 'interviews': 2330, 'parties': 3196, 'otherwise': 3137, 'improvement': 2256, 'achievement': 94, 'repeat': 3630, 'bbc': 417, 'addition': 118, 'detailed': 1218, 'term': 4405, 'named': 2961, 'occurred': 3077, '1999': 27, 'viewing': 4740, 'perform': 3227, 'disappointed': 1273, 'uses': 4697, 'practice': 3363, 'medical': 2790, 'wounded': 4961, 'attracted': 349, 'gangster': 1868, 'kinds': 2478, 'gang': 1867, 'vegas': 4717, 'portrays': 3344, 'guard': 1988, 'raymond': 3534, 'ruby': 3749, 'lips': 2615, 'draws': 1352, 'entertain': 1497, 'musicals': 2948, 'dickens': 1240, 'mild': 2839, 'spoilers': 4124, 'energy': 1478, 'sing': 3992, 'dance': 1103, 'london': 2641, 'exactly': 1551, 'faithful': 1634, 'novel': 3052, 'recall': 3562, 'oliver': 3102, 'sings': 3997, 'dub': 1378, 'church': 813, 'england': 1482, 'adaptation': 113, 'musical': 2947, 'deeply': 1156, 'thumbs': 4485, 'che': 773, 'trap': 4563, 'mouth': 2920, 'spread': 4133, 'thankfully': 4422, 'martin': 2748, 'punch': 3466, 'remind': 3618, 'regard': 3588, 'riveting': 3708, 'del': 1165, 'soul': 4079, 'humanity': 2189, 'honestly': 2147, 'commit': 904, 'nancy': 2964, 'drew': 1360, 'expecting': 1578, 'enjoyable': 1485, 'thrilling': 4474, 'scares': 3806, 'emma': 1457, 'portraying': 3343, 'contrary': 974, 'wise': 4903, 'decide': 1148, 'trust': 4598, 'prepared': 3371, 'heck': 2071, 'van': 4713, 'dedicated': 1153, 'heroine': 2091, 'fail': 1625, 'rocks': 3722, 'ms': 2931, 'shell': 3927, 'row': 3744, 'staff': 4138, 'zone': 4999, 'parents': 3188, 'helping': 2081, 'hunt': 2198, 'food': 1778, 'civilization': 827, 'dies': 1245, 'follow': 1772, 'terrific': 4409, 'modesty': 2883, 'slightly': 4029, 'broken': 594, 'speaking': 4095, 'adventure': 130, 'western': 4853, 'concerned': 932, 'jimmy': 2403, 'stewart': 4184, 'sheriff': 3929, 'wonderfully': 4929, 'states': 4163, 'dawson': 1128, 'ruth': 3763, 'roman': 3731, 'jay': 2386, 'builds': 617, 'restaurant': 3658, 'mann': 2728, 'gorgeous': 1942, 'suppose': 4305, 'considered': 951, 'cliche': 843, 'selfish': 3870, 'existence': 1571, 'mentioned': 2811, 'french': 1830, 'cynical': 1093, 'prequel': 3372, 'shall': 3916, 'rise': 3702, '2005': 35, 'producing': 3417, 'hat': 2045, 'shoes': 3941, 'brando': 566, 'don': 1320, 'taste': 4369, 'week': 4837, 'serious': 3891, 'decisions': 1152, 'wells': 4845, 'radio': 3504, 'broadcast': 591, 'sci': 3815, 'fi': 1701, 'charge': 761, 'brave': 567, 'shine': 3931, 'rule': 3753, 'die': 1243, 'games': 1865, 'game': 1864, 'possibly': 3351, 'bond': 532, 'medium': 2792, 'scripted': 3835, 'alike': 185, 'themselves': 4435, 'opposed': 3122, 'aspects': 322, 'achieved': 93, 'multi': 2935, 'player': 3298, 'pick': 3265, 'whenever': 4863, 'stuck': 4237, 'gotta': 1946, 'havent': 2053, 'planning': 3291, 'facing': 1620, 'eddie': 1416, 'lesser': 2576, 'kidnapped': 2466, 'chosen': 805, 'murphy': 2944, 'suggests': 4282, 'lewis': 2586, 'golden': 1934, 'rubbish': 3748, 'ruined': 3751, 'suffice': 4279, 'vehicle': 4718, 'brand': 565, 'fails': 1628, 'levels': 2585, 'proceedings': 3410, 'disappointing': 1274, 'sunday': 4293, '12': 3, 'scare': 3803, 'core': 995, 'dull': 1384, 'ghosts': 1903, 'majority': 2712, 'deaths': 1142, 'concept': 930, 'office': 3091, 'buildings': 616, 'hotel': 2175, 'rooms': 3736, 'write': 4967, 'review': 3676, 'deserve': 1199, 'extent': 1605, 'middle': 2833, 'answers': 252, 'providing': 3451, 'basic': 406, 'offer': 3087, 'expressed': 1601, 'ordinary': 3128, 'thus': 4486, 'ultimate': 4627, 'ultimately': 4628, 'faith': 1633, 'tiresome': 4502, 'choose': 799, 'interpretation': 2328, 'spite': 4117, 'sunshine': 4294, 'souls': 4080, 'regardless': 3590, 'provoking': 3452, 'personally': 3243, 'ho': 2127, 'korean': 2495, 'award': 366, 'awards': 367, 'convincingly': 986, 'crying': 1074, 'hysterical': 2208, 'uncomfortable': 4637, 'asking': 318, 'billy': 482, 'bloody': 513, 'boom': 537, 'gratuitous': 1961, 'belongs': 460, 'pieces': 3273, 'celluloid': 731, 'likes': 2602, 'torture': 4529, 'rape': 3521, 'elizabeth': 1445, 'danny': 1112, 'co': 867, 'ultra': 4629, 'spirited': 4114, 'graphic': 1958, 'rain': 3506, 'storm': 4206, 'exploitation': 1592, 'cash': 709, 'imagery': 2234, 'mainstream': 2709, 'blowing': 515, 'witnessed': 4915, 'viewers': 4739, 'sick': 3963, 'creepy': 1052, 'adds': 119, 'mentioning': 2812, 'blue': 518, 'colors': 879, 'captured': 677, 'nicely': 3009, 'talented': 4355, 'thrown': 4481, 'lees': 2560, 'masses': 2755, 'level': 2584, 'depicting': 1184, 'abuse': 74, 'kicked': 2461, 'flashbacks': 1747, 'flashback': 1746, 'experiences': 1582, 'insane': 2296, 'sudden': 4272, 'genuinely': 1892, 'deals': 1137, 'morality': 2903, 'tame': 4363, 'females': 1694, 'newly': 3004, 'theatrical': 4430, 'wing': 4896, 'kirk': 2482, 'brutal': 603, 'criticism': 1063, 'general': 1880, 'beast': 422, 'criminal': 1057, 'rotten': 3740, 'veteran': 4724, 'appreciation': 281, 'commercial': 902, 'compelling': 916, 'ticket': 4487, 'picks': 3268, 'pace': 3161, 'exciting': 1563, 'franchise': 1817, 'reviewers': 3678, 'opportunity': 3121, 'continued': 970, 'forest': 1791, 'unfolds': 4651, 'briefly': 580, 'spider': 4109, 'monkey': 2890, 'memorable': 2802, 'climactic': 848, 'directs': 1267, 'thriller': 4472, 'convey': 982, 'emotions': 1461, 'confused': 941, 'grandfather': 1954, '11': 2, 'hit': 2122, 'hadnt': 2004, 'frame': 1815, 'base': 402, 'carried': 698, 'dollars': 1315, 'reads': 3545, 'viewed': 4737, 'included': 2262, 'warm': 4794, 'poignant': 3315, 'theyll': 4444, 'redeeming': 3577, 'box': 555, 'noted': 3045, 'hammer': 2014, 'paced': 3162, 'dalton': 1098, 'realizes': 3554, 'francis': 1818, 'cinematographer': 819, 'france': 1816, 'glorious': 1921, 'remake': 3612, 'reputation': 3640, 'hills': 2109, 'add': 115, 'feature': 1678, 'promising': 3433, 'picture': 3269, 'gifted': 1907, 'likely': 2601, 'native': 2972, 'requires': 3642, 'due': 1382, 'properly': 3437, 'atmospheric': 334, 'handful': 2017, 'marvelous': 2750, 'introduces': 2338, 'cell': 730, 'arrival': 299, 'businessman': 634, 'mentally': 2809, 'ancient': 225, 'murderer': 2941, 'supernatural': 4302, 'plan': 3287, 'using': 4698, 'shouldnt': 3952, 'mess': 2818, 'protagonists': 3442, 'sub': 4252, 'gruesome': 1986, 'climax': 849, 'twisted': 4618, 'behavior': 446, 'wealthy': 4827, 'company': 910, 'hardcore': 2034, 'moved': 2922, 'tears': 4380, 'german': 1896, 'useful': 4694, 'dubbing': 1380, 'fights': 1710, 'errors': 1516, 'wit': 4908, 'contemporary': 965, 'everyones': 1543, 'advantage': 129, 'design': 1202, 'execution': 1566, 'robin': 3715, 'barry': 401, 'warned': 4798, 'pg': 3250, '17': 9, 'jungle': 2434, 'indian': 2274, 'traditional': 4550, 'clothing': 861, 'indians': 2275, 'recently': 3567, 'content': 966, 'melodramatic': 2798, 'car': 680, 'notable': 3041, 'likable': 2598, 'current': 1084, 'trash': 4565, 'carefully': 689, 'persona': 3239, 'thugs': 4484, 'fine': 1729, 'guns': 1998, '75': 57, '1973': 19, 'coherent': 871, 'bang': 393, 'satan': 3787, 'unbelievably': 4635, 'consists': 955, 'kicking': 2462, 'zombies': 4998, 'costs': 1004, 'occasional': 3074, 'zero': 4996, 'accident': 84, 'sleep': 4024, 'hence': 2083, 'photographed': 3258, 'delivered': 1170, 'amateur': 206, 'imitation': 2241, 'twin': 4615, 'forces': 1788, 'door': 1328, 'sisters': 4002, 'buried': 624, 'unnecessary': 4672, 'corner': 996, 'view': 4736, 'anybody': 257, 'spent': 4108, 'composed': 926, 'conversations': 981, 'incredibly': 2270, 'humble': 2191, 'depressing': 1188, 'cruel': 1070, 'julie': 2428, '1960s': 15, 'involves': 2348, 'jean': 2389, 'marie': 2737, 'exposed': 1598, 'movement': 2923, 'significant': 3972, 'movements': 2924, 'profound': 3423, 'key': 2458, 'starred': 4153, 'committed': 905, 'directly': 1263, 'breaking': 570, 'revealing': 3672, 'virtually': 4751, 'appear': 273, 'disappear': 1270, 'suffering': 4277, 'massive': 2756, 'brain': 562, 'clips': 852, 'executed': 1565, 'brains': 563, 'blown': 516, 'ashamed': 312, 'dirty': 1268, 'deeper': 1155, 'certain': 737, 'brosnan': 597, 'grade': 1951, 'noble': 3021, 'mexico': 2827, 'touch': 4533, 'loser': 2655, 'lively': 2627, '90s': 61, 'date': 1118, 'taxi': 4371, 'driver': 1366, 'married': 2744, 'total': 4531, 'trick': 4582, 'open': 3112, 'push': 3477, 'brian': 576, 'plus': 3311, 'unpredictable': 4675, 'thrillers': 4473, 'caine': 647, 'terrifying': 4410, 'creep': 1051, 'allen': 188, 'chemistry': 782, 'keeping': 2450, 'department': 1182, 'tremendous': 4579, 'dennis': 1179, 'drop': 1369, 'era': 1513, 'steps': 4177, 'lower': 2677, 'york': 4985, '50s': 52, 'glory': 1922, 'emphasis': 1463, 'nuts': 3064, 'scientific': 3817, 'aspect': 321, 'lab': 2501, 'theyd': 4443, 'league': 2549, 'cops': 993, 'ed': 1415, 'wood': 4933, 'miles': 2843, 'lucky': 2683, 'stone': 4197, 'faced': 1617, 'helps': 2082, 'rank': 3518, 'amongst': 218, 'brief': 579, 'theyve': 4446, 'severe': 3906, 'doubts': 1333, 'premise': 3370, 'minded': 2850, 'introduce': 2336, 'woods': 4935, 'matt': 2768, 'throws': 4482, 'cringe': 1059, 'tend': 4400, 'mill': 2845, 'wear': 4830, 'crowd': 1067, 'territory': 4411, 'pie': 3271, 'exist': 1569, 'user': 4696, 'british': 589, 'chooses': 800, 'guessed': 1990, 'distinct': 1296, 'aimed': 162, 'raised': 3508, 'impressed': 2251, 'trip': 4588, 'raise': 3507, 'mildly': 2840, 'develop': 1222, 'politics': 3326, 'attractive': 351, 'allowed': 190, 'hundreds': 2196, 'powerful': 3360, 'neck': 2985, 'dangerous': 1110, 'illegal': 2229, 'legs': 2566, 'jerry': 2396, 'frightening': 1839, 'promised': 3431, 'whatsoever': 4861, 'unbearable': 4633, 'attempts': 343, 'vaguely': 4706, '1970s': 17, 'degree': 1164, 'savage': 3793, 'visit': 4755, 'desert': 1198, 'rushed': 3760, 'weekend': 4838, 'speed': 4103, 'cinemas': 817, 'offering': 3089, 'soldiers': 4054, 'thoroughly': 4459, 'bore': 540, 'successfully': 4267, 'transition': 4561, 'james': 2378, 'cameron': 661, 'beings': 449, 'needless': 2989, 'broad': 590, 'generic': 1885, 'chased': 770, 'scenario': 3808, 'descent': 1193, 'sam': 3777, 'proved': 3446, 'originality': 3130, 'lazy': 2543, 'devoid': 1230, 'individual': 2277, 'deserves': 1201, 'bargain': 400, 'bin': 483, 'awe': 370, 'atrocious': 335, 'hopes': 2159, 'product': 3418, 'likewise': 2603, 'entertained': 1498, 'horrendous': 2162, 'somehow': 4063, 'serves': 3895, 'circumstances': 822, 'effectively': 1430, 'established': 1524, '1930s': 11, 'farm': 1656, 'surrounded': 4318, 'fbi': 1675, 'command': 897, 'johnson': 2411, 'situations': 4009, 'sticks': 4186, 'caliber': 649, 'distant': 1295, 'riding': 3695, 'hood': 2151, 'considerable': 950, 'appeal': 271, 'multiple': 2936, 'tommy': 4516, 'stinks': 4192, 'partly': 3197, 'edgar': 1417, 'quest': 3486, 'public': 3460, 'gun': 1996, 'freak': 1824, 'henry': 2084, 'alive': 186, 'em': 1452, 'god': 1926, 'wooden': 4934, 'curse': 1086, 'frankenstein': 1822, 'mary': 2751, 'tragedy': 4551, 'creature': 1045, 'destroying': 1215, 'replaced': 3634, 'gone': 1935, 'clichés': 846, 'bland': 500, 'featuring': 1681, 'fisher': 1739, 'aired': 165, 'bed': 436, 'green': 1971, 'draw': 1349, 'cannot': 670, 'misses': 2868, 'painting': 3175, 'rubber': 3747, 'asleep': 320, 'blind': 506, 'doctors': 1305, 'ocean': 3079, 'dislike': 1288, 'helicopter': 2076, 'enters': 1496, '35': 45, 'unaware': 4632, 'terrorist': 4413, 'fascinating': 1658, 'catchy': 717, 'aware': 368, 'views': 4742, 'murdered': 2940, 'winter': 4900, 'notorious': 3051, 'bettie': 473, 'synopsis': 4344, 'resist': 3648, 'ideal': 2214, 'stronger': 4230, 'pages': 3168, 'sexually': 3910, 'onto': 3111, 'beach': 419, 'jumps': 2432, 'photos': 3261, 'shoots': 3944, 'jumping': 2431, 'investigation': 2343, 'curiosity': 1082, 'cutting': 1092, 'confusing': 942, 'stays': 4169, 'encounters': 1467, 'innocence': 2293, 'albeit': 173, 'todays': 4509, 'nude': 3058, 'strikes': 4225, 'natural': 2973, 'spectacular': 4101, 'southern': 4088, 'amount': 219, 'strength': 4219, 'sarah': 3785, 'studio': 4240, '60': 53, 'strip': 4228, 'worthwhile': 4955, 'popularity': 3334, 'randomly': 3515, 'producers': 3416, 'sake': 3775, 'cost': 1003, 'project': 3427, 'scrooge': 3837, 'holiday': 2134, 'range': 3516, 'unwatchable': 4682, 'wizard': 4919, 'vengeance': 4719, 'string': 4227, 'trite': 4589, 'doll': 1313, 'wolf': 4920, 'susan': 4326, 'nazi': 2977, 'ahead': 159, 'infamous': 2284, 'familiar': 1643, 'careers': 687, 'porn': 3336, 'throat': 4476, 'porno': 3337, 'returned': 3666, 'jaw': 2384, 'campy': 664, 'racism': 3502, 'breasts': 572, 'ruthless': 3764, 'makeup': 2717, 'babe': 375, 'object': 3066, 'lust': 2689, 'walks': 4780, 'ludicrous': 2685, 'max': 2774, 'angle': 236, 'unpleasant': 4674, 'watchable': 4812, 'train': 4556, 'wreck': 4965, 'variety': 4714, 'utter': 4701, 'easier': 1405, 'succeeded': 4263, 'burns': 628, 'pro': 3406, 'un': 4630, 'carpenter': 694, 'proud': 3444, 'talks': 4361, 'essential': 1522, 'lighting': 2596, 'tarzan': 4367, 'six': 4010, 'display': 1291, 'stock': 4193, 'attacks': 339, 'talking': 4360, 'backgrounds': 381, 'built': 618, 'historical': 2119, 'parker': 3191, 'ruins': 3752, 'neil': 2995, 'hamilton': 2012, 'threatening': 4468, 'instinct': 2308, 'accepted': 82, 'possessed': 3347, 'knife': 2487, 'imdb': 2240, 'bet': 470, 'dollar': 1314, 'firstly': 1737, 'available': 361, 'mistakes': 2873, 'arrive': 300, 'hole': 2132, 'mine': 2853, 'et': 1526, 'leader': 2546, 'created': 1037, 'stereotypical': 4180, 'carry': 700, 'barely': 399, 'depth': 1190, 'hiding': 2099, 'grey': 1973, 'machine': 2693, '1972': 18, 'priest': 3392, 'incompetent': 2266, 'inferior': 2285, 'liberal': 2588, 'european': 1530, 'valuable': 4708, 'regarding': 3589, 'duty': 1390, 'whereas': 4865, 'path': 3209, 'explained': 1587, 'fashioned': 1660, 'blah': 496, 'teen': 4388, 'packed': 3166, 'toilet': 4512, 'greater': 1965, 'ad': 110, 'college': 875, 'sincere': 3991, 'east': 1407, 'jobs': 2406, 'capturing': 679, 'performers': 3232, 'measure': 2786, 'howard': 2182, 'accused': 91, 'accurate': 90, 'flash': 1745, 'prior': 3400, 'september': 3884, 'killing': 2472, 'muslim': 2949, 'dating': 1120, 'revealed': 3671, 'interview': 2329, 'guilty': 1995, 'limits': 2607, 'zombie': 4997, 'flynn': 1765, 'adventures': 131, 'sword': 4340, 'europe': 1529, 'kim': 2475, 'william': 4887, 'warner': 4799, 'headed': 2058, 'lady': 2507, 'larger': 2519, 'channels': 754, 'generation': 1883, 'believing': 457, 'alice': 182, 'awfully': 373, 'heights': 2073, 'sea': 3838, 'king': 2479, 'studios': 4241, 'dust': 1388, 'obscure': 3068, 'jeff': 2390, 'lay': 2542, 'contained': 963, 'normally': 3034, 'careful': 688, 'claimed': 829, 'moon': 2900, 'convinced': 984, 'friendship': 1838, 'relation': 3595, 'pop': 3330, 'singers': 3994, 'warning': 4800, 'explanation': 1590, 'nine': 3017, 'proper': 3436, 'forced': 1787, 'apart': 264, 'besides': 468, 'service': 3896, 'blew': 505, 'disagree': 1269, 'weight': 4840, 'notice': 3048, 'youd': 4987, 'futuristic': 1857, 'asian': 314, 'gripping': 1976, 'decades': 1145, 'memory': 2804, 'cave': 727, 'cliff': 847, 'lake': 2509, 'accompanied': 86, 'flesh': 1753, 'cannibal': 669, 'alex': 179, 'pushing': 3479, 'thief': 4448, 'reach': 3536, 'reveals': 3673, 'russell': 3761, 'eventually': 1537, 'technical': 4381, 'citizen': 824, 'kane': 2442, 'reasonable': 3558, 'horse': 2170, 'constructed': 959, 'model': 2880, 'armed': 293, 'giant': 1905, 'rex': 3683, 'thousand': 4465, 'feet': 1688, 'tall': 4362, 'menacing': 2807, 'danger': 1109, 'bottle': 550, 'justin': 2440, 'stiff': 4187, 'upper': 4685, 'cross': 1066, 'melodrama': 2797, '1980s': 21, 'pamela': 3179, 'photographer': 3259, 'models': 2881, 'turning': 4608, 'causing': 726, 'described': 1195, 'alternate': 200, 'smoking': 4040, 'happening': 2028, 'performs': 3234, 'drunk': 1375, 'eve': 1532, 'twenty': 4612, 'spell': 4104, 'paris': 3189, 'band': 391, 'seven': 3903, 'carol': 693, '1968': 16, 'winner': 4897, 'miserable': 2863, 'settle': 3902, 'escapes': 1519, 'journey': 2421, 'ron': 3734, 'chances': 748, 'numbers': 3061, 'staged': 4140, 'tunes': 4603, 'immensely': 2243, 'via': 4726, 'load': 2631, 'commercials': 903, '30': 42, 'dentist': 1180, 'gotten': 1947, 'lacked': 2503, '2006': 36, 'carrie': 697, 'intention': 2319, 'carries': 699, 'suitable': 4285, 'library': 2589, 'topic': 4526, 'aids': 161, 'brother': 598, 'hide': 2097, 'homosexual': 2145, 'families': 1644, 'warmth': 4796, 'concern': 931, 'strongly': 4231, 'bull': 619, 'horrible': 2163, 'amazingly': 210, 'amy': 222, 'lesbian': 2573, 'partner': 3198, 'airplane': 166, 'soap': 4047, 'opera': 3116, 'bonus': 534, 'meaningless': 2782, 'ruin': 3750, 'expert': 1585, 'elvis': 1451, 'opens': 3115, 'stay': 4166, 'twice': 4613, 'junk': 2436, 'arrested': 298, 'idiot': 2218, 'secrets': 3852, 'safe': 3771, 'relatively': 3600, 'share': 3920, 'offered': 3088, 'felix': 1689, 'lemmon': 2567, 'neat': 2982, 'matthau': 2771, 'sports': 4130, 'nearby': 2980, 'west': 4852, 'neighbors': 2994, 'patient': 3211, 'shines': 3932, 'silent': 3975, 'ability': 65, 'scope': 3821, 'tribute': 4581, 'lovely': 2671, 'nonetheless': 3029, 'angela': 232, 'price': 3389, 'brown': 601, 'highlights': 2104, 'animated': 241, 'cox': 1026, 'surface': 4310, 'struck': 4232, 'private': 3404, 'gangsters': 1869, 'ken': 2453, 'appeared': 276, 'columbo': 881, 'spielberg': 4110, 'shadows': 3913, 'impressive': 2253, 'singer': 3993, 'charismatic': 763, 'personality': 3242, 'peace': 3219, 'loving': 2675, 'wacky': 4769, 'attack': 337, 'breaks': 571, 'common': 906, 'jail': 2376, 'dressed': 1358, 'tongue': 4518, 'cheek': 779, 'sides': 3967, 'scheme': 3812, 'wallace': 4782, 'killers': 2471, 'serve': 3893, 'satisfying': 3791, 'ratings': 3530, 'agent': 150, 'ships': 3935, 'holding': 2130, 'neo': 2998, 'pushed': 3478, 'anime': 243, 'research': 3644, 'figures': 1713, 'cases': 708, 'thrill': 4471, 'boredom': 542, 'delivers': 1172, 'exercise': 1568, 'seconds': 3848, 'lacks': 2505, 'credibility': 1047, 'chick': 786, 'saves': 3796, 'vote': 4766, 'students': 4239, 'jesus': 2399, 'joseph': 2419, 'restored': 3659, 'importantly': 2248, 'thousands': 4466, 'solely': 4056, 'trailer': 4554, 'march': 2734, 'blame': 499, 'areas': 287, 'jones': 2418, 'seat': 3845, 'wed': 4835, 'revolution': 3680, 'laws': 2540, 'species': 4098, 'risk': 3704, 'evidence': 1546, 'rings': 3699, 'necessary': 2984, 'ourselves': 3140, 'insult': 2309, 'presentation': 3375, 'repeated': 3631, 'plant': 3293, 'combination': 883, 'comfortable': 892, 'eaten': 1412, 'occasion': 3073, 'flight': 1757, 'fury': 1855, 'jet': 2400, 'literally': 2622, 'invisible': 2344, 'colonel': 876, 'flies': 1756, 'worried': 4949, 'loss': 2659, 'plane': 3288, 'sends': 3876, 'executive': 1567, 'seagal': 3839, 'process': 3412, '2007': 37, 'luckily': 2682, 'existent': 1572, 'largely': 2518, 'matched': 2763, 'peoples': 3222, 'edited': 1420, 'arms': 294, 'torn': 4528, 'countryside': 1015, 'dubbed': 1379, 'rambo': 3511, 'sentimental': 3882, 'ended': 1470, 'philosophy': 3254, 'daniel': 1111, 'mistress': 2874, 'complicated': 925, 'whilst': 4869, 'ties': 4490, 'spends': 4107, 'argument': 291, 'specifically': 4100, 'afterwards': 145, 'hints': 2113, 'laid': 2508, 'magical': 2704, 'dancing': 1107, 'originally': 3131, 'notion': 3050, 'heaven': 2068, 'burt': 629, 'reynolds': 3684, 'downright': 1337, 'charlie': 765, 'anne': 246, '3rd': 47, 'familys': 1646, 'gods': 1928, 'intrigue': 2333, 'context': 968, 'chair': 742, 'safety': 3772, 'square': 4136, 'blend': 504, 'demons': 1178, 'prime': 3395, 'centers': 734, 'mediocre': 2791, 'combined': 885, 'sink': 3999, 'leslie': 2574, 'psychological': 3458, 'send': 3875, 'list': 2617, 'specific': 4099, 'target': 4366, 'robots': 3718, 'grave': 1962, 'spike': 4111, 'blacks': 494, 'contrived': 976, 'respect': 3652, 'justify': 2439, 'pool': 3327, 'union': 4661, 'documentaries': 1306, 'dear': 1140, 'empire': 1464, 'rebel': 3561, 'returns': 3668, 'solo': 4058, 'construction': 960, 'battles': 415, 'naive': 2958, 'calm': 655, 'determined': 1221, 'brutally': 604, 'signed': 3971, 'popcorn': 3331, 'beer': 439, 'mixed': 2877, 'pleasantly': 3303, 'myself': 2953, 'remembered': 3617, 'spoiler': 4123, 'alert': 178, 'cheating': 776, 'flop': 1760, 'wannabe': 4787, 'advise': 134, 'proof': 3434, 'plastic': 3294, 'border': 539, 'devoted': 1231, 'status': 4165, 'japan': 2381, 'vs': 4767, 'connect': 944, 'technique': 4383, 'information': 2288, 'visually': 4758, 'captivating': 675, 'shorts': 3948, 'stooges': 4200, 'timing': 4498, 'larry': 2520, 'polished': 3323, 'description': 1197, 'idiotic': 2219, 'greek': 1970, 'summer': 4291, 'morgan': 2905, 'freeman': 1829, 'officers': 3093, 'weapons': 4829, 'reference': 3582, 'inevitably': 2283, 'affect': 136, 'everywhere': 1545, 'study': 4242, 'uk': 4626, 'literature': 2623, 'position': 3345, 'historically': 2120, 'poem': 3312, 'educational': 1425, 'warriors': 4803, 'millions': 2848, 'graphics': 1959, 'expensive': 1579, 'arrogant': 303, 'tear': 4379, 'cia': 814, 'trained': 4557, 'mission': 2870, 'simpson': 3987, 'explosions': 1597, 'glass': 1917, 'terrorists': 4414, '1990': 24, 'martial': 2747, 'arts': 310, 'opportunities': 3120, 'teenagers': 4391, 'drink': 1361, 'darkness': 1117, 'landscapes': 2514, 'pain': 3170, 'dig': 1250, 'connected': 945, 'samurai': 3779, 'creatures': 1046, 'secondly': 3847, 'maintain': 2710, 'underground': 4640, 'superman': 4301, 'chest': 784, 'bright': 581, 'wes': 4851, 'craven': 1034, 'scientists': 3819, 'remain': 3609, 'lately': 2524, 'pants': 3182, 'bus': 631, 'attacked': 338, 'drive': 1363, 'steal': 4170, 'pointed': 3317, 'broadway': 592, 'lou': 2663, 'fish': 1738, 'stunt': 4245, 'shy': 3962, 'refreshing': 3586, 'thick': 4447, 'manhattan': 2726, 'rat': 3525, 'eighties': 1437, 'blade': 495, 'vivid': 4760, 'childrens': 793, 'wars': 4804, 'oz': 3160, '2002': 32, 'race': 3499, 'relations': 3596, 'inner': 2292, 'irrelevant': 2358, 'derek': 1192, 'denzel': 1181, 'screens': 3832, 'backdrop': 379, 'houses': 2180, 'sets': 3899, 'progresses': 3426, 'matches': 2764, 'portrait': 3339, 'wide': 4880, 'nick': 3012, 'toys': 4543, 'fred': 1825, 'empathy': 1462, 'operation': 3117, 'mall': 2720, 'board': 522, 'pink': 3277, 'skin': 4015, 'demon': 1177, 'gross': 1978, 'heavily': 2069, 'chain': 741, 'anderson': 227, 'consequences': 947, 'shark': 3921, 'showdown': 3955, 'destruction': 1216, 'treats': 4575, 'offended': 3085, 'abc': 63, 'wears': 4832, 'classical': 836, 'translation': 4562, 'ape': 266, 'grow': 1982, 'cats': 721, 'voiced': 4762, '13': 4, 'cg': 739, 'surprising': 4315, 'yellow': 4981, 'crash': 1033, 'respected': 3653, 'met': 2822, 'vicious': 4728, 'elegant': 1441, 'blows': 517, 'prostitute': 3440, 'trees': 4577, 'internet': 2327, 'subplot': 4255, 'deadly': 1133, 'thoughtful': 4463, 'vhs': 4725, 'blake': 498, 'road': 3709, 'gothic': 1945, 'pleasure': 3306, 'lonely': 2643, 'stale': 4141, 'disjointed': 1287, 'daring': 1114, 'slap': 4018, 'hill': 2108, 'innovative': 2295, 'below': 462, 'filming': 1718, 'served': 3894, 'reminiscent': 3621, 'surrounding': 4319, 'doors': 1329, 'lacking': 2504, 'focused': 1767, '1933': 12, 'forth': 1804, 'sits': 4006, 'mansion': 2731, 'latin': 2527, 'united': 4664, 'americas': 215, 'grew': 1972, 'passing': 3204, 'clark': 832, 'lane': 2515, 'oil': 3097, 'crew': 1053, '16': 8, 'timeless': 4496, 'sinister': 3998, 'relatives': 3601, 'vast': 4716, 'pile': 3275, 'wet': 4855, 'urban': 4688, 'corruption': 1002, 'recognized': 3570, 'hart': 2041, 'hanks': 2025, 'pit': 3278, 'jim': 2402, 'apartment': 265, 'daughters': 1122, 'lawyer': 2541, 'cole': 873, 'checking': 778, 'correct': 1000, 'designs': 1204, 'dropped': 1370, 'poetry': 3314, 'ham': 2011, 'locked': 2637, 'panic': 3181, 'changing': 752, 'introduction': 2339, 'pre': 3365, 'hype': 2207, 'settings': 3901, 'developing': 1224, 'discussion': 1284, 'explains': 1589, 'relief': 3605, 'appearances': 275, 'yelling': 4980, 'haunting': 2051, 'saving': 3797, 'physically': 3263, 'tonight': 4519, 'erotic': 1515, 'plausible': 3295, 'hoffman': 2128, 'exceptional': 1558, 'boot': 538, 'winds': 4895, 'endless': 1473, 'metal': 2823, 'combine': 884, 'incoherent': 2265, 'fat': 1663, 'fed': 1682, 'reminds': 3620, 'harsh': 2040, 'broke': 593, 'screenwriter': 3833, 'costume': 1005, 'costumes': 1006, 'convince': 983, 'kidding': 2465, 'hal': 2006, 'suffers': 4278, 'hanging': 2023, 'grim': 1974, 'proves': 3447, 'andy': 230, 'wishing': 4907, 'wore': 4939, 'mtv': 2933, 'diane': 1238, 'joined': 2413, 'landing': 2512, 'prince': 3396, 'projects': 3428, 'corpse': 999, 'gray': 1963, 'factor': 1622, 'eg': 1434, 'charming': 768, 'slight': 4027, 'somewhere': 4069, 'substance': 4258, 'fulci': 1845, 'rental': 3627, 'marks': 2742, 'primary': 3394, 'womans': 4922, 'exploration': 1593, 'piano': 3264, 'bumbling': 622, 'fate': 1665, 'satisfied': 3789, 'captures': 678, 'smaller': 4034, 'complaint': 920, 'distance': 1294, 'plight': 3308, 'dorothy': 1330, 'ran': 3513, 'nominated': 3025, 'deserved': 1200, 'bacall': 377, 'standing': 4146, 'communist': 907, 'political': 3324, 'subsequent': 4257, 'succeeds': 4264, 'dancers': 1105, 'presumably': 3380, 'format': 1799, 'pacing': 3163, 'letters': 2582, 'network': 3000, 'letter': 2581, 'chose': 804, 'shirt': 3937, 'dean': 1139, 'destroy': 1213, 'revenge': 3675, 'victor': 4731, 'ridden': 3691, 'bela': 450, 'lugosi': 2686, 'creator': 1043, 'allowing': 191, 'stolen': 4195, 'advanced': 128, 'boat': 523, 'kate': 2446, 'recorded': 3574, 'holes': 2133, 'buddies': 608, 'laughing': 2533, 'blank': 501, 'psychotic': 3459, 'realized': 3553, 'drivel': 1364, 'unfunny': 4655, 'subjects': 4254, 'uninspired': 4657, 'struggling': 4236, 'molly': 2884, 'sue': 4274, 'dramas': 1347, 'screening': 3830, 'lol': 2640, 'emily': 1456, 'minor': 2857, 'jerk': 2395, 'rid': 3690, 'guilt': 1994, 'emotionally': 1460, 'wondered': 4927, 'saved': 3795, 'astaire': 330, 'powell': 3358, 'robinson': 3716, 'cagney': 646, 'shirley': 3936, 'temple': 4398, 'andrews': 229, 'capital': 673, 'teachers': 4376, 'cure': 1081, 'bite': 489, 'cowboy': 1025, 'belong': 459, 'suck': 4269, 'justice': 2438, 'beat': 423, 'karloff': 2445, 'unintentionally': 4659, 'intentions': 2321, 'adams': 112, 'ryan': 3765, 'guessing': 1991, 'poverty': 3357, 'granted': 1957, 'remaining': 3610, 'anyways': 262, 'stopped': 4202, 'foot': 1781, 'capture': 676, 'renting': 3629, 'fairy': 1632, 'chuck': 812, 'nose': 3037, 'consistent': 953, 'intentionally': 2320, 'engage': 1479, 'jeffrey': 2391, 'horrifying': 2167, 'led': 2558, 'remote': 3622, '1940s': 13, 'westerns': 4854, 'treasure': 4571, 'cage': 645, 'texas': 4418, 'hopper': 2161, 'empty': 1465, 'stops': 4203, 'twilight': 4614, 'burned': 626, 'stole': 4194, 'doo': 1325, 'dynamic': 1394, 'claims': 830, 'record': 3573, 'jessica': 2398, 'undoubtedly': 4648, 'defend': 1158, 'idiots': 2220, 'learn': 2550, 'overdone': 3152, 'advance': 127, 'assault': 324, 'trademark': 4548, 'halloween': 2010, 'lincoln': 2608, 'ford': 1789, 'nervous': 2999, 'abraham': 69, 'leg': 2562, 'prize': 3405, 'attorney': 348, 'hed': 2072, 'trial': 4580, 'defense': 1159, 'fourth': 1813, 'tune': 4602, 'todd': 4510, 'raising': 3509, 'rising': 3703, 'crisis': 1060, 'praise': 3364, 'jr': 2423, 'chief': 788, 'brady': 561, 'professor': 3422, 'rabbit': 3498, 'comical': 894, 'authentic': 358, 'satisfy': 3790, 'factory': 1623, '2003': 33, 'resemblance': 3645, 'amazed': 208, 'shortly': 3947, 'hbo': 2055, 'source': 4086, 'politically': 3325, 'touched': 4534, 'letting': 2583, 'logical': 2639, 'fields': 1705, 'freedom': 1828, '20th': 38, 'frank': 1821, 'weakest': 4825, 'toward': 4539, 'demands': 1175, 'groups': 1981, 'couldve': 1009, 'streep': 4215, 'gag': 1861, 'inducing': 2279, 'crush': 1072, 'purely': 3472, 'horrors': 2169, 'represented': 3638, 'painted': 3174, 'peters': 3248, 'spy': 4135, 'ritter': 3705, 'forty': 1807, 'cared': 685, 'annie': 247, 'showed': 3956, 'craft': 1028, 'size': 4012, 'transformation': 4560, 'wayne': 4821, 'mst3k': 2932, 'ramones': 3512, 'household': 2179, 'album': 175, 'bands': 392, 'ignored': 2225, 'willis': 4890, 'candy': 668, 'saga': 3773, 'burton': 630, 'antics': 255, 'holmes': 2139, 'hatred': 2049, 'hardy': 2037, 'regret': 3591, 'picking': 3267, 'integrity': 2311, 'lifetime': 2594, 'basketball': 409, 'furthermore': 1854, 'california': 650, 'mario': 2738, 'macy': 2695, 'ensemble': 1492, 'inane': 2258, 'doomed': 1327, 'worthless': 4954, 'inappropriate': 2259, 'caused': 724, 'embarrassment': 1455, 'nevertheless': 3002, 'unintentional': 4658, 'butler': 637, 'authority': 360, 'atlantis': 332, 'cartoon': 704, 'kicks': 2463, 'stunts': 4246, 'solution': 4059, 'enter': 1494, 'task': 4368, 'maggie': 2702, 'understanding': 4645, 'competition': 918, 'performing': 3233, 'khan': 2459, 'concert': 935, 'orders': 3127, 'pursuit': 3476, 'merit': 2816, 'comparison': 914, 'punishment': 3467, 'lit': 2621, 'reduced': 3579, 'sloppy': 4030, 'elephant': 1444, 'monkeys': 2891, 'cake': 648, 'upset': 4687, 'miserably': 2864, 'rangers': 3517, 'sum': 4289, 'dragon': 1344, 'bucks': 606, 'monsters': 2893, 'cameras': 660, 'bakshi': 386, 'quirky': 3493, 'crafted': 1029, 'awake': 365, 'useless': 4695, 'soviet': 4089, 'appalling': 268, 'ned': 2986, 'report': 3635, 'reporter': 3636, 'imagined': 2239, 'von': 4765, 'terribly': 4408, 'protagonist': 3441, 'event': 1535, 'talked': 4359, 'ages': 152, 'happily': 2030, 'woody': 4936, 'condition': 937, 'memories': 2803, 'horribly': 2164, 'bitter': 491, 'swim': 4337, 'juvenile': 2441, 'darker': 1116, 'strangers': 4214, 'jewish': 2401, 'bell': 458, 'necessarily': 2983, 'flawless': 1751, 'china': 795, 'combat': 882, 'smooth': 4041, 'countries': 1013, 'segments': 3868, 'widely': 4881, 'trade': 4547, 'bringing': 586, 'st': 4137, 'cars': 702, 'audio': 354, 'voices': 4763, 'hitting': 2126, 'directions': 1262, 'tortured': 4530, 'ya': 4976, 'prisoner': 3402, 'inept': 2281, 'outer': 3143, 'spoof': 4127, 'conventional': 979, 'eager': 1396, 'weve': 4856, 'tied': 4489, 'responsibility': 3655, 'lifestyle': 2593, 'tricks': 4583, 'identity': 2217, 'offensive': 3086, 'performed': 3230, 'junior': 2435, 'jackson': 2375, 'april': 284, 'basement': 405, 'existed': 1570, 'preview': 3386, 'attempted': 341, 'focuses': 1768, 'guarantee': 1987, 'blond': 510, 'blair': 497, 'walker': 4778, 'wilson': 4891, 'hired': 2117, 'vague': 4705, 'scripts': 3836, 'remarkable': 3613, 'ship': 3934, 'officer': 3092, 'pleased': 3305, 'doc': 1303, 'russian': 3762, 'trek': 4578, 'couples': 1017, 'weapon': 4828, 'trailers': 4555, 'eva': 1531, 'worker': 4942, 'contest': 967, 'shelley': 3928, 'winters': 4901, 'mitchell': 2875, 'stretch': 4221, 'hollow': 2135, 'bird': 484, 'inventive': 2341, 'georges': 1894, 'fare': 1655, 'desperately': 1209, 'attend': 344, 'online': 3109, 'complain': 919, 'soldier': 4053, 'clip': 851, 'vulnerable': 4768, 'killings': 2473, 'slaughter': 4021, 'florida': 1761, 'outfit': 3144, 'spring': 4134, 'hank': 2024, 'lawrence': 2539, 'obnoxious': 3067, 'roots': 3738, 'techniques': 4384, 'orson': 3132, 'welles': 4844, 'join': 2412, 'tiny': 4500, 'angels': 234, 'diamond': 1236, 'perfection': 3225, 'pride': 3391, 'olivier': 3103, 'dignity': 1252, 'expressions': 1603, 'choices': 798, 'issue': 2364, 'neighbor': 2992, 'imaginative': 2237, 'paulie': 3215, 'affected': 137, 'emotion': 1458, 'ashley': 313, 'gas': 1874, 'designed': 1203, 'beliefs': 452, 'keaton': 2448, 'exaggerated': 1552, 'burn': 625, 'schools': 3814, 'hearts': 2066, 'tense': 4403, 'occur': 3076, 'superior': 4300, 'discovered': 1280, 'spin': 4112, 'mile': 2842, 'chicks': 787, 'trail': 4553, 'depicts': 1186, 'claim': 828, 'jazz': 2387, 'kings': 2481, 'drops': 1372, 'bomb': 531, 'cities': 823, 'comparing': 913, 'entry': 1504, 'bette': 471, 'goal': 1925, 'phony': 3256, 'sounded': 4082, 'fortunately': 1805, 'holds': 2131, 'eyed': 1612, 'accomplished': 87, 'laughter': 2535, 'mysteries': 2954, '80': 58, 'creators': 1044, 'accidentally': 85, 'stan': 4142, 'passes': 3203, 'dragged': 1343, 'rolling': 3730, 'initially': 2291, 'park': 3190, 'defeat': 1157, 'cruise': 1071, 'daddy': 1096, 'seeking': 3859, 'ironically': 2356, 'artists': 309, 'redemption': 3578, 'titanic': 4503, 'lucas': 2680, 'visuals': 4759, 'web': 4833, 'rolled': 3729, 'nyc': 3065, 'gandhi': 1866, 'underrated': 4642, 'dealt': 1138, 'resources': 3651, 'masterpieces': 2760, 'splendid': 4119, 'wonders': 4931, 'beloved': 461, 'bush': 632, 'stinker': 4191, 'pan': 3180, 'distribution': 1298, 'dvds': 1392, 'refuses': 3587, 'related': 3594, 'according': 88, 'impress': 2250, 'newspaper': 3006, 'bat': 410, 'learned': 2551, 'places': 3284, '13th': 5, 'legend': 2564, 'nostalgic': 3039, 'ego': 1435, 'ginger': 1908, 'baker': 385, 'bruce': 602, 'prevent': 3385, 'showcase': 3954, 'bullets': 621, 'racist': 3503, 'dances': 1106, 'influenced': 2287, 'controversial': 978, 'suits': 4287, 'credible': 1048, 'menace': 2806, 'annoyed': 248, 'fond': 1776, 'notably': 3042, 'san': 3780, 'investigate': 2342, 'misery': 2865, 'clint': 850, 'eastwood': 1409, 'subplots': 4256, 'mouse': 2919, 'viewings': 4741, 'attempting': 342, 'enterprise': 1495, 'intimate': 2331, 'simplicity': 3984, 'alan': 171, 'paying': 3217, 'generations': 1884, 'castle': 712, 'adding': 117, 'arrives': 302, 'rochester': 3719, 'paper': 3183, 'tiger': 4491, 'busy': 635, 'potentially': 3356, 'commented': 900, 'unsettling': 4679, 'eyre': 1614, 'bare': 398, 'wind': 4893, 'fatal': 1664, 'frustration': 1843, 'twelve': 4611, 'sport': 4129, 'evident': 1547, 'aged': 149, 'resulting': 3661, 'transfer': 4559, 'displayed': 1292, 'greatly': 1967, 'basis': 408, 'sneak': 4043, 'stiller': 4189, 'itll': 2369, 'cube': 1076, 'feed': 1683, 'baseball': 403, 'pack': 3165, 'evening': 1534, 'critic': 1061, 'tomatoes': 4515, 'rocket': 3721, 'pleasant': 3302, 'props': 3439, 'principal': 3398, 'threw': 4470, 'health': 2060, 'primarily': 3393, 'attitude': 346, 'hunters': 2200, 'blow': 514, 'miscast': 2862, 'mickey': 2831, 'sappy': 3784, 'foster': 1809, 'discuss': 1283, 'recording': 3575, 'suspects': 4328, 'ie': 2221, 'references': 3583, 'marketing': 2741, 'masterful': 2758, 'spoke': 4125, 'crimes': 1056, 'johnny': 2410, 'remarks': 3615, 'cartoons': 705, 'curious': 1083, 'depressed': 1187, 'clown': 862, 'smiling': 4037, 'mildred': 2841, 'opened': 3113, 'chess': 783, 'tender': 4401, 'confusion': 943, 'colorful': 878, 'creative': 1041, 'sharp': 3922, 'harvey': 2042, 'defined': 1160, 'property': 3438, 'cuba': 1075, 'distracting': 1297, 'chorus': 803, 'strictly': 4223, 'gentle': 1890, 'classes': 834, 'stilted': 4190, 'receive': 3563, 'betty': 474, 'titled': 4505, 'stylish': 4251, 'produce': 3413, 'domestic': 1318, 'helen': 2075, 'abusive': 75, 'louise': 2666, 'steals': 4172, 'drag': 1342, 'watches': 4814, 'underlying': 4641, 'provided': 3449, 'repetitive': 3633, 'university': 4667, 'court': 1020, 'ensues': 1493, 'bleak': 503, 'nonsensical': 3031, 'root': 3737, 'enormous': 1490, 'workers': 4943, 'stanwyck': 4149, 'rights': 3697, 'behave': 445, 'moronic': 2907, 'cousin': 1021, 'scarecrow': 3804, 'giallo': 1904, 'genres': 1889, 'believes': 456, 'acceptable': 81, 'linda': 2609, 'rose': 3739, 'inspiring': 2302, 'germany': 1898, 'flaw': 1749, '30s': 44, 'stevens': 4183, 'aid': 160, 'limited': 2606, 'novels': 3053, 'nuclear': 3057, 'mixture': 2878, 'represents': 3639, 'unfortunate': 4653, 'copies': 992, 'judging': 2425, 'tends': 4402, 'countless': 1012, 'stated': 4161, 'enemies': 1476, 'website': 4834, 'godzilla': 1929, 'borrowed': 545, 'smoke': 4039, 'bobby': 525, 'sandra': 3782, 'gabriel': 1859, 'nurse': 3063, 'motives': 2916, 'terry': 4415, 'hearted': 2065, 'escaped': 1518, 'dreadful': 1353, 'desperation': 1210, 'hook': 2152, 'hates': 2048, 'block': 508, 'laughably': 2531, 'mail': 2706, 'sentence': 3881, 'ladies': 2506, 'thirty': 4456, 'mummy': 2937, 'bay': 416, 'navy': 2976, 'liners': 2611, 'admittedly': 123, 'whale': 4857, 'seventies': 3904, 'scottish': 3825, 'duo': 1386, 'worry': 4950, 'exposure': 1599, 'neighborhood': 2993, 'adam': 111, 'seeks': 3860, 'comedian': 887, 'afford': 138, 'forgettable': 1794, 'hilariously': 2107, 'beats': 426, 'selling': 3873, 'realizing': 3555, 'vietnam': 4735, 'exceptionally': 1559, 'dreary': 1356, 'eastern': 1408, 'twins': 4616, 'listed': 2618, 'swimming': 4338, 'elaborate': 1439, 'inevitable': 2282, 'mundane': 2938, 'instant': 2305, 'miracle': 2860, 'snl': 4044, 'argue': 290, 'maria': 2736, 'heroic': 2090, 'india': 2273, 'nights': 3016, 'virginia': 4750, 'stones': 4198, 'hire': 2116, 'nail': 2957, 'kenneth': 2455, 'removed': 3624, 'bath': 411, 'bugs': 613, 'pig': 3274, 'deceased': 1146, 'kelly': 2452, 'horrid': 2165, 'wound': 4960, 'catherine': 719, 'hurts': 2203, 'brooks': 596, 'homeless': 2143, 'endings': 1472, 'fitting': 1742, 'chicago': 785, 'sole': 4055, 'deaf': 1134, 'definition': 1163, 'depression': 1189, 'initial': 2290, 'surviving': 4323, 'opinions': 3119, 'endure': 1475, 'banned': 395, 'sin': 3988, 'enjoyment': 1488, 'link': 2613, 'splatter': 4118, 'loads': 2633, 'mars': 2746, 'sutherland': 4333, 'quit': 3494, 'improve': 2254, 'taught': 4370, 'staying': 4168, 'beneath': 464, 'waited': 4771, 'stress': 4220, 'nicholas': 3010, 'diana': 1237, 'legal': 2563, 'nomination': 3026, 'wished': 4905, 'versus': 4722, 'myers': 2952, 'curtis': 1087, 'purple': 3473, 'carrey': 696, 'gift': 1906, 'childish': 791, 'quotes': 3497, 'snake': 4042, 'personalities': 3241, 'relate': 3593, 'walls': 4783, 'buck': 605, 'worn': 4948, 'blunt': 520, 'oddly': 3081, 'fetched': 1698, 'failing': 1627, 'bergman': 466, 'pat': 3208, 'kissing': 2484, 'bullet': 620, 'motivations': 2915, 'fooled': 1780, 'survival': 4320, 'karen': 2444, 'activities': 102, 'edition': 1422, 'convoluted': 987, 'rick': 3689, 'canada': 666, 'delivery': 1173, 'uneven': 4649, 'lying': 2690, 'suffered': 4276, 'unreal': 4676, 'elvira': 1450, 'horses': 2171, 'dinosaur': 1255, 'britain': 588, 'unseen': 4678, 'liking': 2604, 'teaching': 4377, 'testament': 4417, 'burning': 627, 'skill': 4013, 'carter': 703, 'jenny': 2393, 'superhero': 4299, 'manipulative': 2727, 'frequent': 1831, 'sandler': 3781, 'psychiatrist': 3455, 'covered': 1023, 'jumped': 2430, 'waitress': 4773, 'kay': 2447, 'writes': 4970, 'returning': 3667, 'sally': 3776, 'urge': 4689, 'streisand': 4218, 'leonard': 2572, 'proceeds': 3411, 'obsession': 3070, 'dozens': 1339, 'survived': 4322, 'nostalgia': 3038, 'championship': 745, 'overlooked': 3154, 'cusack': 1088, '1983': 22, 'tim': 4494, 'explosion': 1596, 'counter': 1011, 'nelson': 2997, 'photo': 3257, 'similarly': 3980, 'recognition': 3568, 'uncle': 4636, 'lena': 2568, 'overrated': 3156, 'alcoholic': 177, 'lucy': 2684, 'philosophical': 3253, 'poster': 3353, 'wicked': 4879, 'revolves': 3682, 'balls': 390, 'richardson': 3688, 'hugh': 2186, 'falk': 1636, 'folk': 1770, 'abilities': 64, '70': 55, 'parent': 3187, 'lessons': 2578, 'cook': 988, 'dialogues': 1235, 'iraq': 2351, 'stood': 4199, 'chapter': 757, 'floating': 1758, '2004': 34, 'sensitive': 3879, 'lynch': 2691, 'joey': 2408, 'widow': 4883, 'sellers': 3872, 'davies': 1125, 'drives': 1367, 'contrast': 975, 'vincent': 4746, 'pseudo': 3454, 'branagh': 564, 'overlook': 3153, 'steel': 4173, 'voight': 4764, 'hippie': 2115, 'slick': 4026, 'avoided': 364, 'ranks': 3519, 'minimum': 2856, 'lone': 2642, 'ps': 3453, 'visits': 4756, 'ah': 158, 'kapoor': 2443, 'bollywood': 530, 'scores': 3823, 'matthew': 2772, 'understated': 4646, 'despair': 1207, 'rachel': 3500, 'uninteresting': 4660, 'ellen': 1446, 'closed': 854, 'robot': 3717, 'elsewhere': 1449, 'swear': 4334, 'reached': 3537, 'react': 3540, 'sidekick': 3966, 'bud': 607, 'montage': 2894, 'trashy': 4566, 'tap': 4364, 'forms': 1801, 'margaret': 2735, 'population': 3335, 'da': 1094, 'glover': 1923, 'serving': 3897, 'troops': 4591, 'ralph': 3510, 'berlin': 467, 'travels': 4569, 'concerning': 933, 'creativity': 1042, '1980': 20, 'spirits': 4115, 'represent': 3637, 'alongside': 196, 'reaches': 3538, 'snow': 4045, 'closest': 857, 'switch': 4339, 'cd': 728, 'holly': 2136, 'massacre': 2754, 'wives': 4918, 'highest': 2102, 'judy': 2426, 'possibility': 3349, 'dave': 1123, 'spooky': 4128, 'machines': 2694, 'swedish': 4335, 'stupidity': 4248, 'phantom': 3251, 'carradine': 695, 'hamlet': 2013, 'dinosaurs': 1256, 'francisco': 1819, 'duke': 1383, 'suggested': 4281, 'estate': 1525, 'explored': 1595, 'sullivan': 4288, 'hung': 2197, 'devils': 1229, 'louis': 2665, 'resident': 3647, 'survivor': 4324, 'sixties': 4011, 'fascinated': 1657, 'persons': 3244, 'stereotype': 4178, 'official': 3094, 'amitabh': 216, 'akshay': 169, 'reel': 3581, 'grinch': 1975, 'der': 1191, 'hopeless': 2158, 'ted': 4386, 'morris': 2908, 'li': 2587, 'royal': 3746, 'mel': 2796, 'unoriginal': 4673, 'prom': 3429, 'wendy': 4846, 'formulaic': 1803, 'witnesses': 4916, 'namely': 2962, 'fever': 1699, 'sounding': 4083, 'ireland': 2352, 'goodness': 1938, 'ha': 2002, 'fay': 1674, 'arrived': 301, 'greedy': 1969, 'tag': 4348, 'sacrifice': 3766, 'irish': 2353, 'apes': 267, 'acid': 95, 'brooklyn': 595, 'sophisticated': 4075, 'pal': 3177, 'simplistic': 3985, 'paltrow': 3178, 'conflicts': 940, 'blob': 507, 'marty': 2749, 'iron': 2354, 'generated': 1882, 'heston': 2094, 'laurel': 2537, 'melting': 2799, 'laura': 2536, 'involve': 2345, 'fx': 1858, 'kurt': 2499, 'rats': 3531, 'virus': 4752, 'lily': 2605, 'buffs': 612, 'psychic': 3456, 'nightmares': 3015, 'ballet': 389, 'resolution': 3649, 'perry': 3237, 'mechanical': 2788, 'dropping': 1371, 'dutch': 1389, 'trio': 4587, 'fancy': 1649, 'possibilities': 3348, 'sinatra': 3989, 'goldberg': 1933, 'campbell': 663, 'lumet': 2688, 'motivation': 2914, 'survivors': 4325, 'superficial': 4298, 'portion': 3338, 'los': 2653, 'angeles': 233, 'disneys': 1290, 'gundam': 1997, 'patients': 3212, 'kennedy': 2454, 'edie': 1419, 'simmons': 3981, 'polanski': 3321, 'robbins': 3712, 'garbo': 1871, 'bourne': 554, 'loyal': 2679, 'dolph': 1317, 'stargate': 4151, 'pokemon': 3320, 'desired': 1206, 'garden': 1872, 'damon': 1101, 'miike': 2837, 'germans': 1897, 'chaplin': 756, 'jaws': 2385, 'waves': 4819, '1984': 23, 'bedroom': 437, 'omen': 3104, 'global': 1920, 'dolls': 1316, 'amounts': 220, 'lengthy': 2570, 'airport': 167, 'questionable': 3488, 'scooby': 3820, 'orange': 3125, 'uwe': 4703, 'boll': 529, 'kubrick': 2496, 'valley': 4707, 'gadget': 1860}\n"
     ]
    }
   ],
   "source": [
    "print(str(vocabulary))"
   ]
  },
  {
   "cell_type": "markdown",
   "metadata": {},
   "source": [
    "Once you have added the endpoint name to the Lambda function, click on **Save**. Your Lambda function is now up and running. Next we need to create a way for our web app to execute the Lambda function."
   ]
  },
  {
   "cell_type": "markdown",
   "metadata": {},
   "source": [
    "### Setting up API Gateway\n",
    "\n",
    "Now that our Lambda function is set up, it is time to **create a new API using API Gateway** that **will trigger the Lambda function** we have just created.\n",
    "\n",
    "Using AWS Console, navigate to **Amazon API Gateway** and then click on **Get started**.\n",
    "\n",
    "On the next page, make sure that **New API** is selected and give the new api a name, for example, `sentiment_analysis_web_app`. Then, click on **Create API**.\n",
    "\n",
    "Now we have created an API, however it doesn't currently do anything. What we want it to do is to trigger the Lambda function that we created earlier.\n",
    "\n",
    "Select the **Actions** dropdown menu and click **Create Method**. A new blank method will be created, select its dropdown menu and select **POST**, then click on the check mark beside it.\n",
    "\n",
    "For the integration point, make sure that **Lambda Function** is selected and click on the **Use Lambda Proxy integration**. This option makes sure that the data that is sent to the API is then sent directly to the Lambda function with no processing. It also means that the return value must be a proper response object as it will also not be processed by API Gateway.\n",
    "\n",
    "Type the name of the Lambda function you created earlier into the **Lambda Function** text entry box and then click on **Save**. Click on **OK** in the pop-up box that then appears, giving permission to API Gateway to invoke the Lambda function you created.\n",
    "\n",
    "The last step in creating the API Gateway is to select the **Actions** dropdown and click on **Deploy API**. You will need to create a new Deployment stage and name it anything you like, for example `prod`.\n",
    "\n",
    "You have now successfully set up a public API to access your SageMaker model. Make sure to copy or write down the URL provided to invoke your newly created public API as this will be needed in the next step. This URL can be found at the top of the page, highlighted in blue next to the text **Invoke URL**."
   ]
  },
  {
   "cell_type": "markdown",
   "metadata": {},
   "source": [
    "## Step 7: Deploying our web app\n",
    "\n",
    "Now that we have a publicly available API, we can start using it in a web app. For our purposes, we have provided a simple static html file which can make use of the public api you created earlier.\n",
    "\n",
    "In the `website` folder there should be a file called `index.html`. Download the file to your computer and open that file up in a text editor of your choice. There should be a line which contains **\\*\\*REPLACE WITH PUBLIC API URL\\*\\***. Replace this string with the url that you wrote down in the last step and then save the file.\n",
    "\n",
    "Now, if you open `index.html` on your local computer, your browser will behave as a local web server and you can use the provided site to interact with your SageMaker model.\n",
    "\n",
    "If you'd like to go further, you can host this html file anywhere you'd like, for example using github or hosting a static site on Amazon's S3. Once you have done this you can share the link with anyone you'd like and have them play with it too!\n",
    "\n",
    "> **Important Note** In order for the web app to communicate with the SageMaker endpoint, the endpoint has to actually be deployed and running. This means that you are paying for it. Make sure that the endpoint is running when you want to use the web app but that you shut it down when you don't need it, otherwise you will end up with a surprisingly large AWS bill."
   ]
  },
  {
   "cell_type": "markdown",
   "metadata": {},
   "source": [
    "### Delete the endpoint\n",
    "\n",
    "Remember to always shut down your endpoint if you are no longer using it. You are charged for the length of time that the endpoint is running so if you forget and leave it on you could end up with an unexpectedly large bill."
   ]
  },
  {
   "cell_type": "code",
   "execution_count": 54,
   "metadata": {},
   "outputs": [],
   "source": [
    "xgb_predictor.delete_endpoint()"
   ]
  },
  {
   "cell_type": "markdown",
   "metadata": {},
   "source": [
    "## Optional: Clean up\n",
    "\n",
    "The default notebook instance on SageMaker doesn't have a lot of excess disk space available. As you continue to complete and execute notebooks you will eventually fill up this disk space, leading to errors which can be difficult to diagnose. Once you are completely finished using a notebook it is a good idea to remove the files that you created along the way. Of course, you can do this from the terminal or from the notebook hub if you would like. The cell below contains some commands to clean up the created files from within the notebook."
   ]
  },
  {
   "cell_type": "code",
   "execution_count": 55,
   "metadata": {},
   "outputs": [],
   "source": [
    "# First we will remove all of the files contained in the data_dir directory\n",
    "!rm $data_dir/*\n",
    "\n",
    "# And then we delete the directory itself\n",
    "!rmdir $data_dir\n",
    "\n",
    "# Similarly we remove the files in the cache_dir directory and the directory itself\n",
    "!rm $cache_dir/*\n",
    "!rmdir $cache_dir"
   ]
  }
 ],
 "metadata": {
  "kernelspec": {
   "display_name": "conda_python3",
   "language": "python",
   "name": "conda_python3"
  },
  "language_info": {
   "codemirror_mode": {
    "name": "ipython",
    "version": 3
   },
   "file_extension": ".py",
   "mimetype": "text/x-python",
   "name": "python",
   "nbconvert_exporter": "python",
   "pygments_lexer": "ipython3",
   "version": "3.6.10"
  }
 },
 "nbformat": 4,
 "nbformat_minor": 2
}

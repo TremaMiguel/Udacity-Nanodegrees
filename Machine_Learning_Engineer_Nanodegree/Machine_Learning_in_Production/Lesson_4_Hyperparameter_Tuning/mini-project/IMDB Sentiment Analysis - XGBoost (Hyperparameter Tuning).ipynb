{
 "cells": [
  {
   "cell_type": "markdown",
   "metadata": {},
   "source": [
    "# Sentiment Analysis\n",
    "\n",
    "## Using XGBoost in SageMaker\n",
    "\n",
    "_Deep Learning Nanodegree Program | Deployment_\n",
    "\n",
    "---\n",
    "\n",
    "In this example of using Amazon's SageMaker service we will construct a **random tree model to predict the sentiment of a movie review**. You may have seen a version of this example in a pervious lesson although it would have been done using the sklearn package. Instead, we will be using the XGBoost package as it is provided to us by Amazon.\n",
    "\n",
    "## Instructions\n",
    "\n",
    "Some template code has already been provided for you, and you will need to implement additional functionality to successfully complete this notebook. You will not need to modify the included code beyond what is requested. Sections that begin with '**TODO**' in the header indicate that you need to complete or implement some portion within them. Instructions will be provided for each section and the specifics of the implementation are marked in the code block with a `# TODO: ...` comment. Please be sure to read the instructions carefully!\n",
    "\n",
    "In addition to implementing code, there will be questions for you to answer which relate to the task and your implementation. Each section where you will answer a question is preceded by a '**Question:**' header. Carefully read each question and provide your answer below the '**Answer:**' header by editing the Markdown cell.\n",
    "\n",
    "> **Note**: Code and Markdown cells can be executed using the **Shift+Enter** keyboard shortcut. In addition, a cell can be edited by typically clicking it (double-click for Markdown cells) or by pressing **Enter** while it is highlighted."
   ]
  },
  {
   "cell_type": "markdown",
   "metadata": {},
   "source": [
    "## Step 1: Downloading the data\n",
    "\n",
    "The dataset we are going to use is very popular among researchers in Natural Language Processing, usually referred to as the [IMDb dataset](http://ai.stanford.edu/~amaas/data/sentiment/). It consists of movie reviews from the website [imdb.com](http://www.imdb.com/), each labeled as either '**pos**itive', if the reviewer enjoyed the film, or '**neg**ative' otherwise.\n",
    "\n",
    "> Maas, Andrew L., et al. [Learning Word Vectors for Sentiment Analysis](http://ai.stanford.edu/~amaas/data/sentiment/). In _Proceedings of the 49th Annual Meeting of the Association for Computational Linguistics: Human Language Technologies_. Association for Computational Linguistics, 2011.\n",
    "\n",
    "We begin by using some Jupyter Notebook magic to download and extract the dataset."
   ]
  },
  {
   "cell_type": "code",
   "execution_count": 1,
   "metadata": {},
   "outputs": [
    {
     "name": "stdout",
     "output_type": "stream",
     "text": [
      "mkdir: cannot create directory ‘../data’: File exists\n",
      "--2020-07-25 12:44:17--  http://ai.stanford.edu/~amaas/data/sentiment/aclImdb_v1.tar.gz\n",
      "Resolving ai.stanford.edu (ai.stanford.edu)... 171.64.68.10\n",
      "Connecting to ai.stanford.edu (ai.stanford.edu)|171.64.68.10|:80... connected.\n",
      "HTTP request sent, awaiting response... 200 OK\n",
      "Length: 84125825 (80M) [application/x-gzip]\n",
      "Saving to: ‘../data/aclImdb_v1.tar.gz’\n",
      "\n",
      "../data/aclImdb_v1. 100%[===================>]  80.23M  37.8MB/s    in 2.1s    \n",
      "\n",
      "2020-07-25 12:44:19 (37.8 MB/s) - ‘../data/aclImdb_v1.tar.gz’ saved [84125825/84125825]\n",
      "\n"
     ]
    }
   ],
   "source": [
    "%mkdir ../data\n",
    "!wget -O ../data/aclImdb_v1.tar.gz http://ai.stanford.edu/~amaas/data/sentiment/aclImdb_v1.tar.gz\n",
    "!tar -zxf ../data/aclImdb_v1.tar.gz -C ../data"
   ]
  },
  {
   "cell_type": "markdown",
   "metadata": {},
   "source": [
    "## Step 2: Preparing the data\n",
    "\n",
    "The data we have downloaded is split into various files, each of which contains a single review. It will be much easier going forward if we combine these individual files into two large files, one for training and one for testing."
   ]
  },
  {
   "cell_type": "code",
   "execution_count": 1,
   "metadata": {},
   "outputs": [],
   "source": [
    "import os\n",
    "import glob\n",
    "\n",
    "def read_imdb_data(data_dir='../data/aclImdb'):\n",
    "    data = {}\n",
    "    labels = {}\n",
    "    \n",
    "    for data_type in ['train', 'test']:\n",
    "        data[data_type] = {}\n",
    "        labels[data_type] = {}\n",
    "        \n",
    "        for sentiment in ['pos', 'neg']:\n",
    "            data[data_type][sentiment] = []\n",
    "            labels[data_type][sentiment] = []\n",
    "            \n",
    "            path = os.path.join(data_dir, data_type, sentiment, '*.txt')\n",
    "            files = glob.glob(path)\n",
    "            \n",
    "            for f in files:\n",
    "                with open(f) as review:\n",
    "                    data[data_type][sentiment].append(review.read())\n",
    "                    # Here we represent a positive review by '1' and a negative review by '0'\n",
    "                    labels[data_type][sentiment].append(1 if sentiment == 'pos' else 0)\n",
    "                    \n",
    "            assert len(data[data_type][sentiment]) == len(labels[data_type][sentiment]), \\\n",
    "                    \"{}/{} data size does not match labels size\".format(data_type, sentiment)\n",
    "                \n",
    "    return data, labels"
   ]
  },
  {
   "cell_type": "code",
   "execution_count": 2,
   "metadata": {},
   "outputs": [
    {
     "name": "stdout",
     "output_type": "stream",
     "text": [
      "IMDB reviews: train = 12500 pos / 12500 neg, test = 12500 pos / 12500 neg\n"
     ]
    }
   ],
   "source": [
    "data, labels = read_imdb_data()\n",
    "print(\"IMDB reviews: train = {} pos / {} neg, test = {} pos / {} neg\".format(\n",
    "            len(data['train']['pos']), len(data['train']['neg']),\n",
    "            len(data['test']['pos']), len(data['test']['neg'])))"
   ]
  },
  {
   "cell_type": "code",
   "execution_count": 6,
   "metadata": {},
   "outputs": [],
   "source": [
    "from sklearn.utils import shuffle\n",
    "\n",
    "def prepare_imdb_data(data, labels, subset):\n",
    "    \"\"\"Prepare training and test sets from IMDb movie reviews.\"\"\"\n",
    "    \n",
    "    #Combine positive and negative reviews and labels\n",
    "    data_train = data['train']['pos'] + data['train']['neg']\n",
    "    data_test = data['test']['pos'] + data['test']['neg']\n",
    "    labels_train = labels['train']['pos'] + labels['train']['neg']\n",
    "    labels_test = labels['test']['pos'] + labels['test']['neg']\n",
    "    \n",
    "    # Subset data \n",
    "    data_train = data_train[:subset]\n",
    "    data_test = data_test[:subset]\n",
    "    labels_train = labels_train[:subset]\n",
    "    labels_test = labels_test[:subset]\n",
    "    \n",
    "    #Shuffle reviews and corresponding labels within training and test sets\n",
    "    data_train, labels_train = shuffle(data_train, labels_train)\n",
    "    data_test, labels_test = shuffle(data_test, labels_test)\n",
    "    \n",
    "    # Return a unified training data, test data, training labels, test labets\n",
    "    return data_train, data_test, labels_train, labels_test"
   ]
  },
  {
   "cell_type": "code",
   "execution_count": 7,
   "metadata": {},
   "outputs": [
    {
     "name": "stdout",
     "output_type": "stream",
     "text": [
      "IMDb reviews (combined): train = 1000, test = 1000\n"
     ]
    }
   ],
   "source": [
    "train_X, test_X, train_y, test_y = prepare_imdb_data(data, labels, subset=1000)\n",
    "print(\"IMDb reviews (combined): train = {}, test = {}\".format(len(train_X), len(test_X)))"
   ]
  },
  {
   "cell_type": "code",
   "execution_count": 8,
   "metadata": {},
   "outputs": [
    {
     "data": {
      "text/plain": [
       "\"I am surprised at IMDb's low rating of this movie. With all due respect, its low rating is representative of the IQ level of those who rated it so poor. They would rather see a movie with cheap thrills, a bigger budget, and more gore.<br /><br />The first misconception by people is that this is a horror film. It is not, nor does the film mislead you into believing it is one. It is a psychological thriller. It is for people who actually want an intellectual experience when watching a movie. Reel.com's review is the perfect example of how I feel about this movie. All the other negative reviews doesn't make much sense. It's almost as if trying to make an original movie for a change- very rare these days- is something bad and not worth it.<br /><br />I will reveal some spoilers for the morons who said it was boring and didn't make sense. Martha was brainwashing herself and performing experiments on herself to be a caring mother while she really was an evil Nazi who would kill without warning. The evidence is all in the pudding and the fact that at first viewing, we sympathize with this cold-blooded monster for the duration of the movie is a testament to the film's direction and writing.<br /><br />I definitely feel that this movie should at least be rated in the 6's range on originality alone. I recommend this movie for the people on the other end of the IQ scale- aka smart people- since this movie is obviously being butchered by those who would rather watch Scream or Freddy's Nightmare.<br /><br />Kudos to the acting as well. For such a low budget film, you are amazed that this movie didn't hit your local cinema with the great direction, writing, and acting. Please don't be fooled by the rating by IMDb. This movie is worth it. I actually recommend buying the film since a first viewing on a rent will not do this justice.\""
      ]
     },
     "execution_count": 8,
     "metadata": {},
     "output_type": "execute_result"
    }
   ],
   "source": [
    "train_X[27]"
   ]
  },
  {
   "cell_type": "markdown",
   "metadata": {},
   "source": [
    "## Step 3: Processing the data\n",
    "\n",
    "Now that we have our training and testing datasets merged and ready to use, we need to start processing the raw data into something that will be useable by our machine learning algorithm. To begin with, we remove any html formatting that may appear in the reviews and perform some standard natural language processing in order to homogenize the data."
   ]
  },
  {
   "cell_type": "code",
   "execution_count": 9,
   "metadata": {},
   "outputs": [
    {
     "name": "stderr",
     "output_type": "stream",
     "text": [
      "[nltk_data] Downloading package stopwords to\n",
      "[nltk_data]     /home/ec2-user/nltk_data...\n",
      "[nltk_data]   Package stopwords is already up-to-date!\n"
     ]
    }
   ],
   "source": [
    "import nltk\n",
    "nltk.download(\"stopwords\")\n",
    "from nltk.corpus import stopwords\n",
    "from nltk.stem.porter import *\n",
    "stemmer = PorterStemmer()"
   ]
  },
  {
   "cell_type": "code",
   "execution_count": 10,
   "metadata": {},
   "outputs": [],
   "source": [
    "import re\n",
    "from bs4 import BeautifulSoup\n",
    "\n",
    "def review_to_words(review):\n",
    "    text = BeautifulSoup(review, \"html.parser\").get_text() # Remove HTML tags\n",
    "    text = re.sub(r\"[^a-zA-Z0-9]\", \" \", text.lower()) # Convert to lower case\n",
    "    words = text.split() # Split string into words\n",
    "    words = [w for w in words if w not in stopwords.words(\"english\")] # Remove stopwords\n",
    "    words = [PorterStemmer().stem(w) for w in words] # stem\n",
    "    \n",
    "    return words"
   ]
  },
  {
   "cell_type": "code",
   "execution_count": 11,
   "metadata": {},
   "outputs": [],
   "source": [
    "import pickle\n",
    "\n",
    "cache_dir = os.path.join(\"../cache\", \"sentiment_analysis\")  # where to store cache files\n",
    "os.makedirs(cache_dir, exist_ok=True)  # ensure cache directory exists\n",
    "\n",
    "def preprocess_data(data_train, data_test, labels_train, labels_test,\n",
    "                    cache_dir=cache_dir, cache_file=\"preprocessed_data.pkl\"):\n",
    "    \"\"\"Convert each review to words; read from cache if available.\"\"\"\n",
    "\n",
    "    # If cache_file is not None, try to read from it first\n",
    "    cache_data = None\n",
    "    if cache_file is not None:\n",
    "        try:\n",
    "            with open(os.path.join(cache_dir, cache_file), \"rb\") as f:\n",
    "                cache_data = pickle.load(f)\n",
    "            print(\"Read preprocessed data from cache file:\", cache_file)\n",
    "        except:\n",
    "            pass  # unable to read from cache, but that's okay\n",
    "    \n",
    "    # If cache is missing, then do the heavy lifting\n",
    "    if cache_data is None:\n",
    "        # Preprocess training and test data to obtain words for each review\n",
    "        #words_train = list(map(review_to_words, data_train))\n",
    "        #words_test = list(map(review_to_words, data_test))\n",
    "        words_train = [review_to_words(review) for review in data_train]\n",
    "        words_test = [review_to_words(review) for review in data_test]\n",
    "        \n",
    "        # Write to cache file for future runs\n",
    "        if cache_file is not None:\n",
    "            cache_data = dict(words_train=words_train, words_test=words_test,\n",
    "                              labels_train=labels_train, labels_test=labels_test)\n",
    "            with open(os.path.join(cache_dir, cache_file), \"wb\") as f:\n",
    "                pickle.dump(cache_data, f)\n",
    "            print(\"Wrote preprocessed data to cache file:\", cache_file)\n",
    "    else:\n",
    "        # Unpack data loaded from cache file\n",
    "        words_train, words_test, labels_train, labels_test = (cache_data['words_train'],\n",
    "                cache_data['words_test'], cache_data['labels_train'], cache_data['labels_test'])\n",
    "    \n",
    "    return words_train, words_test, labels_train, labels_test"
   ]
  },
  {
   "cell_type": "code",
   "execution_count": 12,
   "metadata": {},
   "outputs": [
    {
     "name": "stdout",
     "output_type": "stream",
     "text": [
      "Read preprocessed data from cache file: preprocessed_data.pkl\n"
     ]
    }
   ],
   "source": [
    "# Preprocess data\n",
    "train_X, test_X, train_y, test_y = preprocess_data(train_X, test_X, train_y, test_y)"
   ]
  },
  {
   "cell_type": "markdown",
   "metadata": {},
   "source": [
    "### Extract Bag-of-Words features\n",
    "\n",
    "For the model we will be implementing, rather than using the reviews directly, we are going to transform each review into a Bag-of-Words feature representation. Keep in mind that 'in the wild' we will only have access to the training set so our transformer can only use the training set to construct a representation."
   ]
  },
  {
   "cell_type": "code",
   "execution_count": 14,
   "metadata": {},
   "outputs": [
    {
     "name": "stderr",
     "output_type": "stream",
     "text": [
      "/home/ec2-user/anaconda3/envs/python3/lib/python3.6/site-packages/sklearn/externals/joblib/__init__.py:15: FutureWarning: sklearn.externals.joblib is deprecated in 0.21 and will be removed in 0.23. Please import this functionality directly from joblib, which can be installed with: pip install joblib. If this warning is raised when loading pickled models, you may need to re-serialize those models with scikit-learn 0.21+.\n",
      "  warnings.warn(msg, category=FutureWarning)\n"
     ]
    }
   ],
   "source": [
    "import numpy as np\n",
    "from sklearn.feature_extraction.text import CountVectorizer\n",
    "from sklearn.externals import joblib\n",
    "# joblib is an enhanced version of pickle that is more efficient for storing NumPy arrays\n",
    "\n",
    "def extract_BoW_features(words_train, words_test, vocabulary_size=5000,\n",
    "                         cache_dir=cache_dir, cache_file=\"bow_features.pkl\"):\n",
    "    \"\"\"Extract Bag-of-Words for a given set of documents, already preprocessed into words.\"\"\"\n",
    "    \n",
    "    # If cache_file is not None, try to read from it first\n",
    "    cache_data = None\n",
    "    if cache_file is not None:\n",
    "        try:\n",
    "            with open(os.path.join(cache_dir, cache_file), \"rb\") as f:\n",
    "                cache_data = joblib.load(f)\n",
    "            print(\"Read features from cache file:\", cache_file)\n",
    "        except:\n",
    "            pass  # unable to read from cache, but that's okay\n",
    "    \n",
    "    # If cache is missing, then do the heavy lifting\n",
    "    if cache_data is None:\n",
    "        # Fit a vectorizer to training documents and use it to transform them\n",
    "        # NOTE: Training documents have already been preprocessed and tokenized into words;\n",
    "        #       pass in dummy functions to skip those steps, e.g. preprocessor=lambda x: x\n",
    "        vectorizer = CountVectorizer(max_features=vocabulary_size,\n",
    "                preprocessor=lambda x: x, tokenizer=lambda x: x)  # already preprocessed\n",
    "        features_train = vectorizer.fit_transform(words_train).toarray()\n",
    "\n",
    "        # Apply the same vectorizer to transform the test documents (ignore unknown words)\n",
    "        features_test = vectorizer.transform(words_test).toarray()\n",
    "        \n",
    "        # NOTE: Remember to convert the features using .toarray() for a compact representation\n",
    "        \n",
    "        # Write to cache file for future runs (store vocabulary as well)\n",
    "        if cache_file is not None:\n",
    "            vocabulary = vectorizer.vocabulary_\n",
    "            cache_data = dict(features_train=features_train, features_test=features_test,\n",
    "                             vocabulary=vocabulary)\n",
    "            with open(os.path.join(cache_dir, cache_file), \"wb\") as f:\n",
    "                joblib.dump(cache_data, f)\n",
    "            print(\"Wrote features to cache file:\", cache_file)\n",
    "    else:\n",
    "        # Unpack data loaded from cache file\n",
    "        features_train, features_test, vocabulary = (cache_data['features_train'],\n",
    "                cache_data['features_test'], cache_data['vocabulary'])\n",
    "    \n",
    "    # Return both the extracted features as well as the vocabulary\n",
    "    return features_train, features_test, vocabulary"
   ]
  },
  {
   "cell_type": "code",
   "execution_count": 15,
   "metadata": {},
   "outputs": [
    {
     "name": "stdout",
     "output_type": "stream",
     "text": [
      "Read features from cache file: bow_features.pkl\n"
     ]
    }
   ],
   "source": [
    "# Extract Bag of Words features for both training and test datasets\n",
    "train_X, test_X, vocabulary = extract_BoW_features(train_X, test_X)"
   ]
  },
  {
   "cell_type": "markdown",
   "metadata": {},
   "source": [
    "## Step 4: Classification using XGBoost\n",
    "\n",
    "Now that we have created the feature representation of our training (and testing) data, it is time to start setting up and using the XGBoost classifier provided by SageMaker.\n",
    "\n",
    "### Writing the dataset\n",
    "\n",
    "The XGBoost classifier that we will be using requires the dataset to be written to a file and stored using Amazon S3. To do this, we will start by splitting the training dataset into two parts, the data we will train the model with and a validation set. Then, we will write those datasets to a file and upload the files to S3. In addition, we will write the test set input to a file and upload the file to S3. This is so that we can use SageMakers Batch Transform functionality to test our model once we've fit it."
   ]
  },
  {
   "cell_type": "code",
   "execution_count": 16,
   "metadata": {},
   "outputs": [],
   "source": [
    "import pandas as pd\n",
    "\n",
    "val_X = pd.DataFrame(train_X[:10000])\n",
    "train_X = pd.DataFrame(train_X[10000:])\n",
    "\n",
    "val_y = pd.DataFrame(train_y[:10000])\n",
    "train_y = pd.DataFrame(train_y[10000:])\n",
    "\n",
    "test_y = pd.DataFrame(test_y)\n",
    "test_X = pd.DataFrame(test_X)"
   ]
  },
  {
   "cell_type": "markdown",
   "metadata": {},
   "source": [
    "The documentation for the XGBoost algorithm in SageMaker requires that the saved datasets should contain no headers or index and that for the training and validation data, the label should occur first for each sample.\n",
    "\n",
    "For more information about this and other algorithms, the SageMaker developer documentation can be found on __[Amazon's website.](https://docs.aws.amazon.com/sagemaker/latest/dg/)__"
   ]
  },
  {
   "cell_type": "code",
   "execution_count": 18,
   "metadata": {},
   "outputs": [],
   "source": [
    "# First we make sure that the local directory in which we'd like to store the training and validation csv files exists.\n",
    "data_dir = '../data/xgboost'\n",
    "if not os.path.exists(data_dir):\n",
    "    os.makedirs(data_dir)"
   ]
  },
  {
   "cell_type": "code",
   "execution_count": 20,
   "metadata": {},
   "outputs": [],
   "source": [
    "# First, save the test data to test.csv in the data_dir directory. Note that we do not save the associated ground truth\n",
    "# labels, instead we will use them later to compare with our model output.\n",
    "\n",
    "pd.DataFrame(test_X).to_csv(os.path.join(data_dir, 'test.csv'), header=False, index=False)\n",
    "pd.concat([val_y, val_X], axis=1).to_csv(os.path.join(data_dir, 'validation.csv'), header=False, index=False)\n",
    "pd.concat([train_y, train_X], axis=1).to_csv(os.path.join(data_dir, 'train.csv'), header=False, index=False)"
   ]
  },
  {
   "cell_type": "code",
   "execution_count": 21,
   "metadata": {},
   "outputs": [],
   "source": [
    "# To save a bit of memory we can set text_X, train_X, val_X, train_y and val_y to None.\n",
    "\n",
    "train_X = val_X = train_y = val_y = None"
   ]
  },
  {
   "cell_type": "markdown",
   "metadata": {},
   "source": [
    "### Uploading Training / Validation files to S3\n",
    "\n",
    "Amazon's S3 service allows us to store files that can be access by both the built-in training models such as the XGBoost model we will be using as well as custom models such as the one we will see a little later.\n",
    "\n",
    "For this, and most other tasks we will be doing using SageMaker, there are two methods we could use. The first is to **use the low level functionality of SageMaker** which **requires knowing each of the objects involved in the SageMaker environment**. The second is to **use the high level functionality** in which certain **choices have been made on the user's behalf**. The low level approach benefits from allowing the user a great deal of flexibility while the high level approach makes development much quicker. For our purposes we will opt to use the high level approach although using the low-level approach is certainly an option.\n",
    "\n",
    "Recall the method `upload_data()` which is a member of object representing our current SageMaker session. What this method does is upload the data to the default bucket (which is created if it does not exist) into the path described by the key_prefix variable. To see this for yourself, once you have uploaded the data files, go to the S3 console and look to see where the files have been uploaded.\n",
    "\n",
    "For additional resources, see the __[SageMaker API documentation](http://sagemaker.readthedocs.io/en/latest/)__ and in addition the __[SageMaker Developer Guide.](https://docs.aws.amazon.com/sagemaker/latest/dg/)__"
   ]
  },
  {
   "cell_type": "code",
   "execution_count": 22,
   "metadata": {},
   "outputs": [],
   "source": [
    "import sagemaker\n",
    "\n",
    "session = sagemaker.Session() # Store the current SageMaker session\n",
    "\n",
    "# S3 prefix (which folder will we use)\n",
    "prefix = 'sentiment-xgboost'\n",
    "\n",
    "test_location = session.upload_data(os.path.join(data_dir, 'test.csv'), key_prefix=prefix)\n",
    "val_location = session.upload_data(os.path.join(data_dir, 'validation.csv'), key_prefix=prefix)\n",
    "train_location = session.upload_data(os.path.join(data_dir, 'train.csv'), key_prefix=prefix)"
   ]
  },
  {
   "cell_type": "markdown",
   "metadata": {},
   "source": [
    "### (TODO) Creating a hypertuned XGBoost model\n",
    "\n",
    "Now that the data has been uploaded it is time to create the XGBoost model. As in the Boston Housing notebook, the first step is to create an estimator object which will be used as the *base* of your hyperparameter tuning job."
   ]
  },
  {
   "cell_type": "code",
   "execution_count": 23,
   "metadata": {},
   "outputs": [],
   "source": [
    "from sagemaker import get_execution_role\n",
    "\n",
    "# Our current execution role is require when creating the model as the training\n",
    "# and inference code will need to access the model artifacts.\n",
    "role = get_execution_role()"
   ]
  },
  {
   "cell_type": "code",
   "execution_count": 24,
   "metadata": {},
   "outputs": [
    {
     "name": "stderr",
     "output_type": "stream",
     "text": [
      "'get_image_uri' method will be deprecated in favor of 'ImageURIProvider' class in SageMaker Python SDK v2.\n",
      "WARNING:root:There is a more up to date SageMaker XGBoost image. To use the newer image, please set 'repo_version'='1.0-1'. For example:\n",
      "\tget_image_uri(region, 'xgboost', '1.0-1').\n"
     ]
    }
   ],
   "source": [
    "# We need to retrieve the location of the container which is provided by Amazon for using XGBoost.\n",
    "# As a matter of convenience, the training and inference code both use the same container.\n",
    "from sagemaker.amazon.amazon_estimator import get_image_uri\n",
    "\n",
    "container = get_image_uri(session.boto_region_name, 'xgboost')"
   ]
  },
  {
   "cell_type": "code",
   "execution_count": 25,
   "metadata": {},
   "outputs": [
    {
     "name": "stderr",
     "output_type": "stream",
     "text": [
      "WARNING:root:Parameter image_name will be renamed to image_uri in SageMaker Python SDK v2.\n"
     ]
    }
   ],
   "source": [
    "# TODO: Create a SageMaker estimator using the container location determined in the previous cell.\n",
    "#       It is recommended that you use a single training instance of type ml.m4.xlarge. It is also\n",
    "#       recommended that you use 's3://{}/{}/output'.format(session.default_bucket(), prefix) as the\n",
    "#       output path.\n",
    "\n",
    "xgb = sagemaker.estimator.Estimator(container, \n",
    "                                    role, \n",
    "                                    train_instance_count=1, \n",
    "                                    train_instance_type='ml.m4.xlarge', \n",
    "                                    output_path='s3://{}/{}/output'.format(session.default_bucket(), prefix),\n",
    "                                    sagemaker_session=session)\n",
    "\n",
    "# TODO: Set the XGBoost hyperparameters in the xgb object. Don't forget that in this case we have a binary\n",
    "#       label so we should be using the 'binary:logistic' objective.\n",
    "\n",
    "xgb.set_hyperparameters(max_depth=8,\n",
    "                        eta=0.1,\n",
    "                        gamma=4,\n",
    "                        min_child_weight=6,\n",
    "                        subsample=0.7,\n",
    "                        objective='binary:logistic',\n",
    "                        early_stopping_rounds=10,\n",
    "                        num_round=200)"
   ]
  },
  {
   "cell_type": "markdown",
   "metadata": {},
   "source": [
    "### (TODO) Create the hyperparameter tuner\n",
    "\n",
    "Now that the base estimator has been set up we need to construct a hyperparameter tuner object which we will use to request SageMaker construct a hyperparameter tuning job.\n",
    "\n",
    "**Note:** Training a single sentiment analysis XGBoost model takes longer than training a Boston Housing XGBoost model so if you don't want the hyperparameter tuning job to take too long, make sure to not set the total number of models (jobs) too high."
   ]
  },
  {
   "cell_type": "code",
   "execution_count": 26,
   "metadata": {},
   "outputs": [],
   "source": [
    "# First, make sure to import the relevant objects used to construct the tuner\n",
    "from sagemaker.tuner import IntegerParameter, ContinuousParameter, HyperparameterTuner\n",
    "\n",
    "# TODO: Create the hyperparameter tuner object\n",
    "\n",
    "xgb_hyperparameter_tuner = HyperparameterTuner(estimator = xgb, # The estimator object to use as the basis for the training jobs.\n",
    "                                               objective_metric_name = 'validation:rmse', # The metric used to compare trained models.\n",
    "                                               objective_type = 'Minimize', # Whether we wish to minimize or maximize the metric.\n",
    "                                               max_jobs = 6, # The total number of models to train\n",
    "                                               max_parallel_jobs = 3, # The number of models to train in parallel\n",
    "                                               hyperparameter_ranges = {\n",
    "                                                    'max_depth': IntegerParameter(3, 12),\n",
    "                                                    'eta'      : ContinuousParameter(0.05, 0.5),\n",
    "                                                    'min_child_weight': IntegerParameter(2, 8),\n",
    "                                                    'subsample': ContinuousParameter(0.5, 0.9),\n",
    "                                                    'gamma': ContinuousParameter(0, 10),\n",
    "                                               })"
   ]
  },
  {
   "cell_type": "markdown",
   "metadata": {},
   "source": [
    "### Fit the hyperparameter tuner\n",
    "\n",
    "Now that the hyperparameter tuner object has been constructed, it is time to fit the various models and find the best performing model."
   ]
  },
  {
   "cell_type": "code",
   "execution_count": 27,
   "metadata": {},
   "outputs": [
    {
     "name": "stderr",
     "output_type": "stream",
     "text": [
      "WARNING:sagemaker:'s3_input' class will be renamed to 'TrainingInput' in SageMaker Python SDK v2.\n",
      "WARNING:sagemaker:'s3_input' class will be renamed to 'TrainingInput' in SageMaker Python SDK v2.\n"
     ]
    }
   ],
   "source": [
    "s3_input_train = sagemaker.s3_input(s3_data=train_location, content_type='csv')\n",
    "s3_input_validation = sagemaker.s3_input(s3_data=val_location, content_type='csv')"
   ]
  },
  {
   "cell_type": "code",
   "execution_count": 28,
   "metadata": {},
   "outputs": [],
   "source": [
    "xgb_hyperparameter_tuner.fit({'train': s3_input_train, 'validation': s3_input_validation})"
   ]
  },
  {
   "cell_type": "markdown",
   "metadata": {},
   "source": [
    "Remember that the tuning job is constructed and run in the background so if we want to see the progress of our training job we need to call the `wait()` method."
   ]
  },
  {
   "cell_type": "code",
   "execution_count": 29,
   "metadata": {},
   "outputs": [
    {
     "name": "stdout",
     "output_type": "stream",
     "text": [
      "...................................................................................................................................................................................................................................................................!\n"
     ]
    }
   ],
   "source": [
    "xgb_hyperparameter_tuner.wait()"
   ]
  },
  {
   "cell_type": "markdown",
   "metadata": {},
   "source": [
    "### (TODO) Testing the model\n",
    "\n",
    "Now that we've run our hyperparameter tuning job, it's time to **see how well the best performing model actually performs**. To do this we will **use SageMaker's Batch Transform functionality**. Batch Transform is a convenient way to perform inference on a large dataset in a way that is not realtime. That is, we don't necessarily need to use our model's results immediately and instead **we can peform inference on a large number of samples**. An example of this in industry might be peforming an end of month report. This method of inference can also be useful to us as it means to can perform inference on our entire test set. \n",
    "\n",
    "Remember that in order to create a transformer object to perform the batch transform job, we need a trained estimator object. We can do that using the `attach()` method, creating an estimator object which is attached to the best trained job."
   ]
  },
  {
   "cell_type": "code",
   "execution_count": 30,
   "metadata": {},
   "outputs": [
    {
     "name": "stderr",
     "output_type": "stream",
     "text": [
      "WARNING:root:Parameter image_name will be renamed to image_uri in SageMaker Python SDK v2.\n"
     ]
    },
    {
     "name": "stdout",
     "output_type": "stream",
     "text": [
      "2020-07-25 14:02:34 Starting - Preparing the instances for training\n",
      "2020-07-25 14:02:34 Downloading - Downloading input data\n",
      "2020-07-25 14:02:34 Training - Training image download completed. Training in progress.\n",
      "2020-07-25 14:02:34 Uploading - Uploading generated training model\n",
      "2020-07-25 14:02:34 Completed - Training job completed\u001b[34mArguments: train\u001b[0m\n",
      "\u001b[34m[2020-07-25:13:53:46:INFO] Running standalone xgboost training.\u001b[0m\n",
      "\u001b[34m[2020-07-25:13:53:46:INFO] Setting up HPO optimized metric to be : rmse\u001b[0m\n",
      "\u001b[34m[2020-07-25:13:53:46:INFO] File size need to be processed in the node: 238.47mb. Available memory size in the node: 8475.84mb\u001b[0m\n",
      "\u001b[34m[2020-07-25:13:53:46:INFO] Determined delimiter of CSV input is ','\u001b[0m\n",
      "\u001b[34m[13:53:46] S3DistributionType set as FullyReplicated\u001b[0m\n",
      "\u001b[34m[13:53:48] 15000x5000 matrix with 75000000 entries loaded from /opt/ml/input/data/train?format=csv&label_column=0&delimiter=,\u001b[0m\n",
      "\u001b[34m[2020-07-25:13:53:48:INFO] Determined delimiter of CSV input is ','\u001b[0m\n",
      "\u001b[34m[13:53:48] S3DistributionType set as FullyReplicated\u001b[0m\n",
      "\u001b[34m[13:53:49] 10000x5000 matrix with 50000000 entries loaded from /opt/ml/input/data/validation?format=csv&label_column=0&delimiter=,\u001b[0m\n",
      "\u001b[34m[13:53:54] src/tree/updater_prune.cc:74: tree pruning end, 1 roots, 144 extra nodes, 128 pruned nodes, max_depth=10\u001b[0m\n",
      "\u001b[34m[0]#011train-rmse:0.475429#011validation-rmse:0.477726\u001b[0m\n",
      "\u001b[34mMultiple eval metrics have been passed: 'validation-rmse' will be used for early stopping.\n",
      "\u001b[0m\n",
      "\u001b[34mWill train until validation-rmse hasn't improved in 10 rounds.\u001b[0m\n",
      "\u001b[34m[13:53:57] src/tree/updater_prune.cc:74: tree pruning end, 1 roots, 138 extra nodes, 116 pruned nodes, max_depth=10\u001b[0m\n",
      "\u001b[34m[1]#011train-rmse:0.456749#011validation-rmse:0.461413\u001b[0m\n",
      "\u001b[34m[13:53:59] src/tree/updater_prune.cc:74: tree pruning end, 1 roots, 130 extra nodes, 86 pruned nodes, max_depth=10\u001b[0m\n",
      "\u001b[34m[2]#011train-rmse:0.441739#011validation-rmse:0.448366\u001b[0m\n",
      "\u001b[34m[13:54:02] src/tree/updater_prune.cc:74: tree pruning end, 1 roots, 148 extra nodes, 134 pruned nodes, max_depth=10\u001b[0m\n",
      "\u001b[34m[3]#011train-rmse:0.429195#011validation-rmse:0.438681\u001b[0m\n",
      "\u001b[34m[13:54:05] src/tree/updater_prune.cc:74: tree pruning end, 1 roots, 144 extra nodes, 116 pruned nodes, max_depth=10\u001b[0m\n",
      "\u001b[34m[4]#011train-rmse:0.419279#011validation-rmse:0.430703\u001b[0m\n",
      "\u001b[34m[13:54:07] src/tree/updater_prune.cc:74: tree pruning end, 1 roots, 110 extra nodes, 78 pruned nodes, max_depth=10\u001b[0m\n",
      "\u001b[34m[5]#011train-rmse:0.410131#011validation-rmse:0.423184\u001b[0m\n",
      "\u001b[34m[13:54:10] src/tree/updater_prune.cc:74: tree pruning end, 1 roots, 148 extra nodes, 146 pruned nodes, max_depth=10\u001b[0m\n",
      "\u001b[34m[6]#011train-rmse:0.401907#011validation-rmse:0.417312\u001b[0m\n",
      "\u001b[34m[13:54:12] src/tree/updater_prune.cc:74: tree pruning end, 1 roots, 98 extra nodes, 104 pruned nodes, max_depth=10\u001b[0m\n",
      "\u001b[34m[7]#011train-rmse:0.394543#011validation-rmse:0.411576\u001b[0m\n",
      "\u001b[34m[13:54:15] src/tree/updater_prune.cc:74: tree pruning end, 1 roots, 98 extra nodes, 74 pruned nodes, max_depth=10\u001b[0m\n",
      "\u001b[34m[8]#011train-rmse:0.38833#011validation-rmse:0.406903\u001b[0m\n",
      "\u001b[34m[13:54:17] src/tree/updater_prune.cc:74: tree pruning end, 1 roots, 88 extra nodes, 66 pruned nodes, max_depth=10\u001b[0m\n",
      "\u001b[34m[9]#011train-rmse:0.382685#011validation-rmse:0.402765\u001b[0m\n",
      "\u001b[34m[13:54:20] src/tree/updater_prune.cc:74: tree pruning end, 1 roots, 92 extra nodes, 72 pruned nodes, max_depth=10\u001b[0m\n",
      "\u001b[34m[10]#011train-rmse:0.376874#011validation-rmse:0.398749\u001b[0m\n",
      "\u001b[34m[13:54:22] src/tree/updater_prune.cc:74: tree pruning end, 1 roots, 100 extra nodes, 114 pruned nodes, max_depth=10\u001b[0m\n",
      "\u001b[34m[11]#011train-rmse:0.371582#011validation-rmse:0.395369\u001b[0m\n",
      "\u001b[34m[13:54:25] src/tree/updater_prune.cc:74: tree pruning end, 1 roots, 80 extra nodes, 90 pruned nodes, max_depth=10\u001b[0m\n",
      "\u001b[34m[12]#011train-rmse:0.366984#011validation-rmse:0.39195\u001b[0m\n",
      "\u001b[34m[13:54:27] src/tree/updater_prune.cc:74: tree pruning end, 1 roots, 58 extra nodes, 94 pruned nodes, max_depth=10\u001b[0m\n",
      "\u001b[34m[13]#011train-rmse:0.362903#011validation-rmse:0.389018\u001b[0m\n",
      "\u001b[34m[13:54:30] src/tree/updater_prune.cc:74: tree pruning end, 1 roots, 114 extra nodes, 160 pruned nodes, max_depth=10\u001b[0m\n",
      "\u001b[34m[14]#011train-rmse:0.358113#011validation-rmse:0.386032\u001b[0m\n",
      "\u001b[34m[13:54:33] src/tree/updater_prune.cc:74: tree pruning end, 1 roots, 100 extra nodes, 126 pruned nodes, max_depth=10\u001b[0m\n",
      "\u001b[34m[15]#011train-rmse:0.353296#011validation-rmse:0.383085\u001b[0m\n",
      "\u001b[34m[13:54:35] src/tree/updater_prune.cc:74: tree pruning end, 1 roots, 70 extra nodes, 106 pruned nodes, max_depth=10\u001b[0m\n",
      "\u001b[34m[16]#011train-rmse:0.349911#011validation-rmse:0.380594\u001b[0m\n",
      "\u001b[34m[13:54:38] src/tree/updater_prune.cc:74: tree pruning end, 1 roots, 76 extra nodes, 152 pruned nodes, max_depth=10\u001b[0m\n",
      "\u001b[34m[17]#011train-rmse:0.346567#011validation-rmse:0.378374\u001b[0m\n",
      "\u001b[34m[13:54:40] src/tree/updater_prune.cc:74: tree pruning end, 1 roots, 58 extra nodes, 104 pruned nodes, max_depth=10\u001b[0m\n",
      "\u001b[34m[18]#011train-rmse:0.343707#011validation-rmse:0.376173\u001b[0m\n",
      "\u001b[34m[13:54:43] src/tree/updater_prune.cc:74: tree pruning end, 1 roots, 40 extra nodes, 94 pruned nodes, max_depth=10\u001b[0m\n",
      "\u001b[34m[19]#011train-rmse:0.3413#011validation-rmse:0.374446\u001b[0m\n",
      "\u001b[34m[13:54:45] src/tree/updater_prune.cc:74: tree pruning end, 1 roots, 60 extra nodes, 100 pruned nodes, max_depth=10\u001b[0m\n",
      "\u001b[34m[20]#011train-rmse:0.338428#011validation-rmse:0.372492\u001b[0m\n",
      "\u001b[34m[13:54:48] src/tree/updater_prune.cc:74: tree pruning end, 1 roots, 54 extra nodes, 102 pruned nodes, max_depth=10\u001b[0m\n",
      "\u001b[34m[21]#011train-rmse:0.33583#011validation-rmse:0.370704\u001b[0m\n",
      "\u001b[34m[13:54:50] src/tree/updater_prune.cc:74: tree pruning end, 1 roots, 46 extra nodes, 92 pruned nodes, max_depth=10\u001b[0m\n",
      "\u001b[34m[22]#011train-rmse:0.333572#011validation-rmse:0.368688\u001b[0m\n",
      "\u001b[34m[13:54:53] src/tree/updater_prune.cc:74: tree pruning end, 1 roots, 48 extra nodes, 126 pruned nodes, max_depth=10\u001b[0m\n",
      "\u001b[34m[23]#011train-rmse:0.331298#011validation-rmse:0.366637\u001b[0m\n",
      "\u001b[34m[13:54:55] src/tree/updater_prune.cc:74: tree pruning end, 1 roots, 66 extra nodes, 116 pruned nodes, max_depth=10\u001b[0m\n",
      "\u001b[34m[24]#011train-rmse:0.32868#011validation-rmse:0.365217\u001b[0m\n",
      "\u001b[34m[13:54:58] src/tree/updater_prune.cc:74: tree pruning end, 1 roots, 68 extra nodes, 114 pruned nodes, max_depth=10\u001b[0m\n",
      "\u001b[34m[25]#011train-rmse:0.326015#011validation-rmse:0.363527\u001b[0m\n",
      "\u001b[34m[13:55:01] src/tree/updater_prune.cc:74: tree pruning end, 1 roots, 54 extra nodes, 88 pruned nodes, max_depth=10\u001b[0m\n",
      "\u001b[34m[26]#011train-rmse:0.323694#011validation-rmse:0.361987\u001b[0m\n",
      "\u001b[34m[13:55:03] src/tree/updater_prune.cc:74: tree pruning end, 1 roots, 40 extra nodes, 58 pruned nodes, max_depth=10\u001b[0m\n",
      "\u001b[34m[27]#011train-rmse:0.321913#011validation-rmse:0.360578\u001b[0m\n",
      "\u001b[34m[13:55:06] src/tree/updater_prune.cc:74: tree pruning end, 1 roots, 72 extra nodes, 92 pruned nodes, max_depth=10\u001b[0m\n",
      "\u001b[34m[28]#011train-rmse:0.319359#011validation-rmse:0.35899\u001b[0m\n",
      "\u001b[34m[13:55:08] src/tree/updater_prune.cc:74: tree pruning end, 1 roots, 44 extra nodes, 72 pruned nodes, max_depth=10\u001b[0m\n",
      "\u001b[34m[29]#011train-rmse:0.31765#011validation-rmse:0.35772\u001b[0m\n",
      "\u001b[34m[13:55:11] src/tree/updater_prune.cc:74: tree pruning end, 1 roots, 56 extra nodes, 122 pruned nodes, max_depth=10\u001b[0m\n",
      "\u001b[34m[30]#011train-rmse:0.315742#011validation-rmse:0.356642\u001b[0m\n",
      "\u001b[34m[13:55:13] src/tree/updater_prune.cc:74: tree pruning end, 1 roots, 46 extra nodes, 100 pruned nodes, max_depth=10\u001b[0m\n",
      "\u001b[34m[31]#011train-rmse:0.314122#011validation-rmse:0.355666\u001b[0m\n",
      "\u001b[34m[13:55:16] src/tree/updater_prune.cc:74: tree pruning end, 1 roots, 58 extra nodes, 104 pruned nodes, max_depth=10\u001b[0m\n",
      "\u001b[34m[32]#011train-rmse:0.312127#011validation-rmse:0.354797\u001b[0m\n",
      "\u001b[34m[13:55:18] src/tree/updater_prune.cc:74: tree pruning end, 1 roots, 74 extra nodes, 132 pruned nodes, max_depth=10\u001b[0m\n",
      "\u001b[34m[33]#011train-rmse:0.310018#011validation-rmse:0.35361\u001b[0m\n",
      "\u001b[34m[13:55:21] src/tree/updater_prune.cc:74: tree pruning end, 1 roots, 52 extra nodes, 138 pruned nodes, max_depth=10\u001b[0m\n",
      "\u001b[34m[34]#011train-rmse:0.308237#011validation-rmse:0.352539\u001b[0m\n",
      "\u001b[34m[13:55:23] src/tree/updater_prune.cc:74: tree pruning end, 1 roots, 58 extra nodes, 112 pruned nodes, max_depth=10\u001b[0m\n",
      "\u001b[34m[35]#011train-rmse:0.306263#011validation-rmse:0.351483\u001b[0m\n",
      "\u001b[34m[13:55:26] src/tree/updater_prune.cc:74: tree pruning end, 1 roots, 38 extra nodes, 78 pruned nodes, max_depth=10\u001b[0m\n",
      "\u001b[34m[36]#011train-rmse:0.304688#011validation-rmse:0.350575\u001b[0m\n",
      "\u001b[34m[13:55:29] src/tree/updater_prune.cc:74: tree pruning end, 1 roots, 40 extra nodes, 116 pruned nodes, max_depth=10\u001b[0m\n",
      "\u001b[34m[37]#011train-rmse:0.303213#011validation-rmse:0.349603\u001b[0m\n",
      "\u001b[34m[13:55:31] src/tree/updater_prune.cc:74: tree pruning end, 1 roots, 38 extra nodes, 74 pruned nodes, max_depth=10\u001b[0m\n",
      "\u001b[34m[38]#011train-rmse:0.301867#011validation-rmse:0.348703\u001b[0m\n",
      "\u001b[34m[13:55:34] src/tree/updater_prune.cc:74: tree pruning end, 1 roots, 40 extra nodes, 98 pruned nodes, max_depth=10\u001b[0m\n",
      "\u001b[34m[39]#011train-rmse:0.300514#011validation-rmse:0.347755\u001b[0m\n",
      "\u001b[34m[13:55:36] src/tree/updater_prune.cc:74: tree pruning end, 1 roots, 46 extra nodes, 92 pruned nodes, max_depth=10\u001b[0m\n",
      "\u001b[34m[40]#011train-rmse:0.29897#011validation-rmse:0.347016\u001b[0m\n",
      "\u001b[34m[13:55:39] src/tree/updater_prune.cc:74: tree pruning end, 1 roots, 28 extra nodes, 90 pruned nodes, max_depth=10\u001b[0m\n",
      "\u001b[34m[41]#011train-rmse:0.297769#011validation-rmse:0.346232\u001b[0m\n",
      "\u001b[34m[13:55:41] src/tree/updater_prune.cc:74: tree pruning end, 1 roots, 30 extra nodes, 74 pruned nodes, max_depth=10\u001b[0m\n",
      "\u001b[34m[42]#011train-rmse:0.296761#011validation-rmse:0.345601\u001b[0m\n",
      "\u001b[34m[13:55:44] src/tree/updater_prune.cc:74: tree pruning end, 1 roots, 34 extra nodes, 76 pruned nodes, max_depth=10\u001b[0m\n",
      "\u001b[34m[43]#011train-rmse:0.295685#011validation-rmse:0.344858\u001b[0m\n",
      "\u001b[34m[13:55:46] src/tree/updater_prune.cc:74: tree pruning end, 1 roots, 32 extra nodes, 82 pruned nodes, max_depth=10\u001b[0m\n",
      "\u001b[34m[44]#011train-rmse:0.294697#011validation-rmse:0.344313\u001b[0m\n",
      "\u001b[34m[13:55:49] src/tree/updater_prune.cc:74: tree pruning end, 1 roots, 42 extra nodes, 68 pruned nodes, max_depth=10\u001b[0m\n",
      "\u001b[34m[45]#011train-rmse:0.293381#011validation-rmse:0.343351\u001b[0m\n",
      "\u001b[34m[13:55:51] src/tree/updater_prune.cc:74: tree pruning end, 1 roots, 44 extra nodes, 96 pruned nodes, max_depth=10\u001b[0m\n",
      "\u001b[34m[46]#011train-rmse:0.292019#011validation-rmse:0.342769\u001b[0m\n",
      "\u001b[34m[13:55:54] src/tree/updater_prune.cc:74: tree pruning end, 1 roots, 46 extra nodes, 156 pruned nodes, max_depth=10\u001b[0m\n",
      "\u001b[34m[47]#011train-rmse:0.29054#011validation-rmse:0.341953\u001b[0m\n",
      "\u001b[34m[13:55:56] src/tree/updater_prune.cc:74: tree pruning end, 1 roots, 40 extra nodes, 124 pruned nodes, max_depth=10\u001b[0m\n",
      "\u001b[34m[48]#011train-rmse:0.289374#011validation-rmse:0.341404\u001b[0m\n",
      "\u001b[34m[13:55:59] src/tree/updater_prune.cc:74: tree pruning end, 1 roots, 38 extra nodes, 96 pruned nodes, max_depth=10\u001b[0m\n",
      "\u001b[34m[49]#011train-rmse:0.288319#011validation-rmse:0.340781\u001b[0m\n",
      "\u001b[34m[13:56:02] src/tree/updater_prune.cc:74: tree pruning end, 1 roots, 40 extra nodes, 126 pruned nodes, max_depth=10\u001b[0m\n",
      "\u001b[34m[50]#011train-rmse:0.287127#011validation-rmse:0.340312\u001b[0m\n",
      "\u001b[34m[13:56:04] src/tree/updater_prune.cc:74: tree pruning end, 1 roots, 26 extra nodes, 70 pruned nodes, max_depth=10\u001b[0m\n",
      "\u001b[34m[51]#011train-rmse:0.286229#011validation-rmse:0.339494\u001b[0m\n",
      "\u001b[34m[13:56:07] src/tree/updater_prune.cc:74: tree pruning end, 1 roots, 36 extra nodes, 104 pruned nodes, max_depth=10\u001b[0m\n",
      "\u001b[34m[52]#011train-rmse:0.285242#011validation-rmse:0.338762\u001b[0m\n",
      "\u001b[34m[13:56:09] src/tree/updater_prune.cc:74: tree pruning end, 1 roots, 42 extra nodes, 96 pruned nodes, max_depth=10\u001b[0m\n",
      "\u001b[34m[53]#011train-rmse:0.284048#011validation-rmse:0.338268\u001b[0m\n",
      "\u001b[34m[13:56:12] src/tree/updater_prune.cc:74: tree pruning end, 1 roots, 26 extra nodes, 60 pruned nodes, max_depth=10\u001b[0m\n",
      "\u001b[34m[54]#011train-rmse:0.283335#011validation-rmse:0.337637\u001b[0m\n",
      "\u001b[34m[13:56:14] src/tree/updater_prune.cc:74: tree pruning end, 1 roots, 34 extra nodes, 104 pruned nodes, max_depth=10\u001b[0m\n",
      "\u001b[34m[55]#011train-rmse:0.282368#011validation-rmse:0.337235\u001b[0m\n",
      "\u001b[34m[13:56:17] src/tree/updater_prune.cc:74: tree pruning end, 1 roots, 48 extra nodes, 96 pruned nodes, max_depth=10\u001b[0m\n",
      "\u001b[34m[56]#011train-rmse:0.281083#011validation-rmse:0.336764\u001b[0m\n",
      "\u001b[34m[13:56:19] src/tree/updater_prune.cc:74: tree pruning end, 1 roots, 40 extra nodes, 66 pruned nodes, max_depth=10\u001b[0m\n",
      "\u001b[34m[57]#011train-rmse:0.280016#011validation-rmse:0.336144\u001b[0m\n",
      "\u001b[34m[13:56:22] src/tree/updater_prune.cc:74: tree pruning end, 1 roots, 20 extra nodes, 40 pruned nodes, max_depth=10\u001b[0m\n",
      "\u001b[34m[58]#011train-rmse:0.279411#011validation-rmse:0.335658\u001b[0m\n",
      "\u001b[34m[13:56:24] src/tree/updater_prune.cc:74: tree pruning end, 1 roots, 28 extra nodes, 84 pruned nodes, max_depth=10\u001b[0m\n",
      "\u001b[34m[59]#011train-rmse:0.278593#011validation-rmse:0.335093\u001b[0m\n",
      "\u001b[34m[13:56:27] src/tree/updater_prune.cc:74: tree pruning end, 1 roots, 30 extra nodes, 112 pruned nodes, max_depth=10\u001b[0m\n",
      "\u001b[34m[60]#011train-rmse:0.277678#011validation-rmse:0.334319\u001b[0m\n",
      "\u001b[34m[13:56:30] src/tree/updater_prune.cc:74: tree pruning end, 1 roots, 44 extra nodes, 150 pruned nodes, max_depth=10\u001b[0m\n",
      "\u001b[34m[61]#011train-rmse:0.276488#011validation-rmse:0.333921\u001b[0m\n",
      "\u001b[34m[13:56:32] src/tree/updater_prune.cc:74: tree pruning end, 1 roots, 30 extra nodes, 74 pruned nodes, max_depth=10\u001b[0m\n",
      "\u001b[34m[62]#011train-rmse:0.275619#011validation-rmse:0.333418\u001b[0m\n",
      "\u001b[34m[13:56:35] src/tree/updater_prune.cc:74: tree pruning end, 1 roots, 26 extra nodes, 68 pruned nodes, max_depth=10\u001b[0m\n",
      "\u001b[34m[63]#011train-rmse:0.274792#011validation-rmse:0.333062\u001b[0m\n",
      "\u001b[34m[13:56:37] src/tree/updater_prune.cc:74: tree pruning end, 1 roots, 30 extra nodes, 48 pruned nodes, max_depth=10\u001b[0m\n",
      "\u001b[34m[64]#011train-rmse:0.274017#011validation-rmse:0.332496\u001b[0m\n",
      "\u001b[34m[13:56:40] src/tree/updater_prune.cc:74: tree pruning end, 1 roots, 22 extra nodes, 74 pruned nodes, max_depth=10\u001b[0m\n",
      "\u001b[34m[65]#011train-rmse:0.273389#011validation-rmse:0.332333\u001b[0m\n",
      "\u001b[34m[13:56:42] src/tree/updater_prune.cc:74: tree pruning end, 1 roots, 20 extra nodes, 62 pruned nodes, max_depth=10\u001b[0m\n",
      "\u001b[34m[66]#011train-rmse:0.272731#011validation-rmse:0.331823\u001b[0m\n",
      "\u001b[34m[13:56:45] src/tree/updater_prune.cc:74: tree pruning end, 1 roots, 38 extra nodes, 78 pruned nodes, max_depth=10\u001b[0m\n",
      "\u001b[34m[67]#011train-rmse:0.27163#011validation-rmse:0.331402\u001b[0m\n",
      "\u001b[34m[13:56:47] src/tree/updater_prune.cc:74: tree pruning end, 1 roots, 30 extra nodes, 62 pruned nodes, max_depth=10\u001b[0m\n",
      "\u001b[34m[68]#011train-rmse:0.270971#011validation-rmse:0.33103\u001b[0m\n",
      "\u001b[34m[13:56:50] src/tree/updater_prune.cc:74: tree pruning end, 1 roots, 20 extra nodes, 54 pruned nodes, max_depth=10\u001b[0m\n",
      "\u001b[34m[69]#011train-rmse:0.270432#011validation-rmse:0.330507\u001b[0m\n",
      "\u001b[34m[13:56:52] src/tree/updater_prune.cc:74: tree pruning end, 1 roots, 26 extra nodes, 80 pruned nodes, max_depth=10\u001b[0m\n",
      "\u001b[34m[70]#011train-rmse:0.269737#011validation-rmse:0.330095\u001b[0m\n",
      "\u001b[34m[13:56:55] src/tree/updater_prune.cc:74: tree pruning end, 1 roots, 24 extra nodes, 72 pruned nodes, max_depth=10\u001b[0m\n",
      "\u001b[34m[71]#011train-rmse:0.269084#011validation-rmse:0.329684\u001b[0m\n",
      "\u001b[34m[13:56:58] src/tree/updater_prune.cc:74: tree pruning end, 1 roots, 34 extra nodes, 98 pruned nodes, max_depth=10\u001b[0m\n",
      "\u001b[34m[72]#011train-rmse:0.268272#011validation-rmse:0.329315\u001b[0m\n",
      "\u001b[34m[13:57:00] src/tree/updater_prune.cc:74: tree pruning end, 1 roots, 24 extra nodes, 62 pruned nodes, max_depth=10\u001b[0m\n",
      "\u001b[34m[73]#011train-rmse:0.2676#011validation-rmse:0.328923\u001b[0m\n",
      "\u001b[34m[13:57:03] src/tree/updater_prune.cc:74: tree pruning end, 1 roots, 28 extra nodes, 80 pruned nodes, max_depth=10\u001b[0m\n",
      "\u001b[34m[74]#011train-rmse:0.266858#011validation-rmse:0.328742\u001b[0m\n",
      "\u001b[34m[13:57:05] src/tree/updater_prune.cc:74: tree pruning end, 1 roots, 32 extra nodes, 118 pruned nodes, max_depth=10\u001b[0m\n",
      "\u001b[34m[75]#011train-rmse:0.266046#011validation-rmse:0.32837\u001b[0m\n",
      "\u001b[34m[13:57:08] src/tree/updater_prune.cc:74: tree pruning end, 1 roots, 32 extra nodes, 58 pruned nodes, max_depth=10\u001b[0m\n",
      "\u001b[34m[76]#011train-rmse:0.265378#011validation-rmse:0.328045\u001b[0m\n",
      "\u001b[34m[13:57:10] src/tree/updater_prune.cc:74: tree pruning end, 1 roots, 22 extra nodes, 62 pruned nodes, max_depth=10\u001b[0m\n",
      "\u001b[34m[77]#011train-rmse:0.264832#011validation-rmse:0.327529\u001b[0m\n",
      "\u001b[34m[13:57:13] src/tree/updater_prune.cc:74: tree pruning end, 1 roots, 24 extra nodes, 70 pruned nodes, max_depth=10\u001b[0m\n",
      "\u001b[34m[78]#011train-rmse:0.264394#011validation-rmse:0.327272\u001b[0m\n",
      "\u001b[34m[13:57:15] src/tree/updater_prune.cc:74: tree pruning end, 1 roots, 24 extra nodes, 94 pruned nodes, max_depth=10\u001b[0m\n",
      "\u001b[34m[79]#011train-rmse:0.26372#011validation-rmse:0.327125\u001b[0m\n",
      "\u001b[34m[13:57:18] src/tree/updater_prune.cc:74: tree pruning end, 1 roots, 34 extra nodes, 66 pruned nodes, max_depth=10\u001b[0m\n",
      "\u001b[34m[80]#011train-rmse:0.262969#011validation-rmse:0.32687\u001b[0m\n",
      "\u001b[34m[13:57:20] src/tree/updater_prune.cc:74: tree pruning end, 1 roots, 38 extra nodes, 40 pruned nodes, max_depth=10\u001b[0m\n",
      "\u001b[34m[81]#011train-rmse:0.261969#011validation-rmse:0.326414\u001b[0m\n",
      "\u001b[34m[13:57:23] src/tree/updater_prune.cc:74: tree pruning end, 1 roots, 24 extra nodes, 76 pruned nodes, max_depth=10\u001b[0m\n",
      "\u001b[34m[82]#011train-rmse:0.261386#011validation-rmse:0.325941\u001b[0m\n",
      "\u001b[34m[13:57:25] src/tree/updater_prune.cc:74: tree pruning end, 1 roots, 24 extra nodes, 56 pruned nodes, max_depth=10\u001b[0m\n",
      "\u001b[34m[83]#011train-rmse:0.260848#011validation-rmse:0.325577\u001b[0m\n",
      "\u001b[34m[13:57:28] src/tree/updater_prune.cc:74: tree pruning end, 1 roots, 22 extra nodes, 90 pruned nodes, max_depth=10\u001b[0m\n",
      "\u001b[34m[84]#011train-rmse:0.260466#011validation-rmse:0.325316\u001b[0m\n",
      "\u001b[34m[13:57:31] src/tree/updater_prune.cc:74: tree pruning end, 1 roots, 24 extra nodes, 38 pruned nodes, max_depth=10\u001b[0m\n",
      "\u001b[34m[85]#011train-rmse:0.259897#011validation-rmse:0.324945\u001b[0m\n",
      "\u001b[34m[13:57:33] src/tree/updater_prune.cc:74: tree pruning end, 1 roots, 34 extra nodes, 136 pruned nodes, max_depth=10\u001b[0m\n",
      "\u001b[34m[86]#011train-rmse:0.258971#011validation-rmse:0.324722\u001b[0m\n",
      "\u001b[34m[13:57:36] src/tree/updater_prune.cc:74: tree pruning end, 1 roots, 20 extra nodes, 30 pruned nodes, max_depth=10\u001b[0m\n",
      "\u001b[34m[87]#011train-rmse:0.258439#011validation-rmse:0.324371\u001b[0m\n",
      "\u001b[34m[13:57:38] src/tree/updater_prune.cc:74: tree pruning end, 1 roots, 34 extra nodes, 76 pruned nodes, max_depth=10\u001b[0m\n",
      "\u001b[34m[88]#011train-rmse:0.257655#011validation-rmse:0.324128\u001b[0m\n",
      "\u001b[34m[13:57:41] src/tree/updater_prune.cc:74: tree pruning end, 1 roots, 24 extra nodes, 110 pruned nodes, max_depth=10\u001b[0m\n",
      "\u001b[34m[89]#011train-rmse:0.257125#011validation-rmse:0.323888\u001b[0m\n",
      "\u001b[34m[13:57:43] src/tree/updater_prune.cc:74: tree pruning end, 1 roots, 22 extra nodes, 62 pruned nodes, max_depth=10\u001b[0m\n",
      "\u001b[34m[90]#011train-rmse:0.256638#011validation-rmse:0.323689\u001b[0m\n",
      "\u001b[34m[13:57:46] src/tree/updater_prune.cc:74: tree pruning end, 1 roots, 22 extra nodes, 90 pruned nodes, max_depth=10\u001b[0m\n",
      "\u001b[34m[91]#011train-rmse:0.256148#011validation-rmse:0.323434\u001b[0m\n",
      "\u001b[34m[13:57:48] src/tree/updater_prune.cc:74: tree pruning end, 1 roots, 20 extra nodes, 98 pruned nodes, max_depth=10\u001b[0m\n",
      "\u001b[34m[92]#011train-rmse:0.255675#011validation-rmse:0.323127\u001b[0m\n",
      "\u001b[34m[13:57:51] src/tree/updater_prune.cc:74: tree pruning end, 1 roots, 20 extra nodes, 28 pruned nodes, max_depth=10\u001b[0m\n",
      "\u001b[34m[93]#011train-rmse:0.255303#011validation-rmse:0.322871\u001b[0m\n",
      "\u001b[34m[13:57:53] src/tree/updater_prune.cc:74: tree pruning end, 1 roots, 24 extra nodes, 74 pruned nodes, max_depth=10\u001b[0m\n",
      "\u001b[34m[94]#011train-rmse:0.254906#011validation-rmse:0.3226\u001b[0m\n",
      "\u001b[34m[13:57:56] src/tree/updater_prune.cc:74: tree pruning end, 1 roots, 22 extra nodes, 58 pruned nodes, max_depth=10\u001b[0m\n",
      "\u001b[34m[95]#011train-rmse:0.254482#011validation-rmse:0.322215\u001b[0m\n",
      "\u001b[34m[13:57:58] src/tree/updater_prune.cc:74: tree pruning end, 1 roots, 22 extra nodes, 54 pruned nodes, max_depth=10\u001b[0m\n",
      "\u001b[34m[96]#011train-rmse:0.254014#011validation-rmse:0.321966\u001b[0m\n",
      "\u001b[34m[13:58:01] src/tree/updater_prune.cc:74: tree pruning end, 1 roots, 26 extra nodes, 126 pruned nodes, max_depth=10\u001b[0m\n",
      "\u001b[34m[97]#011train-rmse:0.253361#011validation-rmse:0.321714\u001b[0m\n",
      "\u001b[34m[13:58:04] src/tree/updater_prune.cc:74: tree pruning end, 1 roots, 24 extra nodes, 86 pruned nodes, max_depth=10\u001b[0m\n",
      "\u001b[34m[98]#011train-rmse:0.252824#011validation-rmse:0.321615\u001b[0m\n",
      "\u001b[34m[13:58:06] src/tree/updater_prune.cc:74: tree pruning end, 1 roots, 22 extra nodes, 68 pruned nodes, max_depth=10\u001b[0m\n",
      "\u001b[34m[99]#011train-rmse:0.252292#011validation-rmse:0.321221\u001b[0m\n",
      "\u001b[34m[13:58:09] src/tree/updater_prune.cc:74: tree pruning end, 1 roots, 20 extra nodes, 56 pruned nodes, max_depth=10\u001b[0m\n",
      "\u001b[34m[100]#011train-rmse:0.251879#011validation-rmse:0.320896\u001b[0m\n",
      "\u001b[34m[13:58:11] src/tree/updater_prune.cc:74: tree pruning end, 1 roots, 22 extra nodes, 90 pruned nodes, max_depth=10\u001b[0m\n",
      "\u001b[34m[101]#011train-rmse:0.251354#011validation-rmse:0.320693\u001b[0m\n",
      "\u001b[34m[13:58:14] src/tree/updater_prune.cc:74: tree pruning end, 1 roots, 26 extra nodes, 66 pruned nodes, max_depth=10\u001b[0m\n",
      "\u001b[34m[102]#011train-rmse:0.250791#011validation-rmse:0.320455\u001b[0m\n",
      "\u001b[34m[13:58:16] src/tree/updater_prune.cc:74: tree pruning end, 1 roots, 20 extra nodes, 62 pruned nodes, max_depth=10\u001b[0m\n",
      "\u001b[34m[103]#011train-rmse:0.250366#011validation-rmse:0.320366\u001b[0m\n",
      "\u001b[34m[13:58:19] src/tree/updater_prune.cc:74: tree pruning end, 1 roots, 20 extra nodes, 68 pruned nodes, max_depth=8\u001b[0m\n",
      "\u001b[34m[104]#011train-rmse:0.249944#011validation-rmse:0.320139\u001b[0m\n",
      "\u001b[34m[13:58:21] src/tree/updater_prune.cc:74: tree pruning end, 1 roots, 22 extra nodes, 76 pruned nodes, max_depth=10\u001b[0m\n",
      "\u001b[34m[105]#011train-rmse:0.249522#011validation-rmse:0.319816\u001b[0m\n",
      "\u001b[34m[13:58:24] src/tree/updater_prune.cc:74: tree pruning end, 1 roots, 22 extra nodes, 48 pruned nodes, max_depth=10\u001b[0m\n",
      "\u001b[34m[106]#011train-rmse:0.249071#011validation-rmse:0.319656\u001b[0m\n",
      "\u001b[34m[13:58:26] src/tree/updater_prune.cc:74: tree pruning end, 1 roots, 22 extra nodes, 112 pruned nodes, max_depth=10\u001b[0m\n",
      "\u001b[34m[107]#011train-rmse:0.248672#011validation-rmse:0.319492\u001b[0m\n",
      "\u001b[34m[13:58:29] src/tree/updater_prune.cc:74: tree pruning end, 1 roots, 34 extra nodes, 106 pruned nodes, max_depth=10\u001b[0m\n",
      "\u001b[34m[108]#011train-rmse:0.247816#011validation-rmse:0.319339\u001b[0m\n",
      "\u001b[34m[13:58:31] src/tree/updater_prune.cc:74: tree pruning end, 1 roots, 24 extra nodes, 144 pruned nodes, max_depth=10\u001b[0m\n",
      "\u001b[34m[109]#011train-rmse:0.247321#011validation-rmse:0.319009\u001b[0m\n",
      "\u001b[34m[13:58:34] src/tree/updater_prune.cc:74: tree pruning end, 1 roots, 20 extra nodes, 44 pruned nodes, max_depth=10\u001b[0m\n",
      "\u001b[34m[110]#011train-rmse:0.24694#011validation-rmse:0.318713\u001b[0m\n",
      "\u001b[34m[13:58:37] src/tree/updater_prune.cc:74: tree pruning end, 1 roots, 20 extra nodes, 100 pruned nodes, max_depth=7\u001b[0m\n",
      "\u001b[34m[111]#011train-rmse:0.24656#011validation-rmse:0.318482\u001b[0m\n",
      "\u001b[34m[13:58:39] src/tree/updater_prune.cc:74: tree pruning end, 1 roots, 24 extra nodes, 82 pruned nodes, max_depth=10\u001b[0m\n",
      "\u001b[34m[112]#011train-rmse:0.246044#011validation-rmse:0.318195\u001b[0m\n",
      "\u001b[34m[13:58:42] src/tree/updater_prune.cc:74: tree pruning end, 1 roots, 30 extra nodes, 62 pruned nodes, max_depth=9\u001b[0m\n",
      "\u001b[34m[113]#011train-rmse:0.245457#011validation-rmse:0.318013\u001b[0m\n",
      "\u001b[34m[13:58:44] src/tree/updater_prune.cc:74: tree pruning end, 1 roots, 24 extra nodes, 48 pruned nodes, max_depth=10\u001b[0m\n",
      "\u001b[34m[114]#011train-rmse:0.245104#011validation-rmse:0.317874\u001b[0m\n",
      "\u001b[34m[13:58:47] src/tree/updater_prune.cc:74: tree pruning end, 1 roots, 22 extra nodes, 170 pruned nodes, max_depth=10\u001b[0m\n",
      "\u001b[34m[115]#011train-rmse:0.244718#011validation-rmse:0.317634\u001b[0m\n",
      "\u001b[34m[13:58:49] src/tree/updater_prune.cc:74: tree pruning end, 1 roots, 22 extra nodes, 62 pruned nodes, max_depth=10\u001b[0m\n",
      "\u001b[34m[116]#011train-rmse:0.244243#011validation-rmse:0.317622\u001b[0m\n",
      "\u001b[34m[13:58:52] src/tree/updater_prune.cc:74: tree pruning end, 1 roots, 20 extra nodes, 56 pruned nodes, max_depth=10\u001b[0m\n",
      "\u001b[34m[117]#011train-rmse:0.243865#011validation-rmse:0.317429\u001b[0m\n",
      "\u001b[34m[13:58:54] src/tree/updater_prune.cc:74: tree pruning end, 1 roots, 12 extra nodes, 32 pruned nodes, max_depth=5\u001b[0m\n",
      "\u001b[34m[118]#011train-rmse:0.243639#011validation-rmse:0.317332\u001b[0m\n",
      "\u001b[34m[13:58:57] src/tree/updater_prune.cc:74: tree pruning end, 1 roots, 20 extra nodes, 42 pruned nodes, max_depth=10\u001b[0m\n",
      "\u001b[34m[119]#011train-rmse:0.243258#011validation-rmse:0.317281\u001b[0m\n",
      "\u001b[34m[13:58:59] src/tree/updater_prune.cc:74: tree pruning end, 1 roots, 24 extra nodes, 78 pruned nodes, max_depth=10\u001b[0m\n",
      "\u001b[34m[120]#011train-rmse:0.242735#011validation-rmse:0.316979\u001b[0m\n",
      "\u001b[34m[13:59:02] src/tree/updater_prune.cc:74: tree pruning end, 1 roots, 22 extra nodes, 84 pruned nodes, max_depth=10\u001b[0m\n",
      "\u001b[34m[121]#011train-rmse:0.242286#011validation-rmse:0.316825\u001b[0m\n",
      "\u001b[34m[13:59:05] src/tree/updater_prune.cc:74: tree pruning end, 1 roots, 20 extra nodes, 76 pruned nodes, max_depth=8\u001b[0m\n",
      "\u001b[34m[122]#011train-rmse:0.241876#011validation-rmse:0.316681\u001b[0m\n",
      "\u001b[34m[13:59:07] src/tree/updater_prune.cc:74: tree pruning end, 1 roots, 12 extra nodes, 66 pruned nodes, max_depth=6\u001b[0m\n",
      "\u001b[34m[123]#011train-rmse:0.241681#011validation-rmse:0.316593\u001b[0m\n",
      "\u001b[34m[13:59:10] src/tree/updater_prune.cc:74: tree pruning end, 1 roots, 22 extra nodes, 130 pruned nodes, max_depth=9\u001b[0m\n",
      "\u001b[34m[124]#011train-rmse:0.241237#011validation-rmse:0.316596\u001b[0m\n",
      "\u001b[34m[13:59:12] src/tree/updater_prune.cc:74: tree pruning end, 1 roots, 18 extra nodes, 92 pruned nodes, max_depth=9\u001b[0m\n",
      "\u001b[34m[125]#011train-rmse:0.240927#011validation-rmse:0.316511\u001b[0m\n",
      "\u001b[34m[13:59:15] src/tree/updater_prune.cc:74: tree pruning end, 1 roots, 4 extra nodes, 50 pruned nodes, max_depth=2\u001b[0m\n",
      "\u001b[34m[126]#011train-rmse:0.240856#011validation-rmse:0.316498\u001b[0m\n",
      "\u001b[34m[13:59:17] src/tree/updater_prune.cc:74: tree pruning end, 1 roots, 24 extra nodes, 30 pruned nodes, max_depth=10\u001b[0m\n",
      "\u001b[34m[127]#011train-rmse:0.240456#011validation-rmse:0.316387\u001b[0m\n",
      "\u001b[34m[13:59:20] src/tree/updater_prune.cc:74: tree pruning end, 1 roots, 16 extra nodes, 40 pruned nodes, max_depth=8\u001b[0m\n",
      "\u001b[34m[128]#011train-rmse:0.240156#011validation-rmse:0.316354\u001b[0m\n",
      "\u001b[34m[13:59:22] src/tree/updater_prune.cc:74: tree pruning end, 1 roots, 18 extra nodes, 38 pruned nodes, max_depth=9\u001b[0m\n",
      "\u001b[34m[129]#011train-rmse:0.239817#011validation-rmse:0.316198\u001b[0m\n",
      "\u001b[34m[13:59:25] src/tree/updater_prune.cc:74: tree pruning end, 1 roots, 10 extra nodes, 64 pruned nodes, max_depth=5\u001b[0m\n",
      "\u001b[34m[130]#011train-rmse:0.23967#011validation-rmse:0.316153\u001b[0m\n",
      "\u001b[34m[13:59:27] src/tree/updater_prune.cc:74: tree pruning end, 1 roots, 24 extra nodes, 30 pruned nodes, max_depth=9\u001b[0m\n",
      "\u001b[34m[131]#011train-rmse:0.23927#011validation-rmse:0.315929\u001b[0m\n",
      "\u001b[34m[13:59:30] src/tree/updater_prune.cc:74: tree pruning end, 1 roots, 20 extra nodes, 62 pruned nodes, max_depth=10\u001b[0m\n",
      "\u001b[34m[132]#011train-rmse:0.238949#011validation-rmse:0.315708\u001b[0m\n",
      "\u001b[34m[13:59:32] src/tree/updater_prune.cc:74: tree pruning end, 1 roots, 14 extra nodes, 110 pruned nodes, max_depth=7\u001b[0m\n",
      "\u001b[34m[133]#011train-rmse:0.238711#011validation-rmse:0.315625\u001b[0m\n",
      "\u001b[34m[13:59:35] src/tree/updater_prune.cc:74: tree pruning end, 1 roots, 20 extra nodes, 120 pruned nodes, max_depth=10\u001b[0m\n",
      "\u001b[34m[134]#011train-rmse:0.238361#011validation-rmse:0.315442\u001b[0m\n",
      "\u001b[34m[13:59:38] src/tree/updater_prune.cc:74: tree pruning end, 1 roots, 20 extra nodes, 48 pruned nodes, max_depth=10\u001b[0m\n",
      "\u001b[34m[135]#011train-rmse:0.238069#011validation-rmse:0.315245\u001b[0m\n",
      "\u001b[34m[13:59:40] src/tree/updater_prune.cc:74: tree pruning end, 1 roots, 8 extra nodes, 60 pruned nodes, max_depth=4\u001b[0m\n",
      "\u001b[34m[136]#011train-rmse:0.237921#011validation-rmse:0.315275\u001b[0m\n",
      "\u001b[34m[13:59:43] src/tree/updater_prune.cc:74: tree pruning end, 1 roots, 20 extra nodes, 98 pruned nodes, max_depth=8\u001b[0m\n",
      "\u001b[34m[137]#011train-rmse:0.23757#011validation-rmse:0.315105\u001b[0m\n",
      "\u001b[34m[13:59:45] src/tree/updater_prune.cc:74: tree pruning end, 1 roots, 4 extra nodes, 42 pruned nodes, max_depth=2\u001b[0m\n",
      "\u001b[34m[138]#011train-rmse:0.237504#011validation-rmse:0.315032\u001b[0m\n",
      "\u001b[34m[13:59:48] src/tree/updater_prune.cc:74: tree pruning end, 1 roots, 18 extra nodes, 84 pruned nodes, max_depth=9\u001b[0m\n",
      "\u001b[34m[139]#011train-rmse:0.237158#011validation-rmse:0.314937\u001b[0m\n",
      "\u001b[34m[13:59:50] src/tree/updater_prune.cc:74: tree pruning end, 1 roots, 14 extra nodes, 66 pruned nodes, max_depth=7\u001b[0m\n",
      "\u001b[34m[140]#011train-rmse:0.236935#011validation-rmse:0.314857\u001b[0m\n",
      "\u001b[34m[13:59:53] src/tree/updater_prune.cc:74: tree pruning end, 1 roots, 30 extra nodes, 126 pruned nodes, max_depth=10\u001b[0m\n",
      "\u001b[34m[141]#011train-rmse:0.236391#011validation-rmse:0.314689\u001b[0m\n",
      "\u001b[34m[13:59:55] src/tree/updater_prune.cc:74: tree pruning end, 1 roots, 6 extra nodes, 78 pruned nodes, max_depth=3\u001b[0m\n",
      "\u001b[34m[142]#011train-rmse:0.236302#011validation-rmse:0.314656\u001b[0m\n",
      "\u001b[34m[13:59:58] src/tree/updater_prune.cc:74: tree pruning end, 1 roots, 6 extra nodes, 32 pruned nodes, max_depth=3\u001b[0m\n",
      "\u001b[34m[143]#011train-rmse:0.236214#011validation-rmse:0.314599\u001b[0m\n",
      "\u001b[34m[14:00:01] src/tree/updater_prune.cc:74: tree pruning end, 1 roots, 18 extra nodes, 110 pruned nodes, max_depth=5\u001b[0m\n",
      "\u001b[34m[144]#011train-rmse:0.235896#011validation-rmse:0.314519\u001b[0m\n",
      "\u001b[34m[14:00:03] src/tree/updater_prune.cc:74: tree pruning end, 1 roots, 18 extra nodes, 68 pruned nodes, max_depth=9\u001b[0m\n",
      "\u001b[34m[145]#011train-rmse:0.235554#011validation-rmse:0.314441\u001b[0m\n",
      "\u001b[34m[14:00:06] src/tree/updater_prune.cc:74: tree pruning end, 1 roots, 20 extra nodes, 94 pruned nodes, max_depth=9\u001b[0m\n",
      "\u001b[34m[146]#011train-rmse:0.235182#011validation-rmse:0.314275\u001b[0m\n",
      "\u001b[34m[14:00:08] src/tree/updater_prune.cc:74: tree pruning end, 1 roots, 2 extra nodes, 44 pruned nodes, max_depth=1\u001b[0m\n",
      "\u001b[34m[147]#011train-rmse:0.235155#011validation-rmse:0.314263\u001b[0m\n",
      "\u001b[34m[14:00:11] src/tree/updater_prune.cc:74: tree pruning end, 1 roots, 2 extra nodes, 48 pruned nodes, max_depth=1\u001b[0m\n",
      "\u001b[34m[148]#011train-rmse:0.235129#011validation-rmse:0.314204\u001b[0m\n",
      "\u001b[34m[14:00:13] src/tree/updater_prune.cc:74: tree pruning end, 1 roots, 14 extra nodes, 108 pruned nodes, max_depth=6\u001b[0m\n",
      "\u001b[34m[149]#011train-rmse:0.234862#011validation-rmse:0.314059\u001b[0m\n",
      "\u001b[34m[14:00:16] src/tree/updater_prune.cc:74: tree pruning end, 1 roots, 12 extra nodes, 48 pruned nodes, max_depth=6\u001b[0m\n",
      "\u001b[34m[150]#011train-rmse:0.234659#011validation-rmse:0.31397\u001b[0m\n",
      "\u001b[34m[14:00:19] src/tree/updater_prune.cc:74: tree pruning end, 1 roots, 0 extra nodes, 72 pruned nodes, max_depth=0\u001b[0m\n",
      "\u001b[34m[151]#011train-rmse:0.234663#011validation-rmse:0.313958\u001b[0m\n",
      "\u001b[34m[14:00:21] src/tree/updater_prune.cc:74: tree pruning end, 1 roots, 2 extra nodes, 36 pruned nodes, max_depth=1\u001b[0m\n",
      "\u001b[34m[152]#011train-rmse:0.234628#011validation-rmse:0.313977\u001b[0m\n",
      "\u001b[34m[14:00:24] src/tree/updater_prune.cc:74: tree pruning end, 1 roots, 22 extra nodes, 78 pruned nodes, max_depth=10\u001b[0m\n",
      "\u001b[34m[153]#011train-rmse:0.234168#011validation-rmse:0.313921\u001b[0m\n",
      "\u001b[34m[14:00:26] src/tree/updater_prune.cc:74: tree pruning end, 1 roots, 2 extra nodes, 50 pruned nodes, max_depth=1\u001b[0m\n",
      "\u001b[34m[154]#011train-rmse:0.234136#011validation-rmse:0.313887\u001b[0m\n",
      "\u001b[34m[14:00:29] src/tree/updater_prune.cc:74: tree pruning end, 1 roots, 0 extra nodes, 72 pruned nodes, max_depth=0\u001b[0m\n",
      "\u001b[34m[155]#011train-rmse:0.234142#011validation-rmse:0.313871\u001b[0m\n",
      "\u001b[34m[14:00:31] src/tree/updater_prune.cc:74: tree pruning end, 1 roots, 2 extra nodes, 64 pruned nodes, max_depth=1\u001b[0m\n",
      "\u001b[34m[156]#011train-rmse:0.234112#011validation-rmse:0.313869\u001b[0m\n",
      "\u001b[34m[14:00:34] src/tree/updater_prune.cc:74: tree pruning end, 1 roots, 2 extra nodes, 82 pruned nodes, max_depth=1\u001b[0m\n",
      "\u001b[34m[157]#011train-rmse:0.234075#011validation-rmse:0.313908\u001b[0m\n",
      "\u001b[34m[14:00:36] src/tree/updater_prune.cc:74: tree pruning end, 1 roots, 14 extra nodes, 100 pruned nodes, max_depth=7\u001b[0m\n",
      "\u001b[34m[158]#011train-rmse:0.23388#011validation-rmse:0.313838\u001b[0m\n",
      "\u001b[34m[14:00:39] src/tree/updater_prune.cc:74: tree pruning end, 1 roots, 18 extra nodes, 86 pruned nodes, max_depth=8\u001b[0m\n",
      "\u001b[34m[159]#011train-rmse:0.233602#011validation-rmse:0.31375\u001b[0m\n",
      "\u001b[34m[14:00:41] src/tree/updater_prune.cc:74: tree pruning end, 1 roots, 2 extra nodes, 58 pruned nodes, max_depth=1\u001b[0m\n",
      "\u001b[34m[160]#011train-rmse:0.233575#011validation-rmse:0.313741\u001b[0m\n",
      "\u001b[34m[14:00:44] src/tree/updater_prune.cc:74: tree pruning end, 1 roots, 8 extra nodes, 112 pruned nodes, max_depth=4\u001b[0m\n",
      "\u001b[34m[161]#011train-rmse:0.233432#011validation-rmse:0.31372\u001b[0m\n",
      "\u001b[34m[14:00:47] src/tree/updater_prune.cc:74: tree pruning end, 1 roots, 20 extra nodes, 54 pruned nodes, max_depth=10\u001b[0m\n",
      "\u001b[34m[162]#011train-rmse:0.233189#011validation-rmse:0.313593\u001b[0m\n",
      "\u001b[34m[14:00:49] src/tree/updater_prune.cc:74: tree pruning end, 1 roots, 20 extra nodes, 36 pruned nodes, max_depth=10\u001b[0m\n",
      "\u001b[34m[163]#011train-rmse:0.232845#011validation-rmse:0.313422\u001b[0m\n",
      "\u001b[34m[14:00:52] src/tree/updater_prune.cc:74: tree pruning end, 1 roots, 14 extra nodes, 60 pruned nodes, max_depth=6\u001b[0m\n",
      "\u001b[34m[164]#011train-rmse:0.23263#011validation-rmse:0.31333\u001b[0m\n",
      "\u001b[34m[14:00:54] src/tree/updater_prune.cc:74: tree pruning end, 1 roots, 0 extra nodes, 38 pruned nodes, max_depth=0\u001b[0m\n",
      "\u001b[34m[165]#011train-rmse:0.232625#011validation-rmse:0.313343\u001b[0m\n",
      "\u001b[34m[14:00:57] src/tree/updater_prune.cc:74: tree pruning end, 1 roots, 20 extra nodes, 40 pruned nodes, max_depth=10\u001b[0m\n",
      "\u001b[34m[166]#011train-rmse:0.232266#011validation-rmse:0.313279\u001b[0m\n",
      "\u001b[34m[14:00:59] src/tree/updater_prune.cc:74: tree pruning end, 1 roots, 2 extra nodes, 54 pruned nodes, max_depth=1\u001b[0m\n",
      "\u001b[34m[167]#011train-rmse:0.232236#011validation-rmse:0.313235\u001b[0m\n",
      "\u001b[34m[14:01:02] src/tree/updater_prune.cc:74: tree pruning end, 1 roots, 6 extra nodes, 100 pruned nodes, max_depth=3\u001b[0m\n",
      "\u001b[34m[168]#011train-rmse:0.232197#011validation-rmse:0.313138\u001b[0m\n",
      "\u001b[34m[14:01:04] src/tree/updater_prune.cc:74: tree pruning end, 1 roots, 12 extra nodes, 150 pruned nodes, max_depth=5\u001b[0m\n",
      "\u001b[34m[169]#011train-rmse:0.231964#011validation-rmse:0.313094\u001b[0m\n",
      "\u001b[34m[14:01:07] src/tree/updater_prune.cc:74: tree pruning end, 1 roots, 16 extra nodes, 54 pruned nodes, max_depth=7\u001b[0m\n",
      "\u001b[34m[170]#011train-rmse:0.231669#011validation-rmse:0.312957\u001b[0m\n",
      "\u001b[34m[14:01:09] src/tree/updater_prune.cc:74: tree pruning end, 1 roots, 16 extra nodes, 142 pruned nodes, max_depth=7\u001b[0m\n",
      "\u001b[34m[171]#011train-rmse:0.231423#011validation-rmse:0.312981\u001b[0m\n",
      "\u001b[34m[14:01:12] src/tree/updater_prune.cc:74: tree pruning end, 1 roots, 10 extra nodes, 94 pruned nodes, max_depth=5\u001b[0m\n",
      "\u001b[34m[172]#011train-rmse:0.231303#011validation-rmse:0.312799\u001b[0m\n",
      "\u001b[34m[14:01:14] src/tree/updater_prune.cc:74: tree pruning end, 1 roots, 0 extra nodes, 80 pruned nodes, max_depth=0\u001b[0m\n",
      "\u001b[34m[173]#011train-rmse:0.231299#011validation-rmse:0.312809\u001b[0m\n",
      "\u001b[34m[14:01:17] src/tree/updater_prune.cc:74: tree pruning end, 1 roots, 2 extra nodes, 52 pruned nodes, max_depth=1\u001b[0m\n",
      "\u001b[34m[174]#011train-rmse:0.231251#011validation-rmse:0.312811\u001b[0m\n",
      "\u001b[34m[14:01:20] src/tree/updater_prune.cc:74: tree pruning end, 1 roots, 18 extra nodes, 56 pruned nodes, max_depth=9\u001b[0m\n",
      "\u001b[34m[175]#011train-rmse:0.230999#011validation-rmse:0.312664\u001b[0m\n",
      "\u001b[34m[14:01:22] src/tree/updater_prune.cc:74: tree pruning end, 1 roots, 0 extra nodes, 62 pruned nodes, max_depth=0\u001b[0m\n",
      "\u001b[34m[176]#011train-rmse:0.231003#011validation-rmse:0.312653\u001b[0m\n",
      "\u001b[34m[14:01:25] src/tree/updater_prune.cc:74: tree pruning end, 1 roots, 0 extra nodes, 74 pruned nodes, max_depth=0\u001b[0m\n",
      "\u001b[34m[177]#011train-rmse:0.231009#011validation-rmse:0.312639\u001b[0m\n",
      "\u001b[34m[14:01:27] src/tree/updater_prune.cc:74: tree pruning end, 1 roots, 14 extra nodes, 106 pruned nodes, max_depth=5\u001b[0m\n",
      "\u001b[34m[178]#011train-rmse:0.230721#011validation-rmse:0.312594\u001b[0m\n",
      "\u001b[34m[14:01:30] src/tree/updater_prune.cc:74: tree pruning end, 1 roots, 16 extra nodes, 60 pruned nodes, max_depth=8\u001b[0m\n",
      "\u001b[34m[179]#011train-rmse:0.230474#011validation-rmse:0.312489\u001b[0m\n",
      "\u001b[34m[14:01:32] src/tree/updater_prune.cc:74: tree pruning end, 1 roots, 0 extra nodes, 66 pruned nodes, max_depth=0\u001b[0m\n",
      "\u001b[34m[180]#011train-rmse:0.230466#011validation-rmse:0.31251\u001b[0m\n",
      "\u001b[34m[14:01:35] src/tree/updater_prune.cc:74: tree pruning end, 1 roots, 14 extra nodes, 48 pruned nodes, max_depth=7\u001b[0m\n",
      "\u001b[34m[181]#011train-rmse:0.230234#011validation-rmse:0.31246\u001b[0m\n",
      "\u001b[34m[14:01:37] src/tree/updater_prune.cc:74: tree pruning end, 1 roots, 0 extra nodes, 58 pruned nodes, max_depth=0\u001b[0m\n",
      "\u001b[34m[182]#011train-rmse:0.230237#011validation-rmse:0.312451\u001b[0m\n",
      "\u001b[34m[14:01:40] src/tree/updater_prune.cc:74: tree pruning end, 1 roots, 6 extra nodes, 124 pruned nodes, max_depth=3\u001b[0m\n",
      "\u001b[34m[183]#011train-rmse:0.230164#011validation-rmse:0.31239\u001b[0m\n",
      "\u001b[34m[14:01:42] src/tree/updater_prune.cc:74: tree pruning end, 1 roots, 12 extra nodes, 84 pruned nodes, max_depth=6\u001b[0m\n",
      "\u001b[34m[184]#011train-rmse:0.229962#011validation-rmse:0.312268\u001b[0m\n",
      "\u001b[34m[14:01:45] src/tree/updater_prune.cc:74: tree pruning end, 1 roots, 0 extra nodes, 32 pruned nodes, max_depth=0\u001b[0m\n",
      "\u001b[34m[185]#011train-rmse:0.229969#011validation-rmse:0.312253\u001b[0m\n",
      "\u001b[34m[14:01:47] src/tree/updater_prune.cc:74: tree pruning end, 1 roots, 14 extra nodes, 100 pruned nodes, max_depth=7\u001b[0m\n",
      "\u001b[34m[186]#011train-rmse:0.229786#011validation-rmse:0.312225\u001b[0m\n",
      "\u001b[34m[14:01:50] src/tree/updater_prune.cc:74: tree pruning end, 1 roots, 20 extra nodes, 16 pruned nodes, max_depth=10\u001b[0m\n",
      "\u001b[34m[187]#011train-rmse:0.229481#011validation-rmse:0.312112\u001b[0m\n",
      "\u001b[34m[14:01:52] src/tree/updater_prune.cc:74: tree pruning end, 1 roots, 0 extra nodes, 64 pruned nodes, max_depth=0\u001b[0m\n",
      "\u001b[34m[188]#011train-rmse:0.229482#011validation-rmse:0.312109\u001b[0m\n",
      "\u001b[34m[14:01:55] src/tree/updater_prune.cc:74: tree pruning end, 1 roots, 0 extra nodes, 74 pruned nodes, max_depth=0\u001b[0m\n",
      "\u001b[34m[189]#011train-rmse:0.229479#011validation-rmse:0.312116\u001b[0m\n",
      "\u001b[34m[14:01:58] src/tree/updater_prune.cc:74: tree pruning end, 1 roots, 0 extra nodes, 104 pruned nodes, max_depth=0\u001b[0m\n",
      "\u001b[34m[190]#011train-rmse:0.229479#011validation-rmse:0.312116\u001b[0m\n",
      "\u001b[34m[14:02:00] src/tree/updater_prune.cc:74: tree pruning end, 1 roots, 20 extra nodes, 50 pruned nodes, max_depth=10\u001b[0m\n",
      "\u001b[34m[191]#011train-rmse:0.229191#011validation-rmse:0.311958\u001b[0m\n",
      "\u001b[34m[14:02:03] src/tree/updater_prune.cc:74: tree pruning end, 1 roots, 22 extra nodes, 88 pruned nodes, max_depth=10\u001b[0m\n",
      "\u001b[34m[192]#011train-rmse:0.228801#011validation-rmse:0.311885\u001b[0m\n",
      "\u001b[34m[14:02:05] src/tree/updater_prune.cc:74: tree pruning end, 1 roots, 0 extra nodes, 42 pruned nodes, max_depth=0\u001b[0m\n",
      "\u001b[34m[193]#011train-rmse:0.228798#011validation-rmse:0.311895\u001b[0m\n",
      "\u001b[34m[14:02:08] src/tree/updater_prune.cc:74: tree pruning end, 1 roots, 14 extra nodes, 78 pruned nodes, max_depth=7\u001b[0m\n",
      "\u001b[34m[194]#011train-rmse:0.228581#011validation-rmse:0.311831\u001b[0m\n",
      "\u001b[34m[14:02:10] src/tree/updater_prune.cc:74: tree pruning end, 1 roots, 16 extra nodes, 86 pruned nodes, max_depth=7\u001b[0m\n",
      "\u001b[34m[195]#011train-rmse:0.228338#011validation-rmse:0.311662\u001b[0m\n",
      "\u001b[34m[14:02:13] src/tree/updater_prune.cc:74: tree pruning end, 1 roots, 0 extra nodes, 82 pruned nodes, max_depth=0\u001b[0m\n",
      "\u001b[34m[196]#011train-rmse:0.228339#011validation-rmse:0.31166\u001b[0m\n",
      "\u001b[34m[14:02:16] src/tree/updater_prune.cc:74: tree pruning end, 1 roots, 14 extra nodes, 62 pruned nodes, max_depth=7\u001b[0m\n",
      "\u001b[34m[197]#011train-rmse:0.228111#011validation-rmse:0.311545\u001b[0m\n",
      "\u001b[34m[14:02:18] src/tree/updater_prune.cc:74: tree pruning end, 1 roots, 20 extra nodes, 60 pruned nodes, max_depth=10\u001b[0m\n",
      "\u001b[34m[198]#011train-rmse:0.227855#011validation-rmse:0.311375\u001b[0m\n",
      "\u001b[34m[14:02:22] src/tree/updater_prune.cc:74: tree pruning end, 1 roots, 18 extra nodes, 46 pruned nodes, max_depth=9\u001b[0m\n",
      "\u001b[34m[199]#011train-rmse:0.227599#011validation-rmse:0.311309\u001b[0m\n",
      "Training seconds: 570\n",
      "Billable seconds: 570\n"
     ]
    }
   ],
   "source": [
    "# TODO: Create a new estimator object attached to the best training job found during hyperparameter tuning\n",
    "\n",
    "xgb_attached = sagemaker.estimator.Estimator.attach(xgb_hyperparameter_tuner.best_training_job())"
   ]
  },
  {
   "cell_type": "markdown",
   "metadata": {},
   "source": [
    "Now that we have an estimator object attached to the correct training job, we can proceed as we normally would and create a transformer object."
   ]
  },
  {
   "cell_type": "code",
   "execution_count": 31,
   "metadata": {},
   "outputs": [
    {
     "name": "stderr",
     "output_type": "stream",
     "text": [
      "WARNING:sagemaker:Parameter image will be renamed to image_uri in SageMaker Python SDK v2.\n"
     ]
    }
   ],
   "source": [
    "# TODO: Create a transformer object from the attached estimator. Using an instance count of 1 and an instance type of ml.m4.xlarge\n",
    "#       should be more than enough.\n",
    "\n",
    "xgb_transformer = xgb_attached.transformer(instance_count = 1, instance_type = 'ml.m4.xlarge')"
   ]
  },
  {
   "cell_type": "markdown",
   "metadata": {},
   "source": [
    "Next we actually perform the transform job. When doing so we need to make sure to specify the type of data we are sending so that it is serialized correctly in the background. In our case we are providing our model with csv data so we specify `text/csv`. Also, if the test data that we have provided is too large to process all at once then we need to specify how the data file should be split up. Since each line is a single entry in our data set we tell SageMaker that it can split the input on each line."
   ]
  },
  {
   "cell_type": "code",
   "execution_count": 32,
   "metadata": {},
   "outputs": [],
   "source": [
    "# TODO: Start the transform job. Make sure to specify the content type and the split type of the test data.\n",
    "xgb_transformer.transform(test_location, content_type='text/csv', split_type='Line')"
   ]
  },
  {
   "cell_type": "markdown",
   "metadata": {},
   "source": [
    "Currently the transform job is running but it is doing so in the background. Since we wish to wait until the transform job is done and we would like a bit of feedback we can run the `wait()` method."
   ]
  },
  {
   "cell_type": "code",
   "execution_count": 33,
   "metadata": {},
   "outputs": [
    {
     "name": "stdout",
     "output_type": "stream",
     "text": [
      ".....................\u001b[34mArguments: serve\u001b[0m\n",
      "\u001b[34m[2020-07-25 14:06:15 +0000] [1] [INFO] Starting gunicorn 19.7.1\u001b[0m\n",
      "\u001b[34m[2020-07-25 14:06:15 +0000] [1] [INFO] Listening at: http://0.0.0.0:8080 (1)\u001b[0m\n",
      "\u001b[34m[2020-07-25 14:06:15 +0000] [1] [INFO] Using worker: gevent\u001b[0m\n",
      "\u001b[34m[2020-07-25 14:06:15 +0000] [37] [INFO] Booting worker with pid: 37\u001b[0m\n",
      "\u001b[34m[2020-07-25 14:06:15 +0000] [38] [INFO] Booting worker with pid: 38\u001b[0m\n",
      "\u001b[34m[2020-07-25 14:06:15 +0000] [39] [INFO] Booting worker with pid: 39\u001b[0m\n",
      "\u001b[34m[2020-07-25 14:06:16 +0000] [40] [INFO] Booting worker with pid: 40\u001b[0m\n",
      "\u001b[34m[2020-07-25:14:06:16:INFO] Model loaded successfully for worker : 37\u001b[0m\n",
      "\u001b[34m[2020-07-25:14:06:16:INFO] Model loaded successfully for worker : 38\u001b[0m\n",
      "\u001b[34m[2020-07-25:14:06:16:INFO] Model loaded successfully for worker : 39\u001b[0m\n",
      "\u001b[34m[2020-07-25:14:06:16:INFO] Model loaded successfully for worker : 40\u001b[0m\n",
      "\u001b[32m2020-07-25T14:06:33.111:[sagemaker logs]: MaxConcurrentTransforms=4, MaxPayloadInMB=6, BatchStrategy=MULTI_RECORD\u001b[0m\n",
      "\u001b[34m[2020-07-25:14:06:35:INFO] Sniff delimiter as ','\u001b[0m\n",
      "\u001b[34m[2020-07-25:14:06:35:INFO] Determined delimiter of CSV input is ','\u001b[0m\n",
      "\u001b[35m[2020-07-25:14:06:35:INFO] Sniff delimiter as ','\u001b[0m\n",
      "\u001b[35m[2020-07-25:14:06:35:INFO] Determined delimiter of CSV input is ','\u001b[0m\n",
      "\u001b[34m[2020-07-25:14:06:36:INFO] Sniff delimiter as ','\u001b[0m\n",
      "\u001b[34m[2020-07-25:14:06:36:INFO] Determined delimiter of CSV input is ','\u001b[0m\n",
      "\u001b[34m[2020-07-25:14:06:36:INFO] Sniff delimiter as ','\u001b[0m\n",
      "\u001b[34m[2020-07-25:14:06:36:INFO] Determined delimiter of CSV input is ','\u001b[0m\n",
      "\u001b[35m[2020-07-25:14:06:36:INFO] Sniff delimiter as ','\u001b[0m\n",
      "\u001b[35m[2020-07-25:14:06:36:INFO] Determined delimiter of CSV input is ','\u001b[0m\n",
      "\u001b[35m[2020-07-25:14:06:36:INFO] Sniff delimiter as ','\u001b[0m\n",
      "\u001b[35m[2020-07-25:14:06:36:INFO] Determined delimiter of CSV input is ','\u001b[0m\n",
      "\u001b[34m[2020-07-25:14:06:37:INFO] Sniff delimiter as ','\u001b[0m\n",
      "\u001b[35m[2020-07-25:14:06:37:INFO] Sniff delimiter as ','\u001b[0m\n",
      "\u001b[34m[2020-07-25:14:06:37:INFO] Determined delimiter of CSV input is ','\u001b[0m\n",
      "\u001b[34m[2020-07-25:14:06:37:INFO] Sniff delimiter as ','\u001b[0m\n",
      "\u001b[34m[2020-07-25:14:06:37:INFO] Determined delimiter of CSV input is ','\u001b[0m\n",
      "\u001b[35m[2020-07-25:14:06:37:INFO] Determined delimiter of CSV input is ','\u001b[0m\n",
      "\u001b[35m[2020-07-25:14:06:37:INFO] Sniff delimiter as ','\u001b[0m\n",
      "\u001b[35m[2020-07-25:14:06:37:INFO] Determined delimiter of CSV input is ','\u001b[0m\n",
      "\u001b[34m[2020-07-25:14:06:38:INFO] Sniff delimiter as ','\u001b[0m\n",
      "\u001b[34m[2020-07-25:14:06:38:INFO] Determined delimiter of CSV input is ','\u001b[0m\n",
      "\u001b[35m[2020-07-25:14:06:38:INFO] Sniff delimiter as ','\u001b[0m\n",
      "\u001b[35m[2020-07-25:14:06:38:INFO] Determined delimiter of CSV input is ','\u001b[0m\n",
      "\u001b[34m[2020-07-25:14:06:39:INFO] Sniff delimiter as ','\u001b[0m\n",
      "\u001b[34m[2020-07-25:14:06:39:INFO] Determined delimiter of CSV input is ','\u001b[0m\n",
      "\u001b[34m[2020-07-25:14:06:39:INFO] Sniff delimiter as ','\u001b[0m\n",
      "\u001b[34m[2020-07-25:14:06:39:INFO] Determined delimiter of CSV input is ','\u001b[0m\n",
      "\u001b[35m[2020-07-25:14:06:39:INFO] Sniff delimiter as ','\u001b[0m\n",
      "\u001b[35m[2020-07-25:14:06:39:INFO] Determined delimiter of CSV input is ','\u001b[0m\n",
      "\u001b[35m[2020-07-25:14:06:39:INFO] Sniff delimiter as ','\u001b[0m\n",
      "\u001b[35m[2020-07-25:14:06:39:INFO] Determined delimiter of CSV input is ','\u001b[0m\n",
      "\u001b[34m[2020-07-25:14:06:42:INFO] Sniff delimiter as ','\u001b[0m\n",
      "\u001b[34m[2020-07-25:14:06:42:INFO] Determined delimiter of CSV input is ','\u001b[0m\n",
      "\u001b[34m[2020-07-25:14:06:42:INFO] Sniff delimiter as ','\u001b[0m\n",
      "\u001b[34m[2020-07-25:14:06:42:INFO] Determined delimiter of CSV input is ','\u001b[0m\n",
      "\u001b[34m[2020-07-25:14:06:42:INFO] Sniff delimiter as ','\u001b[0m\n",
      "\u001b[34m[2020-07-25:14:06:42:INFO] Determined delimiter of CSV input is ','\u001b[0m\n",
      "\u001b[34m[2020-07-25:14:06:42:INFO] Sniff delimiter as ','\u001b[0m\n",
      "\u001b[34m[2020-07-25:14:06:42:INFO] Determined delimiter of CSV input is ','\u001b[0m\n",
      "\u001b[35m[2020-07-25:14:06:42:INFO] Sniff delimiter as ','\u001b[0m\n",
      "\u001b[35m[2020-07-25:14:06:42:INFO] Determined delimiter of CSV input is ','\u001b[0m\n",
      "\u001b[35m[2020-07-25:14:06:42:INFO] Sniff delimiter as ','\u001b[0m\n",
      "\u001b[35m[2020-07-25:14:06:42:INFO] Determined delimiter of CSV input is ','\u001b[0m\n",
      "\u001b[35m[2020-07-25:14:06:42:INFO] Sniff delimiter as ','\u001b[0m\n",
      "\u001b[35m[2020-07-25:14:06:42:INFO] Determined delimiter of CSV input is ','\u001b[0m\n",
      "\u001b[35m[2020-07-25:14:06:42:INFO] Sniff delimiter as ','\u001b[0m\n",
      "\u001b[35m[2020-07-25:14:06:42:INFO] Determined delimiter of CSV input is ','\u001b[0m\n",
      "\u001b[34m[2020-07-25:14:06:44:INFO] Sniff delimiter as ','\u001b[0m\n",
      "\u001b[34m[2020-07-25:14:06:44:INFO] Determined delimiter of CSV input is ','\u001b[0m\n",
      "\u001b[34m[2020-07-25:14:06:44:INFO] Sniff delimiter as ','\u001b[0m\n",
      "\u001b[34m[2020-07-25:14:06:44:INFO] Determined delimiter of CSV input is ','\u001b[0m\n",
      "\u001b[35m[2020-07-25:14:06:44:INFO] Sniff delimiter as ','\u001b[0m\n",
      "\u001b[35m[2020-07-25:14:06:44:INFO] Determined delimiter of CSV input is ','\u001b[0m\n",
      "\u001b[35m[2020-07-25:14:06:44:INFO] Sniff delimiter as ','\u001b[0m\n",
      "\u001b[35m[2020-07-25:14:06:44:INFO] Determined delimiter of CSV input is ','\u001b[0m\n",
      "\u001b[34m[2020-07-25:14:06:44:INFO] Sniff delimiter as ','\u001b[0m\n",
      "\u001b[34m[2020-07-25:14:06:44:INFO] Determined delimiter of CSV input is ','\u001b[0m\n",
      "\u001b[34m[2020-07-25:14:06:45:INFO] Sniff delimiter as ','\u001b[0m\n",
      "\u001b[34m[2020-07-25:14:06:45:INFO] Determined delimiter of CSV input is ','\u001b[0m\n",
      "\u001b[35m[2020-07-25:14:06:44:INFO] Sniff delimiter as ','\u001b[0m\n",
      "\u001b[35m[2020-07-25:14:06:44:INFO] Determined delimiter of CSV input is ','\u001b[0m\n",
      "\u001b[35m[2020-07-25:14:06:45:INFO] Sniff delimiter as ','\u001b[0m\n",
      "\u001b[35m[2020-07-25:14:06:45:INFO] Determined delimiter of CSV input is ','\u001b[0m\n",
      "\u001b[34m[2020-07-25:14:06:47:INFO] Sniff delimiter as ','\u001b[0m\n",
      "\u001b[34m[2020-07-25:14:06:47:INFO] Determined delimiter of CSV input is ','\u001b[0m\n",
      "\u001b[34m[2020-07-25:14:06:47:INFO] Sniff delimiter as ','\u001b[0m\n",
      "\u001b[34m[2020-07-25:14:06:47:INFO] Determined delimiter of CSV input is ','\u001b[0m\n",
      "\u001b[34m[2020-07-25:14:06:47:INFO] Sniff delimiter as ','\u001b[0m\n",
      "\u001b[34m[2020-07-25:14:06:47:INFO] Determined delimiter of CSV input is ','\u001b[0m\n",
      "\u001b[34m[2020-07-25:14:06:47:INFO] Sniff delimiter as ','\u001b[0m\n",
      "\u001b[34m[2020-07-25:14:06:47:INFO] Determined delimiter of CSV input is ','\u001b[0m\n",
      "\u001b[35m[2020-07-25:14:06:47:INFO] Sniff delimiter as ','\u001b[0m\n",
      "\u001b[35m[2020-07-25:14:06:47:INFO] Determined delimiter of CSV input is ','\u001b[0m\n",
      "\u001b[35m[2020-07-25:14:06:47:INFO] Sniff delimiter as ','\u001b[0m\n",
      "\u001b[35m[2020-07-25:14:06:47:INFO] Determined delimiter of CSV input is ','\u001b[0m\n",
      "\u001b[35m[2020-07-25:14:06:47:INFO] Sniff delimiter as ','\u001b[0m\n",
      "\u001b[35m[2020-07-25:14:06:47:INFO] Determined delimiter of CSV input is ','\u001b[0m\n",
      "\u001b[35m[2020-07-25:14:06:47:INFO] Sniff delimiter as ','\u001b[0m\n",
      "\u001b[35m[2020-07-25:14:06:47:INFO] Determined delimiter of CSV input is ','\u001b[0m\n",
      "\u001b[34m[2020-07-25:14:06:49:INFO] Sniff delimiter as ','\u001b[0m\n",
      "\u001b[34m[2020-07-25:14:06:49:INFO] Determined delimiter of CSV input is ','\u001b[0m\n",
      "\u001b[34m[2020-07-25:14:06:49:INFO] Sniff delimiter as ','\u001b[0m\n",
      "\u001b[34m[2020-07-25:14:06:49:INFO] Determined delimiter of CSV input is ','\u001b[0m\n",
      "\u001b[34m[2020-07-25:14:06:49:INFO] Sniff delimiter as ','\u001b[0m\n",
      "\u001b[34m[2020-07-25:14:06:49:INFO] Determined delimiter of CSV input is ','\u001b[0m\n",
      "\u001b[35m[2020-07-25:14:06:49:INFO] Sniff delimiter as ','\u001b[0m\n",
      "\u001b[35m[2020-07-25:14:06:49:INFO] Determined delimiter of CSV input is ','\u001b[0m\n",
      "\u001b[35m[2020-07-25:14:06:49:INFO] Sniff delimiter as ','\u001b[0m\n",
      "\u001b[35m[2020-07-25:14:06:49:INFO] Determined delimiter of CSV input is ','\u001b[0m\n",
      "\u001b[35m[2020-07-25:14:06:49:INFO] Sniff delimiter as ','\u001b[0m\n",
      "\u001b[35m[2020-07-25:14:06:49:INFO] Determined delimiter of CSV input is ','\u001b[0m\n",
      "\n",
      "\u001b[34m[2020-07-25:14:06:52:INFO] Sniff delimiter as ','\u001b[0m\n",
      "\u001b[34m[2020-07-25:14:06:52:INFO] Determined delimiter of CSV input is ','\u001b[0m\n",
      "\u001b[35m[2020-07-25:14:06:52:INFO] Sniff delimiter as ','\u001b[0m\n",
      "\u001b[35m[2020-07-25:14:06:52:INFO] Determined delimiter of CSV input is ','\u001b[0m\n",
      "\u001b[34m[2020-07-25:14:06:52:INFO] Sniff delimiter as ','\u001b[0m\n",
      "\u001b[34m[2020-07-25:14:06:52:INFO] Determined delimiter of CSV input is ','\u001b[0m\n",
      "\u001b[35m[2020-07-25:14:06:52:INFO] Sniff delimiter as ','\u001b[0m\n",
      "\u001b[35m[2020-07-25:14:06:52:INFO] Determined delimiter of CSV input is ','\u001b[0m\n",
      "\u001b[34m[2020-07-25:14:06:54:INFO] Sniff delimiter as ','\u001b[0m\n",
      "\u001b[34m[2020-07-25:14:06:54:INFO] Determined delimiter of CSV input is ','\u001b[0m\n",
      "\u001b[34m[2020-07-25:14:06:54:INFO] Sniff delimiter as ','\u001b[0m\n",
      "\u001b[34m[2020-07-25:14:06:54:INFO] Determined delimiter of CSV input is ','\u001b[0m\n",
      "\u001b[34m[2020-07-25:14:06:54:INFO] Sniff delimiter as ','\u001b[0m\n",
      "\u001b[35m[2020-07-25:14:06:54:INFO] Sniff delimiter as ','\u001b[0m\n",
      "\u001b[35m[2020-07-25:14:06:54:INFO] Determined delimiter of CSV input is ','\u001b[0m\n",
      "\u001b[35m[2020-07-25:14:06:54:INFO] Sniff delimiter as ','\u001b[0m\n",
      "\u001b[35m[2020-07-25:14:06:54:INFO] Determined delimiter of CSV input is ','\u001b[0m\n",
      "\u001b[35m[2020-07-25:14:06:54:INFO] Sniff delimiter as ','\u001b[0m\n",
      "\u001b[34m[2020-07-25:14:06:54:INFO] Determined delimiter of CSV input is ','\u001b[0m\n",
      "\u001b[34m[2020-07-25:14:06:54:INFO] Sniff delimiter as ','\u001b[0m\n",
      "\u001b[34m[2020-07-25:14:06:54:INFO] Determined delimiter of CSV input is ','\u001b[0m\n",
      "\u001b[35m[2020-07-25:14:06:54:INFO] Determined delimiter of CSV input is ','\u001b[0m\n",
      "\u001b[35m[2020-07-25:14:06:54:INFO] Sniff delimiter as ','\u001b[0m\n",
      "\u001b[35m[2020-07-25:14:06:54:INFO] Determined delimiter of CSV input is ','\u001b[0m\n",
      "\u001b[34m[2020-07-25:14:06:56:INFO] Sniff delimiter as ','\u001b[0m\n",
      "\u001b[34m[2020-07-25:14:06:56:INFO] Determined delimiter of CSV input is ','\u001b[0m\n",
      "\u001b[34m[2020-07-25:14:06:56:INFO] Sniff delimiter as ','\u001b[0m\n",
      "\u001b[34m[2020-07-25:14:06:56:INFO] Determined delimiter of CSV input is ','\u001b[0m\n",
      "\u001b[35m[2020-07-25:14:06:56:INFO] Sniff delimiter as ','\u001b[0m\n",
      "\u001b[35m[2020-07-25:14:06:56:INFO] Determined delimiter of CSV input is ','\u001b[0m\n",
      "\u001b[35m[2020-07-25:14:06:56:INFO] Sniff delimiter as ','\u001b[0m\n",
      "\u001b[35m[2020-07-25:14:06:56:INFO] Determined delimiter of CSV input is ','\u001b[0m\n",
      "\u001b[34m[2020-07-25:14:06:57:INFO] Sniff delimiter as ','\u001b[0m\n",
      "\u001b[34m[2020-07-25:14:06:57:INFO] Determined delimiter of CSV input is ','\u001b[0m\n",
      "\u001b[34m[2020-07-25:14:06:57:INFO] Sniff delimiter as ','\u001b[0m\n",
      "\u001b[34m[2020-07-25:14:06:57:INFO] Determined delimiter of CSV input is ','\u001b[0m\n",
      "\u001b[35m[2020-07-25:14:06:57:INFO] Sniff delimiter as ','\u001b[0m\n",
      "\u001b[35m[2020-07-25:14:06:57:INFO] Determined delimiter of CSV input is ','\u001b[0m\n",
      "\u001b[35m[2020-07-25:14:06:57:INFO] Sniff delimiter as ','\u001b[0m\n",
      "\u001b[35m[2020-07-25:14:06:57:INFO] Determined delimiter of CSV input is ','\u001b[0m\n",
      "\u001b[34m[2020-07-25:14:06:59:INFO] Sniff delimiter as ','\u001b[0m\n",
      "\u001b[35m[2020-07-25:14:06:59:INFO] Sniff delimiter as ','\u001b[0m\n",
      "\u001b[34m[2020-07-25:14:06:59:INFO] Determined delimiter of CSV input is ','\u001b[0m\n",
      "\u001b[34m[2020-07-25:14:06:59:INFO] Sniff delimiter as ','\u001b[0m\n",
      "\u001b[34m[2020-07-25:14:06:59:INFO] Determined delimiter of CSV input is ','\u001b[0m\n",
      "\u001b[35m[2020-07-25:14:06:59:INFO] Determined delimiter of CSV input is ','\u001b[0m\n",
      "\u001b[35m[2020-07-25:14:06:59:INFO] Sniff delimiter as ','\u001b[0m\n",
      "\u001b[35m[2020-07-25:14:06:59:INFO] Determined delimiter of CSV input is ','\u001b[0m\n"
     ]
    }
   ],
   "source": [
    "xgb_transformer.wait()"
   ]
  },
  {
   "cell_type": "markdown",
   "metadata": {},
   "source": [
    "Now the transform job has executed and the result, the estimated sentiment of each review, has been saved on S3. Since we would rather work on this file locally we can perform a bit of notebook magic to copy the file to the `data_dir`."
   ]
  },
  {
   "cell_type": "code",
   "execution_count": 34,
   "metadata": {},
   "outputs": [
    {
     "name": "stdout",
     "output_type": "stream",
     "text": [
      "Completed 256.0 KiB/371.5 KiB (3.4 MiB/s) with 1 file(s) remaining\r",
      "Completed 371.5 KiB/371.5 KiB (4.7 MiB/s) with 1 file(s) remaining\r",
      "download: s3://sagemaker-us-west-2-216538981855/xgboost-200725-1341-005-e195dab9-2020-07-25-14-03-02-377/test.csv.out to ../data/xgboost/test.csv.out\r\n"
     ]
    }
   ],
   "source": [
    "!aws s3 cp --recursive $xgb_transformer.output_path $data_dir"
   ]
  },
  {
   "cell_type": "markdown",
   "metadata": {},
   "source": [
    "The last step is now to read in the output from our model, convert the output to something a little more usable, in this case we want the sentiment to be either `1` (positive) or `0` (negative), and then compare to the ground truth labels."
   ]
  },
  {
   "cell_type": "code",
   "execution_count": 35,
   "metadata": {},
   "outputs": [],
   "source": [
    "predictions = pd.read_csv(os.path.join(data_dir, 'test.csv.out'), header=None)\n",
    "predictions = [round(num) for num in predictions.squeeze().values]"
   ]
  },
  {
   "cell_type": "code",
   "execution_count": 36,
   "metadata": {},
   "outputs": [
    {
     "data": {
      "text/plain": [
       "0.86664"
      ]
     },
     "execution_count": 36,
     "metadata": {},
     "output_type": "execute_result"
    }
   ],
   "source": [
    "from sklearn.metrics import accuracy_score\n",
    "accuracy_score(test_y, predictions)"
   ]
  },
  {
   "cell_type": "markdown",
   "metadata": {},
   "source": [
    "## Optional: Clean up\n",
    "\n",
    "The default notebook instance on SageMaker doesn't have a lot of excess disk space available. As you continue to complete and execute notebooks you will eventually fill up this disk space, leading to errors which can be difficult to diagnose. Once you are completely finished using a notebook it is a good idea to remove the files that you created along the way. Of course, you can do this from the terminal or from the notebook hub if you would like. The cell below contains some commands to clean up the created files from within the notebook."
   ]
  },
  {
   "cell_type": "code",
   "execution_count": 37,
   "metadata": {},
   "outputs": [],
   "source": [
    "# First we will remove all of the files contained in the data_dir directory\n",
    "!rm $data_dir/*\n",
    "\n",
    "# And then we delete the directory itself\n",
    "!rmdir $data_dir\n",
    "\n",
    "# Similarly we will remove the files in the cache_dir directory and the directory itself\n",
    "!rm $cache_dir/*\n",
    "!rmdir $cache_dir"
   ]
  },
  {
   "cell_type": "code",
   "execution_count": null,
   "metadata": {},
   "outputs": [],
   "source": []
  }
 ],
 "metadata": {
  "kernelspec": {
   "display_name": "conda_python3",
   "language": "python",
   "name": "conda_python3"
  },
  "language_info": {
   "codemirror_mode": {
    "name": "ipython",
    "version": 3
   },
   "file_extension": ".py",
   "mimetype": "text/x-python",
   "name": "python",
   "nbconvert_exporter": "python",
   "pygments_lexer": "ipython3",
   "version": "3.6.10"
  }
 },
 "nbformat": 4,
 "nbformat_minor": 2
}

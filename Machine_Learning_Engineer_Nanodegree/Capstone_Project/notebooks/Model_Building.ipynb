{
 "cells": [
  {
   "cell_type": "markdown",
   "metadata": {},
   "source": [
    "To do a quick recap of previous steps, we first provide a brief description of each of the variables we build before. \n",
    "\n",
    "\n",
    "## Variables Dictionary \n",
    "\n",
    "Some of the variables that we have added in the feature engineer step are: \n",
    "\n",
    "* `offer completed`. Number of completed offers \n",
    "* `offer viewed`. Number of viewed offers \n",
    "* `offer recieved`. Number of offers received.\n",
    "* `CR`. Offer's completition rate. \n",
    "* `AR`. Offer's attractiveness rate: \n",
    "* `DFR`. Difficulty rate. \n",
    "* `DDR`. Duration rate. \n",
    "* `RR`. Reward rate. \n",
    "* `avg_time_to_view_offer`. Average time in hours to view the offer. \n",
    "* `avg_time_to_complete_offer`. Average time in hours to complete the offer. \n",
    "* `avg_time_complete_to_view_offer`. Average time in hours to complete from viewing the offer. \n",
    "* `OC_H`. Frequency of High Income customers who completed the offer. \n",
    "* `OR_H`. Frequency of High Income customers who received the offer.\t\n",
    "* `OV_H`. Frequency of High Income customers who viewed the offer.\n",
    "* `OC_S`. Frequency of Standard Income customers who completed the offer. \n",
    "* `OR_S`. Frequency of Standard Income customers who received the offer. \t\n",
    "* `OV_S`. Frequency of Standard Income customers who viewed the offer.\t\n",
    "* `OC_T`. Frequency of Top Income customers who completed the offer.\t\n",
    "* `OR_T`. Frequency of Top Income customers who received the offer.\t\n",
    "* `OV_T`. Frequency of Top Income customers who viewed the offer.\n",
    "* `OC_days_antiquity_mean`. Average antiquity in days of customer who completed the offer. \n",
    "* `OR_days_antiquity_mean`. Average antiquity in days of customer who received the offer.\n",
    "* `OV_days_antiquity_mean`. Average antiquity in days of customer who viewed the offer.\n",
    "* `OC_months_antiquity_mean`. Average antiquity in months of customer who completed the offer.\n",
    "* `OR_months_antiquity_mean`. Average antiquity in months of customer who received the offer.\n",
    "* `OV_months_antiquity_mean`. Average antiquity in months of customer who viewed the offer."
   ]
  },
  {
   "cell_type": "code",
   "execution_count": 1,
   "metadata": {},
   "outputs": [
    {
     "data": {
      "text/html": [
       "<div>\n",
       "<style scoped>\n",
       "    .dataframe tbody tr th:only-of-type {\n",
       "        vertical-align: middle;\n",
       "    }\n",
       "\n",
       "    .dataframe tbody tr th {\n",
       "        vertical-align: top;\n",
       "    }\n",
       "\n",
       "    .dataframe thead th {\n",
       "        text-align: right;\n",
       "    }\n",
       "</style>\n",
       "<table border=\"1\" class=\"dataframe\">\n",
       "  <thead>\n",
       "    <tr style=\"text-align: right;\">\n",
       "      <th></th>\n",
       "      <th>reward</th>\n",
       "      <th>channels</th>\n",
       "      <th>difficulty</th>\n",
       "      <th>duration</th>\n",
       "      <th>offer_type</th>\n",
       "      <th>id</th>\n",
       "      <th>offer completed</th>\n",
       "      <th>offer received</th>\n",
       "      <th>offer viewed</th>\n",
       "      <th>CR</th>\n",
       "      <th>AR</th>\n",
       "      <th>DFR</th>\n",
       "      <th>DDR</th>\n",
       "      <th>RR</th>\n",
       "      <th>avg_time_to_view_offer</th>\n",
       "      <th>avg_time_to_complete_offer</th>\n",
       "      <th>avg_time_complete_to_view_offer</th>\n",
       "      <th>OC_H</th>\n",
       "      <th>OR_H</th>\n",
       "      <th>OV_H</th>\n",
       "      <th>OC_S</th>\n",
       "      <th>OR_S</th>\n",
       "      <th>OV_S</th>\n",
       "      <th>OC_T</th>\n",
       "      <th>OR_T</th>\n",
       "      <th>OV_T</th>\n",
       "      <th>OC_days_antiquity_mean</th>\n",
       "      <th>OR_days_antiquity_mean</th>\n",
       "      <th>OV_days_antiquity_mean</th>\n",
       "      <th>OC_months_antiquity_mean</th>\n",
       "      <th>OR_months_antiquity_mean</th>\n",
       "      <th>OV_months_antiquity_mean</th>\n",
       "    </tr>\n",
       "  </thead>\n",
       "  <tbody>\n",
       "    <tr>\n",
       "      <th>0</th>\n",
       "      <td>10</td>\n",
       "      <td>['email', 'mobile', 'social']</td>\n",
       "      <td>10</td>\n",
       "      <td>7</td>\n",
       "      <td>bogo</td>\n",
       "      <td>ae264e3637204a6fb9bb56bc8210ddfd</td>\n",
       "      <td>3688.0</td>\n",
       "      <td>7658.0</td>\n",
       "      <td>6716.0</td>\n",
       "      <td>0.48</td>\n",
       "      <td>0.88</td>\n",
       "      <td>0.70</td>\n",
       "      <td>2.65</td>\n",
       "      <td>1.0</td>\n",
       "      <td>22.86</td>\n",
       "      <td>65.01</td>\n",
       "      <td>42.14</td>\n",
       "      <td>59.41</td>\n",
       "      <td>49.42</td>\n",
       "      <td>47.64</td>\n",
       "      <td>30.32</td>\n",
       "      <td>43.19</td>\n",
       "      <td>46.05</td>\n",
       "      <td>10.26</td>\n",
       "      <td>7.40</td>\n",
       "      <td>6.31</td>\n",
       "      <td>576.28</td>\n",
       "      <td>531.77</td>\n",
       "      <td>529.36</td>\n",
       "      <td>19.22</td>\n",
       "      <td>17.73</td>\n",
       "      <td>17.65</td>\n",
       "    </tr>\n",
       "    <tr>\n",
       "      <th>1</th>\n",
       "      <td>10</td>\n",
       "      <td>['web', 'email', 'mobile', 'social']</td>\n",
       "      <td>10</td>\n",
       "      <td>5</td>\n",
       "      <td>bogo</td>\n",
       "      <td>4d5c57ea9a6940dd891ad53e9dbe8da0</td>\n",
       "      <td>3331.0</td>\n",
       "      <td>7593.0</td>\n",
       "      <td>7298.0</td>\n",
       "      <td>0.44</td>\n",
       "      <td>0.96</td>\n",
       "      <td>0.70</td>\n",
       "      <td>2.24</td>\n",
       "      <td>1.0</td>\n",
       "      <td>17.97</td>\n",
       "      <td>50.57</td>\n",
       "      <td>32.60</td>\n",
       "      <td>58.73</td>\n",
       "      <td>48.88</td>\n",
       "      <td>49.09</td>\n",
       "      <td>29.76</td>\n",
       "      <td>43.43</td>\n",
       "      <td>43.33</td>\n",
       "      <td>11.50</td>\n",
       "      <td>7.68</td>\n",
       "      <td>7.58</td>\n",
       "      <td>586.30</td>\n",
       "      <td>530.80</td>\n",
       "      <td>529.60</td>\n",
       "      <td>19.53</td>\n",
       "      <td>17.69</td>\n",
       "      <td>17.64</td>\n",
       "    </tr>\n",
       "    <tr>\n",
       "      <th>2</th>\n",
       "      <td>5</td>\n",
       "      <td>['web', 'email', 'mobile']</td>\n",
       "      <td>5</td>\n",
       "      <td>7</td>\n",
       "      <td>bogo</td>\n",
       "      <td>9b98b8c7a33c4b65b9aebfe6a799e6d9</td>\n",
       "      <td>4354.0</td>\n",
       "      <td>7677.0</td>\n",
       "      <td>4171.0</td>\n",
       "      <td>0.57</td>\n",
       "      <td>0.54</td>\n",
       "      <td>0.62</td>\n",
       "      <td>2.65</td>\n",
       "      <td>1.0</td>\n",
       "      <td>27.83</td>\n",
       "      <td>72.90</td>\n",
       "      <td>45.07</td>\n",
       "      <td>53.51</td>\n",
       "      <td>48.47</td>\n",
       "      <td>56.56</td>\n",
       "      <td>37.55</td>\n",
       "      <td>44.03</td>\n",
       "      <td>37.60</td>\n",
       "      <td>8.93</td>\n",
       "      <td>7.50</td>\n",
       "      <td>5.83</td>\n",
       "      <td>591.64</td>\n",
       "      <td>534.68</td>\n",
       "      <td>555.77</td>\n",
       "      <td>19.71</td>\n",
       "      <td>17.82</td>\n",
       "      <td>18.52</td>\n",
       "    </tr>\n",
       "  </tbody>\n",
       "</table>\n",
       "</div>"
      ],
      "text/plain": [
       "   reward                              channels  difficulty  duration  \\\n",
       "0      10         ['email', 'mobile', 'social']          10         7   \n",
       "1      10  ['web', 'email', 'mobile', 'social']          10         5   \n",
       "2       5            ['web', 'email', 'mobile']           5         7   \n",
       "\n",
       "  offer_type                                id  offer completed  \\\n",
       "0       bogo  ae264e3637204a6fb9bb56bc8210ddfd           3688.0   \n",
       "1       bogo  4d5c57ea9a6940dd891ad53e9dbe8da0           3331.0   \n",
       "2       bogo  9b98b8c7a33c4b65b9aebfe6a799e6d9           4354.0   \n",
       "\n",
       "   offer received  offer viewed    CR    AR   DFR   DDR   RR  \\\n",
       "0          7658.0        6716.0  0.48  0.88  0.70  2.65  1.0   \n",
       "1          7593.0        7298.0  0.44  0.96  0.70  2.24  1.0   \n",
       "2          7677.0        4171.0  0.57  0.54  0.62  2.65  1.0   \n",
       "\n",
       "   avg_time_to_view_offer  avg_time_to_complete_offer  \\\n",
       "0                   22.86                       65.01   \n",
       "1                   17.97                       50.57   \n",
       "2                   27.83                       72.90   \n",
       "\n",
       "   avg_time_complete_to_view_offer   OC_H   OR_H   OV_H   OC_S   OR_S   OV_S  \\\n",
       "0                            42.14  59.41  49.42  47.64  30.32  43.19  46.05   \n",
       "1                            32.60  58.73  48.88  49.09  29.76  43.43  43.33   \n",
       "2                            45.07  53.51  48.47  56.56  37.55  44.03  37.60   \n",
       "\n",
       "    OC_T  OR_T  OV_T  OC_days_antiquity_mean  OR_days_antiquity_mean  \\\n",
       "0  10.26  7.40  6.31                  576.28                  531.77   \n",
       "1  11.50  7.68  7.58                  586.30                  530.80   \n",
       "2   8.93  7.50  5.83                  591.64                  534.68   \n",
       "\n",
       "   OV_days_antiquity_mean  OC_months_antiquity_mean  OR_months_antiquity_mean  \\\n",
       "0                  529.36                     19.22                     17.73   \n",
       "1                  529.60                     19.53                     17.69   \n",
       "2                  555.77                     19.71                     17.82   \n",
       "\n",
       "   OV_months_antiquity_mean  \n",
       "0                     17.65  \n",
       "1                     17.64  \n",
       "2                     18.52  "
      ]
     },
     "execution_count": 1,
     "metadata": {},
     "output_type": "execute_result"
    }
   ],
   "source": [
    "import pandas as pd \n",
    "import numpy as np \n",
    "\n",
    "# Set output preferences \n",
    "pd.set_option('display.max_columns', None)\n",
    "pd.set_option('display.precision', 2)\n",
    "\n",
    "# Load data \n",
    "df_for_model = pd.read_csv('data/df_for_model.csv')\n",
    "\n",
    "# Verify \n",
    "assert df_for_model.shape[0] > 0, \"Data is null\"\n",
    "\n",
    "# Quick view \n",
    "df_for_model.head(3)"
   ]
  },
  {
   "cell_type": "markdown",
   "metadata": {},
   "source": [
    "## Objective \n",
    "\n",
    "Despite only having 8 observations of offers, we choose to tackle a regression problem (particularly a linear model) with the variable `CR` and `AR` as objective variables. For example, if we decide to predict the completition rate (CR), we would consider variables like `avg_time_to_complete_offer`, `OC_H`, etc. In mathematical formulation, we have a linear model \n",
    "\n",
    "$$ CR = \\alpha + \\beta_{1}\\text{avg_time_to_complete_offer} + \\beta_{2}\\text{OC_H} + \\beta_{3}\\text{OC_S} + ...,  $$\n",
    "\n",
    "plus other variables to consider, where $\\alpha$ is the slope and we could take a bayesian or frequentist approach to estimate the set of coefficients $\\beta_{1}, \\beta_{2}, ...,$. To do that, we first need to handle the remaining categorical variables `offer_type`."
   ]
  },
  {
   "cell_type": "markdown",
   "metadata": {},
   "source": [
    "## Handling Categorical Variables\n",
    "\n",
    "To distinguish betwen a `bogo` or `discount` offer, we're going to binary encode the values. \n",
    "\n",
    "* `bogo` ---> 1 \n",
    "* `discount` ---> 0"
   ]
  },
  {
   "cell_type": "code",
   "execution_count": 2,
   "metadata": {},
   "outputs": [],
   "source": [
    "type_dict = {\n",
    "    'bogo': 1, \n",
    "    'discount': 0\n",
    "}\n",
    "\n",
    "df_for_model.offer_type = df_for_model.offer_type.map(type_dict)"
   ]
  },
  {
   "cell_type": "markdown",
   "metadata": {},
   "source": [
    "## Why a Bayesian Regression Model?\n",
    "\n",
    "There are some assumptions that should be satisfied for a Linear Regression model, like the variables should be normally distributed or the variance is homokedastic. However, as we only have 8 observations, this is difficult to achieve. In that  case, we could go for a bayesian approach, basically it works by updating the final knowledge (the posterior)  with the distribution of the new data that is coming (the likelihood) multplied by the initial belief (the prior). Scikit learn provides a Bayesian Linear Regression model assuming that the covariates are distributed normally, for more see [here](https://scikit-learn.org/stable/auto_examples/linear_model/plot_bayesian_ridge.html#sphx-glr-auto-examples-linear-model-plot-bayesian-ridge-py).\n",
    "\n",
    "As we don't have enough sample, we're going to boostrap `n` time the data, that is, if we have $k$ observation we're going to sample with replacemente $k-m$ samples with $m \\geq 1$, then split the data in train-test and fit the model. Finally, our metric will be the Mean Absolute Percentage Error \n",
    "\n",
    "$$ MAPE = \\dfrac{1}{n}\\sum_{n}\\dfrac{y_{n}-\\hat{y_{n}}}{y_{n}}, $$\n",
    "\n",
    "where $y_{n}$ is the real value and $\\hat{y_{n}}$ is the predicted value. \n",
    "\n",
    "For the `Bayesian Ridge` estimator notice that we set `compute_score=True` because we want to calculate log marginal likelihood at every iteration, in other words, how good is our model doing. Additionally, `normalize=True` is set to have the covariates on the same scale. \n",
    "\n",
    "## Boostraping the data? \n",
    "\n",
    "As we only have eight samples, we can perform boostrap to estimate the error. Given a sample of size $n$, boostrap works by generating $m$ samples of size $n$ with replacement. For a theoretical description, check out this [article](https://towardsdatascience.com/an-introduction-to-the-bootstrap-method-58bcb51b4d60), the image below is taken from that article.\n",
    "\n",
    "![bootstrap.png](figs/bootstrap.png)"
   ]
  },
  {
   "cell_type": "code",
   "execution_count": 3,
   "metadata": {},
   "outputs": [],
   "source": [
    "from sklearn.model_selection import train_test_split\n",
    "from sklearn.linear_model import BayesianRidge\n",
    "\n",
    "# Define MAPE \n",
    "def mape(y_true, y_pred):  \n",
    "    return np.sum(np.abs((y_true - y_pred)/y_true)*(1/len(y_true)))*100\n",
    "\n",
    "# Define Bayesian Regression with Boostrap samples \n",
    "def reg_bootstrap(X,Y,n,size): \n",
    "    '''\n",
    "       Perform Bayesian regression with n boostrap samples\n",
    "       defined by size\n",
    "    '''\n",
    "    mape_scores = []\n",
    "    pred_std = []\n",
    "    params = []\n",
    "    \n",
    "    for _ in range(n): \n",
    "        # Bootstrap data \n",
    "        X_sampled = X.sample(n=size, replace=True)\n",
    "        Y_sampled = Y[X_sampled.index]\n",
    "\n",
    "        # Split in train-test \n",
    "        X_train, X_test, y_train, y_test = train_test_split(X_sampled, Y_sampled, test_size=0.5)\n",
    "\n",
    "        # Initialize Bayesian Model\n",
    "        clf = BayesianRidge(compute_score=True, normalize=True)\n",
    "        \n",
    "        # Fit model\n",
    "        clf.fit(X_train, y_train)\n",
    "        \n",
    "        # Predictions\n",
    "        y_pred, y_std = clf.predict(X_test, return_std=True)\n",
    "        \n",
    "        # Store score \n",
    "        mape_scores.append(mape(y_pred, y_test))\n",
    "        pred_std.append(np.mean(y_std))\n",
    "        \n",
    "    return mape_scores, pred_std"
   ]
  },
  {
   "cell_type": "code",
   "execution_count": 5,
   "metadata": {},
   "outputs": [
    {
     "name": "stdout",
     "output_type": "stream",
     "text": [
      "CPU times: user 837 ms, sys: 12 ms, total: 849 ms\n",
      "Wall time: 849 ms\n"
     ]
    }
   ],
   "source": [
    "%%time\n",
    "# Set covariates, target variable\n",
    "covariates = [\n",
    "              'offer_type',\n",
    "              'DFR',\n",
    "              'DDR', \n",
    "              'RR', \n",
    "              'avg_time_to_complete_offer',\n",
    "              'avg_time_complete_to_view_offer', \n",
    "              'OC_H', \n",
    "              'OC_S', \n",
    "              'OC_T',  \n",
    "              'OC_months_antiquity_mean'\n",
    "             ]\n",
    "target_variable = 'CR'\n",
    "\n",
    "# Filter by target, covariates \n",
    "X, Y = df_for_model[covariates], df_for_model[target_variable]\n",
    "\n",
    "mape_scores, pred_std = reg_bootstrap(X, Y, n=50, size=8)"
   ]
  },
  {
   "cell_type": "markdown",
   "metadata": {},
   "source": [
    "We see that most of the time the MAPE score is between 5 and 20%, with an average of 12%. However, there are some particular cases that this value can go above 50, that is an accuracy below 50%, but most of the time we're confident that this accuracy could go between 80% and 95%. "
   ]
  },
  {
   "cell_type": "code",
   "execution_count": 119,
   "metadata": {},
   "outputs": [
    {
     "name": "stdout",
     "output_type": "stream",
     "text": [
      "Average MAPE Score: 12.065674959237056\n"
     ]
    },
    {
     "data": {
      "text/plain": [
       "Text(0.5, 1.0, 'Mape Score by iteration')"
      ]
     },
     "execution_count": 119,
     "metadata": {},
     "output_type": "execute_result"
    },
    {
     "data": {
      "image/png": "[encoded data removed]",
      "text/plain": [
       "<Figure size 1008x432 with 1 Axes>"
      ]
     },
     "metadata": {},
     "output_type": "display_data"
    }
   ],
   "source": [
    "print(f'Average MAPE Score: {np.mean(mape_scores)}')\n",
    "plt.style.use('ggplot')\n",
    "plt.figure(figsize=(14,6))\n",
    "plt.plot(mape_scores)\n",
    "plt.xlabel('Iteration')\n",
    "plt.ylabel('MAPE Score')\n",
    "plt.grid(False)\n",
    "plt.title('Mape Score by iteration')"
   ]
  },
  {
   "cell_type": "markdown",
   "metadata": {},
   "source": [
    "Equally likely, most of the time the model was confident about its predictions, with an average standard deviation prediction of 0.03 units away from the predicted value. "
   ]
  },
  {
   "cell_type": "code",
   "execution_count": 131,
   "metadata": {},
   "outputs": [
    {
     "name": "stdout",
     "output_type": "stream",
     "text": [
      "Average Standard Deviaton of Prediction: 0.03970706186609471\n"
     ]
    },
    {
     "data": {
      "text/plain": [
       "Text(0.5, 1.0, 'Prediction Standard Deviation by iteration')"
      ]
     },
     "execution_count": 131,
     "metadata": {},
     "output_type": "execute_result"
    },
    {
     "data": {
      "image/png": "[encoded data removed]",
      "text/plain": [
       "<Figure size 1008x432 with 1 Axes>"
      ]
     },
     "metadata": {},
     "output_type": "display_data"
    }
   ],
   "source": [
    "print(f'Average Standard Deviaton of Prediction: {np.mean(pred_std)}')\n",
    "plt.style.use('ggplot')\n",
    "plt.figure(figsize=(14,6))\n",
    "plt.plot(pred_std, color='blue')\n",
    "plt.xlabel('Iteration')\n",
    "plt.ylabel('Average Standard Deviaton')\n",
    "plt.grid(False)\n",
    "plt.title('Prediction Standard Deviation by iteration')"
   ]
  },
  {
   "cell_type": "markdown",
   "metadata": {},
   "source": [
    "## Upload data to S3 \n",
    "\n",
    "Finally, before deploying the model, we upload the files to an S3 bucket."
   ]
  },
  {
   "cell_type": "code",
   "execution_count": 17,
   "metadata": {},
   "outputs": [
    {
     "name": "stdout",
     "output_type": "stream",
     "text": [
      "Path created: data/train.csv\n"
     ]
    },
    {
     "data": {
      "text/plain": [
       "'s3://sagemaker-us-west-2-216538981855/capstone_project'"
      ]
     },
     "execution_count": 17,
     "metadata": {},
     "output_type": "execute_result"
    }
   ],
   "source": [
    "from helpers import make_csv\n",
    "import sagemaker\n",
    "\n",
    "# Make csv file \n",
    "make_csv(X, Y, filename='train.csv', data_dir='data')\n",
    "\n",
    "# Define session and role\n",
    "sagemaker_session = sagemaker.Session()\n",
    "role = sagemaker.get_execution_role()\n",
    "\n",
    "# create an S3 bucket\n",
    "bucket = sagemaker_session.default_bucket()\n",
    "\n",
    "# set prefix, a descriptive name for a directory  \n",
    "prefix = 'capstone_project'\n",
    "\n",
    "# upload all data to S3\n",
    "sagemaker_session.upload_data(bucket=bucket, path='data', key_prefix=prefix)"
   ]
  },
  {
   "cell_type": "markdown",
   "metadata": {},
   "source": [
    "## Recap \n",
    "\n",
    "We decided to build a Bayesian Linear Regression model to predict the completition rate of each offer. Basically, we choose a bayesian approach because we have very few observations (only eight), to mitigate this issue we choose to generate $n$ samples through bootstraping of the same size as the origina sample. On average, the $MAPE$ is around 12% and the prediction confidence or standard deviations is on average .03. A good model given the limitations of the data. \n",
    "\n",
    "In the following notebook `Model_Deployment` we're going to be using the SageMaker's SKlearn estimator to deploy the Bayesian Linear Regression Model."
   ]
  }
 ],
 "metadata": {
  "kernelspec": {
   "display_name": "conda_python3",
   "language": "python",
   "name": "conda_python3"
  },
  "language_info": {
   "codemirror_mode": {
    "name": "ipython",
    "version": 3
   },
   "file_extension": ".py",
   "mimetype": "text/x-python",
   "name": "python",
   "nbconvert_exporter": "python",
   "pygments_lexer": "ipython3",
   "version": "3.6.10"
  }
 },
 "nbformat": 4,
 "nbformat_minor": 4
}

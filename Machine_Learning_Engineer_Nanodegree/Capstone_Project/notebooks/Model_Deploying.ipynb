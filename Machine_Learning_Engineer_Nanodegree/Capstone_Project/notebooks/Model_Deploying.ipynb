{
 "cells": [
  {
   "cell_type": "markdown",
   "metadata": {},
   "source": [
    "## Writing a SageMaker SkLearn Estimator \n",
    "\n",
    "To deploy a custom SkLearn model through sagemaker. We will write a function `train.py` that class the SkLearn Estimator. The following code is highly based on the code from the project of Case Studies section. \n",
    "\n",
    "```python\n",
    "import argparse\n",
    "import os\n",
    "import json \n",
    "import pandas as pd\n",
    "import joblib\n",
    "\n",
    "from sklearn.linear_model import BayesianRidge\n",
    "\n",
    "\n",
    "# Provided model load function (Taken from Case Studies Project)\n",
    "def model_fn(model_dir):\n",
    "    \"\"\"Load model from the model_dir. This is the same model that is saved\n",
    "    in the main if statement.\n",
    "    \"\"\"\n",
    "    print(\"Loading model.\")\n",
    "    \n",
    "    # load using joblib\n",
    "    model = joblib.load(os.path.join(model_dir, \"model.joblib\"))\n",
    "    print(\"Done loading model.\")\n",
    "    \n",
    "    return model\n",
    "\n",
    "if __name__ == '__main__':\n",
    "    \n",
    "    \n",
    "    # Initialize an ArgumentParser\n",
    "    parser = argparse.ArgumentParser()\n",
    "\n",
    "    # SageMaker parameters, like the directories for training data and saving models; set automatically\n",
    "    # Do not need to change\n",
    "    parser.add_argument('--output-data-dir', type=str, default=os.environ['SM_OUTPUT_DATA_DIR'])\n",
    "    parser.add_argument('--model-dir', type=str, default=os.environ['SM_MODEL_DIR'])\n",
    "    parser.add_argument('--data-dir', type=str, default=os.environ['SM_CHANNEL_TRAIN'])\n",
    "    \n",
    "    # Add model parameters \n",
    "    parser.add_argument('-p', '--classifier_params', type=str, default='{}', required=True,\n",
    "                        help='Classifier Params (default: \"\")')\n",
    "    # NOTE: A dictionary should be passed as a string. See more here: \n",
    "    #https://stackoverflow.com/questions/18608812/accepting-a-dictionary-as-an-argument-with-argparse-and-python\n",
    "                        \n",
    "    # args holds all passed-in arguments\n",
    "    args = parser.parse_args()\n",
    "\n",
    "    # Read in csv training file\n",
    "    training_dir = args.data_dir\n",
    "    train_data = pd.read_csv(os.path.join(training_dir, \"train.csv\"), header=None, names=None)\n",
    "\n",
    "    # Labels are in the first column\n",
    "    train_y = train_data.iloc[:,0]\n",
    "    train_x = train_data.iloc[:,1:]\n",
    "    \n",
    "    # Load params \n",
    "    mdl_args = json.loads(args.classifier_params)\n",
    "    \n",
    "    # Define model \n",
    "    model = BayesianRidge(**mdl_args)    \n",
    "    \n",
    "    # Train Model\n",
    "    model.fit(train_x, train_y)\n",
    "\n",
    "    # Save the trained model\n",
    "    joblib.dump(model, os.path.join(args.model_dir, \"model.joblib\"))\n",
    "```"
   ]
  },
  {
   "cell_type": "markdown",
   "metadata": {},
   "source": [
    "## Train and deploy the Model"
   ]
  },
  {
   "cell_type": "code",
   "execution_count": 26,
   "metadata": {},
   "outputs": [],
   "source": [
    "from sagemaker.sklearn.estimator import SKLearn \n",
    "import sagemaker\n",
    "\n",
    "# Define session and role\n",
    "sagemaker_session = sagemaker.Session()\n",
    "role = sagemaker.get_execution_role()\n",
    "\n",
    "# create an S3 bucket\n",
    "bucket = sagemaker_session.default_bucket()\n",
    "\n",
    "sklearn_estimator = SKLearn(\n",
    "                    entry_point=\"train.py\",\n",
    "                    source_dir='source_sklearn', \n",
    "                    role=role, \n",
    "                    train_instance_count=1, \n",
    "                    train_instance_type='ml.c4.xlarge', \n",
    "                    sagemaker_session=sagemaker_session, \n",
    "                    framework_version='0.23-1', \n",
    "                    hyperparameters={\n",
    "                        'p':str('{\"compute_score\":true,\"normalize\":true}')\n",
    "                        }, \n",
    "                    output_path=f's3://{bucket}/{prefix}'\n",
    "                    )"
   ]
  },
  {
   "cell_type": "code",
   "execution_count": 27,
   "metadata": {},
   "outputs": [
    {
     "name": "stderr",
     "output_type": "stream",
     "text": [
      "'s3_input' class will be renamed to 'TrainingInput' in SageMaker Python SDK v2.\n"
     ]
    },
    {
     "name": "stdout",
     "output_type": "stream",
     "text": [
      "2020-08-12 00:15:59 Starting - Starting the training job...\n",
      "2020-08-12 00:16:03 Starting - Launching requested ML instances......\n",
      "2020-08-12 00:17:21 Starting - Preparing the instances for training......\n",
      "2020-08-12 00:18:07 Downloading - Downloading input data...\n",
      "2020-08-12 00:18:37 Training - Downloading the training image...\n",
      "2020-08-12 00:19:30 Uploading - Uploading generated training model\n",
      "2020-08-12 00:19:30 Completed - Training job completed\n",
      "\u001b[34m2020-08-12 00:19:17,887 sagemaker-training-toolkit INFO     Imported framework sagemaker_sklearn_container.training\u001b[0m\n",
      "\u001b[34m2020-08-12 00:19:17,889 sagemaker-training-toolkit INFO     No GPUs detected (normal if no gpus installed)\u001b[0m\n",
      "\u001b[34m2020-08-12 00:19:17,898 sagemaker_sklearn_container.training INFO     Invoking user training script.\u001b[0m\n",
      "\u001b[34m2020-08-12 00:19:18,234 sagemaker-training-toolkit INFO     No GPUs detected (normal if no gpus installed)\u001b[0m\n",
      "\u001b[34m2020-08-12 00:19:18,250 sagemaker-training-toolkit INFO     No GPUs detected (normal if no gpus installed)\u001b[0m\n",
      "\u001b[34m2020-08-12 00:19:18,261 sagemaker-training-toolkit INFO     No GPUs detected (normal if no gpus installed)\u001b[0m\n",
      "\u001b[34m2020-08-12 00:19:18,273 sagemaker-training-toolkit INFO     Invoking user script\n",
      "\u001b[0m\n",
      "\u001b[34mTraining Env:\n",
      "\u001b[0m\n",
      "\u001b[34m{\n",
      "    \"additional_framework_parameters\": {},\n",
      "    \"channel_input_dirs\": {\n",
      "        \"train\": \"/opt/ml/input/data/train\"\n",
      "    },\n",
      "    \"current_host\": \"algo-1\",\n",
      "    \"framework_module\": \"sagemaker_sklearn_container.training:main\",\n",
      "    \"hosts\": [\n",
      "        \"algo-1\"\n",
      "    ],\n",
      "    \"hyperparameters\": {\n",
      "        \"p\": \"{\\\"compute_score\\\":true,\\\"normalize\\\":true}\"\n",
      "    },\n",
      "    \"input_config_dir\": \"/opt/ml/input/config\",\n",
      "    \"input_data_config\": {\n",
      "        \"train\": {\n",
      "            \"TrainingInputMode\": \"File\",\n",
      "            \"S3DistributionType\": \"FullyReplicated\",\n",
      "            \"RecordWrapperType\": \"None\"\n",
      "        }\n",
      "    },\n",
      "    \"input_dir\": \"/opt/ml/input\",\n",
      "    \"is_master\": true,\n",
      "    \"job_name\": \"sagemaker-scikit-learn-2020-08-12-00-15-59-775\",\n",
      "    \"log_level\": 20,\n",
      "    \"master_hostname\": \"algo-1\",\n",
      "    \"model_dir\": \"/opt/ml/model\",\n",
      "    \"module_dir\": \"s3://sagemaker-us-west-2-216538981855/sagemaker-scikit-learn-2020-08-12-00-15-59-775/source/sourcedir.tar.gz\",\n",
      "    \"module_name\": \"train\",\n",
      "    \"network_interface_name\": \"eth0\",\n",
      "    \"num_cpus\": 4,\n",
      "    \"num_gpus\": 0,\n",
      "    \"output_data_dir\": \"/opt/ml/output/data\",\n",
      "    \"output_dir\": \"/opt/ml/output\",\n",
      "    \"output_intermediate_dir\": \"/opt/ml/output/intermediate\",\n",
      "    \"resource_config\": {\n",
      "        \"current_host\": \"algo-1\",\n",
      "        \"hosts\": [\n",
      "            \"algo-1\"\n",
      "        ],\n",
      "        \"network_interface_name\": \"eth0\"\n",
      "    },\n",
      "    \"user_entry_point\": \"train.py\"\u001b[0m\n",
      "\u001b[34m}\n",
      "\u001b[0m\n",
      "\u001b[34mEnvironment variables:\n",
      "\u001b[0m\n",
      "\u001b[34mSM_HOSTS=[\"algo-1\"]\u001b[0m\n",
      "\u001b[34mSM_NETWORK_INTERFACE_NAME=eth0\u001b[0m\n",
      "\u001b[34mSM_HPS={\"p\":\"{\\\"compute_score\\\":true,\\\"normalize\\\":true}\"}\u001b[0m\n",
      "\u001b[34mSM_USER_ENTRY_POINT=train.py\u001b[0m\n",
      "\u001b[34mSM_FRAMEWORK_PARAMS={}\u001b[0m\n",
      "\u001b[34mSM_RESOURCE_CONFIG={\"current_host\":\"algo-1\",\"hosts\":[\"algo-1\"],\"network_interface_name\":\"eth0\"}\u001b[0m\n",
      "\u001b[34mSM_INPUT_DATA_CONFIG={\"train\":{\"RecordWrapperType\":\"None\",\"S3DistributionType\":\"FullyReplicated\",\"TrainingInputMode\":\"File\"}}\u001b[0m\n",
      "\u001b[34mSM_OUTPUT_DATA_DIR=/opt/ml/output/data\u001b[0m\n",
      "\u001b[34mSM_CHANNELS=[\"train\"]\u001b[0m\n",
      "\u001b[34mSM_CURRENT_HOST=algo-1\u001b[0m\n",
      "\u001b[34mSM_MODULE_NAME=train\u001b[0m\n",
      "\u001b[34mSM_LOG_LEVEL=20\u001b[0m\n",
      "\u001b[34mSM_FRAMEWORK_MODULE=sagemaker_sklearn_container.training:main\u001b[0m\n",
      "\u001b[34mSM_INPUT_DIR=/opt/ml/input\u001b[0m\n",
      "\u001b[34mSM_INPUT_CONFIG_DIR=/opt/ml/input/config\u001b[0m\n",
      "\u001b[34mSM_OUTPUT_DIR=/opt/ml/output\u001b[0m\n",
      "\u001b[34mSM_NUM_CPUS=4\u001b[0m\n",
      "\u001b[34mSM_NUM_GPUS=0\u001b[0m\n",
      "\u001b[34mSM_MODEL_DIR=/opt/ml/model\u001b[0m\n",
      "\u001b[34mSM_MODULE_DIR=s3://sagemaker-us-west-2-216538981855/sagemaker-scikit-learn-2020-08-12-00-15-59-775/source/sourcedir.tar.gz\u001b[0m\n",
      "\u001b[34mSM_TRAINING_ENV={\"additional_framework_parameters\":{},\"channel_input_dirs\":{\"train\":\"/opt/ml/input/data/train\"},\"current_host\":\"algo-1\",\"framework_module\":\"sagemaker_sklearn_container.training:main\",\"hosts\":[\"algo-1\"],\"hyperparameters\":{\"p\":\"{\\\"compute_score\\\":true,\\\"normalize\\\":true}\"},\"input_config_dir\":\"/opt/ml/input/config\",\"input_data_config\":{\"train\":{\"RecordWrapperType\":\"None\",\"S3DistributionType\":\"FullyReplicated\",\"TrainingInputMode\":\"File\"}},\"input_dir\":\"/opt/ml/input\",\"is_master\":true,\"job_name\":\"sagemaker-scikit-learn-2020-08-12-00-15-59-775\",\"log_level\":20,\"master_hostname\":\"algo-1\",\"model_dir\":\"/opt/ml/model\",\"module_dir\":\"s3://sagemaker-us-west-2-216538981855/sagemaker-scikit-learn-2020-08-12-00-15-59-775/source/sourcedir.tar.gz\",\"module_name\":\"train\",\"network_interface_name\":\"eth0\",\"num_cpus\":4,\"num_gpus\":0,\"output_data_dir\":\"/opt/ml/output/data\",\"output_dir\":\"/opt/ml/output\",\"output_intermediate_dir\":\"/opt/ml/output/intermediate\",\"resource_config\":{\"current_host\":\"algo-1\",\"hosts\":[\"algo-1\"],\"network_interface_name\":\"eth0\"},\"user_entry_point\":\"train.py\"}\u001b[0m\n",
      "\u001b[34mSM_USER_ARGS=[\"-p\",\"{\\\"compute_score\\\":true,\\\"normalize\\\":true}\"]\u001b[0m\n",
      "\u001b[34mSM_OUTPUT_INTERMEDIATE_DIR=/opt/ml/output/intermediate\u001b[0m\n",
      "\u001b[34mSM_CHANNEL_TRAIN=/opt/ml/input/data/train\u001b[0m\n",
      "\u001b[34mSM_HP_P={\"compute_score\":true,\"normalize\":true}\u001b[0m\n",
      "\u001b[34mPYTHONPATH=/opt/ml/code:/miniconda3/bin:/miniconda3/lib/python37.zip:/miniconda3/lib/python3.7:/miniconda3/lib/python3.7/lib-dynload:/miniconda3/lib/python3.7/site-packages\n",
      "\u001b[0m\n",
      "\u001b[34mInvoking script with the following command:\n",
      "\u001b[0m\n",
      "\u001b[34m/miniconda3/bin/python train.py -p {\"compute_score\":true,\"normalize\":true}\n",
      "\n",
      "\u001b[0m\n",
      "\u001b[34m2020-08-12 00:19:19,839 sagemaker-training-toolkit INFO     Reporting training SUCCESS\u001b[0m\n",
      "Training seconds: 83\n",
      "Billable seconds: 83\n",
      "CPU times: user 479 ms, sys: 16.4 ms, total: 496 ms\n",
      "Wall time: 3min 41s\n"
     ]
    }
   ],
   "source": [
    "%%time \n",
    "\n",
    "# Train estimator with data uploaded to s3 \n",
    "sklearn_estimator.fit({'train':f's3://{bucket}/{prefix}/train.csv'})"
   ]
  },
  {
   "cell_type": "code",
   "execution_count": 29,
   "metadata": {},
   "outputs": [
    {
     "name": "stderr",
     "output_type": "stream",
     "text": [
      "Parameter image will be renamed to image_uri in SageMaker Python SDK v2.\n"
     ]
    },
    {
     "name": "stdout",
     "output_type": "stream",
     "text": [
      "---------------------!CPU times: user 386 ms, sys: 8.39 ms, total: 394 ms\n",
      "Wall time: 10min 32s\n"
     ]
    }
   ],
   "source": [
    "%%time\n",
    "# Deploy mmodel\n",
    "predictor = sklearn_estimator.deploy(instance_type=\"ml.t2.medium\", initial_instance_count=1)"
   ]
  },
  {
   "cell_type": "markdown",
   "metadata": {},
   "source": [
    "## Testing different Offers \n",
    "\n",
    "Suppose that a Starbuck's Project Manager comes to us with three different offers (that target three different customer segments) that they would like to assess their completition rate `CR`. Once our model is deployed, we can use it to predict which one has the highest `Completition Rate (CR)` in order to make a recommendation to the Starbuck's Project Manager. \n",
    "\n",
    "Based on what he told us about the offers, we resume each one of them in the following, additionnally we represent each offer0s characteristics as a one dimensional array.\n",
    "\n",
    "* **Bogo for Top Income and Recent Users**. As we're focusing on Top Income Users, we assume that the population that the variable `OC_T` is a little bit more representative in our completition population, image above a 12%, and users who has a median antiquity of 15 months. Additionnaly as they are top income user we assume that the difficulty rate `DFR` is near 60%. Our vector of data will be like \n",
    "\n",
    "```python\n",
    "X_test_offer1 = np.array([1,0.50,np.sqrt(14),1.0,80,35,58,30,12,15])\n",
    "```\n",
    "\n",
    "* **Bogo for Standard Income and Old Users**. We consider an old user as those with average antiquity higher than 24 months.\n",
    "\n",
    "```python\n",
    "X_test_offer2 = np.array([1,0.80,np.sqrt(7),1.0,50,45,55,35,10,24])\n",
    "```\n",
    "\n",
    "* **Bogo for High Income and all users**. We've seen before that High Income users tendo to complete more often the offers than Top or Standard Income, those we assume that this group represent nearly 70% of the completition sample. \n",
    "\n",
    "```python\n",
    "X_test_offer3 = np.array([1,0.60,np.sqrt(12),1.0,50,45,65,27,8,20])\n",
    "```"
   ]
  },
  {
   "cell_type": "code",
   "execution_count": 50,
   "metadata": {},
   "outputs": [
    {
     "name": "stdout",
     "output_type": "stream",
     "text": [
      "Offer 1  predicted CR: 33.992025821141816 \n",
      " Offer 2  predicted CR: 78.07046826678777 \n",
      " Offer 3  predicted CR: 75.67366728846704\n"
     ]
    }
   ],
   "source": [
    "# Generate random data \n",
    "X_test_offer1 = np.array([1,0.60,np.sqrt(14),1.0,80,35,58,30,12,15]).reshape(1, -1)\n",
    "X_test_offer2 = np.array([1,0.80,np.sqrt(7),1.0,50,45,55,35,10,24]).reshape(1, -1)\n",
    "X_test_offer3 = np.array([1,0.60,np.sqrt(12),1.0,50,45,65,27,8,20]).reshape(1, -1)\n",
    "\n",
    "# Make predictions\n",
    "offer1_pred = predictor.predict(X_test_offer1)\n",
    "offer2_pred = predictor.predict(X_test_offer2)\n",
    "offer3_pred = predictor.predict(X_test_offer3)\n",
    "\n",
    "# Print results \n",
    "print(f'Offer 1  predicted CR: {offer1_pred[0]*100}', '\\n',\n",
    "      f'Offer 2  predicted CR: {offer2_pred[0]*100}', '\\n',\n",
    "      f'Offer 3  predicted CR: {offer3_pred[0]*100}') "
   ]
  },
  {
   "cell_type": "markdown",
   "metadata": {},
   "source": [
    "We see that **offer 2 has the highest predicted CR**. As we remember from the data, the higest completition rate of the past offers was above 65%, that is, if we decide to go with offer two or offer three we will expect it to be a total success compare to prior offers. \n",
    "\n",
    "Before, recommending to go with the offer 2, we should take into consideration some limitations that are inherent to offers, for example, it may be that offer 3 is cheaper and faster to deply as offer two, or that it is not valid for all the Starbucks stores, imagine that only High Income people go to a certain Starbucks because it is in an exclusive residential zone. Thus, we should take into consideration these limitations, before giving a final recommendation. "
   ]
  },
  {
   "cell_type": "markdown",
   "metadata": {},
   "source": [
    "## Further Go \n",
    "\n",
    "Naturally, there were some things that could also be tested and try out. For example, more feature engineer or approaching the problem by predicting the Attractiveness Rate `AR`, or testing out some other models. \n",
    "\n",
    "At the end, the data spoke by itself, that is, it was not difficult to visualize the hidden relationships between the variables and most importantly to frame the problem as predicting the Completition Rate. "
   ]
  },
  {
   "cell_type": "markdown",
   "metadata": {},
   "source": [
    "## Clean Resources"
   ]
  },
  {
   "cell_type": "code",
   "execution_count": 51,
   "metadata": {},
   "outputs": [],
   "source": [
    "# Delete endpoint \n",
    "predictor.delete_endpoint()"
   ]
  },
  {
   "cell_type": "code",
   "execution_count": 53,
   "metadata": {},
   "outputs": [
    {
     "data": {
      "text/plain": [
       "[{'ResponseMetadata': {'RequestId': 'D676A6717FC15C00',\n",
       "   'HostId': 'DTtJda5ii8u1hc82vTXvv1KxlNp/wJT7A43agaJBc+loYayilYS006nhZh2p+xhv0cKjyLHaBCE=',\n",
       "   'HTTPStatusCode': 200,\n",
       "   'HTTPHeaders': {'x-amz-id-2': 'DTtJda5ii8u1hc82vTXvv1KxlNp/wJT7A43agaJBc+loYayilYS006nhZh2p+xhv0cKjyLHaBCE=',\n",
       "    'x-amz-request-id': 'D676A6717FC15C00',\n",
       "    'date': 'Wed, 12 Aug 2020 01:53:56 GMT',\n",
       "    'connection': 'close',\n",
       "    'content-type': 'application/xml',\n",
       "    'transfer-encoding': 'chunked',\n",
       "    'server': 'AmazonS3'},\n",
       "   'RetryAttempts': 0},\n",
       "  'Deleted': [{'Key': 'sagemaker-scikit-learn-2020-08-12-00-15-59-775/source/sourcedir.tar.gz'},\n",
       "   {'Key': 'sagemaker-scikit-learn-2020-08-11-23-49-14-814/source/sourcedir.tar.gz'},\n",
       "   {'Key': 'capstone_project/sagemaker-scikit-learn-2020-08-12-00-15-59-775/debug-output/training_job_end.ts'},\n",
       "   {'Key': 'capstone_project/user_purchase.csv'},\n",
       "   {'Key': 'capstone_project/transcript.json'},\n",
       "   {'Key': 'sagemaker-scikit-learn-2020-08-12-00-06-28-056/source/sourcedir.tar.gz'},\n",
       "   {'Key': 'capstone_project/profile.json'},\n",
       "   {'Key': 'capstone_project/train.csv'},\n",
       "   {'Key': 'sagemaker-scikit-learn-2020-08-11-23-44-54-890/source/sourcedir.tar.gz'},\n",
       "   {'Key': 'sagemaker-scikit-learn-2020-08-11-23-57-19-663/source/sourcedir.tar.gz'},\n",
       "   {'Key': 'capstone_project/df_for_model.csv'},\n",
       "   {'Key': 'sagemaker-scikit-learn-2020-08-12-00-10-49-564/source/sourcedir.tar.gz'},\n",
       "   {'Key': 'sagemaker-scikit-learn-2020-08-12-00-01-46-909/source/sourcedir.tar.gz'},\n",
       "   {'Key': 'capstone_project/transcript.csv'},\n",
       "   {'Key': 'capstone_project/profile_imputed.csv'},\n",
       "   {'Key': 'capstone_project/offer_events_pivot.csv'},\n",
       "   {'Key': 'capstone_project/sagemaker-scikit-learn-2020-08-12-00-15-59-775/output/model.tar.gz'},\n",
       "   {'Key': 'sagemaker-scikit-learn-2020-08-11-23-52-19-002/source/sourcedir.tar.gz'},\n",
       "   {'Key': 'capstone_project/portfolio.json'}]}]"
      ]
     },
     "execution_count": 53,
     "metadata": {},
     "output_type": "execute_result"
    }
   ],
   "source": [
    "import boto3\n",
    "\n",
    "# Delete all resources\n",
    "bucket_to_delete = boto3.resource('s3').Bucket(bucket)\n",
    "bucket_to_delete.objects.all().delete()"
   ]
  }
 ],
 "metadata": {
  "kernelspec": {
   "display_name": "conda_python3",
   "language": "python",
   "name": "conda_python3"
  },
  "language_info": {
   "codemirror_mode": {
    "name": "ipython",
    "version": 3
   },
   "file_extension": ".py",
   "mimetype": "text/x-python",
   "name": "python",
   "nbconvert_exporter": "python",
   "pygments_lexer": "ipython3",
   "version": "3.6.10"
  }
 },
 "nbformat": 4,
 "nbformat_minor": 4
}
